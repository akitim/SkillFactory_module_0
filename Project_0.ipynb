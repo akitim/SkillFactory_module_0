{
  "nbformat": 4,
  "nbformat_minor": 0,
  "metadata": {
    "colab": {
      "name": "Project 0.ipynb",
      "provenance": [],
      "collapsed_sections": [],
      "authorship_tag": "ABX9TyMKOtGE/UsCGpz7S15NNteX",
      "include_colab_link": true
    },
    "kernelspec": {
      "name": "python3",
      "display_name": "Python 3"
    },
    "language_info": {
      "name": "python"
    }
  },
  "cells": [
    {
      "cell_type": "markdown",
      "metadata": {
        "id": "view-in-github",
        "colab_type": "text"
      },
      "source": [
        "<a href=\"https://colab.research.google.com/github/akitim/SkillFactory_module_0/blob/main/Project_0.ipynb\" target=\"_parent\"><img src=\"https://colab.research.google.com/assets/colab-badge.svg\" alt=\"Open In Colab\"/></a>"
      ]
    },
    {
      "cell_type": "code",
      "metadata": {
        "colab": {
          "base_uri": "https://localhost:8080/",
          "height": 154
        },
        "id": "V8yWBOb9M7ls",
        "outputId": "028e6a17-6435-4901-b90f-a120a4626713"
      },
      "source": [
        " import numpy as np\n",
        "    \n",
        "def binary_search_v1(number):\n",
        "    ''' Сначала задаём случайное число, а потом уменьшаем интервал поиска в два раза за каждую попытку; границей\n",
        "        (большей или меньшей - в зависимости от того, больше или меньше текущего загаданное число) становится целочисленная середина\n",
        "        интервала поиска предыдущей итерации. Функция принимает загаданное число и возвращает число попыток.'''\n",
        "    count = 1\n",
        "    min_guess = 1\n",
        "    max_guess = 101 #чтобы захватить число 100\n",
        "    guess = np.random.randint(1,101) # первая попытка - случайное число от 1 до 100\n",
        "    while number != guess:\n",
        "        count += 1 #считаем количество попыток\n",
        "        if number > guess:\n",
        "            min_guess = guess\n",
        "            guess = min_guess + (max_guess - min_guess) // 2\n",
        "        elif number < guess:\n",
        "            max_guess = guess\n",
        "            guess = min_guess + (max_guess - min_guess) // 2\n",
        "    return count # выход из цикла, если угадали \n",
        " \n",
        "def binary_search_v2(number):\n",
        "    ''' Первое число - 50, а потом уменьшаем интервал поиска в два раза за каждую попытку; границей\n",
        "        (большей или меньшей - в зависимости от того, больше или меньше текущего загаданное число) становится целочисленная середина\n",
        "        интервала поиска предыдущей итерации. Функция принимает загаданное число и возвращает число попыток.'''\n",
        "    count = 1\n",
        "    min_guess = 1\n",
        "    max_guess = 101\n",
        "    guess = 50 # первая попытка\n",
        "    while number != guess:\n",
        "        count += 1 #считаем количество попыток\n",
        "        if number > guess:\n",
        "            min_guess = guess\n",
        "            guess = min_guess + (max_guess - min_guess) // 2\n",
        "        elif number < guess:\n",
        "            max_guess = guess\n",
        "            guess = min_guess + (max_guess - min_guess) // 2\n",
        "    return count # выход из цикла, если угадали \n",
        " \n",
        "def binary_search_v2_recurr (number, min_ = 1,  max_ = 101, guess = 33, count = 0):\n",
        "    ''' Сначала задаём случайное число, а потом рекурсивно уменьшаем интервал поиска в два раза за каждую попытку; границей\n",
        "        (большей или меньшей - в зависимости от того, больше или меньше текущего загаданное число) становится целочисленная середина\n",
        "        интервала поиска предыдущей итерации. Функция принимает загаданное число и возвращает число попыток.'''\n",
        "    count += 1\n",
        "    if number == guess:\n",
        "        return count # выход из рекурсии, если угадали    \n",
        "    if number > guess:\n",
        "        min_ = guess\n",
        "        guess = min_ + (max_ - min_) // 2\n",
        "        return binary_search_v2_recurr (number, min_, max_, guess, count)\n",
        "    elif number < guess:\n",
        "        max_ = guess\n",
        "        guess = min_ + (max_ - min_) // 2\n",
        "        return binary_search_v2_recurr (number, min_, max_, guess, count)\n",
        " \n",
        "def binary_search_v3(number):\n",
        "    ''' Сначала задаём случайное число, а потом уменьшаем интервал поиска случайным образом; границей\n",
        "        (большей или меньшей - в зависимости от того, больше или меньше текущего загаданное число) становится целочисленная середина\n",
        "        интервала поиска предыдущей итерации. Функция принимает загаданное число и возвращает число попыток.'''\n",
        "    count = 1\n",
        "    min_guess = 1\n",
        "    max_guess = 101\n",
        "    guess = np.random.randint(1,101) # первая попытка - случайное число от 1 до 100\n",
        "    while number != guess:\n",
        "        count += 1 #считаем количество попыток\n",
        "        if number > guess:\n",
        "            min_guess = guess\n",
        "            guess = np.random.randint(min_guess, max_guess)\n",
        "        elif number < guess:\n",
        "            max_guess = guess\n",
        "            guess = np.random.randint(min_guess, max_guess)\n",
        "    return count # выход из цикла, если угадали\n",
        " \n",
        "def score_game(game_core):\n",
        "    '''Запускаем игру 1000 раз, чтобы узнать, как быстро игра угадывает число'''\n",
        "    count_ls = []\n",
        "    np.random.seed(1)  # фиксируем RANDOM SEED, чтобы эксперимент был воспроизводим!\n",
        "    random_array = np.random.randint(1,101, size=(1000))\n",
        "    for number in random_array:\n",
        "        count_ls.append(game_core(number))\n",
        "    score = int(np.mean(count_ls))\n",
        "    print (f\"Алгоритм {str(game_core)[10:str(game_core).find(' at ') ]} угадывает число в среднем за {score} попыток\")\n",
        "    return score \n",
        " \n",
        "score_game(binary_search_v1) #Алгоритм binary_search_v1 угадывает число в среднем за 6 попыток\n",
        "score_game(binary_search_v2) #Алгоритм binary_search_v2 угадывает число в среднем за 5 попыток\n",
        "score_game(binary_search_v2_recurr) #Алгоритм binary_search_v2_recurr угадывает число в среднем за 5 попыток\n",
        "score_game(binary_search_v3) #Алгоритм binary_search_v3 угадывает число в среднем за 8 попыток\n",
        " \n",
        "''' Выводы: быстрее всего (в среднем за 5 попыток) угадывает число алгоритм, в котором первое число задаётся в диапазоне ~25 - 75, \n",
        "а дальше идёт поиск по двукратно сокращающимся интервалам. В примере в задании интервал поиска сокращается линейно, в то время как при \n",
        "бинарном поиске экспоненциально: за 5 попыток интервал поиска сокращается в среднем в 2^5 = 32 раза, что на 5й попытке даёт интервал со средней длиной 100//32 = 3, на котором число угадывается однозначно'''"
      ],
      "execution_count": 19,
      "outputs": [
        {
          "output_type": "stream",
          "text": [
            "Алгоритм binary_search_v1 угадывает число в среднем за 6 попыток\n",
            "Алгоритм binary_search_v2 угадывает число в среднем за 5 попыток\n",
            "Алгоритм binary_search_v2_recurr угадывает число в среднем за 5 попыток\n",
            "Алгоритм binary_search_v3 угадывает число в среднем за 8 попыток\n"
          ],
          "name": "stdout"
        },
        {
          "output_type": "execute_result",
          "data": {
            "application/vnd.google.colaboratory.intrinsic+json": {
              "type": "string"
            },
            "text/plain": [
              "' Выводы: быстрее всего (в среднем за 5 попыток) угадывает число алгоритм, в котором первое число задаётся в диапазоне ~25 - 75, \\nа дальше идёт поиск по двукратно сокращающимся интервалам. В примере в задании интервал поиска сокращается линейно, в то время как при \\nбинарном поиске экспоненциально: за 5 попыток интервал поиска сокращается в среднем в 2^5 = 32 раза, что на 5й попытке даёт интервал со средней длиной 100//32 = 3, на котором число угадывается однозначно'"
            ]
          },
          "metadata": {
            "tags": []
          },
          "execution_count": 19
        }
      ]
    }
  ]
}