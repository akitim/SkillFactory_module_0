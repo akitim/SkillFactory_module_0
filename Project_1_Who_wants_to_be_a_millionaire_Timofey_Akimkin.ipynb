{
  "nbformat": 4,
  "nbformat_minor": 0,
  "metadata": {
    "colab": {
      "name": "Project 1 Timofey Akimkin.ipynb",
      "provenance": [],
      "include_colab_link": true
    },
    "kernelspec": {
      "display_name": "Python 3",
      "language": "python",
      "name": "python3"
    },
    "language_info": {
      "codemirror_mode": {
        "name": "ipython",
        "version": 3
      },
      "file_extension": ".py",
      "mimetype": "text/x-python",
      "name": "python",
      "nbconvert_exporter": "python",
      "pygments_lexer": "ipython3",
      "version": "3.7.4"
    }
  },
  "cells": [
    {
      "cell_type": "markdown",
      "metadata": {
        "id": "view-in-github",
        "colab_type": "text"
      },
      "source": [
        "<a href=\"https://colab.research.google.com/github/akitim/SkillFactory_projects/blob/main/Project_1_Who_wants_to_be_a_millionaire_Timofey_Akimkin.ipynb\" target=\"_parent\"><img src=\"https://colab.research.google.com/assets/colab-badge.svg\" alt=\"Open In Colab\"/></a>"
      ]
    },
    {
      "cell_type": "code",
      "metadata": {
        "_cell_guid": "b1076dfc-b9ad-4769-8c92-a6c4dae69d19",
        "_uuid": "8f2839f25d086af736a60e9eeb907d3b93b6e0e5",
        "id": "U2D2gTdJVp90",
        "colab": {
          "base_uri": "https://localhost:8080/"
        },
        "outputId": "8b265e8b-4f6f-4069-8461-d60077bd79cb"
      },
      "source": [
        "import numpy as np\n",
        "import pandas as pd\n",
        "import datetime as dt\n",
        "# import seaborn as sns\n",
        "# import matplotlib.pyplot as plt\n",
        "# from collections import Counter\n",
        "\n",
        "import sys\n",
        "from google.colab import drive\n",
        "drive.mount('/content/gdrive', force_remount=True)\n",
        "sys.path.clear\n",
        "sys.path.append('/content/gdrive/MyDrive/SkillFactory')"
      ],
      "execution_count": 1,
      "outputs": [
        {
          "output_type": "stream",
          "text": [
            "Mounted at /content/gdrive\n"
          ],
          "name": "stdout"
        }
      ]
    },
    {
      "cell_type": "code",
      "metadata": {
        "_cell_guid": "79c7e3d0-c299-4dcb-8224-4455121ee9b0",
        "_uuid": "d629ff2d2480ee46fbb7e2d37f6b5fab8052498a",
        "id": "oyGfxL3eVp9-",
        "colab": {
          "base_uri": "https://localhost:8080/",
          "height": 204
        },
        "outputId": "916369f2-657f-4136-d248-7d021bfd35bb"
      },
      "source": [
        "data = pd.read_csv('/content/gdrive/MyDrive/SkillFactory/movie_bd_v5.csv')\n",
        "data.sample(1)"
      ],
      "execution_count": 2,
      "outputs": [
        {
          "output_type": "execute_result",
          "data": {
            "text/html": [
              "<div>\n",
              "<style scoped>\n",
              "    .dataframe tbody tr th:only-of-type {\n",
              "        vertical-align: middle;\n",
              "    }\n",
              "\n",
              "    .dataframe tbody tr th {\n",
              "        vertical-align: top;\n",
              "    }\n",
              "\n",
              "    .dataframe thead th {\n",
              "        text-align: right;\n",
              "    }\n",
              "</style>\n",
              "<table border=\"1\" class=\"dataframe\">\n",
              "  <thead>\n",
              "    <tr style=\"text-align: right;\">\n",
              "      <th></th>\n",
              "      <th>imdb_id</th>\n",
              "      <th>budget</th>\n",
              "      <th>revenue</th>\n",
              "      <th>original_title</th>\n",
              "      <th>cast</th>\n",
              "      <th>director</th>\n",
              "      <th>tagline</th>\n",
              "      <th>overview</th>\n",
              "      <th>runtime</th>\n",
              "      <th>genres</th>\n",
              "      <th>production_companies</th>\n",
              "      <th>release_date</th>\n",
              "      <th>vote_average</th>\n",
              "      <th>release_year</th>\n",
              "    </tr>\n",
              "  </thead>\n",
              "  <tbody>\n",
              "    <tr>\n",
              "      <th>1713</th>\n",
              "      <td>tt0411061</td>\n",
              "      <td>30000000</td>\n",
              "      <td>16930884</td>\n",
              "      <td>88 Minutes</td>\n",
              "      <td>Al Pacino|Alicia Witt|Leelee Sobieski|Amy Bren...</td>\n",
              "      <td>Jon Avnet</td>\n",
              "      <td>He has 88 minutes to solve a murder. His own.</td>\n",
              "      <td>\"88 Minutes\" focuses on a college professor (P...</td>\n",
              "      <td>108</td>\n",
              "      <td>Crime|Mystery|Thriller</td>\n",
              "      <td>TriStar Pictures|Nu Image Entertainment|Bright...</td>\n",
              "      <td>2/14/2007</td>\n",
              "      <td>5.6</td>\n",
              "      <td>2007</td>\n",
              "    </tr>\n",
              "  </tbody>\n",
              "</table>\n",
              "</div>"
            ],
            "text/plain": [
              "        imdb_id    budget   revenue  ... release_date vote_average release_year\n",
              "1713  tt0411061  30000000  16930884  ...    2/14/2007          5.6         2007\n",
              "\n",
              "[1 rows x 14 columns]"
            ]
          },
          "metadata": {
            "tags": []
          },
          "execution_count": 2
        }
      ]
    },
    {
      "cell_type": "code",
      "metadata": {
        "id": "CoYUnagMVp-C"
      },
      "source": [
        "# data.describe()"
      ],
      "execution_count": null,
      "outputs": []
    },
    {
      "cell_type": "markdown",
      "metadata": {
        "id": "DTIt7ezGVp-G"
      },
      "source": [
        "# Предобработка"
      ]
    },
    {
      "cell_type": "code",
      "metadata": {
        "id": "jNb40DwKVp-H",
        "colab": {
          "base_uri": "https://localhost:8080/",
          "height": 451
        },
        "outputId": "10b6ff26-92b4-40ef-e1b2-7b006d54b338"
      },
      "source": [
        "answers = {} # создадим словарь для ответов\n",
        "\n",
        "\n",
        "# тут другие ваши предобработки колонок например:\n",
        "\n",
        "date_sample = data.release_date[0] #\n",
        "if type(date_sample) == str:\n",
        "    data.release_date = data.release_date.apply(lambda x: dt.datetime.strptime(x,'%m/%d/%Y'))\n",
        "\n",
        "# display (data[data.release_date == data.release_date[0]])\n",
        "# print(data.release_date[0].month)\n",
        "# data.release_date = data.release_date.apply(dt.datetime.strptime,args = ('%m/%d/%Y',))\n",
        "\n",
        "data['profit'] = data.revenue - data.budget\n",
        "\n",
        "data.sample(3)\n",
        "\n",
        "#the time given in the dataset is in string format.\n",
        "#So we need to change this in datetime format\n",
        "# ... \"That my dear Balin, is not entirely true\" "
      ],
      "execution_count": null,
      "outputs": [
        {
          "output_type": "execute_result",
          "data": {
            "text/html": [
              "<div>\n",
              "<style scoped>\n",
              "    .dataframe tbody tr th:only-of-type {\n",
              "        vertical-align: middle;\n",
              "    }\n",
              "\n",
              "    .dataframe tbody tr th {\n",
              "        vertical-align: top;\n",
              "    }\n",
              "\n",
              "    .dataframe thead th {\n",
              "        text-align: right;\n",
              "    }\n",
              "</style>\n",
              "<table border=\"1\" class=\"dataframe\">\n",
              "  <thead>\n",
              "    <tr style=\"text-align: right;\">\n",
              "      <th></th>\n",
              "      <th>imdb_id</th>\n",
              "      <th>budget</th>\n",
              "      <th>revenue</th>\n",
              "      <th>original_title</th>\n",
              "      <th>cast</th>\n",
              "      <th>director</th>\n",
              "      <th>tagline</th>\n",
              "      <th>overview</th>\n",
              "      <th>runtime</th>\n",
              "      <th>genres</th>\n",
              "      <th>production_companies</th>\n",
              "      <th>release_date</th>\n",
              "      <th>vote_average</th>\n",
              "      <th>release_year</th>\n",
              "      <th>profit</th>\n",
              "    </tr>\n",
              "  </thead>\n",
              "  <tbody>\n",
              "    <tr>\n",
              "      <th>487</th>\n",
              "      <td>tt1226273</td>\n",
              "      <td>80000000</td>\n",
              "      <td>74901339</td>\n",
              "      <td>Edge of Darkness</td>\n",
              "      <td>Mel Gibson|Ray Winstone|Danny Huston|Shawn Rob...</td>\n",
              "      <td>Martin Campbell</td>\n",
              "      <td>Some secrets take us to the edge.</td>\n",
              "      <td>As a seasoned homicide detective, Thomas Crave...</td>\n",
              "      <td>117</td>\n",
              "      <td>Crime|Drama|Mystery|Thriller</td>\n",
              "      <td>Icon Productions|BBC Films|GK Films|Warner Bros.</td>\n",
              "      <td>2010-01-29</td>\n",
              "      <td>6.0</td>\n",
              "      <td>2010</td>\n",
              "      <td>-5098661</td>\n",
              "    </tr>\n",
              "    <tr>\n",
              "      <th>1698</th>\n",
              "      <td>tt0481369</td>\n",
              "      <td>30000000</td>\n",
              "      <td>77566815</td>\n",
              "      <td>The Number 23</td>\n",
              "      <td>Jim Carrey|Virginia Madsen|Logan Lerman|Danny ...</td>\n",
              "      <td>Joel Schumacher</td>\n",
              "      <td>First it takes hold of your mind...then it tak...</td>\n",
              "      <td>Walter Sparrow is an animal control officer th...</td>\n",
              "      <td>101</td>\n",
              "      <td>Thriller|Drama|Mystery</td>\n",
              "      <td>New Line Cinema|Contrafilm|Firm Films</td>\n",
              "      <td>2007-02-23</td>\n",
              "      <td>6.2</td>\n",
              "      <td>2007</td>\n",
              "      <td>47566815</td>\n",
              "    </tr>\n",
              "    <tr>\n",
              "      <th>303</th>\n",
              "      <td>tt0795351</td>\n",
              "      <td>27000000</td>\n",
              "      <td>29000000</td>\n",
              "      <td>Case 39</td>\n",
              "      <td>RenÃ©e Zellweger|Jodelle Ferland|Ian McShane|K...</td>\n",
              "      <td>Christian Alvart</td>\n",
              "      <td>Some cases should  never be opened.</td>\n",
              "      <td>In her many years as a social worker, Emily Je...</td>\n",
              "      <td>109</td>\n",
              "      <td>Horror|Mystery|Thriller</td>\n",
              "      <td>Paramount Vantage|Anonymous Content|Misher Fil...</td>\n",
              "      <td>2009-08-13</td>\n",
              "      <td>6.0</td>\n",
              "      <td>2009</td>\n",
              "      <td>2000000</td>\n",
              "    </tr>\n",
              "  </tbody>\n",
              "</table>\n",
              "</div>"
            ],
            "text/plain": [
              "        imdb_id    budget   revenue  ... vote_average release_year    profit\n",
              "487   tt1226273  80000000  74901339  ...          6.0         2010  -5098661\n",
              "1698  tt0481369  30000000  77566815  ...          6.2         2007  47566815\n",
              "303   tt0795351  27000000  29000000  ...          6.0         2009   2000000\n",
              "\n",
              "[3 rows x 15 columns]"
            ]
          },
          "metadata": {
            "tags": []
          },
          "execution_count": 40
        }
      ]
    },
    {
      "cell_type": "markdown",
      "metadata": {
        "id": "YxZaH-nPVp-L"
      },
      "source": [
        "# 1. У какого фильма из списка самый большой бюджет?"
      ]
    },
    {
      "cell_type": "markdown",
      "metadata": {
        "id": "Nd-G5gX6Vp-M"
      },
      "source": [
        "Использовать варианты ответов в коде решения запрещено.    \n",
        "Вы думаете и в жизни у вас будут варианты ответов?)"
      ]
    },
    {
      "cell_type": "code",
      "metadata": {
        "id": "uVnXAY5RVp-O"
      },
      "source": [
        "# в словарь вставляем номер вопроса и ваш ответ на него\n",
        "# Пример: \n",
        "#answers['1'] = '2. Spider-Man 3 (tt0413300)'\n",
        "\n",
        "# запишите свой вариант ответа\n",
        "answers['1'] = 'Pirates of the Caribbean: On Stranger Tides (tt1298650)'\n",
        "# если ответили верно, можете добавить комментарий со значком \"+\""
      ],
      "execution_count": null,
      "outputs": []
    },
    {
      "cell_type": "code",
      "metadata": {
        "id": "dZwb3m28Vp-S",
        "colab": {
          "base_uri": "https://localhost:8080/"
        },
        "outputId": "8104db09-717e-4d2c-f828-ca746ad80640"
      },
      "source": [
        "# тут пишем ваш код для решения данного вопроса:\n",
        "title = data[data.budget == data.budget.max()].original_title.iloc[0]\n",
        "id = data[data.budget == data.budget.max()].imdb_id.iloc[0]\n",
        "print(title + ' (' + id + ')')"
      ],
      "execution_count": null,
      "outputs": [
        {
          "output_type": "stream",
          "text": [
            "Pirates of the Caribbean: On Stranger Tides (tt1298650)\n"
          ],
          "name": "stdout"
        }
      ]
    },
    {
      "cell_type": "code",
      "metadata": {
        "id": "kj49uH8BnhJt"
      },
      "source": [
        ""
      ],
      "execution_count": null,
      "outputs": []
    },
    {
      "cell_type": "markdown",
      "metadata": {
        "id": "K7L3nbRXVp-X"
      },
      "source": [
        "ВАРИАНТ 2"
      ]
    },
    {
      "cell_type": "code",
      "metadata": {
        "id": "OGaoQI7rVp-X",
        "colab": {
          "base_uri": "https://localhost:8080/"
        },
        "outputId": "678cf8d5-7db1-4712-9aa4-2e0f8137d2b1"
      },
      "source": [
        "# можно добавлять разные варианты решения\n",
        "title = data.query('budget == budget.max()').original_title.iloc[0]\n",
        "id = data.query('budget == budget.max()').imdb_id.iloc[0]\n",
        "print(title + ' (' + id + ')')"
      ],
      "execution_count": null,
      "outputs": [
        {
          "output_type": "stream",
          "text": [
            "Pirates of the Caribbean: On Stranger Tides (tt1298650)\n"
          ],
          "name": "stdout"
        }
      ]
    },
    {
      "cell_type": "markdown",
      "metadata": {
        "id": "FNRbbI3vVp-c"
      },
      "source": [
        "# 2. Какой из фильмов самый длительный (в минутах)?"
      ]
    },
    {
      "cell_type": "code",
      "metadata": {
        "id": "vHAoEXNTVp-d"
      },
      "source": [
        "# думаю логику работы с этим словарем вы уже поняли, \n",
        "# по этому не буду больше его дублировать\n",
        "answers['2'] = 'Gods and Generals (tt0279111)'"
      ],
      "execution_count": null,
      "outputs": []
    },
    {
      "cell_type": "code",
      "metadata": {
        "id": "ot-VX2XrVp-g",
        "colab": {
          "base_uri": "https://localhost:8080/"
        },
        "outputId": "0922cb7a-b0f3-4112-9cbf-217854068b42"
      },
      "source": [
        "data_filtered = data[data.runtime == data.runtime.max()]\n",
        "\n",
        "title = data_filtered.original_title.iloc[0]\n",
        "id = data_filtered.imdb_id.iloc[0]\n",
        "\n",
        "print(title + ' (' + id + ')')\n",
        "\n",
        "#data.query(\"original_title == 'Gods and Generals'\").runtime.values[0]\n",
        "#display(data[data.cast.str.contains('Anthony Hopkins')])\n"
      ],
      "execution_count": null,
      "outputs": [
        {
          "output_type": "stream",
          "text": [
            "Gods and Generals (tt0279111)\n"
          ],
          "name": "stdout"
        }
      ]
    },
    {
      "cell_type": "markdown",
      "metadata": {
        "id": "gqr5viAhRQH3"
      },
      "source": [
        "ВАРИАНТ 2"
      ]
    },
    {
      "cell_type": "code",
      "metadata": {
        "colab": {
          "base_uri": "https://localhost:8080/"
        },
        "id": "0fDqcTEHOj3k",
        "outputId": "3a9da28f-0fff-4e4b-c56b-59b166cf1f87"
      },
      "source": [
        "data_filtered = data.query('runtime == runtime.max()')\n",
        "\n",
        "title = data_filtered.original_title.iloc[0] \n",
        "id = data_filtered.imdb_id.iloc[0]\n",
        "\n",
        "print(title + ' (' + id + ')')"
      ],
      "execution_count": null,
      "outputs": [
        {
          "output_type": "stream",
          "text": [
            "Gods and Generals (tt0279111)\n"
          ],
          "name": "stdout"
        }
      ]
    },
    {
      "cell_type": "markdown",
      "metadata": {
        "id": "bapLlpW8Vp-k"
      },
      "source": [
        "# 3. Какой из фильмов самый короткий (в минутах)?\n",
        "\n",
        "\n",
        "\n"
      ]
    },
    {
      "cell_type": "code",
      "metadata": {
        "id": "YJuabOmVRig_"
      },
      "source": [
        "answers['3'] = 'Winnie the Pooh (tt1449283)'"
      ],
      "execution_count": null,
      "outputs": []
    },
    {
      "cell_type": "code",
      "metadata": {
        "id": "YBxaSHuAVp-l",
        "colab": {
          "base_uri": "https://localhost:8080/"
        },
        "outputId": "1d155e32-91dc-4cf1-a14b-f54f692344a0"
      },
      "source": [
        "data_filtered = data[data.runtime == data.runtime.min()]\n",
        "\n",
        "title = data_filtered.original_title.iloc[0]\n",
        "id = data_filtered.imdb_id.iloc[0]\n",
        "\n",
        "print(title + ' (' + id + ')')\n"
      ],
      "execution_count": null,
      "outputs": [
        {
          "output_type": "stream",
          "text": [
            "Winnie the Pooh (tt1449283)\n"
          ],
          "name": "stdout"
        }
      ]
    },
    {
      "cell_type": "markdown",
      "metadata": {
        "id": "dO1V3L48RSNJ"
      },
      "source": [
        "ВАРИАНТ 2"
      ]
    },
    {
      "cell_type": "code",
      "metadata": {
        "colab": {
          "base_uri": "https://localhost:8080/"
        },
        "id": "Fk_VUwDBRZ03",
        "outputId": "f72c838d-07f1-41a0-8574-32301a973873"
      },
      "source": [
        "data_filtered = data.query('runtime == runtime.min()')\n",
        "\n",
        "title = data_filtered.original_title.iloc[0] \n",
        "id = data_filtered.imdb_id.iloc[0]\n",
        "\n",
        "print(title + ' (' + id + ')')"
      ],
      "execution_count": null,
      "outputs": [
        {
          "output_type": "stream",
          "text": [
            "Winnie the Pooh (tt1449283)\n"
          ],
          "name": "stdout"
        }
      ]
    },
    {
      "cell_type": "markdown",
      "metadata": {
        "id": "TfQbxbfNVp-p"
      },
      "source": [
        "# 4. Какова средняя длительность фильмов?\n"
      ]
    },
    {
      "cell_type": "code",
      "metadata": {
        "colab": {
          "base_uri": "https://localhost:8080/"
        },
        "id": "9zKYSwpER5KS",
        "outputId": "ecd7e556-3593-4663-d008-c39d592ce74d"
      },
      "source": [
        "print (round(data.runtime.mean()))\n",
        "\n",
        "answers['4'] = '110'"
      ],
      "execution_count": null,
      "outputs": [
        {
          "output_type": "stream",
          "text": [
            "110\n"
          ],
          "name": "stdout"
        }
      ]
    },
    {
      "cell_type": "markdown",
      "metadata": {
        "id": "r5TvbnT_Vp-u"
      },
      "source": [
        "# 5. Каково медианное значение длительности фильмов? "
      ]
    },
    {
      "cell_type": "code",
      "metadata": {
        "id": "iBROplKnVp-v",
        "colab": {
          "base_uri": "https://localhost:8080/"
        },
        "outputId": "6214980b-9b43-4832-998f-1343e36a4682"
      },
      "source": [
        "print (round(data.runtime.median()))\n",
        "\n",
        "answers['5'] = '107'"
      ],
      "execution_count": null,
      "outputs": [
        {
          "output_type": "stream",
          "text": [
            "107\n"
          ],
          "name": "stdout"
        }
      ]
    },
    {
      "cell_type": "markdown",
      "metadata": {
        "id": "39P-deDSVp-y"
      },
      "source": [
        "# 6. Какой самый прибыльный фильм?\n",
        "#### Внимание! Здесь и далее под «прибылью» или «убытками» понимается разность между сборами и бюджетом фильма. (прибыль = сборы - бюджет) в нашем датасете это будет (profit = revenue - budget) "
      ]
    },
    {
      "cell_type": "code",
      "metadata": {
        "id": "UYZh4T9WVp-y",
        "colab": {
          "base_uri": "https://localhost:8080/"
        },
        "outputId": "16baf9d8-db17-4f00-8f58-baa507172c8c"
      },
      "source": [
        "# лучше код получения столбца profit вынести в Предобработку что в начале\n",
        "data_filtered = data.query(\"profit == profit.max()\")\n",
        "title = data_filtered.original_title.iloc[0]\n",
        "id = data_filtered.imdb_id.iloc[0]\n",
        "\n",
        "print(title + ' (' + id + ')')\n",
        "\n",
        "answers['6'] = 'Avatar (tt0499549)'"
      ],
      "execution_count": null,
      "outputs": [
        {
          "output_type": "stream",
          "text": [
            "Avatar (tt0499549)\n"
          ],
          "name": "stdout"
        }
      ]
    },
    {
      "cell_type": "markdown",
      "metadata": {
        "id": "M99JmIX4Vp-2"
      },
      "source": [
        "# 7. Какой фильм самый убыточный? "
      ]
    },
    {
      "cell_type": "code",
      "metadata": {
        "id": "w-D2m4XPVp-3",
        "colab": {
          "base_uri": "https://localhost:8080/"
        },
        "outputId": "f0d2c5a1-961a-4f13-fbaf-21675164bc97"
      },
      "source": [
        "data_filtered = data.query(\"profit == profit.min()\")\n",
        "title = data_filtered.original_title.iloc[0]\n",
        "id = data_filtered.imdb_id.iloc[0]\n",
        "\n",
        "print(title + ' (' + id + ')')\n",
        "\n",
        "answers['7'] = 'The Lone Ranger (tt1210819)'"
      ],
      "execution_count": null,
      "outputs": [
        {
          "output_type": "stream",
          "text": [
            "The Lone Ranger (tt1210819)\n"
          ],
          "name": "stdout"
        }
      ]
    },
    {
      "cell_type": "markdown",
      "metadata": {
        "id": "wEOM5ERVVp-6"
      },
      "source": [
        "# 8. У скольких фильмов из датасета объем сборов оказался выше бюджета?"
      ]
    },
    {
      "cell_type": "code",
      "metadata": {
        "id": "y00_7HD6Vp-7",
        "colab": {
          "base_uri": "https://localhost:8080/"
        },
        "outputId": "b8d4343d-9867-4ff4-f588-baad5e3cd18a"
      },
      "source": [
        "data_filtered = data.query(\"profit > 0\")\n",
        "print(len(data_filtered))\n",
        "\n",
        "answers['8'] = 1478\n",
        "\n"
      ],
      "execution_count": null,
      "outputs": [
        {
          "output_type": "stream",
          "text": [
            "1478\n"
          ],
          "name": "stdout"
        }
      ]
    },
    {
      "cell_type": "markdown",
      "metadata": {
        "id": "xhpspA9KVp_A"
      },
      "source": [
        "# 9. Какой фильм оказался самым кассовым в 2008 году?"
      ]
    },
    {
      "cell_type": "code",
      "metadata": {
        "id": "MoUyQr9RVp_B",
        "colab": {
          "base_uri": "https://localhost:8080/"
        },
        "outputId": "2f4b92d5-3d8a-46f0-ec0a-1467d7c65655"
      },
      "source": [
        "data_2008 = data.query(\"release_year == 2008\").query(\"revenue == revenue.max()\")\n",
        "print(data_2008.original_title.iloc[0])\n",
        "\n",
        "answers['9'] = 'The Dark Knight'"
      ],
      "execution_count": null,
      "outputs": [
        {
          "output_type": "stream",
          "text": [
            "The Dark Knight\n"
          ],
          "name": "stdout"
        }
      ]
    },
    {
      "cell_type": "markdown",
      "metadata": {
        "id": "Zi4hDKidVp_F"
      },
      "source": [
        "# 10. Самый убыточный фильм за период с 2012 по 2014 г. (включительно)?\n"
      ]
    },
    {
      "cell_type": "code",
      "metadata": {
        "id": "XqyRmufJVp_F",
        "colab": {
          "base_uri": "https://localhost:8080/"
        },
        "outputId": "0723c711-31e4-4674-bb7b-d4468e032c65"
      },
      "source": [
        "data_filtered = data.query(\"(release_year >= 2012) & (release_year <= 2014)\").query(\"revenue == revenue.min()\")\n",
        "print(data_filtered.original_title.iloc[0])\n",
        "\n",
        "answers['10'] = 'Man of Tai Chi'\n"
      ],
      "execution_count": null,
      "outputs": [
        {
          "output_type": "stream",
          "text": [
            "Man of Tai Chi\n"
          ],
          "name": "stdout"
        }
      ]
    },
    {
      "cell_type": "markdown",
      "metadata": {
        "id": "EA7Sa9dkVp_I"
      },
      "source": [
        "# 11. Какого жанра фильмов больше всего?"
      ]
    },
    {
      "cell_type": "code",
      "metadata": {
        "id": "zsJAwJ8QVp_J",
        "outputId": "dd69b4e4-1e18-4289-8cb1-2c85ca3db874",
        "colab": {
          "base_uri": "https://localhost:8080/"
        }
      },
      "source": [
        "# эту задачу тоже можно решать разными подходами, попробуй реализовать разные варианты\n",
        "# если будешь добавлять функцию - выноси ее в предобработку что в начале\n",
        "# почему такая фамильярность в обращении к студенту?\n",
        "\n",
        "g = data.genres\n",
        "ls = [s.split(\"|\") for s in g ]\n",
        "lsn = [(lsn.append(s2) for s2 in s1) for in ]\n"
      ],
      "execution_count": 4,
      "outputs": [
        {
          "output_type": "execute_result",
          "data": {
            "text/plain": [
              "[['Action', 'Adventure', 'Science Fiction', 'Thriller'],\n",
              " ['Action', 'Adventure', 'Science Fiction', 'Thriller'],\n",
              " ['Adventure', 'Science Fiction', 'Thriller'],\n",
              " ['Action', 'Adventure', 'Science Fiction', 'Fantasy'],\n",
              " ['Action', 'Crime', 'Thriller'],\n",
              " ['Western', 'Drama', 'Adventure', 'Thriller'],\n",
              " ['Science Fiction', 'Action', 'Thriller', 'Adventure'],\n",
              " ['Drama', 'Adventure', 'Science Fiction'],\n",
              " ['Family', 'Animation', 'Adventure', 'Comedy'],\n",
              " ['Comedy', 'Animation', 'Family'],\n",
              " ['Action', 'Adventure', 'Crime'],\n",
              " ['Science Fiction', 'Fantasy', 'Action', 'Adventure'],\n",
              " ['Drama', 'Science Fiction'],\n",
              " ['Action', 'Comedy', 'Science Fiction'],\n",
              " ['Action', 'Adventure', 'Science Fiction'],\n",
              " ['Crime', 'Drama', 'Mystery', 'Western'],\n",
              " ['Crime', 'Action', 'Thriller'],\n",
              " ['Science Fiction', 'Action', 'Adventure'],\n",
              " ['Romance', 'Fantasy', 'Family', 'Drama'],\n",
              " ['War', 'Adventure', 'Science Fiction'],\n",
              " ['Action', 'Family', 'Science Fiction', 'Adventure', 'Mystery'],\n",
              " ['Action', 'Drama'],\n",
              " ['Action', 'Drama', 'Thriller'],\n",
              " ['Drama', 'Romance'],\n",
              " ['Comedy', 'Drama'],\n",
              " ['Action'],\n",
              " ['Comedy'],\n",
              " ['Crime', 'Comedy', 'Action', 'Adventure'],\n",
              " ['Drama', 'Thriller', 'History'],\n",
              " ['Action', 'Science Fiction', 'Thriller'],\n",
              " ['Crime', 'Action', 'Science Fiction'],\n",
              " ['Comedy', 'Music'],\n",
              " ['Thriller', 'Drama'],\n",
              " ['Adventure', 'Horror', 'Comedy'],\n",
              " ['Drama', 'Thriller'],\n",
              " ['Adventure', 'Animation', 'Comedy', 'Family', 'Fantasy'],\n",
              " ['Action', 'Crime', 'Drama', 'Mystery', 'Thriller'],\n",
              " ['Drama', 'Romance'],\n",
              " ['Drama', 'Music'],\n",
              " ['Fantasy', 'Action', 'Adventure'],\n",
              " ['Comedy', 'Action', 'Adventure'],\n",
              " ['Fantasy', 'Drama', 'Romance'],\n",
              " ['Action', 'Adventure', 'Science Fiction'],\n",
              " ['Fantasy', 'Comedy', 'Animation', 'Science Fiction', 'Family'],\n",
              " ['Drama', 'Mystery', 'Romance'],\n",
              " ['Romance', 'Drama'],\n",
              " ['Comedy'],\n",
              " ['Adventure', 'Drama'],\n",
              " ['Action', 'Crime', 'Thriller'],\n",
              " ['Drama'],\n",
              " ['Science Fiction', 'Mystery', 'Thriller'],\n",
              " ['Comedy', 'Adventure'],\n",
              " ['Drama'],\n",
              " ['Mystery', 'Crime', 'Action', 'Thriller', 'Drama'],\n",
              " ['Action', 'Crime', 'Drama', 'Mystery', 'Thriller'],\n",
              " ['Action', 'Adventure', 'Science Fiction'],\n",
              " ['Action', 'Comedy', 'Crime'],\n",
              " ['Romance', 'Comedy', 'Crime', 'Drama'],\n",
              " ['Action', 'Crime', 'Thriller'],\n",
              " ['Thriller', 'Drama', 'Adventure', 'Action', 'History'],\n",
              " ['Drama'],\n",
              " ['Comedy'],\n",
              " ['Drama', 'Thriller', 'War'],\n",
              " ['Crime', 'Thriller'],\n",
              " ['Adventure', 'Family', 'Fantasy'],\n",
              " ['Adventure', 'Animation', 'Comedy', 'Family'],\n",
              " ['Drama'],\n",
              " ['Comedy'],\n",
              " ['Romance', 'Drama'],\n",
              " ['Animation', 'Comedy', 'Family'],\n",
              " ['Family', 'Comedy'],\n",
              " ['Adventure', 'Drama', 'Thriller'],\n",
              " ['Adventure', 'Comedy'],\n",
              " ['Horror', 'Thriller'],\n",
              " ['Crime', 'Thriller'],\n",
              " ['Thriller', 'Mystery'],\n",
              " ['Comedy'],\n",
              " ['Adventure', 'Animation', 'Fantasy'],\n",
              " ['Drama'],\n",
              " ['Romance', 'Comedy'],\n",
              " ['Horror'],\n",
              " ['Action', 'Adventure', 'Comedy', 'Family'],\n",
              " ['Comedy'],\n",
              " ['Comedy'],\n",
              " ['Horror', 'Thriller'],\n",
              " ['Crime', 'Drama'],\n",
              " ['Horror', 'Comedy', 'Fantasy'],\n",
              " ['Action', 'Thriller'],\n",
              " ['Drama'],\n",
              " ['Comedy'],\n",
              " ['Science Fiction', 'Thriller'],\n",
              " ['Thriller', 'Action', 'Crime'],\n",
              " ['Mystery', 'Thriller', 'Fantasy', 'Horror', 'Drama'],\n",
              " ['Comedy', 'Drama', 'Music'],\n",
              " ['Horror', 'Thriller'],\n",
              " ['Drama'],\n",
              " ['Crime', 'Drama', 'Mystery'],\n",
              " ['Family', 'Animation'],\n",
              " ['Adventure', 'Drama', 'Family'],\n",
              " ['Action', 'Drama', 'Crime'],\n",
              " ['Action', 'Crime', 'Comedy'],\n",
              " ['Drama', 'Horror', 'Thriller'],\n",
              " ['Comedy', 'Drama'],\n",
              " ['Drama', 'Science Fiction', 'Thriller'],\n",
              " ['Comedy', 'Drama', 'Music'],\n",
              " ['Drama', 'Thriller'],\n",
              " ['Drama', 'Comedy'],\n",
              " ['Comedy'],\n",
              " ['Drama', 'History'],\n",
              " ['Drama', 'Music', 'Romance'],\n",
              " ['Comedy', 'Drama', 'War'],\n",
              " ['Adventure', 'Comedy', 'Romance'],\n",
              " ['Drama', 'Comedy'],\n",
              " ['Comedy', 'Music', 'War'],\n",
              " ['Drama', 'Adventure', 'Comedy'],\n",
              " ['Comedy'],\n",
              " ['Drama'],\n",
              " ['Drama', 'Music', 'Adventure', 'Fantasy'],\n",
              " ['Adventure', 'Drama', 'Science Fiction'],\n",
              " ['Action', 'Science Fiction', 'Adventure'],\n",
              " ['Action', 'Adventure', 'Science Fiction'],\n",
              " ['Action', 'Thriller'],\n",
              " ['Science Fiction', 'Adventure', 'Thriller'],\n",
              " ['Adventure', 'Fantasy'],\n",
              " ['Adventure', 'Family', 'Animation', 'Action', 'Comedy'],\n",
              " ['History', 'Drama', 'Thriller', 'War'],\n",
              " ['Action', 'Mystery', 'Science Fiction', 'Thriller'],\n",
              " ['Drama', 'Comedy'],\n",
              " ['Mystery', 'Thriller', 'Drama'],\n",
              " ['War', 'Drama', 'Action'],\n",
              " ['Adventure', 'Comedy', 'Fantasy', 'Family'],\n",
              " ['Action', 'Science Fiction', 'Thriller'],\n",
              " ['Action', 'Adventure', 'Fantasy', 'Science Fiction'],\n",
              " ['Action', 'Science Fiction'],\n",
              " ['Science Fiction', 'Action', 'Adventure', 'Fantasy', 'Comedy'],\n",
              " ['Comedy'],\n",
              " ['Crime', 'Drama', 'Thriller'],\n",
              " ['Science Fiction', 'Action', 'Adventure'],\n",
              " ['Comedy', 'Drama'],\n",
              " ['Science Fiction', 'Action', 'Drama', 'Thriller'],\n",
              " ['Thriller', 'Action', 'Crime'],\n",
              " ['Comedy'],\n",
              " ['Action', 'Adventure', 'Fantasy'],\n",
              " ['Action', 'Science Fiction'],\n",
              " ['Action', 'Comedy'],\n",
              " ['War', 'Action'],\n",
              " ['Adventure', 'Drama', 'Action'],\n",
              " ['Action', 'Science Fiction', 'Thriller'],\n",
              " ['Fantasy', 'Adventure', 'Action', 'Family', 'Romance'],\n",
              " ['Crime', 'Action', 'Thriller'],\n",
              " ['Horror'],\n",
              " ['Fantasy', 'Action', 'Adventure', 'Animation', 'Comedy'],\n",
              " ['Action', 'Adventure', 'Thriller'],\n",
              " ['Adventure', 'Fantasy', 'Animation', 'Comedy', 'Action'],\n",
              " ['Adventure', 'Fantasy'],\n",
              " ['Drama', 'Romance'],\n",
              " ['Comedy'],\n",
              " ['Horror', 'Action', 'Drama', 'Fantasy', 'War'],\n",
              " ['Family', 'Animation', 'Adventure', 'Comedy'],\n",
              " ['Fantasy', 'Comedy', 'Music'],\n",
              " ['Action', 'War'],\n",
              " ['Drama', 'Science Fiction'],\n",
              " ['Crime', 'Comedy', 'Action'],\n",
              " ['Crime', 'Drama', 'Mystery', 'Thriller'],\n",
              " ['Comedy'],\n",
              " ['Drama'],\n",
              " ['Comedy'],\n",
              " ['Horror', 'Thriller'],\n",
              " ['Thriller', 'Action', 'Science Fiction'],\n",
              " ['Action', 'Thriller', 'Crime', 'Drama'],\n",
              " ['Action', 'Adventure'],\n",
              " ['Drama', 'Adventure'],\n",
              " ['Drama'],\n",
              " ['Comedy'],\n",
              " ['Comedy'],\n",
              " ['Drama'],\n",
              " ['Romance', 'Drama', 'Music'],\n",
              " ['Romance', 'Drama'],\n",
              " ['Action', 'Comedy'],\n",
              " ['Comedy', 'Romance', 'Crime', 'Drama', 'Mystery'],\n",
              " ['Action', 'Drama', 'Thriller'],\n",
              " ['Action', 'Thriller', 'Mystery'],\n",
              " ['Science Fiction', 'Thriller'],\n",
              " ['Science Fiction', 'Action'],\n",
              " ['Thriller', 'Science Fiction', 'Drama', 'Mystery'],\n",
              " ['Comedy', 'Romance'],\n",
              " ['Animation', 'Adventure', 'Family'],\n",
              " ['Crime', 'Thriller'],\n",
              " ['Animation', 'Adventure', 'Comedy', 'Family'],\n",
              " ['Comedy'],\n",
              " ['War', 'Drama', 'History', 'Action'],\n",
              " ['Drama', 'War'],\n",
              " ['History', 'Drama'],\n",
              " ['Action', 'Adventure', 'History', 'Romance', 'Drama'],\n",
              " ['Drama', 'Romance'],\n",
              " ['Music', 'Comedy', 'Drama', 'Family'],\n",
              " ['Comedy'],\n",
              " ['Action', 'Crime', 'Drama', 'Thriller'],\n",
              " ['Drama'],\n",
              " ['Animation', 'Comedy', 'Family', 'Fantasy'],\n",
              " ['Drama'],\n",
              " ['Thriller', 'Action'],\n",
              " ['Action', 'Thriller'],\n",
              " ['Animation', 'Comedy', 'Adventure', 'Family'],\n",
              " ['Action', 'Drama', 'Thriller', 'Crime'],\n",
              " ['Thriller'],\n",
              " ['Horror', 'Thriller'],\n",
              " ['Drama', 'Thriller'],\n",
              " ['Drama', 'Romance'],\n",
              " ['Crime', 'Drama'],\n",
              " ['Drama', 'Romance', 'War'],\n",
              " ['Horror'],\n",
              " ['Horror', 'Thriller'],\n",
              " ['Comedy', 'Romance'],\n",
              " ['Action', 'Crime', 'Drama'],\n",
              " ['Comedy'],\n",
              " ['Drama', 'Fantasy', 'Mystery', 'Romance'],\n",
              " ['Mystery', 'Thriller', 'Action'],\n",
              " ['War', 'Drama'],\n",
              " ['Family', 'Comedy'],\n",
              " ['Drama', 'Comedy'],\n",
              " ['Comedy', 'Romance'],\n",
              " ['Drama'],\n",
              " ['Thriller', 'Science Fiction', 'Drama'],\n",
              " ['Comedy', 'Drama', 'Crime'],\n",
              " ['Drama'],\n",
              " ['Drama'],\n",
              " ['Horror'],\n",
              " ['Thriller', 'Crime', 'Drama', 'Mystery'],\n",
              " ['Family', 'Drama'],\n",
              " ['Comedy', 'Adventure', 'Crime', 'Family'],\n",
              " ['Drama'],\n",
              " ['Action', 'Adventure'],\n",
              " ['Comedy'],\n",
              " ['Family', 'Adventure', 'Science Fiction'],\n",
              " ['Thriller', 'Crime', 'Drama'],\n",
              " ['Comedy'],\n",
              " ['Drama'],\n",
              " ['Horror'],\n",
              " ['Action', 'Adventure', 'Fantasy', 'Science Fiction'],\n",
              " ['Drama', 'Action', 'Thriller', 'War'],\n",
              " ['Fantasy', 'Action', 'Adventure', 'Science Fiction', 'Thriller'],\n",
              " ['Adventure', 'Fantasy', 'Family'],\n",
              " ['Animation', 'Comedy', 'Family', 'Adventure'],\n",
              " ['Science Fiction', 'Action', 'Adventure'],\n",
              " ['Drama', 'Action', 'Thriller', 'Science Fiction'],\n",
              " ['Action', 'Thriller', 'Science Fiction'],\n",
              " ['Adventure', 'Drama', 'Action', 'Comedy', 'Thriller'],\n",
              " ['Comedy', 'Drama', 'Romance'],\n",
              " ['Comedy'],\n",
              " ['Action', 'Mystery', 'Science Fiction'],\n",
              " ['Action', 'Adventure', 'Science Fiction'],\n",
              " ['Action', 'Adventure', 'Animation', 'Science Fiction', 'Thriller'],\n",
              " ['Thriller', 'Mystery'],\n",
              " ['Romance', 'Family', 'Animation', 'Music'],\n",
              " ['Drama'],\n",
              " ['Comedy', 'Horror'],\n",
              " ['Adventure', 'Fantasy', 'Drama', 'Romance'],\n",
              " ['Comedy', 'Romance', 'Drama'],\n",
              " ['Adventure', 'Action', 'Thriller', 'Science Fiction'],\n",
              " ['Comedy', 'Romance', 'Drama'],\n",
              " ['Comedy', 'Romance'],\n",
              " ['Animation', 'Comedy', 'Family'],\n",
              " ['Adventure', 'Animation', 'Comedy', 'Family'],\n",
              " ['Animation', 'Family'],\n",
              " ['Adventure', 'Fantasy', 'Action', 'Comedy', 'Family'],\n",
              " ['Comedy'],\n",
              " ['Animation', 'Drama'],\n",
              " ['Fantasy', 'Drama'],\n",
              " ['Action', 'Adventure', 'Comedy', 'Family'],\n",
              " ['Drama', 'Family'],\n",
              " ['Drama', 'Crime', 'Thriller'],\n",
              " ['Thriller', 'Science Fiction'],\n",
              " ['Action', 'Thriller', 'Crime'],\n",
              " ['Action', 'Horror', 'Mystery', 'Science Fiction', 'Thriller'],\n",
              " ['Horror', 'Thriller'],\n",
              " ['Action', 'Adventure', 'Drama', 'Mystery', 'Science Fiction'],\n",
              " ['Science Fiction', 'Drama'],\n",
              " ['Fantasy', 'Action', 'Adventure', 'Family', 'Comedy'],\n",
              " ['Thriller', 'Drama', 'Crime'],\n",
              " ['Comedy', 'Romance', 'Fantasy'],\n",
              " ['Comedy', 'Romance'],\n",
              " ['Action', 'Thriller', 'Science Fiction'],\n",
              " ['Science Fiction', 'Drama', 'Romance', 'Fantasy'],\n",
              " ['Comedy', 'Romance'],\n",
              " ['Drama', 'Thriller', 'War'],\n",
              " ['Adventure', 'Drama'],\n",
              " ['Animation', 'Family', 'Adventure', 'Science Fiction'],\n",
              " ['Romance', 'Drama'],\n",
              " ['Drama', 'Thriller', 'Mystery'],\n",
              " ['History', 'Crime', 'Drama'],\n",
              " ['Comedy', 'Horror'],\n",
              " ['Horror', 'Thriller', 'Mystery'],\n",
              " ['Comedy'],\n",
              " ['Horror', 'Mystery'],\n",
              " ['Comedy', 'Family', 'Animation', 'Fantasy', 'Music'],\n",
              " ['Comedy'],\n",
              " ['Drama'],\n",
              " ['Action'],\n",
              " ['Horror', 'Thriller', 'Mystery'],\n",
              " ['Comedy'],\n",
              " ['Comedy', 'Crime', 'Drama', 'Thriller'],\n",
              " ['Adventure', 'Family', 'Fantasy', 'Science Fiction', 'Thriller'],\n",
              " ['Horror', 'Mystery', 'Thriller'],\n",
              " ['Drama', 'Comedy'],\n",
              " ['Fantasy', 'Horror', 'Action', 'Thriller', 'Science Fiction'],\n",
              " ['Drama', 'Romance'],\n",
              " ['Action'],\n",
              " ['Crime', 'Drama', 'Thriller'],\n",
              " ['Horror', 'Mystery'],\n",
              " ['Drama', 'History', 'Romance'],\n",
              " ['Comedy', 'Drama'],\n",
              " ['Thriller', 'Mystery', 'Adventure'],\n",
              " ['Action', 'Crime', 'Mystery', 'Thriller'],\n",
              " ['Comedy', 'Drama', 'Romance'],\n",
              " ['Action', 'Adventure', 'Drama', 'Thriller'],\n",
              " ['Drama', 'Comedy', 'Romance'],\n",
              " ['Science Fiction', 'Action', 'Adventure'],\n",
              " ['Comedy', 'War'],\n",
              " ['Action', 'Crime', 'Thriller'],\n",
              " ['Comedy', 'Drama', 'Family', 'Music'],\n",
              " ['Comedy', 'Romance'],\n",
              " ['Adventure', 'Comedy', 'Science Fiction'],\n",
              " ['Drama', 'History'],\n",
              " ['Science Fiction', 'Animation', 'Family', 'Comedy', 'Adventure'],\n",
              " ['Comedy', 'Adventure'],\n",
              " ['Mystery', 'Horror'],\n",
              " ['Comedy', 'Family'],\n",
              " ['Adventure', 'Drama', 'History'],\n",
              " ['Action', 'Thriller', 'Crime'],\n",
              " ['Drama', 'Crime'],\n",
              " ['Action', 'Crime', 'Drama', 'Thriller'],\n",
              " ['Adventure', 'Fantasy', 'Action', 'Thriller'],\n",
              " ['Drama', 'Romance'],\n",
              " ['Comedy', 'Drama'],\n",
              " ['Drama', 'Romance'],\n",
              " ['Animation', 'Action', 'Family', 'Science Fiction'],\n",
              " ['Drama', 'Thriller', 'Crime'],\n",
              " ['Action', 'Crime', 'Drama', 'Thriller'],\n",
              " ['Documentary'],\n",
              " ['Horror'],\n",
              " ['Comedy', 'Drama', 'Family', 'Music', 'Romance'],\n",
              " ['Adventure', 'Comedy', 'Family', 'Fantasy', 'Science Fiction'],\n",
              " ['Science Fiction', 'Thriller'],\n",
              " ['Comedy', 'Drama', 'Romance'],\n",
              " ['Thriller'],\n",
              " ['Drama', 'Romance'],\n",
              " ['Comedy'],\n",
              " ['Comedy'],\n",
              " ['Comedy', 'Romance'],\n",
              " ['Drama'],\n",
              " ['Drama'],\n",
              " ['Horror'],\n",
              " ['Thriller', 'Crime', 'Drama', 'Action'],\n",
              " ['Action', 'Science Fiction', 'Thriller'],\n",
              " ['Action', 'Adventure', 'Science Fiction', 'Thriller'],\n",
              " ['Comedy', 'Family'],\n",
              " ['Drama', 'Thriller'],\n",
              " ['Adventure', 'Fantasy', 'Action', 'Science Fiction'],\n",
              " ['Adventure', 'Action', 'Thriller', 'Science Fiction'],\n",
              " ['Comedy', 'Romance'],\n",
              " ['Comedy', 'Drama', 'Romance'],\n",
              " ['Comedy', 'Family'],\n",
              " ['Horror', 'Mystery', 'Thriller'],\n",
              " ['Comedy', 'Drama'],\n",
              " ['Comedy'],\n",
              " ['Drama', 'Music', 'Romance'],\n",
              " ['Comedy'],\n",
              " ['Horror', 'Thriller'],\n",
              " ['Drama', 'Romance'],\n",
              " ['Action', 'Thriller', 'Science Fiction', 'Mystery', 'Adventure'],\n",
              " ['Adventure', 'Action', 'Science Fiction'],\n",
              " ['Family', 'Fantasy', 'Adventure'],\n",
              " ['Drama', 'Mystery', 'Thriller'],\n",
              " ['Adventure', 'Fantasy', 'Family'],\n",
              " ['Action', 'Animation', 'Family'],\n",
              " ['Action', 'Thriller'],\n",
              " ['Fantasy', 'Adventure', 'Animation', 'Family'],\n",
              " ['Drama', 'Thriller', 'Mystery'],\n",
              " ['Adventure', 'Action', 'Science Fiction'],\n",
              " ['Animation', 'Family'],\n",
              " ['Animation', 'Family', 'Comedy'],\n",
              " ['Action', 'Thriller', 'Crime', 'Mystery'],\n",
              " ['Adventure', 'Drama', 'Thriller'],\n",
              " ['Comedy'],\n",
              " ['Adventure', 'Family', 'Fantasy'],\n",
              " ['Action', 'Crime'],\n",
              " ['Action', 'Thriller', 'Romance'],\n",
              " ['Adventure', 'Fantasy', 'Action', 'Romance'],\n",
              " ['Action'],\n",
              " ['Drama', 'Adventure', 'Western'],\n",
              " ['Adventure', 'Fantasy', 'Action'],\n",
              " ['Fantasy', 'Adventure', 'Action', 'Comedy', 'Drama'],\n",
              " ['Drama'],\n",
              " ['Action', 'Adventure', 'Comedy'],\n",
              " ['Comedy', 'Romance'],\n",
              " ['Action', 'Science Fiction', 'Adventure', 'Thriller'],\n",
              " ['Adventure', 'Fantasy', 'Family'],\n",
              " ['Action', 'Thriller'],\n",
              " ['Comedy', 'Adventure', 'Fantasy', 'Animation', 'Family'],\n",
              " ['Drama', 'Romance', 'War'],\n",
              " ['Thriller', 'Action', 'Adventure', 'Comedy', 'Crime'],\n",
              " ['Action', 'Adventure', 'Comedy', 'Crime', 'Thriller'],\n",
              " ['Action', 'Comedy', 'Thriller'],\n",
              " ['Comedy'],\n",
              " ['Action', 'Thriller', 'Science Fiction'],\n",
              " ['Comedy'],\n",
              " ['Crime', 'Drama', 'Thriller'],\n",
              " ['Adventure', 'Fantasy', 'Drama', 'Romance'],\n",
              " ['Animation', 'Action', 'Comedy', 'Family', 'Science Fiction'],\n",
              " ['Action', 'Adventure', 'Family', 'Fantasy'],\n",
              " ['Action', 'Comedy', 'Crime'],\n",
              " ['Drama', 'Romance'],\n",
              " ['Drama', 'History'],\n",
              " ['Drama', 'Comedy', 'Romance'],\n",
              " ['Drama', 'Adventure', 'History'],\n",
              " ['Action', 'Science Fiction', 'Thriller', 'Crime'],\n",
              " ['Action', 'Comedy'],\n",
              " ['Drama'],\n",
              " ['Action'],\n",
              " ['Romance', 'Comedy'],\n",
              " ['Action', 'Adventure', 'Drama', 'Thriller'],\n",
              " ['Comedy'],\n",
              " ['Comedy', 'Romance'],\n",
              " ['Drama'],\n",
              " ['Comedy', 'Romance', 'Drama'],\n",
              " ['Drama', 'Music'],\n",
              " ['Comedy', 'Romance'],\n",
              " ['Fantasy', 'Horror', 'Thriller'],\n",
              " ['Horror', 'Crime'],\n",
              " ['Action', 'Adventure', 'Drama', 'Family'],\n",
              " ['Comedy', 'Drama'],\n",
              " ['Action', 'Comedy'],\n",
              " ['Thriller', 'Mystery'],\n",
              " ['Romance', 'Drama', 'Thriller', 'Crime'],\n",
              " ['Horror', 'Mystery', 'Thriller'],\n",
              " ['Drama'],\n",
              " ['Comedy'],\n",
              " ['Action', 'Western', 'Drama', 'Fantasy', 'Thriller'],\n",
              " ['Horror', 'Comedy'],\n",
              " ['Action', 'Comedy', 'Thriller', 'Romance'],\n",
              " ['Horror'],\n",
              " ['Comedy', 'Drama', 'Romance'],\n",
              " ['Comedy', 'Romance'],\n",
              " ['Fantasy', 'Comedy'],\n",
              " ['Science Fiction', 'Comedy', 'Adventure'],\n",
              " ['Drama', 'Horror', 'Mystery'],\n",
              " ['Animation', 'Adventure', 'Family', 'Fantasy'],\n",
              " ['Action', 'Crime', 'Drama', 'Thriller'],\n",
              " ['Drama', 'Romance'],\n",
              " ['Drama'],\n",
              " ['Comedy', 'Drama', 'Romance'],\n",
              " ['Drama', 'Romance', 'Science Fiction'],\n",
              " ['Action', 'Comedy', 'Crime'],\n",
              " ['Comedy', 'Romance', 'Drama'],\n",
              " ['Drama', 'Action', 'Thriller'],\n",
              " ['Drama'],\n",
              " ['Comedy', 'Family'],\n",
              " ['Comedy', 'Horror'],\n",
              " ['Comedy', 'Drama', 'Romance'],\n",
              " ['Drama'],\n",
              " ['Comedy', 'Family', 'Fantasy'],\n",
              " ['Drama', 'Thriller'],\n",
              " ['Comedy'],\n",
              " ['Science Fiction'],\n",
              " ['Drama', 'Thriller'],\n",
              " ['Comedy', 'Family'],\n",
              " ['Action', 'Adventure', 'Comedy'],\n",
              " ['Comedy', 'Drama', 'Romance'],\n",
              " ['Action', 'Comedy', 'Family'],\n",
              " ['Comedy', 'Romance'],\n",
              " ['Drama', 'Crime'],\n",
              " ['Drama', 'Fantasy'],\n",
              " ['Drama', 'Horror', 'Mystery', 'Thriller'],\n",
              " ['Crime', 'Drama', 'History'],\n",
              " ['Comedy'],\n",
              " ['Family', 'Comedy'],\n",
              " ['Drama', 'Crime'],\n",
              " ['Comedy', 'Drama', 'Romance'],\n",
              " ['Mystery', 'Horror', 'Action'],\n",
              " ['Family', 'Animation'],\n",
              " ['Comedy', 'Family', 'Animation', 'Adventure'],\n",
              " ['Drama', 'Romance'],\n",
              " ['Action', 'Adventure', 'Drama'],\n",
              " ['Drama'],\n",
              " ['Horror', 'Mystery', 'Thriller'],\n",
              " ['Comedy', 'Drama'],\n",
              " ['Crime', 'Drama', 'Mystery', 'Thriller'],\n",
              " ['Comedy'],\n",
              " ['Action', 'Comedy', 'Horror', 'Mystery', 'Science Fiction'],\n",
              " ['Drama', 'Family'],\n",
              " ['Comedy', 'Thriller'],\n",
              " ['Comedy', 'Romance'],\n",
              " ['Action', 'Adventure', 'Horror', 'Science Fiction'],\n",
              " ['Drama', 'Comedy', 'Romance', 'Foreign'],\n",
              " ['Drama'],\n",
              " ['Adventure', 'Fantasy', 'Action'],\n",
              " ['Adventure', 'Fantasy', 'Family'],\n",
              " ['Thriller', 'Drama', 'Mystery'],\n",
              " ['Fantasy', 'Animation', 'Family', 'Comedy'],\n",
              " ['Drama', 'Science Fiction', 'Adventure'],\n",
              " ['Adventure', 'Animation', 'Comedy', 'Family', 'Fantasy'],\n",
              " ['Comedy', 'Romance', 'Drama'],\n",
              " ['Thriller', 'Crime'],\n",
              " ['History', 'Romance', 'War'],\n",
              " ['Action', 'Adventure', 'Drama', 'Fantasy', 'Horror'],\n",
              " ['Animation', 'Family', 'Adventure', 'Science Fiction'],\n",
              " ['Adventure', 'Fantasy', 'Action', 'Thriller'],\n",
              " ['Drama', 'Romance'],\n",
              " ['Comedy', 'Romance'],\n",
              " ['Comedy', 'Family', 'Romance'],\n",
              " ['Romance', 'Drama', 'Music'],\n",
              " ['Thriller', 'Science Fiction', 'Action', 'Adventure'],\n",
              " ['Comedy', 'Drama'],\n",
              " ['Crime', 'Drama'],\n",
              " ['War'],\n",
              " ['Action', 'History', 'War'],\n",
              " ['Comedy'],\n",
              " ['Adventure', 'Drama', 'Romance', 'Action'],\n",
              " ['Comedy'],\n",
              " ['Comedy'],\n",
              " ['Comedy'],\n",
              " ['Action', 'Comedy', 'Crime', 'Thriller'],\n",
              " ['Action', 'Crime', 'Drama', 'Thriller'],\n",
              " ['Horror', 'Drama', 'Mystery', 'Thriller'],\n",
              " ['Adventure', 'Fantasy', 'Animation', 'Action', 'Comedy'],\n",
              " ['Comedy'],\n",
              " ['Comedy', 'Romance'],\n",
              " ['Comedy', 'Family'],\n",
              " ['Drama', 'Mystery', 'Romance', 'Science Fiction', 'Thriller'],\n",
              " ['Action', 'Crime', 'Thriller'],\n",
              " ['Action', 'Crime', 'Thriller'],\n",
              " ['Action', 'Crime', 'Thriller'],\n",
              " ['Comedy', 'Romance'],\n",
              " ['Action', 'Crime', 'Drama'],\n",
              " ['Adventure', 'Action', 'Animation', 'Fantasy', 'Science Fiction'],\n",
              " ['Drama', 'Thriller', 'Mystery', 'Romance'],\n",
              " ['Comedy', 'Family', 'Romance', 'Fantasy'],\n",
              " ['Action', 'Drama', 'Thriller', 'War'],\n",
              " ['Horror', 'Thriller'],\n",
              " ['Horror', 'Mystery', 'Thriller'],\n",
              " ['Action', 'Drama', 'Thriller'],\n",
              " ['Crime', 'Mystery', 'Thriller', 'Action'],\n",
              " ['Comedy'],\n",
              " ['Adventure', 'Comedy'],\n",
              " ['Drama', 'Mystery', 'Thriller'],\n",
              " ['Horror', 'Science Fiction'],\n",
              " ['Action', 'Comedy', 'Crime', 'Romance'],\n",
              " ['Mystery', 'Thriller', 'Drama'],\n",
              " ['Drama'],\n",
              " ['Music', 'Drama', 'Comedy'],\n",
              " ['Drama', 'Science Fiction'],\n",
              " ['Thriller'],\n",
              " ['Adventure', 'Comedy'],\n",
              " ['Drama', 'Thriller', 'Crime'],\n",
              " ['Drama', 'Romance', 'Thriller'],\n",
              " ['Drama', 'Mystery'],\n",
              " ['Drama', 'Thriller'],\n",
              " ['Action', 'Crime', 'Thriller'],\n",
              " ['Comedy', 'Romance'],\n",
              " ['Action', 'Comedy', 'Science Fiction'],\n",
              " ['Drama'],\n",
              " ['Action', 'Crime', 'Thriller'],\n",
              " ['Mystery', 'Adventure', 'Comedy', 'Romance', 'Drama'],\n",
              " ['Action', 'Crime', 'Thriller'],\n",
              " ['Drama', 'Thriller'],\n",
              " ['Drama', 'Romance'],\n",
              " ['Comedy'],\n",
              " ['Comedy', 'Romance'],\n",
              " ['Drama', 'Romance'],\n",
              " ['Action', 'Adventure', 'Comedy', 'Thriller', 'Crime'],\n",
              " ['Action', 'Horror', 'Science Fiction'],\n",
              " ['Comedy', 'Romance', 'Crime'],\n",
              " ['Comedy', 'Drama', 'Romance'],\n",
              " ['Adventure', 'Animation', 'Action', 'Comedy', 'Family'],\n",
              " ['Comedy', 'Romance'],\n",
              " ['Action', 'Crime', 'Thriller'],\n",
              " ['Drama', 'Family', 'Romance', 'Music'],\n",
              " ['Action', 'Comedy', 'Family', 'Adventure'],\n",
              " ['Action', 'Comedy', 'Crime', 'Romance'],\n",
              " ['Action', 'Comedy'],\n",
              " ['Crime', 'Thriller'],\n",
              " ['Drama', 'Romance'],\n",
              " ['Action'],\n",
              " ['Comedy'],\n",
              " ['Action', 'Western'],\n",
              " ['Crime', 'Drama', 'Thriller', 'Horror'],\n",
              " ['Mystery', 'Thriller', 'Crime'],\n",
              " ['Drama', 'Comedy', 'Romance'],\n",
              " ['Comedy', 'Family', 'Fantasy', 'Science Fiction'],\n",
              " ['Adventure', 'Fantasy', 'Animation', 'Action', 'Comedy'],\n",
              " ['Action', 'Comedy', 'Crime'],\n",
              " ['Adventure', 'Action', 'Thriller', 'Science Fiction'],\n",
              " ['Action', 'Adventure', 'Drama'],\n",
              " ['Drama', 'Mystery', 'Thriller'],\n",
              " ['Crime', 'Comedy'],\n",
              " ['Action', 'Horror', 'Thriller'],\n",
              " ['Action', 'Comedy'],\n",
              " ['Drama', 'Comedy', 'Crime'],\n",
              " ['Drama', 'Action', 'Crime', 'Thriller'],\n",
              " ['Animation', 'Family'],\n",
              " ['Action', 'Science Fiction', 'Adventure'],\n",
              " ['Action', 'Thriller', 'Crime'],\n",
              " ['Adventure', 'Action'],\n",
              " ['Adventure', 'Fantasy', 'Drama', 'Romance'],\n",
              " ['Adventure', 'Action', 'Thriller', 'Crime'],\n",
              " ['Animation', 'Family'],\n",
              " ['Comedy', 'Romance'],\n",
              " ['Fantasy', 'Drama', 'Thriller', 'Mystery', 'Romance'],\n",
              " ['Adventure', 'Fantasy', 'Action', 'Thriller'],\n",
              " ['Science Fiction', 'Action', 'Adventure'],\n",
              " ['Drama'],\n",
              " ['Family', 'Animation'],\n",
              " ['Adventure', 'Fantasy', 'Science Fiction'],\n",
              " ['Adventure', 'Fantasy', 'Science Fiction'],\n",
              " ['Action', 'Science Fiction', 'Adventure', 'Comedy', 'Family'],\n",
              " ['Action', 'Thriller', 'Crime'],\n",
              " ['Drama', 'Romance'],\n",
              " ['Action', 'Adventure', 'Thriller', 'Crime'],\n",
              " ['Drama', 'Thriller', 'History', 'War'],\n",
              " ['Adventure', 'Action', 'Drama', 'Fantasy'],\n",
              " ['Fantasy', 'Action'],\n",
              " ['Drama', 'Thriller', 'War'],\n",
              " ['Comedy', 'Romance'],\n",
              " ['Adventure', 'Family', 'Fantasy'],\n",
              " ['Action', 'Comedy'],\n",
              " ['Mystery', 'Thriller', 'Action'],\n",
              " ['War', 'Drama'],\n",
              " ['Action', 'Thriller'],\n",
              " ['Action', 'Thriller', 'Science Fiction'],\n",
              " ['Music', 'Drama', 'Romance'],\n",
              " ['Drama', 'Science Fiction', 'Thriller'],\n",
              " ['Drama'],\n",
              " ['Action', 'Thriller', 'Science Fiction'],\n",
              " ['Animation', 'Family', 'Adventure', 'Comedy'],\n",
              " ['Comedy', 'Romance', 'Drama'],\n",
              " ['Drama'],\n",
              " ['Comedy', 'Romance'],\n",
              " ['Comedy', 'Family'],\n",
              " ['Action', 'Drama', 'Thriller'],\n",
              " ['Comedy', 'Drama'],\n",
              " ['Comedy', 'Romance'],\n",
              " ['Adventure', 'Family', 'Fantasy'],\n",
              " ['Drama', 'Crime'],\n",
              " ['Comedy'],\n",
              " ['Comedy'],\n",
              " ['Drama', 'Action'],\n",
              " ['Action', 'Comedy'],\n",
              " ['Drama', 'Romance'],\n",
              " ['Fantasy', 'Comedy', 'Family', 'Romance'],\n",
              " ['Action', 'Crime'],\n",
              " ['Action'],\n",
              " ['Horror', 'Thriller', 'Mystery'],\n",
              " ['Drama', 'Action', 'Thriller', 'Crime'],\n",
              " ['Comedy'],\n",
              " ['Action', 'Comedy', 'Thriller'],\n",
              " ['Comedy'],\n",
              " ['Action', 'Adventure', 'Science Fiction', 'Thriller'],\n",
              " ['Comedy', 'Drama', 'Crime'],\n",
              " ['Crime', 'Drama', 'Mystery'],\n",
              " ['Adventure', 'Family', 'Fantasy'],\n",
              " ['Comedy', 'Adventure'],\n",
              " ['Action', 'Crime', 'Drama', 'Thriller'],\n",
              " ['Comedy', 'Drama', 'Music', 'Romance'],\n",
              " ['Comedy', 'Romance', 'Drama'],\n",
              " ['Romance', 'Comedy'],\n",
              " ['Horror', 'Thriller', 'Crime'],\n",
              " ['Comedy', 'Romance'],\n",
              " ['Family', 'Action', 'Science Fiction'],\n",
              " ['Drama', 'Romance'],\n",
              " ['Animation', 'Comedy', 'Family', 'Adventure', 'Fantasy'],\n",
              " ['Action', 'Adventure', 'Fantasy'],\n",
              " ['Action', 'Adventure', 'Crime', 'Drama', 'Thriller'],\n",
              " ['Thriller', 'Crime', 'Mystery'],\n",
              " ['Comedy', 'Action'],\n",
              " ['Action', 'Drama', 'History', 'War'],\n",
              " ['Drama'],\n",
              " ['Thriller', 'Horror', 'Mystery'],\n",
              " ['History', 'Drama'],\n",
              " ['Fantasy', 'Action', 'Science Fiction'],\n",
              " ['Drama', 'Mystery', 'Science Fiction', 'Thriller'],\n",
              " ['Drama', 'Mystery'],\n",
              " ['Adventure', 'Family', 'Fantasy'],\n",
              " ['Comedy', 'Romance'],\n",
              " ['Drama', 'Thriller', 'Crime', 'Mystery'],\n",
              " ['Action', 'Crime', 'Thriller'],\n",
              " ['Drama', 'Horror', 'Thriller'],\n",
              " ['Action', 'Crime', 'Thriller'],\n",
              " ['Comedy'],\n",
              " ['Action', 'Comedy', 'Thriller', 'Crime', 'Science Fiction'],\n",
              " ['Thriller', 'Science Fiction'],\n",
              " ['Action', 'Thriller', 'Science Fiction'],\n",
              " ['Adventure', 'Fantasy', 'Drama', 'Science Fiction', 'Romance'],\n",
              " ['Comedy', 'Drama', 'Romance'],\n",
              " ['Comedy', 'Music'],\n",
              " ['Animation', 'Comedy', 'Family'],\n",
              " ['Action', 'Comedy', 'Science Fiction'],\n",
              " ['Adventure', 'Drama'],\n",
              " ['Adventure', 'Comedy', 'Family'],\n",
              " ['Drama', 'Romance'],\n",
              " ['Comedy'],\n",
              " ['Drama', 'Romance'],\n",
              " ['Adventure', 'Comedy', 'Drama', 'Romance'],\n",
              " ['Comedy', 'Science Fiction', 'Adventure', 'Family'],\n",
              " ['Horror', 'Science Fiction', 'Thriller'],\n",
              " ['Drama'],\n",
              " ['Animation', 'Family'],\n",
              " ['Drama', 'Crime', 'Thriller'],\n",
              " ['Comedy', 'Drama'],\n",
              " ['Action', 'Comedy'],\n",
              " ['Comedy'],\n",
              " ['Mystery', 'Drama', 'Crime', 'Thriller', 'Horror'],\n",
              " ['Action', 'Adventure', 'Horror', 'Science Fiction'],\n",
              " ['Drama', 'Comedy'],\n",
              " ['Drama', 'History'],\n",
              " ['Comedy', 'Drama', 'Romance'],\n",
              " ['Adventure', 'Comedy', 'Family', 'Fantasy'],\n",
              " ['Animation', 'Comedy', 'Family', 'Fantasy'],\n",
              " ['Comedy', 'Romance', 'Drama'],\n",
              " ['Comedy', 'Drama'],\n",
              " ['Action', 'Adventure', 'Science Fiction'],\n",
              " ['Drama', 'Action', 'Thriller', 'Crime'],\n",
              " ['Adventure', 'Family', 'Fantasy'],\n",
              " ['Adventure', 'Action', 'Fantasy'],\n",
              " ['Thriller', 'Action', 'Drama', 'Science Fiction'],\n",
              " ['Adventure', 'Fantasy', 'Action'],\n",
              " ['Action', 'Thriller', 'Science Fiction'],\n",
              " ['Fantasy', 'Thriller', 'Action', 'Crime'],\n",
              " ['Action', 'Thriller', 'Crime'],\n",
              " ['Thriller', 'Science Fiction', 'Mystery'],\n",
              " ['Action', 'Thriller', 'Adventure'],\n",
              " ['Comedy', 'Drama', 'Romance'],\n",
              " ['Thriller', 'Crime', 'Mystery', 'Drama'],\n",
              " ['Thriller', 'Mystery', 'Science Fiction'],\n",
              " ['Animation', 'Family'],\n",
              " ['Romance', 'Comedy'],\n",
              " ['Comedy', 'Crime'],\n",
              " ['Action', 'Science Fiction', 'Drama'],\n",
              " ['Comedy'],\n",
              " ['Comedy'],\n",
              " ['Adventure', 'Action', 'Crime', 'Mystery'],\n",
              " ['Animation', 'Family', 'Adventure', 'Comedy'],\n",
              " ['Adventure', 'Action', 'Thriller', 'Science Fiction'],\n",
              " ['Comedy'],\n",
              " ['Comedy', 'Romance'],\n",
              " ['Adventure', 'Animation', 'Action', 'Family', 'Mystery'],\n",
              " ['Romance', 'Comedy'],\n",
              " ['Comedy'],\n",
              " ['Thriller', 'Science Fiction', 'Mystery'],\n",
              " ['Action', 'Fantasy', 'Thriller'],\n",
              " ['Thriller'],\n",
              " ['Adventure', 'Fantasy', 'Romance'],\n",
              " ['Drama', 'Fantasy'],\n",
              " ['Action', 'Thriller', 'Science Fiction', 'Adventure'],\n",
              " ['Animation', 'Adventure', 'Comedy', 'Family'],\n",
              " ['Drama', 'Comedy', 'Romance'],\n",
              " ['Comedy', 'Romance', 'Family'],\n",
              " ['Action', 'Science Fiction', 'Thriller', 'Western'],\n",
              " ['Drama', 'War'],\n",
              " ['Comedy', 'Drama'],\n",
              " ['Animation', 'Comedy', 'Family', 'Western', 'Adventure'],\n",
              " ['Comedy'],\n",
              " ['Adventure', 'Drama', 'Family'],\n",
              " ['Crime', 'Drama', 'Thriller'],\n",
              " ['Action', 'Fantasy', 'Thriller'],\n",
              " ['Drama', 'Romance'],\n",
              " ['Action', 'Adventure', 'Thriller'],\n",
              " ['Drama', 'Thriller', 'Horror'],\n",
              " ['Animation', 'Family'],\n",
              " ['Adventure', 'Action', 'Thriller', 'Comedy'],\n",
              " ['Action', 'Fantasy', 'Horror', 'Science Fiction', 'Thriller'],\n",
              " ['Comedy', 'Drama', 'Romance'],\n",
              " ['Thriller', 'Action', 'Mystery'],\n",
              " ['Action', 'Mystery', 'Thriller'],\n",
              " ['Thriller', 'Romance', 'Fantasy'],\n",
              " ['Fantasy', 'Action', 'Drama'],\n",
              " ['Comedy', 'Romance', 'Drama'],\n",
              " ['Adventure', 'Comedy', 'Science Fiction'],\n",
              " ['Action', 'Thriller', 'Crime', 'Drama'],\n",
              " ['Action', 'Science Fiction'],\n",
              " ['Horror', 'Mystery'],\n",
              " ['Action', 'Thriller', 'Crime'],\n",
              " ['Comedy'],\n",
              " ['Comedy', 'Romance'],\n",
              " ['Adventure', 'Fantasy', 'Action'],\n",
              " ['Drama'],\n",
              " ['Drama', 'Comedy', 'Family'],\n",
              " ['Horror', 'Action', 'Thriller', 'Science Fiction'],\n",
              " ['Drama'],\n",
              " ['Action', 'Drama', 'Thriller'],\n",
              " ['Drama'],\n",
              " ['Thriller', 'Drama', 'Horror'],\n",
              " ['Action', 'Adventure', 'Animation', 'Family', 'Fantasy'],\n",
              " ['Action', 'Crime', 'Comedy'],\n",
              " ['Comedy', 'Drama', 'Romance'],\n",
              " ['Adventure', 'Fantasy', 'Action'],\n",
              " ['Crime', 'Adventure', 'Action', 'Comedy', 'Thriller'],\n",
              " ['Drama', 'Thriller', 'Science Fiction'],\n",
              " ['Comedy'],\n",
              " ['Drama', 'Fantasy', 'Romance'],\n",
              " ['Comedy'],\n",
              " ['Horror', 'Science Fiction', 'Mystery', 'Thriller'],\n",
              " ['Action', 'Comedy'],\n",
              " ['Comedy', 'Romance'],\n",
              " ['Adventure', 'Fantasy', 'Action', 'Comedy'],\n",
              " ['Horror', 'Thriller', 'Science Fiction'],\n",
              " ['Horror', 'Comedy'],\n",
              " ['Music', 'Family', 'Animation', 'Comedy'],\n",
              " ['Horror', 'Mystery'],\n",
              " ['Adventure', 'Animation', 'Family'],\n",
              " ['Action', 'Comedy', 'Science Fiction'],\n",
              " ['Family', 'Comedy'],\n",
              " ['Drama'],\n",
              " ['Comedy', 'Fantasy', 'Family', 'Music', 'Animation'],\n",
              " ['Thriller'],\n",
              " ['Drama', 'Comedy'],\n",
              " ['Animation', 'Family', 'Adventure', 'Comedy', 'Fantasy'],\n",
              " ['Action', 'Thriller', 'Adventure'],\n",
              " ['Animation', 'Family'],\n",
              " ['Comedy', 'Drama'],\n",
              " ['Animation'],\n",
              " ['Drama', 'Comedy'],\n",
              " ['Action', 'Comedy', 'Thriller', 'Crime'],\n",
              " ['Comedy', 'Drama'],\n",
              " ['Drama', 'Music', 'Romance'],\n",
              " ['Crime', 'Drama', 'Thriller'],\n",
              " ['Comedy', 'Drama'],\n",
              " ['Drama'],\n",
              " ['Action', 'Science Fiction', 'Adventure'],\n",
              " ['Horror'],\n",
              " ['Comedy', 'Drama'],\n",
              " ['Comedy', 'Drama', 'Romance'],\n",
              " ['Comedy', 'Family', 'Music'],\n",
              " ['Action', 'Drama', 'Thriller'],\n",
              " ['Comedy', 'Romance'],\n",
              " ['Adventure', 'Drama'],\n",
              " ['Comedy'],\n",
              " ['Drama', 'Crime', 'History'],\n",
              " ['Action', 'Thriller'],\n",
              " ['Comedy'],\n",
              " ['Drama', 'Thriller'],\n",
              " ['Action', 'Drama'],\n",
              " ['Action', 'Comedy', 'Adventure'],\n",
              " ['Comedy', 'Animation', 'Family'],\n",
              " ['Drama', 'Romance'],\n",
              " ['Drama', 'Thriller', 'Mystery'],\n",
              " ['Comedy'],\n",
              " ['Drama', 'Thriller'],\n",
              " ['Crime', 'Comedy', 'Action'],\n",
              " ['Drama', 'Family'],\n",
              " ['Action', 'Drama'],\n",
              " ['Action', 'Thriller', 'Crime'],\n",
              " ['Comedy'],\n",
              " ['Adventure', 'Comedy', 'Romance'],\n",
              " ['History', 'Drama'],\n",
              " ['Drama', 'Action', 'Thriller', 'Crime', 'War'],\n",
              " ['Horror', 'Thriller'],\n",
              " ['Drama', 'Thriller', 'Science Fiction', 'Mystery'],\n",
              " ['Drama'],\n",
              " ['Drama'],\n",
              " ['Documentary', 'Music', 'Family'],\n",
              " ['Drama', 'Comedy'],\n",
              " ['Action', 'Science Fiction', 'Adventure'],\n",
              " ['Adventure', 'Fantasy', 'Action'],\n",
              " ['Adventure', 'Fantasy', 'Family'],\n",
              " ['Animation', 'Comedy', 'Family', 'Adventure'],\n",
              " ['Action', 'Drama', 'Mystery', 'Thriller'],\n",
              " ['Horror', 'Action', 'Science Fiction'],\n",
              " ['Fantasy', 'Action'],\n",
              " ['Adventure', 'Action', 'Science Fiction'],\n",
              " ['Drama', 'Crime'],\n",
              " ['Action', 'Adventure', 'Comedy', 'Science Fiction'],\n",
              " ['Drama', 'War'],\n",
              " ['Action', 'Thriller', 'Science Fiction', 'Mystery'],\n",
              " ['Animation'],\n",
              " ['Action', 'Crime', 'Thriller'],\n",
              " ['Action'],\n",
              " ['Adventure', 'Animation', 'Family', 'Fantasy', 'Science Fiction'],\n",
              " ['Adventure', 'Action', 'Thriller'],\n",
              " ['Horror', 'Thriller', 'Science Fiction'],\n",
              " ['Comedy', 'Drama', 'Romance'],\n",
              " ['Science Fiction', 'Horror', 'Action', 'Thriller'],\n",
              " ['Drama', 'History', 'Crime'],\n",
              " ['Crime', 'Drama', 'Thriller'],\n",
              " ['Family', 'Adventure', 'Animation', 'Comedy'],\n",
              " ['Comedy', 'Romance'],\n",
              " ['Drama'],\n",
              " ['Comedy', 'Romance'],\n",
              " ['Romance', 'Comedy'],\n",
              " ['Drama', 'Thriller', 'Science Fiction', 'Mystery'],\n",
              " ['Horror', 'Mystery', 'Thriller'],\n",
              " ['Drama', 'Family', 'Romance'],\n",
              " ['Comedy', 'Drama', 'Romance'],\n",
              " ['Drama', 'Comedy', 'Romance'],\n",
              " ['Action', 'Thriller', 'Drama'],\n",
              " ['Thriller', 'Drama'],\n",
              " ['Science Fiction', 'Action', 'Adventure', 'Thriller'],\n",
              " ['Action', 'Science Fiction', 'Thriller'],\n",
              " ['Drama', 'Comedy', 'Romance'],\n",
              " ['Drama'],\n",
              " ['Thriller', 'Crime', 'Drama'],\n",
              " ['Science Fiction', 'Comedy', 'Crime', 'Action'],\n",
              " ['Fantasy', 'Comedy', 'Family'],\n",
              " ['Crime', 'Mystery', 'Thriller'],\n",
              " ['Horror', 'Mystery', 'Thriller'],\n",
              " ['Mystery', 'Adventure', 'Comedy'],\n",
              " ['Western', 'Animation', 'Adventure', 'Comedy', 'Family'],\n",
              " ['Action', 'Thriller'],\n",
              " ['Action', 'Fantasy', 'Adventure'],\n",
              " ['Action', 'Adventure', 'Comedy', 'Thriller'],\n",
              " ['Action', 'History', 'War'],\n",
              " ['Comedy'],\n",
              " ['Drama', 'Romance'],\n",
              " ['Crime', 'Drama', 'Thriller'],\n",
              " ['Comedy', 'Crime', 'Drama'],\n",
              " ['Comedy', 'Romance'],\n",
              " ['Comedy', 'Drama'],\n",
              " ['Action', 'Crime', 'Drama', 'Thriller'],\n",
              " ['Science Fiction', 'Adventure', 'Action'],\n",
              " ['Action', 'Adventure', 'Drama', 'Thriller'],\n",
              " ['Romance', 'Comedy'],\n",
              " ['Drama', 'Action', 'History', 'War'],\n",
              " ['Drama', 'Thriller', 'Crime'],\n",
              " ['Drama'],\n",
              " ['Action', 'Adventure', 'Crime', 'Thriller'],\n",
              " ['Thriller', 'Drama', 'History'],\n",
              " ['Drama', 'Fantasy', 'Horror'],\n",
              " ['Action', 'Adventure', 'Comedy', 'Family'],\n",
              " ['Action', 'Drama', 'Thriller'],\n",
              " ['Comedy', 'Drama'],\n",
              " ['Adventure', 'Fantasy', 'Animation', 'Family'],\n",
              " ['Comedy', 'Romance'],\n",
              " ['Action', 'Comedy', 'Crime', 'Drama', 'Music'],\n",
              " ['Horror', 'Thriller'],\n",
              " ['Thriller', 'Crime', 'Romance'],\n",
              " ['Drama', 'Thriller', 'Mystery'],\n",
              " ['Action', 'Fantasy', 'Science Fiction', 'Thriller'],\n",
              " ['Action', 'Comedy'],\n",
              " ['Drama', 'Mystery', 'Thriller', 'Crime'],\n",
              " ['Drama', 'War'],\n",
              " ['Drama', 'Comedy'],\n",
              " ['Adventure'],\n",
              " ['Crime', 'Drama', 'Mystery', 'Thriller'],\n",
              " ['Drama', 'Science Fiction', 'Mystery', 'Romance'],\n",
              " ['War', 'Adventure', 'Drama', 'Romance'],\n",
              " ['Drama', 'Mystery', 'Thriller', 'Horror'],\n",
              " ['Drama', 'Romance'],\n",
              " ['Drama', 'Family'],\n",
              " ['Action', 'Adventure', 'Comedy', 'Thriller'],\n",
              " ['Comedy', 'Crime', 'Drama', 'Romance', 'Thriller'],\n",
              " ['Action', 'Crime', 'Drama', 'Thriller'],\n",
              " ['Adventure', 'Family', 'Science Fiction', 'Thriller'],\n",
              " ['Horror', 'Thriller'],\n",
              " ['Comedy', 'Family'],\n",
              " ['Drama', 'Romance'],\n",
              " ['Comedy', 'Drama'],\n",
              " ['Comedy'],\n",
              " ['Action', 'Adventure', 'Comedy', 'Drama', 'Family'],\n",
              " ['Action', 'Comedy', 'Science Fiction'],\n",
              " ['Drama', 'Mystery', 'Thriller'],\n",
              " ['Crime', 'Thriller', 'Horror'],\n",
              " ['Comedy', 'Romance'],\n",
              " ['Drama'],\n",
              " ['Drama', 'Romance', 'Comedy', 'Music'],\n",
              " ['Action', 'Adventure', 'Comedy'],\n",
              " ['Horror', 'Thriller'],\n",
              " ['Drama', 'Crime'],\n",
              " ['Drama', 'Mystery'],\n",
              " ['Action', 'Comedy', 'Thriller'],\n",
              " ['Action', 'Comedy'],\n",
              " ['Science Fiction', 'Action', 'Adventure'],\n",
              " ['Fantasy', 'Action', 'Horror'],\n",
              " ['Action', 'Crime', 'Drama', 'Thriller'],\n",
              " ['Drama', 'Western'],\n",
              " ['Action', 'Adventure', 'Thriller'],\n",
              " ['Action', 'Thriller'],\n",
              " ['Adventure', 'Fantasy', 'Action'],\n",
              " ['Science Fiction', 'Adventure', 'Mystery'],\n",
              " ['Drama', 'Comedy', 'Romance'],\n",
              " ['Action', 'Adventure', 'Fantasy'],\n",
              " ['Animation', 'Adventure', 'Comedy', 'Family', 'Action'],\n",
              " ['Adventure', 'Fantasy', 'Drama'],\n",
              " ['Action', 'Comedy', 'Crime'],\n",
              " ['Adventure', 'Drama', 'Action'],\n",
              " ['Animation', 'Comedy', 'Adventure', 'Family'],\n",
              " ['Comedy', 'Fantasy'],\n",
              " ['Crime', 'Drama', 'Thriller'],\n",
              " ['Drama'],\n",
              " ['Family', 'Animation', 'Comedy', 'Adventure'],\n",
              " ['Comedy', 'Music', 'Romance'],\n",
              " ['Action', 'Comedy', 'Science Fiction'],\n",
              " ['Science Fiction', 'Adventure', 'Fantasy'],\n",
              " ['Action', 'Science Fiction', 'Adventure', 'Thriller'],\n",
              " ['Drama', 'Science Fiction'],\n",
              " ['Action', 'Adventure', 'Thriller'],\n",
              " ['Action', 'Thriller', 'Crime', 'Drama'],\n",
              " ['Comedy', 'Fantasy'],\n",
              " ['Drama', 'Romance'],\n",
              " ['Drama', 'Thriller'],\n",
              " ['Comedy'],\n",
              " ...]"
            ]
          },
          "metadata": {
            "tags": []
          },
          "execution_count": 4
        }
      ]
    },
    {
      "cell_type": "markdown",
      "metadata": {
        "id": "Ax6g2C8SVp_M"
      },
      "source": [
        "ВАРИАНТ 2"
      ]
    },
    {
      "cell_type": "code",
      "metadata": {
        "id": "otO3SbrSVp_N"
      },
      "source": [
        ""
      ],
      "execution_count": null,
      "outputs": []
    },
    {
      "cell_type": "markdown",
      "metadata": {
        "id": "T9_bPWpkVp_Q"
      },
      "source": [
        "# 12. Фильмы какого жанра чаще всего становятся прибыльными? "
      ]
    },
    {
      "cell_type": "code",
      "metadata": {
        "id": "Tmt8MaK1Vp_R"
      },
      "source": [
        ""
      ],
      "execution_count": null,
      "outputs": []
    },
    {
      "cell_type": "markdown",
      "metadata": {
        "id": "0F23bgsDVp_U"
      },
      "source": [
        "# 13. У какого режиссера самые большие суммарные кассовые сборы?"
      ]
    },
    {
      "cell_type": "code",
      "metadata": {
        "id": "K6Z3J8ygVp_X"
      },
      "source": [
        ""
      ],
      "execution_count": null,
      "outputs": []
    },
    {
      "cell_type": "markdown",
      "metadata": {
        "id": "PsYC9FgRVp_a"
      },
      "source": [
        "# 14. Какой режисер снял больше всего фильмов в стиле Action?"
      ]
    },
    {
      "cell_type": "code",
      "metadata": {
        "id": "wd2M-wHeVp_b"
      },
      "source": [
        ""
      ],
      "execution_count": null,
      "outputs": []
    },
    {
      "cell_type": "markdown",
      "metadata": {
        "id": "PQ0KciD7Vp_f"
      },
      "source": [
        "# 15. Фильмы с каким актером принесли самые высокие кассовые сборы в 2012 году? "
      ]
    },
    {
      "cell_type": "code",
      "metadata": {
        "id": "aga62oeKVp_g"
      },
      "source": [
        ""
      ],
      "execution_count": null,
      "outputs": []
    },
    {
      "cell_type": "markdown",
      "metadata": {
        "id": "mWHyyL7QVp_j"
      },
      "source": [
        "# 16. Какой актер снялся в большем количестве высокобюджетных фильмов?"
      ]
    },
    {
      "cell_type": "code",
      "metadata": {
        "id": "qQtmHKTFVp_k"
      },
      "source": [
        ""
      ],
      "execution_count": null,
      "outputs": []
    },
    {
      "cell_type": "markdown",
      "metadata": {
        "id": "NIh6AaW5Vp_n"
      },
      "source": [
        "# 17. В фильмах какого жанра больше всего снимался Nicolas Cage? "
      ]
    },
    {
      "cell_type": "code",
      "metadata": {
        "id": "H74SJDIBVp_n"
      },
      "source": [
        ""
      ],
      "execution_count": null,
      "outputs": []
    },
    {
      "cell_type": "markdown",
      "metadata": {
        "id": "RqOmPRfWVp_q"
      },
      "source": [
        "# 18. Самый убыточный фильм от Paramount Pictures"
      ]
    },
    {
      "cell_type": "code",
      "metadata": {
        "id": "9E_B0Y96Vp_r"
      },
      "source": [
        ""
      ],
      "execution_count": null,
      "outputs": []
    },
    {
      "cell_type": "markdown",
      "metadata": {
        "id": "vS8Ur6ddVp_u"
      },
      "source": [
        "# 19. Какой год стал самым успешным по суммарным кассовым сборам?"
      ]
    },
    {
      "cell_type": "code",
      "metadata": {
        "id": "Dnbt4GdIVp_v"
      },
      "source": [
        ""
      ],
      "execution_count": null,
      "outputs": []
    },
    {
      "cell_type": "markdown",
      "metadata": {
        "id": "JAzJh4QAVp_z"
      },
      "source": [
        "# 20. Какой самый прибыльный год для студии Warner Bros?"
      ]
    },
    {
      "cell_type": "code",
      "metadata": {
        "id": "wgVu02DEVp_0"
      },
      "source": [
        ""
      ],
      "execution_count": null,
      "outputs": []
    },
    {
      "cell_type": "markdown",
      "metadata": {
        "id": "8Im1S2HRVp_4"
      },
      "source": [
        "# 21. В каком месяце за все годы суммарно вышло больше всего фильмов?"
      ]
    },
    {
      "cell_type": "code",
      "metadata": {
        "id": "lev6TH7gVp_4"
      },
      "source": [
        ""
      ],
      "execution_count": null,
      "outputs": []
    },
    {
      "cell_type": "markdown",
      "metadata": {
        "id": "uAJsZ_NeVp_7"
      },
      "source": [
        "# 22. Сколько суммарно вышло фильмов летом? (за июнь, июль, август)"
      ]
    },
    {
      "cell_type": "code",
      "metadata": {
        "id": "Aa-hEREoVp_8"
      },
      "source": [
        ""
      ],
      "execution_count": null,
      "outputs": []
    },
    {
      "cell_type": "markdown",
      "metadata": {
        "id": "G94ppOY1VqAA"
      },
      "source": [
        "# 23. Для какого режиссера зима – самое продуктивное время года? "
      ]
    },
    {
      "cell_type": "code",
      "metadata": {
        "id": "RhNTsamuVqAB"
      },
      "source": [
        ""
      ],
      "execution_count": null,
      "outputs": []
    },
    {
      "cell_type": "markdown",
      "metadata": {
        "id": "RBo0JVjVVqAF"
      },
      "source": [
        "# 24. Какая студия дает самые длинные названия своим фильмам по количеству символов?"
      ]
    },
    {
      "cell_type": "code",
      "metadata": {
        "id": "QRGS8L0iVqAG"
      },
      "source": [
        ""
      ],
      "execution_count": null,
      "outputs": []
    },
    {
      "cell_type": "markdown",
      "metadata": {
        "id": "9G0hbvR7VqAK"
      },
      "source": [
        "# 25. Описание фильмов какой студии в среднем самые длинные по количеству слов?"
      ]
    },
    {
      "cell_type": "code",
      "metadata": {
        "id": "Ge2GsLNxVqAK"
      },
      "source": [
        ""
      ],
      "execution_count": null,
      "outputs": []
    },
    {
      "cell_type": "markdown",
      "metadata": {
        "id": "FJ1AFt90VqAP"
      },
      "source": [
        "# 26. Какие фильмы входят в 1 процент лучших по рейтингу? \n",
        "по vote_average"
      ]
    },
    {
      "cell_type": "code",
      "metadata": {
        "id": "8qmJVq4CVqAQ"
      },
      "source": [
        ""
      ],
      "execution_count": null,
      "outputs": []
    },
    {
      "cell_type": "markdown",
      "metadata": {
        "id": "MdXsUXbCVqAV"
      },
      "source": [
        "# 27. Какие актеры чаще всего снимаются в одном фильме вместе?\n"
      ]
    },
    {
      "cell_type": "markdown",
      "metadata": {
        "id": "4ymnxEVoVqAW"
      },
      "source": [
        "ВАРИАНТ 2"
      ]
    },
    {
      "cell_type": "markdown",
      "metadata": {
        "id": "U0nONFnGVqAX"
      },
      "source": [
        "# Submission"
      ]
    },
    {
      "cell_type": "code",
      "metadata": {
        "id": "IfcaRO9-VqAX",
        "colab": {
          "base_uri": "https://localhost:8080/"
        },
        "outputId": "a58593ab-e7ec-44a6-cd1b-4e9d1f334bf9"
      },
      "source": [
        "# в конце можно посмотреть свои ответы к каждому вопросу\n",
        "answers"
      ],
      "execution_count": null,
      "outputs": [
        {
          "output_type": "execute_result",
          "data": {
            "text/plain": [
              "{'1': 'Pirates of the Caribbean: On Stranger Tides (tt1298650)',\n",
              " '2': 'Gods and Generals (tt0279111)',\n",
              " '3': 'Winnie the Pooh (tt1449283)',\n",
              " '4': '110',\n",
              " '5': '107',\n",
              " '6': 'Avatar (tt0499549)',\n",
              " '7': 'The Lone Ranger (tt1210819)',\n",
              " '8': 1478}"
            ]
          },
          "metadata": {
            "tags": []
          },
          "execution_count": 23
        }
      ]
    },
    {
      "cell_type": "code",
      "metadata": {
        "id": "SiRmHPl8VqAd",
        "colab": {
          "base_uri": "https://localhost:8080/"
        },
        "outputId": "c40e52e4-7624-4398-f002-dcd3a7ba6e8c"
      },
      "source": [
        "# и убедиться что ни чего не пропустил)\n",
        "len(answers)"
      ],
      "execution_count": null,
      "outputs": [
        {
          "output_type": "execute_result",
          "data": {
            "text/plain": [
              "8"
            ]
          },
          "metadata": {
            "tags": []
          },
          "execution_count": 24
        }
      ]
    },
    {
      "cell_type": "code",
      "metadata": {
        "id": "uCfuTkRbVqAg"
      },
      "source": [
        ""
      ],
      "execution_count": null,
      "outputs": []
    },
    {
      "cell_type": "code",
      "metadata": {
        "id": "Vwx3NrkSVqAl"
      },
      "source": [
        ""
      ],
      "execution_count": null,
      "outputs": []
    }
  ]
}