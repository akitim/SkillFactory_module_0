{
  "nbformat": 4,
  "nbformat_minor": 0,
  "metadata": {
    "colab": {
      "name": "Project 1 Timofey Akimkin.ipynb",
      "provenance": [],
      "include_colab_link": true
    },
    "kernelspec": {
      "display_name": "Python 3",
      "language": "python",
      "name": "python3"
    },
    "language_info": {
      "codemirror_mode": {
        "name": "ipython",
        "version": 3
      },
      "file_extension": ".py",
      "mimetype": "text/x-python",
      "name": "python",
      "nbconvert_exporter": "python",
      "pygments_lexer": "ipython3",
      "version": "3.7.4"
    }
  },
  "cells": [
    {
      "cell_type": "markdown",
      "metadata": {
        "id": "view-in-github",
        "colab_type": "text"
      },
      "source": [
        "<a href=\"https://colab.research.google.com/github/akitim/SkillFactory_projects/blob/main/Project_1_Who_wants_to_be_a_millionaire_Timofey_Akimkin.ipynb\" target=\"_parent\"><img src=\"https://colab.research.google.com/assets/colab-badge.svg\" alt=\"Open In Colab\"/></a>"
      ]
    },
    {
      "cell_type": "code",
      "metadata": {
        "_cell_guid": "b1076dfc-b9ad-4769-8c92-a6c4dae69d19",
        "_uuid": "8f2839f25d086af736a60e9eeb907d3b93b6e0e5",
        "id": "U2D2gTdJVp90",
        "colab": {
          "base_uri": "https://localhost:8080/"
        },
        "outputId": "761660d0-e3c1-4649-eac7-999ed8ad13c1"
      },
      "source": [
        "import numpy as np\n",
        "import pandas as pd\n",
        "import datetime as dt\n",
        "# import seaborn as sns\n",
        "# import matplotlib.pyplot as plt\n",
        "# from collections import Counter\n",
        " \n",
        "import sys\n",
        "from google.colab import drive\n",
        "drive.mount('/content/gdrive', force_remount=True)\n",
        "sys.path.clear\n",
        "sys.path.append('/content/gdrive/MyDrive/SkillFactory')"
      ],
      "execution_count": 2,
      "outputs": [
        {
          "output_type": "stream",
          "text": [
            "Mounted at /content/gdrive\n"
          ],
          "name": "stdout"
        }
      ]
    },
    {
      "cell_type": "code",
      "metadata": {
        "_cell_guid": "79c7e3d0-c299-4dcb-8224-4455121ee9b0",
        "_uuid": "d629ff2d2480ee46fbb7e2d37f6b5fab8052498a",
        "id": "oyGfxL3eVp9-",
        "colab": {
          "base_uri": "https://localhost:8080/",
          "height": 185
        },
        "outputId": "0555aa63-6d7e-4ad8-815e-c7e2e77e1dca"
      },
      "source": [
        "data = pd.read_csv('/content/gdrive/MyDrive/SkillFactory/movie_bd_v5.csv')\n",
        "data.head(1)"
      ],
      "execution_count": 3,
      "outputs": [
        {
          "output_type": "execute_result",
          "data": {
            "text/html": [
              "<div>\n",
              "<style scoped>\n",
              "    .dataframe tbody tr th:only-of-type {\n",
              "        vertical-align: middle;\n",
              "    }\n",
              "\n",
              "    .dataframe tbody tr th {\n",
              "        vertical-align: top;\n",
              "    }\n",
              "\n",
              "    .dataframe thead th {\n",
              "        text-align: right;\n",
              "    }\n",
              "</style>\n",
              "<table border=\"1\" class=\"dataframe\">\n",
              "  <thead>\n",
              "    <tr style=\"text-align: right;\">\n",
              "      <th></th>\n",
              "      <th>imdb_id</th>\n",
              "      <th>budget</th>\n",
              "      <th>revenue</th>\n",
              "      <th>original_title</th>\n",
              "      <th>cast</th>\n",
              "      <th>director</th>\n",
              "      <th>tagline</th>\n",
              "      <th>overview</th>\n",
              "      <th>runtime</th>\n",
              "      <th>genres</th>\n",
              "      <th>production_companies</th>\n",
              "      <th>release_date</th>\n",
              "      <th>vote_average</th>\n",
              "      <th>release_year</th>\n",
              "    </tr>\n",
              "  </thead>\n",
              "  <tbody>\n",
              "    <tr>\n",
              "      <th>0</th>\n",
              "      <td>tt0369610</td>\n",
              "      <td>150000000</td>\n",
              "      <td>1513528810</td>\n",
              "      <td>Jurassic World</td>\n",
              "      <td>Chris Pratt|Bryce Dallas Howard|Irrfan Khan|Vi...</td>\n",
              "      <td>Colin Trevorrow</td>\n",
              "      <td>The park is open.</td>\n",
              "      <td>Twenty-two years after the events of Jurassic ...</td>\n",
              "      <td>124</td>\n",
              "      <td>Action|Adventure|Science Fiction|Thriller</td>\n",
              "      <td>Universal Studios|Amblin Entertainment|Legenda...</td>\n",
              "      <td>6/9/2015</td>\n",
              "      <td>6.5</td>\n",
              "      <td>2015</td>\n",
              "    </tr>\n",
              "  </tbody>\n",
              "</table>\n",
              "</div>"
            ],
            "text/plain": [
              "     imdb_id     budget     revenue  ... release_date vote_average release_year\n",
              "0  tt0369610  150000000  1513528810  ...     6/9/2015          6.5         2015\n",
              "\n",
              "[1 rows x 14 columns]"
            ]
          },
          "metadata": {
            "tags": []
          },
          "execution_count": 3
        }
      ]
    },
    {
      "cell_type": "code",
      "metadata": {
        "id": "CoYUnagMVp-C"
      },
      "source": [
        "# data.describe()"
      ],
      "execution_count": 4,
      "outputs": []
    },
    {
      "cell_type": "markdown",
      "metadata": {
        "id": "DTIt7ezGVp-G"
      },
      "source": [
        "# Предобработка"
      ]
    },
    {
      "cell_type": "code",
      "metadata": {
        "id": "jNb40DwKVp-H",
        "colab": {
          "base_uri": "https://localhost:8080/",
          "height": 383
        },
        "outputId": "300effd9-7dd6-472b-f3eb-ed4af2df0cd5"
      },
      "source": [
        "answers = {} # создадим словарь для ответов\n",
        "\n",
        "\n",
        "# тут другие ваши предобработки колонок например:\n",
        "\n",
        "date_sample = data.release_date[0] #\n",
        "if type(date_sample) == str:\n",
        "    data.release_date = data.release_date.apply(lambda x: dt.datetime.strptime(x,'%m/%d/%Y'))\n",
        "\n",
        "# display (data[data.release_date == data.release_date[0]])\n",
        "# print(data.release_date[0].month)\n",
        "# data.release_date = data.release_date.apply(dt.datetime.strptime,args = ('%m/%d/%Y',))\n",
        "\n",
        "data['profit'] = data.revenue - data.budget\n",
        "\n",
        "data.sample(3)\n",
        "\n",
        "#the time given in the dataset is in string format.\n",
        "#So we need to change this in datetime format\n",
        "# ... \"That my dear Balin, is not entirely true\" "
      ],
      "execution_count": 5,
      "outputs": [
        {
          "output_type": "execute_result",
          "data": {
            "text/html": [
              "<div>\n",
              "<style scoped>\n",
              "    .dataframe tbody tr th:only-of-type {\n",
              "        vertical-align: middle;\n",
              "    }\n",
              "\n",
              "    .dataframe tbody tr th {\n",
              "        vertical-align: top;\n",
              "    }\n",
              "\n",
              "    .dataframe thead th {\n",
              "        text-align: right;\n",
              "    }\n",
              "</style>\n",
              "<table border=\"1\" class=\"dataframe\">\n",
              "  <thead>\n",
              "    <tr style=\"text-align: right;\">\n",
              "      <th></th>\n",
              "      <th>imdb_id</th>\n",
              "      <th>budget</th>\n",
              "      <th>revenue</th>\n",
              "      <th>original_title</th>\n",
              "      <th>cast</th>\n",
              "      <th>director</th>\n",
              "      <th>tagline</th>\n",
              "      <th>overview</th>\n",
              "      <th>runtime</th>\n",
              "      <th>genres</th>\n",
              "      <th>production_companies</th>\n",
              "      <th>release_date</th>\n",
              "      <th>vote_average</th>\n",
              "      <th>release_year</th>\n",
              "      <th>profit</th>\n",
              "    </tr>\n",
              "  </thead>\n",
              "  <tbody>\n",
              "    <tr>\n",
              "      <th>528</th>\n",
              "      <td>tt0239395</td>\n",
              "      <td>60000000</td>\n",
              "      <td>93375151</td>\n",
              "      <td>Cats &amp; Dogs</td>\n",
              "      <td>Jeff Goldblum|Elizabeth Perkins|Alexander Poll...</td>\n",
              "      <td>Lawrence Guterman</td>\n",
              "      <td>Things Are Gonna Get Hairy!</td>\n",
              "      <td>When a professor develops a vaccine that elimi...</td>\n",
              "      <td>87</td>\n",
              "      <td>Comedy|Family</td>\n",
              "      <td>Village Roadshow Pictures|NPV Entertainment|Ma...</td>\n",
              "      <td>2001-07-04</td>\n",
              "      <td>5.0</td>\n",
              "      <td>2001</td>\n",
              "      <td>33375151</td>\n",
              "    </tr>\n",
              "    <tr>\n",
              "      <th>924</th>\n",
              "      <td>tt0264472</td>\n",
              "      <td>45000000</td>\n",
              "      <td>94935764</td>\n",
              "      <td>Changing Lanes</td>\n",
              "      <td>Ben Affleck|Samuel L. Jackson|Kim Staunton|Ton...</td>\n",
              "      <td>Roger Michell</td>\n",
              "      <td>An ambitious lawyer, a desperate father, they ...</td>\n",
              "      <td>A rush-hour fender-bender on New York City's c...</td>\n",
              "      <td>89</td>\n",
              "      <td>Action|Adventure|Crime|Thriller</td>\n",
              "      <td>Paramount Pictures</td>\n",
              "      <td>2002-04-07</td>\n",
              "      <td>5.7</td>\n",
              "      <td>2002</td>\n",
              "      <td>49935764</td>\n",
              "    </tr>\n",
              "    <tr>\n",
              "      <th>64</th>\n",
              "      <td>tt3332064</td>\n",
              "      <td>150000000</td>\n",
              "      <td>128388320</td>\n",
              "      <td>Pan</td>\n",
              "      <td>Levi Miller|Garrett Hedlund|Hugh Jackman|Roone...</td>\n",
              "      <td>Joe Wright</td>\n",
              "      <td>Every legend has a beginning.</td>\n",
              "      <td>Living a bleak existence at a London orphanage...</td>\n",
              "      <td>111</td>\n",
              "      <td>Adventure|Family|Fantasy</td>\n",
              "      <td>Warner Bros.|Moving Picture Company (MPC)|Berl...</td>\n",
              "      <td>2015-09-24</td>\n",
              "      <td>5.9</td>\n",
              "      <td>2015</td>\n",
              "      <td>-21611680</td>\n",
              "    </tr>\n",
              "  </tbody>\n",
              "</table>\n",
              "</div>"
            ],
            "text/plain": [
              "       imdb_id     budget    revenue  ... vote_average release_year    profit\n",
              "528  tt0239395   60000000   93375151  ...          5.0         2001  33375151\n",
              "924  tt0264472   45000000   94935764  ...          5.7         2002  49935764\n",
              "64   tt3332064  150000000  128388320  ...          5.9         2015 -21611680\n",
              "\n",
              "[3 rows x 15 columns]"
            ]
          },
          "metadata": {
            "tags": []
          },
          "execution_count": 5
        }
      ]
    },
    {
      "cell_type": "markdown",
      "metadata": {
        "id": "YxZaH-nPVp-L"
      },
      "source": [
        "# 1. У какого фильма из списка самый большой бюджет?"
      ]
    },
    {
      "cell_type": "markdown",
      "metadata": {
        "id": "Nd-G5gX6Vp-M"
      },
      "source": [
        "Использовать варианты ответов в коде решения запрещено.    \n",
        "Вы думаете и в жизни у вас будут варианты ответов?)"
      ]
    },
    {
      "cell_type": "code",
      "metadata": {
        "id": "uVnXAY5RVp-O"
      },
      "source": [
        "# в словарь вставляем номер вопроса и ваш ответ на него\n",
        "# Пример: \n",
        "#answers['1'] = '2. Spider-Man 3 (tt0413300)'\n",
        "\n",
        "# запишите свой вариант ответа\n",
        "answers['01'] = 'Pirates of the Caribbean: On Stranger Tides (tt1298650)'\n",
        "# если ответили верно, можете добавить комментарий со значком \"+\""
      ],
      "execution_count": 6,
      "outputs": []
    },
    {
      "cell_type": "code",
      "metadata": {
        "id": "dZwb3m28Vp-S",
        "colab": {
          "base_uri": "https://localhost:8080/"
        },
        "outputId": "bfbaee00-7ea9-46e2-ccaf-eca43b1070b8"
      },
      "source": [
        "# тут пишем ваш код для решения данного вопроса:\n",
        "title = data[data.budget == data.budget.max()].original_title.iloc[0]\n",
        "id = data[data.budget == data.budget.max()].imdb_id.iloc[0]\n",
        "print(title + ' (' + id + ')')"
      ],
      "execution_count": 7,
      "outputs": [
        {
          "output_type": "stream",
          "text": [
            "Pirates of the Caribbean: On Stranger Tides (tt1298650)\n"
          ],
          "name": "stdout"
        }
      ]
    },
    {
      "cell_type": "code",
      "metadata": {
        "id": "kj49uH8BnhJt"
      },
      "source": [
        ""
      ],
      "execution_count": 7,
      "outputs": []
    },
    {
      "cell_type": "markdown",
      "metadata": {
        "id": "K7L3nbRXVp-X"
      },
      "source": [
        "ВАРИАНТ 2"
      ]
    },
    {
      "cell_type": "code",
      "metadata": {
        "id": "OGaoQI7rVp-X",
        "colab": {
          "base_uri": "https://localhost:8080/"
        },
        "outputId": "196078f0-23e4-45dd-e7bf-9a652414cdb4"
      },
      "source": [
        "# можно добавлять разные варианты решения\n",
        "title = data.query('budget == budget.max()').original_title.iloc[0]\n",
        "id = data.query('budget == budget.max()').imdb_id.iloc[0]\n",
        "print(title + ' (' + id + ')')"
      ],
      "execution_count": 8,
      "outputs": [
        {
          "output_type": "stream",
          "text": [
            "Pirates of the Caribbean: On Stranger Tides (tt1298650)\n"
          ],
          "name": "stdout"
        }
      ]
    },
    {
      "cell_type": "markdown",
      "metadata": {
        "id": "FNRbbI3vVp-c"
      },
      "source": [
        "# 2. Какой из фильмов самый длительный (в минутах)?"
      ]
    },
    {
      "cell_type": "code",
      "metadata": {
        "id": "vHAoEXNTVp-d"
      },
      "source": [
        "# думаю логику работы с этим словарем вы уже поняли, \n",
        "# по этому не буду больше его дублировать\n",
        "answers['02'] = 'Gods and Generals (tt0279111)'"
      ],
      "execution_count": 9,
      "outputs": []
    },
    {
      "cell_type": "code",
      "metadata": {
        "id": "ot-VX2XrVp-g",
        "colab": {
          "base_uri": "https://localhost:8080/"
        },
        "outputId": "18cef5f0-3304-41f4-e83b-d6d79eac1445"
      },
      "source": [
        "data_filtered = data[data.runtime == data.runtime.max()]\n",
        "\n",
        "title = data_filtered.original_title.iloc[0]\n",
        "id = data_filtered.imdb_id.iloc[0]\n",
        "\n",
        "print(title + ' (' + id + ')')\n",
        "\n",
        "#data.query(\"original_title == 'Gods and Generals'\").runtime.values[0]\n",
        "#display(data[data.cast.str.contains('Anthony Hopkins')])\n"
      ],
      "execution_count": 10,
      "outputs": [
        {
          "output_type": "stream",
          "text": [
            "Gods and Generals (tt0279111)\n"
          ],
          "name": "stdout"
        }
      ]
    },
    {
      "cell_type": "markdown",
      "metadata": {
        "id": "gqr5viAhRQH3"
      },
      "source": [
        "ВАРИАНТ 2"
      ]
    },
    {
      "cell_type": "code",
      "metadata": {
        "colab": {
          "base_uri": "https://localhost:8080/"
        },
        "id": "0fDqcTEHOj3k",
        "outputId": "61baee27-c39c-4cc5-bdd8-c3fd4bbd37f6"
      },
      "source": [
        "data_filtered = data.query('runtime == runtime.max()')\n",
        "\n",
        "title = data_filtered.original_title.iloc[0] \n",
        "id = data_filtered.imdb_id.iloc[0]\n",
        "\n",
        "print(title + ' (' + id + ')')"
      ],
      "execution_count": 11,
      "outputs": [
        {
          "output_type": "stream",
          "text": [
            "Gods and Generals (tt0279111)\n"
          ],
          "name": "stdout"
        }
      ]
    },
    {
      "cell_type": "markdown",
      "metadata": {
        "id": "bapLlpW8Vp-k"
      },
      "source": [
        "# 3. Какой из фильмов самый короткий (в минутах)?\n",
        "\n",
        "\n",
        "\n"
      ]
    },
    {
      "cell_type": "code",
      "metadata": {
        "id": "YJuabOmVRig_"
      },
      "source": [
        "answers['03'] = 'Winnie the Pooh (tt1449283)'"
      ],
      "execution_count": 12,
      "outputs": []
    },
    {
      "cell_type": "code",
      "metadata": {
        "id": "YBxaSHuAVp-l",
        "colab": {
          "base_uri": "https://localhost:8080/"
        },
        "outputId": "3e0a29bb-177a-4590-c5c8-db78900ca08a"
      },
      "source": [
        "data_filtered = data[data.runtime == data.runtime.min()]\n",
        "\n",
        "title = data_filtered.original_title.iloc[0]\n",
        "id = data_filtered.imdb_id.iloc[0]\n",
        "\n",
        "print(title + ' (' + id + ')')\n"
      ],
      "execution_count": 13,
      "outputs": [
        {
          "output_type": "stream",
          "text": [
            "Winnie the Pooh (tt1449283)\n"
          ],
          "name": "stdout"
        }
      ]
    },
    {
      "cell_type": "markdown",
      "metadata": {
        "id": "dO1V3L48RSNJ"
      },
      "source": [
        "ВАРИАНТ 2"
      ]
    },
    {
      "cell_type": "code",
      "metadata": {
        "colab": {
          "base_uri": "https://localhost:8080/"
        },
        "id": "Fk_VUwDBRZ03",
        "outputId": "0ca1fa98-fd1f-42bc-cb03-43c82192c13a"
      },
      "source": [
        "data_filtered = data.query('runtime == runtime.min()')\n",
        "\n",
        "title = data_filtered.original_title.iloc[0] \n",
        "id = data_filtered.imdb_id.iloc[0]\n",
        "\n",
        "print(title + ' (' + id + ')')"
      ],
      "execution_count": 14,
      "outputs": [
        {
          "output_type": "stream",
          "text": [
            "Winnie the Pooh (tt1449283)\n"
          ],
          "name": "stdout"
        }
      ]
    },
    {
      "cell_type": "markdown",
      "metadata": {
        "id": "TfQbxbfNVp-p"
      },
      "source": [
        "# 4. Какова средняя длительность фильмов?\n"
      ]
    },
    {
      "cell_type": "code",
      "metadata": {
        "colab": {
          "base_uri": "https://localhost:8080/"
        },
        "id": "9zKYSwpER5KS",
        "outputId": "f6fb8a45-01c7-4aa6-d62f-7abaaa9e6aa3"
      },
      "source": [
        "print (round(data.runtime.mean()))\n",
        "\n",
        "answers['04'] = '110'"
      ],
      "execution_count": 15,
      "outputs": [
        {
          "output_type": "stream",
          "text": [
            "110\n"
          ],
          "name": "stdout"
        }
      ]
    },
    {
      "cell_type": "markdown",
      "metadata": {
        "id": "r5TvbnT_Vp-u"
      },
      "source": [
        "# 5. Каково медианное значение длительности фильмов? "
      ]
    },
    {
      "cell_type": "code",
      "metadata": {
        "id": "iBROplKnVp-v",
        "colab": {
          "base_uri": "https://localhost:8080/"
        },
        "outputId": "cf0e6bdb-b642-449f-a0de-f9992c8a4d48"
      },
      "source": [
        "print (round(data.runtime.median()))\n",
        "\n",
        "answers['05'] = '107'"
      ],
      "execution_count": 16,
      "outputs": [
        {
          "output_type": "stream",
          "text": [
            "107\n"
          ],
          "name": "stdout"
        }
      ]
    },
    {
      "cell_type": "markdown",
      "metadata": {
        "id": "39P-deDSVp-y"
      },
      "source": [
        "# 6. Какой самый прибыльный фильм?\n",
        "#### Внимание! Здесь и далее под «прибылью» или «убытками» понимается разность между сборами и бюджетом фильма. (прибыль = сборы - бюджет) в нашем датасете это будет (profit = revenue - budget) "
      ]
    },
    {
      "cell_type": "code",
      "metadata": {
        "id": "UYZh4T9WVp-y",
        "colab": {
          "base_uri": "https://localhost:8080/"
        },
        "outputId": "84b853ad-7dc3-4ec1-fc06-8d10fd4b9a60"
      },
      "source": [
        "# лучше код получения столбца profit вынести в Предобработку что в начале\n",
        "data_filtered = data.query(\"profit == profit.max()\")\n",
        "title = data_filtered.original_title.iloc[0]\n",
        "id = data_filtered.imdb_id.iloc[0]\n",
        "\n",
        "print(title + ' (' + id + ')')\n",
        "\n",
        "answers['06'] = 'Avatar (tt0499549)'"
      ],
      "execution_count": 17,
      "outputs": [
        {
          "output_type": "stream",
          "text": [
            "Avatar (tt0499549)\n"
          ],
          "name": "stdout"
        }
      ]
    },
    {
      "cell_type": "markdown",
      "metadata": {
        "id": "M99JmIX4Vp-2"
      },
      "source": [
        "# 7. Какой фильм самый убыточный? "
      ]
    },
    {
      "cell_type": "code",
      "metadata": {
        "id": "w-D2m4XPVp-3",
        "colab": {
          "base_uri": "https://localhost:8080/"
        },
        "outputId": "f2a7fe0f-5682-4685-ba02-54f56e47ee96"
      },
      "source": [
        "data_filtered = data.query(\"profit == profit.min()\")\n",
        "title = data_filtered.original_title.iloc[0]\n",
        "id = data_filtered.imdb_id.iloc[0]\n",
        "\n",
        "print(title + ' (' + id + ')')\n",
        "\n",
        "answers['07'] = 'The Lone Ranger (tt1210819)'"
      ],
      "execution_count": 18,
      "outputs": [
        {
          "output_type": "stream",
          "text": [
            "The Lone Ranger (tt1210819)\n"
          ],
          "name": "stdout"
        }
      ]
    },
    {
      "cell_type": "markdown",
      "metadata": {
        "id": "wEOM5ERVVp-6"
      },
      "source": [
        "# 8. У скольких фильмов из датасета объем сборов оказался выше бюджета?"
      ]
    },
    {
      "cell_type": "code",
      "metadata": {
        "id": "y00_7HD6Vp-7",
        "colab": {
          "base_uri": "https://localhost:8080/"
        },
        "outputId": "8a910e22-b6bf-4173-bb47-559be12aa141"
      },
      "source": [
        "data_filtered = data.query(\"profit > 0\")\n",
        "print(len(data_filtered))\n"
      ],
      "execution_count": 19,
      "outputs": [
        {
          "output_type": "stream",
          "text": [
            "1478\n"
          ],
          "name": "stdout"
        }
      ]
    },
    {
      "cell_type": "code",
      "metadata": {
        "id": "uzW4YMoVbXKY"
      },
      "source": [
        "answers['08'] = 1478"
      ],
      "execution_count": 20,
      "outputs": []
    },
    {
      "cell_type": "markdown",
      "metadata": {
        "id": "xhpspA9KVp_A"
      },
      "source": [
        "# 9. Какой фильм оказался самым кассовым в 2008 году?"
      ]
    },
    {
      "cell_type": "code",
      "metadata": {
        "id": "MoUyQr9RVp_B",
        "colab": {
          "base_uri": "https://localhost:8080/"
        },
        "outputId": "d863c33f-62d2-4662-ca75-989d5023acd7"
      },
      "source": [
        "data_2008 = data.query(\"release_year == 2008\").query(\"revenue == revenue.max()\")\n",
        "print(data_2008.original_title.iloc[0])\n"
      ],
      "execution_count": 21,
      "outputs": [
        {
          "output_type": "stream",
          "text": [
            "The Dark Knight\n"
          ],
          "name": "stdout"
        }
      ]
    },
    {
      "cell_type": "code",
      "metadata": {
        "id": "x7x2T2aNeHNo"
      },
      "source": [
        "answers['09'] = 'The Dark Knight'"
      ],
      "execution_count": 22,
      "outputs": []
    },
    {
      "cell_type": "markdown",
      "metadata": {
        "id": "Zi4hDKidVp_F"
      },
      "source": [
        "# 10. Самый убыточный фильм за период с 2012 по 2014 г. (включительно)?\n"
      ]
    },
    {
      "cell_type": "code",
      "metadata": {
        "id": "XqyRmufJVp_F",
        "colab": {
          "base_uri": "https://localhost:8080/"
        },
        "outputId": "7d2779bb-349f-49ad-e5ec-3cff41315539"
      },
      "source": [
        "data_filtered = data.query(\"(release_year >= 2012) & (release_year <= 2014)\").query(\"revenue == revenue.min()\")\n",
        "\n",
        "print(data_filtered.original_title.iloc[0])\n",
        "\n",
        "answers['10'] = 'Man of Tai Chi'\n"
      ],
      "execution_count": 63,
      "outputs": [
        {
          "output_type": "stream",
          "text": [
            "Man of Tai Chi\n"
          ],
          "name": "stdout"
        }
      ]
    },
    {
      "cell_type": "markdown",
      "metadata": {
        "id": "EA7Sa9dkVp_I"
      },
      "source": [
        "# 11. Какого жанра фильмов больше всего?"
      ]
    },
    {
      "cell_type": "code",
      "metadata": {
        "id": "zsJAwJ8QVp_J",
        "colab": {
          "base_uri": "https://localhost:8080/"
        },
        "outputId": "b4e6a641-90f1-4230-b7e4-532df0e5a335"
      },
      "source": [
        "gp = data.groupby(by = 'genres').count()['imdb_id']\n",
        "print(gp[gp == gp.max()].index[0])\n",
        "\n",
        "answers['11'] = 'Drama'\n"
      ],
      "execution_count": 24,
      "outputs": [
        {
          "output_type": "stream",
          "text": [
            "Comedy\n"
          ],
          "name": "stdout"
        }
      ]
    },
    {
      "cell_type": "markdown",
      "metadata": {
        "id": "Ax6g2C8SVp_M"
      },
      "source": [
        "ВАРИАНТ 2"
      ]
    },
    {
      "cell_type": "code",
      "metadata": {
        "id": "otO3SbrSVp_N",
        "colab": {
          "base_uri": "https://localhost:8080/"
        },
        "outputId": "c36bca09-ad71-4e9a-d116-1cd977422bb3"
      },
      "source": [
        "data = pd.read_csv('/content/gdrive/MyDrive/SkillFactory/movie_bd_v5.csv')\n",
        "\n",
        "data.genres = data.genres.str.split('|', expand=False)\n",
        "data = data.explode('genres')\n",
        "\n",
        "genres_pvt = data.pivot_table (values = ['original_title'],\n",
        "index = ['genres'],\n",
        "aggfunc = 'count',\n",
        "fill_value = 0,\n",
        "margins = True)\n",
        "\n",
        "print(genres_pvt['original_title'].\n",
        "      sort_values(ascending = False).index[1])"
      ],
      "execution_count": 25,
      "outputs": [
        {
          "output_type": "stream",
          "text": [
            "Drama\n"
          ],
          "name": "stdout"
        }
      ]
    },
    {
      "cell_type": "markdown",
      "metadata": {
        "id": "T9_bPWpkVp_Q"
      },
      "source": [
        "# 12. Фильмы какого жанра чаще всего становятся прибыльными? "
      ]
    },
    {
      "cell_type": "code",
      "metadata": {
        "id": "Tmt8MaK1Vp_R",
        "colab": {
          "base_uri": "https://localhost:8080/"
        },
        "outputId": "c753a8f1-1b6b-4556-a310-cdfac12f4e1d"
      },
      "source": [
        "data = pd.read_csv('/content/gdrive/MyDrive/SkillFactory/movie_bd_v5.csv')\n",
        "data['profit'] = data.revenue - data.budget\n",
        "data.genres = data.genres.str.split('|', expand=False)\n",
        "data = data.explode('genres')\n",
        "\n",
        "\n",
        "genres_pvt = data.pivot_table (values = ['profit'],\n",
        "index = ['genres'],\n",
        "aggfunc = 'sum',\n",
        "fill_value = 0,\n",
        "margins = False)\n",
        "\n",
        "print( genres_pvt.query(\"profit == profit.max()\").index[0] )\n",
        "\n",
        "answers['12'] = 'Adventure'"
      ],
      "execution_count": 26,
      "outputs": [
        {
          "output_type": "stream",
          "text": [
            "Adventure\n"
          ],
          "name": "stdout"
        }
      ]
    },
    {
      "cell_type": "markdown",
      "metadata": {
        "id": "0F23bgsDVp_U"
      },
      "source": [
        "# 13. У какого режиссера самые большие суммарные кассовые сборы?"
      ]
    },
    {
      "cell_type": "code",
      "metadata": {
        "id": "K6Z3J8ygVp_X",
        "colab": {
          "base_uri": "https://localhost:8080/"
        },
        "outputId": "4de3ef50-c051-40f0-b127-f7aa496722b5"
      },
      "source": [
        "data = pd.read_csv('/content/gdrive/MyDrive/SkillFactory/movie_bd_v5.csv')\n",
        "data['profit'] = data.revenue - data.budget\n",
        "\n",
        "data.director = data.director.str.split('|', expand=False)\n",
        "data_expl = data.explode('director')\n",
        "\n",
        "# data_expl[data_expl.director.str.find('Wachowski') != -1]\n",
        "gp = data_expl.groupby(by = 'director').sum()['profit']\n",
        "print (gp[gp == gp.max()].index[0])\n",
        "\n",
        "answers['13'] = 'Peter Jackson'\n",
        "\n"
      ],
      "execution_count": 27,
      "outputs": [
        {
          "output_type": "stream",
          "text": [
            "Peter Jackson\n"
          ],
          "name": "stdout"
        }
      ]
    },
    {
      "cell_type": "markdown",
      "metadata": {
        "id": "PsYC9FgRVp_a"
      },
      "source": [
        "# 14. Какой режисер снял больше всего фильмов в стиле Action?"
      ]
    },
    {
      "cell_type": "code",
      "metadata": {
        "id": "wd2M-wHeVp_b",
        "colab": {
          "base_uri": "https://localhost:8080/"
        },
        "outputId": "85e22e39-0633-4340-edfd-1dee44989127"
      },
      "source": [
        "data = pd.read_csv('/content/gdrive/MyDrive/SkillFactory/movie_bd_v5.csv')\n",
        "\n",
        "data.director = data.director.str.split('|', expand=False)\n",
        "data_expl = data.explode('director')\n",
        "\n",
        "data_expl.genres = data_expl.genres.str.split('|', expand=False)\n",
        "data_expl = data_expl.explode('genres')\n",
        "\n",
        "# gp = data_expl.groupby(by=['director', 'genres']).count()\n",
        "\n",
        "pvt = data_expl.pivot_table (values = ['imdb_id'],\n",
        "index = ['genres'],\n",
        "columns = ['director'],\n",
        "aggfunc ='count',\n",
        "fill_value = 0,\n",
        "margins = False)\n",
        "\n",
        "# pvt.query(\"genres == 'Action'\").sort_values(by ='Action', axis=1, ascending = False).iloc[0].index[0][1]\n",
        "max_action = pvt.loc[\"Action\"]\n",
        "print( max_action[max_action == max_action.max()].index[0][1] )\n",
        "\n",
        "answers['14'] = 'Robert Rodriguez'"
      ],
      "execution_count": 28,
      "outputs": [
        {
          "output_type": "stream",
          "text": [
            "Robert Rodriguez\n"
          ],
          "name": "stdout"
        }
      ]
    },
    {
      "cell_type": "markdown",
      "metadata": {
        "id": "PQ0KciD7Vp_f"
      },
      "source": [
        "# 15. Фильмы с каким актером принесли самые высокие кассовые сборы в 2012 году? "
      ]
    },
    {
      "cell_type": "code",
      "metadata": {
        "id": "aga62oeKVp_g",
        "colab": {
          "base_uri": "https://localhost:8080/"
        },
        "outputId": "fa55b12d-a27a-4292-cacc-6b6cd54dc101"
      },
      "source": [
        "data = pd.read_csv('/content/gdrive/MyDrive/SkillFactory/movie_bd_v5.csv')\n",
        "\n",
        "data.cast = data.cast.str.split('|', expand=False)\n",
        "data_expl = data.explode('cast')\n",
        "\n",
        "data_expl = data_expl[data_expl.release_year == 2012].groupby(by = 'cast').sum()\n",
        "print (data_expl[data_expl.revenue == data_expl.revenue.max()].index[0])\n",
        "\n",
        "# pvt = data_expl.pivot_table (values = ['revenue'],\n",
        "# index = ['cast'],\n",
        "# columns = ['release_year'],\n",
        "# aggfunc ='sum',\n",
        "# fill_value = 0,\n",
        "# margins = False)"
      ],
      "execution_count": 29,
      "outputs": [
        {
          "output_type": "stream",
          "text": [
            "Chris Hemsworth\n"
          ],
          "name": "stdout"
        }
      ]
    },
    {
      "cell_type": "code",
      "metadata": {
        "id": "rfDW57BABz7K"
      },
      "source": [
        "answers['15'] = 'Chris Hemsworth'"
      ],
      "execution_count": 30,
      "outputs": []
    },
    {
      "cell_type": "markdown",
      "metadata": {
        "id": "mWHyyL7QVp_j"
      },
      "source": [
        "# 16. Какой актер снялся в большем количестве высокобюджетных фильмов?"
      ]
    },
    {
      "cell_type": "code",
      "metadata": {
        "id": "qQtmHKTFVp_k",
        "colab": {
          "base_uri": "https://localhost:8080/"
        },
        "outputId": "b53013f9-a2fa-4bca-c1df-5c02ebd13505"
      },
      "source": [
        "data = pd.read_csv('/content/gdrive/MyDrive/SkillFactory/movie_bd_v5.csv')\n",
        "\n",
        "data.cast = data.cast.str.split('|', expand=False)\n",
        "data_expl = data.explode('cast')\n",
        "\n",
        "data_expl = data_expl[data_expl.budget > data_expl.budget.mean()]\n",
        "print(data_expl['cast'].value_counts().index[0])\n"
      ],
      "execution_count": 31,
      "outputs": [
        {
          "output_type": "stream",
          "text": [
            "Matt Damon\n"
          ],
          "name": "stdout"
        }
      ]
    },
    {
      "cell_type": "code",
      "metadata": {
        "id": "5dw41wlBUSgJ"
      },
      "source": [
        "answers['16'] ='Matt Damon'"
      ],
      "execution_count": 32,
      "outputs": []
    },
    {
      "cell_type": "markdown",
      "metadata": {
        "id": "NIh6AaW5Vp_n"
      },
      "source": [
        "# 17. В фильмах какого жанра больше всего снимался Nicolas Cage? "
      ]
    },
    {
      "cell_type": "code",
      "metadata": {
        "id": "H74SJDIBVp_n",
        "colab": {
          "base_uri": "https://localhost:8080/"
        },
        "outputId": "76c3610b-c35d-44c7-9c68-ce8ff376002b"
      },
      "source": [
        "data = pd.read_csv('/content/gdrive/MyDrive/SkillFactory/movie_bd_v5.csv')\n",
        "\n",
        "data.cast = data.cast.str.split('|', expand=False)\n",
        "data_expl = data.explode('cast')\n",
        "\n",
        "data_expl.genres = data_expl.genres.str.split('|', expand=False)\n",
        "data_expl = data_expl.explode('genres')\n",
        "\n",
        "s = data_expl[data_expl.cast == 'Nicolas Cage'].groupby(\n",
        "    by='genres').count().imdb_id\n",
        "print(s[s==s.max()].index[0])\n"
      ],
      "execution_count": 33,
      "outputs": [
        {
          "output_type": "stream",
          "text": [
            "Action\n"
          ],
          "name": "stdout"
        }
      ]
    },
    {
      "cell_type": "code",
      "metadata": {
        "id": "eus_42ECIX20"
      },
      "source": [
        "answers['17'] = 'Action'"
      ],
      "execution_count": 34,
      "outputs": []
    },
    {
      "cell_type": "markdown",
      "metadata": {
        "id": "RqOmPRfWVp_q"
      },
      "source": [
        "# 18. Самый убыточный фильм от Paramount Pictures"
      ]
    },
    {
      "cell_type": "code",
      "metadata": {
        "id": "9E_B0Y96Vp_r",
        "colab": {
          "base_uri": "https://localhost:8080/"
        },
        "outputId": "80bbcd3d-a332-4fa4-c68c-fc07bc7f0be2"
      },
      "source": [
        "data = pd.read_csv('/content/gdrive/MyDrive/SkillFactory/movie_bd_v5.csv')\n",
        "data['profit'] = data.revenue - data.budget\n",
        "\n",
        "data.production_companies = data.production_companies.str.split(\n",
        "    '|', expand=False)\n",
        "data_expl = data.explode('production_companies')\n",
        "\n",
        "data_expl = data_expl[data_expl.production_companies == 'Paramount Pictures']\n",
        "print (data_expl[data_expl.profit == \n",
        "          data_expl.profit.min()]['original_title'].values[0])\n"
      ],
      "execution_count": 167,
      "outputs": [
        {
          "output_type": "stream",
          "text": [
            "K-19: The Widowmaker\n"
          ],
          "name": "stdout"
        }
      ]
    },
    {
      "cell_type": "code",
      "metadata": {
        "colab": {
          "base_uri": "https://localhost:8080/",
          "height": 69
        },
        "id": "e0HSkrPM5uca",
        "outputId": "e71c1580-3143-479b-a48d-3d5c73d40615"
      },
      "source": [
        "data[data['production_companies'].str.contains('P', na=False)]"
      ],
      "execution_count": 175,
      "outputs": [
        {
          "output_type": "execute_result",
          "data": {
            "text/html": [
              "<div>\n",
              "<style scoped>\n",
              "    .dataframe tbody tr th:only-of-type {\n",
              "        vertical-align: middle;\n",
              "    }\n",
              "\n",
              "    .dataframe tbody tr th {\n",
              "        vertical-align: top;\n",
              "    }\n",
              "\n",
              "    .dataframe thead th {\n",
              "        text-align: right;\n",
              "    }\n",
              "</style>\n",
              "<table border=\"1\" class=\"dataframe\">\n",
              "  <thead>\n",
              "    <tr style=\"text-align: right;\">\n",
              "      <th></th>\n",
              "      <th>imdb_id</th>\n",
              "      <th>budget</th>\n",
              "      <th>revenue</th>\n",
              "      <th>original_title</th>\n",
              "      <th>cast</th>\n",
              "      <th>director</th>\n",
              "      <th>tagline</th>\n",
              "      <th>overview</th>\n",
              "      <th>runtime</th>\n",
              "      <th>genres</th>\n",
              "      <th>production_companies</th>\n",
              "      <th>release_date</th>\n",
              "      <th>vote_average</th>\n",
              "      <th>release_year</th>\n",
              "      <th>profit</th>\n",
              "    </tr>\n",
              "  </thead>\n",
              "  <tbody>\n",
              "  </tbody>\n",
              "</table>\n",
              "</div>"
            ],
            "text/plain": [
              "Empty DataFrame\n",
              "Columns: [imdb_id, budget, revenue, original_title, cast, director, tagline, overview, runtime, genres, production_companies, release_date, vote_average, release_year, profit]\n",
              "Index: []"
            ]
          },
          "metadata": {
            "tags": []
          },
          "execution_count": 175
        }
      ]
    },
    {
      "cell_type": "code",
      "metadata": {
        "id": "Mc-9stTsXKLi"
      },
      "source": [
        "answers['18'] = 'K-19: The Widowmaker'"
      ],
      "execution_count": 36,
      "outputs": []
    },
    {
      "cell_type": "markdown",
      "metadata": {
        "id": "vS8Ur6ddVp_u"
      },
      "source": [
        "# 19. Какой год стал самым успешным по суммарным кассовым сборам?"
      ]
    },
    {
      "cell_type": "code",
      "metadata": {
        "id": "Dnbt4GdIVp_v",
        "colab": {
          "base_uri": "https://localhost:8080/"
        },
        "outputId": "43911e14-b3eb-4e0d-aed5-96642d0cb161"
      },
      "source": [
        "data = pd.read_csv('/content/gdrive/MyDrive/SkillFactory/movie_bd_v5.csv')\n",
        "\n",
        "# data.cast = data.cast.str.split('|', expand=False)\n",
        "# data_expl = data.explode('cast')\n",
        "\n",
        "se = data.groupby(by='release_year').sum().revenue\n",
        "se[se == se.max()].index[0]\n"
      ],
      "execution_count": 37,
      "outputs": [
        {
          "output_type": "execute_result",
          "data": {
            "text/plain": [
              "2015"
            ]
          },
          "metadata": {
            "tags": []
          },
          "execution_count": 37
        }
      ]
    },
    {
      "cell_type": "code",
      "metadata": {
        "id": "l0GzJUQaY980"
      },
      "source": [
        "answers['19'] = 2015"
      ],
      "execution_count": 38,
      "outputs": []
    },
    {
      "cell_type": "markdown",
      "metadata": {
        "id": "JAzJh4QAVp_z"
      },
      "source": [
        "# 20. Какой самый прибыльный год для студии Warner Bros?"
      ]
    },
    {
      "cell_type": "code",
      "metadata": {
        "id": "wgVu02DEVp_0",
        "colab": {
          "base_uri": "https://localhost:8080/"
        },
        "outputId": "3325a183-5811-4121-95ba-8640005c050c"
      },
      "source": [
        "data = pd.read_csv('/content/gdrive/MyDrive/SkillFactory/movie_bd_v5.csv')\n",
        "data['profit'] = data.revenue - data.budget\n",
        "\n",
        "data.production_companies = data.production_companies.str.split(\n",
        "    '|', expand=False)\n",
        "data_expl = data.explode('production_companies')\n",
        "\n",
        "data_expl = data_expl[data_expl.production_companies == 'Warner Bros.']\n",
        "se = data_expl.groupby(by='release_year').sum().profit\n",
        "se[se == se.max()].index[0]\n",
        "\n"
      ],
      "execution_count": 39,
      "outputs": [
        {
          "output_type": "execute_result",
          "data": {
            "text/plain": [
              "2007"
            ]
          },
          "metadata": {
            "tags": []
          },
          "execution_count": 39
        }
      ]
    },
    {
      "cell_type": "code",
      "metadata": {
        "id": "9EcY4j5fa8xN"
      },
      "source": [
        "answers['20'] = 2007"
      ],
      "execution_count": 40,
      "outputs": []
    },
    {
      "cell_type": "markdown",
      "metadata": {
        "id": "8Im1S2HRVp_4"
      },
      "source": [
        "# 21. В каком месяце за все годы суммарно вышло больше всего фильмов?"
      ]
    },
    {
      "cell_type": "code",
      "metadata": {
        "id": "lev6TH7gVp_4",
        "colab": {
          "base_uri": "https://localhost:8080/"
        },
        "outputId": "2de8045e-f22b-4251-ba3c-eb12b7411c9d"
      },
      "source": [
        "data = pd.read_csv('/content/gdrive/MyDrive/SkillFactory/movie_bd_v5.csv')\n",
        "\n",
        "date_sample = data.release_date[0] #\n",
        "if type(date_sample) == str:\n",
        "    data.release_date = data.release_date.apply(lambda x: dt.datetime.strptime(x,'%m/%d/%Y'))\n",
        "\n",
        "data['month'] = data.release_date.apply(lambda x: x.month)\n",
        "data.groupby(by='month').count()\n",
        "data.month.value_counts().index[0]\n"
      ],
      "execution_count": 41,
      "outputs": [
        {
          "output_type": "execute_result",
          "data": {
            "text/plain": [
              "9"
            ]
          },
          "metadata": {
            "tags": []
          },
          "execution_count": 41
        }
      ]
    },
    {
      "cell_type": "code",
      "metadata": {
        "id": "kx1CL67pdzPu"
      },
      "source": [
        "answers['21'] = 'сентябрь'"
      ],
      "execution_count": 42,
      "outputs": []
    },
    {
      "cell_type": "markdown",
      "metadata": {
        "id": "uAJsZ_NeVp_7"
      },
      "source": [
        "# 22. Сколько суммарно вышло фильмов летом? (за июнь, июль, август)"
      ]
    },
    {
      "cell_type": "code",
      "metadata": {
        "id": "Aa-hEREoVp_8",
        "colab": {
          "base_uri": "https://localhost:8080/"
        },
        "outputId": "1fcfeb60-3741-44a9-a18f-48876c56b085"
      },
      "source": [
        "data = pd.read_csv('/content/gdrive/MyDrive/SkillFactory/movie_bd_v5.csv')\n",
        "\n",
        "date_sample = data.release_date[0] #\n",
        "if type(date_sample) == str:\n",
        "    data.release_date = data.release_date.apply(lambda x: dt.datetime.strptime(x,'%m/%d/%Y'))\n",
        "\n",
        "data['month'] = data.release_date.apply(lambda x: x.month)\n",
        "\n",
        "data[(data.month >= 6) & (data.month <= 8)]['imdb_id'].nunique()"
      ],
      "execution_count": 43,
      "outputs": [
        {
          "output_type": "execute_result",
          "data": {
            "text/plain": [
              "450"
            ]
          },
          "metadata": {
            "tags": []
          },
          "execution_count": 43
        }
      ]
    },
    {
      "cell_type": "code",
      "metadata": {
        "id": "902dTOWD6VoC"
      },
      "source": [
        "answers['22'] = 450"
      ],
      "execution_count": 44,
      "outputs": []
    },
    {
      "cell_type": "markdown",
      "metadata": {
        "id": "G94ppOY1VqAA"
      },
      "source": [
        "# 23. Для какого режиссера зима – самое продуктивное время года? "
      ]
    },
    {
      "cell_type": "code",
      "metadata": {
        "id": "RhNTsamuVqAB",
        "colab": {
          "base_uri": "https://localhost:8080/"
        },
        "outputId": "cd9db283-f38f-415e-f649-a161a9c6e764"
      },
      "source": [
        "data = pd.read_csv('/content/gdrive/MyDrive/SkillFactory/movie_bd_v5.csv')\n",
        "\n",
        "date_sample = data.release_date[0]\n",
        "if type(date_sample) == str:\n",
        "    data.release_date = data.release_date.apply(lambda x: dt.datetime.strptime(x,'%m/%d/%Y'))\n",
        "\n",
        "data['month'] = data.release_date.apply(lambda x: x.month)\n",
        "\n",
        "data.director = data.director.str.split('|', expand=False)\n",
        "data_expl = data.explode('director')\n",
        "\n",
        "print( data_expl[(data_expl.month == 12) |\n",
        "          (data_expl.month <= 2)]['director'].value_counts().index[0] )"
      ],
      "execution_count": 45,
      "outputs": [
        {
          "output_type": "stream",
          "text": [
            "Peter Jackson\n"
          ],
          "name": "stdout"
        }
      ]
    },
    {
      "cell_type": "code",
      "metadata": {
        "id": "DrFx6ICT4a3M"
      },
      "source": [
        "answers['23'] = 'Peter Jackson'"
      ],
      "execution_count": 46,
      "outputs": []
    },
    {
      "cell_type": "markdown",
      "metadata": {
        "id": "RBo0JVjVVqAF"
      },
      "source": [
        "# 24. Какая студия дает самые длинные названия своим фильмам по количеству символов?"
      ]
    },
    {
      "cell_type": "code",
      "metadata": {
        "id": "QRGS8L0iVqAG",
        "colab": {
          "base_uri": "https://localhost:8080/"
        },
        "outputId": "34fbde83-9dcd-45e0-8cc2-5e73b62046ee"
      },
      "source": [
        "data = pd.read_csv('/content/gdrive/MyDrive/SkillFactory/movie_bd_v5.csv')\n",
        "\n",
        "data.production_companies = data.production_companies.str.split(\n",
        "    '|', expand=False)\n",
        "data_expl = data.explode('production_companies')\n",
        "\n",
        "data_expl['ot_length'] = data_expl.original_title.apply(len)\n",
        "\n",
        "print(data_expl.groupby(\n",
        "    'production_companies').mean().ot_length.sort_values(\n",
        "        ascending=False).index[0]\n",
        "      )"
      ],
      "execution_count": 47,
      "outputs": [
        {
          "output_type": "stream",
          "text": [
            "Four By Two Productions\n"
          ],
          "name": "stdout"
        }
      ]
    },
    {
      "cell_type": "code",
      "metadata": {
        "id": "e_f3FSbgOTjm"
      },
      "source": [
        "answers['24'] = 'Four By Two Productions'"
      ],
      "execution_count": 48,
      "outputs": []
    },
    {
      "cell_type": "markdown",
      "metadata": {
        "id": "9G0hbvR7VqAK"
      },
      "source": [
        "# 25. Описание фильмов какой студии в среднем самые длинные по количеству слов?"
      ]
    },
    {
      "cell_type": "code",
      "metadata": {
        "id": "Ge2GsLNxVqAK",
        "colab": {
          "base_uri": "https://localhost:8080/"
        },
        "outputId": "aaea35a6-4708-4074-ed19-aaaae3f7c6f8"
      },
      "source": [
        "data = pd.read_csv('/content/gdrive/MyDrive/SkillFactory/movie_bd_v5.csv')\n",
        " \n",
        "data.production_companies = data.production_companies.str.split(\n",
        "    '|', expand=False\n",
        "    )\n",
        "data_expl = data.explode('production_companies')\n",
        " \n",
        "def word_count(s):\n",
        "    return len(s.split(' '))\n",
        " \n",
        "data_expl['words_in_overview'] = data_expl.overview.apply(word_count)\n",
        " \n",
        "print(data_expl.groupby(\n",
        "    'production_companies').mean().words_in_overview.sort_values(\n",
        "        ascending=False).index[0])"
      ],
      "execution_count": 49,
      "outputs": [
        {
          "output_type": "stream",
          "text": [
            "Midnight Picture Show\n"
          ],
          "name": "stdout"
        }
      ]
    },
    {
      "cell_type": "code",
      "metadata": {
        "id": "AK-_jBArAApV"
      },
      "source": [
        "answers['25'] = 'Midnight Picture Show'"
      ],
      "execution_count": 116,
      "outputs": []
    },
    {
      "cell_type": "markdown",
      "metadata": {
        "id": "FJ1AFt90VqAP"
      },
      "source": [
        "# 26. Какие фильмы входят в 1 процент лучших по рейтингу? \n",
        "по vote_average"
      ]
    },
    {
      "cell_type": "code",
      "metadata": {
        "id": "8qmJVq4CVqAQ",
        "colab": {
          "base_uri": "https://localhost:8080/"
        },
        "outputId": "5d920449-8088-4cb9-b54b-23ca2c0b50c2"
      },
      "source": [
        "data = pd.read_csv('/content/gdrive/MyDrive/SkillFactory/movie_bd_v5.csv')\n",
        "# display (data.sample(1))\n",
        " \n",
        "best_percentage = 0.01\n",
        "best_percentage_quantile = data.vote_average.quantile(1 - best_percentage)\n",
        "\n",
        "# data.query(f\"'vote_average' >= {best_percentage_quantile}\")\n",
        "# data.query(\"'vote_average' >= 7.8\")\n",
        "\n",
        "print (\n",
        "    data[data.vote_average > best_percentage_quantile]['original_title'].values\n",
        ")\n"
      ],
      "execution_count": 115,
      "outputs": [
        {
          "output_type": "stream",
          "text": [
            "['Inside Out' 'Room' 'Interstellar' 'Guardians of the Galaxy'\n",
            " 'The Imitation Game' 'Gone Girl' 'The Grand Budapest Hotel' 'Inception'\n",
            " 'The Dark Knight' 'The Pianist'\n",
            " 'The Lord of the Rings: The Return of the King' 'The Wolf of Wall Street'\n",
            " '12 Years a Slave' 'Memento']\n"
          ],
          "name": "stdout"
        }
      ]
    },
    {
      "cell_type": "code",
      "metadata": {
        "id": "RcTnjIqpk3uT"
      },
      "source": [
        "answers['26'] = ['Inside Out', 'The Dark Knight', '12 Years a Slave']"
      ],
      "execution_count": 111,
      "outputs": []
    },
    {
      "cell_type": "markdown",
      "metadata": {
        "id": "MdXsUXbCVqAV"
      },
      "source": [
        "# 27. Какие актеры чаще всего снимаются в одном фильме вместе?\n"
      ]
    },
    {
      "cell_type": "code",
      "metadata": {
        "colab": {
          "base_uri": "https://localhost:8080/"
        },
        "id": "zElwMjCROz6e",
        "outputId": "dae4c26d-e0a6-4456-af7b-bb38abd1ffda"
      },
      "source": [
        "from itertools import combinations\n",
        "\n",
        "data = pd.read_csv('/content/gdrive/MyDrive/SkillFactory/movie_bd_v5.csv')\n",
        "data.cast = data.cast.str.split('|', expand=False)\n",
        "\n",
        "data.cast = data.cast.apply(lambda actor: list( combinations( actor, 2 ) ) )\n",
        "\n",
        "data_pairs = data.explode('cast')\n",
        "data_pairs.groupby(\n",
        "    by='cast'\n",
        "    ).count()['imdb_id'\n",
        "            ].sort_values(ascending=False).index[1]\n"
      ],
      "execution_count": 217,
      "outputs": [
        {
          "output_type": "stream",
          "text": [
            "('Daniel Radcliffe', 'Rupert Grint')\n"
          ],
          "name": "stdout"
        }
      ]
    },
    {
      "cell_type": "code",
      "metadata": {
        "id": "ctX3ZnQQYr_s"
      },
      "source": [
        "answers ['27'] = ('Daniel Radcliffe', 'Rupert Grint')"
      ],
      "execution_count": 221,
      "outputs": []
    },
    {
      "cell_type": "code",
      "metadata": {
        "id": "3fCdBvzDWIu7"
      },
      "source": [
        "from itertools import combinations\n",
        "list(combinations('qwe',2))\n",
        "\n",
        "data = pd.read_csv('/content/gdrive/MyDrive/SkillFactory/movie_bd_v5.csv')\n",
        "\n",
        "data.cast = data.cast.str.split('|', expand=False)\n",
        "data_expl = data.explode('cast')\n",
        "\n",
        "actors = data_expl.cast.unique()\n",
        "\n",
        "# c = 0\n",
        "# for pairs in combinations(actors, 2):\n",
        "#     c +=1\n",
        "#     if c >= 5: break\n",
        "#     print (i)\n",
        "\n",
        "def flatten(lst):\n",
        "    return [item for subls in lst for item in subls]\n",
        "\n",
        "smart_pairs = (\n",
        "              flatten( list( combinations( ls,2 ) ) for ls in data.cast.values )\n",
        ")\n"
      ],
      "execution_count": null,
      "outputs": []
    },
    {
      "cell_type": "code",
      "metadata": {
        "colab": {
          "base_uri": "https://localhost:8080/",
          "height": 202
        },
        "id": "zMGeNIgY2Hol",
        "outputId": "2369f73e-e9a9-457f-80a5-b85b614e150c"
      },
      "source": [
        "data[data.original_title.str.find ('Dredd') != -1]\n",
        "data[data.release_year == -1]"
      ],
      "execution_count": 166,
      "outputs": [
        {
          "output_type": "execute_result",
          "data": {
            "text/html": [
              "<div>\n",
              "<style scoped>\n",
              "    .dataframe tbody tr th:only-of-type {\n",
              "        vertical-align: middle;\n",
              "    }\n",
              "\n",
              "    .dataframe tbody tr th {\n",
              "        vertical-align: top;\n",
              "    }\n",
              "\n",
              "    .dataframe thead th {\n",
              "        text-align: right;\n",
              "    }\n",
              "</style>\n",
              "<table border=\"1\" class=\"dataframe\">\n",
              "  <thead>\n",
              "    <tr style=\"text-align: right;\">\n",
              "      <th></th>\n",
              "      <th>imdb_id</th>\n",
              "      <th>budget</th>\n",
              "      <th>revenue</th>\n",
              "      <th>original_title</th>\n",
              "      <th>cast</th>\n",
              "      <th>director</th>\n",
              "      <th>tagline</th>\n",
              "      <th>overview</th>\n",
              "      <th>runtime</th>\n",
              "      <th>genres</th>\n",
              "      <th>production_companies</th>\n",
              "      <th>release_date</th>\n",
              "      <th>vote_average</th>\n",
              "      <th>release_year</th>\n",
              "    </tr>\n",
              "  </thead>\n",
              "  <tbody>\n",
              "    <tr>\n",
              "      <th>1010</th>\n",
              "      <td>tt1343727</td>\n",
              "      <td>50000000</td>\n",
              "      <td>41037742</td>\n",
              "      <td>Dredd</td>\n",
              "      <td>[Karl Urban, Olivia Thirlby, Lena Headey, Wood...</td>\n",
              "      <td>Pete Travis</td>\n",
              "      <td>Judgement is coming</td>\n",
              "      <td>In the future, America is a dystopian wastelan...</td>\n",
              "      <td>95</td>\n",
              "      <td>Action|Science Fiction</td>\n",
              "      <td>DNA Films|Reliance BIG Entertainment|IM Global...</td>\n",
              "      <td>9/7/2012</td>\n",
              "      <td>6.5</td>\n",
              "      <td>2012</td>\n",
              "    </tr>\n",
              "  </tbody>\n",
              "</table>\n",
              "</div>"
            ],
            "text/plain": [
              "        imdb_id    budget   revenue  ... release_date vote_average release_year\n",
              "1010  tt1343727  50000000  41037742  ...     9/7/2012          6.5         2012\n",
              "\n",
              "[1 rows x 14 columns]"
            ]
          },
          "metadata": {
            "tags": []
          },
          "execution_count": 166
        }
      ]
    },
    {
      "cell_type": "markdown",
      "metadata": {
        "id": "4ymnxEVoVqAW"
      },
      "source": [
        "ВАРИАНТ 2"
      ]
    },
    {
      "cell_type": "markdown",
      "metadata": {
        "id": "U0nONFnGVqAX"
      },
      "source": [
        "# Submission"
      ]
    },
    {
      "cell_type": "code",
      "metadata": {
        "id": "IfcaRO9-VqAX",
        "colab": {
          "base_uri": "https://localhost:8080/"
        },
        "outputId": "979c5ae6-5ce1-4899-ed5e-11828a26f453"
      },
      "source": [
        "# в конце можно посмотреть свои ответы к каждому вопросу\n",
        "answers"
      ],
      "execution_count": 222,
      "outputs": [
        {
          "output_type": "execute_result",
          "data": {
            "text/plain": [
              "{'01': 'Pirates of the Caribbean: On Stranger Tides (tt1298650)',\n",
              " '02': 'Gods and Generals (tt0279111)',\n",
              " '03': 'Winnie the Pooh (tt1449283)',\n",
              " '04': '110',\n",
              " '05': '107',\n",
              " '06': 'Avatar (tt0499549)',\n",
              " '07': 'The Lone Ranger (tt1210819)',\n",
              " '08': 1478,\n",
              " '09': 'The Dark Knight',\n",
              " '10': 'Man of Tai Chi',\n",
              " '11': 'Drama',\n",
              " '12': 'Adventure',\n",
              " '13': 'Peter Jackson',\n",
              " '14': 'Robert Rodriguez',\n",
              " '15': 'Chris Hemsworth',\n",
              " '16': 'Matt Damon',\n",
              " '17': 'Action',\n",
              " '18': 'K-19: The Widowmaker',\n",
              " '19': 2015,\n",
              " '20': 2007,\n",
              " '21': 'сентябрь',\n",
              " '22': 450,\n",
              " '23': 'Peter Jackson',\n",
              " '24': 'Midnight Picture Show',\n",
              " '25': 'Midnight Picture Show',\n",
              " '26': ['Inside Out', 'The Dark Knight', '12 Years a Slave'],\n",
              " '27': ('Daniel Radcliffe', 'Rupert Grint')}"
            ]
          },
          "metadata": {
            "tags": []
          },
          "execution_count": 222
        }
      ]
    },
    {
      "cell_type": "code",
      "metadata": {
        "id": "SiRmHPl8VqAd",
        "colab": {
          "base_uri": "https://localhost:8080/"
        },
        "outputId": "628ecd04-a0ac-40a1-b1d9-38d2709360d8"
      },
      "source": [
        "# и убедиться что ни чего не пропустил)\n",
        "len(answers)"
      ],
      "execution_count": 118,
      "outputs": [
        {
          "output_type": "execute_result",
          "data": {
            "text/plain": [
              "26"
            ]
          },
          "metadata": {
            "tags": []
          },
          "execution_count": 118
        }
      ]
    }
  ]
}