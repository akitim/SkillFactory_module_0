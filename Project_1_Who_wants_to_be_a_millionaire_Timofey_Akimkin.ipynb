{
  "nbformat": 4,
  "nbformat_minor": 0,
  "metadata": {
    "colab": {
      "name": "Project 1 Timofey Akimkin.ipynb",
      "provenance": [],
      "include_colab_link": true
    },
    "kernelspec": {
      "display_name": "Python 3",
      "language": "python",
      "name": "python3"
    },
    "language_info": {
      "codemirror_mode": {
        "name": "ipython",
        "version": 3
      },
      "file_extension": ".py",
      "mimetype": "text/x-python",
      "name": "python",
      "nbconvert_exporter": "python",
      "pygments_lexer": "ipython3",
      "version": "3.7.4"
    }
  },
  "cells": [
    {
      "cell_type": "markdown",
      "metadata": {
        "id": "view-in-github",
        "colab_type": "text"
      },
      "source": [
        "<a href=\"https://colab.research.google.com/github/akitim/SkillFactory_projects/blob/main/Project_1_Who_wants_to_be_a_millionaire_Timofey_Akimkin.ipynb\" target=\"_parent\"><img src=\"https://colab.research.google.com/assets/colab-badge.svg\" alt=\"Open In Colab\"/></a>"
      ]
    },
    {
      "cell_type": "code",
      "metadata": {
        "_cell_guid": "b1076dfc-b9ad-4769-8c92-a6c4dae69d19",
        "_uuid": "8f2839f25d086af736a60e9eeb907d3b93b6e0e5",
        "id": "U2D2gTdJVp90",
        "colab": {
          "base_uri": "https://localhost:8080/"
        },
        "outputId": "761660d0-e3c1-4649-eac7-999ed8ad13c1"
      },
      "source": [
        "import numpy as np\n",
        "import pandas as pd\n",
        "import datetime as dt\n",
        "from itertools import combinations\n",
        " \n",
        "import sys\n",
        "from google.colab import drive\n",
        "drive.mount('/content/gdrive', force_remount=True)\n",
        "sys.path.clear\n",
        "sys.path.append('/content/gdrive/MyDrive/SkillFactory')"
      ],
      "execution_count": 2,
      "outputs": [
        {
          "output_type": "stream",
          "text": [
            "Mounted at /content/gdrive\n"
          ],
          "name": "stdout"
        }
      ]
    },
    {
      "cell_type": "code",
      "metadata": {
        "_cell_guid": "79c7e3d0-c299-4dcb-8224-4455121ee9b0",
        "_uuid": "d629ff2d2480ee46fbb7e2d37f6b5fab8052498a",
        "id": "oyGfxL3eVp9-",
        "colab": {
          "base_uri": "https://localhost:8080/",
          "height": 451
        },
        "outputId": "85347a8c-6339-4e5e-c76f-3cf127174710"
      },
      "source": [
        "data = pd.read_csv('/content/gdrive/MyDrive/SkillFactory/movie_bd_v5.csv')\n",
        "data.sample(3)"
      ],
      "execution_count": 261,
      "outputs": [
        {
          "output_type": "execute_result",
          "data": {
            "text/html": [
              "<div>\n",
              "<style scoped>\n",
              "    .dataframe tbody tr th:only-of-type {\n",
              "        vertical-align: middle;\n",
              "    }\n",
              "\n",
              "    .dataframe tbody tr th {\n",
              "        vertical-align: top;\n",
              "    }\n",
              "\n",
              "    .dataframe thead th {\n",
              "        text-align: right;\n",
              "    }\n",
              "</style>\n",
              "<table border=\"1\" class=\"dataframe\">\n",
              "  <thead>\n",
              "    <tr style=\"text-align: right;\">\n",
              "      <th></th>\n",
              "      <th>imdb_id</th>\n",
              "      <th>budget</th>\n",
              "      <th>revenue</th>\n",
              "      <th>original_title</th>\n",
              "      <th>cast</th>\n",
              "      <th>director</th>\n",
              "      <th>tagline</th>\n",
              "      <th>overview</th>\n",
              "      <th>runtime</th>\n",
              "      <th>genres</th>\n",
              "      <th>production_companies</th>\n",
              "      <th>release_date</th>\n",
              "      <th>vote_average</th>\n",
              "      <th>release_year</th>\n",
              "    </tr>\n",
              "  </thead>\n",
              "  <tbody>\n",
              "    <tr>\n",
              "      <th>1023</th>\n",
              "      <td>tt0837562</td>\n",
              "      <td>85000000</td>\n",
              "      <td>358375603</td>\n",
              "      <td>Hotel Transylvania</td>\n",
              "      <td>Adam Sandler|Steve Buscemi|David Spade|Kevin J...</td>\n",
              "      <td>Genndy Tartakovsky</td>\n",
              "      <td>Where monsters go to get away from it all</td>\n",
              "      <td>Dracula, who operates a high-end resort away f...</td>\n",
              "      <td>91</td>\n",
              "      <td>Animation|Comedy|Family|Fantasy</td>\n",
              "      <td>Columbia Pictures|Sony Pictures Animation</td>\n",
              "      <td>9/20/2012</td>\n",
              "      <td>6.7</td>\n",
              "      <td>2012</td>\n",
              "    </tr>\n",
              "    <tr>\n",
              "      <th>787</th>\n",
              "      <td>tt1093357</td>\n",
              "      <td>30000000</td>\n",
              "      <td>64626786</td>\n",
              "      <td>The Darkest Hour</td>\n",
              "      <td>Emile Hirsch|Rachael Taylor|Olivia Thirlby|Joe...</td>\n",
              "      <td>Chris Gorak</td>\n",
              "      <td>Survive The Holidays</td>\n",
              "      <td>The story tells of a group of young people who...</td>\n",
              "      <td>89</td>\n",
              "      <td>Horror|Action|Thriller|Science Fiction</td>\n",
              "      <td>Summit Entertainment|Regency Enterprises|Bazel...</td>\n",
              "      <td>12/25/2011</td>\n",
              "      <td>4.7</td>\n",
              "      <td>2011</td>\n",
              "    </tr>\n",
              "    <tr>\n",
              "      <th>1157</th>\n",
              "      <td>tt0279111</td>\n",
              "      <td>56000000</td>\n",
              "      <td>12923936</td>\n",
              "      <td>Gods and Generals</td>\n",
              "      <td>Stephen Lang|Jeff Daniels|Robert Duvall|Kevin ...</td>\n",
              "      <td>Ronald F. Maxwell</td>\n",
              "      <td>The nations heart was touched by...</td>\n",
              "      <td>The film centers mostly around the personal an...</td>\n",
              "      <td>214</td>\n",
              "      <td>Drama|History|War</td>\n",
              "      <td>Turner Pictures|Antietam Filmworks</td>\n",
              "      <td>2/21/2003</td>\n",
              "      <td>5.8</td>\n",
              "      <td>2003</td>\n",
              "    </tr>\n",
              "  </tbody>\n",
              "</table>\n",
              "</div>"
            ],
            "text/plain": [
              "        imdb_id    budget    revenue  ... release_date vote_average release_year\n",
              "1023  tt0837562  85000000  358375603  ...    9/20/2012          6.7         2012\n",
              "787   tt1093357  30000000   64626786  ...   12/25/2011          4.7         2011\n",
              "1157  tt0279111  56000000   12923936  ...    2/21/2003          5.8         2003\n",
              "\n",
              "[3 rows x 14 columns]"
            ]
          },
          "metadata": {
            "tags": []
          },
          "execution_count": 261
        }
      ]
    },
    {
      "cell_type": "code",
      "metadata": {
        "id": "CoYUnagMVp-C"
      },
      "source": [
        "# data.describe()"
      ],
      "execution_count": 4,
      "outputs": []
    },
    {
      "cell_type": "markdown",
      "metadata": {
        "id": "DTIt7ezGVp-G"
      },
      "source": [
        "# Предобработка"
      ]
    },
    {
      "cell_type": "code",
      "metadata": {
        "id": "jNb40DwKVp-H"
      },
      "source": [
        "answers = {} # создадим словарь для ответов\n",
        "\n",
        "#здесь исправляется странное поведение Google Colab,\n",
        "#когда колонка release_date считывается то как timestamp,\n",
        "#то как string\n",
        "\n",
        "if type(data.release_date[0]) == str:\n",
        "    data.release_date = data.release_date.apply(\n",
        "        lambda x: dt.datetime.strptime(x,'%m/%d/%Y'))\n",
        "\n",
        "data['profit'] = data.revenue - data.budget #добавляем колонку profit\n",
        "\n",
        "#the time given in the dataset is in string format.\n",
        "#So we need to change this in datetime format\n",
        "# ... \"That my dear Balin, is not entirely true\" "
      ],
      "execution_count": 262,
      "outputs": []
    },
    {
      "cell_type": "markdown",
      "metadata": {
        "id": "YxZaH-nPVp-L"
      },
      "source": [
        "# 1. У какого фильма из списка самый большой бюджет?"
      ]
    },
    {
      "cell_type": "code",
      "metadata": {
        "id": "dZwb3m28Vp-S",
        "colab": {
          "base_uri": "https://localhost:8080/"
        },
        "outputId": "bfbaee00-7ea9-46e2-ccaf-eca43b1070b8"
      },
      "source": [
        "# тут пишем ваш код для решения данного вопроса:\n",
        "title = data[data.budget == data.budget.max()].original_title.iloc[0]\n",
        "id = data[data.budget == data.budget.max()].imdb_id.iloc[0]\n",
        "print(title + ' (' + id + ')')"
      ],
      "execution_count": 7,
      "outputs": [
        {
          "output_type": "stream",
          "text": [
            "Pirates of the Caribbean: On Stranger Tides (tt1298650)\n"
          ],
          "name": "stdout"
        }
      ]
    },
    {
      "cell_type": "code",
      "metadata": {
        "id": "uVnXAY5RVp-O"
      },
      "source": [
        "answers['01'] = 'Pirates of the Caribbean: On Stranger Tides (tt1298650)'"
      ],
      "execution_count": 6,
      "outputs": []
    },
    {
      "cell_type": "markdown",
      "metadata": {
        "id": "K7L3nbRXVp-X"
      },
      "source": [
        "ВАРИАНТ 2"
      ]
    },
    {
      "cell_type": "code",
      "metadata": {
        "id": "OGaoQI7rVp-X",
        "colab": {
          "base_uri": "https://localhost:8080/"
        },
        "outputId": "196078f0-23e4-45dd-e7bf-9a652414cdb4"
      },
      "source": [
        "title = data.query('budget == budget.max()').original_title.iloc[0]\n",
        "id = data.query('budget == budget.max()').imdb_id.iloc[0]\n",
        "print(title + ' (' + id + ')')"
      ],
      "execution_count": 8,
      "outputs": [
        {
          "output_type": "stream",
          "text": [
            "Pirates of the Caribbean: On Stranger Tides (tt1298650)\n"
          ],
          "name": "stdout"
        }
      ]
    },
    {
      "cell_type": "markdown",
      "metadata": {
        "id": "FNRbbI3vVp-c"
      },
      "source": [
        "# 2. Какой из фильмов самый длительный (в минутах)?"
      ]
    },
    {
      "cell_type": "code",
      "metadata": {
        "id": "ot-VX2XrVp-g",
        "colab": {
          "base_uri": "https://localhost:8080/"
        },
        "outputId": "445ae229-1d8c-497b-c6c9-3abe6541ddd2"
      },
      "source": [
        "data_filtered2 = data[data.runtime == data.runtime.max()]\n",
        "\n",
        "title2 = data_filtered2.original_title.iloc[0]\n",
        "id2 = data_filtered2.imdb_id.iloc[0]\n",
        "\n",
        "print(title2 + ' (' + id2 + ')')"
      ],
      "execution_count": 228,
      "outputs": [
        {
          "output_type": "stream",
          "text": [
            "Gods and Generals (tt0279111)\n"
          ],
          "name": "stdout"
        }
      ]
    },
    {
      "cell_type": "markdown",
      "metadata": {
        "id": "gqr5viAhRQH3"
      },
      "source": [
        "ВАРИАНТ 2"
      ]
    },
    {
      "cell_type": "code",
      "metadata": {
        "colab": {
          "base_uri": "https://localhost:8080/"
        },
        "id": "0fDqcTEHOj3k",
        "outputId": "524a98f8-f985-40a3-e37f-d3f5f2ef3333"
      },
      "source": [
        "data_filtered2 = data.query('runtime == runtime.max()')\n",
        "\n",
        "title2 = data_filtered2.original_title.iloc[0] \n",
        "id2 = data_filtered2.imdb_id.iloc[0]\n",
        "\n",
        "print(title2 + ' (' + id2 + ')')"
      ],
      "execution_count": 227,
      "outputs": [
        {
          "output_type": "stream",
          "text": [
            "Gods and Generals (tt0279111)\n"
          ],
          "name": "stdout"
        }
      ]
    },
    {
      "cell_type": "code",
      "metadata": {
        "id": "vHAoEXNTVp-d"
      },
      "source": [
        "answers['02'] = 'Gods and Generals (tt0279111)'"
      ],
      "execution_count": 9,
      "outputs": []
    },
    {
      "cell_type": "markdown",
      "metadata": {
        "id": "bapLlpW8Vp-k"
      },
      "source": [
        "# 3. Какой из фильмов самый короткий (в минутах)?\n",
        "\n",
        "\n",
        "\n"
      ]
    },
    {
      "cell_type": "code",
      "metadata": {
        "id": "YBxaSHuAVp-l",
        "colab": {
          "base_uri": "https://localhost:8080/"
        },
        "outputId": "c10ad169-fdd2-4c9f-fd52-a86f46ca5a3e"
      },
      "source": [
        "data_filtered3 = data[data.runtime == data.runtime.min()]\n",
        "\n",
        "title3 = data_filtered3.original_title.iloc[0]\n",
        "id3 = data_filtered3.imdb_id.iloc[0]\n",
        "\n",
        "print(title3 + ' (' + id3 + ')')\n"
      ],
      "execution_count": 229,
      "outputs": [
        {
          "output_type": "stream",
          "text": [
            "Winnie the Pooh (tt1449283)\n"
          ],
          "name": "stdout"
        }
      ]
    },
    {
      "cell_type": "markdown",
      "metadata": {
        "id": "dO1V3L48RSNJ"
      },
      "source": [
        "ВАРИАНТ 2"
      ]
    },
    {
      "cell_type": "code",
      "metadata": {
        "colab": {
          "base_uri": "https://localhost:8080/"
        },
        "id": "Fk_VUwDBRZ03",
        "outputId": "6735b711-3169-4d60-c4bd-3df36394fed2"
      },
      "source": [
        "data_filtered3 = data.query('runtime == runtime.min()')\n",
        "\n",
        "title3 = data_filtered3.original_title.iloc[0] \n",
        "id3 = data_filtered3.imdb_id.iloc[0]\n",
        "\n",
        "print(title3 + ' (' + id3 + ')')"
      ],
      "execution_count": 230,
      "outputs": [
        {
          "output_type": "stream",
          "text": [
            "Winnie the Pooh (tt1449283)\n"
          ],
          "name": "stdout"
        }
      ]
    },
    {
      "cell_type": "code",
      "metadata": {
        "id": "YJuabOmVRig_"
      },
      "source": [
        "answers['03'] = 'Winnie the Pooh (tt1449283)'"
      ],
      "execution_count": 12,
      "outputs": []
    },
    {
      "cell_type": "markdown",
      "metadata": {
        "id": "TfQbxbfNVp-p"
      },
      "source": [
        "# 4. Какова средняя длительность фильмов?\n"
      ]
    },
    {
      "cell_type": "code",
      "metadata": {
        "colab": {
          "base_uri": "https://localhost:8080/"
        },
        "id": "9zKYSwpER5KS",
        "outputId": "8d50a630-600e-4a57-a7d9-b1e5f972e351"
      },
      "source": [
        "print (round(data.runtime.mean()))\n"
      ],
      "execution_count": 232,
      "outputs": [
        {
          "output_type": "stream",
          "text": [
            "110\n"
          ],
          "name": "stdout"
        }
      ]
    },
    {
      "cell_type": "code",
      "metadata": {
        "id": "qAzDdKo0ctaz"
      },
      "source": [
        "answers['04'] = '110'"
      ],
      "execution_count": 231,
      "outputs": []
    },
    {
      "cell_type": "markdown",
      "metadata": {
        "id": "r5TvbnT_Vp-u"
      },
      "source": [
        "# 5. Каково медианное значение длительности фильмов? "
      ]
    },
    {
      "cell_type": "code",
      "metadata": {
        "id": "iBROplKnVp-v",
        "colab": {
          "base_uri": "https://localhost:8080/"
        },
        "outputId": "cf0e6bdb-b642-449f-a0de-f9992c8a4d48"
      },
      "source": [
        "print (round(data.runtime.median()))\n"
      ],
      "execution_count": 16,
      "outputs": [
        {
          "output_type": "stream",
          "text": [
            "107\n"
          ],
          "name": "stdout"
        }
      ]
    },
    {
      "cell_type": "code",
      "metadata": {
        "id": "XJ_uHeDRcwcB"
      },
      "source": [
        "answers['05'] = '107'"
      ],
      "execution_count": null,
      "outputs": []
    },
    {
      "cell_type": "markdown",
      "metadata": {
        "id": "39P-deDSVp-y"
      },
      "source": [
        "# 6. Какой самый прибыльный фильм?\n",
        "#### Внимание! Здесь и далее под «прибылью» или «убытками» понимается разность между сборами и бюджетом фильма. (прибыль = сборы - бюджет) в нашем датасете это будет (profit = revenue - budget) "
      ]
    },
    {
      "cell_type": "code",
      "metadata": {
        "id": "UYZh4T9WVp-y",
        "colab": {
          "base_uri": "https://localhost:8080/"
        },
        "outputId": "b54175b3-f5c4-4984-c1a1-d2d1c5b31d45"
      },
      "source": [
        "data_filtered6 = data.query(\"profit == profit.max()\")\n",
        "title6 = data_filtered6.original_title.iloc[0]\n",
        "id6 = data_filtered6.imdb_id.iloc[0]\n",
        "\n",
        "print(title6 + ' (' + id6 + ')')"
      ],
      "execution_count": 233,
      "outputs": [
        {
          "output_type": "stream",
          "text": [
            "Avatar (tt0499549)\n"
          ],
          "name": "stdout"
        }
      ]
    },
    {
      "cell_type": "code",
      "metadata": {
        "id": "wPwuub3Xc7TL"
      },
      "source": [
        "answers['06'] = 'Avatar (tt0499549)'"
      ],
      "execution_count": 234,
      "outputs": []
    },
    {
      "cell_type": "markdown",
      "metadata": {
        "id": "M99JmIX4Vp-2"
      },
      "source": [
        "# 7. Какой фильм самый убыточный? "
      ]
    },
    {
      "cell_type": "code",
      "metadata": {
        "id": "w-D2m4XPVp-3",
        "colab": {
          "base_uri": "https://localhost:8080/"
        },
        "outputId": "d2211be5-65a9-4cab-febc-555a1cda8962"
      },
      "source": [
        "data_filtered7 = data.query(\"profit == profit.min()\")\n",
        "title7 = data_filtered7.original_title.iloc[0]\n",
        "id7 = data_filtered7.imdb_id.iloc[0]\n",
        "\n",
        "print(title7 + ' (' + id7 + ')')\n"
      ],
      "execution_count": 236,
      "outputs": [
        {
          "output_type": "stream",
          "text": [
            "The Lone Ranger (tt1210819)\n"
          ],
          "name": "stdout"
        }
      ]
    },
    {
      "cell_type": "code",
      "metadata": {
        "id": "kbVJDLmadHlK"
      },
      "source": [
        "answers['07'] = 'The Lone Ranger (tt1210819)'"
      ],
      "execution_count": null,
      "outputs": []
    },
    {
      "cell_type": "markdown",
      "metadata": {
        "id": "wEOM5ERVVp-6"
      },
      "source": [
        "# 8. У скольких фильмов из датасета объем сборов оказался выше бюджета?"
      ]
    },
    {
      "cell_type": "code",
      "metadata": {
        "id": "y00_7HD6Vp-7",
        "colab": {
          "base_uri": "https://localhost:8080/"
        },
        "outputId": "ace9ee9f-41f6-454c-c965-b173845d8d05"
      },
      "source": [
        "data_filtered8 = data.query(\"profit > 0\")\n",
        "print(len(data_filtered8))\n"
      ],
      "execution_count": 237,
      "outputs": [
        {
          "output_type": "stream",
          "text": [
            "1478\n"
          ],
          "name": "stdout"
        }
      ]
    },
    {
      "cell_type": "code",
      "metadata": {
        "id": "uzW4YMoVbXKY"
      },
      "source": [
        "answers['08'] = 1478"
      ],
      "execution_count": 20,
      "outputs": []
    },
    {
      "cell_type": "markdown",
      "metadata": {
        "id": "xhpspA9KVp_A"
      },
      "source": [
        "# 9. Какой фильм оказался самым кассовым в 2008 году?"
      ]
    },
    {
      "cell_type": "code",
      "metadata": {
        "id": "MoUyQr9RVp_B",
        "colab": {
          "base_uri": "https://localhost:8080/"
        },
        "outputId": "d863c33f-62d2-4662-ca75-989d5023acd7"
      },
      "source": [
        "data_2008 = data.query(\"release_year == 2008\").query(\"revenue == revenue.max()\")\n",
        "print(data_2008.original_title.iloc[0])\n"
      ],
      "execution_count": 21,
      "outputs": [
        {
          "output_type": "stream",
          "text": [
            "The Dark Knight\n"
          ],
          "name": "stdout"
        }
      ]
    },
    {
      "cell_type": "code",
      "metadata": {
        "id": "x7x2T2aNeHNo"
      },
      "source": [
        "answers['09'] = 'The Dark Knight'"
      ],
      "execution_count": 22,
      "outputs": []
    },
    {
      "cell_type": "markdown",
      "metadata": {
        "id": "Zi4hDKidVp_F"
      },
      "source": [
        "# 10. Самый убыточный фильм за период с 2012 по 2014 г. (включительно)?\n"
      ]
    },
    {
      "cell_type": "code",
      "metadata": {
        "id": "XqyRmufJVp_F",
        "colab": {
          "base_uri": "https://localhost:8080/"
        },
        "outputId": "b5fbb34e-c718-464e-9dfc-4374f66d3723"
      },
      "source": [
        "data_filtered10 = data.query(\n",
        "    \"(release_year >= 2012) & (release_year <= 2014)\"\n",
        "    ).query(\"revenue == revenue.min()\")\n",
        "\n",
        "print(\n",
        "    data_filtered10.original_title.iloc[0] + ' (' + \n",
        "    data_filtered10.imdb_id.iloc[0] + ')'\n",
        ")\n"
      ],
      "execution_count": 240,
      "outputs": [
        {
          "output_type": "stream",
          "text": [
            "Man of Tai Chi (tt2016940)\n"
          ],
          "name": "stdout"
        }
      ]
    },
    {
      "cell_type": "code",
      "metadata": {
        "id": "4Dd1JeGldwJj"
      },
      "source": [
        "answers['10'] = 'Man of Tai Chi (tt2016940)'"
      ],
      "execution_count": 241,
      "outputs": []
    },
    {
      "cell_type": "markdown",
      "metadata": {
        "id": "EA7Sa9dkVp_I"
      },
      "source": [
        "# 11. Какого жанра фильмов больше всего?"
      ]
    },
    {
      "cell_type": "code",
      "metadata": {
        "id": "zsJAwJ8QVp_J",
        "colab": {
          "base_uri": "https://localhost:8080/"
        },
        "outputId": "166dba81-5bd5-4430-cca0-48e9bb01e0f4"
      },
      "source": [
        "gp11 = data.groupby( by = 'genres' ).count()[ 'imdb_id' ]\n",
        "print( gp11[ gp11 == gp11.max() ].index[0] )\n"
      ],
      "execution_count": 244,
      "outputs": [
        {
          "output_type": "stream",
          "text": [
            "Comedy\n"
          ],
          "name": "stdout"
        }
      ]
    },
    {
      "cell_type": "markdown",
      "metadata": {
        "id": "Ax6g2C8SVp_M"
      },
      "source": [
        "ВАРИАНТ 2"
      ]
    },
    {
      "cell_type": "code",
      "metadata": {
        "id": "otO3SbrSVp_N",
        "colab": {
          "base_uri": "https://localhost:8080/"
        },
        "outputId": "c36bca09-ad71-4e9a-d116-1cd977422bb3"
      },
      "source": [
        "data.genres = data.genres.str.split('|', expand=False)\n",
        "data = data.explode('genres')\n",
        "\n",
        "genres_pvt11 = data.pivot_table (values = ['original_title'],\n",
        "index = ['genres'],\n",
        "aggfunc = 'count',\n",
        "fill_value = 0,\n",
        "margins = True)\n",
        "\n",
        "print(genres_pvt11['original_title'].\n",
        "      sort_values(ascending = False).index[1])"
      ],
      "execution_count": 25,
      "outputs": [
        {
          "output_type": "stream",
          "text": [
            "Drama\n"
          ],
          "name": "stdout"
        }
      ]
    },
    {
      "cell_type": "code",
      "metadata": {
        "id": "-Jv_McqKd3Wy"
      },
      "source": [
        "answers['11'] = 'Drama'"
      ],
      "execution_count": 242,
      "outputs": []
    },
    {
      "cell_type": "markdown",
      "metadata": {
        "id": "T9_bPWpkVp_Q"
      },
      "source": [
        "# 12. Фильмы какого жанра чаще всего становятся прибыльными? "
      ]
    },
    {
      "cell_type": "code",
      "metadata": {
        "id": "Tmt8MaK1Vp_R",
        "colab": {
          "base_uri": "https://localhost:8080/"
        },
        "outputId": "3e7e27bf-6f96-4373-b870-d4ac8ac20f79"
      },
      "source": [
        "data.genres = data.genres.str.split('|', expand=False)\n",
        "data = data.explode('genres')\n",
        "\n",
        "\n",
        "genres_pvt12 = data.pivot_table (values = ['profit'],\n",
        "index = ['genres'],\n",
        "aggfunc = 'sum',\n",
        "fill_value = 0,\n",
        "margins = False)\n",
        "\n",
        "print( genres_pvt12.query(\"profit == profit.max()\").index[0] )\n"
      ],
      "execution_count": 248,
      "outputs": [
        {
          "output_type": "stream",
          "text": [
            "Adventure\n"
          ],
          "name": "stdout"
        }
      ]
    },
    {
      "cell_type": "code",
      "metadata": {
        "id": "cbc0-ZXaeXiA"
      },
      "source": [
        "answers['12'] = 'Adventure'"
      ],
      "execution_count": null,
      "outputs": []
    },
    {
      "cell_type": "markdown",
      "metadata": {
        "id": "0F23bgsDVp_U"
      },
      "source": [
        "# 13. У какого режиссера самые большие суммарные кассовые сборы?"
      ]
    },
    {
      "cell_type": "code",
      "metadata": {
        "id": "K6Z3J8ygVp_X",
        "colab": {
          "base_uri": "https://localhost:8080/"
        },
        "outputId": "2a3b0060-ffb2-478e-cd47-f64f3dad48b9"
      },
      "source": [
        "data.director = data.director.str.split('|', expand=False)\n",
        "data_expl13 = data.explode('director')\n",
        "\n",
        "gp13 = data_expl13.groupby(by = 'director').sum()['profit']\n",
        "print (gp13[gp13 == gp13.max()].index[0])"
      ],
      "execution_count": 263,
      "outputs": [
        {
          "output_type": "stream",
          "text": [
            "Peter Jackson\n"
          ],
          "name": "stdout"
        }
      ]
    },
    {
      "cell_type": "code",
      "metadata": {
        "id": "281TzrhHe3sb"
      },
      "source": [
        "answers['13'] = 'Peter Jackson'"
      ],
      "execution_count": 249,
      "outputs": []
    },
    {
      "cell_type": "markdown",
      "metadata": {
        "id": "PsYC9FgRVp_a"
      },
      "source": [
        "# 14. Какой режисер снял больше всего фильмов в стиле Action?"
      ]
    },
    {
      "cell_type": "code",
      "metadata": {
        "id": "wd2M-wHeVp_b",
        "colab": {
          "base_uri": "https://localhost:8080/"
        },
        "outputId": "d6e6300b-952e-41bf-ae5d-16e66d81aa75"
      },
      "source": [
        "data = pd.read_csv('/content/gdrive/MyDrive/SkillFactory/movie_bd_v5.csv')\n",
        "\n",
        "data.director = data.director.str.split('|', expand=False)\n",
        "data_expl14 = data.explode('director')\n",
        "\n",
        "data_expl14.genres = data_expl14.genres.str.split('|', expand=False)\n",
        "data_expl14 = data_expl14.explode('genres')\n",
        "\n",
        "pvt14 = data_expl14.pivot_table (values = ['imdb_id'],\n",
        "index = ['genres'],\n",
        "columns = ['director'],\n",
        "aggfunc ='count',\n",
        "fill_value = 0,\n",
        "margins = False)\n",
        "\n",
        "max_action = pvt14.loc[\"Action\"]\n",
        "print( max_action[max_action == max_action.max()].index[0][1] )"
      ],
      "execution_count": 270,
      "outputs": [
        {
          "output_type": "stream",
          "text": [
            "Robert Rodriguez\n"
          ],
          "name": "stdout"
        }
      ]
    },
    {
      "cell_type": "code",
      "metadata": {
        "id": "zqk4t7crf3WQ"
      },
      "source": [
        "answers['14'] = 'Robert Rodriguez'"
      ],
      "execution_count": 264,
      "outputs": []
    },
    {
      "cell_type": "markdown",
      "metadata": {
        "id": "PQ0KciD7Vp_f"
      },
      "source": [
        "# 15. Фильмы с каким актером принесли самые высокие кассовые сборы в 2012 году? "
      ]
    },
    {
      "cell_type": "code",
      "metadata": {
        "id": "aga62oeKVp_g",
        "colab": {
          "base_uri": "https://localhost:8080/"
        },
        "outputId": "9bec44e5-d57e-4923-ef50-774149144195"
      },
      "source": [
        "data = pd.read_csv('/content/gdrive/MyDrive/SkillFactory/movie_bd_v5.csv')\n",
        "\n",
        "data.cast = data.cast.str.split('|', expand=False)\n",
        "data_expl15 = data.explode('cast')\n",
        "\n",
        "data_expl15 = data_expl15[\n",
        "                          data_expl15.release_year == 2012\n",
        "                          ].groupby(by = 'cast').sum()\n",
        "print (\n",
        "    data_expl15[data_expl15.revenue == data_expl.revenue.max()].index[0]\n",
        ")\n",
        "\n",
        "# pvt = data_expl.pivot_table (values = ['revenue'],\n",
        "# index = ['cast'],\n",
        "# columns = ['release_year'],\n",
        "# aggfunc ='sum',\n",
        "# fill_value = 0,\n",
        "# margins = False)"
      ],
      "execution_count": 271,
      "outputs": [
        {
          "output_type": "stream",
          "text": [
            "Chris Hemsworth\n"
          ],
          "name": "stdout"
        }
      ]
    },
    {
      "cell_type": "code",
      "metadata": {
        "id": "rfDW57BABz7K"
      },
      "source": [
        "answers['15'] = 'Chris Hemsworth'"
      ],
      "execution_count": 272,
      "outputs": []
    },
    {
      "cell_type": "markdown",
      "metadata": {
        "id": "mWHyyL7QVp_j"
      },
      "source": [
        "# 16. Какой актер снялся в большем количестве высокобюджетных фильмов?"
      ]
    },
    {
      "cell_type": "code",
      "metadata": {
        "id": "qQtmHKTFVp_k",
        "colab": {
          "base_uri": "https://localhost:8080/"
        },
        "outputId": "fb749e54-084f-47f7-e8c8-57a6e0938df8"
      },
      "source": [
        "data = pd.read_csv('/content/gdrive/MyDrive/SkillFactory/movie_bd_v5.csv')\n",
        "\n",
        "data.cast = data.cast.str.split('|', expand=False)\n",
        "data_expl16 = data.explode('cast')\n",
        "\n",
        "data_expl16 = data_expl16[data_expl16.budget > data_expl16.budget.mean()]\n",
        "print(data_expl16['cast'].value_counts().index[0])\n"
      ],
      "execution_count": 273,
      "outputs": [
        {
          "output_type": "stream",
          "text": [
            "Matt Damon\n"
          ],
          "name": "stdout"
        }
      ]
    },
    {
      "cell_type": "code",
      "metadata": {
        "id": "5dw41wlBUSgJ"
      },
      "source": [
        "answers['16'] ='Matt Damon'"
      ],
      "execution_count": 32,
      "outputs": []
    },
    {
      "cell_type": "markdown",
      "metadata": {
        "id": "NIh6AaW5Vp_n"
      },
      "source": [
        "# 17. В фильмах какого жанра больше всего снимался Nicolas Cage? "
      ]
    },
    {
      "cell_type": "code",
      "metadata": {
        "id": "H74SJDIBVp_n",
        "colab": {
          "base_uri": "https://localhost:8080/"
        },
        "outputId": "c6e07cf4-8c52-4d67-bcdd-bdd1856ac332"
      },
      "source": [
        "data = pd.read_csv('/content/gdrive/MyDrive/SkillFactory/movie_bd_v5.csv')\n",
        "\n",
        "data.cast = data.cast.str.split('|', expand=False)\n",
        "data_expl17 = data.explode('cast')\n",
        "\n",
        "data_expl17.genres = data_expl17.genres.str.split('|', expand=False)\n",
        "data_expl17 = data_expl17.explode('genres')\n",
        "\n",
        "se17 = data_expl17[\n",
        "               data_expl17.cast == 'Nicolas Cage'\n",
        "               ].groupby(by='genres').count().imdb_id\n",
        "print(se17[se17==se17.max()].index[0])\n"
      ],
      "execution_count": 276,
      "outputs": [
        {
          "output_type": "stream",
          "text": [
            "Action\n"
          ],
          "name": "stdout"
        }
      ]
    },
    {
      "cell_type": "code",
      "metadata": {
        "id": "eus_42ECIX20"
      },
      "source": [
        "answers['17'] = 'Action'"
      ],
      "execution_count": 34,
      "outputs": []
    },
    {
      "cell_type": "markdown",
      "metadata": {
        "id": "RqOmPRfWVp_q"
      },
      "source": [
        "# 18. Самый убыточный фильм от Paramount Pictures"
      ]
    },
    {
      "cell_type": "code",
      "metadata": {
        "id": "9E_B0Y96Vp_r",
        "colab": {
          "base_uri": "https://localhost:8080/"
        },
        "outputId": "73881ff4-203b-4f46-d206-1a50723ca8ba"
      },
      "source": [
        "data = pd.read_csv('/content/gdrive/MyDrive/SkillFactory/movie_bd_v5.csv')\n",
        "data['profit'] = data.revenue - data.budget\n",
        "\n",
        "data.production_companies = data.production_companies.str.split(\n",
        "    '|', expand=False)\n",
        "data_expl18 = data.explode('production_companies')\n",
        "\n",
        "data_expl18 = data_expl18[data_expl18.production_companies == 'Paramount Pictures']\n",
        "df18 = data_expl18[data_expl18.profit == \n",
        "          data_expl18.profit.min()]\n",
        "title18 = df18['original_title'].values[0]\n",
        "id18 = df18['imdb_id'].values[0]\n",
        "\n",
        "print( title18 + ' (' + id18 + ')')\n"
      ],
      "execution_count": 294,
      "outputs": [
        {
          "output_type": "stream",
          "text": [
            "K-19: The Widowmaker (tt0267626)\n"
          ],
          "name": "stdout"
        }
      ]
    },
    {
      "cell_type": "code",
      "metadata": {
        "colab": {
          "base_uri": "https://localhost:8080/",
          "height": 323
        },
        "id": "e0HSkrPM5uca",
        "outputId": "1c0e16d5-ac6d-4815-987d-9eed2c6b3be6"
      },
      "source": [
        "# data[data.production_companies.str.contains('Paramaount Pictures')] #.sort_values(by='profit')"
      ],
      "execution_count": 292,
      "outputs": [
        {
          "output_type": "error",
          "ename": "KeyError",
          "evalue": "ignored",
          "traceback": [
            "\u001b[0;31m---------------------------------------------------------------------------\u001b[0m",
            "\u001b[0;31mKeyError\u001b[0m                                  Traceback (most recent call last)",
            "\u001b[0;32m<ipython-input-292-974874264b56>\u001b[0m in \u001b[0;36m<module>\u001b[0;34m()\u001b[0m\n\u001b[0;32m----> 1\u001b[0;31m \u001b[0mdata\u001b[0m\u001b[0;34m[\u001b[0m\u001b[0mdata\u001b[0m\u001b[0;34m.\u001b[0m\u001b[0mproduction_companies\u001b[0m\u001b[0;34m.\u001b[0m\u001b[0mstr\u001b[0m\u001b[0;34m.\u001b[0m\u001b[0mcontains\u001b[0m\u001b[0;34m(\u001b[0m\u001b[0;34m'Paramaount Pictures'\u001b[0m\u001b[0;34m)\u001b[0m\u001b[0;34m]\u001b[0m \u001b[0;31m#.sort_values(by='profit')\u001b[0m\u001b[0;34m\u001b[0m\u001b[0;34m\u001b[0m\u001b[0m\n\u001b[0m",
            "\u001b[0;32m/usr/local/lib/python3.7/dist-packages/pandas/core/frame.py\u001b[0m in \u001b[0;36m__getitem__\u001b[0;34m(self, key)\u001b[0m\n\u001b[1;32m   2910\u001b[0m             \u001b[0;32mif\u001b[0m \u001b[0mis_iterator\u001b[0m\u001b[0;34m(\u001b[0m\u001b[0mkey\u001b[0m\u001b[0;34m)\u001b[0m\u001b[0;34m:\u001b[0m\u001b[0;34m\u001b[0m\u001b[0;34m\u001b[0m\u001b[0m\n\u001b[1;32m   2911\u001b[0m                 \u001b[0mkey\u001b[0m \u001b[0;34m=\u001b[0m \u001b[0mlist\u001b[0m\u001b[0;34m(\u001b[0m\u001b[0mkey\u001b[0m\u001b[0;34m)\u001b[0m\u001b[0;34m\u001b[0m\u001b[0;34m\u001b[0m\u001b[0m\n\u001b[0;32m-> 2912\u001b[0;31m             \u001b[0mindexer\u001b[0m \u001b[0;34m=\u001b[0m \u001b[0mself\u001b[0m\u001b[0;34m.\u001b[0m\u001b[0mloc\u001b[0m\u001b[0;34m.\u001b[0m\u001b[0m_get_listlike_indexer\u001b[0m\u001b[0;34m(\u001b[0m\u001b[0mkey\u001b[0m\u001b[0;34m,\u001b[0m \u001b[0maxis\u001b[0m\u001b[0;34m=\u001b[0m\u001b[0;36m1\u001b[0m\u001b[0;34m,\u001b[0m \u001b[0mraise_missing\u001b[0m\u001b[0;34m=\u001b[0m\u001b[0;32mTrue\u001b[0m\u001b[0;34m)\u001b[0m\u001b[0;34m[\u001b[0m\u001b[0;36m1\u001b[0m\u001b[0;34m]\u001b[0m\u001b[0;34m\u001b[0m\u001b[0;34m\u001b[0m\u001b[0m\n\u001b[0m\u001b[1;32m   2913\u001b[0m \u001b[0;34m\u001b[0m\u001b[0m\n\u001b[1;32m   2914\u001b[0m         \u001b[0;31m# take() does not accept boolean indexers\u001b[0m\u001b[0;34m\u001b[0m\u001b[0;34m\u001b[0m\u001b[0;34m\u001b[0m\u001b[0m\n",
            "\u001b[0;32m/usr/local/lib/python3.7/dist-packages/pandas/core/indexing.py\u001b[0m in \u001b[0;36m_get_listlike_indexer\u001b[0;34m(self, key, axis, raise_missing)\u001b[0m\n\u001b[1;32m   1252\u001b[0m             \u001b[0mkeyarr\u001b[0m\u001b[0;34m,\u001b[0m \u001b[0mindexer\u001b[0m\u001b[0;34m,\u001b[0m \u001b[0mnew_indexer\u001b[0m \u001b[0;34m=\u001b[0m \u001b[0max\u001b[0m\u001b[0;34m.\u001b[0m\u001b[0m_reindex_non_unique\u001b[0m\u001b[0;34m(\u001b[0m\u001b[0mkeyarr\u001b[0m\u001b[0;34m)\u001b[0m\u001b[0;34m\u001b[0m\u001b[0;34m\u001b[0m\u001b[0m\n\u001b[1;32m   1253\u001b[0m \u001b[0;34m\u001b[0m\u001b[0m\n\u001b[0;32m-> 1254\u001b[0;31m         \u001b[0mself\u001b[0m\u001b[0;34m.\u001b[0m\u001b[0m_validate_read_indexer\u001b[0m\u001b[0;34m(\u001b[0m\u001b[0mkeyarr\u001b[0m\u001b[0;34m,\u001b[0m \u001b[0mindexer\u001b[0m\u001b[0;34m,\u001b[0m \u001b[0maxis\u001b[0m\u001b[0;34m,\u001b[0m \u001b[0mraise_missing\u001b[0m\u001b[0;34m=\u001b[0m\u001b[0mraise_missing\u001b[0m\u001b[0;34m)\u001b[0m\u001b[0;34m\u001b[0m\u001b[0;34m\u001b[0m\u001b[0m\n\u001b[0m\u001b[1;32m   1255\u001b[0m         \u001b[0;32mreturn\u001b[0m \u001b[0mkeyarr\u001b[0m\u001b[0;34m,\u001b[0m \u001b[0mindexer\u001b[0m\u001b[0;34m\u001b[0m\u001b[0;34m\u001b[0m\u001b[0m\n\u001b[1;32m   1256\u001b[0m \u001b[0;34m\u001b[0m\u001b[0m\n",
            "\u001b[0;32m/usr/local/lib/python3.7/dist-packages/pandas/core/indexing.py\u001b[0m in \u001b[0;36m_validate_read_indexer\u001b[0;34m(self, key, indexer, axis, raise_missing)\u001b[0m\n\u001b[1;32m   1296\u001b[0m             \u001b[0;32mif\u001b[0m \u001b[0mmissing\u001b[0m \u001b[0;34m==\u001b[0m \u001b[0mlen\u001b[0m\u001b[0;34m(\u001b[0m\u001b[0mindexer\u001b[0m\u001b[0;34m)\u001b[0m\u001b[0;34m:\u001b[0m\u001b[0;34m\u001b[0m\u001b[0;34m\u001b[0m\u001b[0m\n\u001b[1;32m   1297\u001b[0m                 \u001b[0maxis_name\u001b[0m \u001b[0;34m=\u001b[0m \u001b[0mself\u001b[0m\u001b[0;34m.\u001b[0m\u001b[0mobj\u001b[0m\u001b[0;34m.\u001b[0m\u001b[0m_get_axis_name\u001b[0m\u001b[0;34m(\u001b[0m\u001b[0maxis\u001b[0m\u001b[0;34m)\u001b[0m\u001b[0;34m\u001b[0m\u001b[0;34m\u001b[0m\u001b[0m\n\u001b[0;32m-> 1298\u001b[0;31m                 \u001b[0;32mraise\u001b[0m \u001b[0mKeyError\u001b[0m\u001b[0;34m(\u001b[0m\u001b[0;34mf\"None of [{key}] are in the [{axis_name}]\"\u001b[0m\u001b[0;34m)\u001b[0m\u001b[0;34m\u001b[0m\u001b[0;34m\u001b[0m\u001b[0m\n\u001b[0m\u001b[1;32m   1299\u001b[0m \u001b[0;34m\u001b[0m\u001b[0m\n\u001b[1;32m   1300\u001b[0m             \u001b[0;31m# We (temporarily) allow for some missing keys with .loc, except in\u001b[0m\u001b[0;34m\u001b[0m\u001b[0;34m\u001b[0m\u001b[0;34m\u001b[0m\u001b[0m\n",
            "\u001b[0;31mKeyError\u001b[0m: \"None of [Float64Index([nan, nan, nan, nan, nan, nan, nan, nan, nan, nan,\\n              ...\\n              nan, nan, nan, nan, nan, nan, nan, nan, nan, nan],\\n             dtype='float64', length=1889)] are in the [columns]\""
          ]
        }
      ]
    },
    {
      "cell_type": "code",
      "metadata": {
        "id": "Mc-9stTsXKLi"
      },
      "source": [
        "answers['18'] = 'K-19: The Widowmaker (tt0267626)'"
      ],
      "execution_count": 36,
      "outputs": []
    },
    {
      "cell_type": "markdown",
      "metadata": {
        "id": "vS8Ur6ddVp_u"
      },
      "source": [
        "# 19. Какой год стал самым успешным по суммарным кассовым сборам?"
      ]
    },
    {
      "cell_type": "code",
      "metadata": {
        "id": "Dnbt4GdIVp_v",
        "colab": {
          "base_uri": "https://localhost:8080/"
        },
        "outputId": "43911e14-b3eb-4e0d-aed5-96642d0cb161"
      },
      "source": [
        "data = pd.read_csv('/content/gdrive/MyDrive/SkillFactory/movie_bd_v5.csv')\n",
        "\n",
        "se = data.groupby(by='release_year').sum().revenue\n",
        "se[se == se.max()].index[0]\n"
      ],
      "execution_count": 37,
      "outputs": [
        {
          "output_type": "execute_result",
          "data": {
            "text/plain": [
              "2015"
            ]
          },
          "metadata": {
            "tags": []
          },
          "execution_count": 37
        }
      ]
    },
    {
      "cell_type": "code",
      "metadata": {
        "id": "l0GzJUQaY980"
      },
      "source": [
        "answers['19'] = 2015"
      ],
      "execution_count": 38,
      "outputs": []
    },
    {
      "cell_type": "markdown",
      "metadata": {
        "id": "JAzJh4QAVp_z"
      },
      "source": [
        "# 20. Какой самый прибыльный год для студии Warner Bros?"
      ]
    },
    {
      "cell_type": "code",
      "metadata": {
        "id": "wgVu02DEVp_0",
        "colab": {
          "base_uri": "https://localhost:8080/"
        },
        "outputId": "3325a183-5811-4121-95ba-8640005c050c"
      },
      "source": [
        "data = pd.read_csv('/content/gdrive/MyDrive/SkillFactory/movie_bd_v5.csv')\n",
        "data['profit'] = data.revenue - data.budget\n",
        "\n",
        "data.production_companies = data.production_companies.str.split(\n",
        "    '|', expand=False)\n",
        "data_expl = data.explode('production_companies')\n",
        "\n",
        "data_expl = data_expl[data_expl.production_companies == 'Warner Bros.']\n",
        "se = data_expl.groupby(by='release_year').sum().profit\n",
        "se[se == se.max()].index[0]\n",
        "\n"
      ],
      "execution_count": 39,
      "outputs": [
        {
          "output_type": "execute_result",
          "data": {
            "text/plain": [
              "2007"
            ]
          },
          "metadata": {
            "tags": []
          },
          "execution_count": 39
        }
      ]
    },
    {
      "cell_type": "code",
      "metadata": {
        "id": "9EcY4j5fa8xN"
      },
      "source": [
        "answers['20'] = 2007"
      ],
      "execution_count": 40,
      "outputs": []
    },
    {
      "cell_type": "markdown",
      "metadata": {
        "id": "8Im1S2HRVp_4"
      },
      "source": [
        "# 21. В каком месяце за все годы суммарно вышло больше всего фильмов?"
      ]
    },
    {
      "cell_type": "code",
      "metadata": {
        "id": "lev6TH7gVp_4",
        "colab": {
          "base_uri": "https://localhost:8080/"
        },
        "outputId": "2de8045e-f22b-4251-ba3c-eb12b7411c9d"
      },
      "source": [
        "data = pd.read_csv('/content/gdrive/MyDrive/SkillFactory/movie_bd_v5.csv')\n",
        "\n",
        "date_sample = data.release_date[0] #\n",
        "if type(date_sample) == str:\n",
        "    data.release_date = data.release_date.apply(lambda x: dt.datetime.strptime(x,'%m/%d/%Y'))\n",
        "\n",
        "data['month'] = data.release_date.apply(lambda x: x.month)\n",
        "data.groupby(by='month').count()\n",
        "data.month.value_counts().index[0]\n"
      ],
      "execution_count": 41,
      "outputs": [
        {
          "output_type": "execute_result",
          "data": {
            "text/plain": [
              "9"
            ]
          },
          "metadata": {
            "tags": []
          },
          "execution_count": 41
        }
      ]
    },
    {
      "cell_type": "code",
      "metadata": {
        "id": "kx1CL67pdzPu"
      },
      "source": [
        "answers['21'] = 'сентябрь'"
      ],
      "execution_count": 42,
      "outputs": []
    },
    {
      "cell_type": "markdown",
      "metadata": {
        "id": "uAJsZ_NeVp_7"
      },
      "source": [
        "# 22. Сколько суммарно вышло фильмов летом? (за июнь, июль, август)"
      ]
    },
    {
      "cell_type": "code",
      "metadata": {
        "id": "Aa-hEREoVp_8",
        "colab": {
          "base_uri": "https://localhost:8080/"
        },
        "outputId": "1fcfeb60-3741-44a9-a18f-48876c56b085"
      },
      "source": [
        "data = pd.read_csv('/content/gdrive/MyDrive/SkillFactory/movie_bd_v5.csv')\n",
        "\n",
        "date_sample = data.release_date[0] #\n",
        "if type(date_sample) == str:\n",
        "    data.release_date = data.release_date.apply(lambda x: dt.datetime.strptime(x,'%m/%d/%Y'))\n",
        "\n",
        "data['month'] = data.release_date.apply(lambda x: x.month)\n",
        "\n",
        "data[(data.month >= 6) & (data.month <= 8)]['imdb_id'].nunique()"
      ],
      "execution_count": 43,
      "outputs": [
        {
          "output_type": "execute_result",
          "data": {
            "text/plain": [
              "450"
            ]
          },
          "metadata": {
            "tags": []
          },
          "execution_count": 43
        }
      ]
    },
    {
      "cell_type": "code",
      "metadata": {
        "id": "902dTOWD6VoC"
      },
      "source": [
        "answers['22'] = 450"
      ],
      "execution_count": 44,
      "outputs": []
    },
    {
      "cell_type": "markdown",
      "metadata": {
        "id": "G94ppOY1VqAA"
      },
      "source": [
        "# 23. Для какого режиссера зима – самое продуктивное время года? "
      ]
    },
    {
      "cell_type": "code",
      "metadata": {
        "id": "RhNTsamuVqAB",
        "colab": {
          "base_uri": "https://localhost:8080/"
        },
        "outputId": "cd9db283-f38f-415e-f649-a161a9c6e764"
      },
      "source": [
        "data = pd.read_csv('/content/gdrive/MyDrive/SkillFactory/movie_bd_v5.csv')\n",
        "\n",
        "date_sample = data.release_date[0]\n",
        "if type(date_sample) == str:\n",
        "    data.release_date = data.release_date.apply(lambda x: dt.datetime.strptime(x,'%m/%d/%Y'))\n",
        "\n",
        "data['month'] = data.release_date.apply(lambda x: x.month)\n",
        "\n",
        "data.director = data.director.str.split('|', expand=False)\n",
        "data_expl = data.explode('director')\n",
        "\n",
        "print( data_expl[(data_expl.month == 12) |\n",
        "          (data_expl.month <= 2)]['director'].value_counts().index[0] )"
      ],
      "execution_count": 45,
      "outputs": [
        {
          "output_type": "stream",
          "text": [
            "Peter Jackson\n"
          ],
          "name": "stdout"
        }
      ]
    },
    {
      "cell_type": "code",
      "metadata": {
        "id": "DrFx6ICT4a3M"
      },
      "source": [
        "answers['23'] = 'Peter Jackson'"
      ],
      "execution_count": 46,
      "outputs": []
    },
    {
      "cell_type": "markdown",
      "metadata": {
        "id": "RBo0JVjVVqAF"
      },
      "source": [
        "# 24. Какая студия дает самые длинные названия своим фильмам по количеству символов?"
      ]
    },
    {
      "cell_type": "code",
      "metadata": {
        "id": "QRGS8L0iVqAG",
        "colab": {
          "base_uri": "https://localhost:8080/"
        },
        "outputId": "34fbde83-9dcd-45e0-8cc2-5e73b62046ee"
      },
      "source": [
        "data = pd.read_csv('/content/gdrive/MyDrive/SkillFactory/movie_bd_v5.csv')\n",
        "\n",
        "data.production_companies = data.production_companies.str.split(\n",
        "    '|', expand=False)\n",
        "data_expl = data.explode('production_companies')\n",
        "\n",
        "data_expl['ot_length'] = data_expl.original_title.apply(len)\n",
        "\n",
        "print(data_expl.groupby(\n",
        "    'production_companies').mean().ot_length.sort_values(\n",
        "        ascending=False).index[0]\n",
        "      )"
      ],
      "execution_count": 47,
      "outputs": [
        {
          "output_type": "stream",
          "text": [
            "Four By Two Productions\n"
          ],
          "name": "stdout"
        }
      ]
    },
    {
      "cell_type": "code",
      "metadata": {
        "id": "e_f3FSbgOTjm"
      },
      "source": [
        "answers['24'] = 'Four By Two Productions'"
      ],
      "execution_count": 48,
      "outputs": []
    },
    {
      "cell_type": "markdown",
      "metadata": {
        "id": "9G0hbvR7VqAK"
      },
      "source": [
        "# 25. Описание фильмов какой студии в среднем самые длинные по количеству слов?"
      ]
    },
    {
      "cell_type": "code",
      "metadata": {
        "id": "Ge2GsLNxVqAK",
        "colab": {
          "base_uri": "https://localhost:8080/"
        },
        "outputId": "aaea35a6-4708-4074-ed19-aaaae3f7c6f8"
      },
      "source": [
        "data = pd.read_csv('/content/gdrive/MyDrive/SkillFactory/movie_bd_v5.csv')\n",
        " \n",
        "data.production_companies = data.production_companies.str.split(\n",
        "    '|', expand=False\n",
        "    )\n",
        "data_expl = data.explode('production_companies')\n",
        " \n",
        "def word_count(s):\n",
        "    return len(s.split(' '))\n",
        " \n",
        "data_expl['words_in_overview'] = data_expl.overview.apply(word_count)\n",
        " \n",
        "print(data_expl.groupby(\n",
        "    'production_companies').mean().words_in_overview.sort_values(\n",
        "        ascending=False).index[0])"
      ],
      "execution_count": 49,
      "outputs": [
        {
          "output_type": "stream",
          "text": [
            "Midnight Picture Show\n"
          ],
          "name": "stdout"
        }
      ]
    },
    {
      "cell_type": "code",
      "metadata": {
        "id": "AK-_jBArAApV"
      },
      "source": [
        "answers['25'] = 'Midnight Picture Show'"
      ],
      "execution_count": 116,
      "outputs": []
    },
    {
      "cell_type": "markdown",
      "metadata": {
        "id": "FJ1AFt90VqAP"
      },
      "source": [
        "# 26. Какие фильмы входят в 1 процент лучших по рейтингу? \n",
        "по vote_average"
      ]
    },
    {
      "cell_type": "code",
      "metadata": {
        "id": "8qmJVq4CVqAQ",
        "colab": {
          "base_uri": "https://localhost:8080/"
        },
        "outputId": "5d920449-8088-4cb9-b54b-23ca2c0b50c2"
      },
      "source": [
        "data = pd.read_csv('/content/gdrive/MyDrive/SkillFactory/movie_bd_v5.csv')\n",
        "# display (data.sample(1))\n",
        " \n",
        "best_percentage = 0.01\n",
        "best_percentage_quantile = data.vote_average.quantile(1 - best_percentage)\n",
        "\n",
        "# data.query(f\"'vote_average' >= {best_percentage_quantile}\")\n",
        "# data.query(\"'vote_average' >= 7.8\")\n",
        "\n",
        "print (\n",
        "    data[data.vote_average > best_percentage_quantile]['original_title'].values\n",
        ")\n"
      ],
      "execution_count": 115,
      "outputs": [
        {
          "output_type": "stream",
          "text": [
            "['Inside Out' 'Room' 'Interstellar' 'Guardians of the Galaxy'\n",
            " 'The Imitation Game' 'Gone Girl' 'The Grand Budapest Hotel' 'Inception'\n",
            " 'The Dark Knight' 'The Pianist'\n",
            " 'The Lord of the Rings: The Return of the King' 'The Wolf of Wall Street'\n",
            " '12 Years a Slave' 'Memento']\n"
          ],
          "name": "stdout"
        }
      ]
    },
    {
      "cell_type": "code",
      "metadata": {
        "id": "RcTnjIqpk3uT"
      },
      "source": [
        "answers['26'] = ['Inside Out', 'The Dark Knight', '12 Years a Slave']"
      ],
      "execution_count": 111,
      "outputs": []
    },
    {
      "cell_type": "markdown",
      "metadata": {
        "id": "MdXsUXbCVqAV"
      },
      "source": [
        "# 27. Какие актеры чаще всего снимаются в одном фильме вместе?\n"
      ]
    },
    {
      "cell_type": "code",
      "metadata": {
        "colab": {
          "base_uri": "https://localhost:8080/"
        },
        "id": "zElwMjCROz6e",
        "outputId": "dae4c26d-e0a6-4456-af7b-bb38abd1ffda"
      },
      "source": [
        "data = pd.read_csv('/content/gdrive/MyDrive/SkillFactory/movie_bd_v5.csv')\n",
        "data.cast = data.cast.str.split('|', expand=False)\n",
        "\n",
        "data.cast = data.cast.apply(lambda actor: list( combinations( actor, 2 ) ) )\n",
        "\n",
        "data_pairs = data.explode('cast')\n",
        "data_pairs.groupby(\n",
        "    by='cast'\n",
        "    ).count()['imdb_id'\n",
        "            ].sort_values(ascending=False).index[1]\n"
      ],
      "execution_count": 217,
      "outputs": [
        {
          "output_type": "stream",
          "text": [
            "('Daniel Radcliffe', 'Rupert Grint')\n"
          ],
          "name": "stdout"
        }
      ]
    },
    {
      "cell_type": "code",
      "metadata": {
        "id": "ctX3ZnQQYr_s"
      },
      "source": [
        "answers ['27'] = ('Daniel Radcliffe', 'Rupert Grint')"
      ],
      "execution_count": 221,
      "outputs": []
    },
    {
      "cell_type": "code",
      "metadata": {
        "id": "3fCdBvzDWIu7"
      },
      "source": [
        "from itertools import combinations\n",
        "list(combinations('qwe',2))\n",
        "\n",
        "data = pd.read_csv('/content/gdrive/MyDrive/SkillFactory/movie_bd_v5.csv')\n",
        "\n",
        "data.cast = data.cast.str.split('|', expand=False)\n",
        "data_expl = data.explode('cast')\n",
        "\n",
        "actors = data_expl.cast.unique()\n",
        "\n",
        "# c = 0\n",
        "# for pairs in combinations(actors, 2):\n",
        "#     c +=1\n",
        "#     if c >= 5: break\n",
        "#     print (i)\n",
        "\n",
        "def flatten(lst):\n",
        "    return [item for subls in lst for item in subls]\n",
        "\n",
        "smart_pairs = (\n",
        "              flatten( list( combinations( ls,2 ) ) for ls in data.cast.values )\n",
        ")\n"
      ],
      "execution_count": null,
      "outputs": []
    },
    {
      "cell_type": "code",
      "metadata": {
        "colab": {
          "base_uri": "https://localhost:8080/",
          "height": 202
        },
        "id": "zMGeNIgY2Hol",
        "outputId": "2369f73e-e9a9-457f-80a5-b85b614e150c"
      },
      "source": [
        "data[data.original_title.str.find ('Dredd') != -1]\n",
        "data[data.release_year == -1]"
      ],
      "execution_count": 166,
      "outputs": [
        {
          "output_type": "execute_result",
          "data": {
            "text/html": [
              "<div>\n",
              "<style scoped>\n",
              "    .dataframe tbody tr th:only-of-type {\n",
              "        vertical-align: middle;\n",
              "    }\n",
              "\n",
              "    .dataframe tbody tr th {\n",
              "        vertical-align: top;\n",
              "    }\n",
              "\n",
              "    .dataframe thead th {\n",
              "        text-align: right;\n",
              "    }\n",
              "</style>\n",
              "<table border=\"1\" class=\"dataframe\">\n",
              "  <thead>\n",
              "    <tr style=\"text-align: right;\">\n",
              "      <th></th>\n",
              "      <th>imdb_id</th>\n",
              "      <th>budget</th>\n",
              "      <th>revenue</th>\n",
              "      <th>original_title</th>\n",
              "      <th>cast</th>\n",
              "      <th>director</th>\n",
              "      <th>tagline</th>\n",
              "      <th>overview</th>\n",
              "      <th>runtime</th>\n",
              "      <th>genres</th>\n",
              "      <th>production_companies</th>\n",
              "      <th>release_date</th>\n",
              "      <th>vote_average</th>\n",
              "      <th>release_year</th>\n",
              "    </tr>\n",
              "  </thead>\n",
              "  <tbody>\n",
              "    <tr>\n",
              "      <th>1010</th>\n",
              "      <td>tt1343727</td>\n",
              "      <td>50000000</td>\n",
              "      <td>41037742</td>\n",
              "      <td>Dredd</td>\n",
              "      <td>[Karl Urban, Olivia Thirlby, Lena Headey, Wood...</td>\n",
              "      <td>Pete Travis</td>\n",
              "      <td>Judgement is coming</td>\n",
              "      <td>In the future, America is a dystopian wastelan...</td>\n",
              "      <td>95</td>\n",
              "      <td>Action|Science Fiction</td>\n",
              "      <td>DNA Films|Reliance BIG Entertainment|IM Global...</td>\n",
              "      <td>9/7/2012</td>\n",
              "      <td>6.5</td>\n",
              "      <td>2012</td>\n",
              "    </tr>\n",
              "  </tbody>\n",
              "</table>\n",
              "</div>"
            ],
            "text/plain": [
              "        imdb_id    budget   revenue  ... release_date vote_average release_year\n",
              "1010  tt1343727  50000000  41037742  ...     9/7/2012          6.5         2012\n",
              "\n",
              "[1 rows x 14 columns]"
            ]
          },
          "metadata": {
            "tags": []
          },
          "execution_count": 166
        }
      ]
    },
    {
      "cell_type": "markdown",
      "metadata": {
        "id": "4ymnxEVoVqAW"
      },
      "source": [
        "ВАРИАНТ 2"
      ]
    },
    {
      "cell_type": "markdown",
      "metadata": {
        "id": "U0nONFnGVqAX"
      },
      "source": [
        "# Submission"
      ]
    },
    {
      "cell_type": "code",
      "metadata": {
        "id": "IfcaRO9-VqAX",
        "colab": {
          "base_uri": "https://localhost:8080/"
        },
        "outputId": "979c5ae6-5ce1-4899-ed5e-11828a26f453"
      },
      "source": [
        "# в конце можно посмотреть свои ответы к каждому вопросу\n",
        "answers"
      ],
      "execution_count": 222,
      "outputs": [
        {
          "output_type": "execute_result",
          "data": {
            "text/plain": [
              "{'01': 'Pirates of the Caribbean: On Stranger Tides (tt1298650)',\n",
              " '02': 'Gods and Generals (tt0279111)',\n",
              " '03': 'Winnie the Pooh (tt1449283)',\n",
              " '04': '110',\n",
              " '05': '107',\n",
              " '06': 'Avatar (tt0499549)',\n",
              " '07': 'The Lone Ranger (tt1210819)',\n",
              " '08': 1478,\n",
              " '09': 'The Dark Knight',\n",
              " '10': 'Man of Tai Chi',\n",
              " '11': 'Drama',\n",
              " '12': 'Adventure',\n",
              " '13': 'Peter Jackson',\n",
              " '14': 'Robert Rodriguez',\n",
              " '15': 'Chris Hemsworth',\n",
              " '16': 'Matt Damon',\n",
              " '17': 'Action',\n",
              " '18': 'K-19: The Widowmaker',\n",
              " '19': 2015,\n",
              " '20': 2007,\n",
              " '21': 'сентябрь',\n",
              " '22': 450,\n",
              " '23': 'Peter Jackson',\n",
              " '24': 'Midnight Picture Show',\n",
              " '25': 'Midnight Picture Show',\n",
              " '26': ['Inside Out', 'The Dark Knight', '12 Years a Slave'],\n",
              " '27': ('Daniel Radcliffe', 'Rupert Grint')}"
            ]
          },
          "metadata": {
            "tags": []
          },
          "execution_count": 222
        }
      ]
    },
    {
      "cell_type": "code",
      "metadata": {
        "id": "SiRmHPl8VqAd",
        "colab": {
          "base_uri": "https://localhost:8080/"
        },
        "outputId": "628ecd04-a0ac-40a1-b1d9-38d2709360d8"
      },
      "source": [
        "# и убедиться что ни чего не пропустил)\n",
        "len(answers)"
      ],
      "execution_count": 118,
      "outputs": [
        {
          "output_type": "execute_result",
          "data": {
            "text/plain": [
              "26"
            ]
          },
          "metadata": {
            "tags": []
          },
          "execution_count": 118
        }
      ]
    }
  ]
}