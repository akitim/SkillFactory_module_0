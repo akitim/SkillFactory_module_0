{
  "nbformat": 4,
  "nbformat_minor": 0,
  "metadata": {
    "colab": {
      "name": "Project 1 Timofey Akimkin.ipynb",
      "provenance": [],
      "toc_visible": true,
      "include_colab_link": true
    },
    "kernelspec": {
      "display_name": "Python 3",
      "language": "python",
      "name": "python3"
    },
    "language_info": {
      "codemirror_mode": {
        "name": "ipython",
        "version": 3
      },
      "file_extension": ".py",
      "mimetype": "text/x-python",
      "name": "python",
      "nbconvert_exporter": "python",
      "pygments_lexer": "ipython3",
      "version": "3.7.4"
    }
  },
  "cells": [
    {
      "cell_type": "markdown",
      "metadata": {
        "id": "view-in-github",
        "colab_type": "text"
      },
      "source": [
        "<a href=\"https://colab.research.google.com/github/akitim/SkillFactory_projects/blob/main/Project_1_Who_wants_to_be_a_millionaire_Timofey_Akimkin.ipynb\" target=\"_parent\"><img src=\"https://colab.research.google.com/assets/colab-badge.svg\" alt=\"Open In Colab\"/></a>"
      ]
    },
    {
      "cell_type": "code",
      "metadata": {
        "_cell_guid": "b1076dfc-b9ad-4769-8c92-a6c4dae69d19",
        "_uuid": "8f2839f25d086af736a60e9eeb907d3b93b6e0e5",
        "id": "U2D2gTdJVp90",
        "colab": {
          "base_uri": "https://localhost:8080/"
        },
        "outputId": "951777eb-ce26-4280-dc67-8815466390a0"
      },
      "source": [
        "import numpy as np\n",
        "import pandas as pd\n",
        "import datetime as dt\n",
        "from itertools import combinations\n",
        " \n",
        "import sys\n",
        "from google.colab import drive\n",
        "drive.mount('/content/gdrive', force_remount=True)\n",
        "sys.path.clear\n",
        "sys.path.append('/content/gdrive/MyDrive/SkillFactory')"
      ],
      "execution_count": 429,
      "outputs": [
        {
          "output_type": "stream",
          "text": [
            "Mounted at /content/gdrive\n"
          ],
          "name": "stdout"
        }
      ]
    },
    {
      "cell_type": "code",
      "metadata": {
        "_cell_guid": "79c7e3d0-c299-4dcb-8224-4455121ee9b0",
        "_uuid": "d629ff2d2480ee46fbb7e2d37f6b5fab8052498a",
        "id": "oyGfxL3eVp9-",
        "colab": {
          "base_uri": "https://localhost:8080/",
          "height": 441
        },
        "outputId": "b9b0f33e-2a4a-4388-9f2b-4cc7313e1886"
      },
      "source": [
        "data = pd.read_csv('/content/gdrive/MyDrive/SkillFactory/movie_bd_v5.csv')\n",
        "data.sample(3)"
      ],
      "execution_count": 526,
      "outputs": [
        {
          "output_type": "execute_result",
          "data": {
            "text/html": [
              "<div>\n",
              "<style scoped>\n",
              "    .dataframe tbody tr th:only-of-type {\n",
              "        vertical-align: middle;\n",
              "    }\n",
              "\n",
              "    .dataframe tbody tr th {\n",
              "        vertical-align: top;\n",
              "    }\n",
              "\n",
              "    .dataframe thead th {\n",
              "        text-align: right;\n",
              "    }\n",
              "</style>\n",
              "<table border=\"1\" class=\"dataframe\">\n",
              "  <thead>\n",
              "    <tr style=\"text-align: right;\">\n",
              "      <th></th>\n",
              "      <th>imdb_id</th>\n",
              "      <th>budget</th>\n",
              "      <th>revenue</th>\n",
              "      <th>original_title</th>\n",
              "      <th>cast</th>\n",
              "      <th>director</th>\n",
              "      <th>tagline</th>\n",
              "      <th>overview</th>\n",
              "      <th>runtime</th>\n",
              "      <th>genres</th>\n",
              "      <th>production_companies</th>\n",
              "      <th>release_date</th>\n",
              "      <th>vote_average</th>\n",
              "      <th>release_year</th>\n",
              "    </tr>\n",
              "  </thead>\n",
              "  <tbody>\n",
              "    <tr>\n",
              "      <th>202</th>\n",
              "      <td>tt2106361</td>\n",
              "      <td>50000000</td>\n",
              "      <td>160602194</td>\n",
              "      <td>Into the Storm</td>\n",
              "      <td>Richard Armitage|Sarah Wayne Callies|Matt Wals...</td>\n",
              "      <td>Steven Quale</td>\n",
              "      <td>Prepare to go</td>\n",
              "      <td>The town of Silverton is in one day destroyed ...</td>\n",
              "      <td>89</td>\n",
              "      <td>Action|Thriller</td>\n",
              "      <td>New Line Cinema|Village Roadshow Pictures|Brok...</td>\n",
              "      <td>8/6/2014</td>\n",
              "      <td>5.7</td>\n",
              "      <td>2014</td>\n",
              "    </tr>\n",
              "    <tr>\n",
              "      <th>1508</th>\n",
              "      <td>tt0420223</td>\n",
              "      <td>30000000</td>\n",
              "      <td>53653224</td>\n",
              "      <td>Stranger Than Fiction</td>\n",
              "      <td>Will Ferrell|Maggie Gyllenhaal|Dustin Hoffman|...</td>\n",
              "      <td>Marc Forster</td>\n",
              "      <td>Harold Crick isn't ready to go. Period.</td>\n",
              "      <td>Everybody knows that your life is a story. But...</td>\n",
              "      <td>113</td>\n",
              "      <td>Comedy|Drama|Fantasy|Romance</td>\n",
              "      <td>Mandate Pictures|Three Strange Angels</td>\n",
              "      <td>9/9/2006</td>\n",
              "      <td>6.9</td>\n",
              "      <td>2006</td>\n",
              "    </tr>\n",
              "    <tr>\n",
              "      <th>1552</th>\n",
              "      <td>tt0433416</td>\n",
              "      <td>12000000</td>\n",
              "      <td>20138836</td>\n",
              "      <td>The Namesake</td>\n",
              "      <td>Kal Penn|Tabu|Irrfan Khan|Sahira Nair|Jacinda ...</td>\n",
              "      <td>Mira Nair</td>\n",
              "      <td>Two Worlds. One Journey.</td>\n",
              "      <td>American-born Gogol, the son of Indian immigra...</td>\n",
              "      <td>122</td>\n",
              "      <td>Drama</td>\n",
              "      <td>Fox Searchlight Pictures|Mirabai Films</td>\n",
              "      <td>9/2/2006</td>\n",
              "      <td>7.0</td>\n",
              "      <td>2006</td>\n",
              "    </tr>\n",
              "  </tbody>\n",
              "</table>\n",
              "</div>"
            ],
            "text/plain": [
              "        imdb_id    budget    revenue  ... release_date vote_average release_year\n",
              "202   tt2106361  50000000  160602194  ...     8/6/2014          5.7         2014\n",
              "1508  tt0420223  30000000   53653224  ...     9/9/2006          6.9         2006\n",
              "1552  tt0433416  12000000   20138836  ...     9/2/2006          7.0         2006\n",
              "\n",
              "[3 rows x 14 columns]"
            ]
          },
          "metadata": {
            "tags": []
          },
          "execution_count": 526
        }
      ]
    },
    {
      "cell_type": "markdown",
      "metadata": {
        "id": "DTIt7ezGVp-G"
      },
      "source": [
        "# Предобработка"
      ]
    },
    {
      "cell_type": "code",
      "metadata": {
        "id": "jNb40DwKVp-H"
      },
      "source": [
        "answers = {} # создадим словарь для ответов\n",
        " \n",
        "#здесь исправляется странное поведение Google Colab,\n",
        "#когда колонка release_date считывается то как timestamp,\n",
        "#то как string\n",
        " \n",
        "if type(data.release_date[0]) == str:\n",
        "    data.release_date = data.release_date.apply(\n",
        "        lambda x: dt.datetime.strptime(x,'%m/%d/%Y'))\n",
        " \n",
        "data['profit'] = data.revenue - data.budget #добавляем колонку profit\n",
        " \n",
        "#the time given in the dataset is in string format.\n",
        "#So we need to change this in datetime format\n",
        "# ... \"That my dear Balin, is not entirely true\""
      ],
      "execution_count": 527,
      "outputs": []
    },
    {
      "cell_type": "markdown",
      "metadata": {
        "id": "YxZaH-nPVp-L"
      },
      "source": [
        "# 1. У какого фильма из списка самый большой бюджет?"
      ]
    },
    {
      "cell_type": "code",
      "metadata": {
        "id": "dZwb3m28Vp-S",
        "colab": {
          "base_uri": "https://localhost:8080/"
        },
        "outputId": "508b710e-2662-4680-fbad-16f100c9408a"
      },
      "source": [
        "# тут пишем ваш код для решения данного вопроса:\n",
        "title = data[data.budget == data.budget.max()].original_title.iloc[0]\n",
        "id = data[data.budget == data.budget.max()].imdb_id.iloc[0]\n",
        "print(title + ' (' + id + ')')"
      ],
      "execution_count": 433,
      "outputs": [
        {
          "output_type": "stream",
          "text": [
            "Pirates of the Caribbean: On Stranger Tides (tt1298650)\n"
          ],
          "name": "stdout"
        }
      ]
    },
    {
      "cell_type": "code",
      "metadata": {
        "id": "uVnXAY5RVp-O"
      },
      "source": [
        "answers['01'] = 'Pirates of the Caribbean: On Stranger Tides (tt1298650)'"
      ],
      "execution_count": 434,
      "outputs": []
    },
    {
      "cell_type": "markdown",
      "metadata": {
        "id": "K7L3nbRXVp-X"
      },
      "source": [
        "ВАРИАНТ 2"
      ]
    },
    {
      "cell_type": "code",
      "metadata": {
        "id": "OGaoQI7rVp-X",
        "colab": {
          "base_uri": "https://localhost:8080/"
        },
        "outputId": "3d5267fa-291a-48ba-c6c5-7d83c5b5482a"
      },
      "source": [
        "title = data.query('budget == budget.max()').original_title.iloc[0]\n",
        "id = data.query('budget == budget.max()').imdb_id.iloc[0]\n",
        "print(title + ' (' + id + ')')"
      ],
      "execution_count": 435,
      "outputs": [
        {
          "output_type": "stream",
          "text": [
            "Pirates of the Caribbean: On Stranger Tides (tt1298650)\n"
          ],
          "name": "stdout"
        }
      ]
    },
    {
      "cell_type": "markdown",
      "metadata": {
        "id": "FNRbbI3vVp-c"
      },
      "source": [
        "# 2. Какой из фильмов самый длительный (в минутах)?"
      ]
    },
    {
      "cell_type": "code",
      "metadata": {
        "id": "ot-VX2XrVp-g",
        "colab": {
          "base_uri": "https://localhost:8080/"
        },
        "outputId": "c4f58f27-2745-470a-dc8e-aa008210700d"
      },
      "source": [
        "data_filtered2 = data[data.runtime == data.runtime.max()]\n",
        "\n",
        "title2 = data_filtered2.original_title.iloc[0]\n",
        "id2 = data_filtered2.imdb_id.iloc[0]\n",
        "\n",
        "print(title2 + ' (' + id2 + ')')"
      ],
      "execution_count": 436,
      "outputs": [
        {
          "output_type": "stream",
          "text": [
            "Gods and Generals (tt0279111)\n"
          ],
          "name": "stdout"
        }
      ]
    },
    {
      "cell_type": "markdown",
      "metadata": {
        "id": "gqr5viAhRQH3"
      },
      "source": [
        "ВАРИАНТ 2"
      ]
    },
    {
      "cell_type": "code",
      "metadata": {
        "colab": {
          "base_uri": "https://localhost:8080/"
        },
        "id": "0fDqcTEHOj3k",
        "outputId": "bb038d1e-522b-4492-bb96-cdeaeb58e2d1"
      },
      "source": [
        "data_filtered2 = data.query('runtime == runtime.max()')\n",
        "\n",
        "title2 = data_filtered2.original_title.iloc[0] \n",
        "id2 = data_filtered2.imdb_id.iloc[0]\n",
        "\n",
        "print(title2 + ' (' + id2 + ')')"
      ],
      "execution_count": 437,
      "outputs": [
        {
          "output_type": "stream",
          "text": [
            "Gods and Generals (tt0279111)\n"
          ],
          "name": "stdout"
        }
      ]
    },
    {
      "cell_type": "code",
      "metadata": {
        "id": "vHAoEXNTVp-d"
      },
      "source": [
        "answers['02'] = 'Gods and Generals (tt0279111)'"
      ],
      "execution_count": 438,
      "outputs": []
    },
    {
      "cell_type": "markdown",
      "metadata": {
        "id": "bapLlpW8Vp-k"
      },
      "source": [
        "# 3. Какой из фильмов самый короткий (в минутах)?\n",
        "\n",
        "\n",
        "\n"
      ]
    },
    {
      "cell_type": "code",
      "metadata": {
        "id": "YBxaSHuAVp-l",
        "colab": {
          "base_uri": "https://localhost:8080/"
        },
        "outputId": "c54eb761-c3c3-42db-c165-e538d7609385"
      },
      "source": [
        "data_filtered3 = data[data.runtime == data.runtime.min()]\n",
        "\n",
        "title3 = data_filtered3.original_title.iloc[0]\n",
        "id3 = data_filtered3.imdb_id.iloc[0]\n",
        "\n",
        "print(title3 + ' (' + id3 + ')')\n"
      ],
      "execution_count": 439,
      "outputs": [
        {
          "output_type": "stream",
          "text": [
            "Winnie the Pooh (tt1449283)\n"
          ],
          "name": "stdout"
        }
      ]
    },
    {
      "cell_type": "markdown",
      "metadata": {
        "id": "dO1V3L48RSNJ"
      },
      "source": [
        "ВАРИАНТ 2"
      ]
    },
    {
      "cell_type": "code",
      "metadata": {
        "colab": {
          "base_uri": "https://localhost:8080/"
        },
        "id": "Fk_VUwDBRZ03",
        "outputId": "b38e8ec2-5451-4dd8-c077-ff0826407305"
      },
      "source": [
        "data_filtered3 = data.query('runtime == runtime.min()')\n",
        "\n",
        "title3 = data_filtered3.original_title.iloc[0] \n",
        "id3 = data_filtered3.imdb_id.iloc[0]\n",
        "\n",
        "print(title3 + ' (' + id3 + ')')"
      ],
      "execution_count": 440,
      "outputs": [
        {
          "output_type": "stream",
          "text": [
            "Winnie the Pooh (tt1449283)\n"
          ],
          "name": "stdout"
        }
      ]
    },
    {
      "cell_type": "code",
      "metadata": {
        "id": "YJuabOmVRig_"
      },
      "source": [
        "answers['03'] = 'Winnie the Pooh (tt1449283)'"
      ],
      "execution_count": 441,
      "outputs": []
    },
    {
      "cell_type": "markdown",
      "metadata": {
        "id": "TfQbxbfNVp-p"
      },
      "source": [
        "# 4. Какова средняя длительность фильмов?\n"
      ]
    },
    {
      "cell_type": "code",
      "metadata": {
        "colab": {
          "base_uri": "https://localhost:8080/"
        },
        "id": "9zKYSwpER5KS",
        "outputId": "8ed11ffc-3f81-4ae7-c0d7-f55c57ed8866"
      },
      "source": [
        "print (round(data.runtime.mean()))\n"
      ],
      "execution_count": 442,
      "outputs": [
        {
          "output_type": "stream",
          "text": [
            "110\n"
          ],
          "name": "stdout"
        }
      ]
    },
    {
      "cell_type": "code",
      "metadata": {
        "id": "qAzDdKo0ctaz"
      },
      "source": [
        "answers['04'] = '110'"
      ],
      "execution_count": 443,
      "outputs": []
    },
    {
      "cell_type": "markdown",
      "metadata": {
        "id": "r5TvbnT_Vp-u"
      },
      "source": [
        "# 5. Каково медианное значение длительности фильмов? "
      ]
    },
    {
      "cell_type": "code",
      "metadata": {
        "id": "iBROplKnVp-v",
        "colab": {
          "base_uri": "https://localhost:8080/"
        },
        "outputId": "18f1095d-180a-4b3d-b06a-a3a32c0a40ea"
      },
      "source": [
        "print (round(data.runtime.median()))\n"
      ],
      "execution_count": 444,
      "outputs": [
        {
          "output_type": "stream",
          "text": [
            "107\n"
          ],
          "name": "stdout"
        }
      ]
    },
    {
      "cell_type": "code",
      "metadata": {
        "id": "XJ_uHeDRcwcB"
      },
      "source": [
        "answers['05'] = '107'"
      ],
      "execution_count": 445,
      "outputs": []
    },
    {
      "cell_type": "markdown",
      "metadata": {
        "id": "39P-deDSVp-y"
      },
      "source": [
        "# 6. Какой самый прибыльный фильм?\n",
        "#### Внимание! Здесь и далее под «прибылью» или «убытками» понимается разность между сборами и бюджетом фильма. (прибыль = сборы - бюджет) в нашем датасете это будет (profit = revenue - budget) "
      ]
    },
    {
      "cell_type": "code",
      "metadata": {
        "id": "UYZh4T9WVp-y",
        "colab": {
          "base_uri": "https://localhost:8080/"
        },
        "outputId": "c13d391c-8f00-4c66-932a-202d18b342c0"
      },
      "source": [
        "data_filtered6 = data.query(\"profit == profit.max()\")\n",
        "title6 = data_filtered6.original_title.iloc[0]\n",
        "id6 = data_filtered6.imdb_id.iloc[0]\n",
        "\n",
        "print(title6 + ' (' + id6 + ')')"
      ],
      "execution_count": 446,
      "outputs": [
        {
          "output_type": "stream",
          "text": [
            "Avatar (tt0499549)\n"
          ],
          "name": "stdout"
        }
      ]
    },
    {
      "cell_type": "code",
      "metadata": {
        "id": "wPwuub3Xc7TL"
      },
      "source": [
        "answers['06'] = 'Avatar (tt0499549)'"
      ],
      "execution_count": 447,
      "outputs": []
    },
    {
      "cell_type": "markdown",
      "metadata": {
        "id": "M99JmIX4Vp-2"
      },
      "source": [
        "# 7. Какой фильм самый убыточный? "
      ]
    },
    {
      "cell_type": "code",
      "metadata": {
        "id": "w-D2m4XPVp-3",
        "colab": {
          "base_uri": "https://localhost:8080/"
        },
        "outputId": "dde213d2-4c59-474d-d1c5-8603429ec7c8"
      },
      "source": [
        "data_filtered7 = data.query(\"profit == profit.min()\")\n",
        "title7 = data_filtered7.original_title.iloc[0]\n",
        "id7 = data_filtered7.imdb_id.iloc[0]\n",
        "\n",
        "print(title7 + ' (' + id7 + ')')\n"
      ],
      "execution_count": 448,
      "outputs": [
        {
          "output_type": "stream",
          "text": [
            "The Lone Ranger (tt1210819)\n"
          ],
          "name": "stdout"
        }
      ]
    },
    {
      "cell_type": "code",
      "metadata": {
        "id": "kbVJDLmadHlK"
      },
      "source": [
        "answers['07'] = 'The Lone Ranger (tt1210819)'"
      ],
      "execution_count": 449,
      "outputs": []
    },
    {
      "cell_type": "markdown",
      "metadata": {
        "id": "wEOM5ERVVp-6"
      },
      "source": [
        "# 8. У скольких фильмов из датасета объем сборов оказался выше бюджета?"
      ]
    },
    {
      "cell_type": "code",
      "metadata": {
        "id": "y00_7HD6Vp-7",
        "colab": {
          "base_uri": "https://localhost:8080/"
        },
        "outputId": "cd0a1363-5ad4-4d6f-9d27-21cd40cddd2b"
      },
      "source": [
        "data_filtered8 = data.query(\"profit > 0\")\n",
        "print(len(data_filtered8))\n"
      ],
      "execution_count": 450,
      "outputs": [
        {
          "output_type": "stream",
          "text": [
            "1478\n"
          ],
          "name": "stdout"
        }
      ]
    },
    {
      "cell_type": "code",
      "metadata": {
        "id": "uzW4YMoVbXKY"
      },
      "source": [
        "answers['08'] = 1478"
      ],
      "execution_count": 451,
      "outputs": []
    },
    {
      "cell_type": "markdown",
      "metadata": {
        "id": "xhpspA9KVp_A"
      },
      "source": [
        "# 9. Какой фильм оказался самым кассовым в 2008 году?"
      ]
    },
    {
      "cell_type": "code",
      "metadata": {
        "id": "MoUyQr9RVp_B",
        "colab": {
          "base_uri": "https://localhost:8080/"
        },
        "outputId": "d79bc256-a8f5-4ef6-9ae5-fc027c55f12d"
      },
      "source": [
        "data_2008 = data.query(\"release_year == 2008\").query(\"revenue == revenue.max()\")\n",
        "print(data_2008.original_title.iloc[0])\n"
      ],
      "execution_count": 452,
      "outputs": [
        {
          "output_type": "stream",
          "text": [
            "The Dark Knight\n"
          ],
          "name": "stdout"
        }
      ]
    },
    {
      "cell_type": "code",
      "metadata": {
        "id": "x7x2T2aNeHNo"
      },
      "source": [
        "answers['09'] = 'The Dark Knight'"
      ],
      "execution_count": 453,
      "outputs": []
    },
    {
      "cell_type": "markdown",
      "metadata": {
        "id": "Zi4hDKidVp_F"
      },
      "source": [
        "# 10. Самый убыточный фильм за период с 2012 по 2014 г. (включительно)?\n"
      ]
    },
    {
      "cell_type": "code",
      "metadata": {
        "id": "XqyRmufJVp_F",
        "colab": {
          "base_uri": "https://localhost:8080/"
        },
        "outputId": "2f93d195-bb44-42cc-a5a2-f4bf909863a7"
      },
      "source": [
        "data_filtered10 = data.query(\n",
        "    \"(release_year >= 2012) & (release_year <= 2014)\"\n",
        "    ).query(\"profit == profit.min()\")\n",
        "\n",
        "print(\n",
        "    data_filtered10.original_title.iloc[0] + ' (' + \n",
        "    data_filtered10.imdb_id.iloc[0] + ')'\n",
        ")\n"
      ],
      "execution_count": 454,
      "outputs": [
        {
          "output_type": "stream",
          "text": [
            "The Lone Ranger (tt1210819)\n"
          ],
          "name": "stdout"
        }
      ]
    },
    {
      "cell_type": "code",
      "metadata": {
        "id": "4Dd1JeGldwJj"
      },
      "source": [
        "answers['10'] = 'The Lone Ranger (tt1210819)'"
      ],
      "execution_count": 455,
      "outputs": []
    },
    {
      "cell_type": "markdown",
      "metadata": {
        "id": "EA7Sa9dkVp_I"
      },
      "source": [
        "# 11. Какого жанра фильмов больше всего?"
      ]
    },
    {
      "cell_type": "code",
      "metadata": {
        "id": "otO3SbrSVp_N",
        "colab": {
          "base_uri": "https://localhost:8080/"
        },
        "outputId": "a7e91195-b5f4-4bf1-8419-019c3ed62ea2"
      },
      "source": [
        "data.genres = data.genres.str.split('|', expand=False)\n",
        "data = data.explode('genres')\n",
        "\n",
        "genres_pvt11 = data.pivot_table (values = ['imdb_id'],\n",
        "index = ['genres'],\n",
        "aggfunc = 'count',\n",
        "fill_value = 0,\n",
        "margins = True)\n",
        "\n",
        "print(genres_pvt11['imdb_id'].\n",
        "      sort_values(ascending = False).index[1])"
      ],
      "execution_count": 457,
      "outputs": [
        {
          "output_type": "stream",
          "text": [
            "Drama\n"
          ],
          "name": "stdout"
        }
      ]
    },
    {
      "cell_type": "code",
      "metadata": {
        "id": "-Jv_McqKd3Wy"
      },
      "source": [
        "answers['11'] = 'Drama'"
      ],
      "execution_count": 458,
      "outputs": []
    },
    {
      "cell_type": "markdown",
      "metadata": {
        "id": "T9_bPWpkVp_Q"
      },
      "source": [
        "# 12. Какого жанра среди прибыльных фильмов больше всего?"
      ]
    },
    {
      "cell_type": "code",
      "metadata": {
        "id": "Tmt8MaK1Vp_R",
        "colab": {
          "base_uri": "https://localhost:8080/"
        },
        "outputId": "ccb515ed-3f2d-4dbe-ccf8-5247c15302d9"
      },
      "source": [
        "data_profitable = data[ data.profit > 0 ]\n",
        "\n",
        "data_profitable.genres = data_profitable.genres.str.split('|', expand=False)\n",
        "data_profitable = data_profitable.explode('genres')\n",
        "\n",
        "print(\n",
        "data_profitable.groupby( \n",
        "    by='genres'\n",
        "    ).count()['imdb_id'].sort_values(ascending=False).index[0]\n",
        ")\n"
      ],
      "execution_count": 459,
      "outputs": [
        {
          "output_type": "stream",
          "text": [
            "Drama\n"
          ],
          "name": "stdout"
        },
        {
          "output_type": "stream",
          "text": [
            "/usr/local/lib/python3.7/dist-packages/pandas/core/generic.py:5170: SettingWithCopyWarning: \n",
            "A value is trying to be set on a copy of a slice from a DataFrame.\n",
            "Try using .loc[row_indexer,col_indexer] = value instead\n",
            "\n",
            "See the caveats in the documentation: https://pandas.pydata.org/pandas-docs/stable/user_guide/indexing.html#returning-a-view-versus-a-copy\n",
            "  self[name] = value\n"
          ],
          "name": "stderr"
        }
      ]
    },
    {
      "cell_type": "code",
      "metadata": {
        "id": "cbc0-ZXaeXiA"
      },
      "source": [
        "answers['12'] = 'Drama'"
      ],
      "execution_count": 460,
      "outputs": []
    },
    {
      "cell_type": "markdown",
      "metadata": {
        "id": "0F23bgsDVp_U"
      },
      "source": [
        "# 13. У какого режиссера самые большие суммарные кассовые сборы?"
      ]
    },
    {
      "cell_type": "code",
      "metadata": {
        "id": "K6Z3J8ygVp_X",
        "colab": {
          "base_uri": "https://localhost:8080/"
        },
        "outputId": "97c010e5-a44a-4a35-eadb-3da1ec92e03b"
      },
      "source": [
        "data.director = data.director.str.split('|', expand=False)\n",
        "data_expl13 = data.explode('director')\n",
        "\n",
        "gp13 = data_expl13.groupby(by = 'director').sum()['profit']\n",
        "print (gp13[gp13 == gp13.max()].index[0])"
      ],
      "execution_count": 461,
      "outputs": [
        {
          "output_type": "stream",
          "text": [
            "Peter Jackson\n"
          ],
          "name": "stdout"
        }
      ]
    },
    {
      "cell_type": "code",
      "metadata": {
        "id": "281TzrhHe3sb"
      },
      "source": [
        "answers['13'] = 'Peter Jackson'"
      ],
      "execution_count": 462,
      "outputs": []
    },
    {
      "cell_type": "markdown",
      "metadata": {
        "id": "PsYC9FgRVp_a"
      },
      "source": [
        "# 14. Какой режисер снял больше всего фильмов в стиле Action?"
      ]
    },
    {
      "cell_type": "code",
      "metadata": {
        "id": "wd2M-wHeVp_b",
        "colab": {
          "base_uri": "https://localhost:8080/"
        },
        "outputId": "777540ea-4012-44d8-ecbc-0b50573efa46"
      },
      "source": [
        "data.director = data.director.str.split('|', expand=False)\n",
        "data_expl14 = data.explode('director')\n",
        "\n",
        "data_expl14.genres = data_expl14.genres.str.split('|', expand=False)\n",
        "data_expl14 = data_expl14.explode('genres')\n",
        "\n",
        "pvt14 = data_expl14.pivot_table (values = ['imdb_id'],\n",
        "index = ['genres'],\n",
        "columns = ['director'],\n",
        "aggfunc ='count',\n",
        "fill_value = 0,\n",
        "margins = False)\n",
        "\n",
        "max_action = pvt14.loc[\"Action\"]\n",
        "print( max_action[max_action == max_action.max()].index[0][1] )"
      ],
      "execution_count": 463,
      "outputs": [
        {
          "output_type": "stream",
          "text": [
            "Robert Rodriguez\n"
          ],
          "name": "stdout"
        }
      ]
    },
    {
      "cell_type": "code",
      "metadata": {
        "id": "zqk4t7crf3WQ"
      },
      "source": [
        "answers['14'] = 'Robert Rodriguez'"
      ],
      "execution_count": 464,
      "outputs": []
    },
    {
      "cell_type": "markdown",
      "metadata": {
        "id": "PQ0KciD7Vp_f"
      },
      "source": [
        "# 15. Фильмы с каким актером принесли самые высокие кассовые сборы в 2012 году? "
      ]
    },
    {
      "cell_type": "code",
      "metadata": {
        "id": "aga62oeKVp_g",
        "colab": {
          "base_uri": "https://localhost:8080/"
        },
        "outputId": "d2760106-8eab-4a2c-f7f8-642a2e9d46d3"
      },
      "source": [
        "data.cast = data.cast.str.split('|', expand=False)\n",
        "data_expl15 = data.explode('cast')\n",
        "\n",
        "data_expl15 = data_expl15[\n",
        "                          data_expl15.release_year == 2012\n",
        "                          ].groupby(by = 'cast').sum()\n",
        "print (\n",
        "    data_expl15[data_expl15.revenue == data_expl15.revenue.max()].index[0]\n",
        ")\n",
        "\n",
        "# pvt = data_expl.pivot_table (values = ['revenue'],\n",
        "# index = ['cast'],\n",
        "# columns = ['release_year'],\n",
        "# aggfunc ='sum',\n",
        "# fill_value = 0,\n",
        "# margins = False)"
      ],
      "execution_count": 465,
      "outputs": [
        {
          "output_type": "stream",
          "text": [
            "Chris Hemsworth\n"
          ],
          "name": "stdout"
        }
      ]
    },
    {
      "cell_type": "code",
      "metadata": {
        "id": "rfDW57BABz7K"
      },
      "source": [
        "answers['15'] = 'Chris Hemsworth'"
      ],
      "execution_count": 466,
      "outputs": []
    },
    {
      "cell_type": "markdown",
      "metadata": {
        "id": "mWHyyL7QVp_j"
      },
      "source": [
        "# 16. Какой актер снялся в большем количестве высокобюджетных фильмов?"
      ]
    },
    {
      "cell_type": "code",
      "metadata": {
        "id": "qQtmHKTFVp_k",
        "colab": {
          "base_uri": "https://localhost:8080/"
        },
        "outputId": "9c779473-2556-4ab6-a6c8-26301364168d"
      },
      "source": [
        "data.cast = data.cast.str.split('|', expand=False)\n",
        "data_expl16 = data.explode('cast')\n",
        "\n",
        "data_expl16 = data_expl16[data_expl16.budget > data_expl16.budget.mean()]\n",
        "print(data_expl16['cast'].value_counts().index[0])\n"
      ],
      "execution_count": 467,
      "outputs": [
        {
          "output_type": "stream",
          "text": [
            "Matt Damon\n"
          ],
          "name": "stdout"
        }
      ]
    },
    {
      "cell_type": "code",
      "metadata": {
        "id": "5dw41wlBUSgJ"
      },
      "source": [
        "answers['16'] ='Matt Damon'"
      ],
      "execution_count": 468,
      "outputs": []
    },
    {
      "cell_type": "markdown",
      "metadata": {
        "id": "NIh6AaW5Vp_n"
      },
      "source": [
        "# 17. В фильмах какого жанра больше всего снимался Nicolas Cage? "
      ]
    },
    {
      "cell_type": "code",
      "metadata": {
        "id": "H74SJDIBVp_n",
        "colab": {
          "base_uri": "https://localhost:8080/"
        },
        "outputId": "cab29a5d-b85d-4749-bb66-f318f895556f"
      },
      "source": [
        "data.cast = data.cast.str.split('|', expand=False)\n",
        "data_expl17 = data.explode('cast')\n",
        "\n",
        "data_expl17.genres = data_expl17.genres.str.split('|', expand=False)\n",
        "data_expl17 = data_expl17.explode('genres')\n",
        "\n",
        "se17 = data_expl17[\n",
        "               data_expl17.cast == 'Nicolas Cage'\n",
        "               ].groupby(by='genres').count().imdb_id\n",
        "print(se17[se17==se17.max()].index[0])\n"
      ],
      "execution_count": 469,
      "outputs": [
        {
          "output_type": "stream",
          "text": [
            "Action\n"
          ],
          "name": "stdout"
        }
      ]
    },
    {
      "cell_type": "code",
      "metadata": {
        "id": "eus_42ECIX20"
      },
      "source": [
        "answers['17'] = 'Action'"
      ],
      "execution_count": 470,
      "outputs": []
    },
    {
      "cell_type": "markdown",
      "metadata": {
        "id": "RqOmPRfWVp_q"
      },
      "source": [
        "# 18. Самый убыточный фильм от Paramount Pictures"
      ]
    },
    {
      "cell_type": "code",
      "metadata": {
        "id": "9E_B0Y96Vp_r",
        "colab": {
          "base_uri": "https://localhost:8080/"
        },
        "outputId": "6968ea90-5f0f-439f-deda-2f0bcf71603b"
      },
      "source": [
        "data.production_companies = data.production_companies.str.split(\n",
        "    '|', expand=False)\n",
        "data_expl18 = data.explode('production_companies')\n",
        " \n",
        "data_expl18 = data_expl18[data_expl18.production_companies == 'Paramount Pictures']\n",
        "df18 = data_expl18[data_expl18.profit == \n",
        "          data_expl18.profit.min()]\n",
        "title18 = df18['original_title'].values[0]\n",
        "id18 = df18['imdb_id'].values[0]\n",
        " \n",
        "print( title18 + ' (' + id18 + ')')"
      ],
      "execution_count": 471,
      "outputs": [
        {
          "output_type": "stream",
          "text": [
            "K-19: The Widowmaker (tt0267626)\n"
          ],
          "name": "stdout"
        }
      ]
    },
    {
      "cell_type": "code",
      "metadata": {
        "id": "e0HSkrPM5uca"
      },
      "source": [
        "# data[data.production_companies.str.contains('Paramaount Pictures')] #.sort_values(by='profit')"
      ],
      "execution_count": 472,
      "outputs": []
    },
    {
      "cell_type": "code",
      "metadata": {
        "id": "Mc-9stTsXKLi"
      },
      "source": [
        "answers['18'] = 'K-19: The Widowmaker (tt0267626)'"
      ],
      "execution_count": 473,
      "outputs": []
    },
    {
      "cell_type": "markdown",
      "metadata": {
        "id": "vS8Ur6ddVp_u"
      },
      "source": [
        "# 19. Какой год стал самым успешным по суммарным кассовым сборам?"
      ]
    },
    {
      "cell_type": "code",
      "metadata": {
        "id": "Dnbt4GdIVp_v",
        "colab": {
          "base_uri": "https://localhost:8080/"
        },
        "outputId": "52657c2c-f8af-4bf9-d965-77a6e2b938f6"
      },
      "source": [
        "se19 = data.groupby(by='release_year').sum().revenue\n",
        "se19[se19 == se19.max()].index[0]"
      ],
      "execution_count": 474,
      "outputs": [
        {
          "output_type": "execute_result",
          "data": {
            "text/plain": [
              "2015"
            ]
          },
          "metadata": {
            "tags": []
          },
          "execution_count": 474
        }
      ]
    },
    {
      "cell_type": "code",
      "metadata": {
        "id": "l0GzJUQaY980"
      },
      "source": [
        "answers['19'] = 2015"
      ],
      "execution_count": 475,
      "outputs": []
    },
    {
      "cell_type": "markdown",
      "metadata": {
        "id": "JAzJh4QAVp_z"
      },
      "source": [
        "# 20. Какой самый прибыльный год для студии Warner Bros?"
      ]
    },
    {
      "cell_type": "code",
      "metadata": {
        "id": "wgVu02DEVp_0",
        "colab": {
          "base_uri": "https://localhost:8080/"
        },
        "outputId": "7a90ca44-8dcf-456c-e751-437fc85f4015"
      },
      "source": [
        "data.production_companies = data.production_companies.str.split(\n",
        "    '|', expand=False )\n",
        "data_expl20 = data.explode(\n",
        "    'production_companies').query(\"'production_companies' == 'Warner Bros.'\")\n",
        "\n",
        "se20 = data_expl20.groupby(by='release_year').sum().profit\n",
        "print ( se20[se20 == se20.max()].index[0] )"
      ],
      "execution_count": 517,
      "outputs": [
        {
          "output_type": "stream",
          "text": [
            "2015\n"
          ],
          "name": "stdout"
        }
      ]
    },
    {
      "cell_type": "code",
      "metadata": {
        "id": "9EcY4j5fa8xN"
      },
      "source": [
        "answers['20'] = 2015"
      ],
      "execution_count": 507,
      "outputs": []
    },
    {
      "cell_type": "markdown",
      "metadata": {
        "id": "8Im1S2HRVp_4"
      },
      "source": [
        "# 21. В каком месяце за все годы суммарно вышло больше всего фильмов?"
      ]
    },
    {
      "cell_type": "code",
      "metadata": {
        "id": "lev6TH7gVp_4",
        "colab": {
          "base_uri": "https://localhost:8080/"
        },
        "outputId": "f20cd18d-ded6-4ff1-9ce0-2c5e9d54f0cd"
      },
      "source": [
        "date_sample = data.release_date[0] #\n",
        "if type(date_sample) == str:\n",
        "    data.release_date = data.release_date.apply(lambda x: dt.datetime.strptime(x,'%m/%d/%Y'))\n",
        "\n",
        "data['month'] = data.release_date.apply(lambda x: x.month)\n",
        "data.groupby(by='month').count()\n",
        "data.month.value_counts().index[0]\n"
      ],
      "execution_count": 478,
      "outputs": [
        {
          "output_type": "execute_result",
          "data": {
            "text/plain": [
              "9"
            ]
          },
          "metadata": {
            "tags": []
          },
          "execution_count": 478
        }
      ]
    },
    {
      "cell_type": "code",
      "metadata": {
        "id": "kx1CL67pdzPu"
      },
      "source": [
        "answers['21'] = 'сентябрь'"
      ],
      "execution_count": 479,
      "outputs": []
    },
    {
      "cell_type": "markdown",
      "metadata": {
        "id": "uAJsZ_NeVp_7"
      },
      "source": [
        "# 22. Сколько суммарно вышло фильмов летом? (за июнь, июль, август)"
      ]
    },
    {
      "cell_type": "code",
      "metadata": {
        "id": "Aa-hEREoVp_8",
        "colab": {
          "base_uri": "https://localhost:8080/"
        },
        "outputId": "15698cc5-5357-438f-a4bf-4d52c37f433b"
      },
      "source": [
        "date_sample = data.release_date[0] #\n",
        "if type(date_sample) == str:\n",
        "    data.release_date = data.release_date.apply(lambda x: dt.datetime.strptime(x,'%m/%d/%Y'))\n",
        "\n",
        "data['month'] = data.release_date.apply(lambda x: x.month)\n",
        "\n",
        "data[(data.month >= 6) & (data.month <= 8)]['imdb_id'].nunique()"
      ],
      "execution_count": 480,
      "outputs": [
        {
          "output_type": "execute_result",
          "data": {
            "text/plain": [
              "450"
            ]
          },
          "metadata": {
            "tags": []
          },
          "execution_count": 480
        }
      ]
    },
    {
      "cell_type": "code",
      "metadata": {
        "id": "902dTOWD6VoC"
      },
      "source": [
        "answers['22'] = 450"
      ],
      "execution_count": 481,
      "outputs": []
    },
    {
      "cell_type": "markdown",
      "metadata": {
        "id": "G94ppOY1VqAA"
      },
      "source": [
        "# 23. Для какого режиссера зима – самое продуктивное время года? "
      ]
    },
    {
      "cell_type": "code",
      "metadata": {
        "id": "RhNTsamuVqAB",
        "colab": {
          "base_uri": "https://localhost:8080/"
        },
        "outputId": "7f473479-0451-4af0-c853-2ecd99d5e4b9"
      },
      "source": [
        "date_sample = data.release_date[0]\n",
        "if type(date_sample) == str:\n",
        "    data.release_date = data.release_date.apply(lambda x: dt.datetime.strptime(x,'%m/%d/%Y'))\n",
        "\n",
        "data['month'] = data.release_date.apply(lambda x: x.month)\n",
        "\n",
        "data.director = data.director.str.split('|', expand=False)\n",
        "data_expl = data.explode('director')\n",
        "\n",
        "print( data_expl[(data_expl.month == 12) |\n",
        "          (data_expl.month <= 2)]['director'].value_counts().index[0] )"
      ],
      "execution_count": 482,
      "outputs": [
        {
          "output_type": "stream",
          "text": [
            "Peter Jackson\n"
          ],
          "name": "stdout"
        }
      ]
    },
    {
      "cell_type": "code",
      "metadata": {
        "id": "DrFx6ICT4a3M"
      },
      "source": [
        "answers['23'] = 'Peter Jackson'"
      ],
      "execution_count": 483,
      "outputs": []
    },
    {
      "cell_type": "markdown",
      "metadata": {
        "id": "RBo0JVjVVqAF"
      },
      "source": [
        "# 24. Какая студия дает самые длинные названия своим фильмам по количеству символов?"
      ]
    },
    {
      "cell_type": "code",
      "metadata": {
        "id": "QRGS8L0iVqAG",
        "colab": {
          "base_uri": "https://localhost:8080/"
        },
        "outputId": "978bcee8-dcb7-40de-d1d8-228b0a65b71c"
      },
      "source": [
        "data.production_companies = data.production_companies.str.split(\n",
        "    '|', expand=False)\n",
        "data_expl = data.explode('production_companies')\n",
        "\n",
        "data_expl['ot_length'] = data_expl.original_title.apply(len)\n",
        "\n",
        "print(data_expl.groupby(\n",
        "    'production_companies').mean().ot_length.sort_values(\n",
        "        ascending=False).index[0]\n",
        "      )"
      ],
      "execution_count": 484,
      "outputs": [
        {
          "output_type": "stream",
          "text": [
            "Four By Two Productions\n"
          ],
          "name": "stdout"
        }
      ]
    },
    {
      "cell_type": "code",
      "metadata": {
        "id": "e_f3FSbgOTjm"
      },
      "source": [
        "answers['24'] = 'Four By Two Productions'"
      ],
      "execution_count": 485,
      "outputs": []
    },
    {
      "cell_type": "markdown",
      "metadata": {
        "id": "9G0hbvR7VqAK"
      },
      "source": [
        "# 25. Описание фильмов какой студии в среднем самые длинные по количеству слов?"
      ]
    },
    {
      "cell_type": "code",
      "metadata": {
        "id": "Ge2GsLNxVqAK",
        "colab": {
          "base_uri": "https://localhost:8080/"
        },
        "outputId": "56e84fd3-655e-4f98-a732-3f741a3bfbb8"
      },
      "source": [
        "data.production_companies = data.production_companies.str.split(\n",
        "    '|', expand=False\n",
        "    )\n",
        "data_expl = data.explode('production_companies')\n",
        " \n",
        "def word_count(s):\n",
        "    return len(s.split(' '))\n",
        " \n",
        "data_expl['words_in_overview'] = data_expl.overview.apply(word_count)\n",
        " \n",
        "print(data_expl.groupby(\n",
        "    'production_companies').mean().words_in_overview.sort_values(\n",
        "        ascending=False).index[0])"
      ],
      "execution_count": 486,
      "outputs": [
        {
          "output_type": "stream",
          "text": [
            "Midnight Picture Show\n"
          ],
          "name": "stdout"
        }
      ]
    },
    {
      "cell_type": "code",
      "metadata": {
        "id": "AK-_jBArAApV"
      },
      "source": [
        "answers['25'] = 'Midnight Picture Show'"
      ],
      "execution_count": 487,
      "outputs": []
    },
    {
      "cell_type": "markdown",
      "metadata": {
        "id": "FJ1AFt90VqAP"
      },
      "source": [
        "# 26. Какие фильмы входят в 1 процент лучших по рейтингу? \n",
        "по vote_average"
      ]
    },
    {
      "cell_type": "code",
      "metadata": {
        "id": "8qmJVq4CVqAQ",
        "colab": {
          "base_uri": "https://localhost:8080/"
        },
        "outputId": "951ebaae-dcc0-4362-fe10-0fba69a54148"
      },
      "source": [
        "best_percentage = 0.01\n",
        "best_percentage_quantile = data.vote_average.quantile(1 - best_percentage)\n",
        "\n",
        "print (\n",
        "    data[data.vote_average > best_percentage_quantile]['original_title'].values\n",
        ")\n"
      ],
      "execution_count": 488,
      "outputs": [
        {
          "output_type": "stream",
          "text": [
            "['Inside Out' 'Room' 'Interstellar' 'Guardians of the Galaxy'\n",
            " 'The Imitation Game' 'Gone Girl' 'The Grand Budapest Hotel' 'Inception'\n",
            " 'The Dark Knight' 'The Pianist'\n",
            " 'The Lord of the Rings: The Return of the King' 'The Wolf of Wall Street'\n",
            " '12 Years a Slave' 'Memento']\n"
          ],
          "name": "stdout"
        }
      ]
    },
    {
      "cell_type": "code",
      "metadata": {
        "id": "RcTnjIqpk3uT"
      },
      "source": [
        "answers['26'] = ['Inside Out', 'The Dark Knight', '12 Years a Slave']"
      ],
      "execution_count": 489,
      "outputs": []
    },
    {
      "cell_type": "markdown",
      "metadata": {
        "id": "MdXsUXbCVqAV"
      },
      "source": [
        "# 27. Какие актеры чаще всего снимаются в одном фильме вместе?\n"
      ]
    },
    {
      "cell_type": "code",
      "metadata": {
        "colab": {
          "base_uri": "https://localhost:8080/"
        },
        "id": "zElwMjCROz6e",
        "outputId": "3e69c1e7-fd4e-40ba-b50c-36d452b089ac"
      },
      "source": [
        "data.cast = data.cast.str.split('|', expand=False)\n",
        "\n",
        "data.cast = data.cast.apply(lambda actor: list( combinations( actor, 2 ) ) )\n",
        "\n",
        "data_valid_pairs = data.explode('cast')\n",
        "data_valid_pairs.groupby(\n",
        "    by='cast'\n",
        "    ).count()['imdb_id'\n",
        "            ].sort_values(ascending=False).index[1]\n"
      ],
      "execution_count": 490,
      "outputs": [
        {
          "output_type": "execute_result",
          "data": {
            "text/plain": [
              "('Daniel Radcliffe', 'Rupert Grint')"
            ]
          },
          "metadata": {
            "tags": []
          },
          "execution_count": 490
        }
      ]
    },
    {
      "cell_type": "code",
      "metadata": {
        "id": "ctX3ZnQQYr_s"
      },
      "source": [
        "answers ['27'] = ('Daniel Radcliffe', 'Rupert Grint')"
      ],
      "execution_count": 491,
      "outputs": []
    },
    {
      "cell_type": "markdown",
      "metadata": {
        "id": "U0nONFnGVqAX"
      },
      "source": [
        "# Submission"
      ]
    },
    {
      "cell_type": "code",
      "metadata": {
        "id": "IfcaRO9-VqAX",
        "colab": {
          "base_uri": "https://localhost:8080/"
        },
        "outputId": "692327f0-2c0b-4fa4-92a3-ecf2651197d7"
      },
      "source": [
        "answers"
      ],
      "execution_count": 493,
      "outputs": [
        {
          "output_type": "execute_result",
          "data": {
            "text/plain": [
              "{'01': 'Pirates of the Caribbean: On Stranger Tides (tt1298650)',\n",
              " '02': 'Gods and Generals (tt0279111)',\n",
              " '03': 'Winnie the Pooh (tt1449283)',\n",
              " '04': '110',\n",
              " '05': '107',\n",
              " '06': 'Avatar (tt0499549)',\n",
              " '07': 'The Lone Ranger (tt1210819)',\n",
              " '08': 1478,\n",
              " '09': 'The Dark Knight',\n",
              " '10': 'The Lone Ranger (tt1210819)',\n",
              " '11': 'Drama',\n",
              " '12': 'Drama',\n",
              " '13': 'Peter Jackson',\n",
              " '14': 'Robert Rodriguez',\n",
              " '15': 'Chris Hemsworth',\n",
              " '16': 'Matt Damon',\n",
              " '17': 'Action',\n",
              " '18': 'K-19: The Widowmaker (tt0267626)',\n",
              " '19': 2015,\n",
              " '20': 2007,\n",
              " '21': 'сентябрь',\n",
              " '22': 450,\n",
              " '23': 'Peter Jackson',\n",
              " '24': 'Four By Two Productions',\n",
              " '25': 'Midnight Picture Show',\n",
              " '26': ['Inside Out', 'The Dark Knight', '12 Years a Slave'],\n",
              " '27': ('Daniel Radcliffe', 'Rupert Grint')}"
            ]
          },
          "metadata": {
            "tags": []
          },
          "execution_count": 493
        }
      ]
    },
    {
      "cell_type": "code",
      "metadata": {
        "id": "SiRmHPl8VqAd",
        "colab": {
          "base_uri": "https://localhost:8080/"
        },
        "outputId": "0fb895a0-34aa-4e46-82b7-d468183bafff"
      },
      "source": [
        "# и убедиться что ни чего не пропустил)\n",
        "len(answers)"
      ],
      "execution_count": 494,
      "outputs": [
        {
          "output_type": "execute_result",
          "data": {
            "text/plain": [
              "27"
            ]
          },
          "metadata": {
            "tags": []
          },
          "execution_count": 494
        }
      ]
    }
  ]
}