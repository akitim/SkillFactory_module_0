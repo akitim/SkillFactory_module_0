{
  "nbformat": 4,
  "nbformat_minor": 0,
  "metadata": {
    "colab": {
      "name": "Project 1 Timofey Akimkin.ipynb",
      "provenance": [],
      "include_colab_link": true
    },
    "kernelspec": {
      "display_name": "Python 3",
      "language": "python",
      "name": "python3"
    },
    "language_info": {
      "codemirror_mode": {
        "name": "ipython",
        "version": 3
      },
      "file_extension": ".py",
      "mimetype": "text/x-python",
      "name": "python",
      "nbconvert_exporter": "python",
      "pygments_lexer": "ipython3",
      "version": "3.7.4"
    }
  },
  "cells": [
    {
      "cell_type": "markdown",
      "metadata": {
        "id": "view-in-github",
        "colab_type": "text"
      },
      "source": [
        "<a href=\"https://colab.research.google.com/github/akitim/SkillFactory_projects/blob/main/Project_1_Who_wants_to_be_a_millionaire_Timofey_Akimkin.ipynb\" target=\"_parent\"><img src=\"https://colab.research.google.com/assets/colab-badge.svg\" alt=\"Open In Colab\"/></a>"
      ]
    },
    {
      "cell_type": "code",
      "metadata": {
        "_cell_guid": "b1076dfc-b9ad-4769-8c92-a6c4dae69d19",
        "_uuid": "8f2839f25d086af736a60e9eeb907d3b93b6e0e5",
        "id": "U2D2gTdJVp90",
        "colab": {
          "base_uri": "https://localhost:8080/"
        },
        "outputId": "84d29a4b-cdee-420f-9b16-319d74b358e5"
      },
      "source": [
        "import numpy as np\n",
        "import pandas as pd\n",
        "import datetime as dt\n",
        "# import seaborn as sns\n",
        "# import matplotlib.pyplot as plt\n",
        "# from collections import Counter\n",
        "\n",
        "import sys\n",
        "from google.colab import drive\n",
        "drive.mount('/content/gdrive', force_remount=True)\n",
        "sys.path.clear\n",
        "sys.path.append('/content/gdrive/MyDrive/SkillFactory')"
      ],
      "execution_count": 125,
      "outputs": [
        {
          "output_type": "stream",
          "text": [
            "Mounted at /content/gdrive\n"
          ],
          "name": "stdout"
        }
      ]
    },
    {
      "cell_type": "code",
      "metadata": {
        "_cell_guid": "79c7e3d0-c299-4dcb-8224-4455121ee9b0",
        "_uuid": "d629ff2d2480ee46fbb7e2d37f6b5fab8052498a",
        "id": "oyGfxL3eVp9-",
        "colab": {
          "base_uri": "https://localhost:8080/",
          "height": 202
        },
        "outputId": "505b644e-b56c-4ea5-f671-a1d8117608a6"
      },
      "source": [
        "data = pd.read_csv('/content/gdrive/MyDrive/SkillFactory/movie_bd_v5.csv')\n",
        "data.sample(1)"
      ],
      "execution_count": 126,
      "outputs": [
        {
          "output_type": "execute_result",
          "data": {
            "text/html": [
              "<div>\n",
              "<style scoped>\n",
              "    .dataframe tbody tr th:only-of-type {\n",
              "        vertical-align: middle;\n",
              "    }\n",
              "\n",
              "    .dataframe tbody tr th {\n",
              "        vertical-align: top;\n",
              "    }\n",
              "\n",
              "    .dataframe thead th {\n",
              "        text-align: right;\n",
              "    }\n",
              "</style>\n",
              "<table border=\"1\" class=\"dataframe\">\n",
              "  <thead>\n",
              "    <tr style=\"text-align: right;\">\n",
              "      <th></th>\n",
              "      <th>imdb_id</th>\n",
              "      <th>budget</th>\n",
              "      <th>revenue</th>\n",
              "      <th>original_title</th>\n",
              "      <th>cast</th>\n",
              "      <th>director</th>\n",
              "      <th>tagline</th>\n",
              "      <th>overview</th>\n",
              "      <th>runtime</th>\n",
              "      <th>genres</th>\n",
              "      <th>production_companies</th>\n",
              "      <th>release_date</th>\n",
              "      <th>vote_average</th>\n",
              "      <th>release_year</th>\n",
              "    </tr>\n",
              "  </thead>\n",
              "  <tbody>\n",
              "    <tr>\n",
              "      <th>461</th>\n",
              "      <td>tt0808510</td>\n",
              "      <td>48000000</td>\n",
              "      <td>112462508</td>\n",
              "      <td>Tooth Fairy</td>\n",
              "      <td>Dwayne Johnson|Stephen Merchant|Ashley Judd|Ju...</td>\n",
              "      <td>Michael Lembeck</td>\n",
              "      <td>You can't handle the tooth.</td>\n",
              "      <td>When minor-league hockey player Derek Thompson...</td>\n",
              "      <td>101</td>\n",
              "      <td>Comedy|Family|Fantasy</td>\n",
              "      <td>Dune Entertainment|Dune Entertainment III|Twen...</td>\n",
              "      <td>1/14/2010</td>\n",
              "      <td>5.2</td>\n",
              "      <td>2010</td>\n",
              "    </tr>\n",
              "  </tbody>\n",
              "</table>\n",
              "</div>"
            ],
            "text/plain": [
              "       imdb_id    budget    revenue  ... release_date vote_average release_year\n",
              "461  tt0808510  48000000  112462508  ...    1/14/2010          5.2         2010\n",
              "\n",
              "[1 rows x 14 columns]"
            ]
          },
          "metadata": {
            "tags": []
          },
          "execution_count": 126
        }
      ]
    },
    {
      "cell_type": "code",
      "metadata": {
        "id": "CoYUnagMVp-C"
      },
      "source": [
        "# data.describe()"
      ],
      "execution_count": 127,
      "outputs": []
    },
    {
      "cell_type": "markdown",
      "metadata": {
        "id": "DTIt7ezGVp-G"
      },
      "source": [
        "# Предобработка"
      ]
    },
    {
      "cell_type": "code",
      "metadata": {
        "id": "jNb40DwKVp-H",
        "colab": {
          "base_uri": "https://localhost:8080/",
          "height": 434
        },
        "outputId": "c5e74749-2ba2-4f85-ed8d-66922085f9c8"
      },
      "source": [
        "answers = {} # создадим словарь для ответов\n",
        "\n",
        "\n",
        "# тут другие ваши предобработки колонок например:\n",
        "\n",
        "date_sample = data.release_date[0]\n",
        "if type(date_sample) == str:\n",
        "    data.release_date = data.release_date.apply(lambda x: dt.datetime.strptime(x,'%m/%d/%Y'))\n",
        "\n",
        "# display (data[data.release_date == data.release_date[0]])\n",
        "# print(data.release_date[0].month)\n",
        "# data.release_date = data.release_date.apply(dt.datetime.strptime,args = ('%m/%d/%Y',))\n",
        "\n",
        "data['profit'] = data.revenue - data.budget\n",
        "\n",
        "data.sample(3)\n",
        "\n",
        "#the time given in the dataset is in string format.\n",
        "#So we need to change this in datetime format\n",
        "# ... \"That my dear Balin, is not entirely true\" "
      ],
      "execution_count": 128,
      "outputs": [
        {
          "output_type": "execute_result",
          "data": {
            "text/html": [
              "<div>\n",
              "<style scoped>\n",
              "    .dataframe tbody tr th:only-of-type {\n",
              "        vertical-align: middle;\n",
              "    }\n",
              "\n",
              "    .dataframe tbody tr th {\n",
              "        vertical-align: top;\n",
              "    }\n",
              "\n",
              "    .dataframe thead th {\n",
              "        text-align: right;\n",
              "    }\n",
              "</style>\n",
              "<table border=\"1\" class=\"dataframe\">\n",
              "  <thead>\n",
              "    <tr style=\"text-align: right;\">\n",
              "      <th></th>\n",
              "      <th>imdb_id</th>\n",
              "      <th>budget</th>\n",
              "      <th>revenue</th>\n",
              "      <th>original_title</th>\n",
              "      <th>cast</th>\n",
              "      <th>director</th>\n",
              "      <th>tagline</th>\n",
              "      <th>overview</th>\n",
              "      <th>runtime</th>\n",
              "      <th>genres</th>\n",
              "      <th>production_companies</th>\n",
              "      <th>release_date</th>\n",
              "      <th>vote_average</th>\n",
              "      <th>release_year</th>\n",
              "      <th>profit</th>\n",
              "    </tr>\n",
              "  </thead>\n",
              "  <tbody>\n",
              "    <tr>\n",
              "      <th>1243</th>\n",
              "      <td>tt2140373</td>\n",
              "      <td>35000000</td>\n",
              "      <td>112544580</td>\n",
              "      <td>Saving Mr. Banks</td>\n",
              "      <td>Emma Thompson|Tom Hanks|Paul Giamatti|Colin Fa...</td>\n",
              "      <td>John Lee Hancock</td>\n",
              "      <td>Where her book ended, their story began.</td>\n",
              "      <td>Author P.L. Travers travels from London to Hol...</td>\n",
              "      <td>125</td>\n",
              "      <td>Comedy|Drama|History</td>\n",
              "      <td>Walt Disney Pictures|BBC Films|Ruby Films|Esse...</td>\n",
              "      <td>2013-11-16</td>\n",
              "      <td>7.3</td>\n",
              "      <td>2013</td>\n",
              "      <td>77544580</td>\n",
              "    </tr>\n",
              "    <tr>\n",
              "      <th>487</th>\n",
              "      <td>tt1226273</td>\n",
              "      <td>80000000</td>\n",
              "      <td>74901339</td>\n",
              "      <td>Edge of Darkness</td>\n",
              "      <td>Mel Gibson|Ray Winstone|Danny Huston|Shawn Rob...</td>\n",
              "      <td>Martin Campbell</td>\n",
              "      <td>Some secrets take us to the edge.</td>\n",
              "      <td>As a seasoned homicide detective, Thomas Crave...</td>\n",
              "      <td>117</td>\n",
              "      <td>Crime|Drama|Mystery|Thriller</td>\n",
              "      <td>Icon Productions|BBC Films|GK Films|Warner Bros.</td>\n",
              "      <td>2010-01-29</td>\n",
              "      <td>6.0</td>\n",
              "      <td>2010</td>\n",
              "      <td>-5098661</td>\n",
              "    </tr>\n",
              "    <tr>\n",
              "      <th>507</th>\n",
              "      <td>tt0146316</td>\n",
              "      <td>115000000</td>\n",
              "      <td>274703340</td>\n",
              "      <td>Lara Croft: Tomb Raider</td>\n",
              "      <td>Angelina Jolie|Jon Voight|Iain Glen|Noah Taylo...</td>\n",
              "      <td>Simon West</td>\n",
              "      <td>Born into Wealth. Groomed by the Elite. Traine...</td>\n",
              "      <td>English aristocrat Lara Croft is skilled in ha...</td>\n",
              "      <td>100</td>\n",
              "      <td>Adventure|Fantasy|Action|Thriller</td>\n",
              "      <td>Paramount Pictures|Toho-Towa|Mutual Film Compa...</td>\n",
              "      <td>2001-06-11</td>\n",
              "      <td>5.6</td>\n",
              "      <td>2001</td>\n",
              "      <td>159703340</td>\n",
              "    </tr>\n",
              "  </tbody>\n",
              "</table>\n",
              "</div>"
            ],
            "text/plain": [
              "        imdb_id     budget    revenue  ... vote_average release_year     profit\n",
              "1243  tt2140373   35000000  112544580  ...          7.3         2013   77544580\n",
              "487   tt1226273   80000000   74901339  ...          6.0         2010   -5098661\n",
              "507   tt0146316  115000000  274703340  ...          5.6         2001  159703340\n",
              "\n",
              "[3 rows x 15 columns]"
            ]
          },
          "metadata": {
            "tags": []
          },
          "execution_count": 128
        }
      ]
    },
    {
      "cell_type": "markdown",
      "metadata": {
        "id": "YxZaH-nPVp-L"
      },
      "source": [
        "# 1. У какого фильма из списка самый большой бюджет?"
      ]
    },
    {
      "cell_type": "markdown",
      "metadata": {
        "id": "Nd-G5gX6Vp-M"
      },
      "source": [
        "Использовать варианты ответов в коде решения запрещено.    \n",
        "Вы думаете и в жизни у вас будут варианты ответов?)"
      ]
    },
    {
      "cell_type": "code",
      "metadata": {
        "id": "uVnXAY5RVp-O"
      },
      "source": [
        "# в словарь вставляем номер вопроса и ваш ответ на него\n",
        "# Пример: \n",
        "#answers['1'] = '2. Spider-Man 3 (tt0413300)'\n",
        "\n",
        "# запишите свой вариант ответа\n",
        "answers['1'] = 'Pirates of the Caribbean: On Stranger Tides (tt1298650)'\n",
        "# если ответили верно, можете добавить комментарий со значком \"+\""
      ],
      "execution_count": 129,
      "outputs": []
    },
    {
      "cell_type": "code",
      "metadata": {
        "id": "dZwb3m28Vp-S",
        "colab": {
          "base_uri": "https://localhost:8080/"
        },
        "outputId": "638b6c55-8092-4a54-f36a-89edb440629c"
      },
      "source": [
        "# тут пишем ваш код для решения данного вопроса:\n",
        "title = data[data.budget == data.budget.max()].original_title.iloc[0]\n",
        "id = data[data.budget == data.budget.max()].imdb_id.iloc[0]\n",
        "print(title + ' (' + id + ')')"
      ],
      "execution_count": 130,
      "outputs": [
        {
          "output_type": "stream",
          "text": [
            "Pirates of the Caribbean: On Stranger Tides (tt1298650)\n"
          ],
          "name": "stdout"
        }
      ]
    },
    {
      "cell_type": "markdown",
      "metadata": {
        "id": "K7L3nbRXVp-X"
      },
      "source": [
        "ВАРИАНТ 2"
      ]
    },
    {
      "cell_type": "code",
      "metadata": {
        "id": "OGaoQI7rVp-X",
        "colab": {
          "base_uri": "https://localhost:8080/"
        },
        "outputId": "2103cdef-164a-41af-f512-cf88bd5819c2"
      },
      "source": [
        "# можно добавлять разные варианты решения\n",
        "title = data.query('budget == budget.max()').original_title.iloc[0]\n",
        "id = data.query('budget == budget.max()').imdb_id.iloc[0]\n",
        "print(title + ' (' + id + ')')"
      ],
      "execution_count": 131,
      "outputs": [
        {
          "output_type": "stream",
          "text": [
            "Pirates of the Caribbean: On Stranger Tides (tt1298650)\n"
          ],
          "name": "stdout"
        }
      ]
    },
    {
      "cell_type": "markdown",
      "metadata": {
        "id": "FNRbbI3vVp-c"
      },
      "source": [
        "# 2. Какой из фильмов самый длительный (в минутах)?"
      ]
    },
    {
      "cell_type": "code",
      "metadata": {
        "id": "vHAoEXNTVp-d"
      },
      "source": [
        "# думаю логику работы с этим словарем вы уже поняли, \n",
        "# по этому не буду больше его дублировать\n",
        "answers['2'] = 'Gods and Generals (tt0279111)'"
      ],
      "execution_count": 132,
      "outputs": []
    },
    {
      "cell_type": "code",
      "metadata": {
        "id": "ot-VX2XrVp-g",
        "colab": {
          "base_uri": "https://localhost:8080/"
        },
        "outputId": "d52252f7-bde3-4220-e846-43945c664392"
      },
      "source": [
        "data_filtered = data[data.runtime == data.runtime.max()]\n",
        "\n",
        "title = data_filtered.original_title.iloc[0]\n",
        "id = data_filtered.imdb_id.iloc[0]\n",
        "\n",
        "print(title + ' (' + id + ')')\n",
        "\n",
        "#data.query(\"original_title == 'Gods and Generals'\").runtime.values[0]\n",
        "#display(data[data.cast.str.contains('Anthony Hopkins')])\n"
      ],
      "execution_count": 133,
      "outputs": [
        {
          "output_type": "stream",
          "text": [
            "Gods and Generals (tt0279111)\n"
          ],
          "name": "stdout"
        }
      ]
    },
    {
      "cell_type": "markdown",
      "metadata": {
        "id": "gqr5viAhRQH3"
      },
      "source": [
        "ВАРИАНТ 2"
      ]
    },
    {
      "cell_type": "code",
      "metadata": {
        "colab": {
          "base_uri": "https://localhost:8080/"
        },
        "id": "0fDqcTEHOj3k",
        "outputId": "71359be3-4115-4d7d-90b1-f3d1fbe68843"
      },
      "source": [
        "data_filtered = data.query('runtime == runtime.max()')\n",
        "\n",
        "title = data_filtered.original_title.iloc[0] \n",
        "id = data_filtered.imdb_id.iloc[0]\n",
        "\n",
        "print(title + ' (' + id + ')')"
      ],
      "execution_count": 134,
      "outputs": [
        {
          "output_type": "stream",
          "text": [
            "Gods and Generals (tt0279111)\n"
          ],
          "name": "stdout"
        }
      ]
    },
    {
      "cell_type": "markdown",
      "metadata": {
        "id": "bapLlpW8Vp-k"
      },
      "source": [
        "# 3. Какой из фильмов самый короткий (в минутах)?\n",
        "\n",
        "\n",
        "\n"
      ]
    },
    {
      "cell_type": "code",
      "metadata": {
        "id": "YJuabOmVRig_"
      },
      "source": [
        "answers['3'] = 'Winnie the Pooh (tt1449283)'"
      ],
      "execution_count": 135,
      "outputs": []
    },
    {
      "cell_type": "code",
      "metadata": {
        "id": "YBxaSHuAVp-l",
        "colab": {
          "base_uri": "https://localhost:8080/"
        },
        "outputId": "669c79f2-25f3-4283-824d-8e17fce4cea4"
      },
      "source": [
        "data_filtered = data[data.runtime == data.runtime.min()]\n",
        "\n",
        "title = data_filtered.original_title.iloc[0]\n",
        "id = data_filtered.imdb_id.iloc[0]\n",
        "\n",
        "print(title + ' (' + id + ')')\n"
      ],
      "execution_count": 136,
      "outputs": [
        {
          "output_type": "stream",
          "text": [
            "Winnie the Pooh (tt1449283)\n"
          ],
          "name": "stdout"
        }
      ]
    },
    {
      "cell_type": "markdown",
      "metadata": {
        "id": "dO1V3L48RSNJ"
      },
      "source": [
        "ВАРИАНТ 2"
      ]
    },
    {
      "cell_type": "code",
      "metadata": {
        "colab": {
          "base_uri": "https://localhost:8080/"
        },
        "id": "Fk_VUwDBRZ03",
        "outputId": "dba6476e-7f52-41db-e370-ad3fa66a4bc6"
      },
      "source": [
        "data_filtered = data.query('runtime == runtime.min()')\n",
        "\n",
        "title = data_filtered.original_title.iloc[0] \n",
        "id = data_filtered.imdb_id.iloc[0]\n",
        "\n",
        "print(title + ' (' + id + ')')"
      ],
      "execution_count": 137,
      "outputs": [
        {
          "output_type": "stream",
          "text": [
            "Winnie the Pooh (tt1449283)\n"
          ],
          "name": "stdout"
        }
      ]
    },
    {
      "cell_type": "markdown",
      "metadata": {
        "id": "TfQbxbfNVp-p"
      },
      "source": [
        "# 4. Какова средняя длительность фильмов?\n"
      ]
    },
    {
      "cell_type": "code",
      "metadata": {
        "colab": {
          "base_uri": "https://localhost:8080/"
        },
        "id": "9zKYSwpER5KS",
        "outputId": "a601ef61-2a19-4b21-d6a9-b8d70b86c6e6"
      },
      "source": [
        "print (round(data.runtime.mean()))\n",
        "\n",
        "answers['4'] = '110'"
      ],
      "execution_count": 138,
      "outputs": [
        {
          "output_type": "stream",
          "text": [
            "110\n"
          ],
          "name": "stdout"
        }
      ]
    },
    {
      "cell_type": "markdown",
      "metadata": {
        "id": "r5TvbnT_Vp-u"
      },
      "source": [
        "# 5. Каково медианное значение длительности фильмов? "
      ]
    },
    {
      "cell_type": "code",
      "metadata": {
        "id": "iBROplKnVp-v",
        "colab": {
          "base_uri": "https://localhost:8080/"
        },
        "outputId": "63af46f9-357c-4409-a97b-5639bdfaef9f"
      },
      "source": [
        "print (round(data.runtime.median()))\n",
        "\n",
        "answers['5'] = '107'"
      ],
      "execution_count": 139,
      "outputs": [
        {
          "output_type": "stream",
          "text": [
            "107\n"
          ],
          "name": "stdout"
        }
      ]
    },
    {
      "cell_type": "markdown",
      "metadata": {
        "id": "39P-deDSVp-y"
      },
      "source": [
        "# 6. Какой самый прибыльный фильм?\n",
        "#### Внимание! Здесь и далее под «прибылью» или «убытками» понимается разность между сборами и бюджетом фильма. (прибыль = сборы - бюджет) в нашем датасете это будет (profit = revenue - budget) "
      ]
    },
    {
      "cell_type": "code",
      "metadata": {
        "id": "UYZh4T9WVp-y",
        "colab": {
          "base_uri": "https://localhost:8080/"
        },
        "outputId": "720b168c-c6e2-48be-f7b7-b4bdbbc172d2"
      },
      "source": [
        "# лучше код получения столбца profit вынести в Предобработку что в начале\n",
        "data_filtered = data.query(\"profit == profit.max()\")\n",
        "title = data_filtered.original_title.iloc[0]\n",
        "id = data_filtered.imdb_id.iloc[0]\n",
        "\n",
        "print(title + ' (' + id + ')')\n",
        "\n",
        "answers['6'] = 'Avatar (tt0499549)'"
      ],
      "execution_count": 150,
      "outputs": [
        {
          "output_type": "stream",
          "text": [
            "Avatar (tt0499549)\n"
          ],
          "name": "stdout"
        }
      ]
    },
    {
      "cell_type": "markdown",
      "metadata": {
        "id": "M99JmIX4Vp-2"
      },
      "source": [
        "# 7. Какой фильм самый убыточный? "
      ]
    },
    {
      "cell_type": "code",
      "metadata": {
        "id": "w-D2m4XPVp-3",
        "colab": {
          "base_uri": "https://localhost:8080/"
        },
        "outputId": "07be7997-9755-4584-d2e2-07393e2271c0"
      },
      "source": [
        "data_filtered = data.query(\"profit == profit.min()\")\n",
        "title = data_filtered.original_title.iloc[0]\n",
        "id = data_filtered.imdb_id.iloc[0]\n",
        "\n",
        "print(title + ' (' + id + ')')\n",
        "\n",
        "answers['7'] = 'The Lone Ranger (tt1210819)'"
      ],
      "execution_count": 151,
      "outputs": [
        {
          "output_type": "stream",
          "text": [
            "The Lone Ranger (tt1210819)\n"
          ],
          "name": "stdout"
        }
      ]
    },
    {
      "cell_type": "markdown",
      "metadata": {
        "id": "wEOM5ERVVp-6"
      },
      "source": [
        "# 8. У скольких фильмов из датасета объем сборов оказался выше бюджета?"
      ]
    },
    {
      "cell_type": "code",
      "metadata": {
        "id": "y00_7HD6Vp-7"
      },
      "source": [
        ""
      ],
      "execution_count": 140,
      "outputs": []
    },
    {
      "cell_type": "markdown",
      "metadata": {
        "id": "xhpspA9KVp_A"
      },
      "source": [
        "# 9. Какой фильм оказался самым кассовым в 2008 году?"
      ]
    },
    {
      "cell_type": "code",
      "metadata": {
        "id": "MoUyQr9RVp_B"
      },
      "source": [
        ""
      ],
      "execution_count": 140,
      "outputs": []
    },
    {
      "cell_type": "markdown",
      "metadata": {
        "id": "Zi4hDKidVp_F"
      },
      "source": [
        "# 10. Самый убыточный фильм за период с 2012 по 2014 г. (включительно)?\n"
      ]
    },
    {
      "cell_type": "code",
      "metadata": {
        "id": "XqyRmufJVp_F"
      },
      "source": [
        ""
      ],
      "execution_count": 140,
      "outputs": []
    },
    {
      "cell_type": "markdown",
      "metadata": {
        "id": "EA7Sa9dkVp_I"
      },
      "source": [
        "# 11. Какого жанра фильмов больше всего?"
      ]
    },
    {
      "cell_type": "code",
      "metadata": {
        "id": "zsJAwJ8QVp_J"
      },
      "source": [
        "# эту задачу тоже можно решать разными подходами, попробуй реализовать разные варианты\n",
        "# если будешь добавлять функцию - выноси ее в предобработку что в начале"
      ],
      "execution_count": 141,
      "outputs": []
    },
    {
      "cell_type": "markdown",
      "metadata": {
        "id": "Ax6g2C8SVp_M"
      },
      "source": [
        "ВАРИАНТ 2"
      ]
    },
    {
      "cell_type": "code",
      "metadata": {
        "id": "otO3SbrSVp_N"
      },
      "source": [
        ""
      ],
      "execution_count": 141,
      "outputs": []
    },
    {
      "cell_type": "markdown",
      "metadata": {
        "id": "T9_bPWpkVp_Q"
      },
      "source": [
        "# 12. Фильмы какого жанра чаще всего становятся прибыльными? "
      ]
    },
    {
      "cell_type": "code",
      "metadata": {
        "id": "Tmt8MaK1Vp_R"
      },
      "source": [
        ""
      ],
      "execution_count": 141,
      "outputs": []
    },
    {
      "cell_type": "markdown",
      "metadata": {
        "id": "0F23bgsDVp_U"
      },
      "source": [
        "# 13. У какого режиссера самые большие суммарные кассовые сборы?"
      ]
    },
    {
      "cell_type": "code",
      "metadata": {
        "id": "K6Z3J8ygVp_X"
      },
      "source": [
        ""
      ],
      "execution_count": 141,
      "outputs": []
    },
    {
      "cell_type": "markdown",
      "metadata": {
        "id": "PsYC9FgRVp_a"
      },
      "source": [
        "# 14. Какой режисер снял больше всего фильмов в стиле Action?"
      ]
    },
    {
      "cell_type": "code",
      "metadata": {
        "id": "wd2M-wHeVp_b"
      },
      "source": [
        ""
      ],
      "execution_count": 141,
      "outputs": []
    },
    {
      "cell_type": "markdown",
      "metadata": {
        "id": "PQ0KciD7Vp_f"
      },
      "source": [
        "# 15. Фильмы с каким актером принесли самые высокие кассовые сборы в 2012 году? "
      ]
    },
    {
      "cell_type": "code",
      "metadata": {
        "id": "aga62oeKVp_g"
      },
      "source": [
        ""
      ],
      "execution_count": 141,
      "outputs": []
    },
    {
      "cell_type": "markdown",
      "metadata": {
        "id": "mWHyyL7QVp_j"
      },
      "source": [
        "# 16. Какой актер снялся в большем количестве высокобюджетных фильмов?"
      ]
    },
    {
      "cell_type": "code",
      "metadata": {
        "id": "qQtmHKTFVp_k"
      },
      "source": [
        ""
      ],
      "execution_count": 141,
      "outputs": []
    },
    {
      "cell_type": "markdown",
      "metadata": {
        "id": "NIh6AaW5Vp_n"
      },
      "source": [
        "# 17. В фильмах какого жанра больше всего снимался Nicolas Cage? "
      ]
    },
    {
      "cell_type": "code",
      "metadata": {
        "id": "H74SJDIBVp_n"
      },
      "source": [
        ""
      ],
      "execution_count": 141,
      "outputs": []
    },
    {
      "cell_type": "markdown",
      "metadata": {
        "id": "RqOmPRfWVp_q"
      },
      "source": [
        "# 18. Самый убыточный фильм от Paramount Pictures"
      ]
    },
    {
      "cell_type": "code",
      "metadata": {
        "id": "9E_B0Y96Vp_r"
      },
      "source": [
        ""
      ],
      "execution_count": 141,
      "outputs": []
    },
    {
      "cell_type": "markdown",
      "metadata": {
        "id": "vS8Ur6ddVp_u"
      },
      "source": [
        "# 19. Какой год стал самым успешным по суммарным кассовым сборам?"
      ]
    },
    {
      "cell_type": "code",
      "metadata": {
        "id": "Dnbt4GdIVp_v"
      },
      "source": [
        ""
      ],
      "execution_count": 141,
      "outputs": []
    },
    {
      "cell_type": "markdown",
      "metadata": {
        "id": "JAzJh4QAVp_z"
      },
      "source": [
        "# 20. Какой самый прибыльный год для студии Warner Bros?"
      ]
    },
    {
      "cell_type": "code",
      "metadata": {
        "id": "wgVu02DEVp_0"
      },
      "source": [
        ""
      ],
      "execution_count": 141,
      "outputs": []
    },
    {
      "cell_type": "markdown",
      "metadata": {
        "id": "8Im1S2HRVp_4"
      },
      "source": [
        "# 21. В каком месяце за все годы суммарно вышло больше всего фильмов?"
      ]
    },
    {
      "cell_type": "code",
      "metadata": {
        "id": "lev6TH7gVp_4"
      },
      "source": [
        ""
      ],
      "execution_count": 141,
      "outputs": []
    },
    {
      "cell_type": "markdown",
      "metadata": {
        "id": "uAJsZ_NeVp_7"
      },
      "source": [
        "# 22. Сколько суммарно вышло фильмов летом? (за июнь, июль, август)"
      ]
    },
    {
      "cell_type": "code",
      "metadata": {
        "id": "Aa-hEREoVp_8"
      },
      "source": [
        ""
      ],
      "execution_count": 141,
      "outputs": []
    },
    {
      "cell_type": "markdown",
      "metadata": {
        "id": "G94ppOY1VqAA"
      },
      "source": [
        "# 23. Для какого режиссера зима – самое продуктивное время года? "
      ]
    },
    {
      "cell_type": "code",
      "metadata": {
        "id": "RhNTsamuVqAB"
      },
      "source": [
        ""
      ],
      "execution_count": 141,
      "outputs": []
    },
    {
      "cell_type": "markdown",
      "metadata": {
        "id": "RBo0JVjVVqAF"
      },
      "source": [
        "# 24. Какая студия дает самые длинные названия своим фильмам по количеству символов?"
      ]
    },
    {
      "cell_type": "code",
      "metadata": {
        "id": "QRGS8L0iVqAG"
      },
      "source": [
        ""
      ],
      "execution_count": 141,
      "outputs": []
    },
    {
      "cell_type": "markdown",
      "metadata": {
        "id": "9G0hbvR7VqAK"
      },
      "source": [
        "# 25. Описание фильмов какой студии в среднем самые длинные по количеству слов?"
      ]
    },
    {
      "cell_type": "code",
      "metadata": {
        "id": "Ge2GsLNxVqAK"
      },
      "source": [
        ""
      ],
      "execution_count": 141,
      "outputs": []
    },
    {
      "cell_type": "markdown",
      "metadata": {
        "id": "FJ1AFt90VqAP"
      },
      "source": [
        "# 26. Какие фильмы входят в 1 процент лучших по рейтингу? \n",
        "по vote_average"
      ]
    },
    {
      "cell_type": "code",
      "metadata": {
        "id": "8qmJVq4CVqAQ"
      },
      "source": [
        ""
      ],
      "execution_count": 141,
      "outputs": []
    },
    {
      "cell_type": "markdown",
      "metadata": {
        "id": "MdXsUXbCVqAV"
      },
      "source": [
        "# 27. Какие актеры чаще всего снимаются в одном фильме вместе?\n"
      ]
    },
    {
      "cell_type": "markdown",
      "metadata": {
        "id": "4ymnxEVoVqAW"
      },
      "source": [
        "ВАРИАНТ 2"
      ]
    },
    {
      "cell_type": "markdown",
      "metadata": {
        "id": "U0nONFnGVqAX"
      },
      "source": [
        "# Submission"
      ]
    },
    {
      "cell_type": "code",
      "metadata": {
        "id": "IfcaRO9-VqAX",
        "colab": {
          "base_uri": "https://localhost:8080/"
        },
        "outputId": "504101f4-3ae4-486d-d626-a9058865d789"
      },
      "source": [
        "# в конце можно посмотреть свои ответы к каждому вопросу\n",
        "answers"
      ],
      "execution_count": 142,
      "outputs": [
        {
          "output_type": "execute_result",
          "data": {
            "text/plain": [
              "{'1': 'Pirates of the Caribbean: On Stranger Tides (tt1298650)',\n",
              " '2': 'Gods and Generals (tt0279111)',\n",
              " '3': 'Winnie the Pooh (tt1449283)',\n",
              " '4': '110',\n",
              " '5': '107'}"
            ]
          },
          "metadata": {
            "tags": []
          },
          "execution_count": 142
        }
      ]
    },
    {
      "cell_type": "code",
      "metadata": {
        "id": "SiRmHPl8VqAd",
        "colab": {
          "base_uri": "https://localhost:8080/"
        },
        "outputId": "eb52e1ca-b1a4-4c13-b9e2-da3e12a96eab"
      },
      "source": [
        "# и убедиться что ни чего не пропустил)\n",
        "len(answers)"
      ],
      "execution_count": 143,
      "outputs": [
        {
          "output_type": "execute_result",
          "data": {
            "text/plain": [
              "5"
            ]
          },
          "metadata": {
            "tags": []
          },
          "execution_count": 143
        }
      ]
    },
    {
      "cell_type": "code",
      "metadata": {
        "id": "uCfuTkRbVqAg"
      },
      "source": [
        ""
      ],
      "execution_count": 143,
      "outputs": []
    },
    {
      "cell_type": "code",
      "metadata": {
        "id": "Vwx3NrkSVqAl"
      },
      "source": [
        ""
      ],
      "execution_count": 143,
      "outputs": []
    }
  ]
}