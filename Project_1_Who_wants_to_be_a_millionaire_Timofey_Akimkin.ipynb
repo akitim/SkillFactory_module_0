{
  "nbformat": 4,
  "nbformat_minor": 0,
  "metadata": {
    "colab": {
      "name": "Project 1 Timofey Akimkin.ipynb",
      "provenance": [],
      "include_colab_link": true
    },
    "kernelspec": {
      "display_name": "Python 3",
      "language": "python",
      "name": "python3"
    },
    "language_info": {
      "codemirror_mode": {
        "name": "ipython",
        "version": 3
      },
      "file_extension": ".py",
      "mimetype": "text/x-python",
      "name": "python",
      "nbconvert_exporter": "python",
      "pygments_lexer": "ipython3",
      "version": "3.7.4"
    }
  },
  "cells": [
    {
      "cell_type": "markdown",
      "metadata": {
        "id": "view-in-github",
        "colab_type": "text"
      },
      "source": [
        "<a href=\"https://colab.research.google.com/github/akitim/SkillFactory_projects/blob/main/Project_1_Who_wants_to_be_a_millionaire_Timofey_Akimkin.ipynb\" target=\"_parent\"><img src=\"https://colab.research.google.com/assets/colab-badge.svg\" alt=\"Open In Colab\"/></a>"
      ]
    },
    {
      "cell_type": "code",
      "metadata": {
        "_cell_guid": "b1076dfc-b9ad-4769-8c92-a6c4dae69d19",
        "_uuid": "8f2839f25d086af736a60e9eeb907d3b93b6e0e5",
        "id": "U2D2gTdJVp90",
        "colab": {
          "base_uri": "https://localhost:8080/"
        },
        "outputId": "b37d876b-fd4d-4051-d509-ccbf76ce7f72"
      },
      "source": [
        "import numpy as np\n",
        "import pandas as pd\n",
        "import datetime as dt\n",
        "# import seaborn as sns\n",
        "# import matplotlib.pyplot as plt\n",
        "# from collections import Counter\n",
        "\n",
        "import sys\n",
        "from google.colab import drive\n",
        "drive.mount('/content/gdrive', force_remount=True)\n",
        "sys.path.clear\n",
        "sys.path.append('/content/gdrive/MyDrive/SkillFactory')"
      ],
      "execution_count": 4,
      "outputs": [
        {
          "output_type": "stream",
          "text": [
            "Mounted at /content/gdrive\n"
          ],
          "name": "stdout"
        }
      ]
    },
    {
      "cell_type": "code",
      "metadata": {
        "_cell_guid": "79c7e3d0-c299-4dcb-8224-4455121ee9b0",
        "_uuid": "d629ff2d2480ee46fbb7e2d37f6b5fab8052498a",
        "id": "oyGfxL3eVp9-",
        "colab": {
          "base_uri": "https://localhost:8080/",
          "height": 185
        },
        "outputId": "1197afc7-d8b4-46c4-f2b1-59d0305dcd7a"
      },
      "source": [
        "data = pd.read_csv('/content/gdrive/MyDrive/SkillFactory/movie_bd_v5.csv')\n",
        "data.head(1)"
      ],
      "execution_count": 5,
      "outputs": [
        {
          "output_type": "execute_result",
          "data": {
            "text/html": [
              "<div>\n",
              "<style scoped>\n",
              "    .dataframe tbody tr th:only-of-type {\n",
              "        vertical-align: middle;\n",
              "    }\n",
              "\n",
              "    .dataframe tbody tr th {\n",
              "        vertical-align: top;\n",
              "    }\n",
              "\n",
              "    .dataframe thead th {\n",
              "        text-align: right;\n",
              "    }\n",
              "</style>\n",
              "<table border=\"1\" class=\"dataframe\">\n",
              "  <thead>\n",
              "    <tr style=\"text-align: right;\">\n",
              "      <th></th>\n",
              "      <th>imdb_id</th>\n",
              "      <th>budget</th>\n",
              "      <th>revenue</th>\n",
              "      <th>original_title</th>\n",
              "      <th>cast</th>\n",
              "      <th>director</th>\n",
              "      <th>tagline</th>\n",
              "      <th>overview</th>\n",
              "      <th>runtime</th>\n",
              "      <th>genres</th>\n",
              "      <th>production_companies</th>\n",
              "      <th>release_date</th>\n",
              "      <th>vote_average</th>\n",
              "      <th>release_year</th>\n",
              "    </tr>\n",
              "  </thead>\n",
              "  <tbody>\n",
              "    <tr>\n",
              "      <th>0</th>\n",
              "      <td>tt0369610</td>\n",
              "      <td>150000000</td>\n",
              "      <td>1513528810</td>\n",
              "      <td>Jurassic World</td>\n",
              "      <td>Chris Pratt|Bryce Dallas Howard|Irrfan Khan|Vi...</td>\n",
              "      <td>Colin Trevorrow</td>\n",
              "      <td>The park is open.</td>\n",
              "      <td>Twenty-two years after the events of Jurassic ...</td>\n",
              "      <td>124</td>\n",
              "      <td>Action|Adventure|Science Fiction|Thriller</td>\n",
              "      <td>Universal Studios|Amblin Entertainment|Legenda...</td>\n",
              "      <td>6/9/2015</td>\n",
              "      <td>6.5</td>\n",
              "      <td>2015</td>\n",
              "    </tr>\n",
              "  </tbody>\n",
              "</table>\n",
              "</div>"
            ],
            "text/plain": [
              "     imdb_id     budget     revenue  ... release_date vote_average release_year\n",
              "0  tt0369610  150000000  1513528810  ...     6/9/2015          6.5         2015\n",
              "\n",
              "[1 rows x 14 columns]"
            ]
          },
          "metadata": {
            "tags": []
          },
          "execution_count": 5
        }
      ]
    },
    {
      "cell_type": "code",
      "metadata": {
        "id": "CoYUnagMVp-C"
      },
      "source": [
        "# data.describe()"
      ],
      "execution_count": 6,
      "outputs": []
    },
    {
      "cell_type": "markdown",
      "metadata": {
        "id": "DTIt7ezGVp-G"
      },
      "source": [
        "# Предобработка"
      ]
    },
    {
      "cell_type": "code",
      "metadata": {
        "id": "jNb40DwKVp-H",
        "colab": {
          "base_uri": "https://localhost:8080/",
          "height": 451
        },
        "outputId": "b9d80d40-3ae8-46c5-ac01-af1a1a2512b8"
      },
      "source": [
        "answers = {} # создадим словарь для ответов\n",
        "\n",
        "\n",
        "# тут другие ваши предобработки колонок например:\n",
        "\n",
        "date_sample = data.release_date[0] #\n",
        "if type(date_sample) == str:\n",
        "    data.release_date = data.release_date.apply(lambda x: dt.datetime.strptime(x,'%m/%d/%Y'))\n",
        "\n",
        "# display (data[data.release_date == data.release_date[0]])\n",
        "# print(data.release_date[0].month)\n",
        "# data.release_date = data.release_date.apply(dt.datetime.strptime,args = ('%m/%d/%Y',))\n",
        "\n",
        "data['profit'] = data.revenue - data.budget\n",
        "\n",
        "data.sample(3)\n",
        "\n",
        "#the time given in the dataset is in string format.\n",
        "#So we need to change this in datetime format\n",
        "# ... \"That my dear Balin, is not entirely true\" "
      ],
      "execution_count": 75,
      "outputs": [
        {
          "output_type": "execute_result",
          "data": {
            "text/html": [
              "<div>\n",
              "<style scoped>\n",
              "    .dataframe tbody tr th:only-of-type {\n",
              "        vertical-align: middle;\n",
              "    }\n",
              "\n",
              "    .dataframe tbody tr th {\n",
              "        vertical-align: top;\n",
              "    }\n",
              "\n",
              "    .dataframe thead th {\n",
              "        text-align: right;\n",
              "    }\n",
              "</style>\n",
              "<table border=\"1\" class=\"dataframe\">\n",
              "  <thead>\n",
              "    <tr style=\"text-align: right;\">\n",
              "      <th></th>\n",
              "      <th>imdb_id</th>\n",
              "      <th>budget</th>\n",
              "      <th>revenue</th>\n",
              "      <th>original_title</th>\n",
              "      <th>cast</th>\n",
              "      <th>director</th>\n",
              "      <th>tagline</th>\n",
              "      <th>overview</th>\n",
              "      <th>runtime</th>\n",
              "      <th>genres</th>\n",
              "      <th>production_companies</th>\n",
              "      <th>release_date</th>\n",
              "      <th>vote_average</th>\n",
              "      <th>release_year</th>\n",
              "      <th>profit</th>\n",
              "    </tr>\n",
              "  </thead>\n",
              "  <tbody>\n",
              "    <tr>\n",
              "      <th>529</th>\n",
              "      <td>tt0259711</td>\n",
              "      <td>68000000</td>\n",
              "      <td>203388341</td>\n",
              "      <td>Vanilla Sky</td>\n",
              "      <td>Tom Cruise|PenÃ©lope Cruz|Cameron Diaz|Kurt Ru...</td>\n",
              "      <td>Cameron Crowe</td>\n",
              "      <td>Forget everything you know, and open your eyes.</td>\n",
              "      <td>David Aames (Tom Cruise) has it all: wealth, g...</td>\n",
              "      <td>136</td>\n",
              "      <td>Drama|Mystery|Romance|Science Fiction|Thriller</td>\n",
              "      <td>Paramount Pictures|Cruise-Wagner Productions|V...</td>\n",
              "      <td>2001-12-10</td>\n",
              "      <td>6.3</td>\n",
              "      <td>2001</td>\n",
              "      <td>135388341</td>\n",
              "    </tr>\n",
              "    <tr>\n",
              "      <th>743</th>\n",
              "      <td>tt1411697</td>\n",
              "      <td>80000000</td>\n",
              "      <td>254455986</td>\n",
              "      <td>The Hangover Part II</td>\n",
              "      <td>Bradley Cooper|Ed Helms|Zach Galifianakis|Just...</td>\n",
              "      <td>Todd Phillips</td>\n",
              "      <td>The Wolfpack Is Back</td>\n",
              "      <td>The Hangover crew heads to Thailand for Stu's ...</td>\n",
              "      <td>102</td>\n",
              "      <td>Comedy</td>\n",
              "      <td>Legendary Pictures|Living Films|Green Hat Film...</td>\n",
              "      <td>2011-05-25</td>\n",
              "      <td>6.1</td>\n",
              "      <td>2011</td>\n",
              "      <td>174455986</td>\n",
              "    </tr>\n",
              "    <tr>\n",
              "      <th>1831</th>\n",
              "      <td>tt0168629</td>\n",
              "      <td>12800000</td>\n",
              "      <td>40031879</td>\n",
              "      <td>Dancer in the Dark</td>\n",
              "      <td>BjÃ¶rk|Catherine Deneuve|David Morse|Peter Sto...</td>\n",
              "      <td>Lars von Trier</td>\n",
              "      <td>You don't need eyes to see.</td>\n",
              "      <td>Selma, a Czech immigrant on the verge of blind...</td>\n",
              "      <td>140</td>\n",
              "      <td>Drama|Crime|Music</td>\n",
              "      <td>Fine Line Features|Zentropa Entertainments|Dan...</td>\n",
              "      <td>2000-05-17</td>\n",
              "      <td>7.4</td>\n",
              "      <td>2000</td>\n",
              "      <td>27231879</td>\n",
              "    </tr>\n",
              "  </tbody>\n",
              "</table>\n",
              "</div>"
            ],
            "text/plain": [
              "        imdb_id    budget    revenue  ... vote_average release_year     profit\n",
              "529   tt0259711  68000000  203388341  ...          6.3         2001  135388341\n",
              "743   tt1411697  80000000  254455986  ...          6.1         2011  174455986\n",
              "1831  tt0168629  12800000   40031879  ...          7.4         2000   27231879\n",
              "\n",
              "[3 rows x 15 columns]"
            ]
          },
          "metadata": {
            "tags": []
          },
          "execution_count": 75
        }
      ]
    },
    {
      "cell_type": "markdown",
      "metadata": {
        "id": "YxZaH-nPVp-L"
      },
      "source": [
        "# 1. У какого фильма из списка самый большой бюджет?"
      ]
    },
    {
      "cell_type": "markdown",
      "metadata": {
        "id": "Nd-G5gX6Vp-M"
      },
      "source": [
        "Использовать варианты ответов в коде решения запрещено.    \n",
        "Вы думаете и в жизни у вас будут варианты ответов?)"
      ]
    },
    {
      "cell_type": "code",
      "metadata": {
        "id": "uVnXAY5RVp-O"
      },
      "source": [
        "# в словарь вставляем номер вопроса и ваш ответ на него\n",
        "# Пример: \n",
        "#answers['1'] = '2. Spider-Man 3 (tt0413300)'\n",
        "\n",
        "# запишите свой вариант ответа\n",
        "answers['1'] = 'Pirates of the Caribbean: On Stranger Tides (tt1298650)'\n",
        "# если ответили верно, можете добавить комментарий со значком \"+\""
      ],
      "execution_count": 8,
      "outputs": []
    },
    {
      "cell_type": "code",
      "metadata": {
        "id": "dZwb3m28Vp-S",
        "colab": {
          "base_uri": "https://localhost:8080/"
        },
        "outputId": "f5e7ca46-4777-4264-af4a-133f5f8d3a3b"
      },
      "source": [
        "# тут пишем ваш код для решения данного вопроса:\n",
        "title = data[data.budget == data.budget.max()].original_title.iloc[0]\n",
        "id = data[data.budget == data.budget.max()].imdb_id.iloc[0]\n",
        "print(title + ' (' + id + ')')"
      ],
      "execution_count": 9,
      "outputs": [
        {
          "output_type": "stream",
          "text": [
            "Pirates of the Caribbean: On Stranger Tides (tt1298650)\n"
          ],
          "name": "stdout"
        }
      ]
    },
    {
      "cell_type": "code",
      "metadata": {
        "id": "kj49uH8BnhJt"
      },
      "source": [
        ""
      ],
      "execution_count": 9,
      "outputs": []
    },
    {
      "cell_type": "markdown",
      "metadata": {
        "id": "K7L3nbRXVp-X"
      },
      "source": [
        "ВАРИАНТ 2"
      ]
    },
    {
      "cell_type": "code",
      "metadata": {
        "id": "OGaoQI7rVp-X",
        "colab": {
          "base_uri": "https://localhost:8080/"
        },
        "outputId": "8def3208-6a52-4050-e2b8-41a1bb30161f"
      },
      "source": [
        "# можно добавлять разные варианты решения\n",
        "title = data.query('budget == budget.max()').original_title.iloc[0]\n",
        "id = data.query('budget == budget.max()').imdb_id.iloc[0]\n",
        "print(title + ' (' + id + ')')"
      ],
      "execution_count": 10,
      "outputs": [
        {
          "output_type": "stream",
          "text": [
            "Pirates of the Caribbean: On Stranger Tides (tt1298650)\n"
          ],
          "name": "stdout"
        }
      ]
    },
    {
      "cell_type": "markdown",
      "metadata": {
        "id": "FNRbbI3vVp-c"
      },
      "source": [
        "# 2. Какой из фильмов самый длительный (в минутах)?"
      ]
    },
    {
      "cell_type": "code",
      "metadata": {
        "id": "vHAoEXNTVp-d"
      },
      "source": [
        "# думаю логику работы с этим словарем вы уже поняли, \n",
        "# по этому не буду больше его дублировать\n",
        "answers['2'] = 'Gods and Generals (tt0279111)'"
      ],
      "execution_count": 11,
      "outputs": []
    },
    {
      "cell_type": "code",
      "metadata": {
        "id": "ot-VX2XrVp-g",
        "colab": {
          "base_uri": "https://localhost:8080/"
        },
        "outputId": "1cae2f41-eb51-442c-c932-6f65c9e77735"
      },
      "source": [
        "data_filtered = data[data.runtime == data.runtime.max()]\n",
        "\n",
        "title = data_filtered.original_title.iloc[0]\n",
        "id = data_filtered.imdb_id.iloc[0]\n",
        "\n",
        "print(title + ' (' + id + ')')\n",
        "\n",
        "#data.query(\"original_title == 'Gods and Generals'\").runtime.values[0]\n",
        "#display(data[data.cast.str.contains('Anthony Hopkins')])\n"
      ],
      "execution_count": 12,
      "outputs": [
        {
          "output_type": "stream",
          "text": [
            "Gods and Generals (tt0279111)\n"
          ],
          "name": "stdout"
        }
      ]
    },
    {
      "cell_type": "markdown",
      "metadata": {
        "id": "gqr5viAhRQH3"
      },
      "source": [
        "ВАРИАНТ 2"
      ]
    },
    {
      "cell_type": "code",
      "metadata": {
        "colab": {
          "base_uri": "https://localhost:8080/"
        },
        "id": "0fDqcTEHOj3k",
        "outputId": "76ebc8f2-152a-4938-be2e-25f2d42bbe5d"
      },
      "source": [
        "data_filtered = data.query('runtime == runtime.max()')\n",
        "\n",
        "title = data_filtered.original_title.iloc[0] \n",
        "id = data_filtered.imdb_id.iloc[0]\n",
        "\n",
        "print(title + ' (' + id + ')')"
      ],
      "execution_count": 13,
      "outputs": [
        {
          "output_type": "stream",
          "text": [
            "Gods and Generals (tt0279111)\n"
          ],
          "name": "stdout"
        }
      ]
    },
    {
      "cell_type": "markdown",
      "metadata": {
        "id": "bapLlpW8Vp-k"
      },
      "source": [
        "# 3. Какой из фильмов самый короткий (в минутах)?\n",
        "\n",
        "\n",
        "\n"
      ]
    },
    {
      "cell_type": "code",
      "metadata": {
        "id": "YJuabOmVRig_"
      },
      "source": [
        "answers['3'] = 'Winnie the Pooh (tt1449283)'"
      ],
      "execution_count": 14,
      "outputs": []
    },
    {
      "cell_type": "code",
      "metadata": {
        "id": "YBxaSHuAVp-l",
        "colab": {
          "base_uri": "https://localhost:8080/"
        },
        "outputId": "9e135c48-53e7-4eca-afdc-3bf5bc1026f1"
      },
      "source": [
        "data_filtered = data[data.runtime == data.runtime.min()]\n",
        "\n",
        "title = data_filtered.original_title.iloc[0]\n",
        "id = data_filtered.imdb_id.iloc[0]\n",
        "\n",
        "print(title + ' (' + id + ')')\n"
      ],
      "execution_count": 15,
      "outputs": [
        {
          "output_type": "stream",
          "text": [
            "Winnie the Pooh (tt1449283)\n"
          ],
          "name": "stdout"
        }
      ]
    },
    {
      "cell_type": "markdown",
      "metadata": {
        "id": "dO1V3L48RSNJ"
      },
      "source": [
        "ВАРИАНТ 2"
      ]
    },
    {
      "cell_type": "code",
      "metadata": {
        "colab": {
          "base_uri": "https://localhost:8080/"
        },
        "id": "Fk_VUwDBRZ03",
        "outputId": "9999b6f7-9011-4157-f2bb-39d9ed98b30c"
      },
      "source": [
        "data_filtered = data.query('runtime == runtime.min()')\n",
        "\n",
        "title = data_filtered.original_title.iloc[0] \n",
        "id = data_filtered.imdb_id.iloc[0]\n",
        "\n",
        "print(title + ' (' + id + ')')"
      ],
      "execution_count": 16,
      "outputs": [
        {
          "output_type": "stream",
          "text": [
            "Winnie the Pooh (tt1449283)\n"
          ],
          "name": "stdout"
        }
      ]
    },
    {
      "cell_type": "markdown",
      "metadata": {
        "id": "TfQbxbfNVp-p"
      },
      "source": [
        "# 4. Какова средняя длительность фильмов?\n"
      ]
    },
    {
      "cell_type": "code",
      "metadata": {
        "colab": {
          "base_uri": "https://localhost:8080/"
        },
        "id": "9zKYSwpER5KS",
        "outputId": "2155b52a-f08d-4f38-ecdb-409edbce0b35"
      },
      "source": [
        "print (round(data.runtime.mean()))\n",
        "\n",
        "answers['4'] = '110'"
      ],
      "execution_count": 17,
      "outputs": [
        {
          "output_type": "stream",
          "text": [
            "110\n"
          ],
          "name": "stdout"
        }
      ]
    },
    {
      "cell_type": "markdown",
      "metadata": {
        "id": "r5TvbnT_Vp-u"
      },
      "source": [
        "# 5. Каково медианное значение длительности фильмов? "
      ]
    },
    {
      "cell_type": "code",
      "metadata": {
        "id": "iBROplKnVp-v",
        "colab": {
          "base_uri": "https://localhost:8080/"
        },
        "outputId": "7b9c0068-4eb4-4703-fb05-a899159ab412"
      },
      "source": [
        "print (round(data.runtime.median()))\n",
        "\n",
        "answers['5'] = '107'"
      ],
      "execution_count": 18,
      "outputs": [
        {
          "output_type": "stream",
          "text": [
            "107\n"
          ],
          "name": "stdout"
        }
      ]
    },
    {
      "cell_type": "markdown",
      "metadata": {
        "id": "39P-deDSVp-y"
      },
      "source": [
        "# 6. Какой самый прибыльный фильм?\n",
        "#### Внимание! Здесь и далее под «прибылью» или «убытками» понимается разность между сборами и бюджетом фильма. (прибыль = сборы - бюджет) в нашем датасете это будет (profit = revenue - budget) "
      ]
    },
    {
      "cell_type": "code",
      "metadata": {
        "id": "UYZh4T9WVp-y",
        "colab": {
          "base_uri": "https://localhost:8080/"
        },
        "outputId": "d0c86ace-ae20-4cb9-9f38-ff4ccb3c15b4"
      },
      "source": [
        "# лучше код получения столбца profit вынести в Предобработку что в начале\n",
        "data_filtered = data.query(\"profit == profit.max()\")\n",
        "title = data_filtered.original_title.iloc[0]\n",
        "id = data_filtered.imdb_id.iloc[0]\n",
        "\n",
        "print(title + ' (' + id + ')')\n",
        "\n",
        "answers['6'] = 'Avatar (tt0499549)'"
      ],
      "execution_count": 19,
      "outputs": [
        {
          "output_type": "stream",
          "text": [
            "Avatar (tt0499549)\n"
          ],
          "name": "stdout"
        }
      ]
    },
    {
      "cell_type": "markdown",
      "metadata": {
        "id": "M99JmIX4Vp-2"
      },
      "source": [
        "# 7. Какой фильм самый убыточный? "
      ]
    },
    {
      "cell_type": "code",
      "metadata": {
        "id": "w-D2m4XPVp-3",
        "colab": {
          "base_uri": "https://localhost:8080/"
        },
        "outputId": "37ae4271-9904-4c64-b02b-e86a3e351ea5"
      },
      "source": [
        "data_filtered = data.query(\"profit == profit.min()\")\n",
        "title = data_filtered.original_title.iloc[0]\n",
        "id = data_filtered.imdb_id.iloc[0]\n",
        "\n",
        "print(title + ' (' + id + ')')\n",
        "\n",
        "answers['7'] = 'The Lone Ranger (tt1210819)'"
      ],
      "execution_count": 20,
      "outputs": [
        {
          "output_type": "stream",
          "text": [
            "The Lone Ranger (tt1210819)\n"
          ],
          "name": "stdout"
        }
      ]
    },
    {
      "cell_type": "markdown",
      "metadata": {
        "id": "wEOM5ERVVp-6"
      },
      "source": [
        "# 8. У скольких фильмов из датасета объем сборов оказался выше бюджета?"
      ]
    },
    {
      "cell_type": "code",
      "metadata": {
        "id": "y00_7HD6Vp-7",
        "colab": {
          "base_uri": "https://localhost:8080/"
        },
        "outputId": "af3bd377-740b-4de1-a175-5e5215d16bb0"
      },
      "source": [
        "data_filtered = data.query(\"profit > 0\")\n",
        "print(len(data_filtered))\n",
        "\n",
        "answers['8'] = 1478\n",
        "\n"
      ],
      "execution_count": 21,
      "outputs": [
        {
          "output_type": "stream",
          "text": [
            "1478\n"
          ],
          "name": "stdout"
        }
      ]
    },
    {
      "cell_type": "markdown",
      "metadata": {
        "id": "xhpspA9KVp_A"
      },
      "source": [
        "# 9. Какой фильм оказался самым кассовым в 2008 году?"
      ]
    },
    {
      "cell_type": "code",
      "metadata": {
        "id": "MoUyQr9RVp_B",
        "colab": {
          "base_uri": "https://localhost:8080/"
        },
        "outputId": "ae958a7b-0d75-4304-f06d-5b056418e669"
      },
      "source": [
        "data_2008 = data.query(\"release_year == 2008\").query(\"revenue == revenue.max()\")\n",
        "print(data_2008.original_title.iloc[0])\n",
        "\n",
        "answers['9'] = 'The Dark Knight'"
      ],
      "execution_count": 22,
      "outputs": [
        {
          "output_type": "stream",
          "text": [
            "The Dark Knight\n"
          ],
          "name": "stdout"
        }
      ]
    },
    {
      "cell_type": "markdown",
      "metadata": {
        "id": "Zi4hDKidVp_F"
      },
      "source": [
        "# 10. Самый убыточный фильм за период с 2012 по 2014 г. (включительно)?\n"
      ]
    },
    {
      "cell_type": "code",
      "metadata": {
        "id": "XqyRmufJVp_F",
        "colab": {
          "base_uri": "https://localhost:8080/"
        },
        "outputId": "681181c6-25e0-4123-cb28-bd91d4f5add6"
      },
      "source": [
        "data_filtered = data.query(\"(release_year >= 2012) & (release_year <= 2014)\").query(\"revenue == revenue.min()\")\n",
        "print(data_filtered.original_title.iloc[0])\n",
        "\n",
        "answers['10'] = 'Man of Tai Chi'\n"
      ],
      "execution_count": 23,
      "outputs": [
        {
          "output_type": "stream",
          "text": [
            "Man of Tai Chi\n"
          ],
          "name": "stdout"
        }
      ]
    },
    {
      "cell_type": "markdown",
      "metadata": {
        "id": "EA7Sa9dkVp_I"
      },
      "source": [
        "# 11. Какого жанра фильмов больше всего?"
      ]
    },
    {
      "cell_type": "code",
      "metadata": {
        "id": "zsJAwJ8QVp_J",
        "colab": {
          "base_uri": "https://localhost:8080/"
        },
        "outputId": "ef32517f-bbec-4488-f092-1d7b1a755f2f"
      },
      "source": [
        "gp = data.groupby(by = 'genres').count()['imdb_id']\n",
        "print(gp[gp == gp.max()].index[0])\n",
        "\n",
        "answers['11'] = 'Drama'\n"
      ],
      "execution_count": 72,
      "outputs": [
        {
          "output_type": "stream",
          "text": [
            "Drama\n"
          ],
          "name": "stdout"
        }
      ]
    },
    {
      "cell_type": "markdown",
      "metadata": {
        "id": "Ax6g2C8SVp_M"
      },
      "source": [
        "ВАРИАНТ 2"
      ]
    },
    {
      "cell_type": "code",
      "metadata": {
        "id": "otO3SbrSVp_N",
        "outputId": "1458d76c-8ec8-48df-f3a0-404b40b8560f",
        "colab": {
          "base_uri": "https://localhost:8080/"
        }
      },
      "source": [
        "data = pd.read_csv('/content/gdrive/MyDrive/SkillFactory/movie_bd_v5.csv')\n",
        "\n",
        "data.genres = data.genres.str.split('|', expand=False) #apply(str) #.split(\"|\")\n",
        "data = data.explode('genres')\n",
        "\n",
        "genres_pvt = data.pivot_table (values = ['original_title'],\n",
        "index = ['genres'],\n",
        "columns = ['release_year'],\n",
        "aggfunc = 'count',\n",
        "fill_value = 0,\n",
        "margins = True)\n",
        "\n",
        "print(genres_pvt[('original_title', 'All')].sort_values(ascending = False).index[1])"
      ],
      "execution_count": 73,
      "outputs": [
        {
          "output_type": "stream",
          "text": [
            "Drama\n"
          ],
          "name": "stdout"
        }
      ]
    },
    {
      "cell_type": "markdown",
      "metadata": {
        "id": "T9_bPWpkVp_Q"
      },
      "source": [
        "# 12. Фильмы какого жанра чаще всего становятся прибыльными? "
      ]
    },
    {
      "cell_type": "code",
      "metadata": {
        "id": "Tmt8MaK1Vp_R",
        "outputId": "82cbb96e-d8ec-40ff-dfe8-00fd0c970c22",
        "colab": {
          "base_uri": "https://localhost:8080/",
          "height": 374
        }
      },
      "source": [
        "data = pd.read_csv('/content/gdrive/MyDrive/SkillFactory/movie_bd_v5.csv')\n",
        "\n",
        "genres_pvt = data.pivot_table (values = ['profit'],\n",
        "index = ['genres'],\n",
        "columns = ['release_year'],\n",
        "aggfunc = 'sum',\n",
        "fill_value = 0,\n",
        "margins = True)\n",
        "genres_pvt"
      ],
      "execution_count": 74,
      "outputs": [
        {
          "output_type": "error",
          "ename": "KeyError",
          "evalue": "ignored",
          "traceback": [
            "\u001b[0;31m---------------------------------------------------------------------------\u001b[0m",
            "\u001b[0;31mKeyError\u001b[0m                                  Traceback (most recent call last)",
            "\u001b[0;32m<ipython-input-74-c5bbe43fcd52>\u001b[0m in \u001b[0;36m<module>\u001b[0;34m()\u001b[0m\n\u001b[1;32m      6\u001b[0m \u001b[0maggfunc\u001b[0m \u001b[0;34m=\u001b[0m \u001b[0;34m'sum'\u001b[0m\u001b[0;34m,\u001b[0m\u001b[0;34m\u001b[0m\u001b[0;34m\u001b[0m\u001b[0m\n\u001b[1;32m      7\u001b[0m \u001b[0mfill_value\u001b[0m \u001b[0;34m=\u001b[0m \u001b[0;36m0\u001b[0m\u001b[0;34m,\u001b[0m\u001b[0;34m\u001b[0m\u001b[0;34m\u001b[0m\u001b[0m\n\u001b[0;32m----> 8\u001b[0;31m margins = True)\n\u001b[0m\u001b[1;32m      9\u001b[0m \u001b[0mgenres_pvt\u001b[0m\u001b[0;34m\u001b[0m\u001b[0;34m\u001b[0m\u001b[0m\n",
            "\u001b[0;32m/usr/local/lib/python3.7/dist-packages/pandas/core/frame.py\u001b[0m in \u001b[0;36mpivot_table\u001b[0;34m(self, values, index, columns, aggfunc, fill_value, margins, dropna, margins_name, observed)\u001b[0m\n\u001b[1;32m   6834\u001b[0m             \u001b[0mdropna\u001b[0m\u001b[0;34m=\u001b[0m\u001b[0mdropna\u001b[0m\u001b[0;34m,\u001b[0m\u001b[0;34m\u001b[0m\u001b[0;34m\u001b[0m\u001b[0m\n\u001b[1;32m   6835\u001b[0m             \u001b[0mmargins_name\u001b[0m\u001b[0;34m=\u001b[0m\u001b[0mmargins_name\u001b[0m\u001b[0;34m,\u001b[0m\u001b[0;34m\u001b[0m\u001b[0;34m\u001b[0m\u001b[0m\n\u001b[0;32m-> 6836\u001b[0;31m             \u001b[0mobserved\u001b[0m\u001b[0;34m=\u001b[0m\u001b[0mobserved\u001b[0m\u001b[0;34m,\u001b[0m\u001b[0;34m\u001b[0m\u001b[0;34m\u001b[0m\u001b[0m\n\u001b[0m\u001b[1;32m   6837\u001b[0m         )\n\u001b[1;32m   6838\u001b[0m \u001b[0;34m\u001b[0m\u001b[0m\n",
            "\u001b[0;32m/usr/local/lib/python3.7/dist-packages/pandas/core/reshape/pivot.py\u001b[0m in \u001b[0;36mpivot_table\u001b[0;34m(data, values, index, columns, aggfunc, fill_value, margins, dropna, margins_name, observed)\u001b[0m\n\u001b[1;32m     86\u001b[0m         \u001b[0;32mfor\u001b[0m \u001b[0mi\u001b[0m \u001b[0;32min\u001b[0m \u001b[0mvalues\u001b[0m\u001b[0;34m:\u001b[0m\u001b[0;34m\u001b[0m\u001b[0;34m\u001b[0m\u001b[0m\n\u001b[1;32m     87\u001b[0m             \u001b[0;32mif\u001b[0m \u001b[0mi\u001b[0m \u001b[0;32mnot\u001b[0m \u001b[0;32min\u001b[0m \u001b[0mdata\u001b[0m\u001b[0;34m:\u001b[0m\u001b[0;34m\u001b[0m\u001b[0;34m\u001b[0m\u001b[0m\n\u001b[0;32m---> 88\u001b[0;31m                 \u001b[0;32mraise\u001b[0m \u001b[0mKeyError\u001b[0m\u001b[0;34m(\u001b[0m\u001b[0mi\u001b[0m\u001b[0;34m)\u001b[0m\u001b[0;34m\u001b[0m\u001b[0;34m\u001b[0m\u001b[0m\n\u001b[0m\u001b[1;32m     89\u001b[0m \u001b[0;34m\u001b[0m\u001b[0m\n\u001b[1;32m     90\u001b[0m         \u001b[0mto_filter\u001b[0m \u001b[0;34m=\u001b[0m \u001b[0;34m[\u001b[0m\u001b[0;34m]\u001b[0m\u001b[0;34m\u001b[0m\u001b[0;34m\u001b[0m\u001b[0m\n",
            "\u001b[0;31mKeyError\u001b[0m: 'profit'"
          ]
        }
      ]
    },
    {
      "cell_type": "markdown",
      "metadata": {
        "id": "0F23bgsDVp_U"
      },
      "source": [
        "# 13. У какого режиссера самые большие суммарные кассовые сборы?"
      ]
    },
    {
      "cell_type": "code",
      "metadata": {
        "id": "K6Z3J8ygVp_X"
      },
      "source": [
        ""
      ],
      "execution_count": 24,
      "outputs": []
    },
    {
      "cell_type": "markdown",
      "metadata": {
        "id": "PsYC9FgRVp_a"
      },
      "source": [
        "# 14. Какой режисер снял больше всего фильмов в стиле Action?"
      ]
    },
    {
      "cell_type": "code",
      "metadata": {
        "id": "wd2M-wHeVp_b"
      },
      "source": [
        ""
      ],
      "execution_count": 24,
      "outputs": []
    },
    {
      "cell_type": "markdown",
      "metadata": {
        "id": "PQ0KciD7Vp_f"
      },
      "source": [
        "# 15. Фильмы с каким актером принесли самые высокие кассовые сборы в 2012 году? "
      ]
    },
    {
      "cell_type": "code",
      "metadata": {
        "id": "aga62oeKVp_g"
      },
      "source": [
        ""
      ],
      "execution_count": 24,
      "outputs": []
    },
    {
      "cell_type": "markdown",
      "metadata": {
        "id": "mWHyyL7QVp_j"
      },
      "source": [
        "# 16. Какой актер снялся в большем количестве высокобюджетных фильмов?"
      ]
    },
    {
      "cell_type": "code",
      "metadata": {
        "id": "qQtmHKTFVp_k"
      },
      "source": [
        ""
      ],
      "execution_count": 24,
      "outputs": []
    },
    {
      "cell_type": "markdown",
      "metadata": {
        "id": "NIh6AaW5Vp_n"
      },
      "source": [
        "# 17. В фильмах какого жанра больше всего снимался Nicolas Cage? "
      ]
    },
    {
      "cell_type": "code",
      "metadata": {
        "id": "H74SJDIBVp_n"
      },
      "source": [
        ""
      ],
      "execution_count": 24,
      "outputs": []
    },
    {
      "cell_type": "markdown",
      "metadata": {
        "id": "RqOmPRfWVp_q"
      },
      "source": [
        "# 18. Самый убыточный фильм от Paramount Pictures"
      ]
    },
    {
      "cell_type": "code",
      "metadata": {
        "id": "9E_B0Y96Vp_r"
      },
      "source": [
        ""
      ],
      "execution_count": 24,
      "outputs": []
    },
    {
      "cell_type": "markdown",
      "metadata": {
        "id": "vS8Ur6ddVp_u"
      },
      "source": [
        "# 19. Какой год стал самым успешным по суммарным кассовым сборам?"
      ]
    },
    {
      "cell_type": "code",
      "metadata": {
        "id": "Dnbt4GdIVp_v"
      },
      "source": [
        ""
      ],
      "execution_count": 24,
      "outputs": []
    },
    {
      "cell_type": "markdown",
      "metadata": {
        "id": "JAzJh4QAVp_z"
      },
      "source": [
        "# 20. Какой самый прибыльный год для студии Warner Bros?"
      ]
    },
    {
      "cell_type": "code",
      "metadata": {
        "id": "wgVu02DEVp_0"
      },
      "source": [
        ""
      ],
      "execution_count": 24,
      "outputs": []
    },
    {
      "cell_type": "markdown",
      "metadata": {
        "id": "8Im1S2HRVp_4"
      },
      "source": [
        "# 21. В каком месяце за все годы суммарно вышло больше всего фильмов?"
      ]
    },
    {
      "cell_type": "code",
      "metadata": {
        "id": "lev6TH7gVp_4"
      },
      "source": [
        ""
      ],
      "execution_count": 24,
      "outputs": []
    },
    {
      "cell_type": "markdown",
      "metadata": {
        "id": "uAJsZ_NeVp_7"
      },
      "source": [
        "# 22. Сколько суммарно вышло фильмов летом? (за июнь, июль, август)"
      ]
    },
    {
      "cell_type": "code",
      "metadata": {
        "id": "Aa-hEREoVp_8"
      },
      "source": [
        ""
      ],
      "execution_count": 24,
      "outputs": []
    },
    {
      "cell_type": "markdown",
      "metadata": {
        "id": "G94ppOY1VqAA"
      },
      "source": [
        "# 23. Для какого режиссера зима – самое продуктивное время года? "
      ]
    },
    {
      "cell_type": "code",
      "metadata": {
        "id": "RhNTsamuVqAB"
      },
      "source": [
        ""
      ],
      "execution_count": 24,
      "outputs": []
    },
    {
      "cell_type": "markdown",
      "metadata": {
        "id": "RBo0JVjVVqAF"
      },
      "source": [
        "# 24. Какая студия дает самые длинные названия своим фильмам по количеству символов?"
      ]
    },
    {
      "cell_type": "code",
      "metadata": {
        "id": "QRGS8L0iVqAG"
      },
      "source": [
        ""
      ],
      "execution_count": 24,
      "outputs": []
    },
    {
      "cell_type": "markdown",
      "metadata": {
        "id": "9G0hbvR7VqAK"
      },
      "source": [
        "# 25. Описание фильмов какой студии в среднем самые длинные по количеству слов?"
      ]
    },
    {
      "cell_type": "code",
      "metadata": {
        "id": "Ge2GsLNxVqAK"
      },
      "source": [
        ""
      ],
      "execution_count": 24,
      "outputs": []
    },
    {
      "cell_type": "markdown",
      "metadata": {
        "id": "FJ1AFt90VqAP"
      },
      "source": [
        "# 26. Какие фильмы входят в 1 процент лучших по рейтингу? \n",
        "по vote_average"
      ]
    },
    {
      "cell_type": "code",
      "metadata": {
        "id": "8qmJVq4CVqAQ"
      },
      "source": [
        ""
      ],
      "execution_count": 24,
      "outputs": []
    },
    {
      "cell_type": "markdown",
      "metadata": {
        "id": "MdXsUXbCVqAV"
      },
      "source": [
        "# 27. Какие актеры чаще всего снимаются в одном фильме вместе?\n"
      ]
    },
    {
      "cell_type": "markdown",
      "metadata": {
        "id": "4ymnxEVoVqAW"
      },
      "source": [
        "ВАРИАНТ 2"
      ]
    },
    {
      "cell_type": "markdown",
      "metadata": {
        "id": "U0nONFnGVqAX"
      },
      "source": [
        "# Submission"
      ]
    },
    {
      "cell_type": "code",
      "metadata": {
        "id": "IfcaRO9-VqAX",
        "colab": {
          "base_uri": "https://localhost:8080/"
        },
        "outputId": "f2141d86-4c78-4395-c73c-804c63519494"
      },
      "source": [
        "# в конце можно посмотреть свои ответы к каждому вопросу\n",
        "answers"
      ],
      "execution_count": 25,
      "outputs": [
        {
          "output_type": "execute_result",
          "data": {
            "text/plain": [
              "{'1': 'Pirates of the Caribbean: On Stranger Tides (tt1298650)',\n",
              " '10': 'Man of Tai Chi',\n",
              " '2': 'Gods and Generals (tt0279111)',\n",
              " '3': 'Winnie the Pooh (tt1449283)',\n",
              " '4': '110',\n",
              " '5': '107',\n",
              " '6': 'Avatar (tt0499549)',\n",
              " '7': 'The Lone Ranger (tt1210819)',\n",
              " '8': 1478,\n",
              " '9': 'The Dark Knight'}"
            ]
          },
          "metadata": {
            "tags": []
          },
          "execution_count": 25
        }
      ]
    },
    {
      "cell_type": "code",
      "metadata": {
        "id": "SiRmHPl8VqAd",
        "colab": {
          "base_uri": "https://localhost:8080/"
        },
        "outputId": "031bb820-159f-412e-c4c2-11c660f06443"
      },
      "source": [
        "# и убедиться что ни чего не пропустил)\n",
        "len(answers)"
      ],
      "execution_count": 26,
      "outputs": [
        {
          "output_type": "execute_result",
          "data": {
            "text/plain": [
              "10"
            ]
          },
          "metadata": {
            "tags": []
          },
          "execution_count": 26
        }
      ]
    },
    {
      "cell_type": "code",
      "metadata": {
        "id": "uCfuTkRbVqAg"
      },
      "source": [
        ""
      ],
      "execution_count": 26,
      "outputs": []
    },
    {
      "cell_type": "code",
      "metadata": {
        "id": "Vwx3NrkSVqAl"
      },
      "source": [
        ""
      ],
      "execution_count": 26,
      "outputs": []
    }
  ]
}