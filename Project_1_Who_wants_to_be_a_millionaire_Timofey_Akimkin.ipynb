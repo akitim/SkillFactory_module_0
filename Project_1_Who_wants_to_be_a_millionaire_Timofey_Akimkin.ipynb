{
  "nbformat": 4,
  "nbformat_minor": 0,
  "metadata": {
    "colab": {
      "name": "Project 1 Timofey Akimkin.ipynb",
      "provenance": [],
      "toc_visible": true,
      "include_colab_link": true
    },
    "kernelspec": {
      "display_name": "Python 3",
      "language": "python",
      "name": "python3"
    },
    "language_info": {
      "codemirror_mode": {
        "name": "ipython",
        "version": 3
      },
      "file_extension": ".py",
      "mimetype": "text/x-python",
      "name": "python",
      "nbconvert_exporter": "python",
      "pygments_lexer": "ipython3",
      "version": "3.7.4"
    }
  },
  "cells": [
    {
      "cell_type": "markdown",
      "metadata": {
        "id": "view-in-github",
        "colab_type": "text"
      },
      "source": [
        "<a href=\"https://colab.research.google.com/github/akitim/SkillFactory_projects/blob/main/Project_1_Who_wants_to_be_a_millionaire_Timofey_Akimkin.ipynb\" target=\"_parent\"><img src=\"https://colab.research.google.com/assets/colab-badge.svg\" alt=\"Open In Colab\"/></a>"
      ]
    },
    {
      "cell_type": "code",
      "metadata": {
        "_cell_guid": "b1076dfc-b9ad-4769-8c92-a6c4dae69d19",
        "_uuid": "8f2839f25d086af736a60e9eeb907d3b93b6e0e5",
        "id": "U2D2gTdJVp90",
        "colab": {
          "base_uri": "https://localhost:8080/"
        },
        "outputId": "95eb8078-89a2-436d-a2e5-d45f0b1118e2"
      },
      "source": [
        "import numpy as np\n",
        "import pandas as pd\n",
        "import datetime as dt\n",
        "from itertools import combinations\n",
        " \n",
        "import sys\n",
        "from google.colab import drive\n",
        "drive.mount('/content/gdrive', force_remount=True)\n",
        "sys.path.clear\n",
        "sys.path.append('/content/gdrive/MyDrive/SkillFactory')"
      ],
      "execution_count": 567,
      "outputs": [
        {
          "output_type": "stream",
          "text": [
            "Mounted at /content/gdrive\n"
          ],
          "name": "stdout"
        }
      ]
    },
    {
      "cell_type": "markdown",
      "metadata": {
        "id": "xU3CaXKy9yvh"
      },
      "source": [
        "#Считывание датафрейма из файла"
      ]
    },
    {
      "cell_type": "code",
      "metadata": {
        "_cell_guid": "79c7e3d0-c299-4dcb-8224-4455121ee9b0",
        "_uuid": "d629ff2d2480ee46fbb7e2d37f6b5fab8052498a",
        "id": "oyGfxL3eVp9-"
      },
      "source": [
        "data = pd.read_csv('/content/gdrive/MyDrive/SkillFactory/movie_bd_v5.csv')"
      ],
      "execution_count": 652,
      "outputs": []
    },
    {
      "cell_type": "markdown",
      "metadata": {
        "id": "DTIt7ezGVp-G"
      },
      "source": [
        "# Предобработка"
      ]
    },
    {
      "cell_type": "code",
      "metadata": {
        "id": "jNb40DwKVp-H"
      },
      "source": [
        "answers = {} # создадим словарь для ответов\n",
        " \n",
        "#здесь исправляется странное поведение Google Colab,\n",
        "#когда колонка release_date считывается то как timestamp,\n",
        "#то как string\n",
        " \n",
        "if type(data.release_date[0]) == str:\n",
        "    data.release_date = data.release_date.apply(\n",
        "        lambda x: dt.datetime.strptime(x,'%m/%d/%Y'))\n",
        "\n",
        "#добавляем колонку прибыли от проката 'profit'\n",
        "data['profit'] = data.revenue - data.budget \n",
        "\n",
        "#добавляем колонку месяца релиза фильма - 'month'\n",
        "data['month'] = data.release_date.apply(lambda x: x.month)\n",
        "\n",
        "#словарь для сопоставления номера месяца и его названия на русском\n",
        "#для 21-го вопроса\n",
        "months = {\n",
        "    1: 'январь',\n",
        "    2: 'февраль',\n",
        "    3: 'март',\n",
        "    4: 'апрель',\n",
        "    5: 'май',\n",
        "    6: 'июнь',\n",
        "    7: 'июль',\n",
        "    8: 'август',\n",
        "    9: 'сентябрь',\n",
        "   10: 'октябрь',\n",
        "   11: 'ноябрь',\n",
        "   12: 'декабрь'\n",
        "}\n",
        "\n",
        "#функция принимает строку, возвращает количество слов\n",
        "#в строке разделенных пробелами\n",
        "def word_count(s):\n",
        "    return len(s.split(' '))\n",
        "\n",
        "#добавлям к датафейму столбец с количеством слов в описании фильма\n",
        "#для 25-го вопроса\n",
        "data['words_in_overview'] = data.overview.apply(word_count)\n",
        " \n",
        "#the time given in the dataset is in string format. - \"That my dear Balin, is not entirely true\"\n",
        "#So we need to change this in datetime format"
      ],
      "execution_count": 685,
      "outputs": []
    },
    {
      "cell_type": "markdown",
      "metadata": {
        "id": "YxZaH-nPVp-L"
      },
      "source": [
        "# 1. У какого фильма из списка самый большой бюджет?"
      ]
    },
    {
      "cell_type": "code",
      "metadata": {
        "id": "dZwb3m28Vp-S",
        "colab": {
          "base_uri": "https://localhost:8080/"
        },
        "outputId": "30847332-2f70-47dd-d860-b6682bd5afe2"
      },
      "source": [
        "# тут пишем ваш код для решения данного вопроса:\n",
        "title1 = data[data.budget == data.budget.max()].original_title.iloc[0]\n",
        "id1 = data[data.budget == data.budget.max()].imdb_id.iloc[0]\n",
        "print(title1 + ' (' + id1 + ')')"
      ],
      "execution_count": 570,
      "outputs": [
        {
          "output_type": "stream",
          "text": [
            "Pirates of the Caribbean: On Stranger Tides (tt1298650)\n"
          ],
          "name": "stdout"
        }
      ]
    },
    {
      "cell_type": "code",
      "metadata": {
        "id": "uVnXAY5RVp-O"
      },
      "source": [
        "answers['01'] = 'Pirates of the Caribbean: On Stranger Tides (tt1298650)'"
      ],
      "execution_count": 571,
      "outputs": []
    },
    {
      "cell_type": "markdown",
      "metadata": {
        "id": "K7L3nbRXVp-X"
      },
      "source": [
        "ВАРИАНТ 2"
      ]
    },
    {
      "cell_type": "code",
      "metadata": {
        "id": "OGaoQI7rVp-X",
        "colab": {
          "base_uri": "https://localhost:8080/"
        },
        "outputId": "5c8d289c-e728-4dbf-be19-7f7aca02375c"
      },
      "source": [
        "title1 = data.query('budget == budget.max()').original_title.iloc[0]\n",
        "id1 = data.query('budget == budget.max()').imdb_id.iloc[0]\n",
        "print(title1 + ' (' + id1 + ')')"
      ],
      "execution_count": 572,
      "outputs": [
        {
          "output_type": "stream",
          "text": [
            "Pirates of the Caribbean: On Stranger Tides (tt1298650)\n"
          ],
          "name": "stdout"
        }
      ]
    },
    {
      "cell_type": "markdown",
      "metadata": {
        "id": "FNRbbI3vVp-c"
      },
      "source": [
        "# 2. Какой из фильмов самый длительный (в минутах)?"
      ]
    },
    {
      "cell_type": "code",
      "metadata": {
        "id": "ot-VX2XrVp-g",
        "colab": {
          "base_uri": "https://localhost:8080/"
        },
        "outputId": "722992ab-6eb7-4551-9a0f-4ef3260f9e84"
      },
      "source": [
        "data_filtered2a = data[data.runtime == data.runtime.max()]\n",
        "\n",
        "title2a = data_filtered2a.original_title.iloc[0]\n",
        "id2a = data_filtered2a.imdb_id.iloc[0]\n",
        "\n",
        "print(title2a + ' (' + id2a + ')')"
      ],
      "execution_count": 655,
      "outputs": [
        {
          "output_type": "stream",
          "text": [
            "Gods and Generals (tt0279111)\n"
          ],
          "name": "stdout"
        }
      ]
    },
    {
      "cell_type": "markdown",
      "metadata": {
        "id": "gqr5viAhRQH3"
      },
      "source": [
        "ВАРИАНТ 2"
      ]
    },
    {
      "cell_type": "code",
      "metadata": {
        "colab": {
          "base_uri": "https://localhost:8080/"
        },
        "id": "0fDqcTEHOj3k",
        "outputId": "92fd3f27-e1c9-4897-91c2-f6896dd4710a"
      },
      "source": [
        "data_filtered2b = data.query('runtime == runtime.max()')\n",
        "\n",
        "title2b = data_filtered2b.original_title.iloc[0] \n",
        "id2b = data_filtered2b.imdb_id.iloc[0]\n",
        "\n",
        "print(title2b + ' (' + id2b + ')')"
      ],
      "execution_count": 654,
      "outputs": [
        {
          "output_type": "stream",
          "text": [
            "Gods and Generals (tt0279111)\n"
          ],
          "name": "stdout"
        }
      ]
    },
    {
      "cell_type": "code",
      "metadata": {
        "id": "vHAoEXNTVp-d"
      },
      "source": [
        "answers['02'] = 'Gods and Generals (tt0279111)'"
      ],
      "execution_count": 575,
      "outputs": []
    },
    {
      "cell_type": "markdown",
      "metadata": {
        "id": "bapLlpW8Vp-k"
      },
      "source": [
        "# 3. Какой из фильмов самый короткий (в минутах)?\n",
        "\n",
        "\n",
        "\n"
      ]
    },
    {
      "cell_type": "code",
      "metadata": {
        "id": "YBxaSHuAVp-l",
        "colab": {
          "base_uri": "https://localhost:8080/"
        },
        "outputId": "746c0b85-3969-41ac-ed62-f1734c5e30ba"
      },
      "source": [
        "data_filtered3a = data[data.runtime == data.runtime.min()]\n",
        "\n",
        "title3a = data_filtered3a.original_title.iloc[0]\n",
        "id3a = data_filtered3a.imdb_id.iloc[0]\n",
        "\n",
        "print(title3a + ' (' + id3a + ')')\n"
      ],
      "execution_count": 657,
      "outputs": [
        {
          "output_type": "stream",
          "text": [
            "Winnie the Pooh (tt1449283)\n"
          ],
          "name": "stdout"
        }
      ]
    },
    {
      "cell_type": "markdown",
      "metadata": {
        "id": "dO1V3L48RSNJ"
      },
      "source": [
        "ВАРИАНТ 2"
      ]
    },
    {
      "cell_type": "code",
      "metadata": {
        "colab": {
          "base_uri": "https://localhost:8080/"
        },
        "id": "Fk_VUwDBRZ03",
        "outputId": "738399f0-39a3-4ce6-f2f1-cf30df356332"
      },
      "source": [
        "data_filtered3b = data.query('runtime == runtime.min()')\n",
        "\n",
        "title3b = data_filtered3b.original_title.iloc[0] \n",
        "id3b = data_filtered3b.imdb_id.iloc[0]\n",
        "\n",
        "print(title3b + ' (' + id3b + ')')"
      ],
      "execution_count": 656,
      "outputs": [
        {
          "output_type": "stream",
          "text": [
            "Winnie the Pooh (tt1449283)\n"
          ],
          "name": "stdout"
        }
      ]
    },
    {
      "cell_type": "code",
      "metadata": {
        "id": "YJuabOmVRig_"
      },
      "source": [
        "answers['03'] = 'Winnie the Pooh (tt1449283)'"
      ],
      "execution_count": 578,
      "outputs": []
    },
    {
      "cell_type": "markdown",
      "metadata": {
        "id": "TfQbxbfNVp-p"
      },
      "source": [
        "# 4. Какова средняя длительность фильмов?\n"
      ]
    },
    {
      "cell_type": "code",
      "metadata": {
        "colab": {
          "base_uri": "https://localhost:8080/"
        },
        "id": "9zKYSwpER5KS",
        "outputId": "06882672-5ab6-48a3-8bd0-121a45ce3a9e"
      },
      "source": [
        "print (round(data.runtime.mean()))\n"
      ],
      "execution_count": 579,
      "outputs": [
        {
          "output_type": "stream",
          "text": [
            "110\n"
          ],
          "name": "stdout"
        }
      ]
    },
    {
      "cell_type": "code",
      "metadata": {
        "id": "qAzDdKo0ctaz"
      },
      "source": [
        "answers['04'] = '110'"
      ],
      "execution_count": 580,
      "outputs": []
    },
    {
      "cell_type": "markdown",
      "metadata": {
        "id": "r5TvbnT_Vp-u"
      },
      "source": [
        "# 5. Каково медианное значение длительности фильмов? "
      ]
    },
    {
      "cell_type": "code",
      "metadata": {
        "id": "iBROplKnVp-v",
        "colab": {
          "base_uri": "https://localhost:8080/"
        },
        "outputId": "be68a533-ea38-4711-b829-8123b1736126"
      },
      "source": [
        "print (round(data.runtime.median()))\n"
      ],
      "execution_count": 581,
      "outputs": [
        {
          "output_type": "stream",
          "text": [
            "107\n"
          ],
          "name": "stdout"
        }
      ]
    },
    {
      "cell_type": "code",
      "metadata": {
        "id": "XJ_uHeDRcwcB"
      },
      "source": [
        "answers['05'] = '107'"
      ],
      "execution_count": 582,
      "outputs": []
    },
    {
      "cell_type": "markdown",
      "metadata": {
        "id": "39P-deDSVp-y"
      },
      "source": [
        "# 6. Какой самый прибыльный фильм?\n",
        "#### Внимание! Здесь и далее под «прибылью» или «убытками» понимается разность между сборами и бюджетом фильма. (прибыль = сборы - бюджет) в нашем датасете это будет (profit = revenue - budget) "
      ]
    },
    {
      "cell_type": "code",
      "metadata": {
        "id": "UYZh4T9WVp-y",
        "colab": {
          "base_uri": "https://localhost:8080/"
        },
        "outputId": "91227932-6621-47bc-8d1a-1ee726cf62cb"
      },
      "source": [
        "data_filtered6 = data.query(\"profit == profit.max()\")\n",
        "title6 = data_filtered6.original_title.iloc[0]\n",
        "id6 = data_filtered6.imdb_id.iloc[0]\n",
        "\n",
        "print(title6 + ' (' + id6 + ')')"
      ],
      "execution_count": 583,
      "outputs": [
        {
          "output_type": "stream",
          "text": [
            "Avatar (tt0499549)\n"
          ],
          "name": "stdout"
        }
      ]
    },
    {
      "cell_type": "code",
      "metadata": {
        "id": "wPwuub3Xc7TL"
      },
      "source": [
        "answers['06'] = 'Avatar (tt0499549)'"
      ],
      "execution_count": 584,
      "outputs": []
    },
    {
      "cell_type": "markdown",
      "metadata": {
        "id": "M99JmIX4Vp-2"
      },
      "source": [
        "# 7. Какой фильм самый убыточный? "
      ]
    },
    {
      "cell_type": "code",
      "metadata": {
        "id": "w-D2m4XPVp-3",
        "colab": {
          "base_uri": "https://localhost:8080/"
        },
        "outputId": "e9943c7f-af0f-4e30-c899-f3c6fdda155a"
      },
      "source": [
        "data_filtered7 = data.query(\"profit == profit.min()\")\n",
        "title7 = data_filtered7.original_title.iloc[0]\n",
        "id7 = data_filtered7.imdb_id.iloc[0]\n",
        "\n",
        "print(title7 + ' (' + id7 + ')')\n"
      ],
      "execution_count": 585,
      "outputs": [
        {
          "output_type": "stream",
          "text": [
            "The Lone Ranger (tt1210819)\n"
          ],
          "name": "stdout"
        }
      ]
    },
    {
      "cell_type": "code",
      "metadata": {
        "id": "kbVJDLmadHlK"
      },
      "source": [
        "answers['07'] = 'The Lone Ranger (tt1210819)'"
      ],
      "execution_count": 586,
      "outputs": []
    },
    {
      "cell_type": "markdown",
      "metadata": {
        "id": "wEOM5ERVVp-6"
      },
      "source": [
        "# 8. У скольких фильмов из датасета объем сборов оказался выше бюджета?"
      ]
    },
    {
      "cell_type": "code",
      "metadata": {
        "id": "y00_7HD6Vp-7",
        "colab": {
          "base_uri": "https://localhost:8080/"
        },
        "outputId": "6871d626-bf62-4b45-a938-066d709d47d1"
      },
      "source": [
        "data_filtered8 = data.query(\"profit > 0\")\n",
        "print(len(data_filtered8))\n"
      ],
      "execution_count": 587,
      "outputs": [
        {
          "output_type": "stream",
          "text": [
            "1478\n"
          ],
          "name": "stdout"
        }
      ]
    },
    {
      "cell_type": "code",
      "metadata": {
        "id": "uzW4YMoVbXKY"
      },
      "source": [
        "answers['08'] = 1478"
      ],
      "execution_count": 588,
      "outputs": []
    },
    {
      "cell_type": "markdown",
      "metadata": {
        "id": "xhpspA9KVp_A"
      },
      "source": [
        "# 9. Какой фильм оказался самым кассовым в 2008 году?"
      ]
    },
    {
      "cell_type": "code",
      "metadata": {
        "id": "MoUyQr9RVp_B",
        "colab": {
          "base_uri": "https://localhost:8080/"
        },
        "outputId": "1a6848d4-c865-41f8-fc39-470cc77fb51e"
      },
      "source": [
        "data_2008 = data.query(\"release_year == 2008\").query(\"revenue == revenue.max()\")\n",
        "\n",
        "print(data_2008.original_title.iloc[0] + ' (' +\n",
        "      data_2008.imdb_id.iloc[0] + ')'\n",
        ")\n"
      ],
      "execution_count": 634,
      "outputs": [
        {
          "output_type": "stream",
          "text": [
            "The Dark Knight (tt0468569)\n"
          ],
          "name": "stdout"
        }
      ]
    },
    {
      "cell_type": "code",
      "metadata": {
        "id": "x7x2T2aNeHNo"
      },
      "source": [
        "answers['09'] = 'The Dark Knight'"
      ],
      "execution_count": 590,
      "outputs": []
    },
    {
      "cell_type": "markdown",
      "metadata": {
        "id": "Zi4hDKidVp_F"
      },
      "source": [
        "# 10. Самый убыточный фильм за период с 2012 по 2014 г. (включительно)?\n"
      ]
    },
    {
      "cell_type": "code",
      "metadata": {
        "id": "XqyRmufJVp_F",
        "colab": {
          "base_uri": "https://localhost:8080/"
        },
        "outputId": "71577125-b20e-40c0-c42c-a3bea6289c25"
      },
      "source": [
        "data_filtered10 = data.query(\n",
        "    \"(release_year >= 2012) & (release_year <= 2014)\"\n",
        "    ).query(\"profit == profit.min()\")\n",
        "\n",
        "print(\n",
        "    data_filtered10.original_title.iloc[0] + ' (' + \n",
        "    data_filtered10.imdb_id.iloc[0] + ')'\n",
        ")\n"
      ],
      "execution_count": 591,
      "outputs": [
        {
          "output_type": "stream",
          "text": [
            "The Lone Ranger (tt1210819)\n"
          ],
          "name": "stdout"
        }
      ]
    },
    {
      "cell_type": "code",
      "metadata": {
        "id": "4Dd1JeGldwJj"
      },
      "source": [
        "answers['10'] = 'The Lone Ranger (tt1210819)'"
      ],
      "execution_count": 592,
      "outputs": []
    },
    {
      "cell_type": "markdown",
      "metadata": {
        "id": "EA7Sa9dkVp_I"
      },
      "source": [
        "# 11. Какого жанра фильмов больше всего?"
      ]
    },
    {
      "cell_type": "code",
      "metadata": {
        "id": "otO3SbrSVp_N",
        "colab": {
          "base_uri": "https://localhost:8080/"
        },
        "outputId": "21ed3b3d-8627-481c-8483-a047a0c75851"
      },
      "source": [
        "data11 = data.copy()\n",
        "\n",
        "data11.genres = data11.genres.str.split('|', expand=False)\n",
        "data11 = data11.explode('genres')\n",
        "\n",
        "genres_pvt11 = data11.pivot_table (values = ['imdb_id'],\n",
        "index = ['genres'],\n",
        "aggfunc = 'count',\n",
        "fill_value = 0,\n",
        "margins = True)\n",
        "\n",
        "print(genres_pvt11['imdb_id'].\n",
        "      sort_values(ascending = False).index[1])"
      ],
      "execution_count": 661,
      "outputs": [
        {
          "output_type": "stream",
          "text": [
            "Drama\n"
          ],
          "name": "stdout"
        }
      ]
    },
    {
      "cell_type": "code",
      "metadata": {
        "id": "-Jv_McqKd3Wy"
      },
      "source": [
        "answers['11'] = 'Drama'"
      ],
      "execution_count": 594,
      "outputs": []
    },
    {
      "cell_type": "markdown",
      "metadata": {
        "id": "T9_bPWpkVp_Q"
      },
      "source": [
        "# 12. Какого жанра среди прибыльных фильмов больше всего?"
      ]
    },
    {
      "cell_type": "code",
      "metadata": {
        "id": "Tmt8MaK1Vp_R",
        "colab": {
          "base_uri": "https://localhost:8080/"
        },
        "outputId": "dded5a48-b283-4132-c896-2ae55a11bec4"
      },
      "source": [
        "#убираем из датафрейма неприбыльные фильмы \n",
        "data_profitable = data[ data.profit > 0 ].copy()\n",
        "\n",
        "#получаем датафрейм с разбивкой по отдельным жанрам\n",
        "data_profitable.genres = data_profitable.genres.str.split('|', expand=False)\n",
        "data_profitable = data_profitable.explode('genres')\n",
        "\n",
        "#вывод результата\n",
        "print(\n",
        "data_profitable.groupby( \n",
        "    by='genres'\n",
        "    ).count()['imdb_id'].sort_values(ascending=False).index[0]\n",
        ")\n"
      ],
      "execution_count": 669,
      "outputs": [
        {
          "output_type": "stream",
          "text": [
            "Drama\n"
          ],
          "name": "stdout"
        }
      ]
    },
    {
      "cell_type": "code",
      "metadata": {
        "id": "cbc0-ZXaeXiA"
      },
      "source": [
        "answers['12'] = 'Drama'"
      ],
      "execution_count": 610,
      "outputs": []
    },
    {
      "cell_type": "markdown",
      "metadata": {
        "id": "0F23bgsDVp_U"
      },
      "source": [
        "# 13. У какого режиссера самые большие суммарные кассовые сборы?"
      ]
    },
    {
      "cell_type": "code",
      "metadata": {
        "id": "K6Z3J8ygVp_X",
        "colab": {
          "base_uri": "https://localhost:8080/"
        },
        "outputId": "320a21dd-ec4a-4020-f70a-8fd11f9af00a"
      },
      "source": [
        "data13 = data.copy()\n",
        "\n",
        "#разбиваем датафрейм по отдельным режиссерам\n",
        "#на случай, если у фильма более одного режиссера\n",
        "data13.director = data13.director.str.split('|', expand=False)\n",
        "data_expl13 = data.explode('director')\n",
        "\n",
        "gp13 = data_expl13.groupby(by = 'director').sum()['profit']\n",
        "\n",
        "#вывод результата\n",
        "print (gp13[gp13 == gp13.max()].index[0])"
      ],
      "execution_count": 611,
      "outputs": [
        {
          "output_type": "stream",
          "text": [
            "Peter Jackson\n"
          ],
          "name": "stdout"
        }
      ]
    },
    {
      "cell_type": "code",
      "metadata": {
        "id": "281TzrhHe3sb"
      },
      "source": [
        "answers['13'] = 'Peter Jackson'"
      ],
      "execution_count": 612,
      "outputs": []
    },
    {
      "cell_type": "markdown",
      "metadata": {
        "id": "PsYC9FgRVp_a"
      },
      "source": [
        "# 14. Какой режисер снял больше всего фильмов в стиле Action?"
      ]
    },
    {
      "cell_type": "code",
      "metadata": {
        "id": "wd2M-wHeVp_b",
        "colab": {
          "base_uri": "https://localhost:8080/"
        },
        "outputId": "646c26f0-037a-409d-d60e-292700571ef3"
      },
      "source": [
        "data14 = data.copy()\n",
        "\n",
        "data14.director = data14.director.str.split('|', expand=False)\n",
        "data14 = data14.explode('director')\n",
        "\n",
        "data14.genres = data14.genres.str.split('|', expand=False)\n",
        "data14 = data14.explode('genres')\n",
        "\n",
        "pvt14 = data14.pivot_table (values = ['imdb_id'],\n",
        "index = ['genres'],\n",
        "columns = ['director'],\n",
        "aggfunc = 'count',\n",
        "fill_value = 0,\n",
        "margins = False\n",
        ")\n",
        "\n",
        "max_action = pvt14.loc[\"Action\"]\n",
        "print( max_action[max_action == max_action.max()].index[0][1] )"
      ],
      "execution_count": 672,
      "outputs": [
        {
          "output_type": "stream",
          "text": [
            "Robert Rodriguez\n"
          ],
          "name": "stdout"
        }
      ]
    },
    {
      "cell_type": "code",
      "metadata": {
        "id": "zqk4t7crf3WQ"
      },
      "source": [
        "answers['14'] = 'Robert Rodriguez'"
      ],
      "execution_count": null,
      "outputs": []
    },
    {
      "cell_type": "markdown",
      "metadata": {
        "id": "PQ0KciD7Vp_f"
      },
      "source": [
        "# 15. Фильмы с каким актером принесли самые высокие кассовые сборы в 2012 году? "
      ]
    },
    {
      "cell_type": "code",
      "metadata": {
        "id": "aga62oeKVp_g",
        "colab": {
          "base_uri": "https://localhost:8080/"
        },
        "outputId": "4ee7955b-fa41-4195-8b15-2383b14efc74"
      },
      "source": [
        "data15 = data.copy()\n",
        "\n",
        "data15.cast = data15.cast.str.split('|', expand=False)\n",
        "data15 = data15.explode('cast')\n",
        "\n",
        "data15 = data15[\n",
        "                          data15.release_year == 2012\n",
        "                          ].groupby(by = 'cast').sum()\n",
        "print (\n",
        "    data15[data15.revenue == data15.revenue.max()].index[0]\n",
        ")\n"
      ],
      "execution_count": 673,
      "outputs": [
        {
          "output_type": "stream",
          "text": [
            "Chris Hemsworth\n"
          ],
          "name": "stdout"
        }
      ]
    },
    {
      "cell_type": "code",
      "metadata": {
        "id": "rfDW57BABz7K"
      },
      "source": [
        "answers['15'] = 'Chris Hemsworth'"
      ],
      "execution_count": null,
      "outputs": []
    },
    {
      "cell_type": "markdown",
      "metadata": {
        "id": "mWHyyL7QVp_j"
      },
      "source": [
        "# 16. Какой актер снялся в большем количестве высокобюджетных фильмов?"
      ]
    },
    {
      "cell_type": "code",
      "metadata": {
        "id": "qQtmHKTFVp_k",
        "colab": {
          "base_uri": "https://localhost:8080/"
        },
        "outputId": "85c60e78-1a88-46d5-f3f3-8ecc3cbc7e23"
      },
      "source": [
        "data_expl16 = data.copy()\n",
        "\n",
        "data_expl16.cast = data_expl16.cast.str.split('|', expand=False)\n",
        "data_expl16 = data_expl16.explode('cast')\n",
        "\n",
        "data_expl16 = data_expl16[data_expl16.budget > data_expl16.budget.mean()]\n",
        "print(data_expl16['cast'].value_counts().index[0])\n"
      ],
      "execution_count": 674,
      "outputs": [
        {
          "output_type": "stream",
          "text": [
            "Matt Damon\n"
          ],
          "name": "stdout"
        }
      ]
    },
    {
      "cell_type": "code",
      "metadata": {
        "id": "5dw41wlBUSgJ"
      },
      "source": [
        "answers['16'] ='Matt Damon'"
      ],
      "execution_count": null,
      "outputs": []
    },
    {
      "cell_type": "markdown",
      "metadata": {
        "id": "NIh6AaW5Vp_n"
      },
      "source": [
        "# 17. В фильмах какого жанра больше всего снимался Nicolas Cage? "
      ]
    },
    {
      "cell_type": "code",
      "metadata": {
        "id": "H74SJDIBVp_n",
        "colab": {
          "base_uri": "https://localhost:8080/"
        },
        "outputId": "58061d9d-60fe-4ff1-e32f-17a9b565b75e"
      },
      "source": [
        "data_expl17 = data.copy()\n",
        "\n",
        "data_expl17.cast = data_expl17.cast.str.split('|', expand=False)\n",
        "data_expl17 = data_expl17.explode('cast')\n",
        "\n",
        "data_expl17.genres = data_expl17.genres.str.split('|', expand=False)\n",
        "data_expl17 = data_expl17.explode('genres')\n",
        "\n",
        "se17 = data_expl17[\n",
        "               data_expl17.cast == 'Nicolas Cage'\n",
        "               ].groupby(by='genres').count().imdb_id\n",
        "print(se17[se17==se17.max()].index[0])\n"
      ],
      "execution_count": 675,
      "outputs": [
        {
          "output_type": "stream",
          "text": [
            "Action\n"
          ],
          "name": "stdout"
        }
      ]
    },
    {
      "cell_type": "code",
      "metadata": {
        "id": "eus_42ECIX20"
      },
      "source": [
        "answers['17'] = 'Action'"
      ],
      "execution_count": null,
      "outputs": []
    },
    {
      "cell_type": "markdown",
      "metadata": {
        "id": "RqOmPRfWVp_q"
      },
      "source": [
        "# 18. Самый убыточный фильм от Paramount Pictures"
      ]
    },
    {
      "cell_type": "code",
      "metadata": {
        "id": "9E_B0Y96Vp_r",
        "colab": {
          "base_uri": "https://localhost:8080/"
        },
        "outputId": "b271ce28-7280-4c4c-802c-c89c53b8d081"
      },
      "source": [
        "data_expl18 = data.copy()\n",
        "\n",
        "data_expl18.production_companies = data_expl18.production_companies.str.split(\n",
        "    '|', expand=False)\n",
        "data_expl18 = data_expl18.explode('production_companies')\n",
        " \n",
        "data_expl18 = data_expl18[data_expl18.production_companies == 'Paramount Pictures']\n",
        "df18 = data_expl18[data_expl18.profit == \n",
        "          data_expl18.profit.min()]\n",
        "title18 = df18['original_title'].values[0]\n",
        "id18 = df18['imdb_id'].values[0]\n",
        " \n",
        "print( title18 + ' (' + id18 + ')')"
      ],
      "execution_count": 676,
      "outputs": [
        {
          "output_type": "stream",
          "text": [
            "K-19: The Widowmaker (tt0267626)\n"
          ],
          "name": "stdout"
        }
      ]
    },
    {
      "cell_type": "code",
      "metadata": {
        "id": "Mc-9stTsXKLi"
      },
      "source": [
        "answers['18'] = 'K-19: The Widowmaker (tt0267626)'"
      ],
      "execution_count": null,
      "outputs": []
    },
    {
      "cell_type": "markdown",
      "metadata": {
        "id": "vS8Ur6ddVp_u"
      },
      "source": [
        "# 19. Какой год стал самым успешным по суммарным кассовым сборам?"
      ]
    },
    {
      "cell_type": "code",
      "metadata": {
        "id": "Dnbt4GdIVp_v"
      },
      "source": [
        "se19 = data.groupby(by='release_year').sum().revenue\n",
        "se19[se19 == se19.max()].index[0]"
      ],
      "execution_count": null,
      "outputs": []
    },
    {
      "cell_type": "code",
      "metadata": {
        "id": "l0GzJUQaY980"
      },
      "source": [
        "answers['19'] = 2015"
      ],
      "execution_count": null,
      "outputs": []
    },
    {
      "cell_type": "markdown",
      "metadata": {
        "id": "JAzJh4QAVp_z"
      },
      "source": [
        "# 20. Какой самый прибыльный год для студии Warner Bros?"
      ]
    },
    {
      "cell_type": "code",
      "metadata": {
        "id": "wgVu02DEVp_0",
        "colab": {
          "base_uri": "https://localhost:8080/"
        },
        "outputId": "21b9a22f-f387-4bae-b513-03016e027a27"
      },
      "source": [
        "data_expl20 = data.copy()\n",
        "\n",
        "data_expl20.production_companies = data_expl20.production_companies.str.split(\n",
        "    '|', expand=False )\n",
        "data_expl20 = data_expl20.explode(\n",
        "    'production_companies').query(\"'production_companies' == 'Warner Bros.'\")\n",
        "\n",
        "se20 = data_expl20.groupby(by='release_year').sum().profit\n",
        "\n",
        "print ( se20[se20 == se20.max()].index[0] )"
      ],
      "execution_count": 677,
      "outputs": [
        {
          "output_type": "stream",
          "text": [
            "2015\n"
          ],
          "name": "stdout"
        }
      ]
    },
    {
      "cell_type": "code",
      "metadata": {
        "id": "9EcY4j5fa8xN"
      },
      "source": [
        "answers['20'] = 2015"
      ],
      "execution_count": null,
      "outputs": []
    },
    {
      "cell_type": "markdown",
      "metadata": {
        "id": "8Im1S2HRVp_4"
      },
      "source": [
        "# 21. В каком месяце за все годы суммарно вышло больше всего фильмов?"
      ]
    },
    {
      "cell_type": "code",
      "metadata": {
        "id": "lev6TH7gVp_4",
        "colab": {
          "base_uri": "https://localhost:8080/"
        },
        "outputId": "03482a97-2493-4bbf-f036-e0a2384b4b4a"
      },
      "source": [
        "data21 = data.copy()\n",
        "\n",
        "data21.groupby(by='month').count()\n",
        "\n",
        "print ( months[ data.month.value_counts().index[0] ] )\n"
      ],
      "execution_count": 684,
      "outputs": [
        {
          "output_type": "stream",
          "text": [
            "сентябрь\n"
          ],
          "name": "stdout"
        }
      ]
    },
    {
      "cell_type": "code",
      "metadata": {
        "id": "kx1CL67pdzPu"
      },
      "source": [
        "answers['21'] = 'сентябрь'"
      ],
      "execution_count": null,
      "outputs": []
    },
    {
      "cell_type": "markdown",
      "metadata": {
        "id": "uAJsZ_NeVp_7"
      },
      "source": [
        "# 22. Сколько суммарно вышло фильмов летом? (за июнь, июль, август)"
      ]
    },
    {
      "cell_type": "code",
      "metadata": {
        "id": "Aa-hEREoVp_8",
        "colab": {
          "base_uri": "https://localhost:8080/"
        },
        "outputId": "7a78ee0e-4cee-4803-a2a0-c490f5b6bc17"
      },
      "source": [
        "data22 = data.copy()\n",
        "\n",
        "data22['month'] = data22.release_date.apply(lambda x: x.month)\n",
        "\n",
        "data22[(data22.month >= 6) & (data22.month <= 8)]['imdb_id'].nunique()"
      ],
      "execution_count": 686,
      "outputs": [
        {
          "output_type": "execute_result",
          "data": {
            "text/plain": [
              "450"
            ]
          },
          "metadata": {
            "tags": []
          },
          "execution_count": 686
        }
      ]
    },
    {
      "cell_type": "code",
      "metadata": {
        "id": "902dTOWD6VoC"
      },
      "source": [
        "answers['22'] = 450"
      ],
      "execution_count": null,
      "outputs": []
    },
    {
      "cell_type": "markdown",
      "metadata": {
        "id": "G94ppOY1VqAA"
      },
      "source": [
        "# 23. Для какого режиссера зима – самое продуктивное время года? "
      ]
    },
    {
      "cell_type": "code",
      "metadata": {
        "id": "RhNTsamuVqAB",
        "colab": {
          "base_uri": "https://localhost:8080/"
        },
        "outputId": "e20b2649-10a6-4619-8c1b-5d910e6596b4"
      },
      "source": [
        "data23 = data.copy()\n",
        "\n",
        "data23['month'] = data23.release_date.apply(lambda x: x.month)\n",
        "\n",
        "data23.director = data23.director.str.split('|', expand=False)\n",
        "data23 = data23.explode('director')\n",
        "\n",
        "print( data23[(data23.month == 12) |\n",
        "          (data23.month <= 2)]['director'].value_counts().index[0] )"
      ],
      "execution_count": 687,
      "outputs": [
        {
          "output_type": "stream",
          "text": [
            "Peter Jackson\n"
          ],
          "name": "stdout"
        }
      ]
    },
    {
      "cell_type": "code",
      "metadata": {
        "id": "DrFx6ICT4a3M"
      },
      "source": [
        "answers['23'] = 'Peter Jackson'"
      ],
      "execution_count": null,
      "outputs": []
    },
    {
      "cell_type": "markdown",
      "metadata": {
        "id": "RBo0JVjVVqAF"
      },
      "source": [
        "# 24. Какая студия дает самые длинные названия своим фильмам по количеству символов?"
      ]
    },
    {
      "cell_type": "code",
      "metadata": {
        "id": "QRGS8L0iVqAG",
        "colab": {
          "base_uri": "https://localhost:8080/"
        },
        "outputId": "6aaa1753-602e-466f-a1bb-ca395b725f2e"
      },
      "source": [
        "data24 = data.copy()\n",
        "\n",
        "data24.production_companies = data24.production_companies.str.split(\n",
        "    '|', expand=False)\n",
        "data24 = data24.explode('production_companies')\n",
        "\n",
        "data24['ot_length'] = data24.original_title.apply(len)\n",
        "\n",
        "print(data24.groupby(\n",
        "    'production_companies').mean().ot_length.sort_values(\n",
        "        ascending=False).index[0]\n",
        "      )"
      ],
      "execution_count": 688,
      "outputs": [
        {
          "output_type": "stream",
          "text": [
            "Four By Two Productions\n"
          ],
          "name": "stdout"
        }
      ]
    },
    {
      "cell_type": "code",
      "metadata": {
        "id": "e_f3FSbgOTjm"
      },
      "source": [
        "answers['24'] = 'Four By Two Productions'"
      ],
      "execution_count": null,
      "outputs": []
    },
    {
      "cell_type": "markdown",
      "metadata": {
        "id": "9G0hbvR7VqAK"
      },
      "source": [
        "# 25. Описание фильмов какой студии в среднем самые длинные по количеству слов?"
      ]
    },
    {
      "cell_type": "code",
      "metadata": {
        "id": "Ge2GsLNxVqAK",
        "colab": {
          "base_uri": "https://localhost:8080/"
        },
        "outputId": "dc1dcfda-a673-4b36-f872-bce3b010b5b4"
      },
      "source": [
        "data25 = data.copy()\n",
        "\n",
        "data25.production_companies = data25.production_companies.str.split(\n",
        "    '|', expand=False\n",
        "    )\n",
        "data25 = data25.explode('production_companies')\n",
        " \n",
        "print(data25.groupby(\n",
        "    'production_companies').mean().words_in_overview.sort_values(\n",
        "        ascending=False).index[0])"
      ],
      "execution_count": 689,
      "outputs": [
        {
          "output_type": "stream",
          "text": [
            "Midnight Picture Show\n"
          ],
          "name": "stdout"
        }
      ]
    },
    {
      "cell_type": "code",
      "metadata": {
        "id": "AK-_jBArAApV"
      },
      "source": [
        "answers['25'] = 'Midnight Picture Show'"
      ],
      "execution_count": null,
      "outputs": []
    },
    {
      "cell_type": "markdown",
      "metadata": {
        "id": "FJ1AFt90VqAP"
      },
      "source": [
        "# 26. Какие фильмы входят в 1 процент лучших по рейтингу? \n",
        "по vote_average"
      ]
    },
    {
      "cell_type": "code",
      "metadata": {
        "id": "8qmJVq4CVqAQ"
      },
      "source": [
        "best_percentage = 0.01\n",
        "best_percentage_quantile = data.vote_average.quantile(1 - best_percentage)\n",
        "\n",
        "print (\n",
        "    data[data.vote_average > best_percentage_quantile]['original_title'].values\n",
        ")\n"
      ],
      "execution_count": null,
      "outputs": []
    },
    {
      "cell_type": "code",
      "metadata": {
        "id": "RcTnjIqpk3uT"
      },
      "source": [
        "answers['26'] = ['Inside Out', 'The Dark Knight', '12 Years a Slave']"
      ],
      "execution_count": null,
      "outputs": []
    },
    {
      "cell_type": "markdown",
      "metadata": {
        "id": "MdXsUXbCVqAV"
      },
      "source": [
        "# 27. Какие актеры чаще всего снимаются в одном фильме вместе?\n"
      ]
    },
    {
      "cell_type": "code",
      "metadata": {
        "id": "zElwMjCROz6e"
      },
      "source": [
        "data.cast = data.cast.str.split('|', expand=False)\n",
        "\n",
        "data.cast = data.cast.apply(lambda actor: list( combinations( actor, 2 ) ) )\n",
        "\n",
        "data_valid_pairs = data.explode('cast')\n",
        "data_valid_pairs.groupby(\n",
        "    by='cast'\n",
        "    ).count()['imdb_id'\n",
        "            ].sort_values(ascending=False).index[1]\n"
      ],
      "execution_count": null,
      "outputs": []
    },
    {
      "cell_type": "code",
      "metadata": {
        "id": "ctX3ZnQQYr_s"
      },
      "source": [
        "answers ['27'] = ('Daniel Radcliffe', 'Rupert Grint')"
      ],
      "execution_count": null,
      "outputs": []
    },
    {
      "cell_type": "markdown",
      "metadata": {
        "id": "U0nONFnGVqAX"
      },
      "source": [
        "# Submission"
      ]
    },
    {
      "cell_type": "code",
      "metadata": {
        "id": "IfcaRO9-VqAX"
      },
      "source": [
        "answers"
      ],
      "execution_count": null,
      "outputs": []
    },
    {
      "cell_type": "code",
      "metadata": {
        "id": "SiRmHPl8VqAd"
      },
      "source": [
        "# и убедиться что ни чего не пропустил)\n",
        "len(answers)"
      ],
      "execution_count": null,
      "outputs": []
    }
  ]
}