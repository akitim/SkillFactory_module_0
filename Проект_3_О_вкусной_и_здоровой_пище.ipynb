{
  "nbformat": 4,
  "nbformat_minor": 0,
  "metadata": {
    "colab": {
      "name": "Проект 3. О вкусной и здоровой пище",
      "provenance": [],
      "authorship_tag": "ABX9TyNbe1b/il9IR0lRhH7yGNxk",
      "include_colab_link": true
    },
    "kernelspec": {
      "name": "python3",
      "display_name": "Python 3"
    },
    "language_info": {
      "name": "python"
    }
  },
  "cells": [
    {
      "cell_type": "markdown",
      "metadata": {
        "id": "view-in-github",
        "colab_type": "text"
      },
      "source": [
        "<a href=\"https://colab.research.google.com/github/akitim/SkillFactory_projects/blob/main/%D0%9F%D1%80%D0%BE%D0%B5%D0%BA%D1%82_3_%D0%9E_%D0%B2%D0%BA%D1%83%D1%81%D0%BD%D0%BE%D0%B9_%D0%B8_%D0%B7%D0%B4%D0%BE%D1%80%D0%BE%D0%B2%D0%BE%D0%B9_%D0%BF%D0%B8%D1%89%D0%B5.ipynb\" target=\"_parent\"><img src=\"https://colab.research.google.com/assets/colab-badge.svg\" alt=\"Open In Colab\"/></a>"
      ]
    },
    {
      "cell_type": "markdown",
      "metadata": {
        "id": "tf27A7iZTAqI"
      },
      "source": [
        "#Проект 3. О вкусной и здоровой пище"
      ]
    },
    {
      "cell_type": "code",
      "metadata": {
        "id": "RLzILCodS02e"
      },
      "source": [
        "import pandas as pd\n",
        " \n",
        "path = 'https://raw.githubusercontent.com/akitim/datasets/main/main_task_new.csv'\n",
        "rest = pd.read_csv(path)\n",
        " \n",
        "# 2.1 Задание 1\n",
        "# Какие столбцы НЕ содержат пропущенных (None) значений?\n",
        "# rest.info()\n",
        " \n",
        "print('\\nЕсть пропуски в столбцах:\\n',\n",
        "*list(rest.loc[:, rest.apply(pd.isna).any(axis=0)].columns))\n",
        " \n",
        "print('\\nНет пропусков в столбцах:\\n',\n",
        "*list(rest.loc[:, ~rest.apply(pd.isna).any(axis=0)].columns), '\\n')\n",
        " \n",
        "# 2.2 Задание 2\n",
        "#rest.loc[0, :].apply(type) != str\n",
        " \n",
        "# 2.3 Задание 3\n",
        "#Приведение 'кухни' к списку\n",
        "#rest.loc[0, 'Cuisine Style'].split(', ')\n",
        "#[s.replace('[', '').replace(']', '').replace(\"'\", \"\") for s in rest.loc[0, 'Cuisine Style'].split(', ')]\n",
        " \n",
        "rest.columns = ['id', 'city', 'cuisine', 'ranking', 'rating', 'price_range', 'rev_number', 'reviews', 'url_TA', 'id_TA']\n",
        "rest"
      ],
      "execution_count": null,
      "outputs": []
    }
  ]
}