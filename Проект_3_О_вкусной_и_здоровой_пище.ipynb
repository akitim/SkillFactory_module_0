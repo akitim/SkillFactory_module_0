{
  "nbformat": 4,
  "nbformat_minor": 0,
  "metadata": {
    "colab": {
      "name": "Проект 3. О вкусной и здоровой пище",
      "provenance": [],
      "authorship_tag": "ABX9TyP7g6rBSohh92I5tiQ2lSHm",
      "include_colab_link": true
    },
    "kernelspec": {
      "name": "python3",
      "display_name": "Python 3"
    },
    "language_info": {
      "name": "python"
    }
  },
  "cells": [
    {
      "cell_type": "markdown",
      "metadata": {
        "id": "view-in-github",
        "colab_type": "text"
      },
      "source": [
        "<a href=\"https://colab.research.google.com/github/akitim/SkillFactory_projects/blob/main/%D0%9F%D1%80%D0%BE%D0%B5%D0%BA%D1%82_3_%D0%9E_%D0%B2%D0%BA%D1%83%D1%81%D0%BD%D0%BE%D0%B9_%D0%B8_%D0%B7%D0%B4%D0%BE%D1%80%D0%BE%D0%B2%D0%BE%D0%B9_%D0%BF%D0%B8%D1%89%D0%B5.ipynb\" target=\"_parent\"><img src=\"https://colab.research.google.com/assets/colab-badge.svg\" alt=\"Open In Colab\"/></a>"
      ]
    },
    {
      "cell_type": "markdown",
      "metadata": {
        "id": "tf27A7iZTAqI"
      },
      "source": [
        "#Проект 3. О вкусной и здоровой пище"
      ]
    },
    {
      "cell_type": "code",
      "metadata": {
        "id": "UIja0xsGVLSp"
      },
      "source": [
        ""
      ],
      "execution_count": null,
      "outputs": []
    },
    {
      "cell_type": "code",
      "metadata": {
        "id": "jMpXnEUjVLou"
      },
      "source": [
        ""
      ],
      "execution_count": null,
      "outputs": []
    },
    {
      "cell_type": "code",
      "metadata": {
        "id": "RLzILCodS02e"
      },
      "source": [
        "import pandas as pd\n",
        " \n",
        "path = 'https://raw.githubusercontent.com/akitim/datasets/main/main_task_new.csv'\n",
        "rest = pd.read_csv(path)\n",
        " \n",
        "# 2.1 Задание 1\n",
        "# Какие столбцы НЕ содержат пропущенных (None) значений?\n",
        "# rest.info()\n",
        " \n",
        "print('\\nЕсть пропуски в столбцах:\\n',\n",
        "*list(rest.loc[:, rest.apply(pd.isna).any(axis=0)].columns))\n",
        " \n",
        "print('\\nНет пропусков в столбцах:\\n',\n",
        "*list(rest.loc[:, ~rest.apply(pd.isna).any(axis=0)].columns), '\\n')\n",
        " \n",
        "# 2.2 Задание 2\n",
        "#rest.loc[0, :].apply(type) != str\n",
        " \n",
        "# 2.3 Задание 3\n",
        "#Приведение 'кухни' к списку\n",
        "#rest.loc[0, 'Cuisine Style'].split(', ')\n",
        "#[s.replace('[', '').replace(']', '').replace(\"'\", \"\") for s in rest.loc[0, 'Cuisine Style'].split(', ')]\n",
        " \n",
        "rest.columns = ['id', 'city', 'cuisine', 'ranking', 'rating', 'price_range', 'rev_number', 'reviews', 'url_TA', 'id_TA']\n",
        "rest"
      ],
      "execution_count": null,
      "outputs": []
    },
    {
      "cell_type": "code",
      "metadata": {
        "id": "6pIki74OVMA0"
      },
      "source": [
        "#Предобработка\n",
        "# rest.loc[0, :].apply(type)\n",
        "# rest.dropna(axis=0, inplace=True)\n",
        "\n",
        "rest.loc[:, 'cuisine'] =\\\n",
        "rest.loc[:, 'cuisine'].apply(\n",
        "    lambda cuisine_list_for_id: \\\n",
        "        [s.replace(\"'\", \"\") for s in cuisine_list_for_id[2:-2].split(', ')]\\\n",
        "            if not(pd.isna(cuisine_list_for_id)) else []\n",
        "            )\n",
        "\n",
        "            # rest.loc[0, 'Cuisine Style'][0]\n",
        "            # rest.get_dummies()\n",
        "            rest"
      ],
      "execution_count": null,
      "outputs": []
    },
    {
      "cell_type": "code",
      "metadata": {
        "id": "dIAXd3bpVSbU"
      },
      "source": [
        "# pd.get_dummies(rest, columns=['Cuisine Style'])\n",
        "# rest.loc[rest.loc[:, 'Cuisine Style'].apply(lambda r: pd.isna(r)), 'Cuisine Style']\n",
        "\n",
        "mean_NoR = rest.loc[:, 'Number of Reviews'].mean()\n",
        "rest.loc[:, 'Number of Reviews'] = \\\n",
        "rest.loc[:, 'Number of Reviews'].apply(lambda r: r if not(pd.isna(r)) else mean_NoR)\n",
        "\n",
        "\n",
        "\n",
        "rest_m = rest.loc[:, ['Ranking', 'Number of Reviews']]\n",
        "\n",
        "\n"
      ],
      "execution_count": null,
      "outputs": []
    },
    {
      "cell_type": "code",
      "metadata": {
        "id": "15jCKLuKVmeH"
      },
      "source": [
        ""
      ],
      "execution_count": null,
      "outputs": []
    },
    {
      "cell_type": "code",
      "metadata": {
        "id": "5Hdt8UphVTWj"
      },
      "source": [
        "# Разбиваем датафрейм на части, необходимые для обучения и тестирования модели  \n",
        "    # Х - данные с информацией о ресторанах, у - целевая переменная (рейтинги ресторанов)  \n",
        "# X = rest.drop(['Restaurant_id', 'Rating'], axis = 1)  \n",
        "X = rest_m\n",
        "y = rest.loc[:, 'Rating']\n",
        "      \n",
        "    # Загружаем специальный инструмент для разбивки:  \n",
        "from sklearn.model_selection import train_test_split  \n",
        "      \n",
        "    # Наборы данных с меткой \"train\" будут использоваться для обучения модели, \"test\" - для тестирования.  \n",
        "    # Для тестирования мы будем использовать 25% от исходного датасета.  \n",
        "X_train, X_test, y_train, y_test = train_test_split(X, y, test_size=0.25)\n",
        "    \n",
        "# Импортируем необходимые библиотеки:  \n",
        "from sklearn.ensemble import RandomForestRegressor # инструмент для создания и обучения модели  \n",
        "from sklearn import metrics # инструменты для оценки точности модели  \n",
        "      \n",
        "    # Создаём модель  \n",
        "regr = RandomForestRegressor(n_estimators=100)  \n",
        "      \n",
        "    # Обучаем модель на тестовом наборе данных  \n",
        "regr.fit(X_train, y_train)  \n",
        "      \n",
        "    # Используем обученную модель для предсказания рейтинга ресторанов в тестовой выборке.  \n",
        "    # Предсказанные значения записываем в переменную y_pred  \n",
        "y_pred = regr.predict(X_test)  \n",
        " \n",
        "# Сравниваем предсказанные значения (y_pred) с реальными (y_test), и смотрим насколько они в среднем отличаются  \n",
        "    # Метрика называется Mean Absolute Error (MAE) и показывает среднее отклонение предсказанных значений от фактических.  \n",
        "print('MAE:', metrics.mean_absolute_error(y_test, y_pred))"
      ],
      "execution_count": null,
      "outputs": []
    }
  ]
}