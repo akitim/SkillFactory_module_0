{
  "nbformat": 4,
  "nbformat_minor": 0,
  "metadata": {
    "colab": {
      "name": "Проект 3. О вкусной и здоровой пище",
      "provenance": [],
      "include_colab_link": true
    },
    "kernelspec": {
      "name": "python3",
      "display_name": "Python 3"
    },
    "language_info": {
      "name": "python"
    }
  },
  "cells": [
    {
      "cell_type": "markdown",
      "metadata": {
        "id": "view-in-github",
        "colab_type": "text"
      },
      "source": [
        "<a href=\"https://colab.research.google.com/github/akitim/SkillFactory_projects/blob/main/%D0%9F%D1%80%D0%BE%D0%B5%D0%BA%D1%82_3_%D0%9E_%D0%B2%D0%BA%D1%83%D1%81%D0%BD%D0%BE%D0%B9_%D0%B8_%D0%B7%D0%B4%D0%BE%D1%80%D0%BE%D0%B2%D0%BE%D0%B9_%D0%BF%D0%B8%D1%89%D0%B5.ipynb\" target=\"_parent\"><img src=\"https://colab.research.google.com/assets/colab-badge.svg\" alt=\"Open In Colab\"/></a>"
      ]
    },
    {
      "cell_type": "markdown",
      "metadata": {
        "id": "tf27A7iZTAqI"
      },
      "source": [
        "#Проект 3. О вкусной и здоровой пище"
      ]
    },
    {
      "cell_type": "code",
      "metadata": {
        "id": "RLzILCodS02e",
        "colab": {
          "base_uri": "https://localhost:8080/",
          "height": 449
        },
        "outputId": "5e0a3f12-414d-4ac8-cf97-68a43e293ca4"
      },
      "source": [
        "import pandas as pd\n",
        " \n",
        "path = 'https://raw.githubusercontent.com/akitim/datasets/main/main_task_new.csv'\n",
        "rest = pd.read_csv(path)\n",
        " \n",
        "# 2.1 Задание 1\n",
        "# Какие столбцы НЕ содержат пропущенных (None) значений?\n",
        "# rest.info()\n",
        " \n",
        "print('\\nЕсть пропуски в столбцах:\\n',\n",
        "*list(rest.loc[:, rest.apply(pd.isna).any(axis=0)].columns))\n",
        " \n",
        "print('\\nНет пропусков в столбцах:\\n',\n",
        "*list(rest.loc[:, ~rest.apply(pd.isna).any(axis=0)].columns), '\\n')\n",
        " \n",
        "# 2.2 Задание 2\n",
        "#rest.loc[0, :].apply(type) != str\n",
        " \n",
        "# 2.3 Задание 3\n",
        "#Приведение 'кухни' к списку\n",
        "#rest.loc[0, 'Cuisine Style'].split(', ')\n",
        "#[s.replace('[', '').replace(']', '').replace(\"'\", \"\") for s in rest.loc[0, 'Cuisine Style'].split(', ')]\n",
        " \n",
        "rest.columns = ['id', 'city', 'cuisine', 'ranking', 'rating', 'price_range', 'rev_number', 'reviews', 'url_TA', 'id_TA']\n",
        "rest.head(5)"
      ],
      "execution_count": null,
      "outputs": [
        {
          "output_type": "stream",
          "name": "stdout",
          "text": [
            "\n",
            "Есть пропуски в столбцах:\n",
            " Cuisine Style Price Range Number of Reviews\n",
            "\n",
            "Нет пропусков в столбцах:\n",
            " Restaurant_id City Ranking Rating Reviews URL_TA ID_TA \n",
            "\n"
          ]
        },
        {
          "output_type": "execute_result",
          "data": {
            "text/html": [
              "<div>\n",
              "<style scoped>\n",
              "    .dataframe tbody tr th:only-of-type {\n",
              "        vertical-align: middle;\n",
              "    }\n",
              "\n",
              "    .dataframe tbody tr th {\n",
              "        vertical-align: top;\n",
              "    }\n",
              "\n",
              "    .dataframe thead th {\n",
              "        text-align: right;\n",
              "    }\n",
              "</style>\n",
              "<table border=\"1\" class=\"dataframe\">\n",
              "  <thead>\n",
              "    <tr style=\"text-align: right;\">\n",
              "      <th></th>\n",
              "      <th>id</th>\n",
              "      <th>city</th>\n",
              "      <th>cuisine</th>\n",
              "      <th>ranking</th>\n",
              "      <th>rating</th>\n",
              "      <th>price_range</th>\n",
              "      <th>rev_number</th>\n",
              "      <th>reviews</th>\n",
              "      <th>url_TA</th>\n",
              "      <th>id_TA</th>\n",
              "    </tr>\n",
              "  </thead>\n",
              "  <tbody>\n",
              "    <tr>\n",
              "      <th>0</th>\n",
              "      <td>id_5569</td>\n",
              "      <td>Paris</td>\n",
              "      <td>['European', 'French', 'International']</td>\n",
              "      <td>5570.0</td>\n",
              "      <td>3.5</td>\n",
              "      <td>$$ - $$$</td>\n",
              "      <td>194.0</td>\n",
              "      <td>[['Good food at your doorstep', 'A good hotel ...</td>\n",
              "      <td>/Restaurant_Review-g187147-d1912643-Reviews-R_...</td>\n",
              "      <td>d1912643</td>\n",
              "    </tr>\n",
              "    <tr>\n",
              "      <th>1</th>\n",
              "      <td>id_1535</td>\n",
              "      <td>Stockholm</td>\n",
              "      <td>NaN</td>\n",
              "      <td>1537.0</td>\n",
              "      <td>4.0</td>\n",
              "      <td>NaN</td>\n",
              "      <td>10.0</td>\n",
              "      <td>[['Unique cuisine', 'Delicious Nepalese food']...</td>\n",
              "      <td>/Restaurant_Review-g189852-d7992032-Reviews-Bu...</td>\n",
              "      <td>d7992032</td>\n",
              "    </tr>\n",
              "    <tr>\n",
              "      <th>2</th>\n",
              "      <td>id_352</td>\n",
              "      <td>London</td>\n",
              "      <td>['Japanese', 'Sushi', 'Asian', 'Grill', 'Veget...</td>\n",
              "      <td>353.0</td>\n",
              "      <td>4.5</td>\n",
              "      <td>$$$$</td>\n",
              "      <td>688.0</td>\n",
              "      <td>[['Catch up with friends', 'Not exceptional'],...</td>\n",
              "      <td>/Restaurant_Review-g186338-d8632781-Reviews-RO...</td>\n",
              "      <td>d8632781</td>\n",
              "    </tr>\n",
              "    <tr>\n",
              "      <th>3</th>\n",
              "      <td>id_3456</td>\n",
              "      <td>Berlin</td>\n",
              "      <td>NaN</td>\n",
              "      <td>3458.0</td>\n",
              "      <td>5.0</td>\n",
              "      <td>NaN</td>\n",
              "      <td>3.0</td>\n",
              "      <td>[[], []]</td>\n",
              "      <td>/Restaurant_Review-g187323-d1358776-Reviews-Es...</td>\n",
              "      <td>d1358776</td>\n",
              "    </tr>\n",
              "    <tr>\n",
              "      <th>4</th>\n",
              "      <td>id_615</td>\n",
              "      <td>Munich</td>\n",
              "      <td>['German', 'Central European', 'Vegetarian Fri...</td>\n",
              "      <td>621.0</td>\n",
              "      <td>4.0</td>\n",
              "      <td>$$ - $$$</td>\n",
              "      <td>84.0</td>\n",
              "      <td>[['Best place to try a Bavarian food', 'Nice b...</td>\n",
              "      <td>/Restaurant_Review-g187309-d6864963-Reviews-Au...</td>\n",
              "      <td>d6864963</td>\n",
              "    </tr>\n",
              "  </tbody>\n",
              "</table>\n",
              "</div>"
            ],
            "text/plain": [
              "        id  ...     id_TA\n",
              "0  id_5569  ...  d1912643\n",
              "1  id_1535  ...  d7992032\n",
              "2   id_352  ...  d8632781\n",
              "3  id_3456  ...  d1358776\n",
              "4   id_615  ...  d6864963\n",
              "\n",
              "[5 rows x 10 columns]"
            ]
          },
          "metadata": {},
          "execution_count": 30
        }
      ]
    },
    {
      "cell_type": "markdown",
      "metadata": {
        "id": "Z_V_JRAwyNKY"
      },
      "source": [
        "#Ответы на вопросы заданий"
      ]
    },
    {
      "cell_type": "code",
      "metadata": {
        "colab": {
          "base_uri": "https://localhost:8080/"
        },
        "id": "AHmglre4e1FH",
        "outputId": "9941bc84-db5d-4cbd-942f-fa0164753cfb"
      },
      "source": [
        "import pandas as pd\n",
        "import numpy as np\n",
        "# rest.loc[0:100, 'reviews'].to_list()\n",
        "path = 'https://raw.githubusercontent.com/akitim/datasets/main/main_task_new.csv'\n",
        "rest = pd.read_csv(path)\n",
        "\n",
        "rest.columns = ['id', 'city', 'cuisine', 'ranking', 'rating', 'price_range', 'rev_number', 'reviews', 'url_TA', 'id_TA']\n",
        "\n",
        "# 4.1 Вопросы о ценах\n",
        "rest.loc[:, 'price_range'].dropna().unique()\n",
        "rest.loc[rest.loc[:, 'price_range'] == '$$ - $$$', 'price_range'].count()\n",
        "\n",
        "# 4.2 Вопрос о городах\n",
        "len(rest.loc[:, 'city'].unique())\n",
        "\n",
        "# 4.3 Вопросы о кухнях\n",
        "rest.loc[:, 'cuisine'] =\\\n",
        "rest.loc[:, 'cuisine'].fillna(value='[]').apply(\n",
        "    lambda cuisine_list_for_id: \\\n",
        "    [s.replace(\"'\", \"\") for s in cuisine_list_for_id[2:-2].split(', ')]\\\n",
        ")\n",
        "\n",
        "cuisine_list = []\n",
        "for x in rest.loc[:, 'cuisine']:\n",
        "    cuisine_list += x\n",
        "len(set(cuisine_list).difference(set([''])))\n",
        "\n",
        "from collections import Counter\n",
        "Counter(cuisine_list).most_common(1)[0][0]\n",
        "\n",
        "round(\n",
        "    rest.loc[:, 'cuisine'].apply(lambda x: len(x) if x != [] else 1).mean(),\n",
        "    1\n",
        ")\n",
        "\n",
        "# 4.4 Вопросы об отзывах\n",
        "import re\n",
        "from datetime import datetime as dat\n",
        "\n",
        "def rev_dates(s):\n",
        "    date_regex = re.compile(r'(\\d+/\\d+/\\d+)') # компилируем регулярку для поиска дат в формате dd/mm/YYYY\n",
        "    str_date_ls = date_regex.findall(s)\n",
        "    if str_date_ls != []:\n",
        "        # str_date_ls = date_regex.findall(s)\n",
        "        enum = list(enumerate(str_date_ls))\n",
        "        # f = ['%m/%d/%Y' if int(str_date_ls[0][0:2].replace('/', '')) <= 12 else '%d/%m/%Y',\n",
        "        #      '%m/%d/%Y' if int(str_date_ls[1][0:2].replace('/', '')) <= 12 else '%d/%m/%Y']\n",
        "        f = ['%m/%d/%Y' if int(e[1][0:2].replace('/', '')) <= 12 else '%d/%m/%Y' for e in enum]\n",
        "        return [dat.strptime(e[1], f[e[0]]) for e in enum] #dat.strptime(str_date_ls[0], f[0])\n",
        "    else:\n",
        "        return [dat(1970, 1, 1, 0, 0)] #strftime('%m/%d/%Y', '01/01/1970')\n",
        "\n",
        "# когда был оставлен самый свежий отзыв? Введите ответ в формате yyyy-mm-dd.\n",
        "most_recent_rev_date =\\\n",
        "rest.loc[:, 'reviews'].apply(lambda s: rev_dates(s)[0]).max()\n",
        "dat.strftime(most_recent_rev_date, '%Y-%m-%d') #->2018-02-26\n",
        "\n",
        "# Какое максимальное количество дней отделяет даты публикации отзывов,\n",
        "# размещённых на сайте ресторана? Введите количество дней в виде целого числа.\n",
        "def last_rev_date_delta(dates):\n",
        "    if len(dates) >= 3:\n",
        "        return abs(dates[2] - dates[1])\n",
        "    else:\n",
        "        return abs(dates[0] - dates[-1])\n",
        "\n",
        "# добавляем в данные столбец с кол-вом дней между двумя последними отзывами\n",
        "rest.loc[:, 'delta'] =\\\n",
        "rest.loc[:, 'reviews'].apply(lambda s: last_rev_date_delta(rev_dates(s))) #.sort_values(ascending=False)\n",
        "# rest['delta'].dt.days.astype(int).hist(log=True, bins=50);\n",
        "\n",
        "#считаем кол-во кухонь в меню ресторана\n",
        "rest.loc[:, 'n_of_cuisines'] = rest.loc[:, 'cuisine'].apply(len)\n",
        "# rest.loc[:, 'n_of_cuisines'].hist(log=True, bins=50);\n",
        "\n",
        "rest.loc[:, 'city'].unique()\n",
        "population = {'Paris': 2176, 'Stockholm': 1656, 'London': 10840, 'Berlin': 3664, 'Munich': 1553, 'Oporto': 232,\n",
        "       'Milan': 3144, 'Bratislava': 433, 'Vienna': 1911, 'Rome': 2860, 'Barcelona':1620, 'Madrid': 3223,\n",
        "       'Dublin':555, 'Brussels': 1209, 'Zurich':415, 'Warsaw':1794, 'Budapest': 1752, 'Copenhagen': 799,\n",
        "       'Amsterdam': 873, 'Lyon': 516, 'Hamburg': 1899, 'Lisbon': 507, 'Prague': 1324, 'Oslo': 697,\n",
        "       'Helsinki': 658, 'Edinburgh':488, 'Geneva': 202, 'Ljubljana': 296, 'Athens': 664,\n",
        "       'Luxembourg': 125, 'Krakow': 781}\n",
        "population\n",
        "\n",
        "# Какие признаки возьмем в модель?\n",
        "# - кол-во дней между двумя последними отзывами +\n",
        "# - кол-во кухонь, представленных в ресторане +\n",
        "# - население города, в котором расположен ресторан"
      ],
      "execution_count": 7,
      "outputs": [
        {
          "output_type": "execute_result",
          "data": {
            "text/plain": [
              "{'Amsterdam': 873,\n",
              " 'Athens': 664,\n",
              " 'Barcelona': 1620,\n",
              " 'Berlin': 3664,\n",
              " 'Bratislava': 433,\n",
              " 'Brussels': 1209,\n",
              " 'Budapest': 1752,\n",
              " 'Copenhagen': 799,\n",
              " 'Dublin': 555,\n",
              " 'Edinburgh': 488,\n",
              " 'Geneva': 202,\n",
              " 'Hamburg': 1899,\n",
              " 'Helsinki': 658,\n",
              " 'Krakow': 781,\n",
              " 'Lisbon': 507,\n",
              " 'Ljubljana': 296,\n",
              " 'London': 10840,\n",
              " 'Luxembourg': 125,\n",
              " 'Lyon': 516,\n",
              " 'Madrid': 3223,\n",
              " 'Milan': 3144,\n",
              " 'Munich': 1553,\n",
              " 'Oporto': 232,\n",
              " 'Oslo': 697,\n",
              " 'Paris': 2176,\n",
              " 'Prague': 1324,\n",
              " 'Rome': 2860,\n",
              " 'Stockholm': 1656,\n",
              " 'Vienna': 1911,\n",
              " 'Warsaw': 1794,\n",
              " 'Zurich': 415}"
            ]
          },
          "metadata": {},
          "execution_count": 7
        }
      ]
    },
    {
      "cell_type": "markdown",
      "metadata": {
        "id": "xPEEJg8QyVIn"
      },
      "source": [
        "#Черновик 1"
      ]
    },
    {
      "cell_type": "code",
      "metadata": {
        "id": "QF1rMtL2IyYE",
        "colab": {
          "base_uri": "https://localhost:8080/"
        },
        "outputId": "34960103-d76c-4628-ae3d-5f1a7ebb3a3e"
      },
      "source": [
        "# import re\n",
        "# from datetime import datetime as dat\n",
        "\n",
        "# date_regex.findall(s)[0][0:2] <\\\n",
        "# date_regex.findall(s)[0][3:5] #->11 #->18\n",
        "\n",
        "st = \"[['Best place to try a Bavarian food', 'Nice building but improvements need to be...'], ['11/18/2017', '02/19/2017']]\"\n",
        "# rev_date(s)\n",
        "# date_regex = re.compile(r'(\\d+/\\d+/\\d+)') # компилируем регулярку для поиска дат в формате dd/mm/YYYY\n",
        "# str_date_ls = date_regex.findall(st)\n",
        "\n",
        "# r\n",
        "\n",
        "# rev_dates(st)\n",
        "# str_date_ls, f, enum\n",
        "\n",
        "# se = rest.loc[:, 'reviews'].apply(lambda s: len(rev_dates(s)))\n",
        "# rest[se==1]['reviews']\n",
        "# rest.loc[[9254, 23348], 'reviews'].to_list()\n",
        "# rest.loc[rest.loc[:, 'reviews'].apply(lambda s: (\"'], ['\" in s) or (s == \"[[], []]\")), 'reviews'].index.to_list()\n",
        "# se = rest.loc[:, 'reviews'].apply(lambda s: s.count('['))\n",
        "# rest[se!=3]['reviews'].to_list()\n",
        "\n",
        "se = rest.loc[:, 'reviews'].apply(lambda s: len(rev_dates(s)))\n",
        "rest[se==1]['reviews']\n",
        "rest.loc[[9254, 23348], 'reviews'].to_list()\n",
        "rest.loc[rest.loc[:, 'reviews'].apply(lambda s: (\"'], ['\" in s) or (s == \"[[], []]\")), 'reviews'].index.to_list()\n",
        "se = rest.loc[:, 'reviews'].apply(lambda s: s.count('['))\n",
        "rest[se!=3]['reviews'].to_list()"
      ],
      "execution_count": null,
      "outputs": [
        {
          "output_type": "execute_result",
          "data": {
            "text/plain": [
              "[\"[['Good food, attentive staff', 'Sternstraße 125, Schanzenviertel, [59], ju...'], ['05/10/2015', '07/05/2014']]\",\n",
              " \"[['Nice lunch for a hungry group[ of travelle...', 'Tasty salad and sandwich'], ['10/24/2017', '01/12/2017']]\",\n",
              " \"[['Veramente Italiano [Really Italian]', 'Lunch on a Sunday'], ['12/11/2017', '11/19/2017']]\"]"
            ]
          },
          "metadata": {},
          "execution_count": 38
        }
      ]
    },
    {
      "cell_type": "code",
      "metadata": {
        "id": "6pIki74OVMA0",
        "colab": {
          "base_uri": "https://localhost:8080/",
          "height": 415
        },
        "outputId": "077ecb47-e490-4c44-d464-64a8c419d76c"
      },
      "source": [
        "#Предобработка\n",
        "# rest.loc[0, :].apply(type)\n",
        "# rest.dropna(axis=0, inplace=True)\n",
        "\n",
        "rest.loc[:, 'cuisine'] =\\\n",
        "rest.loc[:, 'cuisine'].apply(\n",
        "    lambda cuisine_list_for_id: \\\n",
        "        [s.replace(\"'\", \"\") for s in cuisine_list_for_id[2:-2].split(', ')]\\\n",
        "            if not(pd.isna(cuisine_list_for_id)) else []\n",
        ")\n",
        "\n",
        "            # rest.loc[0, 'Cuisine Style'][0]\n",
        "            # rest.get_dummies()\n",
        "rest"
      ],
      "execution_count": null,
      "outputs": [
        {
          "output_type": "error",
          "ename": "ValueError",
          "evalue": "ignored",
          "traceback": [
            "\u001b[0;31m---------------------------------------------------------------------------\u001b[0m",
            "\u001b[0;31mValueError\u001b[0m                                Traceback (most recent call last)",
            "\u001b[0;32m<ipython-input-16-5c30f964fd2a>\u001b[0m in \u001b[0;36m<module>\u001b[0;34m()\u001b[0m\n\u001b[1;32m      4\u001b[0m \u001b[0;34m\u001b[0m\u001b[0m\n\u001b[1;32m      5\u001b[0m rest.loc[:, 'cuisine'] =rest.loc[:, 'cuisine'].apply(\n\u001b[0;32m----> 6\u001b[0;31m     \u001b[0;32mlambda\u001b[0m \u001b[0mcuisine_list_for_id\u001b[0m\u001b[0;34m:\u001b[0m\u001b[0;31m \u001b[0m\u001b[0;31m\\\u001b[0m\u001b[0;34m\u001b[0m\u001b[0;34m\u001b[0m\u001b[0m\n\u001b[0m\u001b[1;32m      7\u001b[0m         \u001b[0;34m[\u001b[0m\u001b[0ms\u001b[0m\u001b[0;34m.\u001b[0m\u001b[0mreplace\u001b[0m\u001b[0;34m(\u001b[0m\u001b[0;34m\"'\"\u001b[0m\u001b[0;34m,\u001b[0m \u001b[0;34m\"\"\u001b[0m\u001b[0;34m)\u001b[0m \u001b[0;32mfor\u001b[0m \u001b[0ms\u001b[0m \u001b[0;32min\u001b[0m \u001b[0mcuisine_list_for_id\u001b[0m\u001b[0;34m[\u001b[0m\u001b[0;36m2\u001b[0m\u001b[0;34m:\u001b[0m\u001b[0;34m-\u001b[0m\u001b[0;36m2\u001b[0m\u001b[0;34m]\u001b[0m\u001b[0;34m.\u001b[0m\u001b[0msplit\u001b[0m\u001b[0;34m(\u001b[0m\u001b[0;34m', '\u001b[0m\u001b[0;34m)\u001b[0m\u001b[0;34m]\u001b[0m\u001b[0;31m\\\u001b[0m\u001b[0;34m\u001b[0m\u001b[0;34m\u001b[0m\u001b[0m\n\u001b[1;32m      8\u001b[0m             \u001b[0;32mif\u001b[0m \u001b[0;32mnot\u001b[0m\u001b[0;34m(\u001b[0m\u001b[0mpd\u001b[0m\u001b[0;34m.\u001b[0m\u001b[0misna\u001b[0m\u001b[0;34m(\u001b[0m\u001b[0mcuisine_list_for_id\u001b[0m\u001b[0;34m)\u001b[0m\u001b[0;34m)\u001b[0m \u001b[0;32melse\u001b[0m \u001b[0;34m[\u001b[0m\u001b[0;34m]\u001b[0m\u001b[0;34m\u001b[0m\u001b[0;34m\u001b[0m\u001b[0m\n",
            "\u001b[0;32m/usr/local/lib/python3.7/dist-packages/pandas/core/series.py\u001b[0m in \u001b[0;36mapply\u001b[0;34m(self, func, convert_dtype, args, **kwds)\u001b[0m\n\u001b[1;32m   4211\u001b[0m             \u001b[0;32melse\u001b[0m\u001b[0;34m:\u001b[0m\u001b[0;34m\u001b[0m\u001b[0;34m\u001b[0m\u001b[0m\n\u001b[1;32m   4212\u001b[0m                 \u001b[0mvalues\u001b[0m \u001b[0;34m=\u001b[0m \u001b[0mself\u001b[0m\u001b[0;34m.\u001b[0m\u001b[0mastype\u001b[0m\u001b[0;34m(\u001b[0m\u001b[0mobject\u001b[0m\u001b[0;34m)\u001b[0m\u001b[0;34m.\u001b[0m\u001b[0m_values\u001b[0m\u001b[0;34m\u001b[0m\u001b[0;34m\u001b[0m\u001b[0m\n\u001b[0;32m-> 4213\u001b[0;31m                 \u001b[0mmapped\u001b[0m \u001b[0;34m=\u001b[0m \u001b[0mlib\u001b[0m\u001b[0;34m.\u001b[0m\u001b[0mmap_infer\u001b[0m\u001b[0;34m(\u001b[0m\u001b[0mvalues\u001b[0m\u001b[0;34m,\u001b[0m \u001b[0mf\u001b[0m\u001b[0;34m,\u001b[0m \u001b[0mconvert\u001b[0m\u001b[0;34m=\u001b[0m\u001b[0mconvert_dtype\u001b[0m\u001b[0;34m)\u001b[0m\u001b[0;34m\u001b[0m\u001b[0;34m\u001b[0m\u001b[0m\n\u001b[0m\u001b[1;32m   4214\u001b[0m \u001b[0;34m\u001b[0m\u001b[0m\n\u001b[1;32m   4215\u001b[0m         \u001b[0;32mif\u001b[0m \u001b[0mlen\u001b[0m\u001b[0;34m(\u001b[0m\u001b[0mmapped\u001b[0m\u001b[0;34m)\u001b[0m \u001b[0;32mand\u001b[0m \u001b[0misinstance\u001b[0m\u001b[0;34m(\u001b[0m\u001b[0mmapped\u001b[0m\u001b[0;34m[\u001b[0m\u001b[0;36m0\u001b[0m\u001b[0;34m]\u001b[0m\u001b[0;34m,\u001b[0m \u001b[0mSeries\u001b[0m\u001b[0;34m)\u001b[0m\u001b[0;34m:\u001b[0m\u001b[0;34m\u001b[0m\u001b[0;34m\u001b[0m\u001b[0m\n",
            "\u001b[0;32mpandas/_libs/lib.pyx\u001b[0m in \u001b[0;36mpandas._libs.lib.map_infer\u001b[0;34m()\u001b[0m\n",
            "\u001b[0;32m<ipython-input-16-5c30f964fd2a>\u001b[0m in \u001b[0;36m<lambda>\u001b[0;34m(cuisine_list_for_id)\u001b[0m\n\u001b[1;32m      6\u001b[0m     \u001b[0;32mlambda\u001b[0m \u001b[0mcuisine_list_for_id\u001b[0m\u001b[0;34m:\u001b[0m\u001b[0;31m \u001b[0m\u001b[0;31m\\\u001b[0m\u001b[0;34m\u001b[0m\u001b[0;34m\u001b[0m\u001b[0m\n\u001b[1;32m      7\u001b[0m         \u001b[0;34m[\u001b[0m\u001b[0ms\u001b[0m\u001b[0;34m.\u001b[0m\u001b[0mreplace\u001b[0m\u001b[0;34m(\u001b[0m\u001b[0;34m\"'\"\u001b[0m\u001b[0;34m,\u001b[0m \u001b[0;34m\"\"\u001b[0m\u001b[0;34m)\u001b[0m \u001b[0;32mfor\u001b[0m \u001b[0ms\u001b[0m \u001b[0;32min\u001b[0m \u001b[0mcuisine_list_for_id\u001b[0m\u001b[0;34m[\u001b[0m\u001b[0;36m2\u001b[0m\u001b[0;34m:\u001b[0m\u001b[0;34m-\u001b[0m\u001b[0;36m2\u001b[0m\u001b[0;34m]\u001b[0m\u001b[0;34m.\u001b[0m\u001b[0msplit\u001b[0m\u001b[0;34m(\u001b[0m\u001b[0;34m', '\u001b[0m\u001b[0;34m)\u001b[0m\u001b[0;34m]\u001b[0m\u001b[0;31m\\\u001b[0m\u001b[0;34m\u001b[0m\u001b[0;34m\u001b[0m\u001b[0m\n\u001b[0;32m----> 8\u001b[0;31m             \u001b[0;32mif\u001b[0m \u001b[0;32mnot\u001b[0m\u001b[0;34m(\u001b[0m\u001b[0mpd\u001b[0m\u001b[0;34m.\u001b[0m\u001b[0misna\u001b[0m\u001b[0;34m(\u001b[0m\u001b[0mcuisine_list_for_id\u001b[0m\u001b[0;34m)\u001b[0m\u001b[0;34m)\u001b[0m \u001b[0;32melse\u001b[0m \u001b[0;34m[\u001b[0m\u001b[0;34m]\u001b[0m\u001b[0;34m\u001b[0m\u001b[0;34m\u001b[0m\u001b[0m\n\u001b[0m\u001b[1;32m      9\u001b[0m )\n\u001b[1;32m     10\u001b[0m \u001b[0;34m\u001b[0m\u001b[0m\n",
            "\u001b[0;31mValueError\u001b[0m: The truth value of an array with more than one element is ambiguous. Use a.any() or a.all()"
          ]
        }
      ]
    },
    {
      "cell_type": "markdown",
      "metadata": {
        "id": "L0RX9z2oyZ05"
      },
      "source": [
        "#Черновик 2"
      ]
    },
    {
      "cell_type": "code",
      "metadata": {
        "id": "dIAXd3bpVSbU"
      },
      "source": [
        "# pd.get_dummies(rest, columns=['Cuisine Style'])\n",
        "# rest.loc[rest.loc[:, 'Cuisine Style'].apply(lambda r: pd.isna(r)), 'Cuisine Style']\n",
        "\n",
        "mean_NoR = rest.loc[:, 'Number of Reviews'].mean()\n",
        "rest.loc[:, 'Number of Reviews'] = \\\n",
        "rest.loc[:, 'Number of Reviews'].apply(lambda r: r if not(pd.isna(r)) else mean_NoR)\n",
        "\n",
        "rest_m = rest.loc[:, ['Ranking', 'Number of Reviews']]\n"
      ],
      "execution_count": null,
      "outputs": []
    },
    {
      "cell_type": "code",
      "metadata": {
        "id": "15jCKLuKVmeH"
      },
      "source": [
        ""
      ],
      "execution_count": null,
      "outputs": []
    },
    {
      "cell_type": "markdown",
      "metadata": {
        "id": "55EXBsyayd0N"
      },
      "source": [
        "# Создаём, обучаем и тестируем модель"
      ]
    },
    {
      "cell_type": "code",
      "metadata": {
        "id": "5Hdt8UphVTWj"
      },
      "source": [
        "# Разбиваем датафрейм на части, необходимые для обучения и тестирования модели  \n",
        "    # Х - данные с информацией о ресторанах, у - целевая переменная (рейтинги ресторанов)  \n",
        "# X = rest.drop(['Restaurant_id', 'Rating'], axis = 1)  \n",
        "X = rest_m\n",
        "y = rest.loc[:, 'Rating']\n",
        "      \n",
        "    # Загружаем специальный инструмент для разбивки:  \n",
        "from sklearn.model_selection import train_test_split  \n",
        "      \n",
        "    # Наборы данных с меткой \"train\" будут использоваться для обучения модели, \"test\" - для тестирования.  \n",
        "    # Для тестирования мы будем использовать 25% от исходного датасета.  \n",
        "X_train, X_test, y_train, y_test = train_test_split(X, y, test_size=0.25)\n",
        "    \n",
        "# Импортируем необходимые библиотеки:  \n",
        "from sklearn.ensemble import RandomForestRegressor # инструмент для создания и обучения модели  \n",
        "from sklearn import metrics # инструменты для оценки точности модели  \n",
        "      \n",
        "    # Создаём модель  \n",
        "regr = RandomForestRegressor(n_estimators=100)  \n",
        "      \n",
        "    # Обучаем модель на тестовом наборе данных  \n",
        "regr.fit(X_train, y_train)  \n",
        "      \n",
        "    # Используем обученную модель для предсказания рейтинга ресторанов в тестовой выборке.  \n",
        "    # Предсказанные значения записываем в переменную y_pred  \n",
        "y_pred = regr.predict(X_test)  \n",
        " \n",
        "# Сравниваем предсказанные значения (y_pred) с реальными (y_test), и смотрим насколько они в среднем отличаются  \n",
        "    # Метрика называется Mean Absolute Error (MAE) и показывает среднее отклонение предсказанных значений от фактических.  \n",
        "print('MAE:', metrics.mean_absolute_error(y_test, y_pred))"
      ],
      "execution_count": null,
      "outputs": []
    }
  ]
}