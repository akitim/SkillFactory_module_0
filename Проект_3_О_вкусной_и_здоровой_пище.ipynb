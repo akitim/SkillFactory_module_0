{
  "nbformat": 4,
  "nbformat_minor": 0,
  "metadata": {
    "colab": {
      "name": "Проект 3. О вкусной и здоровой пище",
      "provenance": [],
      "toc_visible": true,
      "include_colab_link": true
    },
    "kernelspec": {
      "name": "python3",
      "display_name": "Python 3"
    },
    "language_info": {
      "name": "python"
    }
  },
  "cells": [
    {
      "cell_type": "markdown",
      "metadata": {
        "id": "view-in-github",
        "colab_type": "text"
      },
      "source": [
        "<a href=\"https://colab.research.google.com/github/akitim/SkillFactory_projects/blob/main/%D0%9F%D1%80%D0%BE%D0%B5%D0%BA%D1%82_3_%D0%9E_%D0%B2%D0%BA%D1%83%D1%81%D0%BD%D0%BE%D0%B9_%D0%B8_%D0%B7%D0%B4%D0%BE%D1%80%D0%BE%D0%B2%D0%BE%D0%B9_%D0%BF%D0%B8%D1%89%D0%B5.ipynb\" target=\"_parent\"><img src=\"https://colab.research.google.com/assets/colab-badge.svg\" alt=\"Open In Colab\"/></a>"
      ]
    },
    {
      "cell_type": "markdown",
      "metadata": {
        "id": "tf27A7iZTAqI"
      },
      "source": [
        "#Проект 3. О вкусной и здоровой пище"
      ]
    },
    {
      "cell_type": "code",
      "metadata": {
        "id": "RLzILCodS02e",
        "colab": {
          "base_uri": "https://localhost:8080/",
          "height": 538
        },
        "outputId": "73e47c9b-2187-4582-881a-1abea97d7b2e"
      },
      "source": [
        "import pandas as pd\n",
        " \n",
        "path = 'https://raw.githubusercontent.com/akitim/datasets/main/main_task_new.csv'\n",
        "rest = pd.read_csv(path)\n",
        "  \n",
        "# rest.columns = ['id', 'city', 'cuisine', 'ranking', 'rating', 'price_range', 'rev_number', 'reviews', 'url_TA', 'id_TA']\n",
        "rest.head(5)"
      ],
      "execution_count": null,
      "outputs": [
        {
          "output_type": "execute_result",
          "data": {
            "text/html": [
              "<div>\n",
              "<style scoped>\n",
              "    .dataframe tbody tr th:only-of-type {\n",
              "        vertical-align: middle;\n",
              "    }\n",
              "\n",
              "    .dataframe tbody tr th {\n",
              "        vertical-align: top;\n",
              "    }\n",
              "\n",
              "    .dataframe thead th {\n",
              "        text-align: right;\n",
              "    }\n",
              "</style>\n",
              "<table border=\"1\" class=\"dataframe\">\n",
              "  <thead>\n",
              "    <tr style=\"text-align: right;\">\n",
              "      <th></th>\n",
              "      <th>Restaurant_id</th>\n",
              "      <th>City</th>\n",
              "      <th>Cuisine Style</th>\n",
              "      <th>Ranking</th>\n",
              "      <th>Rating</th>\n",
              "      <th>Price Range</th>\n",
              "      <th>Number of Reviews</th>\n",
              "      <th>Reviews</th>\n",
              "      <th>URL_TA</th>\n",
              "      <th>ID_TA</th>\n",
              "    </tr>\n",
              "  </thead>\n",
              "  <tbody>\n",
              "    <tr>\n",
              "      <th>0</th>\n",
              "      <td>id_5569</td>\n",
              "      <td>Paris</td>\n",
              "      <td>['European', 'French', 'International']</td>\n",
              "      <td>5570.0</td>\n",
              "      <td>3.5</td>\n",
              "      <td>$$ - $$$</td>\n",
              "      <td>194.0</td>\n",
              "      <td>[['Good food at your doorstep', 'A good hotel ...</td>\n",
              "      <td>/Restaurant_Review-g187147-d1912643-Reviews-R_...</td>\n",
              "      <td>d1912643</td>\n",
              "    </tr>\n",
              "    <tr>\n",
              "      <th>1</th>\n",
              "      <td>id_1535</td>\n",
              "      <td>Stockholm</td>\n",
              "      <td>NaN</td>\n",
              "      <td>1537.0</td>\n",
              "      <td>4.0</td>\n",
              "      <td>NaN</td>\n",
              "      <td>10.0</td>\n",
              "      <td>[['Unique cuisine', 'Delicious Nepalese food']...</td>\n",
              "      <td>/Restaurant_Review-g189852-d7992032-Reviews-Bu...</td>\n",
              "      <td>d7992032</td>\n",
              "    </tr>\n",
              "    <tr>\n",
              "      <th>2</th>\n",
              "      <td>id_352</td>\n",
              "      <td>London</td>\n",
              "      <td>['Japanese', 'Sushi', 'Asian', 'Grill', 'Veget...</td>\n",
              "      <td>353.0</td>\n",
              "      <td>4.5</td>\n",
              "      <td>$$$$</td>\n",
              "      <td>688.0</td>\n",
              "      <td>[['Catch up with friends', 'Not exceptional'],...</td>\n",
              "      <td>/Restaurant_Review-g186338-d8632781-Reviews-RO...</td>\n",
              "      <td>d8632781</td>\n",
              "    </tr>\n",
              "    <tr>\n",
              "      <th>3</th>\n",
              "      <td>id_3456</td>\n",
              "      <td>Berlin</td>\n",
              "      <td>NaN</td>\n",
              "      <td>3458.0</td>\n",
              "      <td>5.0</td>\n",
              "      <td>NaN</td>\n",
              "      <td>3.0</td>\n",
              "      <td>[[], []]</td>\n",
              "      <td>/Restaurant_Review-g187323-d1358776-Reviews-Es...</td>\n",
              "      <td>d1358776</td>\n",
              "    </tr>\n",
              "    <tr>\n",
              "      <th>4</th>\n",
              "      <td>id_615</td>\n",
              "      <td>Munich</td>\n",
              "      <td>['German', 'Central European', 'Vegetarian Fri...</td>\n",
              "      <td>621.0</td>\n",
              "      <td>4.0</td>\n",
              "      <td>$$ - $$$</td>\n",
              "      <td>84.0</td>\n",
              "      <td>[['Best place to try a Bavarian food', 'Nice b...</td>\n",
              "      <td>/Restaurant_Review-g187309-d6864963-Reviews-Au...</td>\n",
              "      <td>d6864963</td>\n",
              "    </tr>\n",
              "  </tbody>\n",
              "</table>\n",
              "</div>"
            ],
            "text/plain": [
              "  Restaurant_id  ...     ID_TA\n",
              "0       id_5569  ...  d1912643\n",
              "1       id_1535  ...  d7992032\n",
              "2        id_352  ...  d8632781\n",
              "3       id_3456  ...  d1358776\n",
              "4        id_615  ...  d6864963\n",
              "\n",
              "[5 rows x 10 columns]"
            ]
          },
          "metadata": {},
          "execution_count": 6
        }
      ]
    },
    {
      "cell_type": "markdown",
      "metadata": {
        "id": "Z_V_JRAwyNKY"
      },
      "source": [
        "#Ответы на вопросы заданий"
      ]
    },
    {
      "cell_type": "code",
      "metadata": {
        "colab": {
          "base_uri": "https://localhost:8080/"
        },
        "id": "AHmglre4e1FH",
        "outputId": "6219b126-0aa9-4986-d750-7bf47c522aea"
      },
      "source": [
        "import pandas as pd\n",
        "import numpy as np\n",
        "\n",
        "RANDOM_SEED = 36\n",
        "\n",
        "# rest.loc[0:100, 'reviews'].to_list()\n",
        "path = 'https://raw.githubusercontent.com/akitim/datasets/main/main_task_new.csv'\n",
        "rest = pd.read_csv(path)\n",
        "\n",
        "rest.drop(['URL_TA', 'ID_TA'], axis=1, inplace=True)\n",
        "rest.columns = ['id', 'city', 'cuisine', 'ranking', 'rating', 'price_range', 'rev_number', 'reviews']\n",
        "\n",
        "# 2.1 Задание 1\n",
        "# Какие столбцы НЕ содержат пропущенных (None) значений?\n",
        "# rest.info()\n",
        " \n",
        "print('\\nЕсть пропуски в столбцах:\\n',\n",
        "*list(rest.loc[:, rest.apply(pd.isna).any(axis=0)].columns))\n",
        " \n",
        "print('\\nНет пропусков в столбцах:\\n',\n",
        "*list(rest.loc[:, ~rest.apply(pd.isna).any(axis=0)].columns), '\\n')\n",
        " \n",
        "# 2.2 Задание 2\n",
        "#rest.loc[0, :].apply(type) != str\n",
        " \n",
        "# 2.3 Задание 3\n",
        "#Приведение 'кухни' к списку\n",
        "#rest.loc[0, 'Cuisine Style'].split(', ')\n",
        "#[s.replace('[', '').replace(']', '').replace(\"'\", \"\") for s in rest.loc[0, 'Cuisine Style'].s изplit(', ')]\n",
        "\n",
        "# 4.1 Вопросы о ценах\n",
        "rest.loc[:, 'price_range'].dropna().unique()\n",
        "rest.loc[rest.loc[:, 'price_range'] == '$$ - $$$', 'price_range'].count()\n",
        "\n",
        "# 4.2 Вопрос о городах\n",
        "len(rest.loc[:, 'city'].unique())\n",
        "\n",
        "# 4.3 Вопросы о кухнях\n",
        "rest.loc[:, 'cuisine'] =\\\n",
        "rest.loc[:, 'cuisine'].fillna(value='[]').apply(\n",
        "    lambda cuisine_list_for_id: \\\n",
        "    [s.replace(\"'\", \"\") for s in cuisine_list_for_id[2:-2].split(', ')]\n",
        ")\n",
        "\n",
        "cuisine_list = []\n",
        "for cuisine in rest.loc[:, 'cuisine']:\n",
        "    cuisine_list += cuisine\n",
        "cuisines_total = len(set(cuisine_list).difference(set([''])))\n",
        "# cuisines_total = len(set(cuisine_list)) - 1\n",
        "\n",
        "from collections import Counter\n",
        "Counter(cuisine_list).most_common(1)[0][0]\n",
        "\n",
        "round(\n",
        "    rest.loc[:, 'cuisine'].apply(lambda x: len(x) if x != [] else 1).mean(),\n",
        "    1\n",
        ")\n",
        "\n",
        "# 4.4 Вопросы об отзывах\n",
        "import re\n",
        "from datetime import datetime as dat\n",
        "\n",
        "def rev_dates(s):\n",
        "    date_regex = re.compile(r'(\\d+/\\d+/\\d+)') # компилируем регулярку для поиска дат в формате dd/mm/YYYY\n",
        "    str_date_ls = date_regex.findall(s)\n",
        "    if str_date_ls != []:\n",
        "        # str_date_ls = date_regex.findall(s)\n",
        "        enum = list(enumerate(str_date_ls))\n",
        "        f = ['%m/%d/%Y' if int(e[1][0:2].replace('/', '')) <= 12 else '%d/%m/%Y' for e in enum]\n",
        "        return [dat.strptime(e[1], f[e[0]]) for e in enum] #dat.strptime(str_date_ls[0], f[0])\n",
        "    else:\n",
        "        return [dat(1970, 1, 1, 0, 0)] #strftime('%m/%d/%Y', '01/01/1970')\n",
        "\n",
        "# когда был оставлен самый свежий отзыв? Введите ответ в формате yyyy-mm-dd.\n",
        "most_recent_rev_date =\\\n",
        "rest.loc[:, 'reviews'].apply(lambda s: rev_dates(s)[0]).max()\n",
        "dat.strftime(most_recent_rev_date, '%Y-%m-%d') #->2018-02-26\n",
        "\n",
        "# Какое максимальное количество дней отделяет даты публикации отзывов,\n",
        "# размещённых на сайте ресторана? Введите количество дней в виде целого числа.\n",
        "def last_rev_date_delta(dates):\n",
        "    if len(dates) >= 3:\n",
        "        return abs(dates[2] - dates[1]).days\n",
        "    else:\n",
        "        return abs(dates[0] - dates[-1]).days\n",
        "\n",
        "# добавляем в данные столбец с кол-вом дней между двумя последними отзывами\n",
        "rest.loc[:, 'delta'] =\\\n",
        "rest.loc[:, 'reviews'].apply(lambda s: last_rev_date_delta(rev_dates(s))) #.sort_values(ascending=False)\n",
        "# rest['delta'].dt.days.astype(int).hist(log=True, bins=50);\n",
        "\n",
        "#считаем кол-во кухонь в меню ресторана, добавляем соотв. столбец\n",
        "rest.loc[:, 'n_of_cuisines'] = rest.loc[:, 'cuisine'].apply(lambda x: len(x) if x != [] else 1)\n",
        "# rest.loc[:, 'n_of_cuisines'].hist(log=True, bins=50);\n",
        "\n",
        "# добавляем столбец с населением города, в кот. находится ресторан\n",
        "# rest.loc[:, 'city'].unique()\n",
        "population = {'Paris': 2176, 'Stockholm': 1656, 'London': 10840, 'Berlin': 3664,\n",
        "       'Munich': 1553, 'Oporto': 232, 'Milan': 3144, 'Bratislava': 433,\n",
        "       'Vienna': 1911, 'Rome': 2860, 'Barcelona': 1620, 'Madrid': 3223,\n",
        "       'Dublin': 555, 'Brussels': 1209, 'Zurich': 415, 'Warsaw': 1794,\n",
        "       'Budapest': 1752, 'Copenhagen': 799, 'Amsterdam': 873, 'Lyon': 516,\n",
        "       'Hamburg': 1899, 'Lisbon': 507, 'Prague': 1324, 'Oslo': 697, \n",
        "       'Helsinki': 658, 'Edinburgh': 488, 'Geneva': 202, 'Ljubljana': 296,\n",
        "       'Athens': 664, 'Luxembourg': 125, 'Krakow': 781}\n",
        "rest.loc[:, 'population'] = rest.loc[:, 'city'].apply(lambda city: population[city])\n",
        "\n",
        "# добавляем столбец с подушевым ВВП по ППС города, в кот. нах. ресторан\n",
        "is_capital = {'Paris': 1, 'Stockholm': 1, 'London': 1, 'Berlin': 1,\n",
        "       'Munich': 0, 'Oporto': 0, 'Milan': 0, 'Bratislava': 1,\n",
        "       'Vienna': 1, 'Rome': 1, 'Barcelona': 0, 'Madrid': 1,\n",
        "       'Dublin': 1, 'Brussels': 1, 'Zurich': 0, 'Warsaw': 1,\n",
        "       'Budapest': 1, 'Copenhagen': 1, 'Amsterdam': 1, 'Lyon': 0,\n",
        "       'Hamburg': 0, 'Lisbon': 1, 'Prague': 1, 'Oslo': 1, \n",
        "       'Helsinki': 1, 'Edinburgh': 0, 'Geneva': 0, 'Ljubljana': 1,\n",
        "       'Athens': 1, 'Luxembourg': 1, 'Krakow': 0}\n",
        "rest.loc[:, 'is_capital'] = rest.loc[:, 'city'].apply(lambda city: is_capital[city])\n",
        "\n",
        "# добавляем столбец с подушевым ВВП по ППС города, в кот. нах. ресторан\n",
        "gdp_per_capita = {\n",
        "    'Paris': 61883, 'Stockholm': 61754, 'London': 58827, 'Berlin': 37601,\n",
        "    'Munich': 69844, 'Oporto': 24819, 'Milan': 51768, 'Bratislava': 67841,\n",
        "    'Vienna': 46787, 'Rome': 41475, 'Barcelona': 45752, 'Madrid': 43074,\n",
        "    'Dublin':30000, 'Brussels': 54634, 'Zurich': 64302, 'Warsaw': 49722,\n",
        "    'Budapest': 37399, 'Copenhagen': 54197, 'Amsterdam': 60857, 'Lyon': 46913,\n",
        "    'Hamburg': 52947, 'Lisbon': 34782, 'Prague': 48160, 'Oslo': 64673,\n",
        "    'Helsinki': 49760, 'Edinburgh': 44059, 'Geneva': 62115, 'Ljubljana': 39763,\n",
        "    'Athens': 32167, 'Luxembourg': 88312, 'Krakow': 29695\n",
        "}\n",
        "rest.loc[:, 'gdp'] = rest.loc[:, 'city'].apply(lambda city: gdp[city])\n",
        "\n",
        "\n",
        "#количество предприятий общепита в стране нахождения ресторана\n",
        "n_of_food_serv = {\n",
        "    'Paris': 161466, 'Stockholm': 23208, 'London': 88841, 'Berlin': 136091,\n",
        "    'Munich': 136091, 'Oporto': 31363, 'Milan': 155875, 'Bratislava': 10917,\n",
        "    'Vienna': 27348, 'Rome': 155875, 'Barcelona': 72657, 'Madrid': 72657,\n",
        "    'Dublin': 7993, 'Brussels': 30773, 'Zurich': 11961, 'Warsaw': 39291,\n",
        "    'Budapest': 16850, 'Copenhagen': 8983, 'Amsterdam': 30502, 'Lyon': 161466,\n",
        "    'Hamburg': 136091, 'Lisbon': 31363, 'Prague': 45623, 'Oslo': 6605,\n",
        "    'Helsinki': 7769, 'Edinburgh': 88841, 'Geneva': 11961, 'Ljubljana': 4369,\n",
        "    'Athens': 39978, 'Luxembourg': 1475, 'Krakow': 39291\n",
        "}\n",
        "rest.loc[:, 'n_of_food_serv'] = rest.loc[:, 'city'].\\\n",
        "    apply(lambda city: n_of_food_serv[city])\n",
        "\n",
        "#количество ресторанов в городе согласно датасету на душу населения города\n",
        "n_of_rest_per_capita =\\\n",
        "    rest.loc[:, 'city'].value_counts() / pd.Series(population)\n",
        "rest.loc[:, 'n_of_rest_per_capita'] = rest.loc[:, 'city'].\\\n",
        "    apply(lambda city: n_of_rest_per_capita[city])\n",
        "\n",
        "#получаем dummies из столбца cuisine и  прикрепляем его к осн. датафрейму \n",
        "# rest = pd.concat([\n",
        "#          rest,\n",
        "#          pd.get_dummies(rest.explode('cuisine'), columns=['cuisine'], prefix=None).\n",
        "#          sum(level=0).iloc[:, -cuisines_total:-1]],\n",
        "#          axis=1\n",
        "# )\n",
        "\n",
        "#квантизуем признак price_range\n",
        "#price_ranges = rest.loc[:, 'price_range'].dropna().unique()\n",
        "\n",
        "price_range_quantize = {\n",
        "    '$': 1, '$$ - $$$': 2, '$$$$': 3\n",
        "}\n",
        "rest.loc[:, 'price_range']=\\\n",
        "rest.loc[:, 'price_range'].apply(lambda x: 0 if pd.isna(x) else price_range_quantize[x])\n",
        "# display(rest.loc[rest.loc[:, 'price_range'].apply(pd.isna), 'price_range'])\n",
        "\n",
        "# Какие признаки возьмем в модель?\n",
        "# ==================================\n",
        "# ranking\n",
        "# rev_number\n",
        "# delta - кол-во дней между двумя последними отзывами +\n",
        "# n_of_cuisines - кол-во кухонь, представленных в ресторане +\n",
        "# population - население города, в котором расположен ресторан +\n",
        "# gdp - подушевой ВВП по ППС города (USD)"
      ],
      "execution_count": 105,
      "outputs": [
        {
          "output_type": "stream",
          "name": "stdout",
          "text": [
            "\n",
            "Есть пропуски в столбцах:\n",
            " cuisine price_range rev_number\n",
            "\n",
            "Нет пропусков в столбцах:\n",
            " id city ranking rating reviews \n",
            "\n"
          ]
        }
      ]
    },
    {
      "cell_type": "code",
      "metadata": {
        "id": "7K7bIJlNpPke",
        "outputId": "01ba4f4d-5363-4568-8cad-e81f4ae1cfd9",
        "colab": {
          "base_uri": "https://localhost:8080/"
        }
      },
      "source": [
        "# l = cuisine_list.sort()\n",
        "cuisine_set = set(cuisine_list).difference(set(['']))\n",
        "# (cuisine_set.intersection(set(rest.loc[10, 'cuisine'])))\n",
        "rest.loc[:, 'cuisine'].apply(lambda cuisine: cuisine)"
      ],
      "execution_count": 74,
      "outputs": [
        {
          "output_type": "execute_result",
          "data": {
            "text/plain": [
              "set()"
            ]
          },
          "metadata": {},
          "execution_count": 74
        }
      ]
    },
    {
      "cell_type": "markdown",
      "metadata": {
        "id": "L0RX9z2oyZ05"
      },
      "source": [
        "#Заполнение пропусков"
      ]
    },
    {
      "cell_type": "code",
      "metadata": {
        "id": "dIAXd3bpVSbU"
      },
      "source": [
        "# before = rest.loc[rest.loc[:, 'price_range'] != 0 , 'price_range']\n",
        "# pd.get_dummies(rest, columns=['Cuisine Style'])\n",
        "# rest.loc[rest.loc[:, 'Cuisine Style'].apply(lambda r: pd.isna(r)), 'Cuisine Style']\n",
        "\n",
        "#первый вариант заполнения пропусков в rev_number средним по всем ресторанам\n",
        "mean_NoR = rest.loc[:, 'rev_number'].mean()\n",
        "rest.loc[:, 'rev_number'] = \\\n",
        "rest.loc[:, 'rev_number'].apply(lambda r: r if not(pd.isna(r)) else mean_NoR)\n",
        "\n",
        "#второй вариант заполнения пропусков в rev_number средним по городу\n",
        "# mean_NoR_by_city = dict([\n",
        "#       (city, rest.loc[rest.loc[:, 'city'] == city, 'rev_number'].mean())\\\n",
        "#       for city in rest.loc[:, 'city'].unique()\n",
        "# ])\n",
        "\n",
        "rest.loc[:, 'rev_number'].\\\n",
        "    fillna(rest.loc[:, 'city'].\\\n",
        "           apply(lambda c: mean_NoR_by_city[c]), inplace=True)\n",
        "\n",
        "#заполняем пропуски в price_range - под вопросом\n",
        "\n",
        "from random import randint\n",
        "\n",
        "def fill_price(city, city_pr_distr): # distr -> distr[city][distr[city].index != 0]\n",
        "    borders = [city_pr_distr[0:i+1].sum() for i in range(len(city_pr_distr))]\n",
        "    \n",
        "    pick_rand = randint(0, borders[-1])\n",
        "    for border in enumerate(borders):\n",
        "        if pick_rand < border[1]:\n",
        "            return city_pr_distr.index[border[0]]\n",
        "\n",
        "distr = rest.groupby('city')['price_range'].value_counts()\n",
        "\n",
        "## rest.query('price_range == 0')['price_range'] = \\\n",
        "## rest.query('price_range == 0')['city'].apply(\n",
        "##     lambda city: fill_price(city, distr[city][distr[city].index != 0])\n",
        "##)\n",
        "\n",
        "rest.loc[rest.loc[:, 'price_range'] == 0, 'price_range'] = \\\n",
        "rest.loc[rest.loc[:, 'price_range'] == 0, 'city'].apply(\n",
        "    lambda city: fill_price(city, distr[city][distr[city].index != 0])\n",
        ")\n",
        "# rest.loc[rest.loc[:, 'price_range'].apply(pd.isna), 'price_range'] = 0\n",
        "\n",
        "rest.loc[rest.loc[:, 'price_range'].apply(pd.isna), 'price_range'] = \\\n",
        "rest.loc[rest.loc[:, 'price_range'].apply(pd.isna), 'city'].apply(\n",
        "    lambda city: fill_price(city, distr[city][distr[city].index != 0])\n",
        ")"
      ],
      "execution_count": 106,
      "outputs": []
    },
    {
      "cell_type": "markdown",
      "metadata": {
        "id": "6yq_qOqlLALv"
      },
      "source": [
        "#заполняем пропуски в price_range"
      ]
    },
    {
      "cell_type": "code",
      "metadata": {
        "colab": {
          "base_uri": "https://localhost:8080/",
          "height": 265
        },
        "id": "xEINKiU4Mwa_",
        "outputId": "5f5426c4-bffc-4119-a9c4-6ad606bb1aee"
      },
      "source": [
        "# rest.loc[rest.loc[:, 'price_range'].apply(pd.isna), 'price_range'] = 0\n",
        "mask = rest.loc[:, 'price_range'].apply(pd.isna)\n",
        "\n",
        "# rest.loc[rest.loc[:, 'price_range'].apply(pd.isna), 'price_range'] = 0\n",
        "df = rest.loc[mask, :]\n",
        "df.index #.groupby('city')['price_range'].value_counts()\n",
        "\n",
        "# rest.loc[rest.loc[:, 'delta'] > -1, 'delta'] = 0\n",
        "(rest.loc[:, 'delta']).hist(bins=80, log=True);\n",
        "\n"
      ],
      "execution_count": 39,
      "outputs": [
        {
          "output_type": "display_data",
          "data": {
            "image/png": "[encoded data removed]",
            "text/plain": [
              "<Figure size 432x288 with 1 Axes>"
            ]
          },
          "metadata": {
            "needs_background": "light"
          }
        }
      ]
    },
    {
      "cell_type": "code",
      "metadata": {
        "id": "I8C06iYsK1oc",
        "colab": {
          "base_uri": "https://localhost:8080/",
          "height": 623
        },
        "outputId": "d7683574-011d-40d4-cb0c-4978fa33ab32"
      },
      "source": [
        "from random import randint\n",
        "import matplotlib.pyplot as plt\n",
        "# \n",
        "before.hist();\n",
        "\n",
        "# se[city][se[city].index != 0].plot(kind='barh');\n",
        "plt.show()\n",
        "\n",
        "rest.loc[rest.loc[:, 'price_range'] != 0, 'price_range'].hist();\n",
        "# test = pd.Series([fill_price(city, se[city][se[city].index != 0]) for q in range(1146)])\n",
        "# test.value_counts().plot(kind='barh');\n",
        "# test.value_counts()\n"
      ],
      "execution_count": null,
      "outputs": [
        {
          "output_type": "display_data",
          "data": {
            "image/png": "[encoded data removed]",
            "text/plain": [
              "<Figure size 720x360 with 1 Axes>"
            ]
          },
          "metadata": {
            "needs_background": "light"
          }
        },
        {
          "output_type": "display_data",
          "data": {
            "image/png": "[encoded data removed]",
            "text/plain": [
              "<Figure size 720x360 with 1 Axes>"
            ]
          },
          "metadata": {
            "needs_background": "light"
          }
        }
      ]
    },
    {
      "cell_type": "markdown",
      "metadata": {
        "id": "ZnE4GEaN89p8"
      },
      "source": [
        "#Полиномиальные черты"
      ]
    },
    {
      "cell_type": "code",
      "metadata": {
        "id": "vURJHpQbxzY7",
        "colab": {
          "base_uri": "https://localhost:8080/",
          "height": 398
        },
        "outputId": "2616301c-cdb8-4cae-f504-bce6f66f1450"
      },
      "source": [
        "from sklearn.preprocessing import PolynomialFeatures\n",
        "import numpy as np\n",
        "\n",
        "pf = PolynomialFeatures(2)\n",
        "poly_features = pf.fit_transform(\n",
        "    rest.loc[:, ['n_of_cuisines', 'population', 'rev_number', 'ranking']]\n",
        ")\n",
        "# pd.DataFrame(poly_features).iloc[:, 1:9]\n",
        "rest = pd.concat([\n",
        "         rest,\n",
        "         pd.DataFrame(poly_features) #.iloc[:, 1:9]\n",
        "         ],\n",
        "         axis=1\n",
        ")\n",
        "rest\n",
        "# rest.loc[:, 'city'].unique()\n",
        "# pd.get_dummies(rest.explode('cuisine'), columns=['cuisine'], prefix='').\\\n",
        "#          sum(level=0).iloc[:, -125:-1]\n",
        "# rest.explode('cuisine')"
      ],
      "execution_count": 75,
      "outputs": [
        {
          "output_type": "error",
          "ename": "ValueError",
          "evalue": "ignored",
          "traceback": [
            "\u001b[0;31m---------------------------------------------------------------------------\u001b[0m",
            "\u001b[0;31mValueError\u001b[0m                                Traceback (most recent call last)",
            "\u001b[0;32m<ipython-input-75-8a17af775d75>\u001b[0m in \u001b[0;36m<module>\u001b[0;34m()\u001b[0m\n\u001b[1;32m      4\u001b[0m \u001b[0mpf\u001b[0m \u001b[0;34m=\u001b[0m \u001b[0mPolynomialFeatures\u001b[0m\u001b[0;34m(\u001b[0m\u001b[0;36m2\u001b[0m\u001b[0;34m)\u001b[0m\u001b[0;34m\u001b[0m\u001b[0;34m\u001b[0m\u001b[0m\n\u001b[1;32m      5\u001b[0m poly_features = pf.fit_transform(\n\u001b[0;32m----> 6\u001b[0;31m     \u001b[0mrest\u001b[0m\u001b[0;34m.\u001b[0m\u001b[0mloc\u001b[0m\u001b[0;34m[\u001b[0m\u001b[0;34m:\u001b[0m\u001b[0;34m,\u001b[0m \u001b[0;34m[\u001b[0m\u001b[0;34m'n_of_cuisines'\u001b[0m\u001b[0;34m,\u001b[0m \u001b[0;34m'population'\u001b[0m\u001b[0;34m,\u001b[0m \u001b[0;34m'rev_number'\u001b[0m\u001b[0;34m,\u001b[0m \u001b[0;34m'ranking'\u001b[0m\u001b[0;34m]\u001b[0m\u001b[0;34m]\u001b[0m\u001b[0;34m\u001b[0m\u001b[0;34m\u001b[0m\u001b[0m\n\u001b[0m\u001b[1;32m      7\u001b[0m \u001b[0;34m\u001b[0m\u001b[0m\n\u001b[1;32m      8\u001b[0m )\n",
            "\u001b[0;32m/usr/local/lib/python3.7/dist-packages/sklearn/base.py\u001b[0m in \u001b[0;36mfit_transform\u001b[0;34m(self, X, y, **fit_params)\u001b[0m\n\u001b[1;32m    569\u001b[0m         \u001b[0;32mif\u001b[0m \u001b[0my\u001b[0m \u001b[0;32mis\u001b[0m \u001b[0;32mNone\u001b[0m\u001b[0;34m:\u001b[0m\u001b[0;34m\u001b[0m\u001b[0;34m\u001b[0m\u001b[0m\n\u001b[1;32m    570\u001b[0m             \u001b[0;31m# fit method of arity 1 (unsupervised transformation)\u001b[0m\u001b[0;34m\u001b[0m\u001b[0;34m\u001b[0m\u001b[0;34m\u001b[0m\u001b[0m\n\u001b[0;32m--> 571\u001b[0;31m             \u001b[0;32mreturn\u001b[0m \u001b[0mself\u001b[0m\u001b[0;34m.\u001b[0m\u001b[0mfit\u001b[0m\u001b[0;34m(\u001b[0m\u001b[0mX\u001b[0m\u001b[0;34m,\u001b[0m \u001b[0;34m**\u001b[0m\u001b[0mfit_params\u001b[0m\u001b[0;34m)\u001b[0m\u001b[0;34m.\u001b[0m\u001b[0mtransform\u001b[0m\u001b[0;34m(\u001b[0m\u001b[0mX\u001b[0m\u001b[0;34m)\u001b[0m\u001b[0;34m\u001b[0m\u001b[0;34m\u001b[0m\u001b[0m\n\u001b[0m\u001b[1;32m    572\u001b[0m         \u001b[0;32melse\u001b[0m\u001b[0;34m:\u001b[0m\u001b[0;34m\u001b[0m\u001b[0;34m\u001b[0m\u001b[0m\n\u001b[1;32m    573\u001b[0m             \u001b[0;31m# fit method of arity 2 (supervised transformation)\u001b[0m\u001b[0;34m\u001b[0m\u001b[0;34m\u001b[0m\u001b[0;34m\u001b[0m\u001b[0m\n",
            "\u001b[0;32m/usr/local/lib/python3.7/dist-packages/sklearn/preprocessing/_data.py\u001b[0m in \u001b[0;36mfit\u001b[0;34m(self, X, y)\u001b[0m\n\u001b[1;32m   1506\u001b[0m         \u001b[0mself\u001b[0m \u001b[0;34m:\u001b[0m \u001b[0minstance\u001b[0m\u001b[0;34m\u001b[0m\u001b[0;34m\u001b[0m\u001b[0m\n\u001b[1;32m   1507\u001b[0m         \"\"\"\n\u001b[0;32m-> 1508\u001b[0;31m         \u001b[0mn_samples\u001b[0m\u001b[0;34m,\u001b[0m \u001b[0mn_features\u001b[0m \u001b[0;34m=\u001b[0m \u001b[0mcheck_array\u001b[0m\u001b[0;34m(\u001b[0m\u001b[0mX\u001b[0m\u001b[0;34m,\u001b[0m \u001b[0maccept_sparse\u001b[0m\u001b[0;34m=\u001b[0m\u001b[0;32mTrue\u001b[0m\u001b[0;34m)\u001b[0m\u001b[0;34m.\u001b[0m\u001b[0mshape\u001b[0m\u001b[0;34m\u001b[0m\u001b[0;34m\u001b[0m\u001b[0m\n\u001b[0m\u001b[1;32m   1509\u001b[0m         combinations = self._combinations(n_features, self.degree,\n\u001b[1;32m   1510\u001b[0m                                           \u001b[0mself\u001b[0m\u001b[0;34m.\u001b[0m\u001b[0minteraction_only\u001b[0m\u001b[0;34m,\u001b[0m\u001b[0;34m\u001b[0m\u001b[0;34m\u001b[0m\u001b[0m\n",
            "\u001b[0;32m/usr/local/lib/python3.7/dist-packages/sklearn/utils/validation.py\u001b[0m in \u001b[0;36mcheck_array\u001b[0;34m(array, accept_sparse, accept_large_sparse, dtype, order, copy, force_all_finite, ensure_2d, allow_nd, ensure_min_samples, ensure_min_features, warn_on_dtype, estimator)\u001b[0m\n\u001b[1;32m    576\u001b[0m         \u001b[0;32mif\u001b[0m \u001b[0mforce_all_finite\u001b[0m\u001b[0;34m:\u001b[0m\u001b[0;34m\u001b[0m\u001b[0;34m\u001b[0m\u001b[0m\n\u001b[1;32m    577\u001b[0m             _assert_all_finite(array,\n\u001b[0;32m--> 578\u001b[0;31m                                allow_nan=force_all_finite == 'allow-nan')\n\u001b[0m\u001b[1;32m    579\u001b[0m \u001b[0;34m\u001b[0m\u001b[0m\n\u001b[1;32m    580\u001b[0m     \u001b[0;32mif\u001b[0m \u001b[0mensure_min_samples\u001b[0m \u001b[0;34m>\u001b[0m \u001b[0;36m0\u001b[0m\u001b[0;34m:\u001b[0m\u001b[0;34m\u001b[0m\u001b[0;34m\u001b[0m\u001b[0m\n",
            "\u001b[0;32m/usr/local/lib/python3.7/dist-packages/sklearn/utils/validation.py\u001b[0m in \u001b[0;36m_assert_all_finite\u001b[0;34m(X, allow_nan, msg_dtype)\u001b[0m\n\u001b[1;32m     58\u001b[0m                     \u001b[0mmsg_err\u001b[0m\u001b[0;34m.\u001b[0m\u001b[0mformat\u001b[0m\u001b[0;34m\u001b[0m\u001b[0;34m\u001b[0m\u001b[0m\n\u001b[1;32m     59\u001b[0m                     (type_err,\n\u001b[0;32m---> 60\u001b[0;31m                      msg_dtype if msg_dtype is not None else X.dtype)\n\u001b[0m\u001b[1;32m     61\u001b[0m             )\n\u001b[1;32m     62\u001b[0m     \u001b[0;31m# for object dtype data, we only check for NaNs (GH-13254)\u001b[0m\u001b[0;34m\u001b[0m\u001b[0;34m\u001b[0m\u001b[0;34m\u001b[0m\u001b[0m\n",
            "\u001b[0;31mValueError\u001b[0m: Input contains NaN, infinity or a value too large for dtype('float64')."
          ]
        }
      ]
    },
    {
      "cell_type": "markdown",
      "metadata": {
        "id": "xPEEJg8QyVIn"
      },
      "source": [
        "#Черновик 1"
      ]
    },
    {
      "cell_type": "code",
      "metadata": {
        "id": "QF1rMtL2IyYE",
        "colab": {
          "base_uri": "https://localhost:8080/"
        },
        "outputId": "b01d7c64-85eb-4765-bd06-8dc262ac00d7"
      },
      "source": [
        "# import re\n",
        "# from datetime import datetime as dat\n",
        "\n",
        "# date_regex.findall(s)[0][0:2] <\\\n",
        "# date_regex.findall(s)[0][3:5] #->11 #->18\n",
        "\n",
        "st = \"[['Best place to try a Bavarian food', 'Nice building but improvements need to be...'], ['11/18/2017', '02/19/2017']]\"\n",
        "# rev_date(s)\n",
        "# date_regex = re.compile(r'(\\d+/\\d+/\\d+)') # компилируем регулярку для поиска дат в формате dd/mm/YYYY\n",
        "# str_date_ls = date_regex.findall(st)\n",
        "\n",
        "# r\n",
        "\n",
        "# rev_dates(st)\n",
        "# str_date_ls, f, enum\n",
        "\n",
        "# se = rest.loc[:, 'reviews'].apply(lambda s: len(rev_dates(s)))\n",
        "# rest[se==1]['reviews']\n",
        "# rest.loc[[9254, 23348], 'reviews'].to_list()\n",
        "# rest.loc[rest.loc[:, 'reviews'].apply(lambda s: (\"'], ['\" in s) or (s == \"[[], []]\")), 'reviews'].index.to_list()\n",
        "# se = rest.loc[:, 'reviews'].apply(lambda s: s.count('['))\n",
        "# rest[se!=3]['reviews'].to_list()\n",
        "\n",
        "se = rest.loc[:, 'reviews'].apply(lambda s: len(rev_dates(s)))\n",
        "rest[se==1]['reviews']\n",
        "rest.loc[[9254, 23348], 'reviews'].to_list()\n",
        "rest.loc[rest.loc[:, 'reviews'].apply(lambda s: (\"'], ['\" in s) or (s == \"[[], []]\")), 'reviews'].index.to_list()\n",
        "se = rest.loc[:, 'reviews'].apply(lambda s: s.count('['))\n",
        "rest[se!=3]['reviews'].to_list()"
      ],
      "execution_count": null,
      "outputs": [
        {
          "output_type": "execute_result",
          "data": {
            "text/plain": [
              "[\"[['Good food, attentive staff', 'Sternstraße 125, Schanzenviertel, [59], ju...'], ['05/10/2015', '07/05/2014']]\",\n",
              " \"[['Nice lunch for a hungry group[ of travelle...', 'Tasty salad and sandwich'], ['10/24/2017', '01/12/2017']]\",\n",
              " \"[['Veramente Italiano [Really Italian]', 'Lunch on a Sunday'], ['12/11/2017', '11/19/2017']]\"]"
            ]
          },
          "metadata": {},
          "execution_count": 27
        }
      ]
    },
    {
      "cell_type": "code",
      "metadata": {
        "id": "6pIki74OVMA0",
        "colab": {
          "base_uri": "https://localhost:8080/"
        },
        "outputId": "3ce8444a-64f7-4e2f-f097-bffbbb97f889"
      },
      "source": [
        "#Предобработка\n",
        "# rest.loc[0, :].apply(type)\n",
        "# rest.dropna(axis=0, inplace=True)\n",
        "\n",
        "rest.loc[:, 'cuisine'] =\\\n",
        "rest.loc[:, 'cuisine'].apply(\n",
        "    lambda cuisine_list_for_id: \\\n",
        "        [s.replace(\"'\", \"\") for s in cuisine_list_for_id[2:-2].split(', ')]\\\n",
        "            if not(pd.isna(cuisine_list_for_id)) else []\n",
        ")\n",
        "\n",
        "            # rest.loc[0, 'Cuisine Style'][0]\n",
        "            # rest.get_dummies()\n",
        "# rest"
      ],
      "execution_count": null,
      "outputs": [
        {
          "output_type": "error",
          "ename": "ValueError",
          "evalue": "ignored",
          "traceback": [
            "\u001b[0;31m---------------------------------------------------------------------------\u001b[0m",
            "\u001b[0;31mValueError\u001b[0m                                Traceback (most recent call last)",
            "\u001b[0;32m<ipython-input-28-fb5f13dc6260>\u001b[0m in \u001b[0;36m<module>\u001b[0;34m()\u001b[0m\n\u001b[1;32m      4\u001b[0m \u001b[0;34m\u001b[0m\u001b[0m\n\u001b[1;32m      5\u001b[0m rest.loc[:, 'cuisine'] =rest.loc[:, 'cuisine'].apply(\n\u001b[0;32m----> 6\u001b[0;31m     \u001b[0;32mlambda\u001b[0m \u001b[0mcuisine_list_for_id\u001b[0m\u001b[0;34m:\u001b[0m\u001b[0;31m \u001b[0m\u001b[0;31m\\\u001b[0m\u001b[0;34m\u001b[0m\u001b[0;34m\u001b[0m\u001b[0m\n\u001b[0m\u001b[1;32m      7\u001b[0m         \u001b[0;34m[\u001b[0m\u001b[0ms\u001b[0m\u001b[0;34m.\u001b[0m\u001b[0mreplace\u001b[0m\u001b[0;34m(\u001b[0m\u001b[0;34m\"'\"\u001b[0m\u001b[0;34m,\u001b[0m \u001b[0;34m\"\"\u001b[0m\u001b[0;34m)\u001b[0m \u001b[0;32mfor\u001b[0m \u001b[0ms\u001b[0m \u001b[0;32min\u001b[0m \u001b[0mcuisine_list_for_id\u001b[0m\u001b[0;34m[\u001b[0m\u001b[0;36m2\u001b[0m\u001b[0;34m:\u001b[0m\u001b[0;34m-\u001b[0m\u001b[0;36m2\u001b[0m\u001b[0;34m]\u001b[0m\u001b[0;34m.\u001b[0m\u001b[0msplit\u001b[0m\u001b[0;34m(\u001b[0m\u001b[0;34m', '\u001b[0m\u001b[0;34m)\u001b[0m\u001b[0;34m]\u001b[0m\u001b[0;31m\\\u001b[0m\u001b[0;34m\u001b[0m\u001b[0;34m\u001b[0m\u001b[0m\n\u001b[1;32m      8\u001b[0m             \u001b[0;32mif\u001b[0m \u001b[0;32mnot\u001b[0m\u001b[0;34m(\u001b[0m\u001b[0mpd\u001b[0m\u001b[0;34m.\u001b[0m\u001b[0misna\u001b[0m\u001b[0;34m(\u001b[0m\u001b[0mcuisine_list_for_id\u001b[0m\u001b[0;34m)\u001b[0m\u001b[0;34m)\u001b[0m \u001b[0;32melse\u001b[0m \u001b[0;34m[\u001b[0m\u001b[0;34m]\u001b[0m\u001b[0;34m\u001b[0m\u001b[0;34m\u001b[0m\u001b[0m\n",
            "\u001b[0;32m/usr/local/lib/python3.7/dist-packages/pandas/core/series.py\u001b[0m in \u001b[0;36mapply\u001b[0;34m(self, func, convert_dtype, args, **kwds)\u001b[0m\n\u001b[1;32m   4211\u001b[0m             \u001b[0;32melse\u001b[0m\u001b[0;34m:\u001b[0m\u001b[0;34m\u001b[0m\u001b[0;34m\u001b[0m\u001b[0m\n\u001b[1;32m   4212\u001b[0m                 \u001b[0mvalues\u001b[0m \u001b[0;34m=\u001b[0m \u001b[0mself\u001b[0m\u001b[0;34m.\u001b[0m\u001b[0mastype\u001b[0m\u001b[0;34m(\u001b[0m\u001b[0mobject\u001b[0m\u001b[0;34m)\u001b[0m\u001b[0;34m.\u001b[0m\u001b[0m_values\u001b[0m\u001b[0;34m\u001b[0m\u001b[0;34m\u001b[0m\u001b[0m\n\u001b[0;32m-> 4213\u001b[0;31m                 \u001b[0mmapped\u001b[0m \u001b[0;34m=\u001b[0m \u001b[0mlib\u001b[0m\u001b[0;34m.\u001b[0m\u001b[0mmap_infer\u001b[0m\u001b[0;34m(\u001b[0m\u001b[0mvalues\u001b[0m\u001b[0;34m,\u001b[0m \u001b[0mf\u001b[0m\u001b[0;34m,\u001b[0m \u001b[0mconvert\u001b[0m\u001b[0;34m=\u001b[0m\u001b[0mconvert_dtype\u001b[0m\u001b[0;34m)\u001b[0m\u001b[0;34m\u001b[0m\u001b[0;34m\u001b[0m\u001b[0m\n\u001b[0m\u001b[1;32m   4214\u001b[0m \u001b[0;34m\u001b[0m\u001b[0m\n\u001b[1;32m   4215\u001b[0m         \u001b[0;32mif\u001b[0m \u001b[0mlen\u001b[0m\u001b[0;34m(\u001b[0m\u001b[0mmapped\u001b[0m\u001b[0;34m)\u001b[0m \u001b[0;32mand\u001b[0m \u001b[0misinstance\u001b[0m\u001b[0;34m(\u001b[0m\u001b[0mmapped\u001b[0m\u001b[0;34m[\u001b[0m\u001b[0;36m0\u001b[0m\u001b[0;34m]\u001b[0m\u001b[0;34m,\u001b[0m \u001b[0mSeries\u001b[0m\u001b[0;34m)\u001b[0m\u001b[0;34m:\u001b[0m\u001b[0;34m\u001b[0m\u001b[0;34m\u001b[0m\u001b[0m\n",
            "\u001b[0;32mpandas/_libs/lib.pyx\u001b[0m in \u001b[0;36mpandas._libs.lib.map_infer\u001b[0;34m()\u001b[0m\n",
            "\u001b[0;32m<ipython-input-28-fb5f13dc6260>\u001b[0m in \u001b[0;36m<lambda>\u001b[0;34m(cuisine_list_for_id)\u001b[0m\n\u001b[1;32m      6\u001b[0m     \u001b[0;32mlambda\u001b[0m \u001b[0mcuisine_list_for_id\u001b[0m\u001b[0;34m:\u001b[0m\u001b[0;31m \u001b[0m\u001b[0;31m\\\u001b[0m\u001b[0;34m\u001b[0m\u001b[0;34m\u001b[0m\u001b[0m\n\u001b[1;32m      7\u001b[0m         \u001b[0;34m[\u001b[0m\u001b[0ms\u001b[0m\u001b[0;34m.\u001b[0m\u001b[0mreplace\u001b[0m\u001b[0;34m(\u001b[0m\u001b[0;34m\"'\"\u001b[0m\u001b[0;34m,\u001b[0m \u001b[0;34m\"\"\u001b[0m\u001b[0;34m)\u001b[0m \u001b[0;32mfor\u001b[0m \u001b[0ms\u001b[0m \u001b[0;32min\u001b[0m \u001b[0mcuisine_list_for_id\u001b[0m\u001b[0;34m[\u001b[0m\u001b[0;36m2\u001b[0m\u001b[0;34m:\u001b[0m\u001b[0;34m-\u001b[0m\u001b[0;36m2\u001b[0m\u001b[0;34m]\u001b[0m\u001b[0;34m.\u001b[0m\u001b[0msplit\u001b[0m\u001b[0;34m(\u001b[0m\u001b[0;34m', '\u001b[0m\u001b[0;34m)\u001b[0m\u001b[0;34m]\u001b[0m\u001b[0;31m\\\u001b[0m\u001b[0;34m\u001b[0m\u001b[0;34m\u001b[0m\u001b[0m\n\u001b[0;32m----> 8\u001b[0;31m             \u001b[0;32mif\u001b[0m \u001b[0;32mnot\u001b[0m\u001b[0;34m(\u001b[0m\u001b[0mpd\u001b[0m\u001b[0;34m.\u001b[0m\u001b[0misna\u001b[0m\u001b[0;34m(\u001b[0m\u001b[0mcuisine_list_for_id\u001b[0m\u001b[0;34m)\u001b[0m\u001b[0;34m)\u001b[0m \u001b[0;32melse\u001b[0m \u001b[0;34m[\u001b[0m\u001b[0;34m]\u001b[0m\u001b[0;34m\u001b[0m\u001b[0;34m\u001b[0m\u001b[0m\n\u001b[0m\u001b[1;32m      9\u001b[0m )\n\u001b[1;32m     10\u001b[0m \u001b[0;34m\u001b[0m\u001b[0m\n",
            "\u001b[0;31mValueError\u001b[0m: The truth value of an array with more than one element is ambiguous. Use a.any() or a.all()"
          ]
        }
      ]
    },
    {
      "cell_type": "code",
      "metadata": {
        "id": "VYCUUkght1Mf"
      },
      "source": [
        "# rest.loc[:, 'n_of_cuisines']\n",
        "\n"
      ],
      "execution_count": null,
      "outputs": []
    },
    {
      "cell_type": "markdown",
      "metadata": {
        "id": "N410_df59Wcu"
      },
      "source": [
        "#Данные в модель"
      ]
    },
    {
      "cell_type": "code",
      "metadata": {
        "id": "15jCKLuKVmeH",
        "colab": {
          "base_uri": "https://localhost:8080/",
          "height": 843
        },
        "outputId": "cc2eaf24-de23-4b13-8e09-910bf9d60598"
      },
      "source": [
        "import seaborn as sns\n",
        "# rest_m = rest.loc[:, ['ranking', 'rev_number', 'n_of_cuisines', 'delta', 'population']]\n",
        "rest_m = rest.drop(['id', 'city', 'cuisine', 'rating',  'reviews', 'population'],\n",
        "                   axis=1)\n",
        "sns.heatmap(rest.corr(), annot = True, cmap = 'Spectral_r');\n",
        "rest_m"
      ],
      "execution_count": 107,
      "outputs": [
        {
          "output_type": "execute_result",
          "data": {
            "text/html": [
              "<div>\n",
              "<style scoped>\n",
              "    .dataframe tbody tr th:only-of-type {\n",
              "        vertical-align: middle;\n",
              "    }\n",
              "\n",
              "    .dataframe tbody tr th {\n",
              "        vertical-align: top;\n",
              "    }\n",
              "\n",
              "    .dataframe thead th {\n",
              "        text-align: right;\n",
              "    }\n",
              "</style>\n",
              "<table border=\"1\" class=\"dataframe\">\n",
              "  <thead>\n",
              "    <tr style=\"text-align: right;\">\n",
              "      <th></th>\n",
              "      <th>ranking</th>\n",
              "      <th>price_range</th>\n",
              "      <th>rev_number</th>\n",
              "      <th>delta</th>\n",
              "      <th>n_of_cuisines</th>\n",
              "      <th>is_capital</th>\n",
              "      <th>gdp</th>\n",
              "      <th>n_of_food_serv</th>\n",
              "      <th>n_of_rest_per_capita</th>\n",
              "    </tr>\n",
              "  </thead>\n",
              "  <tbody>\n",
              "    <tr>\n",
              "      <th>0</th>\n",
              "      <td>5570.0</td>\n",
              "      <td>2.0</td>\n",
              "      <td>194.0</td>\n",
              "      <td>41</td>\n",
              "      <td>3</td>\n",
              "      <td>1</td>\n",
              "      <td>61883</td>\n",
              "      <td>161466</td>\n",
              "      <td>2.250460</td>\n",
              "    </tr>\n",
              "    <tr>\n",
              "      <th>1</th>\n",
              "      <td>1537.0</td>\n",
              "      <td>2.0</td>\n",
              "      <td>10.0</td>\n",
              "      <td>382</td>\n",
              "      <td>1</td>\n",
              "      <td>1</td>\n",
              "      <td>61754</td>\n",
              "      <td>23208</td>\n",
              "      <td>0.495169</td>\n",
              "    </tr>\n",
              "    <tr>\n",
              "      <th>2</th>\n",
              "      <td>353.0</td>\n",
              "      <td>3.0</td>\n",
              "      <td>688.0</td>\n",
              "      <td>2</td>\n",
              "      <td>7</td>\n",
              "      <td>1</td>\n",
              "      <td>58827</td>\n",
              "      <td>88841</td>\n",
              "      <td>0.531089</td>\n",
              "    </tr>\n",
              "    <tr>\n",
              "      <th>3</th>\n",
              "      <td>3458.0</td>\n",
              "      <td>2.0</td>\n",
              "      <td>3.0</td>\n",
              "      <td>0</td>\n",
              "      <td>1</td>\n",
              "      <td>1</td>\n",
              "      <td>37601</td>\n",
              "      <td>136091</td>\n",
              "      <td>0.588155</td>\n",
              "    </tr>\n",
              "    <tr>\n",
              "      <th>4</th>\n",
              "      <td>621.0</td>\n",
              "      <td>2.0</td>\n",
              "      <td>84.0</td>\n",
              "      <td>272</td>\n",
              "      <td>3</td>\n",
              "      <td>0</td>\n",
              "      <td>69844</td>\n",
              "      <td>136091</td>\n",
              "      <td>0.575016</td>\n",
              "    </tr>\n",
              "    <tr>\n",
              "      <th>...</th>\n",
              "      <td>...</td>\n",
              "      <td>...</td>\n",
              "      <td>...</td>\n",
              "      <td>...</td>\n",
              "      <td>...</td>\n",
              "      <td>...</td>\n",
              "      <td>...</td>\n",
              "      <td>...</td>\n",
              "      <td>...</td>\n",
              "    </tr>\n",
              "    <tr>\n",
              "      <th>39995</th>\n",
              "      <td>500.0</td>\n",
              "      <td>2.0</td>\n",
              "      <td>79.0</td>\n",
              "      <td>34</td>\n",
              "      <td>4</td>\n",
              "      <td>0</td>\n",
              "      <td>51768</td>\n",
              "      <td>155875</td>\n",
              "      <td>0.678435</td>\n",
              "    </tr>\n",
              "    <tr>\n",
              "      <th>39996</th>\n",
              "      <td>6341.0</td>\n",
              "      <td>2.0</td>\n",
              "      <td>542.0</td>\n",
              "      <td>9</td>\n",
              "      <td>5</td>\n",
              "      <td>1</td>\n",
              "      <td>61883</td>\n",
              "      <td>161466</td>\n",
              "      <td>2.250460</td>\n",
              "    </tr>\n",
              "    <tr>\n",
              "      <th>39997</th>\n",
              "      <td>1652.0</td>\n",
              "      <td>2.0</td>\n",
              "      <td>4.0</td>\n",
              "      <td>3127</td>\n",
              "      <td>2</td>\n",
              "      <td>1</td>\n",
              "      <td>61754</td>\n",
              "      <td>23208</td>\n",
              "      <td>0.495169</td>\n",
              "    </tr>\n",
              "    <tr>\n",
              "      <th>39998</th>\n",
              "      <td>641.0</td>\n",
              "      <td>2.0</td>\n",
              "      <td>70.0</td>\n",
              "      <td>23</td>\n",
              "      <td>5</td>\n",
              "      <td>1</td>\n",
              "      <td>49722</td>\n",
              "      <td>39291</td>\n",
              "      <td>0.405240</td>\n",
              "    </tr>\n",
              "    <tr>\n",
              "      <th>39999</th>\n",
              "      <td>4827.0</td>\n",
              "      <td>2.0</td>\n",
              "      <td>260.0</td>\n",
              "      <td>1306</td>\n",
              "      <td>1</td>\n",
              "      <td>0</td>\n",
              "      <td>51768</td>\n",
              "      <td>155875</td>\n",
              "      <td>0.678435</td>\n",
              "    </tr>\n",
              "  </tbody>\n",
              "</table>\n",
              "<p>40000 rows × 9 columns</p>\n",
              "</div>"
            ],
            "text/plain": [
              "       ranking  price_range  ...  n_of_food_serv  n_of_rest_per_capita\n",
              "0       5570.0          2.0  ...          161466              2.250460\n",
              "1       1537.0          2.0  ...           23208              0.495169\n",
              "2        353.0          3.0  ...           88841              0.531089\n",
              "3       3458.0          2.0  ...          136091              0.588155\n",
              "4        621.0          2.0  ...          136091              0.575016\n",
              "...        ...          ...  ...             ...                   ...\n",
              "39995    500.0          2.0  ...          155875              0.678435\n",
              "39996   6341.0          2.0  ...          161466              2.250460\n",
              "39997   1652.0          2.0  ...           23208              0.495169\n",
              "39998    641.0          2.0  ...           39291              0.405240\n",
              "39999   4827.0          2.0  ...          155875              0.678435\n",
              "\n",
              "[40000 rows x 9 columns]"
            ]
          },
          "metadata": {},
          "execution_count": 107
        },
        {
          "output_type": "display_data",
          "data": {
            "image/png": "[encoded data removed]",
            "text/plain": [
              "<Figure size 720x360 with 2 Axes>"
            ]
          },
          "metadata": {
            "needs_background": "light"
          }
        }
      ]
    },
    {
      "cell_type": "markdown",
      "metadata": {
        "id": "55EXBsyayd0N"
      },
      "source": [
        "# Создаём, обучаем и тестируем модель"
      ]
    },
    {
      "cell_type": "code",
      "metadata": {
        "id": "5Hdt8UphVTWj",
        "colab": {
          "base_uri": "https://localhost:8080/",
          "height": 441
        },
        "outputId": "26bbf51b-89db-4506-a493-3c9101e0428e"
      },
      "source": [
        "# Разбиваем датафрейм на части, необходимые для обучения и тестирования модели  \n",
        "    # Х - данные с информацией о ресторанах, у - целевая переменная (рейтинги ресторанов)  \n",
        "# X = rest.drop(['Restaurant_id', 'Rating'], axis = 1)  \n",
        "X = rest_m\n",
        "y = rest.loc[:, 'rating']\n",
        "      \n",
        "    # Загружаем специальный инструмент для разбивки:  \n",
        "from sklearn.model_selection import train_test_split  \n",
        "      \n",
        "    # Наборы данных с меткой \"train\" будут использоваться для обучения модели, \"test\" - для тестирования.  \n",
        "    # Для тестирования мы будем использовать 25% от исходного датасета.  \n",
        "#X_train, X_test, y_train, y_test = train_test_split(X, y, test_size=0.2)\n",
        "    \n",
        "# Импортируем необходимые библиотеки:  \n",
        "import matplotlib.pyplot as plt\n",
        "from sklearn.ensemble import RandomForestRegressor # инструмент для создания и обучения модели  \n",
        "from sklearn import metrics # инструменты для оценки точности модели \n",
        "\n",
        "n = 5\n",
        "mae = []\n",
        "for i in range(n):\n",
        "    X_train, X_test, y_train, y_test = train_test_split(X, y, test_size=0.2)\n",
        "     \n",
        "    # Создаём модель\n",
        "    regr = RandomForestRegressor(n_estimators=100, verbose=0, n_jobs=1, random_state=RANDOM_SEED)  \n",
        "      \n",
        "    # Обучаем модель на тестовом наборе данных  \n",
        "    regr.fit(X_train, y_train)  \n",
        "      \n",
        "    # Используем обученную модель для предсказания рейтинга ресторанов в тестовой выборке.  \n",
        "    # Предсказанные значения записываем в переменную y_pred  \n",
        "    y_pred = regr.predict(X_test)\n",
        "\n",
        "    y_pred = (y_pred*2).round()/2\n",
        " \n",
        "# Сравниваем предсказанные значения (y_pred) с реальными (y_test), и смотрим насколько они в среднем отличаются  \n",
        "    # Метрика называется Mean Absolute Error (MAE) и показывает среднее отклонение предсказанных значений от фактических.  \n",
        "    mae += [metrics.mean_absolute_error(y_test, y_pred)]\n",
        "    print(f'{i+1} run MAE: {mae[i]}')\n",
        "print(f'\\n{n} runs mean MAE: {sum(mae)/len(mae)}')\n",
        "\n",
        "plt.rcParams['figure.figsize'] = (10, 5)\n",
        "feat_importances = pd.Series(regr.feature_importances_, index=X.columns)\n",
        "feat_importances.nlargest(20).plot(kind='barh');\n",
        "\n",
        "# 5 runs mean MAE: 0.1856125 - без price_range\n",
        "# 5 runs mean MAE: 0.18478749999999997 - price_range заполнен с сохранением внутригородского распределения\n",
        "# 5 runs mean MAE: 0.1867\n",
        "# 5 runs mean MAE: 0.1820875 - price_range заполнен нулями\n",
        "# 5 runs mean MAE: 0.1843375 - price_range заполнен нулями, добавлен n_of_rest\n",
        "# 5 runs mean MAE: 0.1832625 - price_range заполнен нулями,\n",
        "#                              добавлен n_of_rest_per_capita вместо n_of_rest и population\n",
        "# 5 runs mean MAE: 0.1825875 - price_range заполнен нулями,\n",
        "#                              добавлен n_of_rest_per_capita вместо n_of_rest и population,\n",
        "#                              добавлены dummies-переменные из cuisines\n",
        "# runs mean MAE: 0.1829"
      ],
      "execution_count": 108,
      "outputs": [
        {
          "output_type": "stream",
          "name": "stdout",
          "text": [
            "1 run MAE: 0.1825625\n",
            "2 run MAE: 0.1838125\n",
            "3 run MAE: 0.184\n",
            "4 run MAE: 0.1818125\n",
            "5 run MAE: 0.1823125\n",
            "\n",
            "5 runs mean MAE: 0.1829\n"
          ]
        },
        {
          "output_type": "display_data",
          "data": {
            "image/png": "[encoded data removed]",
            "text/plain": [
              "<Figure size 720x360 with 1 Axes>"
            ]
          },
          "metadata": {
            "needs_background": "light"
          }
        }
      ]
    },
    {
      "cell_type": "code",
      "metadata": {
        "id": "gbOmJ-de-n7M"
      },
      "source": [
        ""
      ],
      "execution_count": null,
      "outputs": []
    }
  ]
}