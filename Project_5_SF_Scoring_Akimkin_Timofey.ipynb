{
  "metadata": {
    "kernelspec": {
      "language": "python",
      "display_name": "Python 3",
      "name": "python3"
    },
    "language_info": {
      "name": "python",
      "version": "3.7.10",
      "mimetype": "text/x-python",
      "codemirror_mode": {
        "name": "ipython",
        "version": 3
      },
      "pygments_lexer": "ipython3",
      "nbconvert_exporter": "python",
      "file_extension": ".py"
    },
    "colab": {
      "name": "Project 5 - SF Scoring - Akimkin Timofey.ipynb",
      "provenance": [],
      "toc_visible": true,
      "include_colab_link": true
    }
  },
  "nbformat_minor": 0,
  "nbformat": 4,
  "cells": [
    {
      "cell_type": "markdown",
      "metadata": {
        "id": "view-in-github",
        "colab_type": "text"
      },
      "source": [
        "<a href=\"https://colab.research.google.com/github/akitim/SkillFactory_projects/blob/main/Project_5_SF_Scoring_Akimkin_Timofey.ipynb\" target=\"_parent\"><img src=\"https://colab.research.google.com/assets/colab-badge.svg\" alt=\"Open In Colab\"/></a>"
      ]
    },
    {
      "cell_type": "markdown",
      "source": [
        "---\n",
        "## 1. Загрузка библиотек\n",
        "---\n",
        "---"
      ],
      "metadata": {
        "editable": false,
        "id": "mNm0g5_mLBNY"
      }
    },
    {
      "cell_type": "code",
      "source": [
        "import numpy as np # linear algebra\n",
        "import pandas as pd \n",
        "import pandas_profiling # автоматизация EDA\n",
        "\n",
        "import matplotlib.pyplot as plt\n",
        "%matplotlib inline\n",
        "import seaborn as sns # импорт графических библиотек\n",
        "\n",
        "from sklearn import metrics as mt # импорт метрик модели\n",
        "\n",
        "# Input data files are available in the read-only \"../input/\" directory\n",
        "# For example, running this (by clicking run or pressing Shift+Enter) will list all files under the input directory\n",
        "\n",
        "import os\n",
        "for dirname, _, filenames in os.walk('/kaggle/input'):\n",
        "    for filename in filenames:\n",
        "        print(os.path.join(dirname, filename))\n",
        "\n",
        "# You can write up to 20GB to the current directory (/kaggle/working/) that gets preserved as output when you create a version using \"Save & Run All\" \n",
        "# You can also write temporary files to /kaggle/temp/, but they won't be saved outside of the current session"
      ],
      "metadata": {
        "_uuid": "8f2839f25d086af736a60e9eeb907d3b93b6e0e5",
        "_cell_guid": "b1076dfc-b9ad-4769-8c92-a6c4dae69d19",
        "editable": false,
        "execution": {
          "iopub.status.busy": "2021-12-11T18:47:04.424335Z",
          "iopub.execute_input": "2021-12-11T18:47:04.424883Z",
          "iopub.status.idle": "2021-12-11T18:47:06.648658Z",
          "shell.execute_reply.started": "2021-12-11T18:47:04.424758Z",
          "shell.execute_reply": "2021-12-11T18:47:06.647877Z"
        },
        "trusted": true,
        "id": "GA8-ccvELBNe"
      },
      "execution_count": 296,
      "outputs": []
    },
    {
      "cell_type": "markdown",
      "source": [
        "---\n",
        "## 2. Загрузка данных\n",
        "---\n",
        "---"
      ],
      "metadata": {
        "editable": false,
        "id": "ks-Ghj1zLBNh"
      }
    },
    {
      "cell_type": "code",
      "source": [
        "RANDOM_SEED = 42\n",
        "!pip freeze > requirements.txt"
      ],
      "metadata": {
        "editable": false,
        "execution": {
          "iopub.status.busy": "2021-12-11T18:47:06.986346Z",
          "iopub.execute_input": "2021-12-11T18:47:06.986896Z",
          "iopub.status.idle": "2021-12-11T18:47:11.396636Z",
          "shell.execute_reply.started": "2021-12-11T18:47:06.986854Z",
          "shell.execute_reply": "2021-12-11T18:47:11.395742Z"
        },
        "trusted": true,
        "id": "1kaZAVNELBNj"
      },
      "execution_count": 297,
      "outputs": []
    },
    {
      "cell_type": "code",
      "source": [
        "# DATA_DIR = '/kaggle/input/sf-scoring/'\n",
        "# DATA_DIR = '/content/sample_data'\n",
        "\n",
        "DATA_DIR = 'https://raw.githubusercontent.com/akitim/datasets/main/Project%205/'\n",
        "\n",
        "df_train = pd.read_csv(DATA_DIR +'/train.csv')\n",
        "df_test = pd.read_csv(DATA_DIR +'/test.csv')\n",
        "# sample_submission = pd.read_csv(DATA_DIR+'/sample_submission.csv')"
      ],
      "metadata": {
        "editable": false,
        "execution": {
          "iopub.status.busy": "2021-12-11T18:47:06.650933Z",
          "iopub.execute_input": "2021-12-11T18:47:06.651569Z",
          "iopub.status.idle": "2021-12-11T18:47:06.985117Z",
          "shell.execute_reply.started": "2021-12-11T18:47:06.651520Z",
          "shell.execute_reply": "2021-12-11T18:47:06.984255Z"
        },
        "trusted": true,
        "id": "MG5ffhH8LBNi"
      },
      "execution_count": 298,
      "outputs": []
    },
    {
      "cell_type": "markdown",
      "source": [
        "---\n",
        "## 3. Первичный осмотр данных\n",
        "---\n",
        "---"
      ],
      "metadata": {
        "editable": false,
        "id": "_-ozhlfVLBNk"
      }
    },
    {
      "cell_type": "code",
      "source": [
        "# sample_submission.sample(5)"
      ],
      "metadata": {
        "editable": false,
        "execution": {
          "iopub.status.busy": "2021-12-11T18:47:11.401225Z",
          "iopub.execute_input": "2021-12-11T18:47:11.401488Z",
          "iopub.status.idle": "2021-12-11T18:47:11.427979Z",
          "shell.execute_reply.started": "2021-12-11T18:47:11.401455Z",
          "shell.execute_reply": "2021-12-11T18:47:11.427217Z"
        },
        "trusted": true,
        "id": "XhYIBmPBLBNl"
      },
      "execution_count": 299,
      "outputs": []
    },
    {
      "cell_type": "code",
      "source": [
        "# sample_submission.shape"
      ],
      "metadata": {
        "editable": false,
        "execution": {
          "iopub.status.busy": "2021-12-11T18:47:11.429130Z",
          "iopub.execute_input": "2021-12-11T18:47:11.429474Z",
          "iopub.status.idle": "2021-12-11T18:47:11.433319Z",
          "shell.execute_reply.started": "2021-12-11T18:47:11.429445Z",
          "shell.execute_reply": "2021-12-11T18:47:11.432479Z"
        },
        "trusted": true,
        "id": "3uxlBFOULBNm"
      },
      "execution_count": 300,
      "outputs": []
    },
    {
      "cell_type": "code",
      "source": [
        "# sample_submission.info()"
      ],
      "metadata": {
        "editable": false,
        "execution": {
          "iopub.status.busy": "2021-12-11T18:47:11.434615Z",
          "iopub.execute_input": "2021-12-11T18:47:11.435071Z",
          "iopub.status.idle": "2021-12-11T18:47:11.465382Z",
          "shell.execute_reply.started": "2021-12-11T18:47:11.435037Z",
          "shell.execute_reply": "2021-12-11T18:47:11.464760Z"
        },
        "trusted": true,
        "id": "sNLY6xZpLBNn"
      },
      "execution_count": 301,
      "outputs": []
    },
    {
      "cell_type": "code",
      "source": [
        "df_test.shape"
      ],
      "metadata": {
        "editable": false,
        "execution": {
          "iopub.status.busy": "2021-12-11T18:47:11.466809Z",
          "iopub.execute_input": "2021-12-11T18:47:11.467213Z",
          "iopub.status.idle": "2021-12-11T18:47:11.472541Z",
          "shell.execute_reply.started": "2021-12-11T18:47:11.467181Z",
          "shell.execute_reply": "2021-12-11T18:47:11.471602Z"
        },
        "trusted": true,
        "colab": {
          "base_uri": "https://localhost:8080/"
        },
        "id": "eFTvaWllLBNo",
        "outputId": "c1ba6ec0-28ab-401d-db54-6433ffd4cc25"
      },
      "execution_count": 302,
      "outputs": [
        {
          "output_type": "execute_result",
          "data": {
            "text/plain": [
              "(36349, 18)"
            ]
          },
          "metadata": {},
          "execution_count": 302
        }
      ]
    },
    {
      "cell_type": "markdown",
      "source": [
        "---\n",
        "## 4. EDA\n",
        "---\n",
        "---"
      ],
      "metadata": {
        "editable": false,
        "id": "F7yyffj5LBNp"
      }
    },
    {
      "cell_type": "markdown",
      "source": [
        "#### Посмотрим распределение числовых признаков и их логарифмов"
      ],
      "metadata": {
        "editable": false,
        "id": "HbXTsbTMLBNp"
      }
    },
    {
      "cell_type": "code",
      "source": [
        "num_cols = ['age', 'score_bki', 'decline_app_cnt', 'bki_request_cnt', 'income']\n",
        "cat_cols = ['education', 'first_time', 'sna', 'work_address', 'home_address', 'region_rating']\n",
        "bin_cols = ['sex', 'car', 'car_type', 'good_work', 'foreign_passport']"
      ],
      "metadata": {
        "editable": false,
        "execution": {
          "iopub.status.busy": "2021-12-11T18:47:11.473628Z",
          "iopub.execute_input": "2021-12-11T18:47:11.473986Z",
          "iopub.status.idle": "2021-12-11T18:47:11.485903Z",
          "shell.execute_reply.started": "2021-12-11T18:47:11.473957Z",
          "shell.execute_reply": "2021-12-11T18:47:11.484984Z"
        },
        "trusted": true,
        "id": "g_DDiyHyLBNq"
      },
      "execution_count": 303,
      "outputs": []
    },
    {
      "cell_type": "code",
      "source": [
        "#для корректной обработки признаков объединяем трейн и тест в один датасет\n",
        "df_train['sample'] = 1 # помечаем, где у нас тренировочные данные\n",
        "df_test['sample'] = 0  # помечаем, где у нас тестовые данные\n",
        "df_test['default'] = 0 # в тесте у нас нет значения default, мы его должны предсказать, по этому пока просто заполняем нулями\n",
        "\n",
        "data = df_test.append(df_train, sort=False).reset_index(drop=True) # объединяем train и test"
      ],
      "metadata": {
        "editable": false,
        "execution": {
          "iopub.status.busy": "2021-12-09T20:31:06.975403Z",
          "iopub.execute_input": "2021-12-09T20:31:06.975636Z",
          "iopub.status.idle": "2021-12-09T20:31:07.028484Z",
          "shell.execute_reply.started": "2021-12-09T20:31:06.975607Z",
          "shell.execute_reply": "2021-12-09T20:31:07.027495Z"
        },
        "trusted": true,
        "id": "no54cv6TLBN1"
      },
      "execution_count": 304,
      "outputs": []
    },
    {
      "cell_type": "code",
      "source": [
        "def draw_charts_for_numeric(data, target='default', plot_type='histplot', charts_in_row=3, \\\n",
        "                title='Распределение числовых переменных и их логарифмов\\n',\\\n",
        "                fs=(20,20),\\\n",
        "                **kwargs):\n",
        "    \n",
        "    def chart_to_plot(data_, col, tgt, plt_fun, ax_c, is_log=False):\n",
        "        # d = data_[[col, tgt]].dropna().copy()\n",
        "        d = data_.dropna().copy()\n",
        "    \n",
        "        if is_log:\n",
        "            d[col] = d[col].apply(lambda x: np.log(x + 1))\n",
        "            \n",
        "        if plt_fun == 'histplot':\n",
        "            sns.histplot(d[col], kde=True, ax=ax_c)\n",
        "        elif plt_fun == 'boxplot':\n",
        "            sns.boxplot(x=tgt, y=col, data=d, ax=ax_c)\n",
        "            ax_c.set_xlabel(col, fontsize=13)\n",
        "            \n",
        "    n_feat_to_plot = data.shape[1] - 1\n",
        "\n",
        "    fig, ax = plt.subplots((n_feat_to_plot // charts_in_row + 1) * 2, charts_in_row, sharey=False, figsize=fs)\n",
        "    fig.suptitle(title, fontsize=20);\n",
        "\n",
        "    for i, feat in enumerate(data.columns):\n",
        "        \n",
        "        ax_curr = ax[2 * (i // 3), i % 3]    \n",
        "        \n",
        "        chart_to_plot(data_=data, tgt=target, col=feat, plt_fun=plot_type, ax_c=ax_curr)\n",
        "        \n",
        "        ax_curr.set_title(feat)\n",
        "        ax_curr.set_xlabel('')\n",
        "        ax_curr.set_ylabel('')\n",
        "        \n",
        "        if feat==target: fig.delaxes(ax_curr)\n",
        "            \n",
        "        ax_curr = ax[2 * (i // 3) + 1, i % 3]    \n",
        "       \n",
        "        chart_to_plot(data_=data, tgt=target, col=feat, plt_fun=plot_type, is_log=True, ax_c=ax_curr)\n",
        "        \n",
        "        ax_curr.set_title(f'log({feat})')\n",
        "        ax_curr.set_xlabel('')\n",
        "        ax_curr.set_ylabel('')\n",
        "        \n",
        "        if feat==target: fig.delaxes(ax_curr)\n",
        "        \n",
        "    for axes in ax.flatten():\n",
        "        if not(axes.has_data()):\n",
        "            fig.delaxes(axes)"
      ],
      "metadata": {
        "editable": false,
        "execution": {
          "iopub.status.busy": "2021-12-11T19:07:30.112679Z",
          "iopub.execute_input": "2021-12-11T19:07:30.113358Z",
          "iopub.status.idle": "2021-12-11T19:07:30.127054Z",
          "shell.execute_reply.started": "2021-12-11T19:07:30.113323Z",
          "shell.execute_reply": "2021-12-11T19:07:30.126070Z"
        },
        "trusted": true,
        "id": "tSMmJB4RLBNr"
      },
      "execution_count": 305,
      "outputs": []
    },
    {
      "cell_type": "code",
      "source": [
        "# draw_charts_for_numeric(data=df_test[num_cols], plot_type='histplot', charts_in_row=3, \\\n",
        "#                 title='\\n\\n\\nРаспределение числовых переменных и их логарифмов\\nв тестовых данных',\\\n",
        "#                 fs=(15, 20))\n",
        "\n",
        "# draw_charts_for_numeric(data=df_train[num_cols+['default']], plot_type='histplot', charts_in_row=3, \\\n",
        "#                 title='\\n\\n\\nРаспределение числовых переменных и их логарифмов\\nв тренировочных данных',\\\n",
        "#                 fs=(15, 20))\n",
        "\n",
        "# draw_charts_for_numeric(data=df_train[num_cols+['default']], plot_type='boxplot', charts_in_row=3, \\\n",
        "#                 title='\\n\\n\\nРаспределение числовых переменных и их логарифмов\\nв тренировочных данных',\\\n",
        "#                 fs=(15, 20))"
      ],
      "metadata": {
        "execution": {
          "iopub.status.busy": "2021-12-11T19:07:32.742255Z",
          "iopub.execute_input": "2021-12-11T19:07:32.742556Z",
          "iopub.status.idle": "2021-12-11T19:07:46.330309Z",
          "shell.execute_reply.started": "2021-12-11T19:07:32.742522Z",
          "shell.execute_reply": "2021-12-11T19:07:46.329160Z"
        },
        "trusted": true,
        "id": "_JHbaDhQLBNs"
      },
      "execution_count": 306,
      "outputs": []
    },
    {
      "cell_type": "code",
      "source": [
        "# n_col_fig = 3\n",
        "# fig, ax = plt.subplots((len(num_cols) // n_col_fig + 1) * 2, n_col_fig, sharey=False, figsize=(20,20))\n",
        "# fig.suptitle('Распределение числовых переменных и их логарифмов\\nв тестовых данных', fontsize=20);\n",
        "\n",
        "# for i, cat in enumerate(num_cols):\n",
        "#     ax_curr = ax[2* (i // 3), i % 3]    \n",
        "#     sns.histplot(df_test[cat].dropna(), kde=True, ax=ax_curr)\n",
        "#     ax_curr.set_title(cat)\n",
        "#     ax_curr.set_xlabel('')\n",
        "#     ax_curr.set_ylabel('')\n",
        "\n",
        "#     ax_curr = ax[2*(i // 3) + 1, i % 3]    \n",
        "#     sns.histplot(df_test[cat].dropna().apply(lambda x: np.log(x + 1)), kde=True, ax=ax_curr)\n",
        "#     ax_curr.set_title(f'log({cat})')\n",
        "#     ax_curr.set_xlabel('')\n",
        "#     ax_curr.set_ylabel('')\n",
        "    \n",
        "# for axes in ax.flatten():\n",
        "#     if not(axes.has_data()):\n",
        "#         fig.delaxes(axes)"
      ],
      "metadata": {
        "editable": false,
        "execution": {
          "iopub.status.busy": "2021-12-11T19:05:01.612330Z",
          "iopub.execute_input": "2021-12-11T19:05:01.612948Z",
          "iopub.status.idle": "2021-12-11T19:05:09.906077Z",
          "shell.execute_reply.started": "2021-12-11T19:05:01.612906Z",
          "shell.execute_reply": "2021-12-11T19:05:09.905111Z"
        },
        "trusted": true,
        "id": "z_hPd7Y5LBNx"
      },
      "execution_count": 307,
      "outputs": []
    },
    {
      "cell_type": "code",
      "source": [
        "# num_cols = ['age', 'score_bki', 'decline_app_cnt', 'bki_request_cnt', 'income']\n",
        "# n_col_fig = 3\n",
        "# fig, ax = plt.subplots((len(num_cols) // n_col_fig + 1) * 2, n_col_fig, sharey=False, figsize=(20,20))\n",
        "# fig.suptitle('Распределение числовых переменных и их логарифмов\\nв тренировочных данных', fontsize=20);\n",
        "\n",
        "# d = df_train[num_cols+['default']].dropna().copy()\n",
        "\n",
        "# for i, cat in enumerate(num_cols+['default']):\n",
        "    \n",
        "#     ax_curr = ax[2* (i // 3), i % 3]    \n",
        "\n",
        "#     sns.boxplot(y=cat, x='default', data=d, ax=ax_curr)\n",
        "    \n",
        "#     ax_curr.set_title(cat)\n",
        "#     ax_curr.set_xlabel('')\n",
        "#     ax_curr.set_ylabel('')\n",
        "    \n",
        "#     if cat=='default': fig.delaxes(ax_curr)\n",
        "\n",
        "#     ax_curr = ax[2*(i // 3) + 1, i % 3]    \n",
        "\n",
        "#     d[cat] = d[cat].apply(lambda x: np.log(x + 1))\n",
        "#     sns.boxplot(y=cat, x='default', data=d, ax=ax_curr)\n",
        "    \n",
        "#     ax_curr.set_title(f'log({cat})')\n",
        "#     ax_curr.set_xlabel('')\n",
        "#     ax_curr.set_ylabel('')\n",
        "    \n",
        "#     if cat=='default': fig.delaxes(ax_curr)\n",
        "    \n",
        "# for axes in ax.flatten():\n",
        "#     if not(axes.has_data()):\n",
        "#         fig.delaxes(axes)"
      ],
      "metadata": {
        "execution": {
          "iopub.status.busy": "2021-12-11T05:00:53.521220Z",
          "iopub.execute_input": "2021-12-11T05:00:53.521470Z",
          "iopub.status.idle": "2021-12-11T05:00:56.140486Z",
          "shell.execute_reply.started": "2021-12-11T05:00:53.521439Z",
          "shell.execute_reply": "2021-12-11T05:00:56.139608Z"
        },
        "trusted": true,
        "id": "HPwpF3fbLBNy"
      },
      "execution_count": 308,
      "outputs": []
    },
    {
      "cell_type": "code",
      "source": [
        "# df_train.info()"
      ],
      "metadata": {
        "editable": false,
        "trusted": true,
        "id": "dMoJoHxMLBNz"
      },
      "execution_count": 309,
      "outputs": []
    },
    {
      "cell_type": "code",
      "source": [
        "# df_test.info()"
      ],
      "metadata": {
        "editable": false,
        "execution": {
          "iopub.status.busy": "2021-12-09T20:30:32.153467Z",
          "iopub.execute_input": "2021-12-09T20:30:32.153710Z",
          "iopub.status.idle": "2021-12-09T20:30:32.167636Z",
          "shell.execute_reply.started": "2021-12-09T20:30:32.153681Z",
          "shell.execute_reply": "2021-12-09T20:30:32.166897Z"
        },
        "trusted": true,
        "id": "QlFIlFgYLBNz"
      },
      "execution_count": 310,
      "outputs": []
    },
    {
      "cell_type": "markdown",
      "source": [
        "есть пропуски в признаке education"
      ],
      "metadata": {
        "editable": false,
        "id": "odsj0zMmLBNz"
      }
    },
    {
      "cell_type": "code",
      "source": [
        "df_train.sample(5)"
      ],
      "metadata": {
        "editable": false,
        "execution": {
          "iopub.status.busy": "2021-12-09T20:30:32.171017Z",
          "iopub.execute_input": "2021-12-09T20:30:32.171566Z",
          "iopub.status.idle": "2021-12-09T20:30:32.198974Z",
          "shell.execute_reply.started": "2021-12-09T20:30:32.171522Z",
          "shell.execute_reply": "2021-12-09T20:30:32.197861Z"
        },
        "trusted": true,
        "id": "xPsuZPp-LBN0",
        "colab": {
          "base_uri": "https://localhost:8080/",
          "height": 270
        },
        "outputId": "6c75d37e-8c75-4953-c540-f14fc7542761"
      },
      "execution_count": 311,
      "outputs": [
        {
          "output_type": "execute_result",
          "data": {
            "text/html": [
              "\n",
              "  <div id=\"df-976f7a7c-56fb-4ee7-9fc9-7dc521745f83\">\n",
              "    <div class=\"colab-df-container\">\n",
              "      <div>\n",
              "<style scoped>\n",
              "    .dataframe tbody tr th:only-of-type {\n",
              "        vertical-align: middle;\n",
              "    }\n",
              "\n",
              "    .dataframe tbody tr th {\n",
              "        vertical-align: top;\n",
              "    }\n",
              "\n",
              "    .dataframe thead th {\n",
              "        text-align: right;\n",
              "    }\n",
              "</style>\n",
              "<table border=\"1\" class=\"dataframe\">\n",
              "  <thead>\n",
              "    <tr style=\"text-align: right;\">\n",
              "      <th></th>\n",
              "      <th>client_id</th>\n",
              "      <th>app_date</th>\n",
              "      <th>education</th>\n",
              "      <th>sex</th>\n",
              "      <th>age</th>\n",
              "      <th>car</th>\n",
              "      <th>car_type</th>\n",
              "      <th>decline_app_cnt</th>\n",
              "      <th>good_work</th>\n",
              "      <th>score_bki</th>\n",
              "      <th>bki_request_cnt</th>\n",
              "      <th>region_rating</th>\n",
              "      <th>home_address</th>\n",
              "      <th>work_address</th>\n",
              "      <th>income</th>\n",
              "      <th>sna</th>\n",
              "      <th>first_time</th>\n",
              "      <th>foreign_passport</th>\n",
              "      <th>default</th>\n",
              "      <th>sample</th>\n",
              "    </tr>\n",
              "  </thead>\n",
              "  <tbody>\n",
              "    <tr>\n",
              "      <th>22361</th>\n",
              "      <td>53875</td>\n",
              "      <td>03MAR2014</td>\n",
              "      <td>SCH</td>\n",
              "      <td>F</td>\n",
              "      <td>55</td>\n",
              "      <td>N</td>\n",
              "      <td>N</td>\n",
              "      <td>0</td>\n",
              "      <td>0</td>\n",
              "      <td>-2.095227</td>\n",
              "      <td>4</td>\n",
              "      <td>50</td>\n",
              "      <td>1</td>\n",
              "      <td>3</td>\n",
              "      <td>9500</td>\n",
              "      <td>1</td>\n",
              "      <td>3</td>\n",
              "      <td>N</td>\n",
              "      <td>0</td>\n",
              "      <td>1</td>\n",
              "    </tr>\n",
              "    <tr>\n",
              "      <th>19662</th>\n",
              "      <td>106768</td>\n",
              "      <td>26APR2014</td>\n",
              "      <td>SCH</td>\n",
              "      <td>F</td>\n",
              "      <td>41</td>\n",
              "      <td>N</td>\n",
              "      <td>N</td>\n",
              "      <td>1</td>\n",
              "      <td>0</td>\n",
              "      <td>-2.506288</td>\n",
              "      <td>2</td>\n",
              "      <td>40</td>\n",
              "      <td>2</td>\n",
              "      <td>3</td>\n",
              "      <td>10000</td>\n",
              "      <td>4</td>\n",
              "      <td>1</td>\n",
              "      <td>N</td>\n",
              "      <td>0</td>\n",
              "      <td>1</td>\n",
              "    </tr>\n",
              "    <tr>\n",
              "      <th>3167</th>\n",
              "      <td>62802</td>\n",
              "      <td>12MAR2014</td>\n",
              "      <td>GRD</td>\n",
              "      <td>M</td>\n",
              "      <td>34</td>\n",
              "      <td>N</td>\n",
              "      <td>N</td>\n",
              "      <td>0</td>\n",
              "      <td>1</td>\n",
              "      <td>-1.301610</td>\n",
              "      <td>4</td>\n",
              "      <td>50</td>\n",
              "      <td>2</td>\n",
              "      <td>3</td>\n",
              "      <td>30000</td>\n",
              "      <td>1</td>\n",
              "      <td>4</td>\n",
              "      <td>Y</td>\n",
              "      <td>1</td>\n",
              "      <td>1</td>\n",
              "    </tr>\n",
              "    <tr>\n",
              "      <th>44113</th>\n",
              "      <td>762</td>\n",
              "      <td>04JAN2014</td>\n",
              "      <td>UGR</td>\n",
              "      <td>M</td>\n",
              "      <td>30</td>\n",
              "      <td>N</td>\n",
              "      <td>N</td>\n",
              "      <td>0</td>\n",
              "      <td>0</td>\n",
              "      <td>-1.563723</td>\n",
              "      <td>3</td>\n",
              "      <td>60</td>\n",
              "      <td>2</td>\n",
              "      <td>3</td>\n",
              "      <td>30000</td>\n",
              "      <td>1</td>\n",
              "      <td>3</td>\n",
              "      <td>Y</td>\n",
              "      <td>0</td>\n",
              "      <td>1</td>\n",
              "    </tr>\n",
              "    <tr>\n",
              "      <th>45803</th>\n",
              "      <td>24487</td>\n",
              "      <td>31JAN2014</td>\n",
              "      <td>SCH</td>\n",
              "      <td>F</td>\n",
              "      <td>54</td>\n",
              "      <td>N</td>\n",
              "      <td>N</td>\n",
              "      <td>1</td>\n",
              "      <td>0</td>\n",
              "      <td>-1.078524</td>\n",
              "      <td>2</td>\n",
              "      <td>40</td>\n",
              "      <td>1</td>\n",
              "      <td>1</td>\n",
              "      <td>21000</td>\n",
              "      <td>1</td>\n",
              "      <td>3</td>\n",
              "      <td>N</td>\n",
              "      <td>0</td>\n",
              "      <td>1</td>\n",
              "    </tr>\n",
              "  </tbody>\n",
              "</table>\n",
              "</div>\n",
              "      <button class=\"colab-df-convert\" onclick=\"convertToInteractive('df-976f7a7c-56fb-4ee7-9fc9-7dc521745f83')\"\n",
              "              title=\"Convert this dataframe to an interactive table.\"\n",
              "              style=\"display:none;\">\n",
              "        \n",
              "  <svg xmlns=\"http://www.w3.org/2000/svg\" height=\"24px\"viewBox=\"0 0 24 24\"\n",
              "       width=\"24px\">\n",
              "    <path d=\"M0 0h24v24H0V0z\" fill=\"none\"/>\n",
              "    <path d=\"M18.56 5.44l.94 2.06.94-2.06 2.06-.94-2.06-.94-.94-2.06-.94 2.06-2.06.94zm-11 1L8.5 8.5l.94-2.06 2.06-.94-2.06-.94L8.5 2.5l-.94 2.06-2.06.94zm10 10l.94 2.06.94-2.06 2.06-.94-2.06-.94-.94-2.06-.94 2.06-2.06.94z\"/><path d=\"M17.41 7.96l-1.37-1.37c-.4-.4-.92-.59-1.43-.59-.52 0-1.04.2-1.43.59L10.3 9.45l-7.72 7.72c-.78.78-.78 2.05 0 2.83L4 21.41c.39.39.9.59 1.41.59.51 0 1.02-.2 1.41-.59l7.78-7.78 2.81-2.81c.8-.78.8-2.07 0-2.86zM5.41 20L4 18.59l7.72-7.72 1.47 1.35L5.41 20z\"/>\n",
              "  </svg>\n",
              "      </button>\n",
              "      \n",
              "  <style>\n",
              "    .colab-df-container {\n",
              "      display:flex;\n",
              "      flex-wrap:wrap;\n",
              "      gap: 12px;\n",
              "    }\n",
              "\n",
              "    .colab-df-convert {\n",
              "      background-color: #E8F0FE;\n",
              "      border: none;\n",
              "      border-radius: 50%;\n",
              "      cursor: pointer;\n",
              "      display: none;\n",
              "      fill: #1967D2;\n",
              "      height: 32px;\n",
              "      padding: 0 0 0 0;\n",
              "      width: 32px;\n",
              "    }\n",
              "\n",
              "    .colab-df-convert:hover {\n",
              "      background-color: #E2EBFA;\n",
              "      box-shadow: 0px 1px 2px rgba(60, 64, 67, 0.3), 0px 1px 3px 1px rgba(60, 64, 67, 0.15);\n",
              "      fill: #174EA6;\n",
              "    }\n",
              "\n",
              "    [theme=dark] .colab-df-convert {\n",
              "      background-color: #3B4455;\n",
              "      fill: #D2E3FC;\n",
              "    }\n",
              "\n",
              "    [theme=dark] .colab-df-convert:hover {\n",
              "      background-color: #434B5C;\n",
              "      box-shadow: 0px 1px 3px 1px rgba(0, 0, 0, 0.15);\n",
              "      filter: drop-shadow(0px 1px 2px rgba(0, 0, 0, 0.3));\n",
              "      fill: #FFFFFF;\n",
              "    }\n",
              "  </style>\n",
              "\n",
              "      <script>\n",
              "        const buttonEl =\n",
              "          document.querySelector('#df-976f7a7c-56fb-4ee7-9fc9-7dc521745f83 button.colab-df-convert');\n",
              "        buttonEl.style.display =\n",
              "          google.colab.kernel.accessAllowed ? 'block' : 'none';\n",
              "\n",
              "        async function convertToInteractive(key) {\n",
              "          const element = document.querySelector('#df-976f7a7c-56fb-4ee7-9fc9-7dc521745f83');\n",
              "          const dataTable =\n",
              "            await google.colab.kernel.invokeFunction('convertToInteractive',\n",
              "                                                     [key], {});\n",
              "          if (!dataTable) return;\n",
              "\n",
              "          const docLinkHtml = 'Like what you see? Visit the ' +\n",
              "            '<a target=\"_blank\" href=https://colab.research.google.com/notebooks/data_table.ipynb>data table notebook</a>'\n",
              "            + ' to learn more about interactive tables.';\n",
              "          element.innerHTML = '';\n",
              "          dataTable['output_type'] = 'display_data';\n",
              "          await google.colab.output.renderOutput(dataTable, element);\n",
              "          const docLink = document.createElement('div');\n",
              "          docLink.innerHTML = docLinkHtml;\n",
              "          element.appendChild(docLink);\n",
              "        }\n",
              "      </script>\n",
              "    </div>\n",
              "  </div>\n",
              "  "
            ],
            "text/plain": [
              "       client_id   app_date education  ... foreign_passport  default sample\n",
              "22361      53875  03MAR2014       SCH  ...                N        0      1\n",
              "19662     106768  26APR2014       SCH  ...                N        0      1\n",
              "3167       62802  12MAR2014       GRD  ...                Y        1      1\n",
              "44113        762  04JAN2014       UGR  ...                Y        0      1\n",
              "45803      24487  31JAN2014       SCH  ...                N        0      1\n",
              "\n",
              "[5 rows x 20 columns]"
            ]
          },
          "metadata": {},
          "execution_count": 311
        }
      ]
    },
    {
      "cell_type": "code",
      "source": [
        "# pandas_profiling.ProfileReport(df_train)"
      ],
      "metadata": {
        "editable": false,
        "execution": {
          "iopub.status.busy": "2021-12-09T20:30:32.200354Z",
          "iopub.execute_input": "2021-12-09T20:30:32.200577Z",
          "iopub.status.idle": "2021-12-09T20:31:06.973652Z",
          "shell.execute_reply.started": "2021-12-09T20:30:32.200551Z",
          "shell.execute_reply": "2021-12-09T20:31:06.972764Z"
        },
        "trusted": true,
        "id": "92WZoXiXLBN0"
      },
      "execution_count": 312,
      "outputs": []
    },
    {
      "cell_type": "code",
      "source": [
        "data.nunique(dropna=False)"
      ],
      "metadata": {
        "editable": false,
        "execution": {
          "iopub.status.busy": "2021-12-09T20:31:07.029780Z",
          "iopub.execute_input": "2021-12-09T20:31:07.030166Z",
          "iopub.status.idle": "2021-12-09T20:31:07.107451Z",
          "shell.execute_reply.started": "2021-12-09T20:31:07.030128Z",
          "shell.execute_reply": "2021-12-09T20:31:07.106510Z"
        },
        "trusted": true,
        "id": "VQyqMkCyLBN1",
        "colab": {
          "base_uri": "https://localhost:8080/"
        },
        "outputId": "0ca3f0ac-5c09-4d51-f9d1-b98da9d010f6"
      },
      "execution_count": 313,
      "outputs": [
        {
          "output_type": "execute_result",
          "data": {
            "text/plain": [
              "client_id           110148\n",
              "app_date               120\n",
              "education                6\n",
              "sex                      2\n",
              "age                     52\n",
              "car                      2\n",
              "car_type                 2\n",
              "decline_app_cnt         24\n",
              "good_work                2\n",
              "score_bki           102618\n",
              "bki_request_cnt         40\n",
              "region_rating            7\n",
              "home_address             3\n",
              "work_address             3\n",
              "income                1207\n",
              "sna                      4\n",
              "first_time               4\n",
              "foreign_passport         2\n",
              "sample                   2\n",
              "default                  2\n",
              "dtype: int64"
            ]
          },
          "metadata": {},
          "execution_count": 313
        }
      ]
    },
    {
      "cell_type": "code",
      "source": [
        "old_cols = set(['client_id', 'education', 'sex', 'age', 'car', 'car_type',\n",
        "       'decline_app_cnt', 'good_work', 'bki_request_cnt', 'home_address',\n",
        "       'work_address', 'income', 'foreign_passport', 'default'])\n",
        "\n",
        "new_cols = set(df_train.columns) - old_cols - set(['sample'])\n",
        "print ('Новые признаки:\\n', *new_cols)"
      ],
      "metadata": {
        "editable": false,
        "execution": {
          "iopub.status.busy": "2021-12-09T20:31:07.108630Z",
          "iopub.execute_input": "2021-12-09T20:31:07.109156Z",
          "iopub.status.idle": "2021-12-09T20:31:07.117057Z",
          "shell.execute_reply.started": "2021-12-09T20:31:07.109118Z",
          "shell.execute_reply": "2021-12-09T20:31:07.116053Z"
        },
        "trusted": true,
        "id": "0Ax1NDMiLBN1",
        "colab": {
          "base_uri": "https://localhost:8080/"
        },
        "outputId": "8e2e9744-f9eb-4329-9958-1825f6945497"
      },
      "execution_count": 314,
      "outputs": [
        {
          "output_type": "stream",
          "name": "stdout",
          "text": [
            "Новые признаки:\n",
            " score_bki app_date first_time sna region_rating\n"
          ]
        }
      ]
    },
    {
      "cell_type": "code",
      "source": [
        "data['default'].value_counts(ascending=True).plot(kind='barh');"
      ],
      "metadata": {
        "editable": false,
        "execution": {
          "iopub.status.busy": "2021-12-09T20:31:07.118565Z",
          "iopub.execute_input": "2021-12-09T20:31:07.119360Z",
          "iopub.status.idle": "2021-12-09T20:31:07.314955Z",
          "shell.execute_reply.started": "2021-12-09T20:31:07.119316Z",
          "shell.execute_reply": "2021-12-09T20:31:07.313862Z"
        },
        "trusted": true,
        "id": "iC4zVclwLBN2",
        "colab": {
          "base_uri": "https://localhost:8080/",
          "height": 265
        },
        "outputId": "49cb511b-5314-49c1-ab2a-e461eda73750"
      },
      "execution_count": 315,
      "outputs": [
        {
          "output_type": "display_data",
          "data": {
            "image/png": "[encoded data removed]",
            "text/plain": [
              "<Figure size 432x288 with 1 Axes>"
            ]
          },
          "metadata": {
            "needs_background": "light"
          }
        }
      ]
    },
    {
      "cell_type": "markdown",
      "source": [
        "Наблюдается сильный дисбаланс классов: <br> "
      ],
      "metadata": {
        "id": "8fekJK4wvt1P"
      }
    },
    {
      "cell_type": "code",
      "source": [
        "print('соотношение недефолтных клиентов к дефолтным - 1 к',\\\n",
        "      round(data.default[data.default == 0].count() / data.default[data.default == 1].count()))"
      ],
      "metadata": {
        "colab": {
          "base_uri": "https://localhost:8080/"
        },
        "id": "MSjlwgkSwOj-",
        "outputId": "56ccfac6-94a9-4daf-cf1f-165abfb1b349"
      },
      "execution_count": 316,
      "outputs": [
        {
          "output_type": "stream",
          "name": "stdout",
          "text": [
            "соотношение недефолтных клиентов к дефолтным - 1 к 11\n"
          ]
        }
      ]
    },
    {
      "cell_type": "markdown",
      "source": [
        "---\n",
        "##Заполнение пропусков\n",
        "---\n",
        "---"
      ],
      "metadata": {
        "id": "E0SrNHFr2s1T"
      }
    },
    {
      "cell_type": "code",
      "source": [
        "#заполняем пропуски в education случайным образом с распределением как в df_train \n",
        "\n",
        "edu_species = data['education'].dropna().unique()\n",
        "edu_species_num = edu_species.shape[0]\n",
        "\n",
        "#доля каждого значения среди всех значений признака education\n",
        "weights = data[data['sample']==1]['education'].value_counts() / data[data['sample']==1]['education'].count()\n",
        "\n",
        "data['education'] = data['education'].apply(\n",
        "    lambda x: np.random.choice(edu_species, 1, p = weights)[0] if pd.isna(x) else x\n",
        ")"
      ],
      "metadata": {
        "editable": false,
        "execution": {
          "iopub.status.busy": "2021-12-09T20:31:07.316640Z",
          "iopub.execute_input": "2021-12-09T20:31:07.317002Z",
          "iopub.status.idle": "2021-12-09T20:31:07.449469Z",
          "shell.execute_reply.started": "2021-12-09T20:31:07.316967Z",
          "shell.execute_reply": "2021-12-09T20:31:07.448595Z"
        },
        "trusted": true,
        "id": "9Lh9qiyFLBN2"
      },
      "execution_count": 317,
      "outputs": []
    },
    {
      "cell_type": "markdown",
      "source": [
        "---\n",
        "## Обработка признаков\n",
        "---\n",
        "---\n",
        "\n"
      ],
      "metadata": {
        "id": "7-9VZ_kK2zMF"
      }
    },
    {
      "cell_type": "markdown",
      "source": [
        "##### Логарифмирование признаков"
      ],
      "metadata": {
        "id": "q4KudZa-9eSV"
      }
    },
    {
      "cell_type": "code",
      "source": [
        "#логарифмируем все числовые признаки кроме score_bki\n",
        "\n",
        "cols_to_log = num_cols.copy()\n",
        "cols_to_log.remove('score_bki')\n",
        "\n",
        "# x + 1 - избегаем взятия логарифма от нуля\n",
        "data[cols_to_log] = data[cols_to_log].apply(lambda x: np.log(x + 1))"
      ],
      "metadata": {
        "id": "N7eTU_am3AY6"
      },
      "execution_count": 318,
      "outputs": []
    },
    {
      "cell_type": "markdown",
      "source": [
        "##### Выявление выбросов"
      ],
      "metadata": {
        "id": "Rl57zyvUyKRY"
      }
    },
    {
      "cell_type": "code",
      "source": [
        "train_data = data.query('sample == 1')[num_cols]\n",
        "\n",
        "#вычисляем 1й и 3й квартили и межквартильный интервал для тренировочного датасета\n",
        "Q1 = train_data.quantile(0.25, axis=0)\n",
        "Q3 = train_data.quantile(0.75, axis=0)\n",
        "\n",
        "IQR = Q3 - Q1\n",
        "lbound, ubound = Q1 - 1.5 * IQR, Q3 + 1.5 * IQR\n",
        "\n",
        "outliers = {}\n",
        "for col in num_cols:\n",
        "\n",
        "    outliers[col] = [data[(~data[col].between(lbound[col], ubound[col])) &\n",
        "                              (data.default == 1)][col].count(),\n",
        "                      \n",
        "                     data[(~data[col].between(lbound[col], ubound[col])) &\n",
        "                              (data.default == 0)][col].count(),\n",
        "                    ]\n",
        "    \n",
        "    outliers[col] += [sum(outliers[col])]\n",
        "\n",
        "outliers = pd.DataFrame(outliers, index=pd.MultiIndex.from_product([\n",
        "                                    ['outliers'],\n",
        "                                    ['default = 1',\n",
        "                                     'default = 0',\n",
        "                                     'total']]),\n",
        ")\n",
        "\n",
        "num_cols_w_outliers = \\\n",
        "    outliers.loc[\n",
        "                 ('outliers', 'total'),\n",
        "                 outliers.loc[('outliers', 'total'), :] != 0\n",
        "    ].index\n",
        "print ('\\033[1m' + '===============================  ВЫБРОСЫ  ==================================' + '\\033[0m\\n')\n",
        "display(outliers)"
      ],
      "metadata": {
        "colab": {
          "base_uri": "https://localhost:8080/",
          "height": 179
        },
        "id": "VfjMru5POT1T",
        "outputId": "7a473398-588a-4cb9-dc48-fb5cf7e72e6b"
      },
      "execution_count": 319,
      "outputs": [
        {
          "output_type": "stream",
          "name": "stdout",
          "text": [
            "\u001b[1m===============================  ВЫБРОСЫ  ==================================\u001b[0m\n",
            "\n"
          ]
        },
        {
          "output_type": "display_data",
          "data": {
            "text/html": [
              "\n",
              "  <div id=\"df-8f2efcbb-3feb-422e-ad9c-ea22f6c4e23d\">\n",
              "    <div class=\"colab-df-container\">\n",
              "      <div>\n",
              "<style scoped>\n",
              "    .dataframe tbody tr th:only-of-type {\n",
              "        vertical-align: middle;\n",
              "    }\n",
              "\n",
              "    .dataframe tbody tr th {\n",
              "        vertical-align: top;\n",
              "    }\n",
              "\n",
              "    .dataframe thead th {\n",
              "        text-align: right;\n",
              "    }\n",
              "</style>\n",
              "<table border=\"1\" class=\"dataframe\">\n",
              "  <thead>\n",
              "    <tr style=\"text-align: right;\">\n",
              "      <th></th>\n",
              "      <th></th>\n",
              "      <th>age</th>\n",
              "      <th>score_bki</th>\n",
              "      <th>decline_app_cnt</th>\n",
              "      <th>bki_request_cnt</th>\n",
              "      <th>income</th>\n",
              "    </tr>\n",
              "  </thead>\n",
              "  <tbody>\n",
              "    <tr>\n",
              "      <th rowspan=\"3\" valign=\"top\">outliers</th>\n",
              "      <th>default = 1</th>\n",
              "      <td>0</td>\n",
              "      <td>114</td>\n",
              "      <td>2667</td>\n",
              "      <td>4</td>\n",
              "      <td>177</td>\n",
              "    </tr>\n",
              "    <tr>\n",
              "      <th>default = 0</th>\n",
              "      <td>0</td>\n",
              "      <td>421</td>\n",
              "      <td>16010</td>\n",
              "      <td>11</td>\n",
              "      <td>2432</td>\n",
              "    </tr>\n",
              "    <tr>\n",
              "      <th>total</th>\n",
              "      <td>0</td>\n",
              "      <td>535</td>\n",
              "      <td>18677</td>\n",
              "      <td>15</td>\n",
              "      <td>2609</td>\n",
              "    </tr>\n",
              "  </tbody>\n",
              "</table>\n",
              "</div>\n",
              "      <button class=\"colab-df-convert\" onclick=\"convertToInteractive('df-8f2efcbb-3feb-422e-ad9c-ea22f6c4e23d')\"\n",
              "              title=\"Convert this dataframe to an interactive table.\"\n",
              "              style=\"display:none;\">\n",
              "        \n",
              "  <svg xmlns=\"http://www.w3.org/2000/svg\" height=\"24px\"viewBox=\"0 0 24 24\"\n",
              "       width=\"24px\">\n",
              "    <path d=\"M0 0h24v24H0V0z\" fill=\"none\"/>\n",
              "    <path d=\"M18.56 5.44l.94 2.06.94-2.06 2.06-.94-2.06-.94-.94-2.06-.94 2.06-2.06.94zm-11 1L8.5 8.5l.94-2.06 2.06-.94-2.06-.94L8.5 2.5l-.94 2.06-2.06.94zm10 10l.94 2.06.94-2.06 2.06-.94-2.06-.94-.94-2.06-.94 2.06-2.06.94z\"/><path d=\"M17.41 7.96l-1.37-1.37c-.4-.4-.92-.59-1.43-.59-.52 0-1.04.2-1.43.59L10.3 9.45l-7.72 7.72c-.78.78-.78 2.05 0 2.83L4 21.41c.39.39.9.59 1.41.59.51 0 1.02-.2 1.41-.59l7.78-7.78 2.81-2.81c.8-.78.8-2.07 0-2.86zM5.41 20L4 18.59l7.72-7.72 1.47 1.35L5.41 20z\"/>\n",
              "  </svg>\n",
              "      </button>\n",
              "      \n",
              "  <style>\n",
              "    .colab-df-container {\n",
              "      display:flex;\n",
              "      flex-wrap:wrap;\n",
              "      gap: 12px;\n",
              "    }\n",
              "\n",
              "    .colab-df-convert {\n",
              "      background-color: #E8F0FE;\n",
              "      border: none;\n",
              "      border-radius: 50%;\n",
              "      cursor: pointer;\n",
              "      display: none;\n",
              "      fill: #1967D2;\n",
              "      height: 32px;\n",
              "      padding: 0 0 0 0;\n",
              "      width: 32px;\n",
              "    }\n",
              "\n",
              "    .colab-df-convert:hover {\n",
              "      background-color: #E2EBFA;\n",
              "      box-shadow: 0px 1px 2px rgba(60, 64, 67, 0.3), 0px 1px 3px 1px rgba(60, 64, 67, 0.15);\n",
              "      fill: #174EA6;\n",
              "    }\n",
              "\n",
              "    [theme=dark] .colab-df-convert {\n",
              "      background-color: #3B4455;\n",
              "      fill: #D2E3FC;\n",
              "    }\n",
              "\n",
              "    [theme=dark] .colab-df-convert:hover {\n",
              "      background-color: #434B5C;\n",
              "      box-shadow: 0px 1px 3px 1px rgba(0, 0, 0, 0.15);\n",
              "      filter: drop-shadow(0px 1px 2px rgba(0, 0, 0, 0.3));\n",
              "      fill: #FFFFFF;\n",
              "    }\n",
              "  </style>\n",
              "\n",
              "      <script>\n",
              "        const buttonEl =\n",
              "          document.querySelector('#df-8f2efcbb-3feb-422e-ad9c-ea22f6c4e23d button.colab-df-convert');\n",
              "        buttonEl.style.display =\n",
              "          google.colab.kernel.accessAllowed ? 'block' : 'none';\n",
              "\n",
              "        async function convertToInteractive(key) {\n",
              "          const element = document.querySelector('#df-8f2efcbb-3feb-422e-ad9c-ea22f6c4e23d');\n",
              "          const dataTable =\n",
              "            await google.colab.kernel.invokeFunction('convertToInteractive',\n",
              "                                                     [key], {});\n",
              "          if (!dataTable) return;\n",
              "\n",
              "          const docLinkHtml = 'Like what you see? Visit the ' +\n",
              "            '<a target=\"_blank\" href=https://colab.research.google.com/notebooks/data_table.ipynb>data table notebook</a>'\n",
              "            + ' to learn more about interactive tables.';\n",
              "          element.innerHTML = '';\n",
              "          dataTable['output_type'] = 'display_data';\n",
              "          await google.colab.output.renderOutput(dataTable, element);\n",
              "          const docLink = document.createElement('div');\n",
              "          docLink.innerHTML = docLinkHtml;\n",
              "          element.appendChild(docLink);\n",
              "        }\n",
              "      </script>\n",
              "    </div>\n",
              "  </div>\n",
              "  "
            ],
            "text/plain": [
              "                      age  score_bki  decline_app_cnt  bki_request_cnt  income\n",
              "outliers default = 1    0        114             2667                4     177\n",
              "         default = 0    0        421            16010               11    2432\n",
              "         total          0        535            18677               15    2609"
            ]
          },
          "metadata": {}
        }
      ]
    },
    {
      "cell_type": "code",
      "source": [
        "# data[num_cols].apply(\n",
        "#     lambda col: col.apply(\n",
        "#         lambda el: el <= (Q1[col.name] - 1.5 * IQR[col.name]) and \n",
        "#             (el >= Q3[col.name] + 1.5 * IQR[col.name]))).sum(axis=0)"
      ],
      "metadata": {
        "id": "iSbMVMyprju7"
      },
      "execution_count": 320,
      "outputs": []
    },
    {
      "cell_type": "markdown",
      "source": [
        "##### Добавляем новые признаки на основе выбросов:\n",
        "\n",
        "***Описание добавить***\n"
      ],
      "metadata": {
        "id": "0AtjGyF3dgXF"
      }
    },
    {
      "cell_type": "code",
      "source": [
        "for col in num_cols_w_outliers:\n",
        "\n",
        "    # создаем новый признак\n",
        "    data[col + '_outliers'] = 0\n",
        "\n",
        "    # маски для \"верхних\" и \"нижних\" выбросов\n",
        "    mask_right = data[col] >= ubound[col]\n",
        "    mask_left = data[col] <= lbound[col]\n",
        "\n",
        "    data.loc[mask_right | mask_left, col + '_outliers'] = \\\n",
        "        outliers.loc[('outliers', 'total'), col]\n",
        "\n",
        "    # подтягиваем выбросы к краям интервала с невыбросными значениями\n",
        "    data.loc[mask_right, col] = ubound[col]\n",
        "    data.loc[mask_left,  col] = lbound[col]"
      ],
      "metadata": {
        "id": "fin4sOor00Ld"
      },
      "execution_count": 321,
      "outputs": []
    },
    {
      "cell_type": "code",
      "source": [
        ""
      ],
      "metadata": {
        "id": "7tW3cPGyufV9"
      },
      "execution_count": 321,
      "outputs": []
    },
    {
      "cell_type": "code",
      "source": [
        "# pd.concat([data.query(col+'_outliers'+'== 0')[col+'_outliers'], \n",
        "#     data.query(col+'_outliers'+'!= 0')[col+'_outliers']], axis=1) #.sample(10)\n",
        "\n",
        "# data.query(col+'_outliers'+'== 0')[col+'_outliers']\n",
        "# mask_.shape, data.shape\n"
      ],
      "metadata": {
        "id": "VRTPDXVvIbOi"
      },
      "execution_count": 322,
      "outputs": []
    },
    {
      "cell_type": "code",
      "source": [
        "# %%html\n",
        "# import IPython\n",
        "\n",
        "# table = '''\n",
        "# <table cellspacing=\"0\" border=\"2\" cellpadding=\"5\" width=\"60\">\n",
        "#   <tr align=\"center\">\n",
        "#     <td></td><td>age</td><td>score_bki</td><td>decline_app_cnt</td><td>bki_request_cnt</td><td>income</td>    \t\n",
        "#   </tr>\n",
        "#   <tr align=\"center\">\n",
        "#     <td>outliers_count</td><td>0</td><td>535</td><td>18677</td><td>15</td><td>2609</td>\n",
        "#   </tr>\n",
        "# </table>'''\n",
        "# IPython.display.HTML(table)"
      ],
      "metadata": {
        "id": "F6tSlNRmmH-Y"
      },
      "execution_count": 323,
      "outputs": []
    },
    {
      "cell_type": "code",
      "source": [
        "# import seaborn as sns\n",
        "\n",
        "# fig, ax = plt.subplots(3, 3, figsize=(20, 8))\n",
        "\n",
        "# for i, cat in enumerate(num_cols):\n",
        "#     ax_c = ax[i // 2, i % 2]\n",
        "#     sns.boxplot(x='default', y=cat, data=data[num_cols+['default']], ax=ax_c)\n",
        "#     ax_c.set_ylabel(cat, fontsize=13)\n",
        "# # ax2 = sns.boxenplot(x='', y='', data=data[])\n",
        "# fig.suptitle('Распределение числовых переменных', fontsize=16);"
      ],
      "metadata": {
        "editable": false,
        "execution": {
          "iopub.status.busy": "2021-12-09T20:37:39.354236Z",
          "iopub.execute_input": "2021-12-09T20:37:39.354549Z",
          "iopub.status.idle": "2021-12-09T20:37:41.205407Z",
          "shell.execute_reply.started": "2021-12-09T20:37:39.354520Z",
          "shell.execute_reply": "2021-12-09T20:37:41.204477Z"
        },
        "trusted": true,
        "id": "-drQzAhBLBN2"
      },
      "execution_count": 324,
      "outputs": []
    },
    {
      "cell_type": "markdown",
      "source": [
        "========================================================\n",
        "#####  ***поработать с признаком 'app_date'***"
      ],
      "metadata": {
        "editable": false,
        "id": "QtV2BvFvLBN3"
      }
    },
    {
      "cell_type": "markdown",
      "source": [
        "##### Label и One-Hot encoding"
      ],
      "metadata": {
        "id": "qeBIAS7SUKfQ"
      }
    },
    {
      "cell_type": "code",
      "source": [
        "# удаляем заведомо не влияющие признаки\n",
        "data.drop(['client_id','app_date',], axis = 1, inplace=True)"
      ],
      "metadata": {
        "editable": false,
        "execution": {
          "iopub.status.busy": "2021-12-09T20:37:41.207450Z",
          "iopub.execute_input": "2021-12-09T20:37:41.207928Z",
          "iopub.status.idle": "2021-12-09T20:37:41.221590Z",
          "shell.execute_reply.started": "2021-12-09T20:37:41.207884Z",
          "shell.execute_reply": "2021-12-09T20:37:41.220499Z"
        },
        "trusted": true,
        "id": "zUiVapmxLBN3"
      },
      "execution_count": 325,
      "outputs": []
    },
    {
      "cell_type": "code",
      "source": [
        "data = pd.get_dummies(data, columns=['education'], dummy_na=False)"
      ],
      "metadata": {
        "editable": false,
        "execution": {
          "iopub.status.busy": "2021-12-09T20:37:41.223076Z",
          "iopub.execute_input": "2021-12-09T20:37:41.223379Z",
          "iopub.status.idle": "2021-12-09T20:37:41.255601Z",
          "shell.execute_reply.started": "2021-12-09T20:37:41.223350Z",
          "shell.execute_reply": "2021-12-09T20:37:41.254823Z"
        },
        "trusted": true,
        "id": "g90rk2PPLBN3"
      },
      "execution_count": 326,
      "outputs": []
    },
    {
      "cell_type": "code",
      "source": [
        "from sklearn import preprocessing as pp\n",
        "\n",
        "label_enc = pp.LabelEncoder()\n",
        "\n",
        "for col in bin_cols:\n",
        "    data[col] = label_enc.fit_transform(data[col])\n",
        "    \n",
        "cat_cols_copy = cat_cols.copy()\n",
        "cat_cols_copy.remove('education')\n",
        "\n",
        "for col in cat_cols_copy:\n",
        "    data[col] = label_enc.fit_transform(data[col])"
      ],
      "metadata": {
        "editable": false,
        "execution": {
          "iopub.status.busy": "2021-12-09T20:37:41.257080Z",
          "iopub.execute_input": "2021-12-09T20:37:41.257298Z",
          "iopub.status.idle": "2021-12-09T20:37:41.434787Z",
          "shell.execute_reply.started": "2021-12-09T20:37:41.257273Z",
          "shell.execute_reply": "2021-12-09T20:37:41.433588Z"
        },
        "trusted": true,
        "id": "NPJttgFSLBN4"
      },
      "execution_count": 327,
      "outputs": []
    },
    {
      "cell_type": "code",
      "source": [
        "data"
      ],
      "metadata": {
        "colab": {
          "base_uri": "https://localhost:8080/",
          "height": 487
        },
        "id": "e3DwwN5XTW8T",
        "outputId": "77e0a22f-07e6-4f9b-e4e3-838f089d6182"
      },
      "execution_count": 328,
      "outputs": [
        {
          "output_type": "execute_result",
          "data": {
            "text/html": [
              "\n",
              "  <div id=\"df-0ceedf0a-d190-49ae-bdf3-b10a11b5e60d\">\n",
              "    <div class=\"colab-df-container\">\n",
              "      <div>\n",
              "<style scoped>\n",
              "    .dataframe tbody tr th:only-of-type {\n",
              "        vertical-align: middle;\n",
              "    }\n",
              "\n",
              "    .dataframe tbody tr th {\n",
              "        vertical-align: top;\n",
              "    }\n",
              "\n",
              "    .dataframe thead th {\n",
              "        text-align: right;\n",
              "    }\n",
              "</style>\n",
              "<table border=\"1\" class=\"dataframe\">\n",
              "  <thead>\n",
              "    <tr style=\"text-align: right;\">\n",
              "      <th></th>\n",
              "      <th>sex</th>\n",
              "      <th>age</th>\n",
              "      <th>car</th>\n",
              "      <th>car_type</th>\n",
              "      <th>decline_app_cnt</th>\n",
              "      <th>good_work</th>\n",
              "      <th>score_bki</th>\n",
              "      <th>bki_request_cnt</th>\n",
              "      <th>region_rating</th>\n",
              "      <th>home_address</th>\n",
              "      <th>work_address</th>\n",
              "      <th>income</th>\n",
              "      <th>sna</th>\n",
              "      <th>first_time</th>\n",
              "      <th>foreign_passport</th>\n",
              "      <th>sample</th>\n",
              "      <th>default</th>\n",
              "      <th>score_bki_outliers</th>\n",
              "      <th>decline_app_cnt_outliers</th>\n",
              "      <th>bki_request_cnt_outliers</th>\n",
              "      <th>income_outliers</th>\n",
              "      <th>education_ACD</th>\n",
              "      <th>education_GRD</th>\n",
              "      <th>education_PGR</th>\n",
              "      <th>education_SCH</th>\n",
              "      <th>education_UGR</th>\n",
              "    </tr>\n",
              "  </thead>\n",
              "  <tbody>\n",
              "    <tr>\n",
              "      <th>0</th>\n",
              "      <td>1</td>\n",
              "      <td>3.401197</td>\n",
              "      <td>1</td>\n",
              "      <td>1</td>\n",
              "      <td>0.0</td>\n",
              "      <td>0</td>\n",
              "      <td>-2.271884</td>\n",
              "      <td>1.386294</td>\n",
              "      <td>3</td>\n",
              "      <td>0</td>\n",
              "      <td>1</td>\n",
              "      <td>10.819798</td>\n",
              "      <td>0</td>\n",
              "      <td>3</td>\n",
              "      <td>0</td>\n",
              "      <td>0</td>\n",
              "      <td>0</td>\n",
              "      <td>0</td>\n",
              "      <td>18677</td>\n",
              "      <td>0</td>\n",
              "      <td>0</td>\n",
              "      <td>0</td>\n",
              "      <td>1</td>\n",
              "      <td>0</td>\n",
              "      <td>0</td>\n",
              "      <td>0</td>\n",
              "    </tr>\n",
              "    <tr>\n",
              "      <th>1</th>\n",
              "      <td>0</td>\n",
              "      <td>3.688879</td>\n",
              "      <td>0</td>\n",
              "      <td>0</td>\n",
              "      <td>0.0</td>\n",
              "      <td>0</td>\n",
              "      <td>-1.504999</td>\n",
              "      <td>1.098612</td>\n",
              "      <td>3</td>\n",
              "      <td>0</td>\n",
              "      <td>1</td>\n",
              "      <td>8.590378</td>\n",
              "      <td>3</td>\n",
              "      <td>2</td>\n",
              "      <td>0</td>\n",
              "      <td>0</td>\n",
              "      <td>0</td>\n",
              "      <td>0</td>\n",
              "      <td>18677</td>\n",
              "      <td>0</td>\n",
              "      <td>2609</td>\n",
              "      <td>0</td>\n",
              "      <td>0</td>\n",
              "      <td>0</td>\n",
              "      <td>1</td>\n",
              "      <td>0</td>\n",
              "    </tr>\n",
              "    <tr>\n",
              "      <th>2</th>\n",
              "      <td>1</td>\n",
              "      <td>3.931826</td>\n",
              "      <td>1</td>\n",
              "      <td>1</td>\n",
              "      <td>0.0</td>\n",
              "      <td>0</td>\n",
              "      <td>-1.691339</td>\n",
              "      <td>0.693147</td>\n",
              "      <td>3</td>\n",
              "      <td>0</td>\n",
              "      <td>1</td>\n",
              "      <td>10.308986</td>\n",
              "      <td>0</td>\n",
              "      <td>2</td>\n",
              "      <td>1</td>\n",
              "      <td>0</td>\n",
              "      <td>0</td>\n",
              "      <td>0</td>\n",
              "      <td>18677</td>\n",
              "      <td>0</td>\n",
              "      <td>0</td>\n",
              "      <td>0</td>\n",
              "      <td>0</td>\n",
              "      <td>0</td>\n",
              "      <td>0</td>\n",
              "      <td>1</td>\n",
              "    </tr>\n",
              "    <tr>\n",
              "      <th>3</th>\n",
              "      <td>1</td>\n",
              "      <td>4.043051</td>\n",
              "      <td>0</td>\n",
              "      <td>0</td>\n",
              "      <td>0.0</td>\n",
              "      <td>0</td>\n",
              "      <td>-2.374182</td>\n",
              "      <td>0.693147</td>\n",
              "      <td>2</td>\n",
              "      <td>0</td>\n",
              "      <td>1</td>\n",
              "      <td>9.741027</td>\n",
              "      <td>0</td>\n",
              "      <td>2</td>\n",
              "      <td>0</td>\n",
              "      <td>0</td>\n",
              "      <td>0</td>\n",
              "      <td>0</td>\n",
              "      <td>18677</td>\n",
              "      <td>0</td>\n",
              "      <td>0</td>\n",
              "      <td>0</td>\n",
              "      <td>0</td>\n",
              "      <td>0</td>\n",
              "      <td>1</td>\n",
              "      <td>0</td>\n",
              "    </tr>\n",
              "    <tr>\n",
              "      <th>4</th>\n",
              "      <td>0</td>\n",
              "      <td>3.663562</td>\n",
              "      <td>0</td>\n",
              "      <td>0</td>\n",
              "      <td>0.0</td>\n",
              "      <td>0</td>\n",
              "      <td>-2.487502</td>\n",
              "      <td>0.000000</td>\n",
              "      <td>6</td>\n",
              "      <td>1</td>\n",
              "      <td>2</td>\n",
              "      <td>11.695255</td>\n",
              "      <td>0</td>\n",
              "      <td>2</td>\n",
              "      <td>0</td>\n",
              "      <td>0</td>\n",
              "      <td>0</td>\n",
              "      <td>0</td>\n",
              "      <td>18677</td>\n",
              "      <td>0</td>\n",
              "      <td>0</td>\n",
              "      <td>0</td>\n",
              "      <td>1</td>\n",
              "      <td>0</td>\n",
              "      <td>0</td>\n",
              "      <td>0</td>\n",
              "    </tr>\n",
              "    <tr>\n",
              "      <th>...</th>\n",
              "      <td>...</td>\n",
              "      <td>...</td>\n",
              "      <td>...</td>\n",
              "      <td>...</td>\n",
              "      <td>...</td>\n",
              "      <td>...</td>\n",
              "      <td>...</td>\n",
              "      <td>...</td>\n",
              "      <td>...</td>\n",
              "      <td>...</td>\n",
              "      <td>...</td>\n",
              "      <td>...</td>\n",
              "      <td>...</td>\n",
              "      <td>...</td>\n",
              "      <td>...</td>\n",
              "      <td>...</td>\n",
              "      <td>...</td>\n",
              "      <td>...</td>\n",
              "      <td>...</td>\n",
              "      <td>...</td>\n",
              "      <td>...</td>\n",
              "      <td>...</td>\n",
              "      <td>...</td>\n",
              "      <td>...</td>\n",
              "      <td>...</td>\n",
              "      <td>...</td>\n",
              "    </tr>\n",
              "    <tr>\n",
              "      <th>110143</th>\n",
              "      <td>0</td>\n",
              "      <td>3.828641</td>\n",
              "      <td>0</td>\n",
              "      <td>0</td>\n",
              "      <td>0.0</td>\n",
              "      <td>0</td>\n",
              "      <td>-1.792064</td>\n",
              "      <td>1.386294</td>\n",
              "      <td>3</td>\n",
              "      <td>0</td>\n",
              "      <td>1</td>\n",
              "      <td>9.741027</td>\n",
              "      <td>3</td>\n",
              "      <td>3</td>\n",
              "      <td>0</td>\n",
              "      <td>1</td>\n",
              "      <td>0</td>\n",
              "      <td>0</td>\n",
              "      <td>18677</td>\n",
              "      <td>0</td>\n",
              "      <td>0</td>\n",
              "      <td>0</td>\n",
              "      <td>1</td>\n",
              "      <td>0</td>\n",
              "      <td>0</td>\n",
              "      <td>0</td>\n",
              "    </tr>\n",
              "    <tr>\n",
              "      <th>110144</th>\n",
              "      <td>1</td>\n",
              "      <td>3.737670</td>\n",
              "      <td>1</td>\n",
              "      <td>1</td>\n",
              "      <td>0.0</td>\n",
              "      <td>0</td>\n",
              "      <td>-2.058029</td>\n",
              "      <td>0.693147</td>\n",
              "      <td>3</td>\n",
              "      <td>1</td>\n",
              "      <td>1</td>\n",
              "      <td>11.156265</td>\n",
              "      <td>0</td>\n",
              "      <td>3</td>\n",
              "      <td>0</td>\n",
              "      <td>1</td>\n",
              "      <td>0</td>\n",
              "      <td>0</td>\n",
              "      <td>18677</td>\n",
              "      <td>0</td>\n",
              "      <td>0</td>\n",
              "      <td>0</td>\n",
              "      <td>0</td>\n",
              "      <td>0</td>\n",
              "      <td>1</td>\n",
              "      <td>0</td>\n",
              "    </tr>\n",
              "    <tr>\n",
              "      <th>110145</th>\n",
              "      <td>1</td>\n",
              "      <td>3.465736</td>\n",
              "      <td>0</td>\n",
              "      <td>0</td>\n",
              "      <td>0.0</td>\n",
              "      <td>0</td>\n",
              "      <td>-1.512635</td>\n",
              "      <td>1.609438</td>\n",
              "      <td>6</td>\n",
              "      <td>1</td>\n",
              "      <td>2</td>\n",
              "      <td>10.714440</td>\n",
              "      <td>1</td>\n",
              "      <td>1</td>\n",
              "      <td>0</td>\n",
              "      <td>1</td>\n",
              "      <td>0</td>\n",
              "      <td>0</td>\n",
              "      <td>18677</td>\n",
              "      <td>0</td>\n",
              "      <td>0</td>\n",
              "      <td>0</td>\n",
              "      <td>0</td>\n",
              "      <td>0</td>\n",
              "      <td>1</td>\n",
              "      <td>0</td>\n",
              "    </tr>\n",
              "    <tr>\n",
              "      <th>110146</th>\n",
              "      <td>0</td>\n",
              "      <td>3.401197</td>\n",
              "      <td>0</td>\n",
              "      <td>0</td>\n",
              "      <td>0.0</td>\n",
              "      <td>1</td>\n",
              "      <td>-1.479334</td>\n",
              "      <td>1.386294</td>\n",
              "      <td>3</td>\n",
              "      <td>0</td>\n",
              "      <td>2</td>\n",
              "      <td>9.472782</td>\n",
              "      <td>1</td>\n",
              "      <td>2</td>\n",
              "      <td>0</td>\n",
              "      <td>1</td>\n",
              "      <td>1</td>\n",
              "      <td>0</td>\n",
              "      <td>18677</td>\n",
              "      <td>0</td>\n",
              "      <td>0</td>\n",
              "      <td>0</td>\n",
              "      <td>0</td>\n",
              "      <td>0</td>\n",
              "      <td>1</td>\n",
              "      <td>0</td>\n",
              "    </tr>\n",
              "    <tr>\n",
              "      <th>110147</th>\n",
              "      <td>1</td>\n",
              "      <td>3.555348</td>\n",
              "      <td>0</td>\n",
              "      <td>0</td>\n",
              "      <td>0.0</td>\n",
              "      <td>0</td>\n",
              "      <td>-1.764711</td>\n",
              "      <td>1.098612</td>\n",
              "      <td>3</td>\n",
              "      <td>1</td>\n",
              "      <td>2</td>\n",
              "      <td>10.126671</td>\n",
              "      <td>0</td>\n",
              "      <td>2</td>\n",
              "      <td>0</td>\n",
              "      <td>1</td>\n",
              "      <td>0</td>\n",
              "      <td>0</td>\n",
              "      <td>18677</td>\n",
              "      <td>0</td>\n",
              "      <td>0</td>\n",
              "      <td>0</td>\n",
              "      <td>1</td>\n",
              "      <td>0</td>\n",
              "      <td>0</td>\n",
              "      <td>0</td>\n",
              "    </tr>\n",
              "  </tbody>\n",
              "</table>\n",
              "<p>110148 rows × 26 columns</p>\n",
              "</div>\n",
              "      <button class=\"colab-df-convert\" onclick=\"convertToInteractive('df-0ceedf0a-d190-49ae-bdf3-b10a11b5e60d')\"\n",
              "              title=\"Convert this dataframe to an interactive table.\"\n",
              "              style=\"display:none;\">\n",
              "        \n",
              "  <svg xmlns=\"http://www.w3.org/2000/svg\" height=\"24px\"viewBox=\"0 0 24 24\"\n",
              "       width=\"24px\">\n",
              "    <path d=\"M0 0h24v24H0V0z\" fill=\"none\"/>\n",
              "    <path d=\"M18.56 5.44l.94 2.06.94-2.06 2.06-.94-2.06-.94-.94-2.06-.94 2.06-2.06.94zm-11 1L8.5 8.5l.94-2.06 2.06-.94-2.06-.94L8.5 2.5l-.94 2.06-2.06.94zm10 10l.94 2.06.94-2.06 2.06-.94-2.06-.94-.94-2.06-.94 2.06-2.06.94z\"/><path d=\"M17.41 7.96l-1.37-1.37c-.4-.4-.92-.59-1.43-.59-.52 0-1.04.2-1.43.59L10.3 9.45l-7.72 7.72c-.78.78-.78 2.05 0 2.83L4 21.41c.39.39.9.59 1.41.59.51 0 1.02-.2 1.41-.59l7.78-7.78 2.81-2.81c.8-.78.8-2.07 0-2.86zM5.41 20L4 18.59l7.72-7.72 1.47 1.35L5.41 20z\"/>\n",
              "  </svg>\n",
              "      </button>\n",
              "      \n",
              "  <style>\n",
              "    .colab-df-container {\n",
              "      display:flex;\n",
              "      flex-wrap:wrap;\n",
              "      gap: 12px;\n",
              "    }\n",
              "\n",
              "    .colab-df-convert {\n",
              "      background-color: #E8F0FE;\n",
              "      border: none;\n",
              "      border-radius: 50%;\n",
              "      cursor: pointer;\n",
              "      display: none;\n",
              "      fill: #1967D2;\n",
              "      height: 32px;\n",
              "      padding: 0 0 0 0;\n",
              "      width: 32px;\n",
              "    }\n",
              "\n",
              "    .colab-df-convert:hover {\n",
              "      background-color: #E2EBFA;\n",
              "      box-shadow: 0px 1px 2px rgba(60, 64, 67, 0.3), 0px 1px 3px 1px rgba(60, 64, 67, 0.15);\n",
              "      fill: #174EA6;\n",
              "    }\n",
              "\n",
              "    [theme=dark] .colab-df-convert {\n",
              "      background-color: #3B4455;\n",
              "      fill: #D2E3FC;\n",
              "    }\n",
              "\n",
              "    [theme=dark] .colab-df-convert:hover {\n",
              "      background-color: #434B5C;\n",
              "      box-shadow: 0px 1px 3px 1px rgba(0, 0, 0, 0.15);\n",
              "      filter: drop-shadow(0px 1px 2px rgba(0, 0, 0, 0.3));\n",
              "      fill: #FFFFFF;\n",
              "    }\n",
              "  </style>\n",
              "\n",
              "      <script>\n",
              "        const buttonEl =\n",
              "          document.querySelector('#df-0ceedf0a-d190-49ae-bdf3-b10a11b5e60d button.colab-df-convert');\n",
              "        buttonEl.style.display =\n",
              "          google.colab.kernel.accessAllowed ? 'block' : 'none';\n",
              "\n",
              "        async function convertToInteractive(key) {\n",
              "          const element = document.querySelector('#df-0ceedf0a-d190-49ae-bdf3-b10a11b5e60d');\n",
              "          const dataTable =\n",
              "            await google.colab.kernel.invokeFunction('convertToInteractive',\n",
              "                                                     [key], {});\n",
              "          if (!dataTable) return;\n",
              "\n",
              "          const docLinkHtml = 'Like what you see? Visit the ' +\n",
              "            '<a target=\"_blank\" href=https://colab.research.google.com/notebooks/data_table.ipynb>data table notebook</a>'\n",
              "            + ' to learn more about interactive tables.';\n",
              "          element.innerHTML = '';\n",
              "          dataTable['output_type'] = 'display_data';\n",
              "          await google.colab.output.renderOutput(dataTable, element);\n",
              "          const docLink = document.createElement('div');\n",
              "          docLink.innerHTML = docLinkHtml;\n",
              "          element.appendChild(docLink);\n",
              "        }\n",
              "      </script>\n",
              "    </div>\n",
              "  </div>\n",
              "  "
            ],
            "text/plain": [
              "        sex       age  car  ...  education_PGR  education_SCH  education_UGR\n",
              "0         1  3.401197    1  ...              0              0              0\n",
              "1         0  3.688879    0  ...              0              1              0\n",
              "2         1  3.931826    1  ...              0              0              1\n",
              "3         1  4.043051    0  ...              0              1              0\n",
              "4         0  3.663562    0  ...              0              0              0\n",
              "...     ...       ...  ...  ...            ...            ...            ...\n",
              "110143    0  3.828641    0  ...              0              0              0\n",
              "110144    1  3.737670    1  ...              0              1              0\n",
              "110145    1  3.465736    0  ...              0              1              0\n",
              "110146    0  3.401197    0  ...              0              1              0\n",
              "110147    1  3.555348    0  ...              0              0              0\n",
              "\n",
              "[110148 rows x 26 columns]"
            ]
          },
          "metadata": {},
          "execution_count": 328
        }
      ]
    },
    {
      "cell_type": "code",
      "source": [
        ""
      ],
      "metadata": {
        "id": "MpX39_dTcPd8"
      },
      "execution_count": 328,
      "outputs": []
    },
    {
      "cell_type": "markdown",
      "source": [
        "##### Стандартизация признаков:\n",
        "*стандартизируем объединенный датасет data по параметрам тренировочной выборки*"
      ],
      "metadata": {
        "id": "PYSwBT4HTXVz"
      }
    },
    {
      "cell_type": "code",
      "source": [
        "std_scaler = pp.StandardScaler()\n",
        "\n",
        "std_scaler.fit(data[data['sample'] == 1].drop(['sample', 'default'], axis=1))\n",
        "\n",
        "cols_for_scaling = list(data.columns)\n",
        "cols_for_scaling.remove('default')\n",
        "cols_for_scaling.remove('sample')\n",
        "\n",
        "data[cols_for_scaling] = std_scaler.transform(data.drop(['sample', 'default'], \n",
        "                                                        axis=1))"
      ],
      "metadata": {
        "id": "9xZRMkhtR1y2"
      },
      "execution_count": 329,
      "outputs": []
    },
    {
      "cell_type": "code",
      "source": [
        "data.info()"
      ],
      "metadata": {
        "editable": false,
        "execution": {
          "iopub.status.busy": "2021-12-09T20:37:41.437274Z",
          "iopub.execute_input": "2021-12-09T20:37:41.437609Z",
          "iopub.status.idle": "2021-12-09T20:37:41.459247Z",
          "shell.execute_reply.started": "2021-12-09T20:37:41.437576Z",
          "shell.execute_reply": "2021-12-09T20:37:41.458419Z"
        },
        "trusted": true,
        "id": "kU7ltUwZLBN4",
        "colab": {
          "base_uri": "https://localhost:8080/"
        },
        "outputId": "fff5365d-b934-4d89-8751-b3a5dd6ca2a4"
      },
      "execution_count": 330,
      "outputs": [
        {
          "output_type": "stream",
          "name": "stdout",
          "text": [
            "<class 'pandas.core.frame.DataFrame'>\n",
            "RangeIndex: 110148 entries, 0 to 110147\n",
            "Data columns (total 26 columns):\n",
            " #   Column                    Non-Null Count   Dtype  \n",
            "---  ------                    --------------   -----  \n",
            " 0   sex                       110148 non-null  float64\n",
            " 1   age                       110148 non-null  float64\n",
            " 2   car                       110148 non-null  float64\n",
            " 3   car_type                  110148 non-null  float64\n",
            " 4   decline_app_cnt           110148 non-null  float64\n",
            " 5   good_work                 110148 non-null  float64\n",
            " 6   score_bki                 110148 non-null  float64\n",
            " 7   bki_request_cnt           110148 non-null  float64\n",
            " 8   region_rating             110148 non-null  float64\n",
            " 9   home_address              110148 non-null  float64\n",
            " 10  work_address              110148 non-null  float64\n",
            " 11  income                    110148 non-null  float64\n",
            " 12  sna                       110148 non-null  float64\n",
            " 13  first_time                110148 non-null  float64\n",
            " 14  foreign_passport          110148 non-null  float64\n",
            " 15  sample                    110148 non-null  int64  \n",
            " 16  default                   110148 non-null  int64  \n",
            " 17  score_bki_outliers        110148 non-null  float64\n",
            " 18  decline_app_cnt_outliers  110148 non-null  float64\n",
            " 19  bki_request_cnt_outliers  110148 non-null  float64\n",
            " 20  income_outliers           110148 non-null  float64\n",
            " 21  education_ACD             110148 non-null  float64\n",
            " 22  education_GRD             110148 non-null  float64\n",
            " 23  education_PGR             110148 non-null  float64\n",
            " 24  education_SCH             110148 non-null  float64\n",
            " 25  education_UGR             110148 non-null  float64\n",
            "dtypes: float64(24), int64(2)\n",
            "memory usage: 21.8 MB\n"
          ]
        }
      ]
    },
    {
      "cell_type": "code",
      "source": [
        "data"
      ],
      "metadata": {
        "editable": false,
        "execution": {
          "iopub.status.busy": "2021-12-09T20:37:41.460249Z",
          "iopub.execute_input": "2021-12-09T20:37:41.460474Z",
          "iopub.status.idle": "2021-12-09T20:37:41.498422Z",
          "shell.execute_reply.started": "2021-12-09T20:37:41.460447Z",
          "shell.execute_reply": "2021-12-09T20:37:41.497556Z"
        },
        "trusted": true,
        "id": "KNEJkUtRLBN4",
        "colab": {
          "base_uri": "https://localhost:8080/",
          "height": 487
        },
        "outputId": "0c4c5046-919d-44d1-8de3-68d299cea604"
      },
      "execution_count": 331,
      "outputs": [
        {
          "output_type": "execute_result",
          "data": {
            "text/html": [
              "\n",
              "  <div id=\"df-7f6d5f5b-629e-471b-9294-bac0c1f450fb\">\n",
              "    <div class=\"colab-df-container\">\n",
              "      <div>\n",
              "<style scoped>\n",
              "    .dataframe tbody tr th:only-of-type {\n",
              "        vertical-align: middle;\n",
              "    }\n",
              "\n",
              "    .dataframe tbody tr th {\n",
              "        vertical-align: top;\n",
              "    }\n",
              "\n",
              "    .dataframe thead th {\n",
              "        text-align: right;\n",
              "    }\n",
              "</style>\n",
              "<table border=\"1\" class=\"dataframe\">\n",
              "  <thead>\n",
              "    <tr style=\"text-align: right;\">\n",
              "      <th></th>\n",
              "      <th>sex</th>\n",
              "      <th>age</th>\n",
              "      <th>car</th>\n",
              "      <th>car_type</th>\n",
              "      <th>decline_app_cnt</th>\n",
              "      <th>good_work</th>\n",
              "      <th>score_bki</th>\n",
              "      <th>bki_request_cnt</th>\n",
              "      <th>region_rating</th>\n",
              "      <th>home_address</th>\n",
              "      <th>work_address</th>\n",
              "      <th>income</th>\n",
              "      <th>sna</th>\n",
              "      <th>first_time</th>\n",
              "      <th>foreign_passport</th>\n",
              "      <th>sample</th>\n",
              "      <th>default</th>\n",
              "      <th>score_bki_outliers</th>\n",
              "      <th>decline_app_cnt_outliers</th>\n",
              "      <th>bki_request_cnt_outliers</th>\n",
              "      <th>income_outliers</th>\n",
              "      <th>education_ACD</th>\n",
              "      <th>education_GRD</th>\n",
              "      <th>education_PGR</th>\n",
              "      <th>education_SCH</th>\n",
              "      <th>education_UGR</th>\n",
              "    </tr>\n",
              "  </thead>\n",
              "  <tbody>\n",
              "    <tr>\n",
              "      <th>0</th>\n",
              "      <td>1.135458</td>\n",
              "      <td>-0.891463</td>\n",
              "      <td>1.44194</td>\n",
              "      <td>2.065998</td>\n",
              "      <td>0.0</td>\n",
              "      <td>-0.444356</td>\n",
              "      <td>-0.739002</td>\n",
              "      <td>0.772773</td>\n",
              "      <td>-0.515157</td>\n",
              "      <td>-1.090749</td>\n",
              "      <td>-0.719441</td>\n",
              "      <td>0.711426</td>\n",
              "      <td>-0.652652</td>\n",
              "      <td>1.222978</td>\n",
              "      <td>-0.419998</td>\n",
              "      <td>0</td>\n",
              "      <td>0</td>\n",
              "      <td>-0.06913</td>\n",
              "      <td>0.0</td>\n",
              "      <td>-0.011044</td>\n",
              "      <td>-0.156623</td>\n",
              "      <td>-0.051339</td>\n",
              "      <td>1.461362</td>\n",
              "      <td>-0.131902</td>\n",
              "      <td>-1.057088</td>\n",
              "      <td>-0.392718</td>\n",
              "    </tr>\n",
              "    <tr>\n",
              "      <th>1</th>\n",
              "      <td>-0.880702</td>\n",
              "      <td>0.117680</td>\n",
              "      <td>-0.69351</td>\n",
              "      <td>-0.484028</td>\n",
              "      <td>0.0</td>\n",
              "      <td>-0.444356</td>\n",
              "      <td>0.807013</td>\n",
              "      <td>0.335413</td>\n",
              "      <td>-0.515157</td>\n",
              "      <td>-1.090749</td>\n",
              "      <td>-0.719441</td>\n",
              "      <td>-2.594992</td>\n",
              "      <td>2.017303</td>\n",
              "      <td>0.232345</td>\n",
              "      <td>-0.419998</td>\n",
              "      <td>0</td>\n",
              "      <td>0</td>\n",
              "      <td>-0.06913</td>\n",
              "      <td>0.0</td>\n",
              "      <td>-0.011044</td>\n",
              "      <td>6.384758</td>\n",
              "      <td>-0.051339</td>\n",
              "      <td>-0.684293</td>\n",
              "      <td>-0.131902</td>\n",
              "      <td>0.945995</td>\n",
              "      <td>-0.392718</td>\n",
              "    </tr>\n",
              "    <tr>\n",
              "      <th>2</th>\n",
              "      <td>1.135458</td>\n",
              "      <td>0.969897</td>\n",
              "      <td>1.44194</td>\n",
              "      <td>2.065998</td>\n",
              "      <td>0.0</td>\n",
              "      <td>-0.444356</td>\n",
              "      <td>0.431358</td>\n",
              "      <td>-0.281012</td>\n",
              "      <td>-0.515157</td>\n",
              "      <td>-1.090749</td>\n",
              "      <td>-0.719441</td>\n",
              "      <td>-0.046152</td>\n",
              "      <td>-0.652652</td>\n",
              "      <td>0.232345</td>\n",
              "      <td>2.380963</td>\n",
              "      <td>0</td>\n",
              "      <td>0</td>\n",
              "      <td>-0.06913</td>\n",
              "      <td>0.0</td>\n",
              "      <td>-0.011044</td>\n",
              "      <td>-0.156623</td>\n",
              "      <td>-0.051339</td>\n",
              "      <td>-0.684293</td>\n",
              "      <td>-0.131902</td>\n",
              "      <td>-1.057088</td>\n",
              "      <td>2.546356</td>\n",
              "    </tr>\n",
              "    <tr>\n",
              "      <th>3</th>\n",
              "      <td>1.135458</td>\n",
              "      <td>1.360060</td>\n",
              "      <td>-0.69351</td>\n",
              "      <td>-0.484028</td>\n",
              "      <td>0.0</td>\n",
              "      <td>-0.444356</td>\n",
              "      <td>-0.945233</td>\n",
              "      <td>-0.281012</td>\n",
              "      <td>-1.281110</td>\n",
              "      <td>-1.090749</td>\n",
              "      <td>-0.719441</td>\n",
              "      <td>-0.888483</td>\n",
              "      <td>-0.652652</td>\n",
              "      <td>0.232345</td>\n",
              "      <td>-0.419998</td>\n",
              "      <td>0</td>\n",
              "      <td>0</td>\n",
              "      <td>-0.06913</td>\n",
              "      <td>0.0</td>\n",
              "      <td>-0.011044</td>\n",
              "      <td>-0.156623</td>\n",
              "      <td>-0.051339</td>\n",
              "      <td>-0.684293</td>\n",
              "      <td>-0.131902</td>\n",
              "      <td>0.945995</td>\n",
              "      <td>-0.392718</td>\n",
              "    </tr>\n",
              "    <tr>\n",
              "      <th>4</th>\n",
              "      <td>-0.880702</td>\n",
              "      <td>0.028869</td>\n",
              "      <td>-0.69351</td>\n",
              "      <td>-0.484028</td>\n",
              "      <td>0.0</td>\n",
              "      <td>-0.444356</td>\n",
              "      <td>-1.173682</td>\n",
              "      <td>-1.334798</td>\n",
              "      <td>1.782702</td>\n",
              "      <td>0.804527</td>\n",
              "      <td>0.730226</td>\n",
              "      <td>2.009802</td>\n",
              "      <td>-0.652652</td>\n",
              "      <td>0.232345</td>\n",
              "      <td>-0.419998</td>\n",
              "      <td>0</td>\n",
              "      <td>0</td>\n",
              "      <td>-0.06913</td>\n",
              "      <td>0.0</td>\n",
              "      <td>-0.011044</td>\n",
              "      <td>-0.156623</td>\n",
              "      <td>-0.051339</td>\n",
              "      <td>1.461362</td>\n",
              "      <td>-0.131902</td>\n",
              "      <td>-1.057088</td>\n",
              "      <td>-0.392718</td>\n",
              "    </tr>\n",
              "    <tr>\n",
              "      <th>...</th>\n",
              "      <td>...</td>\n",
              "      <td>...</td>\n",
              "      <td>...</td>\n",
              "      <td>...</td>\n",
              "      <td>...</td>\n",
              "      <td>...</td>\n",
              "      <td>...</td>\n",
              "      <td>...</td>\n",
              "      <td>...</td>\n",
              "      <td>...</td>\n",
              "      <td>...</td>\n",
              "      <td>...</td>\n",
              "      <td>...</td>\n",
              "      <td>...</td>\n",
              "      <td>...</td>\n",
              "      <td>...</td>\n",
              "      <td>...</td>\n",
              "      <td>...</td>\n",
              "      <td>...</td>\n",
              "      <td>...</td>\n",
              "      <td>...</td>\n",
              "      <td>...</td>\n",
              "      <td>...</td>\n",
              "      <td>...</td>\n",
              "      <td>...</td>\n",
              "      <td>...</td>\n",
              "    </tr>\n",
              "    <tr>\n",
              "      <th>110143</th>\n",
              "      <td>-0.880702</td>\n",
              "      <td>0.607943</td>\n",
              "      <td>-0.69351</td>\n",
              "      <td>-0.484028</td>\n",
              "      <td>0.0</td>\n",
              "      <td>-0.444356</td>\n",
              "      <td>0.228299</td>\n",
              "      <td>0.772773</td>\n",
              "      <td>-0.515157</td>\n",
              "      <td>-1.090749</td>\n",
              "      <td>-0.719441</td>\n",
              "      <td>-0.888483</td>\n",
              "      <td>2.017303</td>\n",
              "      <td>1.222978</td>\n",
              "      <td>-0.419998</td>\n",
              "      <td>1</td>\n",
              "      <td>0</td>\n",
              "      <td>-0.06913</td>\n",
              "      <td>0.0</td>\n",
              "      <td>-0.011044</td>\n",
              "      <td>-0.156623</td>\n",
              "      <td>-0.051339</td>\n",
              "      <td>1.461362</td>\n",
              "      <td>-0.131902</td>\n",
              "      <td>-1.057088</td>\n",
              "      <td>-0.392718</td>\n",
              "    </tr>\n",
              "    <tr>\n",
              "      <th>110144</th>\n",
              "      <td>1.135458</td>\n",
              "      <td>0.288829</td>\n",
              "      <td>1.44194</td>\n",
              "      <td>2.065998</td>\n",
              "      <td>0.0</td>\n",
              "      <td>-0.444356</td>\n",
              "      <td>-0.307878</td>\n",
              "      <td>-0.281012</td>\n",
              "      <td>-0.515157</td>\n",
              "      <td>0.804527</td>\n",
              "      <td>-0.719441</td>\n",
              "      <td>1.210434</td>\n",
              "      <td>-0.652652</td>\n",
              "      <td>1.222978</td>\n",
              "      <td>-0.419998</td>\n",
              "      <td>1</td>\n",
              "      <td>0</td>\n",
              "      <td>-0.06913</td>\n",
              "      <td>0.0</td>\n",
              "      <td>-0.011044</td>\n",
              "      <td>-0.156623</td>\n",
              "      <td>-0.051339</td>\n",
              "      <td>-0.684293</td>\n",
              "      <td>-0.131902</td>\n",
              "      <td>0.945995</td>\n",
              "      <td>-0.392718</td>\n",
              "    </tr>\n",
              "    <tr>\n",
              "      <th>110145</th>\n",
              "      <td>1.135458</td>\n",
              "      <td>-0.665072</td>\n",
              "      <td>-0.69351</td>\n",
              "      <td>-0.484028</td>\n",
              "      <td>0.0</td>\n",
              "      <td>-0.444356</td>\n",
              "      <td>0.791620</td>\n",
              "      <td>1.112016</td>\n",
              "      <td>1.782702</td>\n",
              "      <td>0.804527</td>\n",
              "      <td>0.730226</td>\n",
              "      <td>0.555170</td>\n",
              "      <td>0.237333</td>\n",
              "      <td>-0.758287</td>\n",
              "      <td>-0.419998</td>\n",
              "      <td>1</td>\n",
              "      <td>0</td>\n",
              "      <td>-0.06913</td>\n",
              "      <td>0.0</td>\n",
              "      <td>-0.011044</td>\n",
              "      <td>-0.156623</td>\n",
              "      <td>-0.051339</td>\n",
              "      <td>-0.684293</td>\n",
              "      <td>-0.131902</td>\n",
              "      <td>0.945995</td>\n",
              "      <td>-0.392718</td>\n",
              "    </tr>\n",
              "    <tr>\n",
              "      <th>110146</th>\n",
              "      <td>-0.880702</td>\n",
              "      <td>-0.891463</td>\n",
              "      <td>-0.69351</td>\n",
              "      <td>-0.484028</td>\n",
              "      <td>0.0</td>\n",
              "      <td>2.250446</td>\n",
              "      <td>0.858753</td>\n",
              "      <td>0.772773</td>\n",
              "      <td>-0.515157</td>\n",
              "      <td>-1.090749</td>\n",
              "      <td>0.730226</td>\n",
              "      <td>-1.286314</td>\n",
              "      <td>0.237333</td>\n",
              "      <td>0.232345</td>\n",
              "      <td>-0.419998</td>\n",
              "      <td>1</td>\n",
              "      <td>1</td>\n",
              "      <td>-0.06913</td>\n",
              "      <td>0.0</td>\n",
              "      <td>-0.011044</td>\n",
              "      <td>-0.156623</td>\n",
              "      <td>-0.051339</td>\n",
              "      <td>-0.684293</td>\n",
              "      <td>-0.131902</td>\n",
              "      <td>0.945995</td>\n",
              "      <td>-0.392718</td>\n",
              "    </tr>\n",
              "    <tr>\n",
              "      <th>110147</th>\n",
              "      <td>1.135458</td>\n",
              "      <td>-0.350727</td>\n",
              "      <td>-0.69351</td>\n",
              "      <td>-0.484028</td>\n",
              "      <td>0.0</td>\n",
              "      <td>-0.444356</td>\n",
              "      <td>0.283442</td>\n",
              "      <td>0.335413</td>\n",
              "      <td>-0.515157</td>\n",
              "      <td>0.804527</td>\n",
              "      <td>0.730226</td>\n",
              "      <td>-0.316540</td>\n",
              "      <td>-0.652652</td>\n",
              "      <td>0.232345</td>\n",
              "      <td>-0.419998</td>\n",
              "      <td>1</td>\n",
              "      <td>0</td>\n",
              "      <td>-0.06913</td>\n",
              "      <td>0.0</td>\n",
              "      <td>-0.011044</td>\n",
              "      <td>-0.156623</td>\n",
              "      <td>-0.051339</td>\n",
              "      <td>1.461362</td>\n",
              "      <td>-0.131902</td>\n",
              "      <td>-1.057088</td>\n",
              "      <td>-0.392718</td>\n",
              "    </tr>\n",
              "  </tbody>\n",
              "</table>\n",
              "<p>110148 rows × 26 columns</p>\n",
              "</div>\n",
              "      <button class=\"colab-df-convert\" onclick=\"convertToInteractive('df-7f6d5f5b-629e-471b-9294-bac0c1f450fb')\"\n",
              "              title=\"Convert this dataframe to an interactive table.\"\n",
              "              style=\"display:none;\">\n",
              "        \n",
              "  <svg xmlns=\"http://www.w3.org/2000/svg\" height=\"24px\"viewBox=\"0 0 24 24\"\n",
              "       width=\"24px\">\n",
              "    <path d=\"M0 0h24v24H0V0z\" fill=\"none\"/>\n",
              "    <path d=\"M18.56 5.44l.94 2.06.94-2.06 2.06-.94-2.06-.94-.94-2.06-.94 2.06-2.06.94zm-11 1L8.5 8.5l.94-2.06 2.06-.94-2.06-.94L8.5 2.5l-.94 2.06-2.06.94zm10 10l.94 2.06.94-2.06 2.06-.94-2.06-.94-.94-2.06-.94 2.06-2.06.94z\"/><path d=\"M17.41 7.96l-1.37-1.37c-.4-.4-.92-.59-1.43-.59-.52 0-1.04.2-1.43.59L10.3 9.45l-7.72 7.72c-.78.78-.78 2.05 0 2.83L4 21.41c.39.39.9.59 1.41.59.51 0 1.02-.2 1.41-.59l7.78-7.78 2.81-2.81c.8-.78.8-2.07 0-2.86zM5.41 20L4 18.59l7.72-7.72 1.47 1.35L5.41 20z\"/>\n",
              "  </svg>\n",
              "      </button>\n",
              "      \n",
              "  <style>\n",
              "    .colab-df-container {\n",
              "      display:flex;\n",
              "      flex-wrap:wrap;\n",
              "      gap: 12px;\n",
              "    }\n",
              "\n",
              "    .colab-df-convert {\n",
              "      background-color: #E8F0FE;\n",
              "      border: none;\n",
              "      border-radius: 50%;\n",
              "      cursor: pointer;\n",
              "      display: none;\n",
              "      fill: #1967D2;\n",
              "      height: 32px;\n",
              "      padding: 0 0 0 0;\n",
              "      width: 32px;\n",
              "    }\n",
              "\n",
              "    .colab-df-convert:hover {\n",
              "      background-color: #E2EBFA;\n",
              "      box-shadow: 0px 1px 2px rgba(60, 64, 67, 0.3), 0px 1px 3px 1px rgba(60, 64, 67, 0.15);\n",
              "      fill: #174EA6;\n",
              "    }\n",
              "\n",
              "    [theme=dark] .colab-df-convert {\n",
              "      background-color: #3B4455;\n",
              "      fill: #D2E3FC;\n",
              "    }\n",
              "\n",
              "    [theme=dark] .colab-df-convert:hover {\n",
              "      background-color: #434B5C;\n",
              "      box-shadow: 0px 1px 3px 1px rgba(0, 0, 0, 0.15);\n",
              "      filter: drop-shadow(0px 1px 2px rgba(0, 0, 0, 0.3));\n",
              "      fill: #FFFFFF;\n",
              "    }\n",
              "  </style>\n",
              "\n",
              "      <script>\n",
              "        const buttonEl =\n",
              "          document.querySelector('#df-7f6d5f5b-629e-471b-9294-bac0c1f450fb button.colab-df-convert');\n",
              "        buttonEl.style.display =\n",
              "          google.colab.kernel.accessAllowed ? 'block' : 'none';\n",
              "\n",
              "        async function convertToInteractive(key) {\n",
              "          const element = document.querySelector('#df-7f6d5f5b-629e-471b-9294-bac0c1f450fb');\n",
              "          const dataTable =\n",
              "            await google.colab.kernel.invokeFunction('convertToInteractive',\n",
              "                                                     [key], {});\n",
              "          if (!dataTable) return;\n",
              "\n",
              "          const docLinkHtml = 'Like what you see? Visit the ' +\n",
              "            '<a target=\"_blank\" href=https://colab.research.google.com/notebooks/data_table.ipynb>data table notebook</a>'\n",
              "            + ' to learn more about interactive tables.';\n",
              "          element.innerHTML = '';\n",
              "          dataTable['output_type'] = 'display_data';\n",
              "          await google.colab.output.renderOutput(dataTable, element);\n",
              "          const docLink = document.createElement('div');\n",
              "          docLink.innerHTML = docLinkHtml;\n",
              "          element.appendChild(docLink);\n",
              "        }\n",
              "      </script>\n",
              "    </div>\n",
              "  </div>\n",
              "  "
            ],
            "text/plain": [
              "             sex       age  ...  education_SCH  education_UGR\n",
              "0       1.135458 -0.891463  ...      -1.057088      -0.392718\n",
              "1      -0.880702  0.117680  ...       0.945995      -0.392718\n",
              "2       1.135458  0.969897  ...      -1.057088       2.546356\n",
              "3       1.135458  1.360060  ...       0.945995      -0.392718\n",
              "4      -0.880702  0.028869  ...      -1.057088      -0.392718\n",
              "...          ...       ...  ...            ...            ...\n",
              "110143 -0.880702  0.607943  ...      -1.057088      -0.392718\n",
              "110144  1.135458  0.288829  ...       0.945995      -0.392718\n",
              "110145  1.135458 -0.665072  ...       0.945995      -0.392718\n",
              "110146 -0.880702 -0.891463  ...       0.945995      -0.392718\n",
              "110147  1.135458 -0.350727  ...      -1.057088      -0.392718\n",
              "\n",
              "[110148 rows x 26 columns]"
            ]
          },
          "metadata": {},
          "execution_count": 331
        }
      ]
    },
    {
      "cell_type": "markdown",
      "source": [
        "---\n",
        "## Построение модели\n",
        "---\n",
        "---"
      ],
      "metadata": {
        "id": "53k8N__mo-71"
      }
    },
    {
      "cell_type": "code",
      "source": [
        "# Теперь выделим тестовую часть\n",
        "train_data = data.query('sample == 1').drop(['sample'], axis=1)\n",
        "test_data = data.query('sample == 0').drop(['sample', 'default'], axis=1)\n",
        "\n",
        "y = train_data['default'].values  # наш таргет\n",
        "X = train_data.drop(['default'], axis=1)"
      ],
      "metadata": {
        "editable": false,
        "execution": {
          "iopub.status.busy": "2021-12-09T20:37:41.499608Z",
          "iopub.execute_input": "2021-12-09T20:37:41.499960Z",
          "iopub.status.idle": "2021-12-09T20:37:41.537558Z",
          "shell.execute_reply.started": "2021-12-09T20:37:41.499932Z",
          "shell.execute_reply": "2021-12-09T20:37:41.536680Z"
        },
        "trusted": true,
        "id": "QagymkgGLBN5"
      },
      "execution_count": 342,
      "outputs": []
    },
    {
      "cell_type": "code",
      "source": [
        "# Воспользуемся функцией train_test_split для разбивки тестовых данных\n",
        "from sklearn.model_selection import train_test_split\n",
        "\n",
        "# выделим 20% данных на валидацию\n",
        "X_train, X_valid, y_train, y_valid = train_test_split(X, y, test_size=0.2, random_state=42)"
      ],
      "metadata": {
        "editable": false,
        "execution": {
          "iopub.status.busy": "2021-12-09T20:37:41.538935Z",
          "iopub.execute_input": "2021-12-09T20:37:41.539181Z",
          "iopub.status.idle": "2021-12-09T20:37:41.611057Z",
          "shell.execute_reply.started": "2021-12-09T20:37:41.539155Z",
          "shell.execute_reply": "2021-12-09T20:37:41.610041Z"
        },
        "trusted": true,
        "id": "_uT2u497LBN5"
      },
      "execution_count": 343,
      "outputs": []
    },
    {
      "cell_type": "code",
      "source": [
        "# test_data.columns"
      ],
      "metadata": {
        "editable": false,
        "execution": {
          "iopub.status.busy": "2021-12-09T20:37:41.612484Z",
          "iopub.execute_input": "2021-12-09T20:37:41.613025Z",
          "iopub.status.idle": "2021-12-09T20:37:41.619190Z",
          "shell.execute_reply.started": "2021-12-09T20:37:41.612982Z",
          "shell.execute_reply": "2021-12-09T20:37:41.618328Z"
        },
        "trusted": true,
        "id": "XN_PXk_iLBN5"
      },
      "execution_count": 344,
      "outputs": []
    },
    {
      "cell_type": "code",
      "source": [
        "# X_train.columns"
      ],
      "metadata": {
        "editable": false,
        "execution": {
          "iopub.status.busy": "2021-12-09T20:37:41.620546Z",
          "iopub.execute_input": "2021-12-09T20:37:41.620777Z",
          "iopub.status.idle": "2021-12-09T20:37:41.633845Z",
          "shell.execute_reply.started": "2021-12-09T20:37:41.620749Z",
          "shell.execute_reply": "2021-12-09T20:37:41.632952Z"
        },
        "trusted": true,
        "id": "m5JNms6vLBN5"
      },
      "execution_count": 345,
      "outputs": []
    },
    {
      "cell_type": "code",
      "source": [
        "# X_valid.columns"
      ],
      "metadata": {
        "editable": false,
        "execution": {
          "iopub.status.busy": "2021-12-09T20:37:41.635239Z",
          "iopub.execute_input": "2021-12-09T20:37:41.635468Z",
          "iopub.status.idle": "2021-12-09T20:37:41.647148Z",
          "shell.execute_reply.started": "2021-12-09T20:37:41.635440Z",
          "shell.execute_reply": "2021-12-09T20:37:41.646448Z"
        },
        "trusted": true,
        "id": "d4q8zCOcLBN6"
      },
      "execution_count": 346,
      "outputs": []
    },
    {
      "cell_type": "code",
      "source": [
        "# проверяем\n",
        "test_data.shape, train_data.shape, X.shape, X_train.shape, X_valid.shape"
      ],
      "metadata": {
        "editable": false,
        "execution": {
          "iopub.status.busy": "2021-12-09T20:37:41.648527Z",
          "iopub.execute_input": "2021-12-09T20:37:41.649001Z",
          "iopub.status.idle": "2021-12-09T20:37:41.661571Z",
          "shell.execute_reply.started": "2021-12-09T20:37:41.648959Z",
          "shell.execute_reply": "2021-12-09T20:37:41.660640Z"
        },
        "trusted": true,
        "id": "ZeGtpCoQLBN6",
        "colab": {
          "base_uri": "https://localhost:8080/"
        },
        "outputId": "af6b53ad-1b6a-4138-ec19-33400e62bf39"
      },
      "execution_count": 347,
      "outputs": [
        {
          "output_type": "execute_result",
          "data": {
            "text/plain": [
              "((36349, 24), (73799, 25), (73799, 24), (59039, 24), (14760, 24))"
            ]
          },
          "metadata": {},
          "execution_count": 347
        }
      ]
    },
    {
      "cell_type": "code",
      "source": [
        "# Импортируем необходимые библиотеки:\n",
        "from sklearn.linear_model import LogisticRegression # инструмент для создания и обучения модели\n",
        "\n",
        "logreg = LogisticRegression(solver='liblinear', max_iter=1000,\n",
        "                            class_weight='balanced',\n",
        "                            fit_intercept=True,\n",
        "                            random_state=RANDOM_SEED)\n",
        "\n",
        "logreg.fit(X_train, y_train)\n",
        "\n",
        "y_proba = logreg.predict_proba(X_valid)[:, 1]\n",
        "y_pred = logreg.predict(X_valid)\n"
      ],
      "metadata": {
        "editable": false,
        "execution": {
          "iopub.status.busy": "2021-12-09T20:37:41.662700Z",
          "iopub.execute_input": "2021-12-09T20:37:41.663262Z",
          "iopub.status.idle": "2021-12-09T20:37:41.751683Z",
          "shell.execute_reply.started": "2021-12-09T20:37:41.663186Z",
          "shell.execute_reply": "2021-12-09T20:37:41.751031Z"
        },
        "trusted": true,
        "id": "8hMljym-LBN6"
      },
      "execution_count": 463,
      "outputs": []
    },
    {
      "cell_type": "code",
      "source": [
        "class ModelMetrics:\n",
        "\n",
        "# =======================================================================\n",
        "    def __init__(self, y_true, y_pred, y_proba):\n",
        "        self.y_true = y_true\n",
        "        self.y_pred = y_pred\n",
        "        self.y_proba = y_proba\n",
        "\n",
        "# =======================================================================\n",
        "    def plot_roc_curve(self, model='Модель'):\n",
        "        from sklearn.metrics import roc_auc_score, roc_curve\n",
        "\n",
        "        roc_auc = roc_auc_score(self.y_true, self.y_proba)\n",
        "        FPR, TPR, THRESHOLDS = roc_curve(self.y_true, self.y_proba)\n",
        "\n",
        "        plt.figure(figsize=(8,5))\n",
        "        plt.plot([0, 1], label='Случайный выбор', linestyle='-.')\n",
        "        plt.plot(FPR, TPR, label ='Вид модели: ' + model)\n",
        "        plt.title(f\"Кривая ROC (ROC's AUC =  {roc_auc:0.3f})\", fontsize=14)\n",
        "        plt.ylabel('Доля истинноположительных предсказаний\\n(True Positive Rate)')\n",
        "        plt.xlabel('Доля ложноположительных предсказаний\\n(False Positive Rate)')\n",
        "        plt.legend(loc = 'upper left')\n",
        "        plt.show()\n",
        "\n",
        "# =======================================================================\n",
        "    def plot_precision_recall_curve(self, model='Модель'):\n",
        "        from sklearn.metrics import precision_recall_curve\n",
        "\n",
        "        prec, rec, thresholds = precision_recall_curve(self.y_true, self.y_proba)\n",
        "        \n",
        "        AUC = 0.5 * (rec[:-1] - rec[1:]) @ (prec[:-1] + prec[1:])\n",
        "\n",
        "        plt.figure(figsize=(8,5))\n",
        "        plt.plot(rec, prec, label = 'Вид модели: ' + model)\n",
        "        plt.title(f\"\\nКривая Precision - Recall (PR's AUC =  {AUC:0.3f})\", fontsize=14)\n",
        "        plt.ylabel('Точность\\n(Precision)', fontsize=15)\n",
        "        plt.xlabel('Полнота\\n(Recall)', fontsize=15)\n",
        "        plt.legend(loc = 'upper right')\n",
        "        plt.show()\n",
        "\n",
        "# =======================================================================\n",
        "    def print_metrics(self):\n",
        "        from sklearn.metrics import f1_score, accuracy_score, balanced_accuracy_score,\\\n",
        "            precision_score, recall_score, roc_auc_score\n",
        "        \n",
        "        metrics_ = {'Accuracy': [accuracy_score(self.y_true, self.y_pred)],\n",
        "                    'Balanced accuracy': [balanced_accuracy_score(self.y_true, self.y_pred)],\n",
        "                    'Precision':  [precision_score(self.y_true, self.y_pred)],\n",
        "                    'Recall': [recall_score(self.y_true, self.y_pred)],\n",
        "                    'F1-score': [f1_score(self.y_true, self.y_pred)],\n",
        "                    \"ROC's AUC\": [roc_auc_score(self.y_true, self.y_proba)]}\n",
        "\n",
        "        print('\\n\\n' + '\\033[1m' + \\\n",
        "              '===============================  МЕТРИКИ  ==============================' + '\\033[1m')\n",
        "        display(pd.DataFrame(metrics_, index=['']))\n",
        "        return None\n",
        "\n",
        "# =======================================================================\n",
        "    def conf_matrix(self):\n",
        "\n",
        "        from sklearn.metrics import confusion_matrix\n",
        "\n",
        "        ax = sns.heatmap(confusion_matrix(self.y_true, self.y_pred),\n",
        "                    annot=True, fmt='.0f', linewidth=2, cmap='Blues',\n",
        "                    annot_kws={'size': 20},\n",
        "                    xticklabels=['Не дефолт', 'Дефолт'],\n",
        "                    yticklabels=['Не дефолт', 'Дефолт']\n",
        "                    )\n",
        "        \n",
        "        ax.tick_params(left=False, bottom=False) # удаляем штрихи\n",
        "\n",
        "        annot_labels = ['TN', 'FP', 'FN', 'TP']\n",
        "        for i, t in enumerate(ax.texts):\n",
        "            t.set_text(annot_labels[i] + '\\n' + t.get_text())\n",
        "        \n",
        "        ax.set_xlabel(r'$\\ Предсказанные $', fontsize=20, color= '#01153E',\n",
        "                      labelpad=25, weight='bold', rotation = 0)\n",
        "        ax.set_ylabel(r'$\\ Истинные $', fontsize=20, color='#01153E',\n",
        "                      labelpad=25, rotation = 90)\n",
        "        \n",
        "        plt.xticks(rotation=-45, fontsize=13, weight='bold')\n",
        "        plt.yticks(rotation=45, fontsize=13, weight='bold')\n",
        "\n",
        "        plt.title('\\nМатрица ошибок\\n', fontsize=20)\n",
        "        return None #confusion_matrix(self.y_true, self.y_pred)"
      ],
      "metadata": {
        "id": "vobysgsmqGIb"
      },
      "execution_count": 550,
      "outputs": []
    },
    {
      "cell_type": "code",
      "source": [
        "# from sklearn.metrics import precision_recall_curve\n",
        "\n",
        "# prec, rec, thresholds = precision_recall_curve(y_valid, y_proba)\n",
        "\n",
        "# 0.5 * (rec[:-1] - rec[1:]) @ (prec[:-1] + prec[1:]), -np.trapz(prec, rec)\n",
        "\n",
        "# AUC = -np.trapz(prec, rec)\n",
        "\n",
        "# plt.plot(prec[::1], prec)\n",
        "\n",
        "# plt.figure(figsize=(8,5))\n",
        "# plt.plot(prec, rec, label = 'Вид модели: ' + model)\n",
        "# plt.title(f\"Кривая Precision - Recall (PR's AUC =  {AUC:0.3f})\", fontsize=14)\n",
        "# plt.ylabel('Полнота\\n(Recall)', fontsize=10)\n",
        "# plt.xlabel('Точность\\n(Precision)', fontsize=10)\n",
        "# plt.legend(loc = 'upper right')\n",
        "# plt.show()\n"
      ],
      "metadata": {
        "colab": {
          "base_uri": "https://localhost:8080/"
        },
        "id": "JbtHYTKXQoiv",
        "outputId": "ae6a52dc-fb30-43a8-9aa3-0056467d3906"
      },
      "execution_count": 539,
      "outputs": [
        {
          "output_type": "execute_result",
          "data": {
            "text/plain": [
              "(0.26971684471686797, 0.26971684471686797)"
            ]
          },
          "metadata": {},
          "execution_count": 539
        }
      ]
    },
    {
      "cell_type": "code",
      "source": [
        "model_metrics = ModelMetrics(y_valid, y_pred, y_proba)\n",
        "\n",
        "model_metrics.print_metrics()\n",
        "model_metrics.conf_matrix()\n",
        "model_metrics.plot_roc_curve(model='Логистическая регрессия')"
      ],
      "metadata": {
        "editable": false,
        "execution": {
          "iopub.status.busy": "2021-12-09T20:37:42.132826Z",
          "iopub.execute_input": "2021-12-09T20:37:42.133560Z",
          "iopub.status.idle": "2021-12-09T20:37:42.406784Z",
          "shell.execute_reply.started": "2021-12-09T20:37:42.133507Z",
          "shell.execute_reply": "2021-12-09T20:37:42.405860Z"
        },
        "trusted": true,
        "id": "Ly-YMjBkLBN7",
        "colab": {
          "base_uri": "https://localhost:8080/",
          "height": 899
        },
        "outputId": "966bc930-8a1a-4ef1-bdc4-e7630e720b19"
      },
      "execution_count": 551,
      "outputs": [
        {
          "output_type": "stream",
          "name": "stdout",
          "text": [
            "\n",
            "\n",
            "\u001b[1m===============================  МЕТРИКИ  ==============================\u001b[1m\n"
          ]
        },
        {
          "output_type": "display_data",
          "data": {
            "text/html": [
              "\n",
              "  <div id=\"df-1f230c90-c0a0-4f46-899b-d08f302af4d6\">\n",
              "    <div class=\"colab-df-container\">\n",
              "      <div>\n",
              "<style scoped>\n",
              "    .dataframe tbody tr th:only-of-type {\n",
              "        vertical-align: middle;\n",
              "    }\n",
              "\n",
              "    .dataframe tbody tr th {\n",
              "        vertical-align: top;\n",
              "    }\n",
              "\n",
              "    .dataframe thead th {\n",
              "        text-align: right;\n",
              "    }\n",
              "</style>\n",
              "<table border=\"1\" class=\"dataframe\">\n",
              "  <thead>\n",
              "    <tr style=\"text-align: right;\">\n",
              "      <th></th>\n",
              "      <th>Accuracy</th>\n",
              "      <th>Balanced accuracy</th>\n",
              "      <th>Precision</th>\n",
              "      <th>Recall</th>\n",
              "      <th>F1-score</th>\n",
              "      <th>ROC's AUC</th>\n",
              "    </tr>\n",
              "  </thead>\n",
              "  <tbody>\n",
              "    <tr>\n",
              "      <th></th>\n",
              "      <td>0.659553</td>\n",
              "      <td>0.666367</td>\n",
              "      <td>0.21779</td>\n",
              "      <td>0.675424</td>\n",
              "      <td>0.329374</td>\n",
              "      <td>0.735066</td>\n",
              "    </tr>\n",
              "  </tbody>\n",
              "</table>\n",
              "</div>\n",
              "      <button class=\"colab-df-convert\" onclick=\"convertToInteractive('df-1f230c90-c0a0-4f46-899b-d08f302af4d6')\"\n",
              "              title=\"Convert this dataframe to an interactive table.\"\n",
              "              style=\"display:none;\">\n",
              "        \n",
              "  <svg xmlns=\"http://www.w3.org/2000/svg\" height=\"24px\"viewBox=\"0 0 24 24\"\n",
              "       width=\"24px\">\n",
              "    <path d=\"M0 0h24v24H0V0z\" fill=\"none\"/>\n",
              "    <path d=\"M18.56 5.44l.94 2.06.94-2.06 2.06-.94-2.06-.94-.94-2.06-.94 2.06-2.06.94zm-11 1L8.5 8.5l.94-2.06 2.06-.94-2.06-.94L8.5 2.5l-.94 2.06-2.06.94zm10 10l.94 2.06.94-2.06 2.06-.94-2.06-.94-.94-2.06-.94 2.06-2.06.94z\"/><path d=\"M17.41 7.96l-1.37-1.37c-.4-.4-.92-.59-1.43-.59-.52 0-1.04.2-1.43.59L10.3 9.45l-7.72 7.72c-.78.78-.78 2.05 0 2.83L4 21.41c.39.39.9.59 1.41.59.51 0 1.02-.2 1.41-.59l7.78-7.78 2.81-2.81c.8-.78.8-2.07 0-2.86zM5.41 20L4 18.59l7.72-7.72 1.47 1.35L5.41 20z\"/>\n",
              "  </svg>\n",
              "      </button>\n",
              "      \n",
              "  <style>\n",
              "    .colab-df-container {\n",
              "      display:flex;\n",
              "      flex-wrap:wrap;\n",
              "      gap: 12px;\n",
              "    }\n",
              "\n",
              "    .colab-df-convert {\n",
              "      background-color: #E8F0FE;\n",
              "      border: none;\n",
              "      border-radius: 50%;\n",
              "      cursor: pointer;\n",
              "      display: none;\n",
              "      fill: #1967D2;\n",
              "      height: 32px;\n",
              "      padding: 0 0 0 0;\n",
              "      width: 32px;\n",
              "    }\n",
              "\n",
              "    .colab-df-convert:hover {\n",
              "      background-color: #E2EBFA;\n",
              "      box-shadow: 0px 1px 2px rgba(60, 64, 67, 0.3), 0px 1px 3px 1px rgba(60, 64, 67, 0.15);\n",
              "      fill: #174EA6;\n",
              "    }\n",
              "\n",
              "    [theme=dark] .colab-df-convert {\n",
              "      background-color: #3B4455;\n",
              "      fill: #D2E3FC;\n",
              "    }\n",
              "\n",
              "    [theme=dark] .colab-df-convert:hover {\n",
              "      background-color: #434B5C;\n",
              "      box-shadow: 0px 1px 3px 1px rgba(0, 0, 0, 0.15);\n",
              "      filter: drop-shadow(0px 1px 2px rgba(0, 0, 0, 0.3));\n",
              "      fill: #FFFFFF;\n",
              "    }\n",
              "  </style>\n",
              "\n",
              "      <script>\n",
              "        const buttonEl =\n",
              "          document.querySelector('#df-1f230c90-c0a0-4f46-899b-d08f302af4d6 button.colab-df-convert');\n",
              "        buttonEl.style.display =\n",
              "          google.colab.kernel.accessAllowed ? 'block' : 'none';\n",
              "\n",
              "        async function convertToInteractive(key) {\n",
              "          const element = document.querySelector('#df-1f230c90-c0a0-4f46-899b-d08f302af4d6');\n",
              "          const dataTable =\n",
              "            await google.colab.kernel.invokeFunction('convertToInteractive',\n",
              "                                                     [key], {});\n",
              "          if (!dataTable) return;\n",
              "\n",
              "          const docLinkHtml = 'Like what you see? Visit the ' +\n",
              "            '<a target=\"_blank\" href=https://colab.research.google.com/notebooks/data_table.ipynb>data table notebook</a>'\n",
              "            + ' to learn more about interactive tables.';\n",
              "          element.innerHTML = '';\n",
              "          dataTable['output_type'] = 'display_data';\n",
              "          await google.colab.output.renderOutput(dataTable, element);\n",
              "          const docLink = document.createElement('div');\n",
              "          docLink.innerHTML = docLinkHtml;\n",
              "          element.appendChild(docLink);\n",
              "        }\n",
              "      </script>\n",
              "    </div>\n",
              "  </div>\n",
              "  "
            ],
            "text/plain": [
              "  Accuracy  Balanced accuracy  Precision    Recall  F1-score  ROC's AUC\n",
              "  0.659553           0.666367    0.21779  0.675424  0.329374   0.735066"
            ]
          },
          "metadata": {}
        },
        {
          "output_type": "display_data",
          "data": {
            "image/png": "[encoded data removed]",
            "text/plain": [
              "<Figure size 432x288 with 2 Axes>"
            ]
          },
          "metadata": {
            "needs_background": "light"
          }
        },
        {
          "output_type": "display_data",
          "data": {
            "image/png": "[encoded data removed]",
            "text/plain": [
              "<Figure size 576x360 with 1 Axes>"
            ]
          },
          "metadata": {
            "needs_background": "light"
          }
        }
      ]
    },
    {
      "cell_type": "code",
      "source": [
        "rec[:-1].shape, rec[:].shape\n",
        "k = np.arange(6)[::-1] #np.array([j for j in range(7)])[::-1]\n",
        "\n",
        "k[:-1] - k[1:]"
      ],
      "metadata": {
        "id": "I6kekkPnkjfT",
        "outputId": "8676f862-fd93-4d56-c694-088564d2417e",
        "colab": {
          "base_uri": "https://localhost:8080/"
        }
      },
      "execution_count": 537,
      "outputs": [
        {
          "output_type": "execute_result",
          "data": {
            "text/plain": [
              "array([1, 1, 1, 1, 1])"
            ]
          },
          "metadata": {},
          "execution_count": 537
        }
      ]
    },
    {
      "cell_type": "code",
      "source": [
        "model_metrics = ModelMetrics(y_valid, y_pred, y_proba)\n",
        "\n",
        "model_metrics.plot_precision_recall_curve(model='логистическая регрессия')"
      ],
      "metadata": {
        "colab": {
          "base_uri": "https://localhost:8080/",
          "height": 373
        },
        "id": "o6HI4IThCeyw",
        "outputId": "6e39a33c-c40b-4732-8707-cb05c7ff4a7b"
      },
      "execution_count": 514,
      "outputs": [
        {
          "output_type": "display_data",
          "data": {
            "image/png": "[encoded data removed]",
            "text/plain": [
              "<Figure size 576x360 with 1 Axes>"
            ]
          },
          "metadata": {
            "needs_background": "light"
          }
        }
      ]
    },
    {
      "cell_type": "code",
      "source": [
        "predict_submission = logreg.predict(test_data)"
      ],
      "metadata": {
        "editable": false,
        "execution": {
          "iopub.status.busy": "2021-12-09T20:37:42.408069Z",
          "iopub.execute_input": "2021-12-09T20:37:42.408315Z",
          "iopub.status.idle": "2021-12-09T20:37:42.423089Z",
          "shell.execute_reply.started": "2021-12-09T20:37:42.408285Z",
          "shell.execute_reply": "2021-12-09T20:37:42.421877Z"
        },
        "trusted": true,
        "id": "rM6LBvFKLBN7"
      },
      "execution_count": 360,
      "outputs": []
    },
    {
      "cell_type": "markdown",
      "source": [
        "# Submission"
      ],
      "metadata": {
        "editable": false,
        "id": "RhOw97cWLBN8"
      }
    },
    {
      "cell_type": "code",
      "source": [
        "# sample_submission['default'] = predict_submission\n",
        "# sample_submission.to_csv('submission.csv', index=False)\n",
        "# sample_submission.head(10)"
      ],
      "metadata": {
        "editable": false,
        "execution": {
          "iopub.status.busy": "2021-12-09T20:37:42.425448Z",
          "iopub.execute_input": "2021-12-09T20:37:42.426320Z",
          "iopub.status.idle": "2021-12-09T20:37:42.542584Z",
          "shell.execute_reply.started": "2021-12-09T20:37:42.426251Z",
          "shell.execute_reply": "2021-12-09T20:37:42.541899Z"
        },
        "trusted": true,
        "id": "gq_hpJ4ALBN8"
      },
      "execution_count": 361,
      "outputs": []
    },
    {
      "cell_type": "code",
      "source": [
        "# !kaggle competitions submit Timofey Akimkin -c sf-scoring -f submission.csv -m \"Message\"\n",
        "# !kaggle competitions submit your-competition-name -f submission.csv -m 'My submission message'"
      ],
      "metadata": {
        "editable": false,
        "execution": {
          "iopub.status.busy": "2021-12-09T20:37:42.544117Z",
          "iopub.execute_input": "2021-12-09T20:37:42.544583Z",
          "iopub.status.idle": "2021-12-09T20:37:43.754114Z",
          "shell.execute_reply.started": "2021-12-09T20:37:42.544550Z",
          "shell.execute_reply": "2021-12-09T20:37:43.753033Z"
        },
        "trusted": true,
        "id": "w6F-FSzLLBN8"
      },
      "execution_count": 362,
      "outputs": []
    }
  ]
}