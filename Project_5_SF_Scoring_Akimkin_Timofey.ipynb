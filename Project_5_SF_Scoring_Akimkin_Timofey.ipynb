{
  "metadata": {
    "kernelspec": {
      "language": "python",
      "display_name": "Python 3",
      "name": "python3"
    },
    "language_info": {
      "name": "python",
      "version": "3.7.10",
      "mimetype": "text/x-python",
      "codemirror_mode": {
        "name": "ipython",
        "version": 3
      },
      "pygments_lexer": "ipython3",
      "nbconvert_exporter": "python",
      "file_extension": ".py"
    },
    "colab": {
      "name": "Project 5 - SF Scoring - Akimkin Timofey.ipynb",
      "provenance": [],
      "toc_visible": true,
      "include_colab_link": true
    }
  },
  "nbformat_minor": 0,
  "nbformat": 4,
  "cells": [
    {
      "cell_type": "markdown",
      "metadata": {
        "id": "view-in-github",
        "colab_type": "text"
      },
      "source": [
        "<a href=\"https://colab.research.google.com/github/akitim/SkillFactory_projects/blob/main/Project_5_SF_Scoring_Akimkin_Timofey.ipynb\" target=\"_parent\"><img src=\"https://colab.research.google.com/assets/colab-badge.svg\" alt=\"Open In Colab\"/></a>"
      ]
    },
    {
      "cell_type": "markdown",
      "source": [
        "---\n",
        "## **1. Загрузка библиотек**\n",
        "---\n",
        "---"
      ],
      "metadata": {
        "editable": false,
        "id": "mNm0g5_mLBNY"
      }
    },
    {
      "cell_type": "code",
      "source": [
        "import numpy as np # linear algebra\n",
        "import pandas as pd \n",
        "import pandas_profiling # автоматизация EDA\n",
        "\n",
        "import matplotlib.pyplot as plt\n",
        "%matplotlib inline\n",
        "import seaborn as sns # импорт графических библиотек\n",
        "\n",
        "from sklearn import metrics as mt # импорт метрик модели\n",
        "\n",
        "# Input data files are available in the read-only \"../input/\" directory\n",
        "# For example, running this (by clicking run or pressing Shift+Enter) will list all files under the input directory\n",
        "\n",
        "import os\n",
        "for dirname, _, filenames in os.walk('/kaggle/input'):\n",
        "    for filename in filenames:\n",
        "        print(os.path.join(dirname, filename))\n",
        "\n",
        "# You can write up to 20GB to the current directory (/kaggle/working/) that gets preserved as output when you create a version using \"Save & Run All\" \n",
        "# You can also write temporary files to /kaggle/temp/, but they won't be saved outside of the current session"
      ],
      "metadata": {
        "_uuid": "8f2839f25d086af736a60e9eeb907d3b93b6e0e5",
        "_cell_guid": "b1076dfc-b9ad-4769-8c92-a6c4dae69d19",
        "editable": false,
        "execution": {
          "iopub.status.busy": "2021-12-11T18:47:04.424335Z",
          "iopub.execute_input": "2021-12-11T18:47:04.424883Z",
          "iopub.status.idle": "2021-12-11T18:47:06.648658Z",
          "shell.execute_reply.started": "2021-12-11T18:47:04.424758Z",
          "shell.execute_reply": "2021-12-11T18:47:06.647877Z"
        },
        "trusted": true,
        "id": "GA8-ccvELBNe"
      },
      "execution_count": 147,
      "outputs": []
    },
    {
      "cell_type": "markdown",
      "source": [
        "---\n",
        "## **2. Загрузка данных**\n",
        "---\n",
        "---"
      ],
      "metadata": {
        "editable": false,
        "id": "ks-Ghj1zLBNh"
      }
    },
    {
      "cell_type": "code",
      "source": [
        "RANDOM_SEED = 42\n",
        "!pip freeze > requirements.txt"
      ],
      "metadata": {
        "editable": false,
        "execution": {
          "iopub.status.busy": "2021-12-11T18:47:06.986346Z",
          "iopub.execute_input": "2021-12-11T18:47:06.986896Z",
          "iopub.status.idle": "2021-12-11T18:47:11.396636Z",
          "shell.execute_reply.started": "2021-12-11T18:47:06.986854Z",
          "shell.execute_reply": "2021-12-11T18:47:11.395742Z"
        },
        "trusted": true,
        "id": "1kaZAVNELBNj"
      },
      "execution_count": 148,
      "outputs": []
    },
    {
      "cell_type": "code",
      "source": [
        "# DATA_DIR = '/kaggle/input/sf-scoring/'\n",
        "# DATA_DIR = '/content/sample_data'\n",
        "\n",
        "DATA_DIR = 'https://raw.githubusercontent.com/akitim/datasets/main/Project%205/'\n",
        "\n",
        "df_train = pd.read_csv(DATA_DIR +'/train.csv')\n",
        "df_test = pd.read_csv(DATA_DIR +'/test.csv')\n",
        "# sample_submission = pd.read_csv(DATA_DIR+'/sample_submission.csv')"
      ],
      "metadata": {
        "editable": false,
        "execution": {
          "iopub.status.busy": "2021-12-11T18:47:06.650933Z",
          "iopub.execute_input": "2021-12-11T18:47:06.651569Z",
          "iopub.status.idle": "2021-12-11T18:47:06.985117Z",
          "shell.execute_reply.started": "2021-12-11T18:47:06.651520Z",
          "shell.execute_reply": "2021-12-11T18:47:06.984255Z"
        },
        "trusted": true,
        "id": "MG5ffhH8LBNi"
      },
      "execution_count": 149,
      "outputs": []
    },
    {
      "cell_type": "markdown",
      "source": [
        "---\n",
        "## **3. Первичный осмотр данных**\n",
        "---\n",
        "---"
      ],
      "metadata": {
        "editable": false,
        "id": "_-ozhlfVLBNk"
      }
    },
    {
      "cell_type": "code",
      "source": [
        "# sample_submission.sample(5)"
      ],
      "metadata": {
        "editable": false,
        "execution": {
          "iopub.status.busy": "2021-12-11T18:47:11.401225Z",
          "iopub.execute_input": "2021-12-11T18:47:11.401488Z",
          "iopub.status.idle": "2021-12-11T18:47:11.427979Z",
          "shell.execute_reply.started": "2021-12-11T18:47:11.401455Z",
          "shell.execute_reply": "2021-12-11T18:47:11.427217Z"
        },
        "trusted": true,
        "id": "XhYIBmPBLBNl"
      },
      "execution_count": 150,
      "outputs": []
    },
    {
      "cell_type": "code",
      "source": [
        "# sample_submission.shape"
      ],
      "metadata": {
        "editable": false,
        "execution": {
          "iopub.status.busy": "2021-12-11T18:47:11.429130Z",
          "iopub.execute_input": "2021-12-11T18:47:11.429474Z",
          "iopub.status.idle": "2021-12-11T18:47:11.433319Z",
          "shell.execute_reply.started": "2021-12-11T18:47:11.429445Z",
          "shell.execute_reply": "2021-12-11T18:47:11.432479Z"
        },
        "trusted": true,
        "id": "3uxlBFOULBNm"
      },
      "execution_count": 151,
      "outputs": []
    },
    {
      "cell_type": "code",
      "source": [
        "# sample_submission.info()"
      ],
      "metadata": {
        "editable": false,
        "execution": {
          "iopub.status.busy": "2021-12-11T18:47:11.434615Z",
          "iopub.execute_input": "2021-12-11T18:47:11.435071Z",
          "iopub.status.idle": "2021-12-11T18:47:11.465382Z",
          "shell.execute_reply.started": "2021-12-11T18:47:11.435037Z",
          "shell.execute_reply": "2021-12-11T18:47:11.464760Z"
        },
        "trusted": true,
        "id": "sNLY6xZpLBNn"
      },
      "execution_count": 152,
      "outputs": []
    },
    {
      "cell_type": "code",
      "source": [
        "df_test.shape"
      ],
      "metadata": {
        "editable": false,
        "execution": {
          "iopub.status.busy": "2021-12-11T18:47:11.466809Z",
          "iopub.execute_input": "2021-12-11T18:47:11.467213Z",
          "iopub.status.idle": "2021-12-11T18:47:11.472541Z",
          "shell.execute_reply.started": "2021-12-11T18:47:11.467181Z",
          "shell.execute_reply": "2021-12-11T18:47:11.471602Z"
        },
        "trusted": true,
        "colab": {
          "base_uri": "https://localhost:8080/"
        },
        "id": "eFTvaWllLBNo",
        "outputId": "3b59f2b3-bde6-4f6e-e764-6e190ec060ac"
      },
      "execution_count": 153,
      "outputs": [
        {
          "output_type": "execute_result",
          "data": {
            "text/plain": [
              "(36349, 18)"
            ]
          },
          "metadata": {},
          "execution_count": 153
        }
      ]
    },
    {
      "cell_type": "markdown",
      "source": [
        "---\n",
        "## **4. EDA**\n",
        "---\n",
        "---"
      ],
      "metadata": {
        "editable": false,
        "id": "F7yyffj5LBNp"
      }
    },
    {
      "cell_type": "code",
      "source": [
        "num_cols = ['age', 'score_bki', 'decline_app_cnt', 'bki_request_cnt', 'income']\n",
        "cat_cols = ['education', 'first_time', 'sna', 'work_address', 'home_address', 'region_rating']\n",
        "bin_cols = ['sex', 'car', 'car_type', 'good_work', 'foreign_passport']"
      ],
      "metadata": {
        "editable": false,
        "execution": {
          "iopub.status.busy": "2021-12-11T18:47:11.473628Z",
          "iopub.execute_input": "2021-12-11T18:47:11.473986Z",
          "iopub.status.idle": "2021-12-11T18:47:11.485903Z",
          "shell.execute_reply.started": "2021-12-11T18:47:11.473957Z",
          "shell.execute_reply": "2021-12-11T18:47:11.484984Z"
        },
        "trusted": true,
        "id": "g_DDiyHyLBNq"
      },
      "execution_count": 154,
      "outputs": []
    },
    {
      "cell_type": "code",
      "source": [
        "# для корректной обработки признаков объединяем\n",
        "# тренировочную и тестовую выборки в один датасет\n",
        "\n",
        "df_train['sample'] = 1 # помечаем, где у нас тренировочные данные\n",
        "df_test['sample'] = 0  # помечаем, где у нас тестовые данные\n",
        "df_test['default'] = 0 # в тесте у нас нет значения default,\n",
        "# мы его должны предсказать, по этому пока просто заполняем нулями\n",
        "\n",
        "data = df_test.append(df_train, sort=False).reset_index(drop=True) # объединяем train и test"
      ],
      "metadata": {
        "editable": false,
        "execution": {
          "iopub.status.busy": "2021-12-09T20:31:06.975403Z",
          "iopub.execute_input": "2021-12-09T20:31:06.975636Z",
          "iopub.status.idle": "2021-12-09T20:31:07.028484Z",
          "shell.execute_reply.started": "2021-12-09T20:31:06.975607Z",
          "shell.execute_reply": "2021-12-09T20:31:07.027495Z"
        },
        "trusted": true,
        "id": "no54cv6TLBN1",
        "colab": {
          "base_uri": "https://localhost:8080/",
          "height": 131
        },
        "outputId": "f8936f06-b3f1-4a98-deca-cbe06ee1a68e"
      },
      "execution_count": 311,
      "outputs": [
        {
          "output_type": "error",
          "ename": "SyntaxError",
          "evalue": "ignored",
          "traceback": [
            "\u001b[0;36m  File \u001b[0;32m\"<ipython-input-311-f9ac4967433b>\"\u001b[0;36m, line \u001b[0;32m2\u001b[0m\n\u001b[0;31m    тренировочную и тестовую выборки в один датасет\u001b[0m\n\u001b[0m                  ^\u001b[0m\n\u001b[0;31mSyntaxError\u001b[0m\u001b[0;31m:\u001b[0m invalid syntax\n"
          ]
        }
      ]
    },
    {
      "cell_type": "code",
      "source": [
        "# ===============================================================================\n",
        "# Построение множественных графиков\n",
        "\n",
        "def draw_charts_for_numeric(data, target='default', plot_type='histplot',\n",
        "                charts_in_row=3, \\\n",
        "                title='Распределение числовых переменных и их логарифмов\\n',\\\n",
        "                fs=(20,20),\\\n",
        "                **kwargs):\n",
        "    \n",
        "     def chart_to_plot(data_, col, tgt, plt_fun, ax_c, is_log=False): # выбор типа графика \n",
        " \n",
        "        d = data_.dropna().copy()\n",
        "    \n",
        "        if is_log:\n",
        "            d[col] = d[col].apply(lambda x: np.log(x + 1))\n",
        "            \n",
        "        if plt_fun == 'histplot':\n",
        "            sns.histplot(d[col], kde=True, ax=ax_c)\n",
        "        elif plt_fun == 'boxplot':\n",
        "            sns.boxplot(x=tgt, y=col, data=d, ax=ax_c)\n",
        "            ax_c.set_xlabel(col, fontsize=13)\n",
        "            \n",
        "    n_feat_to_plot = data.shape[1] - 1\n",
        "\n",
        "    fig, ax = plt.subplots((n_feat_to_plot // charts_in_row + 1) * 2, charts_in_row, sharey=False, figsize=fs)\n",
        "    fig.suptitle(title, fontsize=20);\n",
        "\n",
        "    for i, feat in enumerate(data.columns): # строим графики\n",
        "        \n",
        "        ax_curr = ax[2 * (i // 3), i % 3]    \n",
        "        \n",
        "        # график переменной\n",
        "        chart_to_plot(data_=data, tgt=target, col=feat, plt_fun=plot_type, ax_c=ax_curr)\n",
        "        \n",
        "        ax_curr.set_title(feat)\n",
        "        ax_curr.set_xlabel('')\n",
        "        ax_curr.set_ylabel('')\n",
        "        \n",
        "        if feat==target: fig.delaxes(ax_curr)\n",
        "            \n",
        "        ax_curr = ax[2 * (i // 3) + 1, i % 3]    \n",
        "        \n",
        "        # график логарифма переменной\n",
        "        chart_to_plot(data_=data, tgt=target, col=feat, plt_fun=plot_type, is_log=True, ax_c=ax_curr)\n",
        "        \n",
        "        ax_curr.set_title(f'log({feat})')\n",
        "        ax_curr.set_xlabel('')\n",
        "        ax_curr.set_ylabel('')\n",
        "        \n",
        "        if feat==target: fig.delaxes(ax_curr)\n",
        "\n",
        "    # удаляем пустые графики\n",
        "    for axes in ax.flatten():\n",
        "        if not(axes.has_data()):\n",
        "            fig.delaxes(axes)"
      ],
      "metadata": {
        "editable": false,
        "execution": {
          "iopub.status.busy": "2021-12-11T19:07:30.112679Z",
          "iopub.execute_input": "2021-12-11T19:07:30.113358Z",
          "iopub.status.idle": "2021-12-11T19:07:30.127054Z",
          "shell.execute_reply.started": "2021-12-11T19:07:30.113323Z",
          "shell.execute_reply": "2021-12-11T19:07:30.126070Z"
        },
        "trusted": true,
        "id": "tSMmJB4RLBNr",
        "colab": {
          "base_uri": "https://localhost:8080/",
          "height": 131
        },
        "outputId": "d746b1de-fb6b-4ccf-a976-10900143adf3"
      },
      "execution_count": 310,
      "outputs": [
        {
          "output_type": "error",
          "ename": "SyntaxError",
          "evalue": "ignored",
          "traceback": [
            "\u001b[0;36m  File \u001b[0;32m\"<ipython-input-310-31f883c9b8b2>\"\u001b[0;36m, line \u001b[0;32m2\u001b[0m\n\u001b[0;31m    Построение множественных графиков\u001b[0m\n\u001b[0m                           ^\u001b[0m\n\u001b[0;31mSyntaxError\u001b[0m\u001b[0;31m:\u001b[0m invalid syntax\n"
          ]
        }
      ]
    },
    {
      "cell_type": "markdown",
      "source": [
        "Посмотрим распределение числовых признаков и их логарифмов"
      ],
      "metadata": {
        "editable": false,
        "id": "HbXTsbTMLBNp"
      }
    },
    {
      "cell_type": "code",
      "source": [
        "# draw_charts_for_numeric(data=df_test[num_cols], plot_type='histplot', charts_in_row=3, \\\n",
        "#                 title='\\n\\n\\nРаспределение числовых переменных и их логарифмов\\nв тестовых данных',\\\n",
        "#                 fs=(15, 20))\n",
        "\n",
        "# draw_charts_for_numeric(data=df_train[num_cols+['default']], plot_type='histplot', charts_in_row=3, \\\n",
        "#                 title='\\n\\n\\nРаспределение числовых переменных и их логарифмов\\nв тренировочных данных',\\\n",
        "#                 fs=(15, 20))\n",
        "\n",
        "# draw_charts_for_numeric(data=df_train[num_cols+['default']], plot_type='boxplot', charts_in_row=3, \\\n",
        "                # title='\\n\\n\\nРаспределение числовых переменных и их логарифмов\\nв тренировочных данных',\\\n",
        "                # fs=(15, 20))"
      ],
      "metadata": {
        "execution": {
          "iopub.status.busy": "2021-12-11T19:07:32.742255Z",
          "iopub.execute_input": "2021-12-11T19:07:32.742556Z",
          "iopub.status.idle": "2021-12-11T19:07:46.330309Z",
          "shell.execute_reply.started": "2021-12-11T19:07:32.742522Z",
          "shell.execute_reply": "2021-12-11T19:07:46.329160Z"
        },
        "trusted": true,
        "id": "_JHbaDhQLBNs"
      },
      "execution_count": 157,
      "outputs": []
    },
    {
      "cell_type": "markdown",
      "source": [
        "**Вывод:** распределения числовых признаков в тестовой и тренировочной в целом идентичны (визуально)."
      ],
      "metadata": {
        "id": "avkl4g-2ljsa"
      }
    },
    {
      "cell_type": "code",
      "source": [
        "df_train.info()"
      ],
      "metadata": {
        "editable": false,
        "trusted": true,
        "id": "dMoJoHxMLBNz",
        "colab": {
          "base_uri": "https://localhost:8080/"
        },
        "outputId": "0ceb70b1-9c9e-4cfc-ad10-c1abc94bcf92"
      },
      "execution_count": 159,
      "outputs": [
        {
          "output_type": "stream",
          "name": "stdout",
          "text": [
            "<class 'pandas.core.frame.DataFrame'>\n",
            "RangeIndex: 73799 entries, 0 to 73798\n",
            "Data columns (total 20 columns):\n",
            " #   Column            Non-Null Count  Dtype  \n",
            "---  ------            --------------  -----  \n",
            " 0   client_id         73799 non-null  int64  \n",
            " 1   app_date          73799 non-null  object \n",
            " 2   education         73492 non-null  object \n",
            " 3   sex               73799 non-null  object \n",
            " 4   age               73799 non-null  int64  \n",
            " 5   car               73799 non-null  object \n",
            " 6   car_type          73799 non-null  object \n",
            " 7   decline_app_cnt   73799 non-null  int64  \n",
            " 8   good_work         73799 non-null  int64  \n",
            " 9   score_bki         73799 non-null  float64\n",
            " 10  bki_request_cnt   73799 non-null  int64  \n",
            " 11  region_rating     73799 non-null  int64  \n",
            " 12  home_address      73799 non-null  int64  \n",
            " 13  work_address      73799 non-null  int64  \n",
            " 14  income            73799 non-null  int64  \n",
            " 15  sna               73799 non-null  int64  \n",
            " 16  first_time        73799 non-null  int64  \n",
            " 17  foreign_passport  73799 non-null  object \n",
            " 18  default           73799 non-null  int64  \n",
            " 19  sample            73799 non-null  int64  \n",
            "dtypes: float64(1), int64(13), object(6)\n",
            "memory usage: 11.3+ MB\n"
          ]
        }
      ]
    },
    {
      "cell_type": "code",
      "source": [
        "# df_test.info()"
      ],
      "metadata": {
        "editable": false,
        "execution": {
          "iopub.status.busy": "2021-12-09T20:30:32.153467Z",
          "iopub.execute_input": "2021-12-09T20:30:32.153710Z",
          "iopub.status.idle": "2021-12-09T20:30:32.167636Z",
          "shell.execute_reply.started": "2021-12-09T20:30:32.153681Z",
          "shell.execute_reply": "2021-12-09T20:30:32.166897Z"
        },
        "trusted": true,
        "id": "QlFIlFgYLBNz"
      },
      "execution_count": 160,
      "outputs": []
    },
    {
      "cell_type": "markdown",
      "source": [
        "**Вывод:** есть пропуски в признаке education"
      ],
      "metadata": {
        "editable": false,
        "id": "odsj0zMmLBNz"
      }
    },
    {
      "cell_type": "code",
      "source": [
        "df_train.sample(5)"
      ],
      "metadata": {
        "editable": false,
        "execution": {
          "iopub.status.busy": "2021-12-09T20:30:32.171017Z",
          "iopub.execute_input": "2021-12-09T20:30:32.171566Z",
          "iopub.status.idle": "2021-12-09T20:30:32.198974Z",
          "shell.execute_reply.started": "2021-12-09T20:30:32.171522Z",
          "shell.execute_reply": "2021-12-09T20:30:32.197861Z"
        },
        "trusted": true,
        "id": "xPsuZPp-LBN0",
        "colab": {
          "base_uri": "https://localhost:8080/",
          "height": 270
        },
        "outputId": "d384415c-63fa-4f8f-a4a8-6a73287ae26b"
      },
      "execution_count": 161,
      "outputs": [
        {
          "output_type": "execute_result",
          "data": {
            "text/html": [
              "\n",
              "  <div id=\"df-dc13f8aa-e562-4aa7-8ec6-c15f31f10a22\">\n",
              "    <div class=\"colab-df-container\">\n",
              "      <div>\n",
              "<style scoped>\n",
              "    .dataframe tbody tr th:only-of-type {\n",
              "        vertical-align: middle;\n",
              "    }\n",
              "\n",
              "    .dataframe tbody tr th {\n",
              "        vertical-align: top;\n",
              "    }\n",
              "\n",
              "    .dataframe thead th {\n",
              "        text-align: right;\n",
              "    }\n",
              "</style>\n",
              "<table border=\"1\" class=\"dataframe\">\n",
              "  <thead>\n",
              "    <tr style=\"text-align: right;\">\n",
              "      <th></th>\n",
              "      <th>client_id</th>\n",
              "      <th>app_date</th>\n",
              "      <th>education</th>\n",
              "      <th>sex</th>\n",
              "      <th>age</th>\n",
              "      <th>car</th>\n",
              "      <th>car_type</th>\n",
              "      <th>decline_app_cnt</th>\n",
              "      <th>good_work</th>\n",
              "      <th>score_bki</th>\n",
              "      <th>bki_request_cnt</th>\n",
              "      <th>region_rating</th>\n",
              "      <th>home_address</th>\n",
              "      <th>work_address</th>\n",
              "      <th>income</th>\n",
              "      <th>sna</th>\n",
              "      <th>first_time</th>\n",
              "      <th>foreign_passport</th>\n",
              "      <th>default</th>\n",
              "      <th>sample</th>\n",
              "    </tr>\n",
              "  </thead>\n",
              "  <tbody>\n",
              "    <tr>\n",
              "      <th>42033</th>\n",
              "      <td>57040</td>\n",
              "      <td>05MAR2014</td>\n",
              "      <td>GRD</td>\n",
              "      <td>M</td>\n",
              "      <td>29</td>\n",
              "      <td>Y</td>\n",
              "      <td>Y</td>\n",
              "      <td>0</td>\n",
              "      <td>0</td>\n",
              "      <td>-2.133712</td>\n",
              "      <td>0</td>\n",
              "      <td>70</td>\n",
              "      <td>1</td>\n",
              "      <td>3</td>\n",
              "      <td>150000</td>\n",
              "      <td>1</td>\n",
              "      <td>4</td>\n",
              "      <td>N</td>\n",
              "      <td>0</td>\n",
              "      <td>1</td>\n",
              "    </tr>\n",
              "    <tr>\n",
              "      <th>4814</th>\n",
              "      <td>100003</td>\n",
              "      <td>17APR2014</td>\n",
              "      <td>UGR</td>\n",
              "      <td>M</td>\n",
              "      <td>27</td>\n",
              "      <td>N</td>\n",
              "      <td>N</td>\n",
              "      <td>2</td>\n",
              "      <td>0</td>\n",
              "      <td>-1.843908</td>\n",
              "      <td>0</td>\n",
              "      <td>80</td>\n",
              "      <td>2</td>\n",
              "      <td>3</td>\n",
              "      <td>50000</td>\n",
              "      <td>1</td>\n",
              "      <td>1</td>\n",
              "      <td>N</td>\n",
              "      <td>0</td>\n",
              "      <td>1</td>\n",
              "    </tr>\n",
              "    <tr>\n",
              "      <th>21040</th>\n",
              "      <td>100192</td>\n",
              "      <td>17APR2014</td>\n",
              "      <td>SCH</td>\n",
              "      <td>F</td>\n",
              "      <td>47</td>\n",
              "      <td>N</td>\n",
              "      <td>N</td>\n",
              "      <td>0</td>\n",
              "      <td>0</td>\n",
              "      <td>-2.177755</td>\n",
              "      <td>4</td>\n",
              "      <td>60</td>\n",
              "      <td>1</td>\n",
              "      <td>3</td>\n",
              "      <td>30000</td>\n",
              "      <td>4</td>\n",
              "      <td>1</td>\n",
              "      <td>N</td>\n",
              "      <td>0</td>\n",
              "      <td>1</td>\n",
              "    </tr>\n",
              "    <tr>\n",
              "      <th>73576</th>\n",
              "      <td>62004</td>\n",
              "      <td>11MAR2014</td>\n",
              "      <td>SCH</td>\n",
              "      <td>F</td>\n",
              "      <td>52</td>\n",
              "      <td>N</td>\n",
              "      <td>N</td>\n",
              "      <td>0</td>\n",
              "      <td>1</td>\n",
              "      <td>-1.740248</td>\n",
              "      <td>2</td>\n",
              "      <td>40</td>\n",
              "      <td>2</td>\n",
              "      <td>3</td>\n",
              "      <td>15000</td>\n",
              "      <td>1</td>\n",
              "      <td>4</td>\n",
              "      <td>N</td>\n",
              "      <td>0</td>\n",
              "      <td>1</td>\n",
              "    </tr>\n",
              "    <tr>\n",
              "      <th>51973</th>\n",
              "      <td>98497</td>\n",
              "      <td>15APR2014</td>\n",
              "      <td>SCH</td>\n",
              "      <td>F</td>\n",
              "      <td>58</td>\n",
              "      <td>N</td>\n",
              "      <td>N</td>\n",
              "      <td>0</td>\n",
              "      <td>0</td>\n",
              "      <td>-2.117778</td>\n",
              "      <td>0</td>\n",
              "      <td>40</td>\n",
              "      <td>2</td>\n",
              "      <td>3</td>\n",
              "      <td>10000</td>\n",
              "      <td>1</td>\n",
              "      <td>4</td>\n",
              "      <td>N</td>\n",
              "      <td>0</td>\n",
              "      <td>1</td>\n",
              "    </tr>\n",
              "  </tbody>\n",
              "</table>\n",
              "</div>\n",
              "      <button class=\"colab-df-convert\" onclick=\"convertToInteractive('df-dc13f8aa-e562-4aa7-8ec6-c15f31f10a22')\"\n",
              "              title=\"Convert this dataframe to an interactive table.\"\n",
              "              style=\"display:none;\">\n",
              "        \n",
              "  <svg xmlns=\"http://www.w3.org/2000/svg\" height=\"24px\"viewBox=\"0 0 24 24\"\n",
              "       width=\"24px\">\n",
              "    <path d=\"M0 0h24v24H0V0z\" fill=\"none\"/>\n",
              "    <path d=\"M18.56 5.44l.94 2.06.94-2.06 2.06-.94-2.06-.94-.94-2.06-.94 2.06-2.06.94zm-11 1L8.5 8.5l.94-2.06 2.06-.94-2.06-.94L8.5 2.5l-.94 2.06-2.06.94zm10 10l.94 2.06.94-2.06 2.06-.94-2.06-.94-.94-2.06-.94 2.06-2.06.94z\"/><path d=\"M17.41 7.96l-1.37-1.37c-.4-.4-.92-.59-1.43-.59-.52 0-1.04.2-1.43.59L10.3 9.45l-7.72 7.72c-.78.78-.78 2.05 0 2.83L4 21.41c.39.39.9.59 1.41.59.51 0 1.02-.2 1.41-.59l7.78-7.78 2.81-2.81c.8-.78.8-2.07 0-2.86zM5.41 20L4 18.59l7.72-7.72 1.47 1.35L5.41 20z\"/>\n",
              "  </svg>\n",
              "      </button>\n",
              "      \n",
              "  <style>\n",
              "    .colab-df-container {\n",
              "      display:flex;\n",
              "      flex-wrap:wrap;\n",
              "      gap: 12px;\n",
              "    }\n",
              "\n",
              "    .colab-df-convert {\n",
              "      background-color: #E8F0FE;\n",
              "      border: none;\n",
              "      border-radius: 50%;\n",
              "      cursor: pointer;\n",
              "      display: none;\n",
              "      fill: #1967D2;\n",
              "      height: 32px;\n",
              "      padding: 0 0 0 0;\n",
              "      width: 32px;\n",
              "    }\n",
              "\n",
              "    .colab-df-convert:hover {\n",
              "      background-color: #E2EBFA;\n",
              "      box-shadow: 0px 1px 2px rgba(60, 64, 67, 0.3), 0px 1px 3px 1px rgba(60, 64, 67, 0.15);\n",
              "      fill: #174EA6;\n",
              "    }\n",
              "\n",
              "    [theme=dark] .colab-df-convert {\n",
              "      background-color: #3B4455;\n",
              "      fill: #D2E3FC;\n",
              "    }\n",
              "\n",
              "    [theme=dark] .colab-df-convert:hover {\n",
              "      background-color: #434B5C;\n",
              "      box-shadow: 0px 1px 3px 1px rgba(0, 0, 0, 0.15);\n",
              "      filter: drop-shadow(0px 1px 2px rgba(0, 0, 0, 0.3));\n",
              "      fill: #FFFFFF;\n",
              "    }\n",
              "  </style>\n",
              "\n",
              "      <script>\n",
              "        const buttonEl =\n",
              "          document.querySelector('#df-dc13f8aa-e562-4aa7-8ec6-c15f31f10a22 button.colab-df-convert');\n",
              "        buttonEl.style.display =\n",
              "          google.colab.kernel.accessAllowed ? 'block' : 'none';\n",
              "\n",
              "        async function convertToInteractive(key) {\n",
              "          const element = document.querySelector('#df-dc13f8aa-e562-4aa7-8ec6-c15f31f10a22');\n",
              "          const dataTable =\n",
              "            await google.colab.kernel.invokeFunction('convertToInteractive',\n",
              "                                                     [key], {});\n",
              "          if (!dataTable) return;\n",
              "\n",
              "          const docLinkHtml = 'Like what you see? Visit the ' +\n",
              "            '<a target=\"_blank\" href=https://colab.research.google.com/notebooks/data_table.ipynb>data table notebook</a>'\n",
              "            + ' to learn more about interactive tables.';\n",
              "          element.innerHTML = '';\n",
              "          dataTable['output_type'] = 'display_data';\n",
              "          await google.colab.output.renderOutput(dataTable, element);\n",
              "          const docLink = document.createElement('div');\n",
              "          docLink.innerHTML = docLinkHtml;\n",
              "          element.appendChild(docLink);\n",
              "        }\n",
              "      </script>\n",
              "    </div>\n",
              "  </div>\n",
              "  "
            ],
            "text/plain": [
              "       client_id   app_date education  ... foreign_passport  default sample\n",
              "42033      57040  05MAR2014       GRD  ...                N        0      1\n",
              "4814      100003  17APR2014       UGR  ...                N        0      1\n",
              "21040     100192  17APR2014       SCH  ...                N        0      1\n",
              "73576      62004  11MAR2014       SCH  ...                N        0      1\n",
              "51973      98497  15APR2014       SCH  ...                N        0      1\n",
              "\n",
              "[5 rows x 20 columns]"
            ]
          },
          "metadata": {},
          "execution_count": 161
        }
      ]
    },
    {
      "cell_type": "code",
      "source": [
        "# pandas_profiling.ProfileReport(df_train)"
      ],
      "metadata": {
        "editable": false,
        "execution": {
          "iopub.status.busy": "2021-12-09T20:30:32.200354Z",
          "iopub.execute_input": "2021-12-09T20:30:32.200577Z",
          "iopub.status.idle": "2021-12-09T20:31:06.973652Z",
          "shell.execute_reply.started": "2021-12-09T20:30:32.200551Z",
          "shell.execute_reply": "2021-12-09T20:31:06.972764Z"
        },
        "trusted": true,
        "id": "92WZoXiXLBN0"
      },
      "execution_count": 162,
      "outputs": []
    },
    {
      "cell_type": "code",
      "source": [
        "data.nunique(dropna=False)"
      ],
      "metadata": {
        "editable": false,
        "execution": {
          "iopub.status.busy": "2021-12-09T20:31:07.029780Z",
          "iopub.execute_input": "2021-12-09T20:31:07.030166Z",
          "iopub.status.idle": "2021-12-09T20:31:07.107451Z",
          "shell.execute_reply.started": "2021-12-09T20:31:07.030128Z",
          "shell.execute_reply": "2021-12-09T20:31:07.106510Z"
        },
        "trusted": true,
        "id": "VQyqMkCyLBN1",
        "colab": {
          "base_uri": "https://localhost:8080/"
        },
        "outputId": "38eeff59-5605-453c-c313-8b5706e50d74"
      },
      "execution_count": 163,
      "outputs": [
        {
          "output_type": "execute_result",
          "data": {
            "text/plain": [
              "client_id           110148\n",
              "app_date               120\n",
              "education                6\n",
              "sex                      2\n",
              "age                     52\n",
              "car                      2\n",
              "car_type                 2\n",
              "decline_app_cnt         24\n",
              "good_work                2\n",
              "score_bki           102618\n",
              "bki_request_cnt         40\n",
              "region_rating            7\n",
              "home_address             3\n",
              "work_address             3\n",
              "income                1207\n",
              "sna                      4\n",
              "first_time               4\n",
              "foreign_passport         2\n",
              "sample                   2\n",
              "default                  2\n",
              "dtype: int64"
            ]
          },
          "metadata": {},
          "execution_count": 163
        }
      ]
    },
    {
      "cell_type": "code",
      "source": [
        "old_cols = set(['client_id', 'education', 'sex', 'age', 'car', 'car_type',\n",
        "       'decline_app_cnt', 'good_work', 'bki_request_cnt', 'home_address',\n",
        "       'work_address', 'income', 'foreign_passport', 'default'])\n",
        "\n",
        "new_cols = set(df_train.columns) - old_cols - set(['sample'])\n",
        "print ('Новые признаки:\\n', *new_cols)"
      ],
      "metadata": {
        "editable": false,
        "execution": {
          "iopub.status.busy": "2021-12-09T20:31:07.108630Z",
          "iopub.execute_input": "2021-12-09T20:31:07.109156Z",
          "iopub.status.idle": "2021-12-09T20:31:07.117057Z",
          "shell.execute_reply.started": "2021-12-09T20:31:07.109118Z",
          "shell.execute_reply": "2021-12-09T20:31:07.116053Z"
        },
        "trusted": true,
        "id": "0Ax1NDMiLBN1",
        "colab": {
          "base_uri": "https://localhost:8080/"
        },
        "outputId": "a8098167-4986-4f86-d6df-5e92d8539a07"
      },
      "execution_count": 164,
      "outputs": [
        {
          "output_type": "stream",
          "name": "stdout",
          "text": [
            "Новые признаки:\n",
            " first_time sna score_bki region_rating app_date\n"
          ]
        }
      ]
    },
    {
      "cell_type": "code",
      "source": [
        "data['default'].value_counts(ascending=True).plot(kind='barh');"
      ],
      "metadata": {
        "editable": false,
        "execution": {
          "iopub.status.busy": "2021-12-09T20:31:07.118565Z",
          "iopub.execute_input": "2021-12-09T20:31:07.119360Z",
          "iopub.status.idle": "2021-12-09T20:31:07.314955Z",
          "shell.execute_reply.started": "2021-12-09T20:31:07.119316Z",
          "shell.execute_reply": "2021-12-09T20:31:07.313862Z"
        },
        "trusted": true,
        "id": "iC4zVclwLBN2",
        "colab": {
          "base_uri": "https://localhost:8080/",
          "height": 265
        },
        "outputId": "d4aa953b-0c07-4e46-a1cb-c2e83db53693"
      },
      "execution_count": 165,
      "outputs": [
        {
          "output_type": "display_data",
          "data": {
            "image/png": "[encoded data removed]",
            "text/plain": [
              "<Figure size 432x288 with 1 Axes>"
            ]
          },
          "metadata": {
            "needs_background": "light"
          }
        }
      ]
    },
    {
      "cell_type": "markdown",
      "source": [
        "Наблюдается сильный дисбаланс классов: <br> "
      ],
      "metadata": {
        "id": "8fekJK4wvt1P"
      }
    },
    {
      "cell_type": "code",
      "source": [
        "print('соотношение недефолтных клиентов к дефолтным - 1 к',\\\n",
        "      round(data.default[data.default == 0].count() / data.default[data.default == 1].count()))"
      ],
      "metadata": {
        "colab": {
          "base_uri": "https://localhost:8080/"
        },
        "id": "MSjlwgkSwOj-",
        "outputId": "39971a21-a60a-49cc-8e74-ab5d67a5b548"
      },
      "execution_count": 166,
      "outputs": [
        {
          "output_type": "stream",
          "name": "stdout",
          "text": [
            "соотношение недефолтных клиентов к дефолтным - 1 к 11\n"
          ]
        }
      ]
    },
    {
      "cell_type": "markdown",
      "source": [
        "---\n",
        "#### Заполнение пропусков\n",
        "---\n",
        "---\n",
        "\n",
        "##### Заполняем пропуски в `education` случайным образом так, чтобы распределение признака не поменялось"
      ],
      "metadata": {
        "id": "E0SrNHFr2s1T"
      }
    },
    {
      "cell_type": "code",
      "source": [
        "edu_species = data['education'].dropna().unique()\n",
        "edu_species_num = edu_species.shape[0]\n",
        "\n",
        "#доля каждого значения среди всех значений признака education\n",
        "\n",
        "weights = data[data['sample']==1]['education'].value_counts() / \\\n",
        "    data[data['sample']==1]['education'].count()\n",
        "\n",
        "data['education'] = data['education'].apply(\n",
        "    lambda x: np.random.choice(edu_species, 1, p = weights)[0] if pd.isna(x) else x\n",
        ")"
      ],
      "metadata": {
        "editable": false,
        "execution": {
          "iopub.status.busy": "2021-12-09T20:31:07.316640Z",
          "iopub.execute_input": "2021-12-09T20:31:07.317002Z",
          "iopub.status.idle": "2021-12-09T20:31:07.449469Z",
          "shell.execute_reply.started": "2021-12-09T20:31:07.316967Z",
          "shell.execute_reply": "2021-12-09T20:31:07.448595Z"
        },
        "trusted": true,
        "id": "9Lh9qiyFLBN2"
      },
      "execution_count": 167,
      "outputs": []
    },
    {
      "cell_type": "code",
      "source": [
        "# копируем датасет для альтернативной обработки признаков с помощью WoE\n",
        "\n",
        "data_for_WoE = data.copy()"
      ],
      "metadata": {
        "id": "rrpCO-Q3upYN"
      },
      "execution_count": 168,
      "outputs": []
    },
    {
      "cell_type": "markdown",
      "source": [
        "---\n",
        "### **Обработка признаков**\n",
        "---\n",
        "---\n",
        "\n"
      ],
      "metadata": {
        "id": "7-9VZ_kK2zMF"
      }
    },
    {
      "cell_type": "markdown",
      "source": [
        "##### Логарифмирование признаков"
      ],
      "metadata": {
        "id": "q4KudZa-9eSV"
      }
    },
    {
      "cell_type": "code",
      "source": [
        "#логарифмируем все числовые признаки кроме score_bki\n",
        "\n",
        "cols_to_log = num_cols.copy()\n",
        "cols_to_log.remove('score_bki')\n",
        "\n",
        "# x + 1 - избегаем взятия логарифма от нуля\n",
        "\n",
        "data[cols_to_log] = data[cols_to_log].apply(lambda x: np.log(x + 1))"
      ],
      "metadata": {
        "id": "N7eTU_am3AY6"
      },
      "execution_count": 169,
      "outputs": []
    },
    {
      "cell_type": "markdown",
      "source": [
        "##### Выявление выбросов\n"
      ],
      "metadata": {
        "id": "Rl57zyvUyKRY"
      }
    },
    {
      "cell_type": "code",
      "source": [
        "train_data = data.query('sample == 1')[num_cols]\n",
        "\n",
        "#вычисляем 1й и 3й квартили и межквартильный интервал для тренировочного датасета\n",
        "Q1 = train_data.quantile(0.25, axis=0)\n",
        "Q3 = train_data.quantile(0.75, axis=0)\n",
        "\n",
        "IQR = Q3 - Q1\n",
        "lbound, ubound = Q1 - 1.5 * IQR, Q3 + 1.5 * IQR\n",
        "\n",
        "outliers = {}\n",
        "for col in num_cols:\n",
        "\n",
        "    outliers[col] = [data[(~data[col].between(lbound[col], ubound[col])) &\n",
        "                              (data.default == 1)][col].count(),\n",
        "                      \n",
        "                     data[(~data[col].between(lbound[col], ubound[col])) &\n",
        "                              (data.default == 0)][col].count(),\n",
        "                    ]\n",
        "    \n",
        "    outliers[col] += [sum(outliers[col])]\n",
        "\n",
        "outliers = pd.DataFrame(outliers, index=pd.MultiIndex.from_product([\n",
        "                                    ['outliers'],\n",
        "                                    ['default = 1',\n",
        "                                     'default = 0',\n",
        "                                     'total']]),\n",
        ")\n",
        "\n",
        "num_cols_w_outliers = \\\n",
        "    outliers.loc[\n",
        "                 ('outliers', 'total'),\n",
        "                 outliers.loc[('outliers', 'total'), :] != 0\n",
        "    ].index\n",
        "print ('\\033[1m' + '===============================  ВЫБРОСЫ  ==================================' + '\\033[0m\\n')\n",
        "display(outliers)"
      ],
      "metadata": {
        "colab": {
          "base_uri": "https://localhost:8080/",
          "height": 178
        },
        "id": "VfjMru5POT1T",
        "outputId": "805b2470-cc54-4139-f367-cb58496cfada"
      },
      "execution_count": 170,
      "outputs": [
        {
          "output_type": "stream",
          "name": "stdout",
          "text": [
            "\u001b[1m===============================  ВЫБРОСЫ  ==================================\u001b[0m\n",
            "\n"
          ]
        },
        {
          "output_type": "display_data",
          "data": {
            "text/html": [
              "\n",
              "  <div id=\"df-01bac9ac-59d5-47eb-88ee-7dcf31e439f6\">\n",
              "    <div class=\"colab-df-container\">\n",
              "      <div>\n",
              "<style scoped>\n",
              "    .dataframe tbody tr th:only-of-type {\n",
              "        vertical-align: middle;\n",
              "    }\n",
              "\n",
              "    .dataframe tbody tr th {\n",
              "        vertical-align: top;\n",
              "    }\n",
              "\n",
              "    .dataframe thead th {\n",
              "        text-align: right;\n",
              "    }\n",
              "</style>\n",
              "<table border=\"1\" class=\"dataframe\">\n",
              "  <thead>\n",
              "    <tr style=\"text-align: right;\">\n",
              "      <th></th>\n",
              "      <th></th>\n",
              "      <th>age</th>\n",
              "      <th>score_bki</th>\n",
              "      <th>decline_app_cnt</th>\n",
              "      <th>bki_request_cnt</th>\n",
              "      <th>income</th>\n",
              "    </tr>\n",
              "  </thead>\n",
              "  <tbody>\n",
              "    <tr>\n",
              "      <th rowspan=\"3\" valign=\"top\">outliers</th>\n",
              "      <th>default = 1</th>\n",
              "      <td>0</td>\n",
              "      <td>114</td>\n",
              "      <td>2667</td>\n",
              "      <td>4</td>\n",
              "      <td>177</td>\n",
              "    </tr>\n",
              "    <tr>\n",
              "      <th>default = 0</th>\n",
              "      <td>0</td>\n",
              "      <td>421</td>\n",
              "      <td>16010</td>\n",
              "      <td>11</td>\n",
              "      <td>2432</td>\n",
              "    </tr>\n",
              "    <tr>\n",
              "      <th>total</th>\n",
              "      <td>0</td>\n",
              "      <td>535</td>\n",
              "      <td>18677</td>\n",
              "      <td>15</td>\n",
              "      <td>2609</td>\n",
              "    </tr>\n",
              "  </tbody>\n",
              "</table>\n",
              "</div>\n",
              "      <button class=\"colab-df-convert\" onclick=\"convertToInteractive('df-01bac9ac-59d5-47eb-88ee-7dcf31e439f6')\"\n",
              "              title=\"Convert this dataframe to an interactive table.\"\n",
              "              style=\"display:none;\">\n",
              "        \n",
              "  <svg xmlns=\"http://www.w3.org/2000/svg\" height=\"24px\"viewBox=\"0 0 24 24\"\n",
              "       width=\"24px\">\n",
              "    <path d=\"M0 0h24v24H0V0z\" fill=\"none\"/>\n",
              "    <path d=\"M18.56 5.44l.94 2.06.94-2.06 2.06-.94-2.06-.94-.94-2.06-.94 2.06-2.06.94zm-11 1L8.5 8.5l.94-2.06 2.06-.94-2.06-.94L8.5 2.5l-.94 2.06-2.06.94zm10 10l.94 2.06.94-2.06 2.06-.94-2.06-.94-.94-2.06-.94 2.06-2.06.94z\"/><path d=\"M17.41 7.96l-1.37-1.37c-.4-.4-.92-.59-1.43-.59-.52 0-1.04.2-1.43.59L10.3 9.45l-7.72 7.72c-.78.78-.78 2.05 0 2.83L4 21.41c.39.39.9.59 1.41.59.51 0 1.02-.2 1.41-.59l7.78-7.78 2.81-2.81c.8-.78.8-2.07 0-2.86zM5.41 20L4 18.59l7.72-7.72 1.47 1.35L5.41 20z\"/>\n",
              "  </svg>\n",
              "      </button>\n",
              "      \n",
              "  <style>\n",
              "    .colab-df-container {\n",
              "      display:flex;\n",
              "      flex-wrap:wrap;\n",
              "      gap: 12px;\n",
              "    }\n",
              "\n",
              "    .colab-df-convert {\n",
              "      background-color: #E8F0FE;\n",
              "      border: none;\n",
              "      border-radius: 50%;\n",
              "      cursor: pointer;\n",
              "      display: none;\n",
              "      fill: #1967D2;\n",
              "      height: 32px;\n",
              "      padding: 0 0 0 0;\n",
              "      width: 32px;\n",
              "    }\n",
              "\n",
              "    .colab-df-convert:hover {\n",
              "      background-color: #E2EBFA;\n",
              "      box-shadow: 0px 1px 2px rgba(60, 64, 67, 0.3), 0px 1px 3px 1px rgba(60, 64, 67, 0.15);\n",
              "      fill: #174EA6;\n",
              "    }\n",
              "\n",
              "    [theme=dark] .colab-df-convert {\n",
              "      background-color: #3B4455;\n",
              "      fill: #D2E3FC;\n",
              "    }\n",
              "\n",
              "    [theme=dark] .colab-df-convert:hover {\n",
              "      background-color: #434B5C;\n",
              "      box-shadow: 0px 1px 3px 1px rgba(0, 0, 0, 0.15);\n",
              "      filter: drop-shadow(0px 1px 2px rgba(0, 0, 0, 0.3));\n",
              "      fill: #FFFFFF;\n",
              "    }\n",
              "  </style>\n",
              "\n",
              "      <script>\n",
              "        const buttonEl =\n",
              "          document.querySelector('#df-01bac9ac-59d5-47eb-88ee-7dcf31e439f6 button.colab-df-convert');\n",
              "        buttonEl.style.display =\n",
              "          google.colab.kernel.accessAllowed ? 'block' : 'none';\n",
              "\n",
              "        async function convertToInteractive(key) {\n",
              "          const element = document.querySelector('#df-01bac9ac-59d5-47eb-88ee-7dcf31e439f6');\n",
              "          const dataTable =\n",
              "            await google.colab.kernel.invokeFunction('convertToInteractive',\n",
              "                                                     [key], {});\n",
              "          if (!dataTable) return;\n",
              "\n",
              "          const docLinkHtml = 'Like what you see? Visit the ' +\n",
              "            '<a target=\"_blank\" href=https://colab.research.google.com/notebooks/data_table.ipynb>data table notebook</a>'\n",
              "            + ' to learn more about interactive tables.';\n",
              "          element.innerHTML = '';\n",
              "          dataTable['output_type'] = 'display_data';\n",
              "          await google.colab.output.renderOutput(dataTable, element);\n",
              "          const docLink = document.createElement('div');\n",
              "          docLink.innerHTML = docLinkHtml;\n",
              "          element.appendChild(docLink);\n",
              "        }\n",
              "      </script>\n",
              "    </div>\n",
              "  </div>\n",
              "  "
            ],
            "text/plain": [
              "                      age  score_bki  decline_app_cnt  bki_request_cnt  income\n",
              "outliers default = 1    0        114             2667                4     177\n",
              "         default = 0    0        421            16010               11    2432\n",
              "         total          0        535            18677               15    2609"
            ]
          },
          "metadata": {}
        }
      ]
    },
    {
      "cell_type": "markdown",
      "source": [
        "##### Добавляем новые признаки на основе выбросов\n",
        "\n",
        "***Описание добавить***\n"
      ],
      "metadata": {
        "id": "0AtjGyF3dgXF"
      }
    },
    {
      "cell_type": "code",
      "source": [
        "for col in num_cols_w_outliers:\n",
        "\n",
        "    # создаем новый признак\n",
        "    data[col + '_outliers'] = 0\n",
        "\n",
        "    # маски для \"верхних\" и \"нижних\" выбросов\n",
        "    mask_right = data[col] >= ubound[col]\n",
        "    mask_left = data[col] <= lbound[col]\n",
        "\n",
        "    data.loc[mask_right | mask_left, col + '_outliers'] = \\\n",
        "        outliers.loc[('outliers', 'total'), col]\n",
        "\n",
        "    # подтягиваем выбросы к краям интервала с невыбросными значениями\n",
        "    data.loc[mask_right, col] = ubound[col]\n",
        "    data.loc[mask_left,  col] = lbound[col]"
      ],
      "metadata": {
        "id": "fin4sOor00Ld"
      },
      "execution_count": 171,
      "outputs": []
    },
    {
      "cell_type": "markdown",
      "source": [
        "##### Label и One-Hot encoding"
      ],
      "metadata": {
        "id": "qeBIAS7SUKfQ"
      }
    },
    {
      "cell_type": "code",
      "source": [
        "# удаляем заведомо не влияющие признаки\n",
        "data.drop(['client_id','app_date',], axis = 1, inplace=True)"
      ],
      "metadata": {
        "editable": false,
        "execution": {
          "iopub.status.busy": "2021-12-09T20:37:41.207450Z",
          "iopub.execute_input": "2021-12-09T20:37:41.207928Z",
          "iopub.status.idle": "2021-12-09T20:37:41.221590Z",
          "shell.execute_reply.started": "2021-12-09T20:37:41.207884Z",
          "shell.execute_reply": "2021-12-09T20:37:41.220499Z"
        },
        "trusted": true,
        "id": "zUiVapmxLBN3"
      },
      "execution_count": 172,
      "outputs": []
    },
    {
      "cell_type": "code",
      "source": [
        "data = pd.get_dummies(data, columns=['education'], dummy_na=False)"
      ],
      "metadata": {
        "editable": false,
        "execution": {
          "iopub.status.busy": "2021-12-09T20:37:41.223076Z",
          "iopub.execute_input": "2021-12-09T20:37:41.223379Z",
          "iopub.status.idle": "2021-12-09T20:37:41.255601Z",
          "shell.execute_reply.started": "2021-12-09T20:37:41.223350Z",
          "shell.execute_reply": "2021-12-09T20:37:41.254823Z"
        },
        "trusted": true,
        "id": "g90rk2PPLBN3"
      },
      "execution_count": 173,
      "outputs": []
    },
    {
      "cell_type": "code",
      "source": [
        "from sklearn import preprocessing as pp\n",
        "\n",
        "label_enc = pp.LabelEncoder()\n",
        "\n",
        "for col in bin_cols:\n",
        "    data[col] = label_enc.fit_transform(data[col])\n",
        "    \n",
        "cat_cols_copy = cat_cols.copy()\n",
        "cat_cols_copy.remove('education')\n",
        "\n",
        "for col in cat_cols_copy:\n",
        "    data[col] = label_enc.fit_transform(data[col])"
      ],
      "metadata": {
        "editable": false,
        "execution": {
          "iopub.status.busy": "2021-12-09T20:37:41.257080Z",
          "iopub.execute_input": "2021-12-09T20:37:41.257298Z",
          "iopub.status.idle": "2021-12-09T20:37:41.434787Z",
          "shell.execute_reply.started": "2021-12-09T20:37:41.257273Z",
          "shell.execute_reply": "2021-12-09T20:37:41.433588Z"
        },
        "trusted": true,
        "id": "NPJttgFSLBN4"
      },
      "execution_count": 174,
      "outputs": []
    },
    {
      "cell_type": "code",
      "source": [
        "data.sample(5)"
      ],
      "metadata": {
        "colab": {
          "base_uri": "https://localhost:8080/",
          "height": 270
        },
        "id": "e3DwwN5XTW8T",
        "outputId": "1efa8f16-78be-4c2b-8647-620770ae7a44"
      },
      "execution_count": 175,
      "outputs": [
        {
          "output_type": "execute_result",
          "data": {
            "text/html": [
              "\n",
              "  <div id=\"df-5a818593-73e3-4aca-b2fc-8d14ca7f7398\">\n",
              "    <div class=\"colab-df-container\">\n",
              "      <div>\n",
              "<style scoped>\n",
              "    .dataframe tbody tr th:only-of-type {\n",
              "        vertical-align: middle;\n",
              "    }\n",
              "\n",
              "    .dataframe tbody tr th {\n",
              "        vertical-align: top;\n",
              "    }\n",
              "\n",
              "    .dataframe thead th {\n",
              "        text-align: right;\n",
              "    }\n",
              "</style>\n",
              "<table border=\"1\" class=\"dataframe\">\n",
              "  <thead>\n",
              "    <tr style=\"text-align: right;\">\n",
              "      <th></th>\n",
              "      <th>sex</th>\n",
              "      <th>age</th>\n",
              "      <th>car</th>\n",
              "      <th>car_type</th>\n",
              "      <th>decline_app_cnt</th>\n",
              "      <th>good_work</th>\n",
              "      <th>score_bki</th>\n",
              "      <th>bki_request_cnt</th>\n",
              "      <th>region_rating</th>\n",
              "      <th>home_address</th>\n",
              "      <th>work_address</th>\n",
              "      <th>income</th>\n",
              "      <th>sna</th>\n",
              "      <th>first_time</th>\n",
              "      <th>foreign_passport</th>\n",
              "      <th>sample</th>\n",
              "      <th>default</th>\n",
              "      <th>score_bki_outliers</th>\n",
              "      <th>decline_app_cnt_outliers</th>\n",
              "      <th>bki_request_cnt_outliers</th>\n",
              "      <th>income_outliers</th>\n",
              "      <th>education_ACD</th>\n",
              "      <th>education_GRD</th>\n",
              "      <th>education_PGR</th>\n",
              "      <th>education_SCH</th>\n",
              "      <th>education_UGR</th>\n",
              "    </tr>\n",
              "  </thead>\n",
              "  <tbody>\n",
              "    <tr>\n",
              "      <th>107242</th>\n",
              "      <td>1</td>\n",
              "      <td>3.850148</td>\n",
              "      <td>0</td>\n",
              "      <td>0</td>\n",
              "      <td>0.0</td>\n",
              "      <td>0</td>\n",
              "      <td>-0.808315</td>\n",
              "      <td>1.386294</td>\n",
              "      <td>4</td>\n",
              "      <td>0</td>\n",
              "      <td>1</td>\n",
              "      <td>10.819798</td>\n",
              "      <td>2</td>\n",
              "      <td>1</td>\n",
              "      <td>0</td>\n",
              "      <td>1</td>\n",
              "      <td>0</td>\n",
              "      <td>0</td>\n",
              "      <td>18677</td>\n",
              "      <td>0</td>\n",
              "      <td>0</td>\n",
              "      <td>0</td>\n",
              "      <td>0</td>\n",
              "      <td>0</td>\n",
              "      <td>1</td>\n",
              "      <td>0</td>\n",
              "    </tr>\n",
              "    <tr>\n",
              "      <th>91899</th>\n",
              "      <td>0</td>\n",
              "      <td>3.332205</td>\n",
              "      <td>0</td>\n",
              "      <td>0</td>\n",
              "      <td>0.0</td>\n",
              "      <td>0</td>\n",
              "      <td>-1.438150</td>\n",
              "      <td>1.609438</td>\n",
              "      <td>5</td>\n",
              "      <td>0</td>\n",
              "      <td>1</td>\n",
              "      <td>9.615872</td>\n",
              "      <td>3</td>\n",
              "      <td>0</td>\n",
              "      <td>0</td>\n",
              "      <td>1</td>\n",
              "      <td>0</td>\n",
              "      <td>0</td>\n",
              "      <td>18677</td>\n",
              "      <td>0</td>\n",
              "      <td>0</td>\n",
              "      <td>0</td>\n",
              "      <td>0</td>\n",
              "      <td>0</td>\n",
              "      <td>1</td>\n",
              "      <td>0</td>\n",
              "    </tr>\n",
              "    <tr>\n",
              "      <th>51103</th>\n",
              "      <td>1</td>\n",
              "      <td>3.465736</td>\n",
              "      <td>1</td>\n",
              "      <td>1</td>\n",
              "      <td>0.0</td>\n",
              "      <td>0</td>\n",
              "      <td>-0.954265</td>\n",
              "      <td>0.693147</td>\n",
              "      <td>4</td>\n",
              "      <td>1</td>\n",
              "      <td>2</td>\n",
              "      <td>9.903538</td>\n",
              "      <td>0</td>\n",
              "      <td>2</td>\n",
              "      <td>0</td>\n",
              "      <td>1</td>\n",
              "      <td>1</td>\n",
              "      <td>0</td>\n",
              "      <td>18677</td>\n",
              "      <td>0</td>\n",
              "      <td>0</td>\n",
              "      <td>0</td>\n",
              "      <td>0</td>\n",
              "      <td>0</td>\n",
              "      <td>1</td>\n",
              "      <td>0</td>\n",
              "    </tr>\n",
              "    <tr>\n",
              "      <th>86046</th>\n",
              "      <td>0</td>\n",
              "      <td>3.806662</td>\n",
              "      <td>0</td>\n",
              "      <td>0</td>\n",
              "      <td>0.0</td>\n",
              "      <td>0</td>\n",
              "      <td>-1.760433</td>\n",
              "      <td>1.098612</td>\n",
              "      <td>2</td>\n",
              "      <td>0</td>\n",
              "      <td>1</td>\n",
              "      <td>9.472782</td>\n",
              "      <td>0</td>\n",
              "      <td>3</td>\n",
              "      <td>0</td>\n",
              "      <td>1</td>\n",
              "      <td>1</td>\n",
              "      <td>0</td>\n",
              "      <td>18677</td>\n",
              "      <td>0</td>\n",
              "      <td>0</td>\n",
              "      <td>0</td>\n",
              "      <td>1</td>\n",
              "      <td>0</td>\n",
              "      <td>0</td>\n",
              "      <td>0</td>\n",
              "    </tr>\n",
              "    <tr>\n",
              "      <th>42621</th>\n",
              "      <td>0</td>\n",
              "      <td>3.218876</td>\n",
              "      <td>1</td>\n",
              "      <td>0</td>\n",
              "      <td>0.0</td>\n",
              "      <td>0</td>\n",
              "      <td>-2.137991</td>\n",
              "      <td>0.000000</td>\n",
              "      <td>6</td>\n",
              "      <td>1</td>\n",
              "      <td>2</td>\n",
              "      <td>10.596660</td>\n",
              "      <td>0</td>\n",
              "      <td>2</td>\n",
              "      <td>0</td>\n",
              "      <td>1</td>\n",
              "      <td>0</td>\n",
              "      <td>0</td>\n",
              "      <td>18677</td>\n",
              "      <td>0</td>\n",
              "      <td>0</td>\n",
              "      <td>0</td>\n",
              "      <td>1</td>\n",
              "      <td>0</td>\n",
              "      <td>0</td>\n",
              "      <td>0</td>\n",
              "    </tr>\n",
              "  </tbody>\n",
              "</table>\n",
              "</div>\n",
              "      <button class=\"colab-df-convert\" onclick=\"convertToInteractive('df-5a818593-73e3-4aca-b2fc-8d14ca7f7398')\"\n",
              "              title=\"Convert this dataframe to an interactive table.\"\n",
              "              style=\"display:none;\">\n",
              "        \n",
              "  <svg xmlns=\"http://www.w3.org/2000/svg\" height=\"24px\"viewBox=\"0 0 24 24\"\n",
              "       width=\"24px\">\n",
              "    <path d=\"M0 0h24v24H0V0z\" fill=\"none\"/>\n",
              "    <path d=\"M18.56 5.44l.94 2.06.94-2.06 2.06-.94-2.06-.94-.94-2.06-.94 2.06-2.06.94zm-11 1L8.5 8.5l.94-2.06 2.06-.94-2.06-.94L8.5 2.5l-.94 2.06-2.06.94zm10 10l.94 2.06.94-2.06 2.06-.94-2.06-.94-.94-2.06-.94 2.06-2.06.94z\"/><path d=\"M17.41 7.96l-1.37-1.37c-.4-.4-.92-.59-1.43-.59-.52 0-1.04.2-1.43.59L10.3 9.45l-7.72 7.72c-.78.78-.78 2.05 0 2.83L4 21.41c.39.39.9.59 1.41.59.51 0 1.02-.2 1.41-.59l7.78-7.78 2.81-2.81c.8-.78.8-2.07 0-2.86zM5.41 20L4 18.59l7.72-7.72 1.47 1.35L5.41 20z\"/>\n",
              "  </svg>\n",
              "      </button>\n",
              "      \n",
              "  <style>\n",
              "    .colab-df-container {\n",
              "      display:flex;\n",
              "      flex-wrap:wrap;\n",
              "      gap: 12px;\n",
              "    }\n",
              "\n",
              "    .colab-df-convert {\n",
              "      background-color: #E8F0FE;\n",
              "      border: none;\n",
              "      border-radius: 50%;\n",
              "      cursor: pointer;\n",
              "      display: none;\n",
              "      fill: #1967D2;\n",
              "      height: 32px;\n",
              "      padding: 0 0 0 0;\n",
              "      width: 32px;\n",
              "    }\n",
              "\n",
              "    .colab-df-convert:hover {\n",
              "      background-color: #E2EBFA;\n",
              "      box-shadow: 0px 1px 2px rgba(60, 64, 67, 0.3), 0px 1px 3px 1px rgba(60, 64, 67, 0.15);\n",
              "      fill: #174EA6;\n",
              "    }\n",
              "\n",
              "    [theme=dark] .colab-df-convert {\n",
              "      background-color: #3B4455;\n",
              "      fill: #D2E3FC;\n",
              "    }\n",
              "\n",
              "    [theme=dark] .colab-df-convert:hover {\n",
              "      background-color: #434B5C;\n",
              "      box-shadow: 0px 1px 3px 1px rgba(0, 0, 0, 0.15);\n",
              "      filter: drop-shadow(0px 1px 2px rgba(0, 0, 0, 0.3));\n",
              "      fill: #FFFFFF;\n",
              "    }\n",
              "  </style>\n",
              "\n",
              "      <script>\n",
              "        const buttonEl =\n",
              "          document.querySelector('#df-5a818593-73e3-4aca-b2fc-8d14ca7f7398 button.colab-df-convert');\n",
              "        buttonEl.style.display =\n",
              "          google.colab.kernel.accessAllowed ? 'block' : 'none';\n",
              "\n",
              "        async function convertToInteractive(key) {\n",
              "          const element = document.querySelector('#df-5a818593-73e3-4aca-b2fc-8d14ca7f7398');\n",
              "          const dataTable =\n",
              "            await google.colab.kernel.invokeFunction('convertToInteractive',\n",
              "                                                     [key], {});\n",
              "          if (!dataTable) return;\n",
              "\n",
              "          const docLinkHtml = 'Like what you see? Visit the ' +\n",
              "            '<a target=\"_blank\" href=https://colab.research.google.com/notebooks/data_table.ipynb>data table notebook</a>'\n",
              "            + ' to learn more about interactive tables.';\n",
              "          element.innerHTML = '';\n",
              "          dataTable['output_type'] = 'display_data';\n",
              "          await google.colab.output.renderOutput(dataTable, element);\n",
              "          const docLink = document.createElement('div');\n",
              "          docLink.innerHTML = docLinkHtml;\n",
              "          element.appendChild(docLink);\n",
              "        }\n",
              "      </script>\n",
              "    </div>\n",
              "  </div>\n",
              "  "
            ],
            "text/plain": [
              "        sex       age  car  ...  education_PGR  education_SCH  education_UGR\n",
              "107242    1  3.850148    0  ...              0              1              0\n",
              "91899     0  3.332205    0  ...              0              1              0\n",
              "51103     1  3.465736    1  ...              0              1              0\n",
              "86046     0  3.806662    0  ...              0              0              0\n",
              "42621     0  3.218876    1  ...              0              0              0\n",
              "\n",
              "[5 rows x 26 columns]"
            ]
          },
          "metadata": {},
          "execution_count": 175
        }
      ]
    },
    {
      "cell_type": "markdown",
      "source": [
        "##### Стандартизация признаков"
      ],
      "metadata": {
        "id": "PYSwBT4HTXVz"
      }
    },
    {
      "cell_type": "markdown",
      "source": [
        "*стандартизируем объединенный датасет data по параметрам тренировочной выборки*"
      ],
      "metadata": {
        "id": "cFluamTtCkHU"
      }
    },
    {
      "cell_type": "code",
      "source": [
        "r_scaler = pp.RobustScaler() #pp.StandardScaler()\n",
        "\n",
        "r_scaler.fit(data[data['sample'] == 1].drop(['sample', 'default'], axis=1))\n",
        "\n",
        "cols_for_scaling = list(data.columns)\n",
        "cols_for_scaling.remove('default')\n",
        "cols_for_scaling.remove('sample')\n",
        "\n",
        "data[cols_for_scaling] = r_scaler.transform(data.drop(['sample', 'default'], \n",
        "                                                        axis=1))"
      ],
      "metadata": {
        "id": "9xZRMkhtR1y2"
      },
      "execution_count": 176,
      "outputs": []
    },
    {
      "cell_type": "code",
      "source": [
        "data.info()"
      ],
      "metadata": {
        "editable": false,
        "execution": {
          "iopub.status.busy": "2021-12-09T20:37:41.437274Z",
          "iopub.execute_input": "2021-12-09T20:37:41.437609Z",
          "iopub.status.idle": "2021-12-09T20:37:41.459247Z",
          "shell.execute_reply.started": "2021-12-09T20:37:41.437576Z",
          "shell.execute_reply": "2021-12-09T20:37:41.458419Z"
        },
        "trusted": true,
        "id": "kU7ltUwZLBN4",
        "colab": {
          "base_uri": "https://localhost:8080/"
        },
        "outputId": "19a26584-7b0d-435f-f567-78ab32f3345a"
      },
      "execution_count": 177,
      "outputs": [
        {
          "output_type": "stream",
          "name": "stdout",
          "text": [
            "<class 'pandas.core.frame.DataFrame'>\n",
            "RangeIndex: 110148 entries, 0 to 110147\n",
            "Data columns (total 26 columns):\n",
            " #   Column                    Non-Null Count   Dtype  \n",
            "---  ------                    --------------   -----  \n",
            " 0   sex                       110148 non-null  float64\n",
            " 1   age                       110148 non-null  float64\n",
            " 2   car                       110148 non-null  float64\n",
            " 3   car_type                  110148 non-null  float64\n",
            " 4   decline_app_cnt           110148 non-null  float64\n",
            " 5   good_work                 110148 non-null  float64\n",
            " 6   score_bki                 110148 non-null  float64\n",
            " 7   bki_request_cnt           110148 non-null  float64\n",
            " 8   region_rating             110148 non-null  float64\n",
            " 9   home_address              110148 non-null  float64\n",
            " 10  work_address              110148 non-null  float64\n",
            " 11  income                    110148 non-null  float64\n",
            " 12  sna                       110148 non-null  float64\n",
            " 13  first_time                110148 non-null  float64\n",
            " 14  foreign_passport          110148 non-null  float64\n",
            " 15  sample                    110148 non-null  int64  \n",
            " 16  default                   110148 non-null  int64  \n",
            " 17  score_bki_outliers        110148 non-null  float64\n",
            " 18  decline_app_cnt_outliers  110148 non-null  float64\n",
            " 19  bki_request_cnt_outliers  110148 non-null  float64\n",
            " 20  income_outliers           110148 non-null  float64\n",
            " 21  education_ACD             110148 non-null  float64\n",
            " 22  education_GRD             110148 non-null  float64\n",
            " 23  education_PGR             110148 non-null  float64\n",
            " 24  education_SCH             110148 non-null  float64\n",
            " 25  education_UGR             110148 non-null  float64\n",
            "dtypes: float64(24), int64(2)\n",
            "memory usage: 21.8 MB\n"
          ]
        }
      ]
    },
    {
      "cell_type": "code",
      "source": [
        "data.sample(5)"
      ],
      "metadata": {
        "editable": false,
        "execution": {
          "iopub.status.busy": "2021-12-09T20:37:41.460249Z",
          "iopub.execute_input": "2021-12-09T20:37:41.460474Z",
          "iopub.status.idle": "2021-12-09T20:37:41.498422Z",
          "shell.execute_reply.started": "2021-12-09T20:37:41.460447Z",
          "shell.execute_reply": "2021-12-09T20:37:41.497556Z"
        },
        "trusted": true,
        "id": "KNEJkUtRLBN4",
        "colab": {
          "base_uri": "https://localhost:8080/",
          "height": 270
        },
        "outputId": "959fe925-1431-4e53-9934-ba30e7966aca"
      },
      "execution_count": 178,
      "outputs": [
        {
          "output_type": "execute_result",
          "data": {
            "text/html": [
              "\n",
              "  <div id=\"df-7f1d69e0-1cdb-4740-89d4-5b4c55f9406f\">\n",
              "    <div class=\"colab-df-container\">\n",
              "      <div>\n",
              "<style scoped>\n",
              "    .dataframe tbody tr th:only-of-type {\n",
              "        vertical-align: middle;\n",
              "    }\n",
              "\n",
              "    .dataframe tbody tr th {\n",
              "        vertical-align: top;\n",
              "    }\n",
              "\n",
              "    .dataframe thead th {\n",
              "        text-align: right;\n",
              "    }\n",
              "</style>\n",
              "<table border=\"1\" class=\"dataframe\">\n",
              "  <thead>\n",
              "    <tr style=\"text-align: right;\">\n",
              "      <th></th>\n",
              "      <th>sex</th>\n",
              "      <th>age</th>\n",
              "      <th>car</th>\n",
              "      <th>car_type</th>\n",
              "      <th>decline_app_cnt</th>\n",
              "      <th>good_work</th>\n",
              "      <th>score_bki</th>\n",
              "      <th>bki_request_cnt</th>\n",
              "      <th>region_rating</th>\n",
              "      <th>home_address</th>\n",
              "      <th>work_address</th>\n",
              "      <th>income</th>\n",
              "      <th>sna</th>\n",
              "      <th>first_time</th>\n",
              "      <th>foreign_passport</th>\n",
              "      <th>sample</th>\n",
              "      <th>default</th>\n",
              "      <th>score_bki_outliers</th>\n",
              "      <th>decline_app_cnt_outliers</th>\n",
              "      <th>bki_request_cnt_outliers</th>\n",
              "      <th>income_outliers</th>\n",
              "      <th>education_ACD</th>\n",
              "      <th>education_GRD</th>\n",
              "      <th>education_PGR</th>\n",
              "      <th>education_SCH</th>\n",
              "      <th>education_UGR</th>\n",
              "    </tr>\n",
              "  </thead>\n",
              "  <tbody>\n",
              "    <tr>\n",
              "      <th>31355</th>\n",
              "      <td>1.0</td>\n",
              "      <td>-1.193762</td>\n",
              "      <td>0.0</td>\n",
              "      <td>0.0</td>\n",
              "      <td>0.0</td>\n",
              "      <td>0.0</td>\n",
              "      <td>0.215681</td>\n",
              "      <td>-0.5</td>\n",
              "      <td>1.0</td>\n",
              "      <td>0.0</td>\n",
              "      <td>0.0</td>\n",
              "      <td>-0.354271</td>\n",
              "      <td>3.0</td>\n",
              "      <td>0.0</td>\n",
              "      <td>0.0</td>\n",
              "      <td>0</td>\n",
              "      <td>0</td>\n",
              "      <td>0.0</td>\n",
              "      <td>0.0</td>\n",
              "      <td>0.0</td>\n",
              "      <td>0.0</td>\n",
              "      <td>0.0</td>\n",
              "      <td>0.0</td>\n",
              "      <td>0.0</td>\n",
              "      <td>0.0</td>\n",
              "      <td>0.0</td>\n",
              "    </tr>\n",
              "    <tr>\n",
              "      <th>74311</th>\n",
              "      <td>0.0</td>\n",
              "      <td>-0.058249</td>\n",
              "      <td>1.0</td>\n",
              "      <td>0.0</td>\n",
              "      <td>0.0</td>\n",
              "      <td>1.0</td>\n",
              "      <td>-0.624071</td>\n",
              "      <td>-0.5</td>\n",
              "      <td>2.0</td>\n",
              "      <td>-1.0</td>\n",
              "      <td>-1.0</td>\n",
              "      <td>-0.208255</td>\n",
              "      <td>0.0</td>\n",
              "      <td>0.5</td>\n",
              "      <td>1.0</td>\n",
              "      <td>1</td>\n",
              "      <td>0</td>\n",
              "      <td>0.0</td>\n",
              "      <td>0.0</td>\n",
              "      <td>0.0</td>\n",
              "      <td>0.0</td>\n",
              "      <td>0.0</td>\n",
              "      <td>1.0</td>\n",
              "      <td>0.0</td>\n",
              "      <td>-1.0</td>\n",
              "      <td>0.0</td>\n",
              "    </tr>\n",
              "    <tr>\n",
              "      <th>96039</th>\n",
              "      <td>0.0</td>\n",
              "      <td>0.112035</td>\n",
              "      <td>1.0</td>\n",
              "      <td>1.0</td>\n",
              "      <td>0.0</td>\n",
              "      <td>0.0</td>\n",
              "      <td>-0.571015</td>\n",
              "      <td>-0.5</td>\n",
              "      <td>1.0</td>\n",
              "      <td>0.0</td>\n",
              "      <td>0.0</td>\n",
              "      <td>0.176078</td>\n",
              "      <td>0.0</td>\n",
              "      <td>0.5</td>\n",
              "      <td>1.0</td>\n",
              "      <td>1</td>\n",
              "      <td>0</td>\n",
              "      <td>0.0</td>\n",
              "      <td>0.0</td>\n",
              "      <td>0.0</td>\n",
              "      <td>0.0</td>\n",
              "      <td>0.0</td>\n",
              "      <td>1.0</td>\n",
              "      <td>0.0</td>\n",
              "      <td>-1.0</td>\n",
              "      <td>0.0</td>\n",
              "    </tr>\n",
              "    <tr>\n",
              "      <th>67364</th>\n",
              "      <td>0.0</td>\n",
              "      <td>-0.590369</td>\n",
              "      <td>0.0</td>\n",
              "      <td>0.0</td>\n",
              "      <td>0.0</td>\n",
              "      <td>0.0</td>\n",
              "      <td>0.919235</td>\n",
              "      <td>0.0</td>\n",
              "      <td>-1.0</td>\n",
              "      <td>-1.0</td>\n",
              "      <td>-2.0</td>\n",
              "      <td>-1.313436</td>\n",
              "      <td>0.0</td>\n",
              "      <td>-0.5</td>\n",
              "      <td>0.0</td>\n",
              "      <td>1</td>\n",
              "      <td>0</td>\n",
              "      <td>0.0</td>\n",
              "      <td>0.0</td>\n",
              "      <td>0.0</td>\n",
              "      <td>0.0</td>\n",
              "      <td>0.0</td>\n",
              "      <td>0.0</td>\n",
              "      <td>0.0</td>\n",
              "      <td>0.0</td>\n",
              "      <td>0.0</td>\n",
              "    </tr>\n",
              "    <tr>\n",
              "      <th>10696</th>\n",
              "      <td>0.0</td>\n",
              "      <td>0.369297</td>\n",
              "      <td>0.0</td>\n",
              "      <td>0.0</td>\n",
              "      <td>0.0</td>\n",
              "      <td>0.0</td>\n",
              "      <td>0.255584</td>\n",
              "      <td>-0.5</td>\n",
              "      <td>3.0</td>\n",
              "      <td>0.0</td>\n",
              "      <td>0.0</td>\n",
              "      <td>-0.303497</td>\n",
              "      <td>1.0</td>\n",
              "      <td>-0.5</td>\n",
              "      <td>0.0</td>\n",
              "      <td>0</td>\n",
              "      <td>0</td>\n",
              "      <td>0.0</td>\n",
              "      <td>0.0</td>\n",
              "      <td>0.0</td>\n",
              "      <td>0.0</td>\n",
              "      <td>0.0</td>\n",
              "      <td>0.0</td>\n",
              "      <td>0.0</td>\n",
              "      <td>0.0</td>\n",
              "      <td>0.0</td>\n",
              "    </tr>\n",
              "  </tbody>\n",
              "</table>\n",
              "</div>\n",
              "      <button class=\"colab-df-convert\" onclick=\"convertToInteractive('df-7f1d69e0-1cdb-4740-89d4-5b4c55f9406f')\"\n",
              "              title=\"Convert this dataframe to an interactive table.\"\n",
              "              style=\"display:none;\">\n",
              "        \n",
              "  <svg xmlns=\"http://www.w3.org/2000/svg\" height=\"24px\"viewBox=\"0 0 24 24\"\n",
              "       width=\"24px\">\n",
              "    <path d=\"M0 0h24v24H0V0z\" fill=\"none\"/>\n",
              "    <path d=\"M18.56 5.44l.94 2.06.94-2.06 2.06-.94-2.06-.94-.94-2.06-.94 2.06-2.06.94zm-11 1L8.5 8.5l.94-2.06 2.06-.94-2.06-.94L8.5 2.5l-.94 2.06-2.06.94zm10 10l.94 2.06.94-2.06 2.06-.94-2.06-.94-.94-2.06-.94 2.06-2.06.94z\"/><path d=\"M17.41 7.96l-1.37-1.37c-.4-.4-.92-.59-1.43-.59-.52 0-1.04.2-1.43.59L10.3 9.45l-7.72 7.72c-.78.78-.78 2.05 0 2.83L4 21.41c.39.39.9.59 1.41.59.51 0 1.02-.2 1.41-.59l7.78-7.78 2.81-2.81c.8-.78.8-2.07 0-2.86zM5.41 20L4 18.59l7.72-7.72 1.47 1.35L5.41 20z\"/>\n",
              "  </svg>\n",
              "      </button>\n",
              "      \n",
              "  <style>\n",
              "    .colab-df-container {\n",
              "      display:flex;\n",
              "      flex-wrap:wrap;\n",
              "      gap: 12px;\n",
              "    }\n",
              "\n",
              "    .colab-df-convert {\n",
              "      background-color: #E8F0FE;\n",
              "      border: none;\n",
              "      border-radius: 50%;\n",
              "      cursor: pointer;\n",
              "      display: none;\n",
              "      fill: #1967D2;\n",
              "      height: 32px;\n",
              "      padding: 0 0 0 0;\n",
              "      width: 32px;\n",
              "    }\n",
              "\n",
              "    .colab-df-convert:hover {\n",
              "      background-color: #E2EBFA;\n",
              "      box-shadow: 0px 1px 2px rgba(60, 64, 67, 0.3), 0px 1px 3px 1px rgba(60, 64, 67, 0.15);\n",
              "      fill: #174EA6;\n",
              "    }\n",
              "\n",
              "    [theme=dark] .colab-df-convert {\n",
              "      background-color: #3B4455;\n",
              "      fill: #D2E3FC;\n",
              "    }\n",
              "\n",
              "    [theme=dark] .colab-df-convert:hover {\n",
              "      background-color: #434B5C;\n",
              "      box-shadow: 0px 1px 3px 1px rgba(0, 0, 0, 0.15);\n",
              "      filter: drop-shadow(0px 1px 2px rgba(0, 0, 0, 0.3));\n",
              "      fill: #FFFFFF;\n",
              "    }\n",
              "  </style>\n",
              "\n",
              "      <script>\n",
              "        const buttonEl =\n",
              "          document.querySelector('#df-7f1d69e0-1cdb-4740-89d4-5b4c55f9406f button.colab-df-convert');\n",
              "        buttonEl.style.display =\n",
              "          google.colab.kernel.accessAllowed ? 'block' : 'none';\n",
              "\n",
              "        async function convertToInteractive(key) {\n",
              "          const element = document.querySelector('#df-7f1d69e0-1cdb-4740-89d4-5b4c55f9406f');\n",
              "          const dataTable =\n",
              "            await google.colab.kernel.invokeFunction('convertToInteractive',\n",
              "                                                     [key], {});\n",
              "          if (!dataTable) return;\n",
              "\n",
              "          const docLinkHtml = 'Like what you see? Visit the ' +\n",
              "            '<a target=\"_blank\" href=https://colab.research.google.com/notebooks/data_table.ipynb>data table notebook</a>'\n",
              "            + ' to learn more about interactive tables.';\n",
              "          element.innerHTML = '';\n",
              "          dataTable['output_type'] = 'display_data';\n",
              "          await google.colab.output.renderOutput(dataTable, element);\n",
              "          const docLink = document.createElement('div');\n",
              "          docLink.innerHTML = docLinkHtml;\n",
              "          element.appendChild(docLink);\n",
              "        }\n",
              "      </script>\n",
              "    </div>\n",
              "  </div>\n",
              "  "
            ],
            "text/plain": [
              "       sex       age  car  ...  education_PGR  education_SCH  education_UGR\n",
              "31355  1.0 -1.193762  0.0  ...            0.0            0.0            0.0\n",
              "74311  0.0 -0.058249  1.0  ...            0.0           -1.0            0.0\n",
              "96039  0.0  0.112035  1.0  ...            0.0           -1.0            0.0\n",
              "67364  0.0 -0.590369  0.0  ...            0.0            0.0            0.0\n",
              "10696  0.0  0.369297  0.0  ...            0.0            0.0            0.0\n",
              "\n",
              "[5 rows x 26 columns]"
            ]
          },
          "metadata": {},
          "execution_count": 178
        }
      ]
    },
    {
      "cell_type": "markdown",
      "source": [
        "---\n",
        "### **Альтернативная обработка и анализ признаков с помощью WoE и IV**\n",
        "---\n",
        "---\n"
      ],
      "metadata": {
        "id": "SDS7GsGQuT1u"
      }
    },
    {
      "cell_type": "code",
      "source": [
        "train_data_for_WoE = data_for_WoE.query('sample == 1'). \\\n",
        "    drop(['sample', 'client_id', 'app_date'], axis=1)\n",
        "train_data_for_WoE.sample(5)"
      ],
      "metadata": {
        "colab": {
          "base_uri": "https://localhost:8080/",
          "height": 270
        },
        "id": "bXHZs_sNN_mW",
        "outputId": "4a7c22c3-c916-4392-ed52-95900cadac04"
      },
      "execution_count": 179,
      "outputs": [
        {
          "output_type": "execute_result",
          "data": {
            "text/html": [
              "\n",
              "  <div id=\"df-296b5196-f1f2-460b-a220-13a62e86c01e\">\n",
              "    <div class=\"colab-df-container\">\n",
              "      <div>\n",
              "<style scoped>\n",
              "    .dataframe tbody tr th:only-of-type {\n",
              "        vertical-align: middle;\n",
              "    }\n",
              "\n",
              "    .dataframe tbody tr th {\n",
              "        vertical-align: top;\n",
              "    }\n",
              "\n",
              "    .dataframe thead th {\n",
              "        text-align: right;\n",
              "    }\n",
              "</style>\n",
              "<table border=\"1\" class=\"dataframe\">\n",
              "  <thead>\n",
              "    <tr style=\"text-align: right;\">\n",
              "      <th></th>\n",
              "      <th>education</th>\n",
              "      <th>sex</th>\n",
              "      <th>age</th>\n",
              "      <th>car</th>\n",
              "      <th>car_type</th>\n",
              "      <th>decline_app_cnt</th>\n",
              "      <th>good_work</th>\n",
              "      <th>score_bki</th>\n",
              "      <th>bki_request_cnt</th>\n",
              "      <th>region_rating</th>\n",
              "      <th>home_address</th>\n",
              "      <th>work_address</th>\n",
              "      <th>income</th>\n",
              "      <th>sna</th>\n",
              "      <th>first_time</th>\n",
              "      <th>foreign_passport</th>\n",
              "      <th>default</th>\n",
              "    </tr>\n",
              "  </thead>\n",
              "  <tbody>\n",
              "    <tr>\n",
              "      <th>89055</th>\n",
              "      <td>SCH</td>\n",
              "      <td>F</td>\n",
              "      <td>38</td>\n",
              "      <td>N</td>\n",
              "      <td>N</td>\n",
              "      <td>1</td>\n",
              "      <td>0</td>\n",
              "      <td>-1.241366</td>\n",
              "      <td>10</td>\n",
              "      <td>80</td>\n",
              "      <td>2</td>\n",
              "      <td>3</td>\n",
              "      <td>20000</td>\n",
              "      <td>1</td>\n",
              "      <td>4</td>\n",
              "      <td>N</td>\n",
              "      <td>1</td>\n",
              "    </tr>\n",
              "    <tr>\n",
              "      <th>101256</th>\n",
              "      <td>SCH</td>\n",
              "      <td>M</td>\n",
              "      <td>60</td>\n",
              "      <td>Y</td>\n",
              "      <td>Y</td>\n",
              "      <td>0</td>\n",
              "      <td>1</td>\n",
              "      <td>-2.043791</td>\n",
              "      <td>3</td>\n",
              "      <td>60</td>\n",
              "      <td>1</td>\n",
              "      <td>2</td>\n",
              "      <td>20000</td>\n",
              "      <td>3</td>\n",
              "      <td>3</td>\n",
              "      <td>N</td>\n",
              "      <td>0</td>\n",
              "    </tr>\n",
              "    <tr>\n",
              "      <th>77699</th>\n",
              "      <td>GRD</td>\n",
              "      <td>M</td>\n",
              "      <td>37</td>\n",
              "      <td>Y</td>\n",
              "      <td>N</td>\n",
              "      <td>0</td>\n",
              "      <td>0</td>\n",
              "      <td>-1.618700</td>\n",
              "      <td>2</td>\n",
              "      <td>40</td>\n",
              "      <td>2</td>\n",
              "      <td>3</td>\n",
              "      <td>14000</td>\n",
              "      <td>1</td>\n",
              "      <td>3</td>\n",
              "      <td>N</td>\n",
              "      <td>0</td>\n",
              "    </tr>\n",
              "    <tr>\n",
              "      <th>82679</th>\n",
              "      <td>GRD</td>\n",
              "      <td>F</td>\n",
              "      <td>46</td>\n",
              "      <td>N</td>\n",
              "      <td>N</td>\n",
              "      <td>1</td>\n",
              "      <td>0</td>\n",
              "      <td>-2.091558</td>\n",
              "      <td>1</td>\n",
              "      <td>60</td>\n",
              "      <td>1</td>\n",
              "      <td>2</td>\n",
              "      <td>27000</td>\n",
              "      <td>1</td>\n",
              "      <td>4</td>\n",
              "      <td>N</td>\n",
              "      <td>0</td>\n",
              "    </tr>\n",
              "    <tr>\n",
              "      <th>99440</th>\n",
              "      <td>SCH</td>\n",
              "      <td>F</td>\n",
              "      <td>57</td>\n",
              "      <td>N</td>\n",
              "      <td>N</td>\n",
              "      <td>0</td>\n",
              "      <td>1</td>\n",
              "      <td>-1.910851</td>\n",
              "      <td>6</td>\n",
              "      <td>50</td>\n",
              "      <td>2</td>\n",
              "      <td>3</td>\n",
              "      <td>21600</td>\n",
              "      <td>1</td>\n",
              "      <td>3</td>\n",
              "      <td>N</td>\n",
              "      <td>0</td>\n",
              "    </tr>\n",
              "  </tbody>\n",
              "</table>\n",
              "</div>\n",
              "      <button class=\"colab-df-convert\" onclick=\"convertToInteractive('df-296b5196-f1f2-460b-a220-13a62e86c01e')\"\n",
              "              title=\"Convert this dataframe to an interactive table.\"\n",
              "              style=\"display:none;\">\n",
              "        \n",
              "  <svg xmlns=\"http://www.w3.org/2000/svg\" height=\"24px\"viewBox=\"0 0 24 24\"\n",
              "       width=\"24px\">\n",
              "    <path d=\"M0 0h24v24H0V0z\" fill=\"none\"/>\n",
              "    <path d=\"M18.56 5.44l.94 2.06.94-2.06 2.06-.94-2.06-.94-.94-2.06-.94 2.06-2.06.94zm-11 1L8.5 8.5l.94-2.06 2.06-.94-2.06-.94L8.5 2.5l-.94 2.06-2.06.94zm10 10l.94 2.06.94-2.06 2.06-.94-2.06-.94-.94-2.06-.94 2.06-2.06.94z\"/><path d=\"M17.41 7.96l-1.37-1.37c-.4-.4-.92-.59-1.43-.59-.52 0-1.04.2-1.43.59L10.3 9.45l-7.72 7.72c-.78.78-.78 2.05 0 2.83L4 21.41c.39.39.9.59 1.41.59.51 0 1.02-.2 1.41-.59l7.78-7.78 2.81-2.81c.8-.78.8-2.07 0-2.86zM5.41 20L4 18.59l7.72-7.72 1.47 1.35L5.41 20z\"/>\n",
              "  </svg>\n",
              "      </button>\n",
              "      \n",
              "  <style>\n",
              "    .colab-df-container {\n",
              "      display:flex;\n",
              "      flex-wrap:wrap;\n",
              "      gap: 12px;\n",
              "    }\n",
              "\n",
              "    .colab-df-convert {\n",
              "      background-color: #E8F0FE;\n",
              "      border: none;\n",
              "      border-radius: 50%;\n",
              "      cursor: pointer;\n",
              "      display: none;\n",
              "      fill: #1967D2;\n",
              "      height: 32px;\n",
              "      padding: 0 0 0 0;\n",
              "      width: 32px;\n",
              "    }\n",
              "\n",
              "    .colab-df-convert:hover {\n",
              "      background-color: #E2EBFA;\n",
              "      box-shadow: 0px 1px 2px rgba(60, 64, 67, 0.3), 0px 1px 3px 1px rgba(60, 64, 67, 0.15);\n",
              "      fill: #174EA6;\n",
              "    }\n",
              "\n",
              "    [theme=dark] .colab-df-convert {\n",
              "      background-color: #3B4455;\n",
              "      fill: #D2E3FC;\n",
              "    }\n",
              "\n",
              "    [theme=dark] .colab-df-convert:hover {\n",
              "      background-color: #434B5C;\n",
              "      box-shadow: 0px 1px 3px 1px rgba(0, 0, 0, 0.15);\n",
              "      filter: drop-shadow(0px 1px 2px rgba(0, 0, 0, 0.3));\n",
              "      fill: #FFFFFF;\n",
              "    }\n",
              "  </style>\n",
              "\n",
              "      <script>\n",
              "        const buttonEl =\n",
              "          document.querySelector('#df-296b5196-f1f2-460b-a220-13a62e86c01e button.colab-df-convert');\n",
              "        buttonEl.style.display =\n",
              "          google.colab.kernel.accessAllowed ? 'block' : 'none';\n",
              "\n",
              "        async function convertToInteractive(key) {\n",
              "          const element = document.querySelector('#df-296b5196-f1f2-460b-a220-13a62e86c01e');\n",
              "          const dataTable =\n",
              "            await google.colab.kernel.invokeFunction('convertToInteractive',\n",
              "                                                     [key], {});\n",
              "          if (!dataTable) return;\n",
              "\n",
              "          const docLinkHtml = 'Like what you see? Visit the ' +\n",
              "            '<a target=\"_blank\" href=https://colab.research.google.com/notebooks/data_table.ipynb>data table notebook</a>'\n",
              "            + ' to learn more about interactive tables.';\n",
              "          element.innerHTML = '';\n",
              "          dataTable['output_type'] = 'display_data';\n",
              "          await google.colab.output.renderOutput(dataTable, element);\n",
              "          const docLink = document.createElement('div');\n",
              "          docLink.innerHTML = docLinkHtml;\n",
              "          element.appendChild(docLink);\n",
              "        }\n",
              "      </script>\n",
              "    </div>\n",
              "  </div>\n",
              "  "
            ],
            "text/plain": [
              "       education sex  age car  ... sna  first_time  foreign_passport  default\n",
              "89055        SCH   F   38   N  ...   1           4                 N        1\n",
              "101256       SCH   M   60   Y  ...   3           3                 N        0\n",
              "77699        GRD   M   37   Y  ...   1           3                 N        0\n",
              "82679        GRD   F   46   N  ...   1           4                 N        0\n",
              "99440        SCH   F   57   N  ...   1           3                 N        0\n",
              "\n",
              "[5 rows x 17 columns]"
            ]
          },
          "metadata": {},
          "execution_count": 179
        }
      ]
    },
    {
      "cell_type": "code",
      "source": [
        "def WoE_IV_calc(data, target, bins=10, Show_WoE=False):\n",
        "    \n",
        "    WoE_df = pd.DataFrame()\n",
        "\n",
        "    columns = data.columns\n",
        "    cat_cutoff = 10\n",
        "\n",
        "    for col in columns[~columns.isin([target])]:\n",
        "\n",
        "        if data[col].dtype.kind in 'bif' and len(data[col].unique()) > cat_cutoff:\n",
        "            data_binned = pd.qcut(data[col], bins, duplicates='drop', retbins=False)\n",
        "        else:\n",
        "            data_binned = data[col]\n",
        "\n",
        "        data_binned = pd.DataFrame(data_binned)\n",
        "        data_binned[target] = data[target]\n",
        "        \n",
        "        df = pd.concat(\n",
        "            [data_binned.loc[data_binned['default'] == 1, col].\n",
        "                value_counts().sort_index(),\n",
        "            data_binned.loc[data_binned['default'] == 0, col].\n",
        "                value_counts().sort_index()], axis=1\n",
        "        )\n",
        "        \n",
        "        df = df.reset_index()\n",
        "        df.columns = ['category', 'pos', 'neg']\n",
        "\n",
        "        df['N'] = df['neg'] + df['pos'] #['Positive'] + df['Negative']\n",
        "        df['% pos'] = df['pos'] / df['pos'].sum() * 100\n",
        "        df['% neg'] = df['neg'] / df['neg'].sum() * 100\n",
        "        df['WoE'] = np.log(df['% neg'] / df['% pos'])\n",
        "        df['IV'] = (df['% neg'] - df['% pos']) / 100 * df['WoE']\n",
        "\n",
        "        total = pd.DataFrame(df.iloc[:, 1:].sum(axis=0)).T\n",
        "        total.insert(loc=0, column='category', value='total for ' + col)\n",
        "\n",
        "        df = df.append(total, ignore_index=True)\n",
        "        df.insert(loc=0, column='variable', value=col)\n",
        "\n",
        "        WoE_df = pd.concat([WoE_df, df], axis=0)\n",
        "\n",
        "    IV_df = WoE_df[WoE_df['category'].\n",
        "        apply(lambda s: 'total' in s if type(s)==str else False)]\n",
        "    IV_df = IV_df[['variable', 'IV']].sort_values(by='IV', ascending=False) \\\n",
        "        .reset_index(drop=True)\n",
        "\n",
        "    return WoE_df, IV_df "
      ],
      "metadata": {
        "id": "k21s-53uuWou"
      },
      "execution_count": 229,
      "outputs": []
    },
    {
      "cell_type": "markdown",
      "source": [
        "Посмотрим на монотонность "
      ],
      "metadata": {
        "id": "mZ4hp_OWDSqh"
      }
    },
    {
      "cell_type": "code",
      "source": [
        "WoE, IV = WoE_IV_calc(train_data_for_WoE, 'default', bins=10)\n",
        "   \n",
        "fig, ax = plt.subplots(2, 3, figsize=(15,7), sharey=True)\n",
        "ax = ax.ravel() \n",
        "\n",
        "# columns = train_data_for_WoE.drop('default', axis=1).columns\n",
        "\n",
        "# строим графики WoE для всех переменных\n",
        "for i, col in enumerate(num_cols):\n",
        "    sns.lineplot(data=WoE[WoE['variable']==col].iloc[:-1, -2], \n",
        "                 ax=ax[i]\n",
        "    );\n",
        "    ax[i].set_title(col, y=0.85)\n",
        "\n",
        "for axes in ax:\n",
        "    if not(axes.has_data()):\n",
        "        fig.delaxes(axes)"
      ],
      "metadata": {
        "colab": {
          "base_uri": "https://localhost:8080/",
          "height": 410
        },
        "id": "WSb0GVIZiHji",
        "outputId": "937c69c2-852f-40c7-fcd4-fa4c9a36c46f"
      },
      "execution_count": 309,
      "outputs": [
        {
          "output_type": "display_data",
          "data": {
            "image/png": "[encoded data removed]",
            "text/plain": [
              "<Figure size 1080x504 with 5 Axes>"
            ]
          },
          "metadata": {
            "needs_background": "light"
          }
        }
      ]
    },
    {
      "cell_type": "code",
      "source": [
        "? sns.lineplot"
      ],
      "metadata": {
        "id": "3WIouYDS138w"
      },
      "execution_count": 277,
      "outputs": []
    },
    {
      "cell_type": "markdown",
      "source": [
        "Проранжируем признаки по Information Value"
      ],
      "metadata": {
        "id": "7udfUsM3fqsy"
      }
    },
    {
      "cell_type": "code",
      "source": [
        "display (IV)"
      ],
      "metadata": {
        "colab": {
          "base_uri": "https://localhost:8080/",
          "height": 551
        },
        "id": "mr03zlrifnrV",
        "outputId": "162bf51e-f5ec-4401-f262-263e2794acaf"
      },
      "execution_count": 233,
      "outputs": [
        {
          "output_type": "display_data",
          "data": {
            "text/html": [
              "\n",
              "  <div id=\"df-68cf6569-7f36-467f-9968-aa90966341a1\">\n",
              "    <div class=\"colab-df-container\">\n",
              "      <div>\n",
              "<style scoped>\n",
              "    .dataframe tbody tr th:only-of-type {\n",
              "        vertical-align: middle;\n",
              "    }\n",
              "\n",
              "    .dataframe tbody tr th {\n",
              "        vertical-align: top;\n",
              "    }\n",
              "\n",
              "    .dataframe thead th {\n",
              "        text-align: right;\n",
              "    }\n",
              "</style>\n",
              "<table border=\"1\" class=\"dataframe\">\n",
              "  <thead>\n",
              "    <tr style=\"text-align: right;\">\n",
              "      <th></th>\n",
              "      <th>variable</th>\n",
              "      <th>IV</th>\n",
              "    </tr>\n",
              "  </thead>\n",
              "  <tbody>\n",
              "    <tr>\n",
              "      <th>0</th>\n",
              "      <td>score_bki</td>\n",
              "      <td>0.275214</td>\n",
              "    </tr>\n",
              "    <tr>\n",
              "      <th>1</th>\n",
              "      <td>sna</td>\n",
              "      <td>0.132047</td>\n",
              "    </tr>\n",
              "    <tr>\n",
              "      <th>2</th>\n",
              "      <td>first_time</td>\n",
              "      <td>0.101243</td>\n",
              "    </tr>\n",
              "    <tr>\n",
              "      <th>3</th>\n",
              "      <td>region_rating</td>\n",
              "      <td>0.081816</td>\n",
              "    </tr>\n",
              "    <tr>\n",
              "      <th>4</th>\n",
              "      <td>home_address</td>\n",
              "      <td>0.079869</td>\n",
              "    </tr>\n",
              "    <tr>\n",
              "      <th>5</th>\n",
              "      <td>education</td>\n",
              "      <td>0.072152</td>\n",
              "    </tr>\n",
              "    <tr>\n",
              "      <th>6</th>\n",
              "      <td>work_address</td>\n",
              "      <td>0.067363</td>\n",
              "    </tr>\n",
              "    <tr>\n",
              "      <th>7</th>\n",
              "      <td>decline_app_cnt</td>\n",
              "      <td>0.065325</td>\n",
              "    </tr>\n",
              "    <tr>\n",
              "      <th>8</th>\n",
              "      <td>foreign_passport</td>\n",
              "      <td>0.048587</td>\n",
              "    </tr>\n",
              "    <tr>\n",
              "      <th>9</th>\n",
              "      <td>bki_request_cnt</td>\n",
              "      <td>0.044567</td>\n",
              "    </tr>\n",
              "    <tr>\n",
              "      <th>10</th>\n",
              "      <td>income</td>\n",
              "      <td>0.039744</td>\n",
              "    </tr>\n",
              "    <tr>\n",
              "      <th>11</th>\n",
              "      <td>car_type</td>\n",
              "      <td>0.033746</td>\n",
              "    </tr>\n",
              "    <tr>\n",
              "      <th>12</th>\n",
              "      <td>good_work</td>\n",
              "      <td>0.018784</td>\n",
              "    </tr>\n",
              "    <tr>\n",
              "      <th>13</th>\n",
              "      <td>car</td>\n",
              "      <td>0.017521</td>\n",
              "    </tr>\n",
              "    <tr>\n",
              "      <th>14</th>\n",
              "      <td>age</td>\n",
              "      <td>0.008198</td>\n",
              "    </tr>\n",
              "    <tr>\n",
              "      <th>15</th>\n",
              "      <td>sex</td>\n",
              "      <td>0.003455</td>\n",
              "    </tr>\n",
              "  </tbody>\n",
              "</table>\n",
              "</div>\n",
              "      <button class=\"colab-df-convert\" onclick=\"convertToInteractive('df-68cf6569-7f36-467f-9968-aa90966341a1')\"\n",
              "              title=\"Convert this dataframe to an interactive table.\"\n",
              "              style=\"display:none;\">\n",
              "        \n",
              "  <svg xmlns=\"http://www.w3.org/2000/svg\" height=\"24px\"viewBox=\"0 0 24 24\"\n",
              "       width=\"24px\">\n",
              "    <path d=\"M0 0h24v24H0V0z\" fill=\"none\"/>\n",
              "    <path d=\"M18.56 5.44l.94 2.06.94-2.06 2.06-.94-2.06-.94-.94-2.06-.94 2.06-2.06.94zm-11 1L8.5 8.5l.94-2.06 2.06-.94-2.06-.94L8.5 2.5l-.94 2.06-2.06.94zm10 10l.94 2.06.94-2.06 2.06-.94-2.06-.94-.94-2.06-.94 2.06-2.06.94z\"/><path d=\"M17.41 7.96l-1.37-1.37c-.4-.4-.92-.59-1.43-.59-.52 0-1.04.2-1.43.59L10.3 9.45l-7.72 7.72c-.78.78-.78 2.05 0 2.83L4 21.41c.39.39.9.59 1.41.59.51 0 1.02-.2 1.41-.59l7.78-7.78 2.81-2.81c.8-.78.8-2.07 0-2.86zM5.41 20L4 18.59l7.72-7.72 1.47 1.35L5.41 20z\"/>\n",
              "  </svg>\n",
              "      </button>\n",
              "      \n",
              "  <style>\n",
              "    .colab-df-container {\n",
              "      display:flex;\n",
              "      flex-wrap:wrap;\n",
              "      gap: 12px;\n",
              "    }\n",
              "\n",
              "    .colab-df-convert {\n",
              "      background-color: #E8F0FE;\n",
              "      border: none;\n",
              "      border-radius: 50%;\n",
              "      cursor: pointer;\n",
              "      display: none;\n",
              "      fill: #1967D2;\n",
              "      height: 32px;\n",
              "      padding: 0 0 0 0;\n",
              "      width: 32px;\n",
              "    }\n",
              "\n",
              "    .colab-df-convert:hover {\n",
              "      background-color: #E2EBFA;\n",
              "      box-shadow: 0px 1px 2px rgba(60, 64, 67, 0.3), 0px 1px 3px 1px rgba(60, 64, 67, 0.15);\n",
              "      fill: #174EA6;\n",
              "    }\n",
              "\n",
              "    [theme=dark] .colab-df-convert {\n",
              "      background-color: #3B4455;\n",
              "      fill: #D2E3FC;\n",
              "    }\n",
              "\n",
              "    [theme=dark] .colab-df-convert:hover {\n",
              "      background-color: #434B5C;\n",
              "      box-shadow: 0px 1px 3px 1px rgba(0, 0, 0, 0.15);\n",
              "      filter: drop-shadow(0px 1px 2px rgba(0, 0, 0, 0.3));\n",
              "      fill: #FFFFFF;\n",
              "    }\n",
              "  </style>\n",
              "\n",
              "      <script>\n",
              "        const buttonEl =\n",
              "          document.querySelector('#df-68cf6569-7f36-467f-9968-aa90966341a1 button.colab-df-convert');\n",
              "        buttonEl.style.display =\n",
              "          google.colab.kernel.accessAllowed ? 'block' : 'none';\n",
              "\n",
              "        async function convertToInteractive(key) {\n",
              "          const element = document.querySelector('#df-68cf6569-7f36-467f-9968-aa90966341a1');\n",
              "          const dataTable =\n",
              "            await google.colab.kernel.invokeFunction('convertToInteractive',\n",
              "                                                     [key], {});\n",
              "          if (!dataTable) return;\n",
              "\n",
              "          const docLinkHtml = 'Like what you see? Visit the ' +\n",
              "            '<a target=\"_blank\" href=https://colab.research.google.com/notebooks/data_table.ipynb>data table notebook</a>'\n",
              "            + ' to learn more about interactive tables.';\n",
              "          element.innerHTML = '';\n",
              "          dataTable['output_type'] = 'display_data';\n",
              "          await google.colab.output.renderOutput(dataTable, element);\n",
              "          const docLink = document.createElement('div');\n",
              "          docLink.innerHTML = docLinkHtml;\n",
              "          element.appendChild(docLink);\n",
              "        }\n",
              "      </script>\n",
              "    </div>\n",
              "  </div>\n",
              "  "
            ],
            "text/plain": [
              "            variable        IV\n",
              "0          score_bki  0.275214\n",
              "1                sna  0.132047\n",
              "2         first_time  0.101243\n",
              "3      region_rating  0.081816\n",
              "4       home_address  0.079869\n",
              "5          education  0.072152\n",
              "6       work_address  0.067363\n",
              "7    decline_app_cnt  0.065325\n",
              "8   foreign_passport  0.048587\n",
              "9    bki_request_cnt  0.044567\n",
              "10            income  0.039744\n",
              "11          car_type  0.033746\n",
              "12         good_work  0.018784\n",
              "13               car  0.017521\n",
              "14               age  0.008198\n",
              "15               sex  0.003455"
            ]
          },
          "metadata": {}
        }
      ]
    },
    {
      "cell_type": "markdown",
      "source": [
        "---\n",
        "## **7. Построение модели**\n",
        "---\n",
        "---"
      ],
      "metadata": {
        "id": "53k8N__mo-71"
      }
    },
    {
      "cell_type": "code",
      "source": [
        "class ModelMetrics:\n",
        "# =======================================================================\n",
        "# Класс для визуализации метрик модели\n",
        "\n",
        "# =======================================================================\n",
        "# Инициализация\n",
        "\n",
        "    def __init__(self, y_true, y_pred, y_proba):\n",
        "        self.y_true = y_true\n",
        "        self.y_pred = y_pred\n",
        "        self.y_proba = y_proba\n",
        "\n",
        "# =======================================================================\n",
        "# Визуализация кривой Reciever Operation Curve\n",
        "\n",
        "    def plot_roc_curve(self, model_label='Модель'):\n",
        "        from sklearn.metrics import roc_auc_score, roc_curve\n",
        "\n",
        "        roc_auc = roc_auc_score(self.y_true, self.y_proba)\n",
        "        FPR, TPR, THRESHOLDS = roc_curve(self.y_true, self.y_proba)\n",
        "\n",
        "        plt.figure(figsize=(8,5))\n",
        "        plt.plot([0, 1], label='''\"Наивный\" классификатор''', linestyle='-.')\n",
        "        plt.plot(FPR, TPR, label ='Вид модели: ' + model_label)\n",
        "        plt.title(f\"\\nКривая ROC (ROC's AUC =  {roc_auc:0.3f})\", fontsize=18)\n",
        "        plt.ylabel('Доля истинноположительных предсказаний\\n(True Positive Rate)')\n",
        "        plt.xlabel('Доля ложноположительных предсказаний\\n(False Positive Rate)')\n",
        "        plt.legend(loc = 'upper left')\n",
        "        plt.show()\n",
        "\n",
        "# =======================================================================\n",
        "# Визуализация кривой  Точность - Полнота (Precision - Recall) \n",
        "# с расчетом метрики площади под кривой (метрика ROC's AUC)\n",
        "\n",
        "    def plot_precision_recall_curve(self, model_label='Модель'):\n",
        "        from sklearn.metrics import precision_recall_curve\n",
        "\n",
        "        prec, rec, thresholds = precision_recall_curve(self.y_true, self.y_proba)\n",
        "        \n",
        "        AUC = 0.5 * (rec[:-1] - rec[1:]) @ (prec[:-1] + prec[1:])\n",
        "\n",
        "        baseline = self.y_true[self.y_true==1].shape[0] / self.y_true.shape[0]\n",
        "\n",
        "        plt.figure(figsize=(8,5))\n",
        "        plt.plot([baseline, baseline], label='''\"Наивный\" классификатор''', linestyle='-.')\n",
        "        plt.plot(rec, prec, label = 'Вид модели: ' + model_label)\n",
        "\n",
        "        plt.title(f\"\\n\\nКривая Precision - Recall (PR's AUC =  {AUC:0.3f})\", fontsize=18)\n",
        "        plt.ylabel('Точность\\n(Precision)', fontsize=13)\n",
        "        plt.xlabel('Полнота\\n(Recall)', fontsize=13)\n",
        "        plt.legend(loc = 'upper right')\n",
        "        plt.show()\n",
        "\n",
        "# =======================================================================\n",
        "# Вывод основных метрик модели в виде таблицы\n",
        "\n",
        "    def print_metrics(self):\n",
        "        from sklearn.metrics import f1_score, accuracy_score, balanced_accuracy_score,\\\n",
        "            precision_score, recall_score, roc_auc_score\n",
        "        \n",
        "        metrics_ = {'Accuracy': [accuracy_score(self.y_true, self.y_pred)],\n",
        "                    'Balanced accuracy': [balanced_accuracy_score(self.y_true, self.y_pred)],\n",
        "                    'Precision':  [precision_score(self.y_true, self.y_pred)],\n",
        "                    'Recall': [recall_score(self.y_true, self.y_pred)],\n",
        "                    'F1-score': [f1_score(self.y_true, self.y_pred)],\n",
        "                    \"ROC's AUC\": [roc_auc_score(self.y_true, self.y_proba)]}\n",
        "\n",
        "        print('\\n\\n' + '\\033[1m' + \\\n",
        "              '===============================  МЕТРИКИ  ==============================' + \\\n",
        "              '\\033[1m\\n')\n",
        "        display(pd.DataFrame(metrics_, index=['']))\n",
        "        return None\n",
        "\n",
        "# =======================================================================\n",
        "# Визуализация матрицы ошибок\n",
        "\n",
        "    def conf_matrix_visual(self):\n",
        "\n",
        "        from sklearn.metrics import confusion_matrix\n",
        "\n",
        "        ax = sns.heatmap(confusion_matrix(self.y_true, self.y_pred),\n",
        "                    annot=True, fmt='.0f', linewidth=2, cmap='Blues',\n",
        "                    annot_kws={'size': 20},\n",
        "                    xticklabels=['Не дефолт', 'Дефолт'],\n",
        "                    yticklabels=['Не дефолт', 'Дефолт']\n",
        "                    )\n",
        "        \n",
        "        ax.tick_params(left=False, bottom=False) # удаляем штрихи\n",
        "\n",
        "        annot_labels = ['TN', 'FP', 'FN', 'TP']\n",
        "        for i, t in enumerate(ax.texts):\n",
        "            t.set_text(annot_labels[i] + '\\n' + t.get_text())\n",
        "        \n",
        "        ax.set_xlabel(r'$\\ Предсказанные $', fontsize=18, color= '#01153E',\n",
        "                      labelpad=20, weight='bold', rotation = 0)\n",
        "        ax.set_ylabel(r'$\\ Истинные $', fontsize=18, color='#01153E',\n",
        "                      labelpad=25, rotation = 90)\n",
        "        \n",
        "        plt.xticks(rotation=-45, fontsize=11, weight='bold')\n",
        "        plt.yticks(rotation=45, fontsize=11, weight='bold')\n",
        "\n",
        "        plt.title('\\nМатрица ошибок\\n', fontsize=20)\n",
        "        return None"
      ],
      "metadata": {
        "id": "vobysgsmqGIb"
      },
      "execution_count": null,
      "outputs": []
    },
    {
      "cell_type": "code",
      "source": [
        "# Выделим тестовую часть\n",
        "train_data = data.query('sample == 1').drop(['sample'], axis=1)\n",
        "test_data = data.query('sample == 0').drop(['sample', 'default'], axis=1)\n",
        "\n",
        "y = train_data['default'].values  # наш таргет\n",
        "X = train_data.drop(['default'], axis=1)"
      ],
      "metadata": {
        "editable": false,
        "execution": {
          "iopub.status.busy": "2021-12-09T20:37:41.499608Z",
          "iopub.execute_input": "2021-12-09T20:37:41.499960Z",
          "iopub.status.idle": "2021-12-09T20:37:41.537558Z",
          "shell.execute_reply.started": "2021-12-09T20:37:41.499932Z",
          "shell.execute_reply": "2021-12-09T20:37:41.536680Z"
        },
        "trusted": true,
        "id": "QagymkgGLBN5"
      },
      "execution_count": null,
      "outputs": []
    },
    {
      "cell_type": "code",
      "source": [
        "# Воспользуемся функцией train_test_split для разбивки тестовых данных\n",
        "from sklearn.model_selection import train_test_split\n",
        "\n",
        "# выделим 20% данных на валидацию\n",
        "X_train, X_valid, y_train, y_valid = train_test_split(X, y, test_size=0.2, random_state=42)"
      ],
      "metadata": {
        "editable": false,
        "execution": {
          "iopub.status.busy": "2021-12-09T20:37:41.538935Z",
          "iopub.execute_input": "2021-12-09T20:37:41.539181Z",
          "iopub.status.idle": "2021-12-09T20:37:41.611057Z",
          "shell.execute_reply.started": "2021-12-09T20:37:41.539155Z",
          "shell.execute_reply": "2021-12-09T20:37:41.610041Z"
        },
        "trusted": true,
        "id": "_uT2u497LBN5"
      },
      "execution_count": null,
      "outputs": []
    },
    {
      "cell_type": "code",
      "source": [
        "# test_data.columns"
      ],
      "metadata": {
        "editable": false,
        "execution": {
          "iopub.status.busy": "2021-12-09T20:37:41.612484Z",
          "iopub.execute_input": "2021-12-09T20:37:41.613025Z",
          "iopub.status.idle": "2021-12-09T20:37:41.619190Z",
          "shell.execute_reply.started": "2021-12-09T20:37:41.612982Z",
          "shell.execute_reply": "2021-12-09T20:37:41.618328Z"
        },
        "trusted": true,
        "id": "XN_PXk_iLBN5"
      },
      "execution_count": null,
      "outputs": []
    },
    {
      "cell_type": "code",
      "source": [
        "# X_train.columns"
      ],
      "metadata": {
        "editable": false,
        "execution": {
          "iopub.status.busy": "2021-12-09T20:37:41.620546Z",
          "iopub.execute_input": "2021-12-09T20:37:41.620777Z",
          "iopub.status.idle": "2021-12-09T20:37:41.633845Z",
          "shell.execute_reply.started": "2021-12-09T20:37:41.620749Z",
          "shell.execute_reply": "2021-12-09T20:37:41.632952Z"
        },
        "trusted": true,
        "id": "m5JNms6vLBN5"
      },
      "execution_count": null,
      "outputs": []
    },
    {
      "cell_type": "code",
      "source": [
        "# X_valid.columns"
      ],
      "metadata": {
        "editable": false,
        "execution": {
          "iopub.status.busy": "2021-12-09T20:37:41.635239Z",
          "iopub.execute_input": "2021-12-09T20:37:41.635468Z",
          "iopub.status.idle": "2021-12-09T20:37:41.647148Z",
          "shell.execute_reply.started": "2021-12-09T20:37:41.635440Z",
          "shell.execute_reply": "2021-12-09T20:37:41.646448Z"
        },
        "trusted": true,
        "id": "d4q8zCOcLBN6"
      },
      "execution_count": null,
      "outputs": []
    },
    {
      "cell_type": "code",
      "source": [
        "# проверяем\n",
        "# test_data.shape, train_data.shape, X.shape, X_train.shape, X_valid.shape"
      ],
      "metadata": {
        "editable": false,
        "execution": {
          "iopub.status.busy": "2021-12-09T20:37:41.648527Z",
          "iopub.execute_input": "2021-12-09T20:37:41.649001Z",
          "iopub.status.idle": "2021-12-09T20:37:41.661571Z",
          "shell.execute_reply.started": "2021-12-09T20:37:41.648959Z",
          "shell.execute_reply": "2021-12-09T20:37:41.660640Z"
        },
        "trusted": true,
        "id": "ZeGtpCoQLBN6"
      },
      "execution_count": null,
      "outputs": []
    },
    {
      "cell_type": "markdown",
      "source": [
        "##### Логистическая регрессия"
      ],
      "metadata": {
        "id": "8M6zUBEaW_73"
      }
    },
    {
      "cell_type": "code",
      "source": [
        "from sklearn.linear_model import LogisticRegression\n",
        "\n",
        "logreg = LogisticRegression(solver='liblinear', max_iter=1000,\n",
        "                            class_weight='balanced',\n",
        "                            fit_intercept=True,\n",
        "                            random_state=RANDOM_SEED)\n",
        "\n",
        "logreg.fit(X_train, y_train)\n",
        "\n",
        "y_proba = logreg.predict_proba(X_valid)[:, 1]\n",
        "y_pred = logreg.predict(X_valid)"
      ],
      "metadata": {
        "editable": false,
        "execution": {
          "iopub.status.busy": "2021-12-09T20:37:41.662700Z",
          "iopub.execute_input": "2021-12-09T20:37:41.663262Z",
          "iopub.status.idle": "2021-12-09T20:37:41.751683Z",
          "shell.execute_reply.started": "2021-12-09T20:37:41.663186Z",
          "shell.execute_reply": "2021-12-09T20:37:41.751031Z"
        },
        "trusted": true,
        "id": "8hMljym-LBN6"
      },
      "execution_count": null,
      "outputs": []
    },
    {
      "cell_type": "markdown",
      "source": [
        "Метрики для логистической регрессии"
      ],
      "metadata": {
        "id": "_gvY86YDpy-O"
      }
    },
    {
      "cell_type": "code",
      "source": [
        "model_metrics = ModelMetrics(y_valid, y_pred, y_proba)"
      ],
      "metadata": {
        "editable": false,
        "execution": {
          "iopub.status.busy": "2021-12-09T20:37:42.132826Z",
          "iopub.execute_input": "2021-12-09T20:37:42.133560Z",
          "iopub.status.idle": "2021-12-09T20:37:42.406784Z",
          "shell.execute_reply.started": "2021-12-09T20:37:42.133507Z",
          "shell.execute_reply": "2021-12-09T20:37:42.405860Z"
        },
        "trusted": true,
        "id": "Ly-YMjBkLBN7"
      },
      "execution_count": null,
      "outputs": []
    },
    {
      "cell_type": "code",
      "source": [
        "model_metrics.print_metrics()\n",
        "model_metrics.conf_matrix_visual()\n",
        "model_metrics.plot_roc_curve(model_label='Логистическая регрессия')"
      ],
      "metadata": {
        "colab": {
          "base_uri": "https://localhost:8080/",
          "height": 921
        },
        "id": "K8aZp3huP-Ph",
        "outputId": "810f37cf-f300-4e22-f37e-868c762bbc3c"
      },
      "execution_count": null,
      "outputs": [
        {
          "output_type": "stream",
          "name": "stdout",
          "text": [
            "\n",
            "\n",
            "\u001b[1m===============================  МЕТРИКИ  ==============================\u001b[1m\n",
            "\n"
          ]
        },
        {
          "output_type": "display_data",
          "data": {
            "text/html": [
              "\n",
              "  <div id=\"df-90a192c7-14f7-45cc-8963-b91f472f2113\">\n",
              "    <div class=\"colab-df-container\">\n",
              "      <div>\n",
              "<style scoped>\n",
              "    .dataframe tbody tr th:only-of-type {\n",
              "        vertical-align: middle;\n",
              "    }\n",
              "\n",
              "    .dataframe tbody tr th {\n",
              "        vertical-align: top;\n",
              "    }\n",
              "\n",
              "    .dataframe thead th {\n",
              "        text-align: right;\n",
              "    }\n",
              "</style>\n",
              "<table border=\"1\" class=\"dataframe\">\n",
              "  <thead>\n",
              "    <tr style=\"text-align: right;\">\n",
              "      <th></th>\n",
              "      <th>Accuracy</th>\n",
              "      <th>Balanced accuracy</th>\n",
              "      <th>Precision</th>\n",
              "      <th>Recall</th>\n",
              "      <th>F1-score</th>\n",
              "      <th>ROC's AUC</th>\n",
              "    </tr>\n",
              "  </thead>\n",
              "  <tbody>\n",
              "    <tr>\n",
              "      <th></th>\n",
              "      <td>0.659146</td>\n",
              "      <td>0.6659</td>\n",
              "      <td>0.21746</td>\n",
              "      <td>0.674877</td>\n",
              "      <td>0.328932</td>\n",
              "      <td>0.734901</td>\n",
              "    </tr>\n",
              "  </tbody>\n",
              "</table>\n",
              "</div>\n",
              "      <button class=\"colab-df-convert\" onclick=\"convertToInteractive('df-90a192c7-14f7-45cc-8963-b91f472f2113')\"\n",
              "              title=\"Convert this dataframe to an interactive table.\"\n",
              "              style=\"display:none;\">\n",
              "        \n",
              "  <svg xmlns=\"http://www.w3.org/2000/svg\" height=\"24px\"viewBox=\"0 0 24 24\"\n",
              "       width=\"24px\">\n",
              "    <path d=\"M0 0h24v24H0V0z\" fill=\"none\"/>\n",
              "    <path d=\"M18.56 5.44l.94 2.06.94-2.06 2.06-.94-2.06-.94-.94-2.06-.94 2.06-2.06.94zm-11 1L8.5 8.5l.94-2.06 2.06-.94-2.06-.94L8.5 2.5l-.94 2.06-2.06.94zm10 10l.94 2.06.94-2.06 2.06-.94-2.06-.94-.94-2.06-.94 2.06-2.06.94z\"/><path d=\"M17.41 7.96l-1.37-1.37c-.4-.4-.92-.59-1.43-.59-.52 0-1.04.2-1.43.59L10.3 9.45l-7.72 7.72c-.78.78-.78 2.05 0 2.83L4 21.41c.39.39.9.59 1.41.59.51 0 1.02-.2 1.41-.59l7.78-7.78 2.81-2.81c.8-.78.8-2.07 0-2.86zM5.41 20L4 18.59l7.72-7.72 1.47 1.35L5.41 20z\"/>\n",
              "  </svg>\n",
              "      </button>\n",
              "      \n",
              "  <style>\n",
              "    .colab-df-container {\n",
              "      display:flex;\n",
              "      flex-wrap:wrap;\n",
              "      gap: 12px;\n",
              "    }\n",
              "\n",
              "    .colab-df-convert {\n",
              "      background-color: #E8F0FE;\n",
              "      border: none;\n",
              "      border-radius: 50%;\n",
              "      cursor: pointer;\n",
              "      display: none;\n",
              "      fill: #1967D2;\n",
              "      height: 32px;\n",
              "      padding: 0 0 0 0;\n",
              "      width: 32px;\n",
              "    }\n",
              "\n",
              "    .colab-df-convert:hover {\n",
              "      background-color: #E2EBFA;\n",
              "      box-shadow: 0px 1px 2px rgba(60, 64, 67, 0.3), 0px 1px 3px 1px rgba(60, 64, 67, 0.15);\n",
              "      fill: #174EA6;\n",
              "    }\n",
              "\n",
              "    [theme=dark] .colab-df-convert {\n",
              "      background-color: #3B4455;\n",
              "      fill: #D2E3FC;\n",
              "    }\n",
              "\n",
              "    [theme=dark] .colab-df-convert:hover {\n",
              "      background-color: #434B5C;\n",
              "      box-shadow: 0px 1px 3px 1px rgba(0, 0, 0, 0.15);\n",
              "      filter: drop-shadow(0px 1px 2px rgba(0, 0, 0, 0.3));\n",
              "      fill: #FFFFFF;\n",
              "    }\n",
              "  </style>\n",
              "\n",
              "      <script>\n",
              "        const buttonEl =\n",
              "          document.querySelector('#df-90a192c7-14f7-45cc-8963-b91f472f2113 button.colab-df-convert');\n",
              "        buttonEl.style.display =\n",
              "          google.colab.kernel.accessAllowed ? 'block' : 'none';\n",
              "\n",
              "        async function convertToInteractive(key) {\n",
              "          const element = document.querySelector('#df-90a192c7-14f7-45cc-8963-b91f472f2113');\n",
              "          const dataTable =\n",
              "            await google.colab.kernel.invokeFunction('convertToInteractive',\n",
              "                                                     [key], {});\n",
              "          if (!dataTable) return;\n",
              "\n",
              "          const docLinkHtml = 'Like what you see? Visit the ' +\n",
              "            '<a target=\"_blank\" href=https://colab.research.google.com/notebooks/data_table.ipynb>data table notebook</a>'\n",
              "            + ' to learn more about interactive tables.';\n",
              "          element.innerHTML = '';\n",
              "          dataTable['output_type'] = 'display_data';\n",
              "          await google.colab.output.renderOutput(dataTable, element);\n",
              "          const docLink = document.createElement('div');\n",
              "          docLink.innerHTML = docLinkHtml;\n",
              "          element.appendChild(docLink);\n",
              "        }\n",
              "      </script>\n",
              "    </div>\n",
              "  </div>\n",
              "  "
            ],
            "text/plain": [
              "  Accuracy  Balanced accuracy  Precision    Recall  F1-score  ROC's AUC\n",
              "  0.659146             0.6659    0.21746  0.674877  0.328932   0.734901"
            ]
          },
          "metadata": {}
        },
        {
          "output_type": "display_data",
          "data": {
            "image/png": "[encoded data removed]",
            "text/plain": [
              "<Figure size 432x288 with 2 Axes>"
            ]
          },
          "metadata": {
            "needs_background": "light"
          }
        },
        {
          "output_type": "display_data",
          "data": {
            "image/png": "[encoded data removed]",
            "text/plain": [
              "<Figure size 576x360 with 1 Axes>"
            ]
          },
          "metadata": {
            "needs_background": "light"
          }
        }
      ]
    },
    {
      "cell_type": "code",
      "source": [
        "model_metrics.plot_precision_recall_curve(model_label='логистическая регрессия')"
      ],
      "metadata": {
        "colab": {
          "base_uri": "https://localhost:8080/",
          "height": 413
        },
        "id": "o6HI4IThCeyw",
        "outputId": "960fe580-f54a-45f9-feb0-f47086f288f6"
      },
      "execution_count": null,
      "outputs": [
        {
          "output_type": "display_data",
          "data": {
            "image/png": "[encoded data removed]",
            "text/plain": [
              "<Figure size 576x360 with 1 Axes>"
            ]
          },
          "metadata": {
            "needs_background": "light"
          }
        }
      ]
    },
    {
      "cell_type": "markdown",
      "source": [
        "##### Метод k ближайших соседей"
      ],
      "metadata": {
        "id": "vAJ_JRFFXKrz"
      }
    },
    {
      "cell_type": "code",
      "source": [
        "from sklearn.neighbors import KNeighborsClassifier\n",
        "\n",
        "# реализуем метод k ближайших соседей\n",
        "KNN_num = 3\n",
        "KNN = KNeighborsClassifier(n_neighbors=KNN_num)\n",
        "KNN.fit(X_train, y_train)\n",
        "\n",
        "y_pred_knn = KNN.predict(X_valid)\n",
        "y_proba_knn = KNN.predict_proba(X_valid)[:, 1]"
      ],
      "metadata": {
        "id": "oMqOr92IXSgi"
      },
      "execution_count": null,
      "outputs": []
    },
    {
      "cell_type": "markdown",
      "source": [
        "Метрики для модели \"K ближайших соседей\""
      ],
      "metadata": {
        "id": "O5Xu1piBj8Et"
      }
    },
    {
      "cell_type": "code",
      "source": [
        "model_metrics_knn = ModelMetrics(y_valid, y_pred, y_proba)"
      ],
      "metadata": {
        "id": "MSaWCe39ZpuD"
      },
      "execution_count": null,
      "outputs": []
    },
    {
      "cell_type": "code",
      "source": [
        "model_metrics_knn.print_metrics()\n",
        "model_metrics_knn.conf_matrix_visual()\n",
        "model_metrics_knn.plot_roc_curve(model_label=f'{KNN_num} ближайших соседей')"
      ],
      "metadata": {
        "colab": {
          "base_uri": "https://localhost:8080/",
          "height": 921
        },
        "id": "IFOjfFugZshr",
        "outputId": "82aa6546-2ef4-4a84-fa11-4a8a0d741e52"
      },
      "execution_count": null,
      "outputs": [
        {
          "output_type": "stream",
          "name": "stdout",
          "text": [
            "\n",
            "\n",
            "\u001b[1m===============================  МЕТРИКИ  ==============================\u001b[1m\n",
            "\n"
          ]
        },
        {
          "output_type": "display_data",
          "data": {
            "text/html": [
              "\n",
              "  <div id=\"df-19f56b56-ac7a-41af-b1fa-7785fba36d38\">\n",
              "    <div class=\"colab-df-container\">\n",
              "      <div>\n",
              "<style scoped>\n",
              "    .dataframe tbody tr th:only-of-type {\n",
              "        vertical-align: middle;\n",
              "    }\n",
              "\n",
              "    .dataframe tbody tr th {\n",
              "        vertical-align: top;\n",
              "    }\n",
              "\n",
              "    .dataframe thead th {\n",
              "        text-align: right;\n",
              "    }\n",
              "</style>\n",
              "<table border=\"1\" class=\"dataframe\">\n",
              "  <thead>\n",
              "    <tr style=\"text-align: right;\">\n",
              "      <th></th>\n",
              "      <th>Accuracy</th>\n",
              "      <th>Balanced accuracy</th>\n",
              "      <th>Precision</th>\n",
              "      <th>Recall</th>\n",
              "      <th>F1-score</th>\n",
              "      <th>ROC's AUC</th>\n",
              "    </tr>\n",
              "  </thead>\n",
              "  <tbody>\n",
              "    <tr>\n",
              "      <th></th>\n",
              "      <td>0.659146</td>\n",
              "      <td>0.6659</td>\n",
              "      <td>0.21746</td>\n",
              "      <td>0.674877</td>\n",
              "      <td>0.328932</td>\n",
              "      <td>0.734901</td>\n",
              "    </tr>\n",
              "  </tbody>\n",
              "</table>\n",
              "</div>\n",
              "      <button class=\"colab-df-convert\" onclick=\"convertToInteractive('df-19f56b56-ac7a-41af-b1fa-7785fba36d38')\"\n",
              "              title=\"Convert this dataframe to an interactive table.\"\n",
              "              style=\"display:none;\">\n",
              "        \n",
              "  <svg xmlns=\"http://www.w3.org/2000/svg\" height=\"24px\"viewBox=\"0 0 24 24\"\n",
              "       width=\"24px\">\n",
              "    <path d=\"M0 0h24v24H0V0z\" fill=\"none\"/>\n",
              "    <path d=\"M18.56 5.44l.94 2.06.94-2.06 2.06-.94-2.06-.94-.94-2.06-.94 2.06-2.06.94zm-11 1L8.5 8.5l.94-2.06 2.06-.94-2.06-.94L8.5 2.5l-.94 2.06-2.06.94zm10 10l.94 2.06.94-2.06 2.06-.94-2.06-.94-.94-2.06-.94 2.06-2.06.94z\"/><path d=\"M17.41 7.96l-1.37-1.37c-.4-.4-.92-.59-1.43-.59-.52 0-1.04.2-1.43.59L10.3 9.45l-7.72 7.72c-.78.78-.78 2.05 0 2.83L4 21.41c.39.39.9.59 1.41.59.51 0 1.02-.2 1.41-.59l7.78-7.78 2.81-2.81c.8-.78.8-2.07 0-2.86zM5.41 20L4 18.59l7.72-7.72 1.47 1.35L5.41 20z\"/>\n",
              "  </svg>\n",
              "      </button>\n",
              "      \n",
              "  <style>\n",
              "    .colab-df-container {\n",
              "      display:flex;\n",
              "      flex-wrap:wrap;\n",
              "      gap: 12px;\n",
              "    }\n",
              "\n",
              "    .colab-df-convert {\n",
              "      background-color: #E8F0FE;\n",
              "      border: none;\n",
              "      border-radius: 50%;\n",
              "      cursor: pointer;\n",
              "      display: none;\n",
              "      fill: #1967D2;\n",
              "      height: 32px;\n",
              "      padding: 0 0 0 0;\n",
              "      width: 32px;\n",
              "    }\n",
              "\n",
              "    .colab-df-convert:hover {\n",
              "      background-color: #E2EBFA;\n",
              "      box-shadow: 0px 1px 2px rgba(60, 64, 67, 0.3), 0px 1px 3px 1px rgba(60, 64, 67, 0.15);\n",
              "      fill: #174EA6;\n",
              "    }\n",
              "\n",
              "    [theme=dark] .colab-df-convert {\n",
              "      background-color: #3B4455;\n",
              "      fill: #D2E3FC;\n",
              "    }\n",
              "\n",
              "    [theme=dark] .colab-df-convert:hover {\n",
              "      background-color: #434B5C;\n",
              "      box-shadow: 0px 1px 3px 1px rgba(0, 0, 0, 0.15);\n",
              "      filter: drop-shadow(0px 1px 2px rgba(0, 0, 0, 0.3));\n",
              "      fill: #FFFFFF;\n",
              "    }\n",
              "  </style>\n",
              "\n",
              "      <script>\n",
              "        const buttonEl =\n",
              "          document.querySelector('#df-19f56b56-ac7a-41af-b1fa-7785fba36d38 button.colab-df-convert');\n",
              "        buttonEl.style.display =\n",
              "          google.colab.kernel.accessAllowed ? 'block' : 'none';\n",
              "\n",
              "        async function convertToInteractive(key) {\n",
              "          const element = document.querySelector('#df-19f56b56-ac7a-41af-b1fa-7785fba36d38');\n",
              "          const dataTable =\n",
              "            await google.colab.kernel.invokeFunction('convertToInteractive',\n",
              "                                                     [key], {});\n",
              "          if (!dataTable) return;\n",
              "\n",
              "          const docLinkHtml = 'Like what you see? Visit the ' +\n",
              "            '<a target=\"_blank\" href=https://colab.research.google.com/notebooks/data_table.ipynb>data table notebook</a>'\n",
              "            + ' to learn more about interactive tables.';\n",
              "          element.innerHTML = '';\n",
              "          dataTable['output_type'] = 'display_data';\n",
              "          await google.colab.output.renderOutput(dataTable, element);\n",
              "          const docLink = document.createElement('div');\n",
              "          docLink.innerHTML = docLinkHtml;\n",
              "          element.appendChild(docLink);\n",
              "        }\n",
              "      </script>\n",
              "    </div>\n",
              "  </div>\n",
              "  "
            ],
            "text/plain": [
              "  Accuracy  Balanced accuracy  Precision    Recall  F1-score  ROC's AUC\n",
              "  0.659146             0.6659    0.21746  0.674877  0.328932   0.734901"
            ]
          },
          "metadata": {}
        },
        {
          "output_type": "display_data",
          "data": {
            "image/png": "[encoded data removed]",
            "text/plain": [
              "<Figure size 432x288 with 2 Axes>"
            ]
          },
          "metadata": {
            "needs_background": "light"
          }
        },
        {
          "output_type": "display_data",
          "data": {
            "image/png": "[encoded data removed]",
            "text/plain": [
              "<Figure size 576x360 with 1 Axes>"
            ]
          },
          "metadata": {
            "needs_background": "light"
          }
        }
      ]
    },
    {
      "cell_type": "code",
      "source": [
        "model_metrics_knn.plot_precision_recall_curve(model_label=f'{KNN_num} ближайших соседей')"
      ],
      "metadata": {
        "colab": {
          "base_uri": "https://localhost:8080/",
          "height": 413
        },
        "id": "TgEAU3vrb4qE",
        "outputId": "c98c1292-71ed-400e-abcd-08f5a9b0b02b"
      },
      "execution_count": null,
      "outputs": [
        {
          "output_type": "display_data",
          "data": {
            "image/png": "[encoded data removed]",
            "text/plain": [
              "<Figure size 576x360 with 1 Axes>"
            ]
          },
          "metadata": {
            "needs_background": "light"
          }
        }
      ]
    },
    {
      "cell_type": "markdown",
      "source": [
        "##### Решающие деревья"
      ],
      "metadata": {
        "id": "ldtvDkqgakfN"
      }
    },
    {
      "cell_type": "code",
      "source": [
        "from sklearn.tree import DecisionTreeClassifier\n",
        "\n",
        "tree = DecisionTreeClassifier(class_weight='balanced', random_state=RANDOM_SEED)\n",
        "tree.fit(X_train, y_train)\n",
        "\n",
        "y_pred_tree = tree.predict(X_valid)\n",
        "y_proba_tree = tree.predict_proba(X_valid)[:, 1]"
      ],
      "metadata": {
        "id": "Wj-4g6pEaj8T"
      },
      "execution_count": null,
      "outputs": []
    },
    {
      "cell_type": "markdown",
      "source": [
        "Метрики для модели \"Решающие деревья\""
      ],
      "metadata": {
        "id": "3ibjdiSkro3U"
      }
    },
    {
      "cell_type": "code",
      "source": [
        "model_metrics_tree = ModelMetrics(y_valid, y_pred_tree, y_proba_tree)"
      ],
      "metadata": {
        "editable": false,
        "execution": {
          "iopub.status.busy": "2021-12-09T20:37:42.132826Z",
          "iopub.execute_input": "2021-12-09T20:37:42.133560Z",
          "iopub.status.idle": "2021-12-09T20:37:42.406784Z",
          "shell.execute_reply.started": "2021-12-09T20:37:42.133507Z",
          "shell.execute_reply": "2021-12-09T20:37:42.405860Z"
        },
        "trusted": true,
        "id": "r0lwhcbgbu5W"
      },
      "execution_count": null,
      "outputs": []
    },
    {
      "cell_type": "code",
      "source": [
        "model_metrics_tree.print_metrics()\n",
        "model_metrics_tree.conf_matrix_visual()\n",
        "model_metrics_tree.plot_roc_curve(model_label='Решающие деревья')"
      ],
      "metadata": {
        "colab": {
          "base_uri": "https://localhost:8080/",
          "height": 921
        },
        "outputId": "680578c9-8562-4519-823b-efc8e29ffe0b",
        "id": "Bluif811bu5X"
      },
      "execution_count": null,
      "outputs": [
        {
          "output_type": "stream",
          "name": "stdout",
          "text": [
            "\n",
            "\n",
            "\u001b[1m===============================  МЕТРИКИ  ==============================\u001b[1m\n",
            "\n"
          ]
        },
        {
          "output_type": "display_data",
          "data": {
            "text/html": [
              "\n",
              "  <div id=\"df-5e42c912-d6f1-4891-a0ba-5976c7b9de0e\">\n",
              "    <div class=\"colab-df-container\">\n",
              "      <div>\n",
              "<style scoped>\n",
              "    .dataframe tbody tr th:only-of-type {\n",
              "        vertical-align: middle;\n",
              "    }\n",
              "\n",
              "    .dataframe tbody tr th {\n",
              "        vertical-align: top;\n",
              "    }\n",
              "\n",
              "    .dataframe thead th {\n",
              "        text-align: right;\n",
              "    }\n",
              "</style>\n",
              "<table border=\"1\" class=\"dataframe\">\n",
              "  <thead>\n",
              "    <tr style=\"text-align: right;\">\n",
              "      <th></th>\n",
              "      <th>Accuracy</th>\n",
              "      <th>Balanced accuracy</th>\n",
              "      <th>Precision</th>\n",
              "      <th>Recall</th>\n",
              "      <th>F1-score</th>\n",
              "      <th>ROC's AUC</th>\n",
              "    </tr>\n",
              "  </thead>\n",
              "  <tbody>\n",
              "    <tr>\n",
              "      <th></th>\n",
              "      <td>0.798984</td>\n",
              "      <td>0.535361</td>\n",
              "      <td>0.186123</td>\n",
              "      <td>0.185003</td>\n",
              "      <td>0.185561</td>\n",
              "      <td>0.535361</td>\n",
              "    </tr>\n",
              "  </tbody>\n",
              "</table>\n",
              "</div>\n",
              "      <button class=\"colab-df-convert\" onclick=\"convertToInteractive('df-5e42c912-d6f1-4891-a0ba-5976c7b9de0e')\"\n",
              "              title=\"Convert this dataframe to an interactive table.\"\n",
              "              style=\"display:none;\">\n",
              "        \n",
              "  <svg xmlns=\"http://www.w3.org/2000/svg\" height=\"24px\"viewBox=\"0 0 24 24\"\n",
              "       width=\"24px\">\n",
              "    <path d=\"M0 0h24v24H0V0z\" fill=\"none\"/>\n",
              "    <path d=\"M18.56 5.44l.94 2.06.94-2.06 2.06-.94-2.06-.94-.94-2.06-.94 2.06-2.06.94zm-11 1L8.5 8.5l.94-2.06 2.06-.94-2.06-.94L8.5 2.5l-.94 2.06-2.06.94zm10 10l.94 2.06.94-2.06 2.06-.94-2.06-.94-.94-2.06-.94 2.06-2.06.94z\"/><path d=\"M17.41 7.96l-1.37-1.37c-.4-.4-.92-.59-1.43-.59-.52 0-1.04.2-1.43.59L10.3 9.45l-7.72 7.72c-.78.78-.78 2.05 0 2.83L4 21.41c.39.39.9.59 1.41.59.51 0 1.02-.2 1.41-.59l7.78-7.78 2.81-2.81c.8-.78.8-2.07 0-2.86zM5.41 20L4 18.59l7.72-7.72 1.47 1.35L5.41 20z\"/>\n",
              "  </svg>\n",
              "      </button>\n",
              "      \n",
              "  <style>\n",
              "    .colab-df-container {\n",
              "      display:flex;\n",
              "      flex-wrap:wrap;\n",
              "      gap: 12px;\n",
              "    }\n",
              "\n",
              "    .colab-df-convert {\n",
              "      background-color: #E8F0FE;\n",
              "      border: none;\n",
              "      border-radius: 50%;\n",
              "      cursor: pointer;\n",
              "      display: none;\n",
              "      fill: #1967D2;\n",
              "      height: 32px;\n",
              "      padding: 0 0 0 0;\n",
              "      width: 32px;\n",
              "    }\n",
              "\n",
              "    .colab-df-convert:hover {\n",
              "      background-color: #E2EBFA;\n",
              "      box-shadow: 0px 1px 2px rgba(60, 64, 67, 0.3), 0px 1px 3px 1px rgba(60, 64, 67, 0.15);\n",
              "      fill: #174EA6;\n",
              "    }\n",
              "\n",
              "    [theme=dark] .colab-df-convert {\n",
              "      background-color: #3B4455;\n",
              "      fill: #D2E3FC;\n",
              "    }\n",
              "\n",
              "    [theme=dark] .colab-df-convert:hover {\n",
              "      background-color: #434B5C;\n",
              "      box-shadow: 0px 1px 3px 1px rgba(0, 0, 0, 0.15);\n",
              "      filter: drop-shadow(0px 1px 2px rgba(0, 0, 0, 0.3));\n",
              "      fill: #FFFFFF;\n",
              "    }\n",
              "  </style>\n",
              "\n",
              "      <script>\n",
              "        const buttonEl =\n",
              "          document.querySelector('#df-5e42c912-d6f1-4891-a0ba-5976c7b9de0e button.colab-df-convert');\n",
              "        buttonEl.style.display =\n",
              "          google.colab.kernel.accessAllowed ? 'block' : 'none';\n",
              "\n",
              "        async function convertToInteractive(key) {\n",
              "          const element = document.querySelector('#df-5e42c912-d6f1-4891-a0ba-5976c7b9de0e');\n",
              "          const dataTable =\n",
              "            await google.colab.kernel.invokeFunction('convertToInteractive',\n",
              "                                                     [key], {});\n",
              "          if (!dataTable) return;\n",
              "\n",
              "          const docLinkHtml = 'Like what you see? Visit the ' +\n",
              "            '<a target=\"_blank\" href=https://colab.research.google.com/notebooks/data_table.ipynb>data table notebook</a>'\n",
              "            + ' to learn more about interactive tables.';\n",
              "          element.innerHTML = '';\n",
              "          dataTable['output_type'] = 'display_data';\n",
              "          await google.colab.output.renderOutput(dataTable, element);\n",
              "          const docLink = document.createElement('div');\n",
              "          docLink.innerHTML = docLinkHtml;\n",
              "          element.appendChild(docLink);\n",
              "        }\n",
              "      </script>\n",
              "    </div>\n",
              "  </div>\n",
              "  "
            ],
            "text/plain": [
              "  Accuracy  Balanced accuracy  Precision    Recall  F1-score  ROC's AUC\n",
              "  0.798984           0.535361   0.186123  0.185003  0.185561   0.535361"
            ]
          },
          "metadata": {}
        },
        {
          "output_type": "display_data",
          "data": {
            "image/png": "[encoded data removed]",
            "text/plain": [
              "<Figure size 432x288 with 2 Axes>"
            ]
          },
          "metadata": {
            "needs_background": "light"
          }
        },
        {
          "output_type": "display_data",
          "data": {
            "image/png": "[encoded data removed]",
            "text/plain": [
              "<Figure size 576x360 with 1 Axes>"
            ]
          },
          "metadata": {
            "needs_background": "light"
          }
        }
      ]
    },
    {
      "cell_type": "code",
      "source": [
        "model_metrics_tree.plot_precision_recall_curve(model_label='Решающие деревья')"
      ],
      "metadata": {
        "colab": {
          "base_uri": "https://localhost:8080/",
          "height": 413
        },
        "id": "6--9udtXbuam",
        "outputId": "7efda659-052a-4c49-fe39-9b59124a00f8"
      },
      "execution_count": null,
      "outputs": [
        {
          "output_type": "display_data",
          "data": {
            "image/png": "[encoded data removed]",
            "text/plain": [
              "<Figure size 576x360 with 1 Axes>"
            ]
          },
          "metadata": {
            "needs_background": "light"
          }
        }
      ]
    },
    {
      "cell_type": "markdown",
      "source": [
        "---\n",
        "## **8. Оптимизация гиперпараметров**\n",
        "---\n",
        "---"
      ],
      "metadata": {
        "id": "MlZxsUf_LHaL"
      }
    },
    {
      "cell_type": "code",
      "source": [
        "from sklearn.model_selection import GridSearchCV\n",
        "\n",
        "# инициализируем оптимизацию гиперпараметров GridSearch\n",
        "model_opt = LogisticRegression(random_state = RANDOM_SEED)\n",
        "\n",
        "iter_ = 1000\n",
        "epsilon_stop = 1e-5\n",
        "C = np.logspace(-3, 2, 5)\n",
        "\n",
        "# определяем сетку параметров для оптимизации\n",
        "param_grid = [\n",
        "    {'C': C,\n",
        "     'penalty': ['l1'], \n",
        "     'solver': ['liblinear'], \n",
        "     'class_weight':['balanced'], \n",
        "     'multi_class': ['ovr'], \n",
        "     'max_iter':[iter_],\n",
        "     'tol':[epsilon_stop]},\n",
        "    {'C': C,\n",
        "     'penalty': ['l2'], \n",
        "     'solver': ['newton-cg', 'lbfgs', 'liblinear', 'sag', 'saga'], \n",
        "     'class_weight':['balanced'], \n",
        "     'multi_class': ['ovr'], \n",
        "     'max_iter':[iter_],\n",
        "     'tol':[epsilon_stop]},\n",
        "    {'penalty': ['none'], \n",
        "     'solver': ['newton-cg', 'lbfgs', 'sag', 'saga'], \n",
        "     'class_weight': ['balanced'], \n",
        "     'multi_class': ['ovr'], \n",
        "     'max_iter':[iter_],\n",
        "     'tol':[epsilon_stop]}\n",
        "]\n",
        "\n",
        "# запускаем оптимизацию\n",
        "gridsearch = GridSearchCV(model_opt, param_grid, scoring='f1',\n",
        "                          n_jobs=-1, cv=15, refit=True)\n",
        "gridsearch.fit(X_valid, y_valid)\n",
        "model_opt = gridsearch.best_estimator_\n",
        "\n",
        "##печатаем параметры\n",
        "best_parameters = model_opt.get_params()\n",
        "\n",
        "for param_name in sorted(best_parameters.keys()):\n",
        "        # print('\\t%s: %r' % (param_name, best_parameters[param_name]))\n",
        "        print(f'\\t{param_name}: {best_parameters[param_name]}')"
      ],
      "metadata": {
        "colab": {
          "base_uri": "https://localhost:8080/"
        },
        "id": "m_1v4XPRJ-Z-",
        "outputId": "a825cc99-49da-42d0-aeb6-916ab4d10638"
      },
      "execution_count": 140,
      "outputs": [
        {
          "metadata": {
            "tags": null
          },
          "name": "stdout",
          "output_type": "stream",
          "text": [
            "\tC: 0.01778279410038923\n",
            "\tclass_weight: balanced\n",
            "\tdual: False\n",
            "\tfit_intercept: True\n",
            "\tintercept_scaling: 1\n",
            "\tl1_ratio: None\n",
            "\tmax_iter: 1000\n",
            "\tmulti_class: ovr\n",
            "\tn_jobs: None\n",
            "\tpenalty: l1\n",
            "\trandom_state: 42\n",
            "\tsolver: liblinear\n",
            "\ttol: 1e-05\n",
            "\tverbose: 0\n",
            "\twarm_start: False\n"
          ]
        }
      ]
    },
    {
      "cell_type": "code",
      "source": [
        "y_pred_opt = model_opt.predict(X_valid)\n",
        "y_proba_opt = model_opt.predict_proba(X_valid)[:, 1]"
      ],
      "metadata": {
        "id": "Pa7qo6qWRf-7"
      },
      "execution_count": 141,
      "outputs": []
    },
    {
      "cell_type": "code",
      "source": [
        "model_metrics_opt = ModelMetrics(y_valid, y_pred_opt, y_proba_opt)"
      ],
      "metadata": {
        "id": "2k2U3HNrQcee"
      },
      "execution_count": 142,
      "outputs": []
    },
    {
      "cell_type": "code",
      "source": [
        "model_metrics.print_metrics()\n",
        "model_metrics.conf_matrix_visual()\n",
        "model_metrics.plot_roc_curve(model_label='Лог. регрессия после\\n оптимизации гиперпараметров')"
      ],
      "metadata": {
        "id": "ocrxGJ0jTN3K",
        "colab": {
          "base_uri": "https://localhost:8080/",
          "height": 921
        },
        "outputId": "9148c4d2-cdeb-4c65-a17c-199026734e61"
      },
      "execution_count": 143,
      "outputs": [
        {
          "metadata": {
            "tags": null
          },
          "name": "stdout",
          "output_type": "stream",
          "text": [
            "\n",
            "\n",
            "\u001b[1m===============================  МЕТРИКИ  ==============================\u001b[1m\n",
            "\n"
          ]
        },
        {
          "data": {
            "text/html": [
              "\n",
              "  <div id=\"df-eaf3b7b9-bc28-4ef1-a869-bc9000c7b218\">\n",
              "    <div class=\"colab-df-container\">\n",
              "      <div>\n",
              "<style scoped>\n",
              "    .dataframe tbody tr th:only-of-type {\n",
              "        vertical-align: middle;\n",
              "    }\n",
              "\n",
              "    .dataframe tbody tr th {\n",
              "        vertical-align: top;\n",
              "    }\n",
              "\n",
              "    .dataframe thead th {\n",
              "        text-align: right;\n",
              "    }\n",
              "</style>\n",
              "<table border=\"1\" class=\"dataframe\">\n",
              "  <thead>\n",
              "    <tr style=\"text-align: right;\">\n",
              "      <th></th>\n",
              "      <th>Accuracy</th>\n",
              "      <th>Balanced accuracy</th>\n",
              "      <th>Precision</th>\n",
              "      <th>Recall</th>\n",
              "      <th>F1-score</th>\n",
              "      <th>ROC's AUC</th>\n",
              "    </tr>\n",
              "  </thead>\n",
              "  <tbody>\n",
              "    <tr>\n",
              "      <th></th>\n",
              "      <td>0.659282</td>\n",
              "      <td>0.665743</td>\n",
              "      <td>0.217437</td>\n",
              "      <td>0.67433</td>\n",
              "      <td>0.32884</td>\n",
              "      <td>0.734762</td>\n",
              "    </tr>\n",
              "  </tbody>\n",
              "</table>\n",
              "</div>\n",
              "      <button class=\"colab-df-convert\" onclick=\"convertToInteractive('df-eaf3b7b9-bc28-4ef1-a869-bc9000c7b218')\"\n",
              "              title=\"Convert this dataframe to an interactive table.\"\n",
              "              style=\"display:none;\">\n",
              "        \n",
              "  <svg xmlns=\"http://www.w3.org/2000/svg\" height=\"24px\"viewBox=\"0 0 24 24\"\n",
              "       width=\"24px\">\n",
              "    <path d=\"M0 0h24v24H0V0z\" fill=\"none\"/>\n",
              "    <path d=\"M18.56 5.44l.94 2.06.94-2.06 2.06-.94-2.06-.94-.94-2.06-.94 2.06-2.06.94zm-11 1L8.5 8.5l.94-2.06 2.06-.94-2.06-.94L8.5 2.5l-.94 2.06-2.06.94zm10 10l.94 2.06.94-2.06 2.06-.94-2.06-.94-.94-2.06-.94 2.06-2.06.94z\"/><path d=\"M17.41 7.96l-1.37-1.37c-.4-.4-.92-.59-1.43-.59-.52 0-1.04.2-1.43.59L10.3 9.45l-7.72 7.72c-.78.78-.78 2.05 0 2.83L4 21.41c.39.39.9.59 1.41.59.51 0 1.02-.2 1.41-.59l7.78-7.78 2.81-2.81c.8-.78.8-2.07 0-2.86zM5.41 20L4 18.59l7.72-7.72 1.47 1.35L5.41 20z\"/>\n",
              "  </svg>\n",
              "      </button>\n",
              "      \n",
              "  <style>\n",
              "    .colab-df-container {\n",
              "      display:flex;\n",
              "      flex-wrap:wrap;\n",
              "      gap: 12px;\n",
              "    }\n",
              "\n",
              "    .colab-df-convert {\n",
              "      background-color: #E8F0FE;\n",
              "      border: none;\n",
              "      border-radius: 50%;\n",
              "      cursor: pointer;\n",
              "      display: none;\n",
              "      fill: #1967D2;\n",
              "      height: 32px;\n",
              "      padding: 0 0 0 0;\n",
              "      width: 32px;\n",
              "    }\n",
              "\n",
              "    .colab-df-convert:hover {\n",
              "      background-color: #E2EBFA;\n",
              "      box-shadow: 0px 1px 2px rgba(60, 64, 67, 0.3), 0px 1px 3px 1px rgba(60, 64, 67, 0.15);\n",
              "      fill: #174EA6;\n",
              "    }\n",
              "\n",
              "    [theme=dark] .colab-df-convert {\n",
              "      background-color: #3B4455;\n",
              "      fill: #D2E3FC;\n",
              "    }\n",
              "\n",
              "    [theme=dark] .colab-df-convert:hover {\n",
              "      background-color: #434B5C;\n",
              "      box-shadow: 0px 1px 3px 1px rgba(0, 0, 0, 0.15);\n",
              "      filter: drop-shadow(0px 1px 2px rgba(0, 0, 0, 0.3));\n",
              "      fill: #FFFFFF;\n",
              "    }\n",
              "  </style>\n",
              "\n",
              "      <script>\n",
              "        const buttonEl =\n",
              "          document.querySelector('#df-eaf3b7b9-bc28-4ef1-a869-bc9000c7b218 button.colab-df-convert');\n",
              "        buttonEl.style.display =\n",
              "          google.colab.kernel.accessAllowed ? 'block' : 'none';\n",
              "\n",
              "        async function convertToInteractive(key) {\n",
              "          const element = document.querySelector('#df-eaf3b7b9-bc28-4ef1-a869-bc9000c7b218');\n",
              "          const dataTable =\n",
              "            await google.colab.kernel.invokeFunction('convertToInteractive',\n",
              "                                                     [key], {});\n",
              "          if (!dataTable) return;\n",
              "\n",
              "          const docLinkHtml = 'Like what you see? Visit the ' +\n",
              "            '<a target=\"_blank\" href=https://colab.research.google.com/notebooks/data_table.ipynb>data table notebook</a>'\n",
              "            + ' to learn more about interactive tables.';\n",
              "          element.innerHTML = '';\n",
              "          dataTable['output_type'] = 'display_data';\n",
              "          await google.colab.output.renderOutput(dataTable, element);\n",
              "          const docLink = document.createElement('div');\n",
              "          docLink.innerHTML = docLinkHtml;\n",
              "          element.appendChild(docLink);\n",
              "        }\n",
              "      </script>\n",
              "    </div>\n",
              "  </div>\n",
              "  "
            ],
            "text/plain": [
              "  Accuracy  Balanced accuracy  Precision   Recall  F1-score  ROC's AUC\n",
              "  0.659282           0.665743   0.217437  0.67433   0.32884   0.734762"
            ]
          },
          "metadata": {},
          "output_type": "display_data"
        },
        {
          "data": {
            "image/png": "[encoded data removed]",
            "text/plain": [
              "<Figure size 432x288 with 2 Axes>"
            ]
          },
          "metadata": {},
          "output_type": "display_data"
        },
        {
          "data": {
            "image/png": "[encoded data removed]",
            "text/plain": [
              "<Figure size 576x360 with 1 Axes>"
            ]
          },
          "metadata": {},
          "output_type": "display_data"
        }
      ]
    },
    {
      "cell_type": "markdown",
      "source": [
        "> Оптимизация гиперпараметров логистической регрессии не улучшила предсказательную силу модели"
      ],
      "metadata": {
        "id": "Z66Rob7OVIV4"
      }
    },
    {
      "cell_type": "markdown",
      "source": [
        "## **9. Отправка результатов**"
      ],
      "metadata": {
        "editable": false,
        "id": "RhOw97cWLBN8"
      }
    },
    {
      "cell_type": "code",
      "source": [
        "predict_submission = logreg.predict(test_data)"
      ],
      "metadata": {
        "editable": false,
        "execution": {
          "iopub.status.busy": "2021-12-09T20:37:42.408069Z",
          "iopub.execute_input": "2021-12-09T20:37:42.408315Z",
          "iopub.status.idle": "2021-12-09T20:37:42.423089Z",
          "shell.execute_reply.started": "2021-12-09T20:37:42.408285Z",
          "shell.execute_reply": "2021-12-09T20:37:42.421877Z"
        },
        "trusted": true,
        "id": "rM6LBvFKLBN7"
      },
      "execution_count": null,
      "outputs": []
    },
    {
      "cell_type": "code",
      "source": [
        "# sample_submission['default'] = predict_submission\n",
        "# sample_submission.to_csv('submission.csv', index=False)\n",
        "# sample_submission.head(10)"
      ],
      "metadata": {
        "editable": false,
        "execution": {
          "iopub.status.busy": "2021-12-09T20:37:42.425448Z",
          "iopub.execute_input": "2021-12-09T20:37:42.426320Z",
          "iopub.status.idle": "2021-12-09T20:37:42.542584Z",
          "shell.execute_reply.started": "2021-12-09T20:37:42.426251Z",
          "shell.execute_reply": "2021-12-09T20:37:42.541899Z"
        },
        "trusted": true,
        "id": "gq_hpJ4ALBN8"
      },
      "execution_count": null,
      "outputs": []
    },
    {
      "cell_type": "code",
      "source": [
        "# !kaggle competitions submit Timofey Akimkin -c sf-scoring -f submission.csv -m \"Message\"\n",
        "# !kaggle competitions submit your-competition-name -f submission.csv -m 'My submission message'"
      ],
      "metadata": {
        "editable": false,
        "execution": {
          "iopub.status.busy": "2021-12-09T20:37:42.544117Z",
          "iopub.execute_input": "2021-12-09T20:37:42.544583Z",
          "iopub.status.idle": "2021-12-09T20:37:43.754114Z",
          "shell.execute_reply.started": "2021-12-09T20:37:42.544550Z",
          "shell.execute_reply": "2021-12-09T20:37:43.753033Z"
        },
        "trusted": true,
        "id": "w6F-FSzLLBN8"
      },
      "execution_count": null,
      "outputs": []
    }
  ]
}