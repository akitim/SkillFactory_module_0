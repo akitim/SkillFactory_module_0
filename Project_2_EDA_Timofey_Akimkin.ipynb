{
  "nbformat": 4,
  "nbformat_minor": 0,
  "metadata": {
    "colab": {
      "name": "Project_2_EDA_Timofey_Akimkin.ipynb",
      "provenance": [],
      "authorship_tag": "ABX9TyOdpeMs5F3FRpUN4E+qUn2R",
      "include_colab_link": true
    },
    "kernelspec": {
      "name": "python3",
      "display_name": "Python 3"
    },
    "language_info": {
      "name": "python"
    }
  },
  "cells": [
    {
      "cell_type": "markdown",
      "metadata": {
        "id": "view-in-github",
        "colab_type": "text"
      },
      "source": [
        "<a href=\"https://colab.research.google.com/github/akitim/SkillFactory_projects/blob/main/Project_2_EDA_Timofey_Akimkin.ipynb\" target=\"_parent\"><img src=\"https://colab.research.google.com/assets/colab-badge.svg\" alt=\"Open In Colab\"/></a>"
      ]
    },
    {
      "cell_type": "markdown",
      "metadata": {
        "id": "CEDICcDUmjzL"
      },
      "source": [
        "#Загрузка библиотек"
      ]
    },
    {
      "cell_type": "code",
      "metadata": {
        "colab": {
          "base_uri": "https://localhost:8080/"
        },
        "id": "HbEIO84ef0HX",
        "outputId": "2222e071-2f5d-486d-c64a-8d0c912135b5"
      },
      "source": [
        "import pandas as pd\n",
        "import matplotlib.pyplot as plt\n",
        "import seaborn as sns\n",
        "from itertools import combinations\n",
        "from scipy.stats import ttest_ind\n",
        " \n",
        "pd.set_option('display.max_rows', 50) # показывать больше строк\n",
        "pd.set_option('display.max_columns', 50) # показывать больше колонок\n",
        " \n",
        "import sys\n",
        "from google.colab import drive\n",
        "drive.mount('/content/gdrive', force_remount=True)\n",
        "sys.path.clear\n",
        "sys.path.append('/content/gdrive/MyDrive/SkillFactory')"
      ],
      "execution_count": 3,
      "outputs": [
        {
          "output_type": "stream",
          "text": [
            "Mounted at /content/gdrive\n"
          ],
          "name": "stdout"
        }
      ]
    },
    {
      "cell_type": "markdown",
      "metadata": {
        "id": "HzpKiewMo0UV"
      },
      "source": [
        "#Считывание датафрейма из файла"
      ]
    },
    {
      "cell_type": "code",
      "metadata": {
        "colab": {
          "base_uri": "https://localhost:8080/",
          "height": 149
        },
        "id": "-rSajuFHo91Y",
        "outputId": "d3c3485e-9618-4e76-a5a9-d238ae85dd24"
      },
      "source": [
        "cacao = pd.read_csv('/content/gdrive/MyDrive/SkillFactory/stud_math.csv')\n",
        "display(cacao.sample(2))"
      ],
      "execution_count": 7,
      "outputs": [
        {
          "output_type": "display_data",
          "data": {
            "text/html": [
              "<div>\n",
              "<style scoped>\n",
              "    .dataframe tbody tr th:only-of-type {\n",
              "        vertical-align: middle;\n",
              "    }\n",
              "\n",
              "    .dataframe tbody tr th {\n",
              "        vertical-align: top;\n",
              "    }\n",
              "\n",
              "    .dataframe thead th {\n",
              "        text-align: right;\n",
              "    }\n",
              "</style>\n",
              "<table border=\"1\" class=\"dataframe\">\n",
              "  <thead>\n",
              "    <tr style=\"text-align: right;\">\n",
              "      <th></th>\n",
              "      <th>school</th>\n",
              "      <th>sex</th>\n",
              "      <th>age</th>\n",
              "      <th>address</th>\n",
              "      <th>famsize</th>\n",
              "      <th>Pstatus</th>\n",
              "      <th>Medu</th>\n",
              "      <th>Fedu</th>\n",
              "      <th>Mjob</th>\n",
              "      <th>Fjob</th>\n",
              "      <th>reason</th>\n",
              "      <th>guardian</th>\n",
              "      <th>traveltime</th>\n",
              "      <th>studytime</th>\n",
              "      <th>failures</th>\n",
              "      <th>schoolsup</th>\n",
              "      <th>famsup</th>\n",
              "      <th>paid</th>\n",
              "      <th>activities</th>\n",
              "      <th>nursery</th>\n",
              "      <th>studytime, granular</th>\n",
              "      <th>higher</th>\n",
              "      <th>internet</th>\n",
              "      <th>romantic</th>\n",
              "      <th>famrel</th>\n",
              "      <th>freetime</th>\n",
              "      <th>goout</th>\n",
              "      <th>health</th>\n",
              "      <th>absences</th>\n",
              "      <th>score</th>\n",
              "    </tr>\n",
              "  </thead>\n",
              "  <tbody>\n",
              "    <tr>\n",
              "      <th>284</th>\n",
              "      <td>GP</td>\n",
              "      <td>F</td>\n",
              "      <td>17</td>\n",
              "      <td>U</td>\n",
              "      <td>GT3</td>\n",
              "      <td>T</td>\n",
              "      <td>2.0</td>\n",
              "      <td>2.0</td>\n",
              "      <td>other</td>\n",
              "      <td>other</td>\n",
              "      <td>course</td>\n",
              "      <td>mother</td>\n",
              "      <td>1.0</td>\n",
              "      <td>2.0</td>\n",
              "      <td>0.0</td>\n",
              "      <td>no</td>\n",
              "      <td>yes</td>\n",
              "      <td>no</td>\n",
              "      <td>no</td>\n",
              "      <td>no</td>\n",
              "      <td>-6.0</td>\n",
              "      <td>yes</td>\n",
              "      <td>yes</td>\n",
              "      <td>no</td>\n",
              "      <td>5.0</td>\n",
              "      <td>4.0</td>\n",
              "      <td>5.0</td>\n",
              "      <td>5.0</td>\n",
              "      <td>4.0</td>\n",
              "      <td>55.0</td>\n",
              "    </tr>\n",
              "    <tr>\n",
              "      <th>316</th>\n",
              "      <td>GP</td>\n",
              "      <td>F</td>\n",
              "      <td>18</td>\n",
              "      <td>U</td>\n",
              "      <td>GT3</td>\n",
              "      <td>T</td>\n",
              "      <td>2.0</td>\n",
              "      <td>1.0</td>\n",
              "      <td>services</td>\n",
              "      <td>NaN</td>\n",
              "      <td>course</td>\n",
              "      <td>mother</td>\n",
              "      <td>2.0</td>\n",
              "      <td>2.0</td>\n",
              "      <td>0.0</td>\n",
              "      <td>no</td>\n",
              "      <td>yes</td>\n",
              "      <td>yes</td>\n",
              "      <td>yes</td>\n",
              "      <td>yes</td>\n",
              "      <td>-6.0</td>\n",
              "      <td>yes</td>\n",
              "      <td>yes</td>\n",
              "      <td>no</td>\n",
              "      <td>5.0</td>\n",
              "      <td>3.0</td>\n",
              "      <td>3.0</td>\n",
              "      <td>1.0</td>\n",
              "      <td>0.0</td>\n",
              "      <td>0.0</td>\n",
              "    </tr>\n",
              "  </tbody>\n",
              "</table>\n",
              "</div>"
            ],
            "text/plain": [
              "    school sex  age address famsize Pstatus  Medu  Fedu      Mjob   Fjob  \\\n",
              "284     GP   F   17       U     GT3       T   2.0   2.0     other  other   \n",
              "316     GP   F   18       U     GT3       T   2.0   1.0  services    NaN   \n",
              "\n",
              "     reason guardian  traveltime  studytime  failures schoolsup famsup paid  \\\n",
              "284  course   mother         1.0        2.0       0.0        no    yes   no   \n",
              "316  course   mother         2.0        2.0       0.0        no    yes  yes   \n",
              "\n",
              "    activities nursery  studytime, granular higher internet romantic  famrel  \\\n",
              "284         no      no                 -6.0    yes      yes       no     5.0   \n",
              "316        yes     yes                 -6.0    yes      yes       no     5.0   \n",
              "\n",
              "     freetime  goout  health  absences  score  \n",
              "284       4.0    5.0     5.0       4.0   55.0  \n",
              "316       3.0    3.0     1.0       0.0    0.0  "
            ]
          },
          "metadata": {
            "tags": []
          }
        }
      ]
    },
    {
      "cell_type": "markdown",
      "metadata": {
        "id": "6TR_hRfVm-FX"
      },
      "source": [
        "#Предобработка"
      ]
    },
    {
      "cell_type": "code",
      "metadata": {
        "id": "Q74dmHlhnBIg"
      },
      "source": [
        "def hasletornum(s):\n",
        "    ls = [ch for ch in s]\n",
        "    return any(list(map(lambda x: x.isalnum(), ls)))\n"
      ],
      "execution_count": null,
      "outputs": []
    }
  ]
}