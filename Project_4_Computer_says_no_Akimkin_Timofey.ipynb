{
  "nbformat": 4,
  "nbformat_minor": 0,
  "metadata": {
    "colab": {
      "name": "Project 4 - Computer says no_Akimkin Timofey.ipynb",
      "provenance": [],
      "authorship_tag": "ABX9TyNUla3loWNJfjX9LMewgAOs",
      "include_colab_link": true
    },
    "kernelspec": {
      "name": "python3",
      "display_name": "Python 3"
    },
    "language_info": {
      "name": "python"
    }
  },
  "cells": [
    {
      "cell_type": "markdown",
      "metadata": {
        "id": "view-in-github",
        "colab_type": "text"
      },
      "source": [
        "<a href=\"https://colab.research.google.com/github/akitim/SkillFactory_projects/blob/main/Project_4_Computer_says_no_Akimkin_Timofey.ipynb\" target=\"_parent\"><img src=\"https://colab.research.google.com/assets/colab-badge.svg\" alt=\"Open In Colab\"/></a>"
      ]
    },
    {
      "cell_type": "code",
      "metadata": {
        "id": "_fIWtqvDpB4-"
      },
      "source": [
        "import pandas as pd\n",
        "import numpy as np\n",
        "import seaborn as sns\n",
        "import matplotlib.pyplot as plt\n",
        "import warnings\n",
        "warnings.filterwarnings('ignore')\n",
        "\n",
        "# import sys\n",
        "# from google.colab import drive\n",
        "# drive.mount('/content/gdrive', force_remount=True)\n",
        "# sys.path.clear\n",
        "# sys.path.append('/content/gdrive/MyDrive/SkillFactory')"
      ],
      "execution_count": 5,
      "outputs": []
    },
    {
      "cell_type": "code",
      "metadata": {
        "id": "pyVp-956oPbO"
      },
      "source": [
        "path = 'https://raw.githubusercontent.com/akitim/datasets/main/computer_says_no.csv'\n",
        "data = pd.read_csv(path, encoding = 'ISO-8859-1', low_memory = False)\n",
        "# data.sample(1)"
      ],
      "execution_count": 76,
      "outputs": []
    },
    {
      "cell_type": "code",
      "metadata": {
        "id": "syjmr0tO4-Hl",
        "colab": {
          "base_uri": "https://localhost:8080/"
        },
        "outputId": "fa785e13-9490-43c7-8a15-246b5bc6f1a5"
      },
      "source": [
        "data.info();"
      ],
      "execution_count": 77,
      "outputs": [
        {
          "output_type": "stream",
          "name": "stdout",
          "text": [
            "<class 'pandas.core.frame.DataFrame'>\n",
            "RangeIndex: 73799 entries, 0 to 73798\n",
            "Data columns (total 14 columns):\n",
            " #   Column            Non-Null Count  Dtype \n",
            "---  ------            --------------  ----- \n",
            " 0   client_id         73799 non-null  int64 \n",
            " 1   education         73492 non-null  object\n",
            " 2   sex               73799 non-null  object\n",
            " 3   age               73799 non-null  int64 \n",
            " 4   car               73799 non-null  object\n",
            " 5   car_type          73799 non-null  object\n",
            " 6   decline_app_cnt   73799 non-null  int64 \n",
            " 7   good_work         73799 non-null  int64 \n",
            " 8   bki_request_cnt   73799 non-null  int64 \n",
            " 9   home_address      73799 non-null  int64 \n",
            " 10  work_address      73799 non-null  int64 \n",
            " 11  income            73799 non-null  int64 \n",
            " 12  foreign_passport  73799 non-null  object\n",
            " 13  default           73799 non-null  int64 \n",
            "dtypes: int64(9), object(5)\n",
            "memory usage: 7.9+ MB\n"
          ]
        }
      ]
    },
    {
      "cell_type": "code",
      "metadata": {
        "id": "hplfbIc19cUv"
      },
      "source": [
        "#бинарные переменные \n",
        "bin_cols = ['sex', 'car', 'car_type', 'good_work', 'foreign_passport']\n",
        "\n",
        "#категориальные переменные\n",
        "cat_cols = ['education', 'work_address', 'home_address']\n",
        "\n",
        "#числовые переменные\n",
        "num_cols = ['age', 'decline_app_cnt', 'bki_request_cnt', 'income']\n",
        "\n",
        "# for category in num_cols:\n",
        "#     # plt.figure()\n",
        "#     fig, (ax1, ax2) = plt.subplots(1, 2, sharey=False)\n",
        "\n",
        "#     sns.histplot(data[category][data[category] > 0].dropna(), kde=True, ax=ax1)\n",
        "#     ax1.set_title(category)\n",
        "\n",
        "#     sns.histplot(data[category][data[category] > 0].apply(np.log).dropna(), kde=True, ax=ax2)\n",
        "#     ax2.set_title(category + '_log')\n",
        "#     ax2.set_ylabel('')\n",
        "#     ax2.set_xlabel(category + '_log')\n",
        "#     plt.show()"
      ],
      "execution_count": 78,
      "outputs": []
    },
    {
      "cell_type": "code",
      "metadata": {
        "id": "ptPm2kFW68Hi",
        "colab": {
          "base_uri": "https://localhost:8080/",
          "height": 373
        },
        "outputId": "774c4fa5-c34f-4f3b-b914-58759151a234"
      },
      "source": [
        "data.education.value_counts().plot.barh();\n",
        "data.education.value_counts()"
      ],
      "execution_count": 79,
      "outputs": [
        {
          "output_type": "execute_result",
          "data": {
            "text/plain": [
              "SCH    38860\n",
              "GRD    23365\n",
              "UGR     9816\n",
              "PGR     1257\n",
              "ACD      194\n",
              "Name: education, dtype: int64"
            ]
          },
          "metadata": {},
          "execution_count": 79
        },
        {
          "output_type": "display_data",
          "data": {
            "image/png": "[encoded data removed]",
            "text/plain": [
              "<Figure size 432x288 with 1 Axes>"
            ]
          },
          "metadata": {
            "needs_background": "light"
          }
        }
      ]
    },
    {
      "cell_type": "code",
      "metadata": {
        "colab": {
          "base_uri": "https://localhost:8080/"
        },
        "id": "RVS_BPeykhUG",
        "outputId": "cec8aaac-b480-4579-da44-5c5b54c97931"
      },
      "source": [
        "np.random.RandomState = 49\n",
        "\n",
        "edu_species = data.education.dropna().unique()\n",
        "edu_species_num = edu_species.shape[0]\n",
        "weights = data.education.value_counts() / data.education.count()\n",
        "\n",
        "def edu_fillna(values, weights):\n",
        "    return np.random.choice(values, 1, p = weights)[0]\n",
        "\n",
        "edu_nan = data[pd.isna(data.education)].education\n",
        "edu_nan = np.random.choice(edu_species, edu_nan.shape[0], p = weights)\n",
        "\n",
        "# for i in data[pd.isna(data.education)].education:\n",
        "#     val = \n",
        "# data.education.fillna(edu_fillna(edu_species, weights), inplace=True)\n",
        "\n",
        "data[data.education.isna()].fillna(0, inplace=True)\n",
        "data[data.education.isna()].education"
      ],
      "execution_count": 92,
      "outputs": [
        {
          "output_type": "execute_result",
          "data": {
            "text/plain": [
              "517      NaN\n",
              "725      NaN\n",
              "1393     NaN\n",
              "1564     NaN\n",
              "1739     NaN\n",
              "        ... \n",
              "72694    NaN\n",
              "72705    NaN\n",
              "72903    NaN\n",
              "73087    NaN\n",
              "73785    NaN\n",
              "Name: education, Length: 307, dtype: object"
            ]
          },
          "metadata": {},
          "execution_count": 92
        }
      ]
    },
    {
      "cell_type": "code",
      "metadata": {
        "id": "CywCMsyW67VV",
        "outputId": "c9c41ebd-460d-4438-fb9f-f65cf5aadc65",
        "colab": {
          "base_uri": "https://localhost:8080/"
        }
      },
      "source": [
        "edu_nan.shape"
      ],
      "execution_count": 83,
      "outputs": [
        {
          "output_type": "execute_result",
          "data": {
            "text/plain": [
              "(307,)"
            ]
          },
          "metadata": {},
          "execution_count": 83
        }
      ]
    },
    {
      "cell_type": "code",
      "metadata": {
        "id": "HCjhJRL63HWE"
      },
      "source": [
        "data.education.value_counts().plot.barh();\n",
        "data.education.value_counts()"
      ],
      "execution_count": null,
      "outputs": []
    },
    {
      "cell_type": "code",
      "metadata": {
        "colab": {
          "base_uri": "https://localhost:8080/"
        },
        "id": "_iVF8geOQlfG",
        "outputId": "0f71f444-a9a9-4db6-dc8b-1d5be0c0ae7d"
      },
      "source": [
        "# data.car_type.unique()\n",
        "data.info()"
      ],
      "execution_count": 93,
      "outputs": [
        {
          "output_type": "stream",
          "name": "stdout",
          "text": [
            "<class 'pandas.core.frame.DataFrame'>\n",
            "RangeIndex: 73799 entries, 0 to 73798\n",
            "Data columns (total 14 columns):\n",
            " #   Column            Non-Null Count  Dtype \n",
            "---  ------            --------------  ----- \n",
            " 0   client_id         73799 non-null  int64 \n",
            " 1   education         73492 non-null  object\n",
            " 2   sex               73799 non-null  object\n",
            " 3   age               73799 non-null  int64 \n",
            " 4   car               73799 non-null  object\n",
            " 5   car_type          73799 non-null  object\n",
            " 6   decline_app_cnt   73799 non-null  int64 \n",
            " 7   good_work         73799 non-null  int64 \n",
            " 8   bki_request_cnt   73799 non-null  int64 \n",
            " 9   home_address      73799 non-null  int64 \n",
            " 10  work_address      73799 non-null  int64 \n",
            " 11  income            73799 non-null  int64 \n",
            " 12  foreign_passport  73799 non-null  object\n",
            " 13  default           73799 non-null  int64 \n",
            "dtypes: int64(9), object(5)\n",
            "memory usage: 7.9+ MB\n"
          ]
        }
      ]
    }
  ]
}