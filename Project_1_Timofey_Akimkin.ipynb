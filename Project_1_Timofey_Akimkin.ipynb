{
  "nbformat": 4,
  "nbformat_minor": 0,
  "metadata": {
    "colab": {
      "name": "Project 1 Timofey Akimkin.ipynb",
      "provenance": [],
      "include_colab_link": true
    },
    "kernelspec": {
      "display_name": "Python 3",
      "language": "python",
      "name": "python3"
    },
    "language_info": {
      "codemirror_mode": {
        "name": "ipython",
        "version": 3
      },
      "file_extension": ".py",
      "mimetype": "text/x-python",
      "name": "python",
      "nbconvert_exporter": "python",
      "pygments_lexer": "ipython3",
      "version": "3.7.4"
    }
  },
  "cells": [
    {
      "cell_type": "markdown",
      "metadata": {
        "id": "view-in-github",
        "colab_type": "text"
      },
      "source": [
        "<a href=\"https://colab.research.google.com/github/akitim/SkillFactory_projects/blob/main/Project_1_Timofey_Akimkin.ipynb\" target=\"_parent\"><img src=\"https://colab.research.google.com/assets/colab-badge.svg\" alt=\"Open In Colab\"/></a>"
      ]
    },
    {
      "cell_type": "code",
      "metadata": {
        "_cell_guid": "b1076dfc-b9ad-4769-8c92-a6c4dae69d19",
        "_uuid": "8f2839f25d086af736a60e9eeb907d3b93b6e0e5",
        "id": "U2D2gTdJVp90",
        "colab": {
          "base_uri": "https://localhost:8080/"
        },
        "outputId": "f247a5b5-0ed1-4ab1-d8b8-599017c89b74"
      },
      "source": [
        "import numpy as np\n",
        "import pandas as pd\n",
        "import datetime as dt\n",
        "# import seaborn as sns\n",
        "# import matplotlib.pyplot as plt\n",
        "# from collections import Counter\n",
        "\n",
        "import sys\n",
        "from google.colab import drive\n",
        "drive.mount('/content/gdrive', force_remount=True)\n",
        "sys.path.clear\n",
        "sys.path.append('/content/gdrive/MyDrive/SkillFactory')"
      ],
      "execution_count": 2,
      "outputs": [
        {
          "output_type": "stream",
          "text": [
            "Mounted at /content/gdrive\n"
          ],
          "name": "stdout"
        }
      ]
    },
    {
      "cell_type": "code",
      "metadata": {
        "_cell_guid": "79c7e3d0-c299-4dcb-8224-4455121ee9b0",
        "_uuid": "d629ff2d2480ee46fbb7e2d37f6b5fab8052498a",
        "id": "oyGfxL3eVp9-",
        "colab": {
          "base_uri": "https://localhost:8080/",
          "height": 222
        },
        "outputId": "5c32878b-3528-48df-a355-06f63d582da4"
      },
      "source": [
        "data = pd.read_csv('/content/gdrive/MyDrive/SkillFactory/movie_bd_v5.csv')\n",
        "data.sample(1)"
      ],
      "execution_count": 14,
      "outputs": [
        {
          "output_type": "execute_result",
          "data": {
            "text/html": [
              "<div>\n",
              "<style scoped>\n",
              "    .dataframe tbody tr th:only-of-type {\n",
              "        vertical-align: middle;\n",
              "    }\n",
              "\n",
              "    .dataframe tbody tr th {\n",
              "        vertical-align: top;\n",
              "    }\n",
              "\n",
              "    .dataframe thead th {\n",
              "        text-align: right;\n",
              "    }\n",
              "</style>\n",
              "<table border=\"1\" class=\"dataframe\">\n",
              "  <thead>\n",
              "    <tr style=\"text-align: right;\">\n",
              "      <th></th>\n",
              "      <th>imdb_id</th>\n",
              "      <th>budget</th>\n",
              "      <th>revenue</th>\n",
              "      <th>original_title</th>\n",
              "      <th>cast</th>\n",
              "      <th>director</th>\n",
              "      <th>tagline</th>\n",
              "      <th>overview</th>\n",
              "      <th>runtime</th>\n",
              "      <th>genres</th>\n",
              "      <th>production_companies</th>\n",
              "      <th>release_date</th>\n",
              "      <th>vote_average</th>\n",
              "      <th>release_year</th>\n",
              "    </tr>\n",
              "  </thead>\n",
              "  <tbody>\n",
              "    <tr>\n",
              "      <th>1623</th>\n",
              "      <td>tt0375173</td>\n",
              "      <td>60000000</td>\n",
              "      <td>13395939</td>\n",
              "      <td>Alfie</td>\n",
              "      <td>Jude Law|Marisa Tomei|Omar Epps|Jane Krakowski...</td>\n",
              "      <td>Charles Shyer</td>\n",
              "      <td>Meet a man who never met a woman he didn't love.</td>\n",
              "      <td>In Manhattan, the British limousine driver Alf...</td>\n",
              "      <td>103</td>\n",
              "      <td>Comedy</td>\n",
              "      <td>Paramount Pictures|Patalex Productions</td>\n",
              "      <td>10/22/2004</td>\n",
              "      <td>5.4</td>\n",
              "      <td>2004</td>\n",
              "    </tr>\n",
              "  </tbody>\n",
              "</table>\n",
              "</div>"
            ],
            "text/plain": [
              "        imdb_id    budget   revenue  ... release_date vote_average release_year\n",
              "1623  tt0375173  60000000  13395939  ...   10/22/2004          5.4         2004\n",
              "\n",
              "[1 rows x 14 columns]"
            ]
          },
          "metadata": {
            "tags": []
          },
          "execution_count": 14
        }
      ]
    },
    {
      "cell_type": "code",
      "metadata": {
        "id": "CoYUnagMVp-C"
      },
      "source": [
        "# data.describe()"
      ],
      "execution_count": 10,
      "outputs": []
    },
    {
      "cell_type": "markdown",
      "metadata": {
        "id": "DTIt7ezGVp-G"
      },
      "source": [
        "# Предобработка"
      ]
    },
    {
      "cell_type": "code",
      "metadata": {
        "id": "jNb40DwKVp-H",
        "colab": {
          "base_uri": "https://localhost:8080/"
        },
        "outputId": "564b2fae-c4cf-4159-d5cd-8f1bb8e7c5fc"
      },
      "source": [
        "answers = {} # создадим словарь для ответов\n",
        "\n",
        "\n",
        "# тут другие ваши предобработки колонок например:\n",
        "# data.release_date = data.release_date.apply(dt.strptime)\n",
        "# data.sample(3)\n",
        "print(dt.datetime.strptime('10/12/2021','%d/%m/%Y'))\n",
        "#the time given in the dataset is in string format.\n",
        "#So we need to change this in datetime format\n",
        "# ..."
      ],
      "execution_count": 11,
      "outputs": [
        {
          "output_type": "stream",
          "text": [
            "2021-12-10 00:00:00\n"
          ],
          "name": "stdout"
        }
      ]
    },
    {
      "cell_type": "markdown",
      "metadata": {
        "id": "YxZaH-nPVp-L"
      },
      "source": [
        "# 1. У какого фильма из списка самый большой бюджет?"
      ]
    },
    {
      "cell_type": "markdown",
      "metadata": {
        "id": "Nd-G5gX6Vp-M"
      },
      "source": [
        "Использовать варианты ответов в коде решения запрещено.    \n",
        "Вы думаете и в жизни у вас будут варианты ответов?)"
      ]
    },
    {
      "cell_type": "code",
      "metadata": {
        "id": "uVnXAY5RVp-O"
      },
      "source": [
        "# в словарь вставляем номер вопроса и ваш ответ на него\n",
        "# Пример: \n",
        "answers['1'] = '2. Spider-Man 3 (tt0413300)'\n",
        "\n",
        "# запишите свой вариант ответа\n",
        "answers['1'] = '...'\n",
        "# если ответили верно, можете добавить комментарий со значком \"+\""
      ],
      "execution_count": null,
      "outputs": []
    },
    {
      "cell_type": "code",
      "metadata": {
        "id": "dZwb3m28Vp-S"
      },
      "source": [
        "# тут пишем ваш код для решения данного вопроса:\n"
      ],
      "execution_count": null,
      "outputs": []
    },
    {
      "cell_type": "markdown",
      "metadata": {
        "id": "K7L3nbRXVp-X"
      },
      "source": [
        "ВАРИАНТ 2"
      ]
    },
    {
      "cell_type": "code",
      "metadata": {
        "id": "OGaoQI7rVp-X"
      },
      "source": [
        "# можно добавлять разные варианты решения"
      ],
      "execution_count": null,
      "outputs": []
    },
    {
      "cell_type": "markdown",
      "metadata": {
        "id": "FNRbbI3vVp-c"
      },
      "source": [
        "# 2. Какой из фильмов самый длительный (в минутах)?"
      ]
    },
    {
      "cell_type": "code",
      "metadata": {
        "id": "vHAoEXNTVp-d"
      },
      "source": [
        "# думаю логику работы с этим словарем вы уже поняли, \n",
        "# по этому не буду больше его дублировать\n",
        "answers['2'] = '...'"
      ],
      "execution_count": null,
      "outputs": []
    },
    {
      "cell_type": "code",
      "metadata": {
        "id": "ot-VX2XrVp-g"
      },
      "source": [
        ""
      ],
      "execution_count": null,
      "outputs": []
    },
    {
      "cell_type": "markdown",
      "metadata": {
        "id": "bapLlpW8Vp-k"
      },
      "source": [
        "# 3. Какой из фильмов самый короткий (в минутах)?\n",
        "\n",
        "\n",
        "\n"
      ]
    },
    {
      "cell_type": "code",
      "metadata": {
        "id": "YBxaSHuAVp-l"
      },
      "source": [
        ""
      ],
      "execution_count": null,
      "outputs": []
    },
    {
      "cell_type": "markdown",
      "metadata": {
        "id": "TfQbxbfNVp-p"
      },
      "source": [
        "# 4. Какова средняя длительность фильмов?\n"
      ]
    },
    {
      "cell_type": "code",
      "metadata": {
        "id": "5K6dKZYVVp-q"
      },
      "source": [
        ""
      ],
      "execution_count": null,
      "outputs": []
    },
    {
      "cell_type": "markdown",
      "metadata": {
        "id": "r5TvbnT_Vp-u"
      },
      "source": [
        "# 5. Каково медианное значение длительности фильмов? "
      ]
    },
    {
      "cell_type": "code",
      "metadata": {
        "id": "iBROplKnVp-v"
      },
      "source": [
        ""
      ],
      "execution_count": null,
      "outputs": []
    },
    {
      "cell_type": "markdown",
      "metadata": {
        "id": "39P-deDSVp-y"
      },
      "source": [
        "# 6. Какой самый прибыльный фильм?\n",
        "#### Внимание! Здесь и далее под «прибылью» или «убытками» понимается разность между сборами и бюджетом фильма. (прибыль = сборы - бюджет) в нашем датасете это будет (profit = revenue - budget) "
      ]
    },
    {
      "cell_type": "code",
      "metadata": {
        "id": "UYZh4T9WVp-y"
      },
      "source": [
        "# лучше код получения столбца profit вынести в Предобработку что в начале"
      ],
      "execution_count": null,
      "outputs": []
    },
    {
      "cell_type": "markdown",
      "metadata": {
        "id": "M99JmIX4Vp-2"
      },
      "source": [
        "# 7. Какой фильм самый убыточный? "
      ]
    },
    {
      "cell_type": "code",
      "metadata": {
        "id": "w-D2m4XPVp-3"
      },
      "source": [
        ""
      ],
      "execution_count": null,
      "outputs": []
    },
    {
      "cell_type": "markdown",
      "metadata": {
        "id": "wEOM5ERVVp-6"
      },
      "source": [
        "# 8. У скольких фильмов из датасета объем сборов оказался выше бюджета?"
      ]
    },
    {
      "cell_type": "code",
      "metadata": {
        "id": "y00_7HD6Vp-7"
      },
      "source": [
        ""
      ],
      "execution_count": null,
      "outputs": []
    },
    {
      "cell_type": "markdown",
      "metadata": {
        "id": "xhpspA9KVp_A"
      },
      "source": [
        "# 9. Какой фильм оказался самым кассовым в 2008 году?"
      ]
    },
    {
      "cell_type": "code",
      "metadata": {
        "id": "MoUyQr9RVp_B"
      },
      "source": [
        ""
      ],
      "execution_count": null,
      "outputs": []
    },
    {
      "cell_type": "markdown",
      "metadata": {
        "id": "Zi4hDKidVp_F"
      },
      "source": [
        "# 10. Самый убыточный фильм за период с 2012 по 2014 г. (включительно)?\n"
      ]
    },
    {
      "cell_type": "code",
      "metadata": {
        "id": "XqyRmufJVp_F"
      },
      "source": [
        ""
      ],
      "execution_count": null,
      "outputs": []
    },
    {
      "cell_type": "markdown",
      "metadata": {
        "id": "EA7Sa9dkVp_I"
      },
      "source": [
        "# 11. Какого жанра фильмов больше всего?"
      ]
    },
    {
      "cell_type": "code",
      "metadata": {
        "id": "zsJAwJ8QVp_J"
      },
      "source": [
        "# эту задачу тоже можно решать разными подходами, попробуй реализовать разные варианты\n",
        "# если будешь добавлять функцию - выноси ее в предобработку что в начале"
      ],
      "execution_count": null,
      "outputs": []
    },
    {
      "cell_type": "markdown",
      "metadata": {
        "id": "Ax6g2C8SVp_M"
      },
      "source": [
        "ВАРИАНТ 2"
      ]
    },
    {
      "cell_type": "code",
      "metadata": {
        "id": "otO3SbrSVp_N"
      },
      "source": [
        ""
      ],
      "execution_count": null,
      "outputs": []
    },
    {
      "cell_type": "markdown",
      "metadata": {
        "id": "T9_bPWpkVp_Q"
      },
      "source": [
        "# 12. Фильмы какого жанра чаще всего становятся прибыльными? "
      ]
    },
    {
      "cell_type": "code",
      "metadata": {
        "id": "Tmt8MaK1Vp_R"
      },
      "source": [
        ""
      ],
      "execution_count": null,
      "outputs": []
    },
    {
      "cell_type": "markdown",
      "metadata": {
        "id": "0F23bgsDVp_U"
      },
      "source": [
        "# 13. У какого режиссера самые большие суммарные кассовые сборы?"
      ]
    },
    {
      "cell_type": "code",
      "metadata": {
        "id": "K6Z3J8ygVp_X"
      },
      "source": [
        ""
      ],
      "execution_count": null,
      "outputs": []
    },
    {
      "cell_type": "markdown",
      "metadata": {
        "id": "PsYC9FgRVp_a"
      },
      "source": [
        "# 14. Какой режисер снял больше всего фильмов в стиле Action?"
      ]
    },
    {
      "cell_type": "code",
      "metadata": {
        "id": "wd2M-wHeVp_b"
      },
      "source": [
        ""
      ],
      "execution_count": null,
      "outputs": []
    },
    {
      "cell_type": "markdown",
      "metadata": {
        "id": "PQ0KciD7Vp_f"
      },
      "source": [
        "# 15. Фильмы с каким актером принесли самые высокие кассовые сборы в 2012 году? "
      ]
    },
    {
      "cell_type": "code",
      "metadata": {
        "id": "aga62oeKVp_g"
      },
      "source": [
        ""
      ],
      "execution_count": null,
      "outputs": []
    },
    {
      "cell_type": "markdown",
      "metadata": {
        "id": "mWHyyL7QVp_j"
      },
      "source": [
        "# 16. Какой актер снялся в большем количестве высокобюджетных фильмов?"
      ]
    },
    {
      "cell_type": "code",
      "metadata": {
        "id": "qQtmHKTFVp_k"
      },
      "source": [
        ""
      ],
      "execution_count": null,
      "outputs": []
    },
    {
      "cell_type": "markdown",
      "metadata": {
        "id": "NIh6AaW5Vp_n"
      },
      "source": [
        "# 17. В фильмах какого жанра больше всего снимался Nicolas Cage? "
      ]
    },
    {
      "cell_type": "code",
      "metadata": {
        "id": "H74SJDIBVp_n"
      },
      "source": [
        ""
      ],
      "execution_count": null,
      "outputs": []
    },
    {
      "cell_type": "markdown",
      "metadata": {
        "id": "RqOmPRfWVp_q"
      },
      "source": [
        "# 18. Самый убыточный фильм от Paramount Pictures"
      ]
    },
    {
      "cell_type": "code",
      "metadata": {
        "id": "9E_B0Y96Vp_r"
      },
      "source": [
        ""
      ],
      "execution_count": null,
      "outputs": []
    },
    {
      "cell_type": "markdown",
      "metadata": {
        "id": "vS8Ur6ddVp_u"
      },
      "source": [
        "# 19. Какой год стал самым успешным по суммарным кассовым сборам?"
      ]
    },
    {
      "cell_type": "code",
      "metadata": {
        "id": "Dnbt4GdIVp_v"
      },
      "source": [
        ""
      ],
      "execution_count": null,
      "outputs": []
    },
    {
      "cell_type": "markdown",
      "metadata": {
        "id": "JAzJh4QAVp_z"
      },
      "source": [
        "# 20. Какой самый прибыльный год для студии Warner Bros?"
      ]
    },
    {
      "cell_type": "code",
      "metadata": {
        "id": "wgVu02DEVp_0"
      },
      "source": [
        ""
      ],
      "execution_count": null,
      "outputs": []
    },
    {
      "cell_type": "markdown",
      "metadata": {
        "id": "8Im1S2HRVp_4"
      },
      "source": [
        "# 21. В каком месяце за все годы суммарно вышло больше всего фильмов?"
      ]
    },
    {
      "cell_type": "code",
      "metadata": {
        "id": "lev6TH7gVp_4"
      },
      "source": [
        ""
      ],
      "execution_count": null,
      "outputs": []
    },
    {
      "cell_type": "markdown",
      "metadata": {
        "id": "uAJsZ_NeVp_7"
      },
      "source": [
        "# 22. Сколько суммарно вышло фильмов летом? (за июнь, июль, август)"
      ]
    },
    {
      "cell_type": "code",
      "metadata": {
        "id": "Aa-hEREoVp_8"
      },
      "source": [
        ""
      ],
      "execution_count": null,
      "outputs": []
    },
    {
      "cell_type": "markdown",
      "metadata": {
        "id": "G94ppOY1VqAA"
      },
      "source": [
        "# 23. Для какого режиссера зима – самое продуктивное время года? "
      ]
    },
    {
      "cell_type": "code",
      "metadata": {
        "id": "RhNTsamuVqAB"
      },
      "source": [
        ""
      ],
      "execution_count": null,
      "outputs": []
    },
    {
      "cell_type": "markdown",
      "metadata": {
        "id": "RBo0JVjVVqAF"
      },
      "source": [
        "# 24. Какая студия дает самые длинные названия своим фильмам по количеству символов?"
      ]
    },
    {
      "cell_type": "code",
      "metadata": {
        "id": "QRGS8L0iVqAG"
      },
      "source": [
        ""
      ],
      "execution_count": null,
      "outputs": []
    },
    {
      "cell_type": "markdown",
      "metadata": {
        "id": "9G0hbvR7VqAK"
      },
      "source": [
        "# 25. Описание фильмов какой студии в среднем самые длинные по количеству слов?"
      ]
    },
    {
      "cell_type": "code",
      "metadata": {
        "id": "Ge2GsLNxVqAK"
      },
      "source": [
        ""
      ],
      "execution_count": null,
      "outputs": []
    },
    {
      "cell_type": "markdown",
      "metadata": {
        "id": "FJ1AFt90VqAP"
      },
      "source": [
        "# 26. Какие фильмы входят в 1 процент лучших по рейтингу? \n",
        "по vote_average"
      ]
    },
    {
      "cell_type": "code",
      "metadata": {
        "id": "8qmJVq4CVqAQ"
      },
      "source": [
        ""
      ],
      "execution_count": null,
      "outputs": []
    },
    {
      "cell_type": "markdown",
      "metadata": {
        "id": "MdXsUXbCVqAV"
      },
      "source": [
        "# 27. Какие актеры чаще всего снимаются в одном фильме вместе?\n"
      ]
    },
    {
      "cell_type": "markdown",
      "metadata": {
        "id": "4ymnxEVoVqAW"
      },
      "source": [
        "ВАРИАНТ 2"
      ]
    },
    {
      "cell_type": "markdown",
      "metadata": {
        "id": "U0nONFnGVqAX"
      },
      "source": [
        "# Submission"
      ]
    },
    {
      "cell_type": "code",
      "metadata": {
        "id": "IfcaRO9-VqAX",
        "outputId": "0f132912-32bb-4196-c98c-abfbc4ad5a5f"
      },
      "source": [
        "# в конце можно посмотреть свои ответы к каждому вопросу\n",
        "answers"
      ],
      "execution_count": null,
      "outputs": [
        {
          "output_type": "execute_result",
          "data": {
            "text/plain": [
              "{'1': '...', '2': '...'}"
            ]
          },
          "metadata": {
            "tags": []
          },
          "execution_count": 8
        }
      ]
    },
    {
      "cell_type": "code",
      "metadata": {
        "id": "SiRmHPl8VqAd"
      },
      "source": [
        "# и убедиться что ни чего не пропустил)\n",
        "len(answers)"
      ],
      "execution_count": null,
      "outputs": []
    },
    {
      "cell_type": "code",
      "metadata": {
        "id": "uCfuTkRbVqAg"
      },
      "source": [
        ""
      ],
      "execution_count": null,
      "outputs": []
    },
    {
      "cell_type": "code",
      "metadata": {
        "id": "Vwx3NrkSVqAl"
      },
      "source": [
        ""
      ],
      "execution_count": null,
      "outputs": []
    }
  ]
}