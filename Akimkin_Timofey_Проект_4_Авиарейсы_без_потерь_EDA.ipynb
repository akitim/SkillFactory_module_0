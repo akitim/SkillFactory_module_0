{
  "nbformat": 4,
  "nbformat_minor": 0,
  "metadata": {
    "colab": {
      "name": "Akimkin Timofey - Проект 4. Авиарейсы без потерь EDA.ipynb",
      "provenance": [],
      "include_colab_link": true
    },
    "kernelspec": {
      "name": "python3",
      "display_name": "Python 3"
    },
    "language_info": {
      "name": "python"
    }
  },
  "cells": [
    {
      "cell_type": "markdown",
      "metadata": {
        "id": "view-in-github",
        "colab_type": "text"
      },
      "source": [
        "<a href=\"https://colab.research.google.com/github/akitim/SkillFactory_projects/blob/main/Akimkin_Timofey_%D0%9F%D1%80%D0%BE%D0%B5%D0%BA%D1%82_4_%D0%90%D0%B2%D0%B8%D0%B0%D1%80%D0%B5%D0%B9%D1%81%D1%8B_%D0%B1%D0%B5%D0%B7_%D0%BF%D0%BE%D1%82%D0%B5%D1%80%D1%8C_EDA.ipynb\" target=\"_parent\"><img src=\"https://colab.research.google.com/assets/colab-badge.svg\" alt=\"Open In Colab\"/></a>"
      ]
    },
    {
      "cell_type": "markdown",
      "metadata": {
        "id": "xQMlua_S_WYQ"
      },
      "source": [
        "#Загрузка библиотек"
      ]
    },
    {
      "cell_type": "code",
      "metadata": {
        "id": "wbIfVEuS5B2c"
      },
      "source": [
        "import pandas as pd\n",
        "from datetime import datetime as dat\n",
        "#import matplotlib\n",
        "import matplotlib.pyplot as plt\n",
        "# import seaborn as sns\n",
        "import warnings; warnings.filterwarnings('ignore') #(action='once')\n",
        "# import missingno as msno\n",
        "# from itertools import combinations\n",
        "# from scipy.stats import ttest_ind\n",
        "# from scipy.stats import norm\n",
        " \n",
        "%matplotlib inline\n",
        " \n",
        "pd.set_option('display.max_rows', 50) # показывать больше строк\n",
        "pd.set_option('display.max_columns', 50) # показывать больше колонок\n",
        "pd.options.display.precision = 2\n",
        "# pd.options.display.float_format = '{:.2f}'.format"
      ],
      "execution_count": 16,
      "outputs": []
    },
    {
      "cell_type": "markdown",
      "metadata": {
        "id": "sah5yHPZ_NJA"
      },
      "source": [
        "#Загрузка датасета"
      ]
    },
    {
      "cell_type": "code",
      "metadata": {
        "colab": {
          "base_uri": "https://localhost:8080/",
          "height": 258
        },
        "id": "1ufFp-H324bv",
        "outputId": "1e50147c-6d6b-4f8a-aa05-5036303ed0c3"
      },
      "source": [
        "path = 'https://raw.githubusercontent.com/akitim/datasets/main/Project_4%20-%20Loseless%20flights.csv'\n",
        "data = pd.read_csv(path)\n",
        "\n",
        "data[['avg_speed', 'gain_per_flight', 'income_per_flight_eval1', 'income_per_flight_eval2']] =\\\n",
        "    data[['avg_speed', 'gain_per_flight', 'income_per_flight_eval1', 'income_per_flight_eval2']].\\\n",
        "        apply(lambda se: se.apply(lambda x: '%.0f' % x), axis=1)\n",
        "        \n",
        "data.scheduled_departure = data.scheduled_departure.apply(lambda t: dat.strptime(t, '%Y-%m-%dT%H:%M:%SZ'))\n",
        "\n",
        "data.drop(['flight_id', 'avg_speed'], axis=1, inplace=True)\n",
        "\n",
        "data.sample(5)"
      ],
      "execution_count": 23,
      "outputs": [
        {
          "output_type": "execute_result",
          "data": {
            "text/html": [
              "<div>\n",
              "<style scoped>\n",
              "    .dataframe tbody tr th:only-of-type {\n",
              "        vertical-align: middle;\n",
              "    }\n",
              "\n",
              "    .dataframe tbody tr th {\n",
              "        vertical-align: top;\n",
              "    }\n",
              "\n",
              "    .dataframe thead th {\n",
              "        text-align: right;\n",
              "    }\n",
              "</style>\n",
              "<table border=\"1\" class=\"dataframe\">\n",
              "  <thead>\n",
              "    <tr style=\"text-align: right;\">\n",
              "      <th></th>\n",
              "      <th>departure_city</th>\n",
              "      <th>arrival_city</th>\n",
              "      <th>scheduled_departure</th>\n",
              "      <th>flight_duration_in_hr</th>\n",
              "      <th>flight_distance</th>\n",
              "      <th>aircraft_model</th>\n",
              "      <th>seats_in_a_plane</th>\n",
              "      <th>seats_sold</th>\n",
              "      <th>gain_per_flight</th>\n",
              "      <th>income_per_flight_eval1</th>\n",
              "      <th>income_per_flight_eval2</th>\n",
              "    </tr>\n",
              "  </thead>\n",
              "  <tbody>\n",
              "    <tr>\n",
              "      <th>9</th>\n",
              "      <td>Анапа</td>\n",
              "      <td>Москва</td>\n",
              "      <td>2017-01-07 10:05:00</td>\n",
              "      <td>1.65</td>\n",
              "      <td>1208</td>\n",
              "      <td>Boeing 737-300</td>\n",
              "      <td>130</td>\n",
              "      <td>120</td>\n",
              "      <td>1738400</td>\n",
              "      <td>1582233</td>\n",
              "      <td>1574317</td>\n",
              "    </tr>\n",
              "    <tr>\n",
              "      <th>31</th>\n",
              "      <td>Анапа</td>\n",
              "      <td>Москва</td>\n",
              "      <td>2017-01-22 10:05:00</td>\n",
              "      <td>1.67</td>\n",
              "      <td>1208</td>\n",
              "      <td>Boeing 737-300</td>\n",
              "      <td>130</td>\n",
              "      <td>117</td>\n",
              "      <td>1654200</td>\n",
              "      <td>1501937</td>\n",
              "      <td>1488460</td>\n",
              "    </tr>\n",
              "    <tr>\n",
              "      <th>63</th>\n",
              "      <td>Анапа</td>\n",
              "      <td>Новокузнецк</td>\n",
              "      <td>2017-01-17 06:10:00</td>\n",
              "      <td>5.12</td>\n",
              "      <td>3661</td>\n",
              "      <td>Boeing 737-300</td>\n",
              "      <td>130</td>\n",
              "      <td>0</td>\n",
              "      <td>nan</td>\n",
              "      <td>nan</td>\n",
              "      <td>nan</td>\n",
              "    </tr>\n",
              "    <tr>\n",
              "      <th>111</th>\n",
              "      <td>Анапа</td>\n",
              "      <td>Белгород</td>\n",
              "      <td>2017-02-13 09:25:00</td>\n",
              "      <td>0.83</td>\n",
              "      <td>636</td>\n",
              "      <td>Sukhoi Superjet-100</td>\n",
              "      <td>97</td>\n",
              "      <td>97</td>\n",
              "      <td>765300</td>\n",
              "      <td>718938</td>\n",
              "      <td>702674</td>\n",
              "    </tr>\n",
              "    <tr>\n",
              "      <th>88</th>\n",
              "      <td>Анапа</td>\n",
              "      <td>Белгород</td>\n",
              "      <td>2017-01-15 09:25:00</td>\n",
              "      <td>0.83</td>\n",
              "      <td>636</td>\n",
              "      <td>Sukhoi Superjet-100</td>\n",
              "      <td>97</td>\n",
              "      <td>87</td>\n",
              "      <td>689700</td>\n",
              "      <td>646139</td>\n",
              "      <td>624095</td>\n",
              "    </tr>\n",
              "  </tbody>\n",
              "</table>\n",
              "</div>"
            ],
            "text/plain": [
              "    departure_city arrival_city scheduled_departure  flight_duration_in_hr  \\\n",
              "9            Анапа       Москва 2017-01-07 10:05:00                   1.65   \n",
              "31           Анапа       Москва 2017-01-22 10:05:00                   1.67   \n",
              "63           Анапа  Новокузнецк 2017-01-17 06:10:00                   5.12   \n",
              "111          Анапа     Белгород 2017-02-13 09:25:00                   0.83   \n",
              "88           Анапа     Белгород 2017-01-15 09:25:00                   0.83   \n",
              "\n",
              "     flight_distance       aircraft_model  seats_in_a_plane  seats_sold  \\\n",
              "9               1208       Boeing 737-300               130         120   \n",
              "31              1208       Boeing 737-300               130         117   \n",
              "63              3661       Boeing 737-300               130           0   \n",
              "111              636  Sukhoi Superjet-100                97          97   \n",
              "88               636  Sukhoi Superjet-100                97          87   \n",
              "\n",
              "    gain_per_flight income_per_flight_eval1 income_per_flight_eval2  \n",
              "9           1738400                 1582233                 1574317  \n",
              "31          1654200                 1501937                 1488460  \n",
              "63              nan                     nan                     nan  \n",
              "111          765300                  718938                  702674  \n",
              "88           689700                  646139                  624095  "
            ]
          },
          "metadata": {},
          "execution_count": 23
        }
      ]
    },
    {
      "cell_type": "code",
      "metadata": {
        "colab": {
          "base_uri": "https://localhost:8080/"
        },
        "id": "8vLJiq-I7arF",
        "outputId": "72af08be-d7ab-4edc-92b9-05e1609710ce"
      },
      "source": [
        "data.info()"
      ],
      "execution_count": 19,
      "outputs": [
        {
          "output_type": "stream",
          "name": "stdout",
          "text": [
            "<class 'pandas.core.frame.DataFrame'>\n",
            "RangeIndex: 127 entries, 0 to 126\n",
            "Data columns (total 12 columns):\n",
            " #   Column                   Non-Null Count  Dtype         \n",
            "---  ------                   --------------  -----         \n",
            " 0   departure_city           127 non-null    object        \n",
            " 1   arrival_city             127 non-null    object        \n",
            " 2   scheduled_departure      127 non-null    datetime64[ns]\n",
            " 3   flight_duration_in_hr    127 non-null    float64       \n",
            " 4   flight_distance          127 non-null    int64         \n",
            " 5   avg_speed                127 non-null    object        \n",
            " 6   aircraft_model           127 non-null    object        \n",
            " 7   seats_in_a_plane         127 non-null    int64         \n",
            " 8   seats_sold               127 non-null    int64         \n",
            " 9   gain_per_flight          127 non-null    object        \n",
            " 10  income_per_flight_eval1  127 non-null    object        \n",
            " 11  income_per_flight_eval2  127 non-null    object        \n",
            "dtypes: datetime64[ns](1), float64(1), int64(3), object(7)\n",
            "memory usage: 12.0+ KB\n"
          ]
        }
      ]
    },
    {
      "cell_type": "code",
      "metadata": {
        "id": "AUN0ZMgh_rUq"
      },
      "source": [
        "plt.figure(figsize = (20, 5))\n",
        "data.seats_sold.hist(bins=20);\n",
        "\n",
        "plt.show()\n",
        "plt.figure(figsize = (20, 5))\n",
        "data.avg_speed.hist(bins=10);\n"
      ],
      "execution_count": null,
      "outputs": []
    },
    {
      "cell_type": "markdown",
      "metadata": {
        "id": "pssSZAbCTIHw"
      },
      "source": [
        "###рейсы в Новокузнецк не относятся к отменненым, однако данных по количеству купленных билетов и соответственно по прибыли нет"
      ]
    },
    {
      "cell_type": "code",
      "metadata": {
        "colab": {
          "base_uri": "https://localhost:8080/"
        },
        "id": "DFtaJ9DORwbh",
        "outputId": "1055ea51-b386-4033-d350-8d088b2c77c6"
      },
      "source": [
        "data[(data.seats_sold != 0) & (data.arrival_city == 'Новокузнецк')].shape"
      ],
      "execution_count": 20,
      "outputs": [
        {
          "output_type": "execute_result",
          "data": {
            "text/plain": [
              "(0, 12)"
            ]
          },
          "metadata": {},
          "execution_count": 20
        }
      ]
    },
    {
      "cell_type": "code",
      "metadata": {
        "id": "mdTzir1f5mlS",
        "outputId": "a7011654-5013-4fe2-ba20-1f376b55b0fd",
        "colab": {
          "base_uri": "https://localhost:8080/",
          "height": 210
        }
      },
      "source": [
        "data.columns\n",
        "data.groupby(by=['arrival_[city', 'aircraft_model'])[]].count()"
      ],
      "execution_count": 24,
      "outputs": [
        {
          "output_type": "execute_result",
          "data": {
            "text/html": [
              "<div>\n",
              "<style scoped>\n",
              "    .dataframe tbody tr th:only-of-type {\n",
              "        vertical-align: middle;\n",
              "    }\n",
              "\n",
              "    .dataframe tbody tr th {\n",
              "        vertical-align: top;\n",
              "    }\n",
              "\n",
              "    .dataframe thead th {\n",
              "        text-align: right;\n",
              "    }\n",
              "</style>\n",
              "<table border=\"1\" class=\"dataframe\">\n",
              "  <thead>\n",
              "    <tr style=\"text-align: right;\">\n",
              "      <th></th>\n",
              "      <th></th>\n",
              "      <th>departure_city</th>\n",
              "      <th>scheduled_departure</th>\n",
              "      <th>flight_duration_in_hr</th>\n",
              "      <th>flight_distance</th>\n",
              "      <th>seats_in_a_plane</th>\n",
              "      <th>seats_sold</th>\n",
              "      <th>gain_per_flight</th>\n",
              "      <th>income_per_flight_eval1</th>\n",
              "      <th>income_per_flight_eval2</th>\n",
              "    </tr>\n",
              "    <tr>\n",
              "      <th>arrival_city</th>\n",
              "      <th>aircraft_model</th>\n",
              "      <th></th>\n",
              "      <th></th>\n",
              "      <th></th>\n",
              "      <th></th>\n",
              "      <th></th>\n",
              "      <th></th>\n",
              "      <th></th>\n",
              "      <th></th>\n",
              "      <th></th>\n",
              "    </tr>\n",
              "  </thead>\n",
              "  <tbody>\n",
              "    <tr>\n",
              "      <th>Белгород</th>\n",
              "      <th>Sukhoi Superjet-100</th>\n",
              "      <td>59</td>\n",
              "      <td>59</td>\n",
              "      <td>59</td>\n",
              "      <td>59</td>\n",
              "      <td>59</td>\n",
              "      <td>59</td>\n",
              "      <td>59</td>\n",
              "      <td>59</td>\n",
              "      <td>59</td>\n",
              "    </tr>\n",
              "    <tr>\n",
              "      <th>Москва</th>\n",
              "      <th>Boeing 737-300</th>\n",
              "      <td>59</td>\n",
              "      <td>59</td>\n",
              "      <td>59</td>\n",
              "      <td>59</td>\n",
              "      <td>59</td>\n",
              "      <td>59</td>\n",
              "      <td>59</td>\n",
              "      <td>59</td>\n",
              "      <td>59</td>\n",
              "    </tr>\n",
              "    <tr>\n",
              "      <th>Новокузнецк</th>\n",
              "      <th>Boeing 737-300</th>\n",
              "      <td>9</td>\n",
              "      <td>9</td>\n",
              "      <td>9</td>\n",
              "      <td>9</td>\n",
              "      <td>9</td>\n",
              "      <td>9</td>\n",
              "      <td>9</td>\n",
              "      <td>9</td>\n",
              "      <td>9</td>\n",
              "    </tr>\n",
              "  </tbody>\n",
              "</table>\n",
              "</div>"
            ],
            "text/plain": [
              "                                  departure_city  scheduled_departure  \\\n",
              "arrival_city aircraft_model                                             \n",
              "Белгород     Sukhoi Superjet-100              59                   59   \n",
              "Москва       Boeing 737-300                   59                   59   \n",
              "Новокузнецк  Boeing 737-300                    9                    9   \n",
              "\n",
              "                                  flight_duration_in_hr  flight_distance  \\\n",
              "arrival_city aircraft_model                                                \n",
              "Белгород     Sukhoi Superjet-100                     59               59   \n",
              "Москва       Boeing 737-300                          59               59   \n",
              "Новокузнецк  Boeing 737-300                           9                9   \n",
              "\n",
              "                                  seats_in_a_plane  seats_sold  \\\n",
              "arrival_city aircraft_model                                      \n",
              "Белгород     Sukhoi Superjet-100                59          59   \n",
              "Москва       Boeing 737-300                     59          59   \n",
              "Новокузнецк  Boeing 737-300                      9           9   \n",
              "\n",
              "                                  gain_per_flight  income_per_flight_eval1  \\\n",
              "arrival_city aircraft_model                                                  \n",
              "Белгород     Sukhoi Superjet-100               59                       59   \n",
              "Москва       Boeing 737-300                    59                       59   \n",
              "Новокузнецк  Boeing 737-300                     9                        9   \n",
              "\n",
              "                                  income_per_flight_eval2  \n",
              "arrival_city aircraft_model                                \n",
              "Белгород     Sukhoi Superjet-100                       59  \n",
              "Москва       Boeing 737-300                            59  \n",
              "Новокузнецк  Boeing 737-300                             9  "
            ]
          },
          "metadata": {},
          "execution_count": 24
        }
      ]
    }
  ]
}