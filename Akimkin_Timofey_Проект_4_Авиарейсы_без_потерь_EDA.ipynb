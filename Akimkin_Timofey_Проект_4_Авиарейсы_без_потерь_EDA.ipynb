{
  "nbformat": 4,
  "nbformat_minor": 0,
  "metadata": {
    "colab": {
      "name": "Akimkin Timofey - Проект 4. Авиарейсы без потерь EDA.ipynb",
      "provenance": [],
      "authorship_tag": "ABX9TyPHN6TXJf0N8JqfYGV/P7cq",
      "include_colab_link": true
    },
    "kernelspec": {
      "name": "python3",
      "display_name": "Python 3"
    },
    "language_info": {
      "name": "python"
    }
  },
  "cells": [
    {
      "cell_type": "markdown",
      "metadata": {
        "id": "view-in-github",
        "colab_type": "text"
      },
      "source": [
        "<a href=\"https://colab.research.google.com/github/akitim/SkillFactory_projects/blob/main/Akimkin_Timofey_%D0%9F%D1%80%D0%BE%D0%B5%D0%BA%D1%82_4_%D0%90%D0%B2%D0%B8%D0%B0%D1%80%D0%B5%D0%B9%D1%81%D1%8B_%D0%B1%D0%B5%D0%B7_%D0%BF%D0%BE%D1%82%D0%B5%D1%80%D1%8C_EDA.ipynb\" target=\"_parent\"><img src=\"https://colab.research.google.com/assets/colab-badge.svg\" alt=\"Open In Colab\"/></a>"
      ]
    },
    {
      "cell_type": "code",
      "metadata": {
        "id": "wbIfVEuS5B2c"
      },
      "source": [
        "import pandas as pd\n",
        "#import matplotlib\n",
        "# import matplotlib.pyplot as plt\n",
        "# import seaborn as sns\n",
        "import warnings; warnings.filterwarnings('ignore') #(action='once')\n",
        "# import missingno as msno\n",
        "# from itertools import combinations\n",
        "# from scipy.stats import ttest_ind\n",
        "# from scipy.stats import norm\n",
        " \n",
        "%matplotlib inline\n",
        " \n",
        "pd.set_option('display.max_rows', 50) # показывать больше строк\n",
        "pd.set_option('display.max_columns', 50) # показывать больше колонок\n",
        "pd.options.display.precision = 2\n",
        "# pd.options.display.float_format = '{:.2f}'.format"
      ],
      "execution_count": 36,
      "outputs": []
    },
    {
      "cell_type": "code",
      "metadata": {
        "colab": {
          "base_uri": "https://localhost:8080/",
          "height": 295
        },
        "id": "1ufFp-H324bv",
        "outputId": "1c5da103-ffb4-4300-edc6-b12e69ebf3eb"
      },
      "source": [
        "path = 'https://raw.githubusercontent.com/akitim/datasets/main/Project_4%20-%20Loseless%20flights.csv'\n",
        "data = pd.read_csv(path)\n",
        "\n",
        "data[['avg_speed', 'gain_per_flight', 'income_per_flight_eval1', 'income_per_flight_eval2']] =\\\n",
        "    data[['avg_speed', 'gain_per_flight', 'income_per_flight_eval1', 'income_per_flight_eval2']].apply(lambda se: se.apply(lambda x: '%.0f' % x), axis=1)\n",
        "\n",
        "data.sample(5)"
      ],
      "execution_count": 37,
      "outputs": [
        {
          "output_type": "execute_result",
          "data": {
            "text/html": [
              "<div>\n",
              "<style scoped>\n",
              "    .dataframe tbody tr th:only-of-type {\n",
              "        vertical-align: middle;\n",
              "    }\n",
              "\n",
              "    .dataframe tbody tr th {\n",
              "        vertical-align: top;\n",
              "    }\n",
              "\n",
              "    .dataframe thead th {\n",
              "        text-align: right;\n",
              "    }\n",
              "</style>\n",
              "<table border=\"1\" class=\"dataframe\">\n",
              "  <thead>\n",
              "    <tr style=\"text-align: right;\">\n",
              "      <th></th>\n",
              "      <th>flight_id</th>\n",
              "      <th>departure_city</th>\n",
              "      <th>arrival_city</th>\n",
              "      <th>scheduled_departure</th>\n",
              "      <th>flight_duration_in_hr</th>\n",
              "      <th>flight_distance</th>\n",
              "      <th>avg_speed</th>\n",
              "      <th>aircraft_model</th>\n",
              "      <th>seats_in_a_plane</th>\n",
              "      <th>seats_sold</th>\n",
              "      <th>gain_per_flight</th>\n",
              "      <th>income_per_flight_eval1</th>\n",
              "      <th>income_per_flight_eval2</th>\n",
              "    </tr>\n",
              "  </thead>\n",
              "  <tbody>\n",
              "    <tr>\n",
              "      <th>126</th>\n",
              "      <td>136956</td>\n",
              "      <td>Анапа</td>\n",
              "      <td>Белгород</td>\n",
              "      <td>2017-02-04T09:25:00Z</td>\n",
              "      <td>0.83</td>\n",
              "      <td>636</td>\n",
              "      <td>763</td>\n",
              "      <td>Sukhoi Superjet-100</td>\n",
              "      <td>97</td>\n",
              "      <td>96</td>\n",
              "      <td>746400</td>\n",
              "      <td>700516</td>\n",
              "      <td>683774</td>\n",
              "    </tr>\n",
              "    <tr>\n",
              "      <th>46</th>\n",
              "      <td>136423</td>\n",
              "      <td>Анапа</td>\n",
              "      <td>Москва</td>\n",
              "      <td>2017-01-10T10:05:00Z</td>\n",
              "      <td>1.67</td>\n",
              "      <td>1208</td>\n",
              "      <td>725</td>\n",
              "      <td>Boeing 737-300</td>\n",
              "      <td>130</td>\n",
              "      <td>129</td>\n",
              "      <td>1849400</td>\n",
              "      <td>1681521</td>\n",
              "      <td>1683660</td>\n",
              "    </tr>\n",
              "    <tr>\n",
              "      <th>94</th>\n",
              "      <td>136757</td>\n",
              "      <td>Анапа</td>\n",
              "      <td>Белгород</td>\n",
              "      <td>2017-01-27T09:25:00Z</td>\n",
              "      <td>0.82</td>\n",
              "      <td>636</td>\n",
              "      <td>779</td>\n",
              "      <td>Sukhoi Superjet-100</td>\n",
              "      <td>97</td>\n",
              "      <td>97</td>\n",
              "      <td>765300</td>\n",
              "      <td>716732</td>\n",
              "      <td>701007</td>\n",
              "    </tr>\n",
              "    <tr>\n",
              "      <th>87</th>\n",
              "      <td>136706</td>\n",
              "      <td>Анапа</td>\n",
              "      <td>Белгород</td>\n",
              "      <td>2017-01-06T09:25:00Z</td>\n",
              "      <td>0.83</td>\n",
              "      <td>636</td>\n",
              "      <td>763</td>\n",
              "      <td>Sukhoi Superjet-100</td>\n",
              "      <td>97</td>\n",
              "      <td>95</td>\n",
              "      <td>740100</td>\n",
              "      <td>692533</td>\n",
              "      <td>674495</td>\n",
              "    </tr>\n",
              "    <tr>\n",
              "      <th>88</th>\n",
              "      <td>136709</td>\n",
              "      <td>Анапа</td>\n",
              "      <td>Белгород</td>\n",
              "      <td>2017-01-15T09:25:00Z</td>\n",
              "      <td>0.83</td>\n",
              "      <td>636</td>\n",
              "      <td>763</td>\n",
              "      <td>Sukhoi Superjet-100</td>\n",
              "      <td>97</td>\n",
              "      <td>87</td>\n",
              "      <td>689700</td>\n",
              "      <td>646139</td>\n",
              "      <td>624095</td>\n",
              "    </tr>\n",
              "  </tbody>\n",
              "</table>\n",
              "</div>"
            ],
            "text/plain": [
              "     flight_id departure_city arrival_city   scheduled_departure  \\\n",
              "126     136956          Анапа     Белгород  2017-02-04T09:25:00Z   \n",
              "46      136423          Анапа       Москва  2017-01-10T10:05:00Z   \n",
              "94      136757          Анапа     Белгород  2017-01-27T09:25:00Z   \n",
              "87      136706          Анапа     Белгород  2017-01-06T09:25:00Z   \n",
              "88      136709          Анапа     Белгород  2017-01-15T09:25:00Z   \n",
              "\n",
              "     flight_duration_in_hr  flight_distance avg_speed       aircraft_model  \\\n",
              "126                   0.83              636       763  Sukhoi Superjet-100   \n",
              "46                    1.67             1208       725       Boeing 737-300   \n",
              "94                    0.82              636       779  Sukhoi Superjet-100   \n",
              "87                    0.83              636       763  Sukhoi Superjet-100   \n",
              "88                    0.83              636       763  Sukhoi Superjet-100   \n",
              "\n",
              "     seats_in_a_plane  seats_sold gain_per_flight income_per_flight_eval1  \\\n",
              "126                97          96          746400                  700516   \n",
              "46                130         129         1849400                 1681521   \n",
              "94                 97          97          765300                  716732   \n",
              "87                 97          95          740100                  692533   \n",
              "88                 97          87          689700                  646139   \n",
              "\n",
              "    income_per_flight_eval2  \n",
              "126                  683774  \n",
              "46                  1683660  \n",
              "94                   701007  \n",
              "87                   674495  \n",
              "88                   624095  "
            ]
          },
          "metadata": {},
          "execution_count": 37
        }
      ]
    },
    {
      "cell_type": "code",
      "metadata": {
        "colab": {
          "base_uri": "https://localhost:8080/"
        },
        "id": "8vLJiq-I7arF",
        "outputId": "327ea9e8-c88b-42d3-ab41-b393af2b1235"
      },
      "source": [
        "data.info()"
      ],
      "execution_count": 38,
      "outputs": [
        {
          "output_type": "stream",
          "name": "stdout",
          "text": [
            "<class 'pandas.core.frame.DataFrame'>\n",
            "RangeIndex: 127 entries, 0 to 126\n",
            "Data columns (total 13 columns):\n",
            " #   Column                   Non-Null Count  Dtype  \n",
            "---  ------                   --------------  -----  \n",
            " 0   flight_id                127 non-null    int64  \n",
            " 1   departure_city           127 non-null    object \n",
            " 2   arrival_city             127 non-null    object \n",
            " 3   scheduled_departure      127 non-null    object \n",
            " 4   flight_duration_in_hr    127 non-null    float64\n",
            " 5   flight_distance          127 non-null    int64  \n",
            " 6   avg_speed                127 non-null    object \n",
            " 7   aircraft_model           127 non-null    object \n",
            " 8   seats_in_a_plane         127 non-null    int64  \n",
            " 9   seats_sold               127 non-null    int64  \n",
            " 10  gain_per_flight          127 non-null    object \n",
            " 11  income_per_flight_eval1  127 non-null    object \n",
            " 12  income_per_flight_eval2  127 non-null    object \n",
            "dtypes: float64(1), int64(4), object(8)\n",
            "memory usage: 13.0+ KB\n"
          ]
        }
      ]
    }
  ]
}