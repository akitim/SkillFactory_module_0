{
  "nbformat": 4,
  "nbformat_minor": 0,
  "metadata": {
    "colab": {
      "name": "Akimkin Timofey - Проект 4. Авиарейсы без потерь EDA.ipynb",
      "provenance": [],
      "authorship_tag": "ABX9TyNbbWJ6aTYPLpTsZs7S11ju",
      "include_colab_link": true
    },
    "kernelspec": {
      "name": "python3",
      "display_name": "Python 3"
    },
    "language_info": {
      "name": "python"
    }
  },
  "cells": [
    {
      "cell_type": "markdown",
      "metadata": {
        "id": "view-in-github",
        "colab_type": "text"
      },
      "source": [
        "<a href=\"https://colab.research.google.com/github/akitim/SkillFactory_projects/blob/main/Akimkin_Timofey_%D0%9F%D1%80%D0%BE%D0%B5%D0%BA%D1%82_4_%D0%90%D0%B2%D0%B8%D0%B0%D1%80%D0%B5%D0%B9%D1%81%D1%8B_%D0%B1%D0%B5%D0%B7_%D0%BF%D0%BE%D1%82%D0%B5%D1%80%D1%8C_EDA.ipynb\" target=\"_parent\"><img src=\"https://colab.research.google.com/assets/colab-badge.svg\" alt=\"Open In Colab\"/></a>"
      ]
    },
    {
      "cell_type": "markdown",
      "metadata": {
        "id": "xQMlua_S_WYQ"
      },
      "source": [
        "#Загрузка библиотек"
      ]
    },
    {
      "cell_type": "code",
      "metadata": {
        "id": "wbIfVEuS5B2c"
      },
      "source": [
        "import pandas as pd\n",
        "from datetime import datetime as dat\n",
        "#import matplotlib\n",
        "import matplotlib.pyplot as plt\n",
        "# import seaborn as sns\n",
        "import warnings; warnings.filterwarnings('ignore') #(action='once')\n",
        "# import missingno as msno\n",
        "# from itertools import combinations\n",
        "# from scipy.stats import ttest_ind\n",
        "# from scipy.stats import norm\n",
        " \n",
        "%matplotlib inline\n",
        " \n",
        "pd.set_option('display.max_rows', 50) # показывать больше строк\n",
        "pd.set_option('display.max_columns', 50) # показывать больше колонок\n",
        "pd.options.display.precision = 2\n",
        "# pd.options.display.float_format = '{:.2f}'.format"
      ],
      "execution_count": 61,
      "outputs": []
    },
    {
      "cell_type": "markdown",
      "metadata": {
        "id": "sah5yHPZ_NJA"
      },
      "source": [
        "#Загрузка датасета"
      ]
    },
    {
      "cell_type": "code",
      "metadata": {
        "colab": {
          "base_uri": "https://localhost:8080/",
          "height": 261
        },
        "id": "1ufFp-H324bv",
        "outputId": "bd41e6da-3fa2-46fd-98fe-02f245477969"
      },
      "source": [
        "path = 'https://raw.githubusercontent.com/akitim/datasets/main/Project_4%20-%20Loseless%20flights.csv'\n",
        "data = pd.read_csv(path)\n",
        "\n",
        "data[['avg_speed', 'gain_per_flight', 'income_per_flight_eval1', 'income_per_flight_eval2']] =\\\n",
        "    data[['avg_speed', 'gain_per_flight', 'income_per_flight_eval1', 'income_per_flight_eval2']].\\\n",
        "        apply(lambda se: se.apply(lambda x: '%.0f' % x), axis=1)\n",
        "        \n",
        "data.scheduled_departure = data.scheduled_departure.apply(lambda t: dat.strptime(t, '%Y-%m-%dT%H:%M:%SZ'))\n",
        "\n",
        "data.sample(5)"
      ],
      "execution_count": 81,
      "outputs": [
        {
          "output_type": "execute_result",
          "data": {
            "text/html": [
              "<div>\n",
              "<style scoped>\n",
              "    .dataframe tbody tr th:only-of-type {\n",
              "        vertical-align: middle;\n",
              "    }\n",
              "\n",
              "    .dataframe tbody tr th {\n",
              "        vertical-align: top;\n",
              "    }\n",
              "\n",
              "    .dataframe thead th {\n",
              "        text-align: right;\n",
              "    }\n",
              "</style>\n",
              "<table border=\"1\" class=\"dataframe\">\n",
              "  <thead>\n",
              "    <tr style=\"text-align: right;\">\n",
              "      <th></th>\n",
              "      <th>flight_id</th>\n",
              "      <th>departure_city</th>\n",
              "      <th>arrival_city</th>\n",
              "      <th>scheduled_departure</th>\n",
              "      <th>flight_duration_in_hr</th>\n",
              "      <th>flight_distance</th>\n",
              "      <th>avg_speed</th>\n",
              "      <th>aircraft_model</th>\n",
              "      <th>seats_in_a_plane</th>\n",
              "      <th>seats_sold</th>\n",
              "      <th>gain_per_flight</th>\n",
              "      <th>income_per_flight_eval1</th>\n",
              "      <th>income_per_flight_eval2</th>\n",
              "    </tr>\n",
              "  </thead>\n",
              "  <tbody>\n",
              "    <tr>\n",
              "      <th>35</th>\n",
              "      <td>136345</td>\n",
              "      <td>Анапа</td>\n",
              "      <td>Москва</td>\n",
              "      <td>2017-01-24 10:05:00</td>\n",
              "      <td>1.67</td>\n",
              "      <td>1208</td>\n",
              "      <td>725</td>\n",
              "      <td>Boeing 737-300</td>\n",
              "      <td>130</td>\n",
              "      <td>108</td>\n",
              "      <td>1517600</td>\n",
              "      <td>1377050</td>\n",
              "      <td>1351860</td>\n",
              "    </tr>\n",
              "    <tr>\n",
              "      <th>8</th>\n",
              "      <td>136159</td>\n",
              "      <td>Анапа</td>\n",
              "      <td>Москва</td>\n",
              "      <td>2017-01-04 10:05:00</td>\n",
              "      <td>1.63</td>\n",
              "      <td>1208</td>\n",
              "      <td>740</td>\n",
              "      <td>Boeing 737-300</td>\n",
              "      <td>130</td>\n",
              "      <td>115</td>\n",
              "      <td>1700600</td>\n",
              "      <td>1550940</td>\n",
              "      <td>1538175</td>\n",
              "    </tr>\n",
              "    <tr>\n",
              "      <th>121</th>\n",
              "      <td>136927</td>\n",
              "      <td>Анапа</td>\n",
              "      <td>Белгород</td>\n",
              "      <td>2017-01-22 09:25:00</td>\n",
              "      <td>0.85</td>\n",
              "      <td>636</td>\n",
              "      <td>748</td>\n",
              "      <td>Sukhoi Superjet-100</td>\n",
              "      <td>97</td>\n",
              "      <td>97</td>\n",
              "      <td>765300</td>\n",
              "      <td>716732</td>\n",
              "      <td>698382</td>\n",
              "    </tr>\n",
              "    <tr>\n",
              "      <th>42</th>\n",
              "      <td>136389</td>\n",
              "      <td>Анапа</td>\n",
              "      <td>Москва</td>\n",
              "      <td>2017-01-18 10:05:00</td>\n",
              "      <td>1.67</td>\n",
              "      <td>1208</td>\n",
              "      <td>725</td>\n",
              "      <td>Boeing 737-300</td>\n",
              "      <td>130</td>\n",
              "      <td>129</td>\n",
              "      <td>1873800</td>\n",
              "      <td>1705921</td>\n",
              "      <td>1708060</td>\n",
              "    </tr>\n",
              "    <tr>\n",
              "      <th>126</th>\n",
              "      <td>136956</td>\n",
              "      <td>Анапа</td>\n",
              "      <td>Белгород</td>\n",
              "      <td>2017-02-04 09:25:00</td>\n",
              "      <td>0.83</td>\n",
              "      <td>636</td>\n",
              "      <td>763</td>\n",
              "      <td>Sukhoi Superjet-100</td>\n",
              "      <td>97</td>\n",
              "      <td>96</td>\n",
              "      <td>746400</td>\n",
              "      <td>700516</td>\n",
              "      <td>683774</td>\n",
              "    </tr>\n",
              "  </tbody>\n",
              "</table>\n",
              "</div>"
            ],
            "text/plain": [
              "     flight_id departure_city arrival_city scheduled_departure  \\\n",
              "35      136345          Анапа       Москва 2017-01-24 10:05:00   \n",
              "8       136159          Анапа       Москва 2017-01-04 10:05:00   \n",
              "121     136927          Анапа     Белгород 2017-01-22 09:25:00   \n",
              "42      136389          Анапа       Москва 2017-01-18 10:05:00   \n",
              "126     136956          Анапа     Белгород 2017-02-04 09:25:00   \n",
              "\n",
              "     flight_duration_in_hr  flight_distance avg_speed       aircraft_model  \\\n",
              "35                    1.67             1208       725       Boeing 737-300   \n",
              "8                     1.63             1208       740       Boeing 737-300   \n",
              "121                   0.85              636       748  Sukhoi Superjet-100   \n",
              "42                    1.67             1208       725       Boeing 737-300   \n",
              "126                   0.83              636       763  Sukhoi Superjet-100   \n",
              "\n",
              "     seats_in_a_plane  seats_sold gain_per_flight income_per_flight_eval1  \\\n",
              "35                130         108         1517600                 1377050   \n",
              "8                 130         115         1700600                 1550940   \n",
              "121                97          97          765300                  716732   \n",
              "42                130         129         1873800                 1705921   \n",
              "126                97          96          746400                  700516   \n",
              "\n",
              "    income_per_flight_eval2  \n",
              "35                  1351860  \n",
              "8                   1538175  \n",
              "121                  698382  \n",
              "42                  1708060  \n",
              "126                  683774  "
            ]
          },
          "metadata": {},
          "execution_count": 81
        }
      ]
    },
    {
      "cell_type": "code",
      "metadata": {
        "colab": {
          "base_uri": "https://localhost:8080/"
        },
        "id": "8vLJiq-I7arF",
        "outputId": "3fb07569-5e71-469d-d422-4e85974165a2"
      },
      "source": [
        "data.info()"
      ],
      "execution_count": 63,
      "outputs": [
        {
          "output_type": "stream",
          "name": "stdout",
          "text": [
            "<class 'pandas.core.frame.DataFrame'>\n",
            "RangeIndex: 127 entries, 0 to 126\n",
            "Data columns (total 13 columns):\n",
            " #   Column                   Non-Null Count  Dtype         \n",
            "---  ------                   --------------  -----         \n",
            " 0   flight_id                127 non-null    int64         \n",
            " 1   departure_city           127 non-null    object        \n",
            " 2   arrival_city             127 non-null    object        \n",
            " 3   scheduled_departure      127 non-null    datetime64[ns]\n",
            " 4   flight_duration_in_hr    127 non-null    float64       \n",
            " 5   flight_distance          127 non-null    int64         \n",
            " 6   avg_speed                127 non-null    object        \n",
            " 7   aircraft_model           127 non-null    object        \n",
            " 8   seats_in_a_plane         127 non-null    int64         \n",
            " 9   seats_sold               127 non-null    int64         \n",
            " 10  gain_per_flight          127 non-null    object        \n",
            " 11  income_per_flight_eval1  127 non-null    object        \n",
            " 12  income_per_flight_eval2  127 non-null    object        \n",
            "dtypes: datetime64[ns](1), float64(1), int64(4), object(7)\n",
            "memory usage: 13.0+ KB\n"
          ]
        }
      ]
    },
    {
      "cell_type": "code",
      "metadata": {
        "colab": {
          "base_uri": "https://localhost:8080/",
          "height": 623
        },
        "id": "AUN0ZMgh_rUq",
        "outputId": "f8a1d41a-06ee-4e7d-bd43-4e8d9dde9e2a"
      },
      "source": [
        "plt.figure(figsize = (20, 5))\n",
        "data.seats_sold.hist(bins=20);\n",
        "\n",
        "plt.show()\n",
        "plt.figure(figsize = (20, 5))\n",
        "data.avg_speed.hist(bins=10);\n"
      ],
      "execution_count": 93,
      "outputs": [
        {
          "output_type": "display_data",
          "data": {
            "image/png": "[encoded data removed]",
            "text/plain": [
              "<Figure size 1440x360 with 1 Axes>"
            ]
          },
          "metadata": {
            "needs_background": "light"
          }
        },
        {
          "output_type": "display_data",
          "data": {
            "image/png": "[encoded data removed]",
            "text/plain": [
              "<Figure size 1440x360 with 1 Axes>"
            ]
          },
          "metadata": {
            "needs_background": "light"
          }
        }
      ]
    },
    {
      "cell_type": "markdown",
      "metadata": {
        "id": "pssSZAbCTIHw"
      },
      "source": [
        "###рейсы в Новокузнецк не относятся к отменненым, однако данных по количеству купленных билетов и соответственно по прибыли нет"
      ]
    },
    {
      "cell_type": "code",
      "metadata": {
        "colab": {
          "base_uri": "https://localhost:8080/"
        },
        "id": "DFtaJ9DORwbh",
        "outputId": "ab3cf913-146e-4dec-f92e-02efc8163cac"
      },
      "source": [
        "data[(data.seats_sold != 0) & (data.arrival_city == 'Новокузнецк')].shape"
      ],
      "execution_count": 89,
      "outputs": [
        {
          "output_type": "execute_result",
          "data": {
            "text/plain": [
              "(0, 13)"
            ]
          },
          "metadata": {},
          "execution_count": 89
        }
      ]
    }
  ]
}