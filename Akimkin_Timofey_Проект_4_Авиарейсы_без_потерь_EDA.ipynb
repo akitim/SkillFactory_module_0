{
  "nbformat": 4,
  "nbformat_minor": 0,
  "metadata": {
    "colab": {
      "name": "Akimkin Timofey - Проект 4. Авиарейсы без потерь EDA.ipynb",
      "provenance": [],
      "include_colab_link": true
    },
    "kernelspec": {
      "name": "python3",
      "display_name": "Python 3"
    },
    "language_info": {
      "name": "python"
    }
  },
  "cells": [
    {
      "cell_type": "markdown",
      "metadata": {
        "id": "view-in-github",
        "colab_type": "text"
      },
      "source": [
        "<a href=\"https://colab.research.google.com/github/akitim/SkillFactory_projects/blob/main/Akimkin_Timofey_%D0%9F%D1%80%D0%BE%D0%B5%D0%BA%D1%82_4_%D0%90%D0%B2%D0%B8%D0%B0%D1%80%D0%B5%D0%B9%D1%81%D1%8B_%D0%B1%D0%B5%D0%B7_%D0%BF%D0%BE%D1%82%D0%B5%D1%80%D1%8C_EDA.ipynb\" target=\"_parent\"><img src=\"https://colab.research.google.com/assets/colab-badge.svg\" alt=\"Open In Colab\"/></a>"
      ]
    },
    {
      "cell_type": "markdown",
      "metadata": {
        "id": "xQMlua_S_WYQ"
      },
      "source": [
        "#Загрузка библиотек"
      ]
    },
    {
      "cell_type": "code",
      "metadata": {
        "id": "wbIfVEuS5B2c"
      },
      "source": [
        "import pandas as pd\n",
        "from datetime import datetime as dat\n",
        "#import matplotlib\n",
        "import matplotlib.pyplot as plt\n",
        "# import seaborn as sns\n",
        "import warnings; warnings.filterwarnings('ignore') #(action='once')\n",
        "# import missingno as msno\n",
        "# from itertools import combinations\n",
        "# from scipy.stats import ttest_ind\n",
        "# from scipy.stats import norm\n",
        " \n",
        "%matplotlib inline\n",
        " \n",
        "pd.set_option('display.max_rows', 50) # показывать больше строк\n",
        "pd.set_option('display.max_columns', 50) # показывать больше колонок\n",
        "pd.options.display.precision = 2\n",
        "pd.options.display.float_format = '{:.2f}'.format"
      ],
      "execution_count": 165,
      "outputs": []
    },
    {
      "cell_type": "markdown",
      "metadata": {
        "id": "sah5yHPZ_NJA"
      },
      "source": [
        "#Загрузка датасета"
      ]
    },
    {
      "cell_type": "code",
      "metadata": {
        "colab": {
          "base_uri": "https://localhost:8080/",
          "height": 636
        },
        "id": "1ufFp-H324bv",
        "outputId": "54e32e52-b042-4afd-b780-acf000fa26f6"
      },
      "source": [
        "path = 'https://raw.githubusercontent.com/akitim/datasets/main/Project_4%20-%20Loseless%20flights.csv'\n",
        "data = pd.read_csv(path)\n",
        "        \n",
        "data.sample(15)"
      ],
      "execution_count": 166,
      "outputs": [
        {
          "output_type": "execute_result",
          "data": {
            "text/html": [
              "<div>\n",
              "<style scoped>\n",
              "    .dataframe tbody tr th:only-of-type {\n",
              "        vertical-align: middle;\n",
              "    }\n",
              "\n",
              "    .dataframe tbody tr th {\n",
              "        vertical-align: top;\n",
              "    }\n",
              "\n",
              "    .dataframe thead th {\n",
              "        text-align: right;\n",
              "    }\n",
              "</style>\n",
              "<table border=\"1\" class=\"dataframe\">\n",
              "  <thead>\n",
              "    <tr style=\"text-align: right;\">\n",
              "      <th></th>\n",
              "      <th>flight_id</th>\n",
              "      <th>departure_city</th>\n",
              "      <th>arrival_city</th>\n",
              "      <th>scheduled_departure</th>\n",
              "      <th>flight_duration_in_hr</th>\n",
              "      <th>flight_distance</th>\n",
              "      <th>avg_speed</th>\n",
              "      <th>aircraft_model</th>\n",
              "      <th>seats_in_a_plane</th>\n",
              "      <th>seats_sold</th>\n",
              "      <th>gain_per_flight</th>\n",
              "      <th>income_per_flight_eval1</th>\n",
              "      <th>income_per_flight_eval2</th>\n",
              "    </tr>\n",
              "  </thead>\n",
              "  <tbody>\n",
              "    <tr>\n",
              "      <th>46</th>\n",
              "      <td>136423</td>\n",
              "      <td>Анапа</td>\n",
              "      <td>Москва</td>\n",
              "      <td>2017-01-10T10:05:00Z</td>\n",
              "      <td>1.67</td>\n",
              "      <td>1208</td>\n",
              "      <td>724.80</td>\n",
              "      <td>Boeing 737-300</td>\n",
              "      <td>130</td>\n",
              "      <td>129</td>\n",
              "      <td>1849400.00</td>\n",
              "      <td>1681521.00</td>\n",
              "      <td>1683660.00</td>\n",
              "    </tr>\n",
              "    <tr>\n",
              "      <th>22</th>\n",
              "      <td>136264</td>\n",
              "      <td>Анапа</td>\n",
              "      <td>Москва</td>\n",
              "      <td>2017-02-18T10:05:00Z</td>\n",
              "      <td>1.67</td>\n",
              "      <td>1208</td>\n",
              "      <td>724.80</td>\n",
              "      <td>Boeing 737-300</td>\n",
              "      <td>130</td>\n",
              "      <td>116</td>\n",
              "      <td>1690800.00</td>\n",
              "      <td>1546695.00</td>\n",
              "      <td>1532588.00</td>\n",
              "    </tr>\n",
              "    <tr>\n",
              "      <th>35</th>\n",
              "      <td>136345</td>\n",
              "      <td>Анапа</td>\n",
              "      <td>Москва</td>\n",
              "      <td>2017-01-24T10:05:00Z</td>\n",
              "      <td>1.67</td>\n",
              "      <td>1208</td>\n",
              "      <td>724.80</td>\n",
              "      <td>Boeing 737-300</td>\n",
              "      <td>130</td>\n",
              "      <td>108</td>\n",
              "      <td>1517600.00</td>\n",
              "      <td>1377050.00</td>\n",
              "      <td>1351860.00</td>\n",
              "    </tr>\n",
              "    <tr>\n",
              "      <th>105</th>\n",
              "      <td>136823</td>\n",
              "      <td>Анапа</td>\n",
              "      <td>Белгород</td>\n",
              "      <td>2017-02-05T09:25:00Z</td>\n",
              "      <td>0.85</td>\n",
              "      <td>636</td>\n",
              "      <td>748.24</td>\n",
              "      <td>Sukhoi Superjet-100</td>\n",
              "      <td>97</td>\n",
              "      <td>78</td>\n",
              "      <td>620400.00</td>\n",
              "      <td>583119.00</td>\n",
              "      <td>556522.00</td>\n",
              "    </tr>\n",
              "    <tr>\n",
              "      <th>60</th>\n",
              "      <td>136513</td>\n",
              "      <td>Анапа</td>\n",
              "      <td>Новокузнецк</td>\n",
              "      <td>2017-02-28T06:10:00Z</td>\n",
              "      <td>5.17</td>\n",
              "      <td>3661</td>\n",
              "      <td>708.58</td>\n",
              "      <td>Boeing 737-300</td>\n",
              "      <td>130</td>\n",
              "      <td>0</td>\n",
              "      <td>nan</td>\n",
              "      <td>nan</td>\n",
              "      <td>nan</td>\n",
              "    </tr>\n",
              "    <tr>\n",
              "      <th>80</th>\n",
              "      <td>136654</td>\n",
              "      <td>Анапа</td>\n",
              "      <td>Белгород</td>\n",
              "      <td>2017-01-19T09:25:00Z</td>\n",
              "      <td>0.82</td>\n",
              "      <td>636</td>\n",
              "      <td>778.78</td>\n",
              "      <td>Sukhoi Superjet-100</td>\n",
              "      <td>97</td>\n",
              "      <td>96</td>\n",
              "      <td>759000.00</td>\n",
              "      <td>710933.00</td>\n",
              "      <td>694707.00</td>\n",
              "    </tr>\n",
              "    <tr>\n",
              "      <th>71</th>\n",
              "      <td>136605</td>\n",
              "      <td>Анапа</td>\n",
              "      <td>Белгород</td>\n",
              "      <td>2017-02-15T09:25:00Z</td>\n",
              "      <td>0.85</td>\n",
              "      <td>636</td>\n",
              "      <td>748.24</td>\n",
              "      <td>Sukhoi Superjet-100</td>\n",
              "      <td>97</td>\n",
              "      <td>97</td>\n",
              "      <td>765300.00</td>\n",
              "      <td>718938.00</td>\n",
              "      <td>701422.00</td>\n",
              "    </tr>\n",
              "    <tr>\n",
              "      <th>65</th>\n",
              "      <td>136546</td>\n",
              "      <td>Анапа</td>\n",
              "      <td>Новокузнецк</td>\n",
              "      <td>2017-01-03T06:10:00Z</td>\n",
              "      <td>5.03</td>\n",
              "      <td>3661</td>\n",
              "      <td>727.35</td>\n",
              "      <td>Boeing 737-300</td>\n",
              "      <td>130</td>\n",
              "      <td>0</td>\n",
              "      <td>nan</td>\n",
              "      <td>nan</td>\n",
              "      <td>nan</td>\n",
              "    </tr>\n",
              "    <tr>\n",
              "      <th>118</th>\n",
              "      <td>136900</td>\n",
              "      <td>Анапа</td>\n",
              "      <td>Белгород</td>\n",
              "      <td>2017-02-01T09:25:00Z</td>\n",
              "      <td>0.85</td>\n",
              "      <td>636</td>\n",
              "      <td>748.24</td>\n",
              "      <td>Sukhoi Superjet-100</td>\n",
              "      <td>97</td>\n",
              "      <td>97</td>\n",
              "      <td>765300.00</td>\n",
              "      <td>718938.00</td>\n",
              "      <td>701422.00</td>\n",
              "    </tr>\n",
              "    <tr>\n",
              "      <th>23</th>\n",
              "      <td>136266</td>\n",
              "      <td>Анапа</td>\n",
              "      <td>Москва</td>\n",
              "      <td>2017-02-27T10:05:00Z</td>\n",
              "      <td>1.67</td>\n",
              "      <td>1208</td>\n",
              "      <td>724.80</td>\n",
              "      <td>Boeing 737-300</td>\n",
              "      <td>130</td>\n",
              "      <td>108</td>\n",
              "      <td>1566400.00</td>\n",
              "      <td>1432234.00</td>\n",
              "      <td>1408188.00</td>\n",
              "    </tr>\n",
              "    <tr>\n",
              "      <th>117</th>\n",
              "      <td>136888</td>\n",
              "      <td>Анапа</td>\n",
              "      <td>Белгород</td>\n",
              "      <td>2017-02-14T09:25:00Z</td>\n",
              "      <td>0.83</td>\n",
              "      <td>636</td>\n",
              "      <td>763.20</td>\n",
              "      <td>Sukhoi Superjet-100</td>\n",
              "      <td>97</td>\n",
              "      <td>79</td>\n",
              "      <td>626100.00</td>\n",
              "      <td>588341.00</td>\n",
              "      <td>563474.00</td>\n",
              "    </tr>\n",
              "    <tr>\n",
              "      <th>17</th>\n",
              "      <td>136209</td>\n",
              "      <td>Анапа</td>\n",
              "      <td>Москва</td>\n",
              "      <td>2017-01-06T10:05:00Z</td>\n",
              "      <td>1.67</td>\n",
              "      <td>1208</td>\n",
              "      <td>724.80</td>\n",
              "      <td>Boeing 737-300</td>\n",
              "      <td>130</td>\n",
              "      <td>112</td>\n",
              "      <td>1615200.00</td>\n",
              "      <td>1469444.00</td>\n",
              "      <td>1449460.00</td>\n",
              "    </tr>\n",
              "    <tr>\n",
              "      <th>18</th>\n",
              "      <td>136215</td>\n",
              "      <td>Анапа</td>\n",
              "      <td>Москва</td>\n",
              "      <td>2017-02-28T10:05:00Z</td>\n",
              "      <td>1.67</td>\n",
              "      <td>1208</td>\n",
              "      <td>724.80</td>\n",
              "      <td>Boeing 737-300</td>\n",
              "      <td>130</td>\n",
              "      <td>114</td>\n",
              "      <td>1664000.00</td>\n",
              "      <td>1522380.00</td>\n",
              "      <td>1505788.00</td>\n",
              "    </tr>\n",
              "    <tr>\n",
              "      <th>32</th>\n",
              "      <td>136316</td>\n",
              "      <td>Анапа</td>\n",
              "      <td>Москва</td>\n",
              "      <td>2017-01-12T10:05:00Z</td>\n",
              "      <td>1.67</td>\n",
              "      <td>1208</td>\n",
              "      <td>724.80</td>\n",
              "      <td>Boeing 737-300</td>\n",
              "      <td>130</td>\n",
              "      <td>130</td>\n",
              "      <td>1886000.00</td>\n",
              "      <td>1716819.00</td>\n",
              "      <td>1720260.00</td>\n",
              "    </tr>\n",
              "    <tr>\n",
              "      <th>107</th>\n",
              "      <td>136838</td>\n",
              "      <td>Анапа</td>\n",
              "      <td>Белгород</td>\n",
              "      <td>2017-01-24T09:25:00Z</td>\n",
              "      <td>0.85</td>\n",
              "      <td>636</td>\n",
              "      <td>748.24</td>\n",
              "      <td>Sukhoi Superjet-100</td>\n",
              "      <td>97</td>\n",
              "      <td>86</td>\n",
              "      <td>670200.00</td>\n",
              "      <td>627140.00</td>\n",
              "      <td>603282.00</td>\n",
              "    </tr>\n",
              "  </tbody>\n",
              "</table>\n",
              "</div>"
            ],
            "text/plain": [
              "     flight_id departure_city arrival_city   scheduled_departure  \\\n",
              "46      136423          Анапа       Москва  2017-01-10T10:05:00Z   \n",
              "22      136264          Анапа       Москва  2017-02-18T10:05:00Z   \n",
              "35      136345          Анапа       Москва  2017-01-24T10:05:00Z   \n",
              "105     136823          Анапа     Белгород  2017-02-05T09:25:00Z   \n",
              "60      136513          Анапа  Новокузнецк  2017-02-28T06:10:00Z   \n",
              "80      136654          Анапа     Белгород  2017-01-19T09:25:00Z   \n",
              "71      136605          Анапа     Белгород  2017-02-15T09:25:00Z   \n",
              "65      136546          Анапа  Новокузнецк  2017-01-03T06:10:00Z   \n",
              "118     136900          Анапа     Белгород  2017-02-01T09:25:00Z   \n",
              "23      136266          Анапа       Москва  2017-02-27T10:05:00Z   \n",
              "117     136888          Анапа     Белгород  2017-02-14T09:25:00Z   \n",
              "17      136209          Анапа       Москва  2017-01-06T10:05:00Z   \n",
              "18      136215          Анапа       Москва  2017-02-28T10:05:00Z   \n",
              "32      136316          Анапа       Москва  2017-01-12T10:05:00Z   \n",
              "107     136838          Анапа     Белгород  2017-01-24T09:25:00Z   \n",
              "\n",
              "     flight_duration_in_hr  flight_distance  avg_speed       aircraft_model  \\\n",
              "46                    1.67             1208     724.80       Boeing 737-300   \n",
              "22                    1.67             1208     724.80       Boeing 737-300   \n",
              "35                    1.67             1208     724.80       Boeing 737-300   \n",
              "105                   0.85              636     748.24  Sukhoi Superjet-100   \n",
              "60                    5.17             3661     708.58       Boeing 737-300   \n",
              "80                    0.82              636     778.78  Sukhoi Superjet-100   \n",
              "71                    0.85              636     748.24  Sukhoi Superjet-100   \n",
              "65                    5.03             3661     727.35       Boeing 737-300   \n",
              "118                   0.85              636     748.24  Sukhoi Superjet-100   \n",
              "23                    1.67             1208     724.80       Boeing 737-300   \n",
              "117                   0.83              636     763.20  Sukhoi Superjet-100   \n",
              "17                    1.67             1208     724.80       Boeing 737-300   \n",
              "18                    1.67             1208     724.80       Boeing 737-300   \n",
              "32                    1.67             1208     724.80       Boeing 737-300   \n",
              "107                   0.85              636     748.24  Sukhoi Superjet-100   \n",
              "\n",
              "     seats_in_a_plane  seats_sold  gain_per_flight  income_per_flight_eval1  \\\n",
              "46                130         129       1849400.00               1681521.00   \n",
              "22                130         116       1690800.00               1546695.00   \n",
              "35                130         108       1517600.00               1377050.00   \n",
              "105                97          78        620400.00                583119.00   \n",
              "60                130           0              nan                      nan   \n",
              "80                 97          96        759000.00                710933.00   \n",
              "71                 97          97        765300.00                718938.00   \n",
              "65                130           0              nan                      nan   \n",
              "118                97          97        765300.00                718938.00   \n",
              "23                130         108       1566400.00               1432234.00   \n",
              "117                97          79        626100.00                588341.00   \n",
              "17                130         112       1615200.00               1469444.00   \n",
              "18                130         114       1664000.00               1522380.00   \n",
              "32                130         130       1886000.00               1716819.00   \n",
              "107                97          86        670200.00                627140.00   \n",
              "\n",
              "     income_per_flight_eval2  \n",
              "46                1683660.00  \n",
              "22                1532588.00  \n",
              "35                1351860.00  \n",
              "105                556522.00  \n",
              "60                       nan  \n",
              "80                 694707.00  \n",
              "71                 701422.00  \n",
              "65                       nan  \n",
              "118                701422.00  \n",
              "23                1408188.00  \n",
              "117                563474.00  \n",
              "17                1449460.00  \n",
              "18                1505788.00  \n",
              "32                1720260.00  \n",
              "107                603282.00  "
            ]
          },
          "metadata": {},
          "execution_count": 166
        }
      ]
    },
    {
      "cell_type": "markdown",
      "metadata": {
        "id": "5Pxf5hiBPSyd"
      },
      "source": [
        "## **Пояснение к датасету**\n",
        "\n",
        "\n",
        "*   flight_id - \n",
        "*   departure_city\n",
        "*   arrival_city\n",
        "*   scheduled_departure\n",
        "*   flight_duration_in_hr\n",
        "*   flight_distance\n",
        "*   avg_speed\n",
        "*   aircraft_model\n",
        "*   seats_in_a_plane\n",
        "*   seats_sold\n",
        "*   gain_per_flight\n",
        "*   income_per_flight_eval1\n",
        "*   income_per_flight_eval2\n",
        "\n"
      ]
    },
    {
      "cell_type": "code",
      "metadata": {
        "colab": {
          "base_uri": "https://localhost:8080/"
        },
        "id": "8vLJiq-I7arF",
        "outputId": "c8f56a28-c29b-40c5-8102-3482df9e0d48"
      },
      "source": [
        "data.info()"
      ],
      "execution_count": 167,
      "outputs": [
        {
          "output_type": "stream",
          "name": "stdout",
          "text": [
            "<class 'pandas.core.frame.DataFrame'>\n",
            "RangeIndex: 127 entries, 0 to 126\n",
            "Data columns (total 13 columns):\n",
            " #   Column                   Non-Null Count  Dtype  \n",
            "---  ------                   --------------  -----  \n",
            " 0   flight_id                127 non-null    int64  \n",
            " 1   departure_city           127 non-null    object \n",
            " 2   arrival_city             127 non-null    object \n",
            " 3   scheduled_departure      127 non-null    object \n",
            " 4   flight_duration_in_hr    127 non-null    float64\n",
            " 5   flight_distance          127 non-null    int64  \n",
            " 6   avg_speed                127 non-null    float64\n",
            " 7   aircraft_model           127 non-null    object \n",
            " 8   seats_in_a_plane         127 non-null    int64  \n",
            " 9   seats_sold               127 non-null    int64  \n",
            " 10  gain_per_flight          118 non-null    float64\n",
            " 11  income_per_flight_eval1  118 non-null    float64\n",
            " 12  income_per_flight_eval2  118 non-null    float64\n",
            "dtypes: float64(5), int64(4), object(4)\n",
            "memory usage: 13.0+ KB\n"
          ]
        }
      ]
    },
    {
      "cell_type": "code",
      "metadata": {
        "id": "hTUQ73sBMjNj"
      },
      "source": [
        "# data[['avg_speed', 'gain_per_flight', 'income_per_flight_eval1', 'income_per_flight_eval2']] =\\\n",
        "#     data[['avg_speed', 'gain_per_flight', 'income_per_flight_eval1', 'income_per_flight_eval2']].\\\n",
        "#         apply(lambda se: se.apply(lambda x: '%.0f' % x), axis=1)\n",
        "\n",
        "data.drop(['avg_speed', 'income_per_flight_eval1'], axis=1, inplace=True)"
      ],
      "execution_count": 168,
      "outputs": []
    },
    {
      "cell_type": "markdown",
      "metadata": {
        "id": "pssSZAbCTIHw"
      },
      "source": [
        "###Рейсы в Новокузнецк не имеют статус отменненых, однако **данных** по количеству купленных билетов и соответственно по прибыли нет"
      ]
    },
    {
      "cell_type": "code",
      "metadata": {
        "colab": {
          "base_uri": "https://localhost:8080/"
        },
        "id": "DFtaJ9DORwbh",
        "outputId": "b9f9ab44-e89d-4757-b1f2-a4450a37b044"
      },
      "source": [
        "print('Количество непустых строк по городу прибытия Новокузнецк: ', data[(data.seats_sold != 0) & (data.arrival_city == 'Новокузнецк')].shape[0])\n",
        "\n",
        "data.fillna(0, inplace=True) # заполняем отсутствующие данные нулями"
      ],
      "execution_count": 169,
      "outputs": [
        {
          "output_type": "stream",
          "name": "stdout",
          "text": [
            "Количество непустых строк по городу прибытия Новокузнецк:  0\n"
          ]
        }
      ]
    },
    {
      "cell_type": "markdown",
      "metadata": {
        "id": "FVZwpC5qIit3"
      },
      "source": [
        "##Распределение заполняемости самолета по рейсам и модели самолета"
      ]
    },
    {
      "cell_type": "code",
      "metadata": {
        "colab": {
          "base_uri": "https://localhost:8080/",
          "height": 659
        },
        "id": "AUN0ZMgh_rUq",
        "outputId": "ca697934-1068-4b2a-8057-d14a5365d5d8"
      },
      "source": [
        "# вводим столбец \"Заполняемость самолета\"\n",
        "data['occupancy_rate'] = data.seats_sold / data.seats_in_a_plane * 100\n",
        "\n",
        "for model in data.aircraft_model.unique():\n",
        "    plt.figure(figsize = (10, 5))\n",
        "    data[(data.aircraft_model == model) & (data.seats_sold != 0)].occupancy_rate.hist(bins=20);\n",
        "    plt.title(f'Рейсы {model}', fontdict = {'fontsize': 15}, loc='left')\n",
        "    plt.show()"
      ],
      "execution_count": 170,
      "outputs": [
        {
          "output_type": "display_data",
          "data": {
            "image/png": "[encoded data removed]",
            "text/plain": [
              "<Figure size 720x360 with 1 Axes>"
            ]
          },
          "metadata": {
            "needs_background": "light"
          }
        },
        {
          "output_type": "display_data",
          "data": {
            "image/png": "[encoded data removed]",
            "text/plain": [
              "<Figure size 720x360 with 1 Axes>"
            ]
          },
          "metadata": {
            "needs_background": "light"
          }
        }
      ]
    },
    {
      "cell_type": "markdown",
      "metadata": {
        "id": "VfDd88I5Oq_d"
      },
      "source": [
        "##Рейсы с низкой заполняемостью"
      ]
    },
    {
      "cell_type": "code",
      "metadata": {
        "id": "nqeNMsMbNrwZ",
        "outputId": "ec1d9d82-0085-4f89-a359-7fb7db687e0a",
        "colab": {
          "base_uri": "https://localhost:8080/",
          "height": 173
        }
      },
      "source": [
        "data[(data.occupancy_rate > 0) & (data.occupancy_rate < 75)][['flight_id', 'scheduled_departure', 'arrival_city']]"
      ],
      "execution_count": 175,
      "outputs": [
        {
          "output_type": "execute_result",
          "data": {
            "text/html": [
              "<div>\n",
              "<style scoped>\n",
              "    .dataframe tbody tr th:only-of-type {\n",
              "        vertical-align: middle;\n",
              "    }\n",
              "\n",
              "    .dataframe tbody tr th {\n",
              "        vertical-align: top;\n",
              "    }\n",
              "\n",
              "    .dataframe thead th {\n",
              "        text-align: right;\n",
              "    }\n",
              "</style>\n",
              "<table border=\"1\" class=\"dataframe\">\n",
              "  <thead>\n",
              "    <tr style=\"text-align: right;\">\n",
              "      <th></th>\n",
              "      <th>flight_id</th>\n",
              "      <th>scheduled_departure</th>\n",
              "      <th>arrival_city</th>\n",
              "    </tr>\n",
              "  </thead>\n",
              "  <tbody>\n",
              "    <tr>\n",
              "      <th>2</th>\n",
              "      <td>136122</td>\n",
              "      <td>2017-01-08T10:05:00Z</td>\n",
              "      <td>Москва</td>\n",
              "    </tr>\n",
              "    <tr>\n",
              "      <th>38</th>\n",
              "      <td>136360</td>\n",
              "      <td>2017-02-05T10:05:00Z</td>\n",
              "      <td>Москва</td>\n",
              "    </tr>\n",
              "    <tr>\n",
              "      <th>77</th>\n",
              "      <td>136642</td>\n",
              "      <td>2017-01-30T09:25:00Z</td>\n",
              "      <td>Белгород</td>\n",
              "    </tr>\n",
              "    <tr>\n",
              "      <th>102</th>\n",
              "      <td>136807</td>\n",
              "      <td>2017-02-23T09:25:00Z</td>\n",
              "      <td>Белгород</td>\n",
              "    </tr>\n",
              "  </tbody>\n",
              "</table>\n",
              "</div>"
            ],
            "text/plain": [
              "     flight_id   scheduled_departure arrival_city\n",
              "2       136122  2017-01-08T10:05:00Z       Москва\n",
              "38      136360  2017-02-05T10:05:00Z       Москва\n",
              "77      136642  2017-01-30T09:25:00Z     Белгород\n",
              "102     136807  2017-02-23T09:25:00Z     Белгород"
            ]
          },
          "metadata": {},
          "execution_count": 175
        }
      ]
    },
    {
      "cell_type": "code",
      "metadata": {
        "colab": {
          "base_uri": "https://localhost:8080/",
          "height": 210
        },
        "id": "mdTzir1f5mlS",
        "outputId": "c9137d98-3287-4f61-a9cf-7da5e3d89173"
      },
      "source": [
        "df1 = pd.DataFrame(data.groupby(by=['arrival_city', 'aircraft_model'])['departure_city'].count())\n",
        "df1.columns = ['num_of_flights']\n",
        "\n",
        "df2 = data.drop(['flight_id'], axis=1).groupby(by=['arrival_city', 'aircraft_model']).mean()\n",
        "df2.rename(columns={'income_per_flight_eval2': 'income_per_flight'}, inplace=True)\n",
        "df2['income_per_flight_hr'] = df2.income_per_flight / df2.flight_duration_in_hr\n",
        "pd.concat([df1, df2], axis=1)"
      ],
      "execution_count": 172,
      "outputs": [
        {
          "output_type": "execute_result",
          "data": {
            "text/html": [
              "<div>\n",
              "<style scoped>\n",
              "    .dataframe tbody tr th:only-of-type {\n",
              "        vertical-align: middle;\n",
              "    }\n",
              "\n",
              "    .dataframe tbody tr th {\n",
              "        vertical-align: top;\n",
              "    }\n",
              "\n",
              "    .dataframe thead th {\n",
              "        text-align: right;\n",
              "    }\n",
              "</style>\n",
              "<table border=\"1\" class=\"dataframe\">\n",
              "  <thead>\n",
              "    <tr style=\"text-align: right;\">\n",
              "      <th></th>\n",
              "      <th></th>\n",
              "      <th>num_of_flights</th>\n",
              "      <th>flight_duration_in_hr</th>\n",
              "      <th>flight_distance</th>\n",
              "      <th>seats_in_a_plane</th>\n",
              "      <th>seats_sold</th>\n",
              "      <th>gain_per_flight</th>\n",
              "      <th>income_per_flight</th>\n",
              "      <th>occupancy_rate</th>\n",
              "      <th>income_per_flight_hr</th>\n",
              "    </tr>\n",
              "    <tr>\n",
              "      <th>arrival_city</th>\n",
              "      <th>aircraft_model</th>\n",
              "      <th></th>\n",
              "      <th></th>\n",
              "      <th></th>\n",
              "      <th></th>\n",
              "      <th></th>\n",
              "      <th></th>\n",
              "      <th></th>\n",
              "      <th></th>\n",
              "      <th></th>\n",
              "    </tr>\n",
              "  </thead>\n",
              "  <tbody>\n",
              "    <tr>\n",
              "      <th>Белгород</th>\n",
              "      <th>Sukhoi Superjet-100</th>\n",
              "      <td>59</td>\n",
              "      <td>0.83</td>\n",
              "      <td>636.00</td>\n",
              "      <td>97.00</td>\n",
              "      <td>90.19</td>\n",
              "      <td>710435.59</td>\n",
              "      <td>646135.15</td>\n",
              "      <td>92.98</td>\n",
              "      <td>774050.23</td>\n",
              "    </tr>\n",
              "    <tr>\n",
              "      <th>Москва</th>\n",
              "      <th>Boeing 737-300</th>\n",
              "      <td>59</td>\n",
              "      <td>1.66</td>\n",
              "      <td>1208.00</td>\n",
              "      <td>130.00</td>\n",
              "      <td>113.12</td>\n",
              "      <td>1642576.27</td>\n",
              "      <td>1480688.46</td>\n",
              "      <td>87.01</td>\n",
              "      <td>889921.42</td>\n",
              "    </tr>\n",
              "    <tr>\n",
              "      <th>Новокузнецк</th>\n",
              "      <th>Boeing 737-300</th>\n",
              "      <td>9</td>\n",
              "      <td>5.11</td>\n",
              "      <td>3661.00</td>\n",
              "      <td>130.00</td>\n",
              "      <td>0.00</td>\n",
              "      <td>0.00</td>\n",
              "      <td>0.00</td>\n",
              "      <td>0.00</td>\n",
              "      <td>0.00</td>\n",
              "    </tr>\n",
              "  </tbody>\n",
              "</table>\n",
              "</div>"
            ],
            "text/plain": [
              "                                  num_of_flights  flight_duration_in_hr  \\\n",
              "arrival_city aircraft_model                                               \n",
              "Белгород     Sukhoi Superjet-100              59                   0.83   \n",
              "Москва       Boeing 737-300                   59                   1.66   \n",
              "Новокузнецк  Boeing 737-300                    9                   5.11   \n",
              "\n",
              "                                  flight_distance  seats_in_a_plane  \\\n",
              "arrival_city aircraft_model                                           \n",
              "Белгород     Sukhoi Superjet-100           636.00             97.00   \n",
              "Москва       Boeing 737-300               1208.00            130.00   \n",
              "Новокузнецк  Boeing 737-300               3661.00            130.00   \n",
              "\n",
              "                                  seats_sold  gain_per_flight  \\\n",
              "arrival_city aircraft_model                                     \n",
              "Белгород     Sukhoi Superjet-100       90.19        710435.59   \n",
              "Москва       Boeing 737-300           113.12       1642576.27   \n",
              "Новокузнецк  Boeing 737-300             0.00             0.00   \n",
              "\n",
              "                                  income_per_flight  occupancy_rate  \\\n",
              "arrival_city aircraft_model                                           \n",
              "Белгород     Sukhoi Superjet-100          646135.15           92.98   \n",
              "Москва       Boeing 737-300              1480688.46           87.01   \n",
              "Новокузнецк  Boeing 737-300                    0.00            0.00   \n",
              "\n",
              "                                  income_per_flight_hr  \n",
              "arrival_city aircraft_model                             \n",
              "Белгород     Sukhoi Superjet-100             774050.23  \n",
              "Москва       Boeing 737-300                  889921.42  \n",
              "Новокузнецк  Boeing 737-300                       0.00  "
            ]
          },
          "metadata": {},
          "execution_count": 172
        }
      ]
    }
  ]
}