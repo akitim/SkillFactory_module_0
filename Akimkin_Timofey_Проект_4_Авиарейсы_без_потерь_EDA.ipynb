{
  "nbformat": 4,
  "nbformat_minor": 0,
  "metadata": {
    "colab": {
      "name": "Akimkin Timofey - Проект 4. Авиарейсы без потерь EDA.ipynb",
      "provenance": [],
      "include_colab_link": true
    },
    "kernelspec": {
      "name": "python3",
      "display_name": "Python 3"
    },
    "language_info": {
      "name": "python"
    }
  },
  "cells": [
    {
      "cell_type": "markdown",
      "metadata": {
        "id": "view-in-github",
        "colab_type": "text"
      },
      "source": [
        "<a href=\"https://colab.research.google.com/github/akitim/SkillFactory_projects/blob/main/Akimkin_Timofey_%D0%9F%D1%80%D0%BE%D0%B5%D0%BA%D1%82_4_%D0%90%D0%B2%D0%B8%D0%B0%D1%80%D0%B5%D0%B9%D1%81%D1%8B_%D0%B1%D0%B5%D0%B7_%D0%BF%D0%BE%D1%82%D0%B5%D1%80%D1%8C_EDA.ipynb\" target=\"_parent\"><img src=\"https://colab.research.google.com/assets/colab-badge.svg\" alt=\"Open In Colab\"/></a>"
      ]
    },
    {
      "cell_type": "markdown",
      "metadata": {
        "id": "xQMlua_S_WYQ"
      },
      "source": [
        "#Загрузка библиотек"
      ]
    },
    {
      "cell_type": "code",
      "metadata": {
        "id": "wbIfVEuS5B2c"
      },
      "source": [
        "import pandas as pd\n",
        "from datetime import datetime as dat\n",
        "#import matplotlib\n",
        "import matplotlib.pyplot as plt\n",
        "# import seaborn as sns\n",
        "import warnings; warnings.filterwarnings('ignore') #(action='once')\n",
        "# import missingno as msno\n",
        "# from itertools import combinations\n",
        "# from scipy.stats import ttest_ind\n",
        "# from scipy.stats import norm\n",
        " \n",
        "%matplotlib inline\n",
        " \n",
        "pd.set_option('display.max_rows', 50) # показывать больше строк\n",
        "pd.set_option('display.max_columns', 50) # показывать больше колонок\n",
        "pd.options.display.precision = 2\n",
        "pd.options.display.float_format = '{:.2f}'.format"
      ],
      "execution_count": 36,
      "outputs": []
    },
    {
      "cell_type": "markdown",
      "metadata": {
        "id": "sah5yHPZ_NJA"
      },
      "source": [
        "#Загрузка датасета"
      ]
    },
    {
      "cell_type": "code",
      "metadata": {
        "colab": {
          "base_uri": "https://localhost:8080/",
          "height": 678
        },
        "id": "1ufFp-H324bv",
        "outputId": "26cacd4e-2243-4bc9-d34c-59b1b4ca129c"
      },
      "source": [
        "path = 'https://raw.githubusercontent.com/akitim/datasets/main/Project_4%20-%20Loseless%20flights_v3.csv'\n",
        "data = pd.read_csv(path)\n",
        "        \n",
        "data.sample(15)"
      ],
      "execution_count": 37,
      "outputs": [
        {
          "output_type": "execute_result",
          "data": {
            "text/html": [
              "<div>\n",
              "<style scoped>\n",
              "    .dataframe tbody tr th:only-of-type {\n",
              "        vertical-align: middle;\n",
              "    }\n",
              "\n",
              "    .dataframe tbody tr th {\n",
              "        vertical-align: top;\n",
              "    }\n",
              "\n",
              "    .dataframe thead th {\n",
              "        text-align: right;\n",
              "    }\n",
              "</style>\n",
              "<table border=\"1\" class=\"dataframe\">\n",
              "  <thead>\n",
              "    <tr style=\"text-align: right;\">\n",
              "      <th></th>\n",
              "      <th>flight_id</th>\n",
              "      <th>departure_city</th>\n",
              "      <th>arrival_city</th>\n",
              "      <th>scheduled_departure</th>\n",
              "      <th>flight_duration_in_hr</th>\n",
              "      <th>flight_distance</th>\n",
              "      <th>avg_speed</th>\n",
              "      <th>aircraft_model</th>\n",
              "      <th>seats_in_a_plane</th>\n",
              "      <th>seats_sold</th>\n",
              "      <th>economy_seats_in_a_plane</th>\n",
              "      <th>economy_sold</th>\n",
              "      <th>business_seats_in_a_plane</th>\n",
              "      <th>business_sold</th>\n",
              "      <th>gain_per_flight</th>\n",
              "      <th>income_per_flight_dist</th>\n",
              "      <th>income_per_flight_dur</th>\n",
              "    </tr>\n",
              "  </thead>\n",
              "  <tbody>\n",
              "    <tr>\n",
              "      <th>78</th>\n",
              "      <td>136645</td>\n",
              "      <td>Анапа</td>\n",
              "      <td>Белгород</td>\n",
              "      <td>2017-01-05T09:25:00Z</td>\n",
              "      <td>0.85</td>\n",
              "      <td>636</td>\n",
              "      <td>748.24</td>\n",
              "      <td>Sukhoi Superjet-100</td>\n",
              "      <td>97</td>\n",
              "      <td>82</td>\n",
              "      <td>85</td>\n",
              "      <td>73.00</td>\n",
              "      <td>12</td>\n",
              "      <td>9.00</td>\n",
              "      <td>633000.00</td>\n",
              "      <td>591943.00</td>\n",
              "      <td>566082.00</td>\n",
              "    </tr>\n",
              "    <tr>\n",
              "      <th>42</th>\n",
              "      <td>136389</td>\n",
              "      <td>Анапа</td>\n",
              "      <td>Москва</td>\n",
              "      <td>2017-01-18T10:05:00Z</td>\n",
              "      <td>1.67</td>\n",
              "      <td>1208</td>\n",
              "      <td>724.80</td>\n",
              "      <td>Boeing 737-300</td>\n",
              "      <td>130</td>\n",
              "      <td>129</td>\n",
              "      <td>118</td>\n",
              "      <td>117.00</td>\n",
              "      <td>12</td>\n",
              "      <td>12.00</td>\n",
              "      <td>1873800.00</td>\n",
              "      <td>1705921.00</td>\n",
              "      <td>1708060.00</td>\n",
              "    </tr>\n",
              "    <tr>\n",
              "      <th>47</th>\n",
              "      <td>136428</td>\n",
              "      <td>Анапа</td>\n",
              "      <td>Москва</td>\n",
              "      <td>2017-01-21T10:05:00Z</td>\n",
              "      <td>1.65</td>\n",
              "      <td>1208</td>\n",
              "      <td>732.12</td>\n",
              "      <td>Boeing 737-300</td>\n",
              "      <td>130</td>\n",
              "      <td>115</td>\n",
              "      <td>118</td>\n",
              "      <td>104.00</td>\n",
              "      <td>12</td>\n",
              "      <td>11.00</td>\n",
              "      <td>1678600.00</td>\n",
              "      <td>1528940.00</td>\n",
              "      <td>1514517.00</td>\n",
              "    </tr>\n",
              "    <tr>\n",
              "      <th>16</th>\n",
              "      <td>136204</td>\n",
              "      <td>Анапа</td>\n",
              "      <td>Москва</td>\n",
              "      <td>2017-02-23T10:05:00Z</td>\n",
              "      <td>1.67</td>\n",
              "      <td>1208</td>\n",
              "      <td>724.80</td>\n",
              "      <td>Boeing 737-300</td>\n",
              "      <td>130</td>\n",
              "      <td>107</td>\n",
              "      <td>118</td>\n",
              "      <td>101.00</td>\n",
              "      <td>12</td>\n",
              "      <td>6.00</td>\n",
              "      <td>1457800.00</td>\n",
              "      <td>1324876.00</td>\n",
              "      <td>1299588.00</td>\n",
              "    </tr>\n",
              "    <tr>\n",
              "      <th>49</th>\n",
              "      <td>136439</td>\n",
              "      <td>Анапа</td>\n",
              "      <td>Москва</td>\n",
              "      <td>2017-02-25T10:05:00Z</td>\n",
              "      <td>1.67</td>\n",
              "      <td>1208</td>\n",
              "      <td>724.80</td>\n",
              "      <td>Boeing 737-300</td>\n",
              "      <td>130</td>\n",
              "      <td>117</td>\n",
              "      <td>118</td>\n",
              "      <td>106.00</td>\n",
              "      <td>12</td>\n",
              "      <td>11.00</td>\n",
              "      <td>1701800.00</td>\n",
              "      <td>1556453.00</td>\n",
              "      <td>1543588.00</td>\n",
              "    </tr>\n",
              "    <tr>\n",
              "      <th>75</th>\n",
              "      <td>136630</td>\n",
              "      <td>Анапа</td>\n",
              "      <td>Белгород</td>\n",
              "      <td>2017-02-25T09:25:00Z</td>\n",
              "      <td>0.83</td>\n",
              "      <td>636</td>\n",
              "      <td>763.20</td>\n",
              "      <td>Sukhoi Superjet-100</td>\n",
              "      <td>97</td>\n",
              "      <td>94</td>\n",
              "      <td>85</td>\n",
              "      <td>82.00</td>\n",
              "      <td>12</td>\n",
              "      <td>12.00</td>\n",
              "      <td>746400.00</td>\n",
              "      <td>701472.00</td>\n",
              "      <td>683774.00</td>\n",
              "    </tr>\n",
              "    <tr>\n",
              "      <th>120</th>\n",
              "      <td>136922</td>\n",
              "      <td>Анапа</td>\n",
              "      <td>Белгород</td>\n",
              "      <td>2017-02-11T09:25:00Z</td>\n",
              "      <td>0.83</td>\n",
              "      <td>636</td>\n",
              "      <td>763.20</td>\n",
              "      <td>Sukhoi Superjet-100</td>\n",
              "      <td>97</td>\n",
              "      <td>76</td>\n",
              "      <td>85</td>\n",
              "      <td>66.00</td>\n",
              "      <td>12</td>\n",
              "      <td>10.00</td>\n",
              "      <td>607800.00</td>\n",
              "      <td>571475.00</td>\n",
              "      <td>545174.00</td>\n",
              "    </tr>\n",
              "    <tr>\n",
              "      <th>31</th>\n",
              "      <td>136310</td>\n",
              "      <td>Анапа</td>\n",
              "      <td>Москва</td>\n",
              "      <td>2017-01-22T10:05:00Z</td>\n",
              "      <td>1.67</td>\n",
              "      <td>1208</td>\n",
              "      <td>724.80</td>\n",
              "      <td>Boeing 737-300</td>\n",
              "      <td>130</td>\n",
              "      <td>117</td>\n",
              "      <td>118</td>\n",
              "      <td>108.00</td>\n",
              "      <td>12</td>\n",
              "      <td>9.00</td>\n",
              "      <td>1654200.00</td>\n",
              "      <td>1501937.00</td>\n",
              "      <td>1488460.00</td>\n",
              "    </tr>\n",
              "    <tr>\n",
              "      <th>43</th>\n",
              "      <td>136403</td>\n",
              "      <td>Анапа</td>\n",
              "      <td>Москва</td>\n",
              "      <td>2017-02-20T10:05:00Z</td>\n",
              "      <td>1.67</td>\n",
              "      <td>1208</td>\n",
              "      <td>724.80</td>\n",
              "      <td>Boeing 737-300</td>\n",
              "      <td>130</td>\n",
              "      <td>129</td>\n",
              "      <td>118</td>\n",
              "      <td>117.00</td>\n",
              "      <td>12</td>\n",
              "      <td>12.00</td>\n",
              "      <td>1873800.00</td>\n",
              "      <td>1713546.00</td>\n",
              "      <td>1715588.00</td>\n",
              "    </tr>\n",
              "    <tr>\n",
              "      <th>72</th>\n",
              "      <td>136609</td>\n",
              "      <td>Анапа</td>\n",
              "      <td>Белгород</td>\n",
              "      <td>2017-01-08T09:25:00Z</td>\n",
              "      <td>0.83</td>\n",
              "      <td>636</td>\n",
              "      <td>763.20</td>\n",
              "      <td>Sukhoi Superjet-100</td>\n",
              "      <td>97</td>\n",
              "      <td>81</td>\n",
              "      <td>85</td>\n",
              "      <td>71.00</td>\n",
              "      <td>12</td>\n",
              "      <td>10.00</td>\n",
              "      <td>639300.00</td>\n",
              "      <td>598743.00</td>\n",
              "      <td>573695.00</td>\n",
              "    </tr>\n",
              "    <tr>\n",
              "      <th>99</th>\n",
              "      <td>136780</td>\n",
              "      <td>Анапа</td>\n",
              "      <td>Белгород</td>\n",
              "      <td>2017-02-24T09:25:00Z</td>\n",
              "      <td>0.83</td>\n",
              "      <td>636</td>\n",
              "      <td>763.20</td>\n",
              "      <td>Sukhoi Superjet-100</td>\n",
              "      <td>97</td>\n",
              "      <td>89</td>\n",
              "      <td>85</td>\n",
              "      <td>77.00</td>\n",
              "      <td>12</td>\n",
              "      <td>12.00</td>\n",
              "      <td>714900.00</td>\n",
              "      <td>672362.00</td>\n",
              "      <td>652274.00</td>\n",
              "    </tr>\n",
              "    <tr>\n",
              "      <th>98</th>\n",
              "      <td>136778</td>\n",
              "      <td>Анапа</td>\n",
              "      <td>Белгород</td>\n",
              "      <td>2017-02-22T09:25:00Z</td>\n",
              "      <td>0.83</td>\n",
              "      <td>636</td>\n",
              "      <td>763.20</td>\n",
              "      <td>Sukhoi Superjet-100</td>\n",
              "      <td>97</td>\n",
              "      <td>96</td>\n",
              "      <td>85</td>\n",
              "      <td>84.00</td>\n",
              "      <td>12</td>\n",
              "      <td>12.00</td>\n",
              "      <td>759000.00</td>\n",
              "      <td>713116.00</td>\n",
              "      <td>696374.00</td>\n",
              "    </tr>\n",
              "    <tr>\n",
              "      <th>45</th>\n",
              "      <td>136420</td>\n",
              "      <td>Анапа</td>\n",
              "      <td>Москва</td>\n",
              "      <td>2017-01-01T10:05:00Z</td>\n",
              "      <td>1.63</td>\n",
              "      <td>1208</td>\n",
              "      <td>739.59</td>\n",
              "      <td>Boeing 737-300</td>\n",
              "      <td>130</td>\n",
              "      <td>104</td>\n",
              "      <td>118</td>\n",
              "      <td>93.00</td>\n",
              "      <td>12</td>\n",
              "      <td>11.00</td>\n",
              "      <td>1542000.00</td>\n",
              "      <td>1406655.00</td>\n",
              "      <td>1379575.00</td>\n",
              "    </tr>\n",
              "    <tr>\n",
              "      <th>123</th>\n",
              "      <td>136937</td>\n",
              "      <td>Анапа</td>\n",
              "      <td>Белгород</td>\n",
              "      <td>2017-01-03T09:25:00Z</td>\n",
              "      <td>0.83</td>\n",
              "      <td>636</td>\n",
              "      <td>763.20</td>\n",
              "      <td>Sukhoi Superjet-100</td>\n",
              "      <td>97</td>\n",
              "      <td>81</td>\n",
              "      <td>85</td>\n",
              "      <td>72.00</td>\n",
              "      <td>12</td>\n",
              "      <td>9.00</td>\n",
              "      <td>626100.00</td>\n",
              "      <td>585543.00</td>\n",
              "      <td>560495.00</td>\n",
              "    </tr>\n",
              "    <tr>\n",
              "      <th>83</th>\n",
              "      <td>136666</td>\n",
              "      <td>Анапа</td>\n",
              "      <td>Белгород</td>\n",
              "      <td>2017-02-09T09:25:00Z</td>\n",
              "      <td>0.83</td>\n",
              "      <td>636</td>\n",
              "      <td>763.20</td>\n",
              "      <td>Sukhoi Superjet-100</td>\n",
              "      <td>97</td>\n",
              "      <td>87</td>\n",
              "      <td>85</td>\n",
              "      <td>78.00</td>\n",
              "      <td>12</td>\n",
              "      <td>9.00</td>\n",
              "      <td>664500.00</td>\n",
              "      <td>622918.00</td>\n",
              "      <td>601874.00</td>\n",
              "    </tr>\n",
              "  </tbody>\n",
              "</table>\n",
              "</div>"
            ],
            "text/plain": [
              "     flight_id departure_city arrival_city   scheduled_departure  \\\n",
              "78      136645          Анапа     Белгород  2017-01-05T09:25:00Z   \n",
              "42      136389          Анапа       Москва  2017-01-18T10:05:00Z   \n",
              "47      136428          Анапа       Москва  2017-01-21T10:05:00Z   \n",
              "16      136204          Анапа       Москва  2017-02-23T10:05:00Z   \n",
              "49      136439          Анапа       Москва  2017-02-25T10:05:00Z   \n",
              "75      136630          Анапа     Белгород  2017-02-25T09:25:00Z   \n",
              "120     136922          Анапа     Белгород  2017-02-11T09:25:00Z   \n",
              "31      136310          Анапа       Москва  2017-01-22T10:05:00Z   \n",
              "43      136403          Анапа       Москва  2017-02-20T10:05:00Z   \n",
              "72      136609          Анапа     Белгород  2017-01-08T09:25:00Z   \n",
              "99      136780          Анапа     Белгород  2017-02-24T09:25:00Z   \n",
              "98      136778          Анапа     Белгород  2017-02-22T09:25:00Z   \n",
              "45      136420          Анапа       Москва  2017-01-01T10:05:00Z   \n",
              "123     136937          Анапа     Белгород  2017-01-03T09:25:00Z   \n",
              "83      136666          Анапа     Белгород  2017-02-09T09:25:00Z   \n",
              "\n",
              "     flight_duration_in_hr  flight_distance  avg_speed       aircraft_model  \\\n",
              "78                    0.85              636     748.24  Sukhoi Superjet-100   \n",
              "42                    1.67             1208     724.80       Boeing 737-300   \n",
              "47                    1.65             1208     732.12       Boeing 737-300   \n",
              "16                    1.67             1208     724.80       Boeing 737-300   \n",
              "49                    1.67             1208     724.80       Boeing 737-300   \n",
              "75                    0.83              636     763.20  Sukhoi Superjet-100   \n",
              "120                   0.83              636     763.20  Sukhoi Superjet-100   \n",
              "31                    1.67             1208     724.80       Boeing 737-300   \n",
              "43                    1.67             1208     724.80       Boeing 737-300   \n",
              "72                    0.83              636     763.20  Sukhoi Superjet-100   \n",
              "99                    0.83              636     763.20  Sukhoi Superjet-100   \n",
              "98                    0.83              636     763.20  Sukhoi Superjet-100   \n",
              "45                    1.63             1208     739.59       Boeing 737-300   \n",
              "123                   0.83              636     763.20  Sukhoi Superjet-100   \n",
              "83                    0.83              636     763.20  Sukhoi Superjet-100   \n",
              "\n",
              "     seats_in_a_plane  seats_sold  economy_seats_in_a_plane  economy_sold  \\\n",
              "78                 97          82                        85         73.00   \n",
              "42                130         129                       118        117.00   \n",
              "47                130         115                       118        104.00   \n",
              "16                130         107                       118        101.00   \n",
              "49                130         117                       118        106.00   \n",
              "75                 97          94                        85         82.00   \n",
              "120                97          76                        85         66.00   \n",
              "31                130         117                       118        108.00   \n",
              "43                130         129                       118        117.00   \n",
              "72                 97          81                        85         71.00   \n",
              "99                 97          89                        85         77.00   \n",
              "98                 97          96                        85         84.00   \n",
              "45                130         104                       118         93.00   \n",
              "123                97          81                        85         72.00   \n",
              "83                 97          87                        85         78.00   \n",
              "\n",
              "     business_seats_in_a_plane  business_sold  gain_per_flight  \\\n",
              "78                          12           9.00        633000.00   \n",
              "42                          12          12.00       1873800.00   \n",
              "47                          12          11.00       1678600.00   \n",
              "16                          12           6.00       1457800.00   \n",
              "49                          12          11.00       1701800.00   \n",
              "75                          12          12.00        746400.00   \n",
              "120                         12          10.00        607800.00   \n",
              "31                          12           9.00       1654200.00   \n",
              "43                          12          12.00       1873800.00   \n",
              "72                          12          10.00        639300.00   \n",
              "99                          12          12.00        714900.00   \n",
              "98                          12          12.00        759000.00   \n",
              "45                          12          11.00       1542000.00   \n",
              "123                         12           9.00        626100.00   \n",
              "83                          12           9.00        664500.00   \n",
              "\n",
              "     income_per_flight_dist  income_per_flight_dur  \n",
              "78                591943.00              566082.00  \n",
              "42               1705921.00             1708060.00  \n",
              "47               1528940.00             1514517.00  \n",
              "16               1324876.00             1299588.00  \n",
              "49               1556453.00             1543588.00  \n",
              "75                701472.00              683774.00  \n",
              "120               571475.00              545174.00  \n",
              "31               1501937.00             1488460.00  \n",
              "43               1713546.00             1715588.00  \n",
              "72                598743.00              573695.00  \n",
              "99                672362.00              652274.00  \n",
              "98                713116.00              696374.00  \n",
              "45               1406655.00             1379575.00  \n",
              "123               585543.00              560495.00  \n",
              "83                622918.00              601874.00  "
            ]
          },
          "metadata": {},
          "execution_count": 37
        }
      ]
    },
    {
      "cell_type": "markdown",
      "metadata": {
        "id": "5Pxf5hiBPSyd"
      },
      "source": [
        "## **Пояснение к датасету**\n",
        "\n",
        "*   flight_id - индентификатор рейса \n",
        "*   departure_city - город отправления\n",
        "*   arrival_city - город прибытия\n",
        "*   scheduled_departure - дата и время отправления по расписанию\n",
        "*   flight_duration_in_hr - фактическая продолжительность полета, ч\n",
        "*   flight_distance - дальность рейса, км\n",
        "*   avg_speed - средняя скорость на рейсе, км/ч\n",
        "*   aircraft_model - модель самолета\n",
        "*   seats_in_a_plane - количество пассажирских мест в самолете\n",
        "*   seats_sold - общее количество проданных мест\n",
        "*   economy_sold - количество проданных мест в эконом-классе\n",
        "*   business_sold - количество проданных мест в бизнес-классе\n",
        "*   gain_per_flight - выручка от продажи билетов на рейс\n",
        "*   income_per_flight_dist - оценка прибыльности рейса по дальности полета\n",
        "*   income_per_flight_dur - оценка прибыльности рейса по длительности полета\n",
        "\n",
        "\n"
      ]
    },
    {
      "cell_type": "code",
      "metadata": {
        "colab": {
          "base_uri": "https://localhost:8080/"
        },
        "id": "8vLJiq-I7arF",
        "outputId": "23b617ba-e39e-4959-cf26-a17f0ef2e91d"
      },
      "source": [
        "data.info()"
      ],
      "execution_count": 38,
      "outputs": [
        {
          "output_type": "stream",
          "name": "stdout",
          "text": [
            "<class 'pandas.core.frame.DataFrame'>\n",
            "RangeIndex: 127 entries, 0 to 126\n",
            "Data columns (total 17 columns):\n",
            " #   Column                     Non-Null Count  Dtype  \n",
            "---  ------                     --------------  -----  \n",
            " 0   flight_id                  127 non-null    int64  \n",
            " 1   departure_city             127 non-null    object \n",
            " 2   arrival_city               127 non-null    object \n",
            " 3   scheduled_departure        127 non-null    object \n",
            " 4   flight_duration_in_hr      127 non-null    float64\n",
            " 5   flight_distance            127 non-null    int64  \n",
            " 6   avg_speed                  127 non-null    float64\n",
            " 7   aircraft_model             127 non-null    object \n",
            " 8   seats_in_a_plane           127 non-null    int64  \n",
            " 9   seats_sold                 127 non-null    int64  \n",
            " 10  economy_seats_in_a_plane   127 non-null    int64  \n",
            " 11  economy_sold               118 non-null    float64\n",
            " 12  business_seats_in_a_plane  127 non-null    int64  \n",
            " 13  business_sold              118 non-null    float64\n",
            " 14  gain_per_flight            118 non-null    float64\n",
            " 15  income_per_flight_dist     118 non-null    float64\n",
            " 16  income_per_flight_dur      118 non-null    float64\n",
            "dtypes: float64(7), int64(6), object(4)\n",
            "memory usage: 17.0+ KB\n"
          ]
        }
      ]
    },
    {
      "cell_type": "code",
      "metadata": {
        "id": "hTUQ73sBMjNj"
      },
      "source": [
        "# data[['avg_speed', 'gain_per_flight', 'income_per_flight_eval1', 'income_per_flight_eval2']] =\\\n",
        "#     data[['avg_speed', 'gain_per_flight', 'income_per_flight_eval1', 'income_per_flight_eval2']].\\\n",
        "#         apply(lambda se: se.apply(lambda x: '%.0f' % x), axis=1)\n",
        "\n",
        "data.drop(['avg_speed', 'income_per_flight_dist'], axis=1, inplace=True)"
      ],
      "execution_count": 39,
      "outputs": []
    },
    {
      "cell_type": "markdown",
      "metadata": {
        "id": "pssSZAbCTIHw"
      },
      "source": [
        "###Рейсы в Новокузнецк не имеют статус отменненых, однако **данных** по количеству купленных билетов и соответственно по прибыли нет"
      ]
    },
    {
      "cell_type": "code",
      "metadata": {
        "colab": {
          "base_uri": "https://localhost:8080/"
        },
        "id": "DFtaJ9DORwbh",
        "outputId": "c5ba91e5-6366-4115-a13d-21525207b85d"
      },
      "source": [
        "print('Количество непустых строк по городу прибытия Новокузнецк: ', data[(data.seats_sold != 0) & (data.arrival_city == 'Новокузнецк')].shape[0])\n",
        "\n",
        "data.fillna(0, inplace=True) # заполняем отсутствующие данные нулями"
      ],
      "execution_count": 40,
      "outputs": [
        {
          "output_type": "stream",
          "name": "stdout",
          "text": [
            "Количество непустых строк по городу прибытия Новокузнецк:  0\n"
          ]
        }
      ]
    },
    {
      "cell_type": "markdown",
      "metadata": {
        "id": "FVZwpC5qIit3"
      },
      "source": [
        "##Распределение заполняемости самолета по рейсам и модели самолета"
      ]
    },
    {
      "cell_type": "code",
      "metadata": {
        "colab": {
          "base_uri": "https://localhost:8080/",
          "height": 659
        },
        "id": "AUN0ZMgh_rUq",
        "outputId": "a9930c5e-418d-4014-a1b1-4ef4ae5ca620"
      },
      "source": [
        "# вводим столбцы для заполняемости самолета\n",
        "data['occupancy_rate'] = data.seats_sold / data.seats_in_a_plane * 100\n",
        "data['eco_occupancy_rate'] = data.economy_sold / data.economy_seats_in_a_plane * 100\n",
        "data['biz_occupancy_rate'] = data.business_sold / data.business_seats_in_a_plane * 100\n",
        "\n",
        "for model in data.aircraft_model.unique():\n",
        "    plt.rcParams[\"figure.figsize\"] = (16, 5)\n",
        "    fig, axs = plt.subplots(1, 2)\n",
        "    plt.axes(axs[0])\n",
        "    plt.title(f'Рейсы {model}', fontdict = {'fontsize': 15}, loc='left')\n",
        "    data[(data.aircraft_model == model) & (data.seats_sold != 0)].occupancy_rate.hist(bins=20, color='green');\n",
        "    plt.legend(['All'])\n",
        "    \n",
        "    plt.axes(axs[1])\n",
        "    for col in ['eco_occupancy_rate', 'biz_occupancy_rate']:\n",
        "        data[(data.aircraft_model == model) & (data.seats_sold != 0)][col].hist(bins=20);\n",
        "    plt.legend(['Economy', 'Business'])\n",
        "    plt.show()"
      ],
      "execution_count": 68,
      "outputs": [
        {
          "output_type": "display_data",
          "data": {
            "image/png": "[encoded data removed]",
            "text/plain": [
              "<Figure size 1152x360 with 2 Axes>"
            ]
          },
          "metadata": {
            "needs_background": "light"
          }
        },
        {
          "output_type": "display_data",
          "data": {
            "image/png": "[encoded data removed]",
            "text/plain": [
              "<Figure size 1152x360 with 2 Axes>"
            ]
          },
          "metadata": {
            "needs_background": "light"
          }
        }
      ]
    },
    {
      "cell_type": "markdown",
      "metadata": {
        "id": "VfDd88I5Oq_d"
      },
      "source": [
        "##Рейсы с низкой заполняемостью - возможные кандидаты на отмену"
      ]
    },
    {
      "cell_type": "code",
      "metadata": {
        "id": "nqeNMsMbNrwZ"
      },
      "source": [
        "data[(data.occupancy_rate > 0) & (data.occupancy_rate < 75)][['flight_id', 'scheduled_departure', 'arrival_city']]"
      ],
      "execution_count": null,
      "outputs": []
    },
    {
      "cell_type": "code",
      "metadata": {
        "id": "mdTzir1f5mlS"
      },
      "source": [
        "df1 = pd.DataFrame(data.groupby(by=['arrival_city', 'aircraft_model'])['departure_city'].count())\n",
        "df1.columns = ['num_of_flights']\n",
        "\n",
        "df2 = data.drop(['flight_id'], axis=1).groupby(by=['arrival_city', 'aircraft_model']).mean()\n",
        "df2.rename(columns={'income_per_flight_dur': 'income_per_flight'}, inplace=True)\n",
        "df2['income_per_flight_hr'] = df2.income_per_flight / df2.flight_duration_in_hr\n",
        "pd.concat([df1, df2], axis=1)"
      ],
      "execution_count": null,
      "outputs": []
    }
  ]
}