{
  "nbformat": 4,
  "nbformat_minor": 0,
  "metadata": {
    "colab": {
      "name": "Project 5 - Computer says no_Akimkin Timofey",
      "provenance": [],
      "authorship_tag": "ABX9TyOiXALTgL+KiSexrBUuI5zu",
      "include_colab_link": true
    },
    "kernelspec": {
      "name": "python3",
      "display_name": "Python 3"
    },
    "language_info": {
      "name": "python"
    }
  },
  "cells": [
    {
      "cell_type": "markdown",
      "metadata": {
        "id": "view-in-github",
        "colab_type": "text"
      },
      "source": [
        "<a href=\"https://colab.research.google.com/github/akitim/SkillFactory_projects/blob/main/Project_5_Computer_says_no_Akimkin_Timofey.ipynb\" target=\"_parent\"><img src=\"https://colab.research.google.com/assets/colab-badge.svg\" alt=\"Open In Colab\"/></a>"
      ]
    },
    {
      "cell_type": "code",
      "metadata": {
        "id": "_fIWtqvDpB4-"
      },
      "source": [
        "import pandas as pd\n",
        "import numpy as np\n",
        "import seaborn as sns\n",
        "import matplotlib.pyplot as plt\n",
        "from sklearn.model_selection import GridSearchCV\n",
        "from sklearn.feature_selection import f_classif, mutual_info_classif\n",
        "\n",
        "\n",
        "# import warnings\n",
        "# warnings.filterwarnings('ignore')\n",
        "\n",
        "# import sys\n",
        "# from google.colab import drive\n",
        "# drive.mount('/content/gdrive', force_remount=True)\n",
        "# sys.path.clear\n",
        "# sys.path.append('/content/gdrive/MyDrive/SkillFactory')"
      ],
      "execution_count": 60,
      "outputs": []
    },
    {
      "cell_type": "code",
      "metadata": {
        "id": "pyVp-956oPbO",
        "colab": {
          "base_uri": "https://localhost:8080/",
          "height": 81
        },
        "outputId": "5284f82a-89ad-430d-bc89-dbe445375fe4"
      },
      "source": [
        "path = 'https://raw.githubusercontent.com/akitim/datasets/main/computer_says_no.csv'\n",
        "data = pd.read_csv(path, encoding = 'ISO-8859-1', low_memory = False)\n",
        "data.sample(1)"
      ],
      "execution_count": 61,
      "outputs": [
        {
          "output_type": "execute_result",
          "data": {
            "text/html": [
              "<div>\n",
              "<style scoped>\n",
              "    .dataframe tbody tr th:only-of-type {\n",
              "        vertical-align: middle;\n",
              "    }\n",
              "\n",
              "    .dataframe tbody tr th {\n",
              "        vertical-align: top;\n",
              "    }\n",
              "\n",
              "    .dataframe thead th {\n",
              "        text-align: right;\n",
              "    }\n",
              "</style>\n",
              "<table border=\"1\" class=\"dataframe\">\n",
              "  <thead>\n",
              "    <tr style=\"text-align: right;\">\n",
              "      <th></th>\n",
              "      <th>client_id</th>\n",
              "      <th>education</th>\n",
              "      <th>sex</th>\n",
              "      <th>age</th>\n",
              "      <th>car</th>\n",
              "      <th>car_type</th>\n",
              "      <th>decline_app_cnt</th>\n",
              "      <th>good_work</th>\n",
              "      <th>bki_request_cnt</th>\n",
              "      <th>home_address</th>\n",
              "      <th>work_address</th>\n",
              "      <th>income</th>\n",
              "      <th>foreign_passport</th>\n",
              "      <th>default</th>\n",
              "    </tr>\n",
              "  </thead>\n",
              "  <tbody>\n",
              "    <tr>\n",
              "      <th>38068</th>\n",
              "      <td>66857</td>\n",
              "      <td>SCH</td>\n",
              "      <td>M</td>\n",
              "      <td>36</td>\n",
              "      <td>N</td>\n",
              "      <td>N</td>\n",
              "      <td>2</td>\n",
              "      <td>0</td>\n",
              "      <td>4</td>\n",
              "      <td>2</td>\n",
              "      <td>3</td>\n",
              "      <td>25000</td>\n",
              "      <td>N</td>\n",
              "      <td>0</td>\n",
              "    </tr>\n",
              "  </tbody>\n",
              "</table>\n",
              "</div>"
            ],
            "text/plain": [
              "       client_id education sex  ...  income foreign_passport default\n",
              "38068      66857       SCH   M  ...   25000                N       0\n",
              "\n",
              "[1 rows x 14 columns]"
            ]
          },
          "metadata": {},
          "execution_count": 61
        }
      ]
    },
    {
      "cell_type": "code",
      "metadata": {
        "id": "syjmr0tO4-Hl",
        "colab": {
          "base_uri": "https://localhost:8080/"
        },
        "outputId": "8442a122-6936-4c83-a2ce-1bdf89a2a511"
      },
      "source": [
        "data.info();"
      ],
      "execution_count": 62,
      "outputs": [
        {
          "output_type": "stream",
          "name": "stdout",
          "text": [
            "<class 'pandas.core.frame.DataFrame'>\n",
            "RangeIndex: 73799 entries, 0 to 73798\n",
            "Data columns (total 14 columns):\n",
            " #   Column            Non-Null Count  Dtype \n",
            "---  ------            --------------  ----- \n",
            " 0   client_id         73799 non-null  int64 \n",
            " 1   education         73492 non-null  object\n",
            " 2   sex               73799 non-null  object\n",
            " 3   age               73799 non-null  int64 \n",
            " 4   car               73799 non-null  object\n",
            " 5   car_type          73799 non-null  object\n",
            " 6   decline_app_cnt   73799 non-null  int64 \n",
            " 7   good_work         73799 non-null  int64 \n",
            " 8   bki_request_cnt   73799 non-null  int64 \n",
            " 9   home_address      73799 non-null  int64 \n",
            " 10  work_address      73799 non-null  int64 \n",
            " 11  income            73799 non-null  int64 \n",
            " 12  foreign_passport  73799 non-null  object\n",
            " 13  default           73799 non-null  int64 \n",
            "dtypes: int64(9), object(5)\n",
            "memory usage: 7.9+ MB\n"
          ]
        }
      ]
    },
    {
      "cell_type": "code",
      "metadata": {
        "id": "hplfbIc19cUv"
      },
      "source": [
        "#бинарные переменные \n",
        "bin_cols = ['sex', 'car', 'car_type', 'good_work', 'foreign_passport']\n",
        "\n",
        "#категориальные переменные\n",
        "cat_cols = ['education', 'work_address', 'home_address']\n",
        "\n",
        "#числовые переменные\n",
        "num_cols = ['age', 'decline_app_cnt', 'bki_request_cnt', 'income']\n",
        "\n",
        "# fig, ax = plt.subplots(2, 4, sharey=False, figsize=(20,10))\n",
        "# for cat in enumerate(num_cols):\n",
        "#     ax_curr = ax[0, cat[0]] #(cat[0] // 2 + 1, 2*cat[0] % 4 + 1, 2*cat[0] % 4) - горизонтальное размещение\n",
        "#     sns.histplot(data[cat[1]][data[cat[1]] > 0].dropna(), kde=True, ax=ax_curr)\n",
        "#     ax_curr.set_title(cat[1])\n",
        "#     ax_curr.set_xlabel('')\n",
        "#     ax_curr.set_ylabel('')\n",
        "\n",
        "#     ax_curr = ax[1, cat[0]] #(cat[0] // 2 + 1, 2*cat[0] % 4 + 1, 2*cat[0] % 4) - горизонтальное размещение\n",
        "#     sns.histplot(data[cat[1]][data[cat[1]] > 0].apply(np.log).dropna(), kde=True, ax=ax_curr)\n",
        "#     ax_curr.set_title(cat[1] + '_log')\n",
        "#     ax_curr.set_xlabel('')\n",
        "#     ax_curr.set_ylabel('')\n",
        "\n",
        "# fig.suptitle('Распределение числовых переменных', fontsize=16);"
      ],
      "execution_count": 63,
      "outputs": []
    },
    {
      "cell_type": "code",
      "metadata": {
        "id": "ptPm2kFW68Hi",
        "colab": {
          "base_uri": "https://localhost:8080/",
          "height": 373
        },
        "outputId": "031bb120-fa41-4ded-fa0d-6b2bc449cf8d"
      },
      "source": [
        "data.education.value_counts(dropna=False).plot.barh();\n",
        "data.education.value_counts(dropna=True)"
      ],
      "execution_count": 64,
      "outputs": [
        {
          "output_type": "execute_result",
          "data": {
            "text/plain": [
              "SCH    38860\n",
              "GRD    23365\n",
              "UGR     9816\n",
              "PGR     1257\n",
              "ACD      194\n",
              "Name: education, dtype: int64"
            ]
          },
          "metadata": {},
          "execution_count": 64
        },
        {
          "output_type": "display_data",
          "data": {
            "image/png": "[encoded data removed]",
            "text/plain": [
              "<Figure size 432x288 with 1 Axes>"
            ]
          },
          "metadata": {
            "needs_background": "light"
          }
        }
      ]
    },
    {
      "cell_type": "code",
      "metadata": {
        "id": "RVS_BPeykhUG"
      },
      "source": [
        "# np.random.RandomState = 49\n",
        "\n",
        "edu_species = data.education.dropna().unique()\n",
        "edu_species_num = edu_species.shape[0]\n",
        "weights = data.education.value_counts() / data.education.count()\n",
        "\n",
        "data.education = data.education.apply(\n",
        "    lambda x: np.random.choice(edu_species, 1, p = weights)[0] if pd.isna(x) else x\n",
        ")   "
      ],
      "execution_count": 65,
      "outputs": []
    },
    {
      "cell_type": "code",
      "metadata": {
        "colab": {
          "base_uri": "https://localhost:8080/",
          "height": 81
        },
        "id": "puFhPCToUJ4Z",
        "outputId": "4bd6d9e1-7eba-4647-8047-1396a1c30e9e"
      },
      "source": [
        "data.sample(1)"
      ],
      "execution_count": 66,
      "outputs": [
        {
          "output_type": "execute_result",
          "data": {
            "text/html": [
              "<div>\n",
              "<style scoped>\n",
              "    .dataframe tbody tr th:only-of-type {\n",
              "        vertical-align: middle;\n",
              "    }\n",
              "\n",
              "    .dataframe tbody tr th {\n",
              "        vertical-align: top;\n",
              "    }\n",
              "\n",
              "    .dataframe thead th {\n",
              "        text-align: right;\n",
              "    }\n",
              "</style>\n",
              "<table border=\"1\" class=\"dataframe\">\n",
              "  <thead>\n",
              "    <tr style=\"text-align: right;\">\n",
              "      <th></th>\n",
              "      <th>client_id</th>\n",
              "      <th>education</th>\n",
              "      <th>sex</th>\n",
              "      <th>age</th>\n",
              "      <th>car</th>\n",
              "      <th>car_type</th>\n",
              "      <th>decline_app_cnt</th>\n",
              "      <th>good_work</th>\n",
              "      <th>bki_request_cnt</th>\n",
              "      <th>home_address</th>\n",
              "      <th>work_address</th>\n",
              "      <th>income</th>\n",
              "      <th>foreign_passport</th>\n",
              "      <th>default</th>\n",
              "    </tr>\n",
              "  </thead>\n",
              "  <tbody>\n",
              "    <tr>\n",
              "      <th>22315</th>\n",
              "      <td>38688</td>\n",
              "      <td>UGR</td>\n",
              "      <td>F</td>\n",
              "      <td>27</td>\n",
              "      <td>Y</td>\n",
              "      <td>N</td>\n",
              "      <td>1</td>\n",
              "      <td>0</td>\n",
              "      <td>0</td>\n",
              "      <td>2</td>\n",
              "      <td>3</td>\n",
              "      <td>35000</td>\n",
              "      <td>N</td>\n",
              "      <td>1</td>\n",
              "    </tr>\n",
              "  </tbody>\n",
              "</table>\n",
              "</div>"
            ],
            "text/plain": [
              "       client_id education sex  ...  income foreign_passport default\n",
              "22315      38688       UGR   F  ...   35000                N       1\n",
              "\n",
              "[1 rows x 14 columns]"
            ]
          },
          "metadata": {},
          "execution_count": 66
        }
      ]
    },
    {
      "cell_type": "code",
      "metadata": {
        "colab": {
          "base_uri": "https://localhost:8080/",
          "height": 554
        },
        "id": "_iVF8geOQlfG",
        "outputId": "e8135b2e-0262-4141-b1bb-f0a2b69aee74"
      },
      "source": [
        "fig, ax = plt.subplots(2, 2, figsize=(20, 8))\n",
        "for cat in enumerate(num_cols):\n",
        "    ax_c = ax[cat[0] // 2, cat[0] % 2]\n",
        "    sns.boxenplot(x='default', y=cat[1], data=data[num_cols+['default']], ax=ax_c)\n",
        "    ax_c.set_ylabel(cat[1], fontsize=13)\n",
        "# ax2 = sns.boxenplot(x='', y='', data=data[])\n",
        "fig.suptitle('Распределение числовых переменных', fontsize=16);"
      ],
      "execution_count": 67,
      "outputs": [
        {
          "output_type": "display_data",
          "data": {
            "image/png": "[encoded data removed]",
            "text/plain": [
              "<Figure size 1440x576 with 4 Axes>"
            ]
          },
          "metadata": {
            "needs_background": "light"
          }
        }
      ]
    },
    {
      "cell_type": "code",
      "metadata": {
        "colab": {
          "base_uri": "https://localhost:8080/",
          "height": 112
        },
        "id": "HvPr7kXHkeXY",
        "outputId": "0516520b-e644-4f3d-a66b-4f260e93a86f"
      },
      "source": [
        "decline_grouped = data.groupby(by='default')['decline_app_cnt']\n",
        "\n",
        "df = pd.concat([ decline_grouped.mean(), \n",
        "                decline_grouped.median(), \n",
        "                pd.Series([data[data.default == 0]['decline_app_cnt'].mode().values, \n",
        "                           data[data.default == 1]['decline_app_cnt'].mode().values\n",
        "                ]) ], axis=1\n",
        ")\n",
        "df.columns = ['mean', 'median', 'mode']\n",
        "df.index = ['Недефолтники:', 'Дефолтники:']\n",
        "df"
      ],
      "execution_count": 68,
      "outputs": [
        {
          "output_type": "execute_result",
          "data": {
            "text/html": [
              "<div>\n",
              "<style scoped>\n",
              "    .dataframe tbody tr th:only-of-type {\n",
              "        vertical-align: middle;\n",
              "    }\n",
              "\n",
              "    .dataframe tbody tr th {\n",
              "        vertical-align: top;\n",
              "    }\n",
              "\n",
              "    .dataframe thead th {\n",
              "        text-align: right;\n",
              "    }\n",
              "</style>\n",
              "<table border=\"1\" class=\"dataframe\">\n",
              "  <thead>\n",
              "    <tr style=\"text-align: right;\">\n",
              "      <th></th>\n",
              "      <th>mean</th>\n",
              "      <th>median</th>\n",
              "      <th>mode</th>\n",
              "    </tr>\n",
              "  </thead>\n",
              "  <tbody>\n",
              "    <tr>\n",
              "      <th>Недефолтники:</th>\n",
              "      <td>0.240877</td>\n",
              "      <td>0</td>\n",
              "      <td>[0]</td>\n",
              "    </tr>\n",
              "    <tr>\n",
              "      <th>Дефолтники:</th>\n",
              "      <td>0.515472</td>\n",
              "      <td>0</td>\n",
              "      <td>[0]</td>\n",
              "    </tr>\n",
              "  </tbody>\n",
              "</table>\n",
              "</div>"
            ],
            "text/plain": [
              "                   mean  median mode\n",
              "Недефолтники:  0.240877       0  [0]\n",
              "Дефолтники:    0.515472       0  [0]"
            ]
          },
          "metadata": {},
          "execution_count": 68
        }
      ]
    },
    {
      "cell_type": "code",
      "metadata": {
        "colab": {
          "base_uri": "https://localhost:8080/",
          "height": 433
        },
        "id": "dn8qIe4-lUDW",
        "outputId": "960ca1c0-fd89-4677-fd6d-2de9e5a63b0e"
      },
      "source": [
        "plt.figure(figsize=(8, 7))\n",
        "ax = sns.heatmap(data[num_cols].corr().abs(), annot=True, vmin=0, vmax=1, cmap='Spectral_r');"
      ],
      "execution_count": 69,
      "outputs": [
        {
          "output_type": "display_data",
          "data": {
            "image/png": "[encoded data removed]",
            "text/plain": [
              "<Figure size 576x504 with 2 Axes>"
            ]
          },
          "metadata": {
            "needs_background": "light"
          }
        }
      ]
    },
    {
      "cell_type": "markdown",
      "metadata": {
        "id": "p7fY_2aFAozN"
      },
      "source": [
        "###ANOVA анализ"
      ]
    },
    {
      "cell_type": "code",
      "metadata": {
        "id": "gfLmkqD9Apsh",
        "colab": {
          "base_uri": "https://localhost:8080/",
          "height": 265
        },
        "outputId": "95c1a320-e927-4316-85aa-9b3e290ed391"
      },
      "source": [
        "imp_num = pd.Series(f_classif(data[num_cols], data['default'])[0], index = num_cols)\n",
        "imp_num.sort_values(inplace = True)\n",
        "imp_num.plot(kind = 'barh');"
      ],
      "execution_count": 70,
      "outputs": [
        {
          "output_type": "display_data",
          "data": {
            "image/png": "[encoded data removed]",
            "text/plain": [
              "<Figure size 432x288 with 1 Axes>"
            ]
          },
          "metadata": {
            "needs_background": "light"
          }
        }
      ]
    },
    {
      "cell_type": "markdown",
      "metadata": {
        "id": "mUSEuqC4BzV7"
      },
      "source": [
        "Признак decline_app_cnt - самый значимый."
      ]
    },
    {
      "cell_type": "markdown",
      "metadata": {
        "id": "hTtsUHyTDOTQ"
      },
      "source": [
        "#Label encoding"
      ]
    },
    {
      "cell_type": "code",
      "metadata": {
        "id": "sTT_7qqsB_fz",
        "colab": {
          "base_uri": "https://localhost:8080/",
          "height": 206
        },
        "outputId": "ada5e41b-4491-4bda-c6fd-e3e29341467e"
      },
      "source": [
        "from sklearn.preprocessing import LabelEncoder\n",
        "# Для бинарных признаков мы будем использовать LabelEncoder\n",
        "\n",
        "label_encoder = LabelEncoder()\n",
        "\n",
        "for column in bin_cols:\n",
        "    data[column] = label_encoder.fit_transform(data[column])\n",
        "\n",
        "data.education = label_encoder.fit_transform(data.education)    \n",
        "# убедимся в преобразовании    \n",
        "data.head()"
      ],
      "execution_count": 71,
      "outputs": [
        {
          "output_type": "execute_result",
          "data": {
            "text/html": [
              "<div>\n",
              "<style scoped>\n",
              "    .dataframe tbody tr th:only-of-type {\n",
              "        vertical-align: middle;\n",
              "    }\n",
              "\n",
              "    .dataframe tbody tr th {\n",
              "        vertical-align: top;\n",
              "    }\n",
              "\n",
              "    .dataframe thead th {\n",
              "        text-align: right;\n",
              "    }\n",
              "</style>\n",
              "<table border=\"1\" class=\"dataframe\">\n",
              "  <thead>\n",
              "    <tr style=\"text-align: right;\">\n",
              "      <th></th>\n",
              "      <th>client_id</th>\n",
              "      <th>education</th>\n",
              "      <th>sex</th>\n",
              "      <th>age</th>\n",
              "      <th>car</th>\n",
              "      <th>car_type</th>\n",
              "      <th>decline_app_cnt</th>\n",
              "      <th>good_work</th>\n",
              "      <th>bki_request_cnt</th>\n",
              "      <th>home_address</th>\n",
              "      <th>work_address</th>\n",
              "      <th>income</th>\n",
              "      <th>foreign_passport</th>\n",
              "      <th>default</th>\n",
              "    </tr>\n",
              "  </thead>\n",
              "  <tbody>\n",
              "    <tr>\n",
              "      <th>0</th>\n",
              "      <td>25905</td>\n",
              "      <td>3</td>\n",
              "      <td>1</td>\n",
              "      <td>62</td>\n",
              "      <td>1</td>\n",
              "      <td>1</td>\n",
              "      <td>0</td>\n",
              "      <td>0</td>\n",
              "      <td>1</td>\n",
              "      <td>1</td>\n",
              "      <td>2</td>\n",
              "      <td>18000</td>\n",
              "      <td>0</td>\n",
              "      <td>0</td>\n",
              "    </tr>\n",
              "    <tr>\n",
              "      <th>1</th>\n",
              "      <td>63161</td>\n",
              "      <td>3</td>\n",
              "      <td>0</td>\n",
              "      <td>59</td>\n",
              "      <td>0</td>\n",
              "      <td>0</td>\n",
              "      <td>0</td>\n",
              "      <td>0</td>\n",
              "      <td>3</td>\n",
              "      <td>2</td>\n",
              "      <td>3</td>\n",
              "      <td>19000</td>\n",
              "      <td>0</td>\n",
              "      <td>0</td>\n",
              "    </tr>\n",
              "    <tr>\n",
              "      <th>2</th>\n",
              "      <td>25887</td>\n",
              "      <td>3</td>\n",
              "      <td>1</td>\n",
              "      <td>25</td>\n",
              "      <td>1</td>\n",
              "      <td>0</td>\n",
              "      <td>2</td>\n",
              "      <td>0</td>\n",
              "      <td>1</td>\n",
              "      <td>1</td>\n",
              "      <td>2</td>\n",
              "      <td>30000</td>\n",
              "      <td>1</td>\n",
              "      <td>0</td>\n",
              "    </tr>\n",
              "    <tr>\n",
              "      <th>3</th>\n",
              "      <td>16222</td>\n",
              "      <td>3</td>\n",
              "      <td>0</td>\n",
              "      <td>53</td>\n",
              "      <td>0</td>\n",
              "      <td>0</td>\n",
              "      <td>0</td>\n",
              "      <td>0</td>\n",
              "      <td>2</td>\n",
              "      <td>2</td>\n",
              "      <td>3</td>\n",
              "      <td>10000</td>\n",
              "      <td>0</td>\n",
              "      <td>0</td>\n",
              "    </tr>\n",
              "    <tr>\n",
              "      <th>4</th>\n",
              "      <td>101655</td>\n",
              "      <td>1</td>\n",
              "      <td>1</td>\n",
              "      <td>48</td>\n",
              "      <td>0</td>\n",
              "      <td>0</td>\n",
              "      <td>0</td>\n",
              "      <td>1</td>\n",
              "      <td>1</td>\n",
              "      <td>2</td>\n",
              "      <td>3</td>\n",
              "      <td>30000</td>\n",
              "      <td>1</td>\n",
              "      <td>0</td>\n",
              "    </tr>\n",
              "  </tbody>\n",
              "</table>\n",
              "</div>"
            ],
            "text/plain": [
              "   client_id  education  sex  ...  income  foreign_passport  default\n",
              "0      25905          3    1  ...   18000                 0        0\n",
              "1      63161          3    0  ...   19000                 0        0\n",
              "2      25887          3    1  ...   30000                 1        0\n",
              "3      16222          3    0  ...   10000                 0        0\n",
              "4     101655          1    1  ...   30000                 1        0\n",
              "\n",
              "[5 rows x 14 columns]"
            ]
          },
          "metadata": {},
          "execution_count": 71
        }
      ]
    },
    {
      "cell_type": "code",
      "metadata": {
        "colab": {
          "base_uri": "https://localhost:8080/"
        },
        "id": "PRn9GAgMWyWF",
        "outputId": "d5d6e73e-e5e3-4889-98c3-88aa870aa8d7"
      },
      "source": [
        "data.columns"
      ],
      "execution_count": 72,
      "outputs": [
        {
          "output_type": "execute_result",
          "data": {
            "text/plain": [
              "Index(['client_id', 'education', 'sex', 'age', 'car', 'car_type',\n",
              "       'decline_app_cnt', 'good_work', 'bki_request_cnt', 'home_address',\n",
              "       'work_address', 'income', 'foreign_passport', 'default'],\n",
              "      dtype='object')"
            ]
          },
          "metadata": {},
          "execution_count": 72
        }
      ]
    },
    {
      "cell_type": "markdown",
      "metadata": {
        "id": "GCmzXdZPDS0D"
      },
      "source": [
        "#ЗНАЧИМОСТЬ КАТЕГОРИАЛЬНЫХ ПРИЗНАКОВ"
      ]
    },
    {
      "cell_type": "code",
      "metadata": {
        "id": "bK77NsmRDSn0",
        "colab": {
          "base_uri": "https://localhost:8080/",
          "height": 265
        },
        "outputId": "59027a26-30a1-4e2f-fad0-eaa18b6b8064"
      },
      "source": [
        "imp_cat = pd.Series(mutual_info_classif(data[bin_cols + cat_cols], data['default'],\n",
        "                                     discrete_features =True), index = bin_cols + cat_cols)\n",
        "imp_cat.sort_values(inplace = True)\n",
        "imp_cat.plot(kind = 'barh');"
      ],
      "execution_count": 73,
      "outputs": [
        {
          "output_type": "display_data",
          "data": {
            "image/png": "[encoded data removed]",
            "text/plain": [
              "<Figure size 432x288 with 1 Axes>"
            ]
          },
          "metadata": {
            "needs_background": "light"
          }
        }
      ]
    },
    {
      "cell_type": "code",
      "metadata": {
        "id": "6txWZAJ1FfNO"
      },
      "source": [
        ""
      ],
      "execution_count": 73,
      "outputs": []
    },
    {
      "cell_type": "markdown",
      "metadata": {
        "id": "u9Zh7Yb_FgkE"
      },
      "source": [
        "#Предобработка переменных"
      ]
    },
    {
      "cell_type": "code",
      "metadata": {
        "id": "4eZfrDgHFcBi"
      },
      "source": [
        "from sklearn.preprocessing import OneHotEncoder, StandardScaler\n",
        "\n",
        "# One-Hot Encoding категориальных переменных\n",
        "X_cat = OneHotEncoder(sparse = False).fit_transform(data[cat_cols].values)\n",
        "X_cat.shape\n",
        "\n",
        "# Стандартизация числовых переменных\n",
        "X_num = StandardScaler().fit_transform(data[num_cols].values)"
      ],
      "execution_count": 74,
      "outputs": []
    },
    {
      "cell_type": "code",
      "metadata": {
        "id": "XD1KQH0KJbBH"
      },
      "source": [
        "# Объединяем\n",
        "X = np.hstack([np.ones(X_num.shape[0]).reshape(-1, 1), X_num, data[bin_cols].values, X_cat])\n",
        "y = data['default'].values"
      ],
      "execution_count": 76,
      "outputs": []
    },
    {
      "cell_type": "code",
      "metadata": {
        "id": "FuVYTlPwJ8p8"
      },
      "source": [
        "# Обучаем модель\n",
        "from sklearn.linear_model import LogisticRegression\n",
        "\n",
        "lgr = LogisticRegression(max_iter=1000)\n",
        "lgr.fit(X, y)\n",
        "y_proba = lgr.predict_proba(X)[:, 1]\n",
        "y_pred = lgr.predict(X)"
      ],
      "execution_count": 77,
      "outputs": []
    },
    {
      "cell_type": "markdown",
      "metadata": {
        "id": "Q6KPXGv3-RhL"
      },
      "source": [
        "#Метрики модели"
      ]
    },
    {
      "cell_type": "code",
      "metadata": {
        "colab": {
          "base_uri": "https://localhost:8080/"
        },
        "id": "QiJOkFHtLVQj",
        "outputId": "c4dcb1dd-3396-401f-b473-e53f8803094f"
      },
      "source": [
        "from sklearn.metrics import confusion_matrix, roc_auc_score, roc_curve, classification_report\n",
        "\n",
        "confusion_matrix(y, y_pred)"
      ],
      "execution_count": 78,
      "outputs": [
        {
          "output_type": "execute_result",
          "data": {
            "text/plain": [
              "array([[64317,   110],\n",
              "       [ 9298,    74]])"
            ]
          },
          "metadata": {},
          "execution_count": 78
        }
      ]
    },
    {
      "cell_type": "code",
      "metadata": {
        "colab": {
          "base_uri": "https://localhost:8080/",
          "height": 295
        },
        "id": "XQ5g8Ts5tPJS",
        "outputId": "f408be5f-333c-4bfd-dcb6-76761a585d77"
      },
      "source": [
        "roc_auc = roc_auc_score(y, y_proba)\n",
        "\n",
        "fpr, tpr, thresholds = roc_curve(y, y_proba)\n",
        "\n",
        "plt.figure()\n",
        "plt.plot([0, 1], label='Baseline', linestyle='--')\n",
        "plt.plot(fpr, tpr, label = 'Regression')\n",
        "plt.title(f'Logistic Regression ROC AUC =  {roc_auc:0.3f}')\n",
        "plt.ylabel('True Positive Rate')\n",
        "plt.xlabel('False Positive Rate')\n",
        "plt.legend(loc = 'upper left')\n",
        "plt.show()"
      ],
      "execution_count": 79,
      "outputs": [
        {
          "output_type": "display_data",
          "data": {
            "image/png": "[encoded data removed]",
            "text/plain": [
              "<Figure size 432x288 with 1 Axes>"
            ]
          },
          "metadata": {
            "needs_background": "light"
          }
        }
      ]
    },
    {
      "cell_type": "code",
      "metadata": {
        "colab": {
          "base_uri": "https://localhost:8080/"
        },
        "id": "wkT_iDuu-AYo",
        "outputId": "76c0a361-df82-406b-f871-93e7920b962f"
      },
      "source": [
        "print(classification_report(y, y_pred))"
      ],
      "execution_count": 80,
      "outputs": [
        {
          "output_type": "stream",
          "name": "stdout",
          "text": [
            "              precision    recall  f1-score   support\n",
            "\n",
            "           0       0.87      1.00      0.93     64427\n",
            "           1       0.40      0.01      0.02      9372\n",
            "\n",
            "    accuracy                           0.87     73799\n",
            "   macro avg       0.64      0.50      0.47     73799\n",
            "weighted avg       0.81      0.87      0.82     73799\n",
            "\n"
          ]
        }
      ]
    },
    {
      "cell_type": "code",
      "metadata": {
        "colab": {
          "base_uri": "https://localhost:8080/",
          "height": 265
        },
        "id": "RhTmy-3x0rTo",
        "outputId": "3533a026-1083-408a-e1ae-e79ba621fea7"
      },
      "source": [
        "plt.plot(thresholds, fpr, label='FPR');\n",
        "plt.plot(thresholds, tpr, label='TPR');\n",
        "plt.legend(loc='best');"
      ],
      "execution_count": 87,
      "outputs": [
        {
          "output_type": "display_data",
          "data": {
            "image/png": "[encoded data removed]",
            "text/plain": [
              "<Figure size 432x288 with 1 Axes>"
            ]
          },
          "metadata": {
            "needs_background": "light"
          }
        }
      ]
    },
    {
      "cell_type": "markdown",
      "metadata": {
        "id": "GkjPhL99OzDD"
      },
      "source": [
        "#Оптимизация гиперпараметров"
      ]
    },
    {
      "cell_type": "code",
      "metadata": {
        "colab": {
          "base_uri": "https://localhost:8080/"
        },
        "id": "bNSKKFGaOyBC",
        "outputId": "2375fb15-ae01-498c-814d-ce1fb5a56d52"
      },
      "source": [
        "# запускаем GridSearch на небольшом кол-ве итераций max_iter=50 и с достаточно большой дельтой останова tol1e-3\n",
        "# чтобы получить оптимальные параметры модели в первом приближении\n",
        "model = LogisticRegression()\n",
        "\n",
        "iter_ = 100\n",
        "epsilon_stop = 1e-3\n",
        "C = np.logspace(-3, 0, 5)\n",
        "\n",
        "param_grid = [\n",
        "    {'C':C,\n",
        "     'penalty': ['l1'], \n",
        "     'solver': ['liblinear'], \n",
        "     'class_weight':['balanced'], \n",
        "     'multi_class': ['ovr'], \n",
        "     'max_iter':[iter_],\n",
        "     'tol':[epsilon_stop]},\n",
        "    {'C': C,\n",
        "     'penalty': ['l2'], \n",
        "     'solver': ['newton-cg', 'lbfgs', 'liblinear', 'sag', 'saga'], \n",
        "     'class_weight':['balanced'], \n",
        "     'multi_class': ['ovr'], \n",
        "     'max_iter':[iter_],\n",
        "     'tol':[epsilon_stop]},\n",
        "    {'penalty': ['none'], \n",
        "     'solver': ['newton-cg', 'lbfgs', 'sag', 'saga'], \n",
        "     'class_weight': ['balanced'], \n",
        "     'multi_class': ['ovr'], \n",
        "     'max_iter':[iter_],\n",
        "     'tol':[epsilon_stop]}\n",
        "]\n",
        "\n",
        "## model ваша модель логистической регрессии\n",
        "gridsearch = GridSearchCV(model, param_grid, scoring='roc_auc', n_jobs=-1, cv=10, refit=True)\n",
        "gridsearch.fit(X, y)\n",
        "model = gridsearch.best_estimator_\n",
        "\n",
        "##печатаем параметры\n",
        "best_parameters = model.get_params()\n",
        "for param_name in sorted(best_parameters.keys()):\n",
        "        # print('\\t%s: %r' % (param_name, best_parameters[param_name]))\n",
        "        print(f'\\t{param_name}: {best_parameters[param_name]}')"
      ],
      "execution_count": 95,
      "outputs": [
        {
          "output_type": "stream",
          "name": "stdout",
          "text": [
            "\tC: 0.005623413251903491\n",
            "\tclass_weight: balanced\n",
            "\tdual: False\n",
            "\tfit_intercept: True\n",
            "\tintercept_scaling: 1\n",
            "\tl1_ratio: None\n",
            "\tmax_iter: 100\n",
            "\tmulti_class: ovr\n",
            "\tn_jobs: None\n",
            "\tpenalty: l2\n",
            "\trandom_state: None\n",
            "\tsolver: liblinear\n",
            "\ttol: 0.001\n",
            "\tverbose: 0\n",
            "\twarm_start: False\n"
          ]
        }
      ]
    },
    {
      "cell_type": "code",
      "metadata": {
        "id": "b6V2Y3QXbVL0"
      },
      "source": [
        "# for param_name in sorted(best_parameters.keys()):\n",
        "#         # print('\\t%s: %r' % (param_name, best_parameters[param_name]))\n",
        "#         print(f'\\t{param_name}: {best_parameters[param_name]}')"
      ],
      "execution_count": null,
      "outputs": []
    },
    {
      "cell_type": "markdown",
      "metadata": {
        "id": "gFpX_9GGG_vt"
      },
      "source": [
        "###Применяем гиперпараметры, найденные при оптимизации"
      ]
    },
    {
      "cell_type": "code",
      "metadata": {
        "colab": {
          "base_uri": "https://localhost:8080/",
          "height": 295
        },
        "id": "q420uXuLHP-O",
        "outputId": "27e78026-227f-403d-d958-d8543e20503e"
      },
      "source": [
        "y_proba_opt = model.predict_proba(X)[:, 1]\n",
        "\n",
        "roc_auc = roc_auc_score(y, y_proba_opt)\n",
        "\n",
        "fpr, tpr, thresholds = roc_curve(y, y_proba_opt)\n",
        "\n",
        "plt.figure()\n",
        "plt.plot([0, 1], label='Baseline', linestyle='--')\n",
        "plt.plot(fpr, tpr, label = 'Regression')\n",
        "plt.title(f'Logistic Regression ROC AUC =  {roc_auc:0.3f}')\n",
        "plt.ylabel('True Positive Rate')\n",
        "plt.xlabel('False Positive Rate')\n",
        "plt.legend(loc = 'upper left')\n",
        "plt.show()"
      ],
      "execution_count": 98,
      "outputs": [
        {
          "output_type": "display_data",
          "data": {
            "image/png": "[encoded data removed]",
            "text/plain": [
              "<Figure size 432x288 with 1 Axes>"
            ]
          },
          "metadata": {
            "needs_background": "light"
          }
        }
      ]
    }
  ]
}