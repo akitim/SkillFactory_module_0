{
  "cells": [
    {
      "cell_type": "markdown",
      "metadata": {
        "id": "view-in-github",
        "colab_type": "text"
      },
      "source": [
        "<a href=\"https://colab.research.google.com/github/akitim/SkillFactory_projects/blob/main/Project_5_NY_taxi_arrival_time_prediction.ipynb\" target=\"_parent\"><img src=\"https://colab.research.google.com/assets/colab-badge.svg\" alt=\"Open In Colab\"/></a>"
      ]
    },
    {
      "cell_type": "markdown",
      "metadata": {
        "id": "F6EDfWQLkBLX",
        "tags": []
      },
      "source": [
        "## 1. Постановка задачи"
      ]
    },
    {
      "cell_type": "markdown",
      "metadata": {
        "id": "G3NPCLzmkBLa"
      },
      "source": [
        "<center> <img src=https://storage.googleapis.com/kaggle-competitions/kaggle/3333/media/taxi_meter.png align=\"right\" width=\"300\"/> </center>\n",
        "    \n",
        "Вам предстоит решить настоящую задачу машинного обучения, направленную на автоматизацию бизнес процессов. Мы построим модель, которая будет предсказывать общую продолжительность поездки такси в Нью-Йорке.\n",
        "\n",
        "Представьте вы заказываете такси из одной точки Нью-Йорка в другую, причем не обязательно конечная точка должна находиться в пределах города. Сколько вы должны будете за нее заплатить? Известно, что стоимость такси в США  рассчитывается на основе фиксированной ставки + тарифная стоимость, величина которой зависит от времени и расстояния. Тарифы варьируются в зависимости от города.\n",
        "\n",
        "В свою очередь время поездки зависит от множества факторов таких как, откуда и куда вы едете, в какое время суток вы совершаете вашу поездку, погодных условий и так далее.\n",
        "\n",
        "Таким образом, если мы разработаем алгоритм, способный определять длительность поездки, мы сможем прогнозировать ее стоимость самым тривиальным образом, например, просто умножая стоимость на заданный тариф.\n",
        "Сервисы такси хранят огромные объёмы информации о поездках, включая такие данные как конечная, начальная точка маршрута, дата поездки и ее длительность. Эти данные можно использовать для того, чтобы прогнозировать длительность поездки в автоматическом режиме с привлечением искусственного интеллекта.\n",
        "\n",
        "**Бизнес-задача:** определить характеристики и с их помощью спрогнозировать длительность поездки такси.\n",
        "\n",
        "**Техническая задача для вас как для специалиста в Data Science:** построить модель машинного обучения, которая на основе предложенных характеристик клиента будет предсказывать числовой признак - время поездки такси. То есть решить задачу регрессии.\n",
        "\n",
        "**Основные цели проекта:**\n",
        "1. Сформировать набор данных на основе нескольких источников информации\n",
        "2. Спроектировать новые признаки с помощью Feature Engineering и выявить наиболее значимые при построении модели\n",
        "3. Исследовать предоставленные данные и выявить закономерности\n",
        "4. Построить несколько моделей и выбрать из них наилучшую по заданной метрике\n",
        "5. Спроектировать процесс предсказания времени длительности поездки для новых данных\n",
        "\n",
        "Загрузить свое решение на платформу Kaggle, тем самым поучаствовав в настоящем Data Science соревновании.\n",
        "Во время выполнения проекта вы отработаете навыки работы с несколькими источниками данных, генерации признаков, разведывательного анализа и визуализации данных, отбора признаков и, конечно же, построения моделей машинного обучения!\n"
      ]
    },
    {
      "cell_type": "markdown",
      "metadata": {
        "id": "4Up0IUABkBLc",
        "tags": []
      },
      "source": [
        "## 2. Знакомство с данными, базовый анализ и расширение данных"
      ]
    },
    {
      "cell_type": "markdown",
      "metadata": {
        "id": "7W9mZPhWkBLd"
      },
      "source": [
        "Начнём наше исследование со знакомства с предоставленными данными. А также подгрузим дополнительные источники данных и расширим наш исходный датасет.\n"
      ]
    },
    {
      "cell_type": "markdown",
      "metadata": {
        "id": "UTIxJupXkBLd"
      },
      "source": [
        "Заранее импортируем модули, которые нам понадобятся для решения задачи:"
      ]
    },
    {
      "cell_type": "code",
      "execution_count": 1,
      "metadata": {
        "id": "yeC12P0hkBLe",
        "colab": {
          "base_uri": "https://localhost:8080/"
        },
        "outputId": "e18d3cfb-03c0-472f-81c4-4592fde1580d"
      },
      "outputs": [
        {
          "output_type": "stream",
          "name": "stdout",
          "text": [
            "Mounted at /content/drive\n"
          ]
        }
      ],
      "source": [
        "import numpy as np\n",
        "import pandas as pd\n",
        "import matplotlib.pyplot as plt\n",
        "import seaborn as sns\n",
        "import plotly.express as px\n",
        "\n",
        "from scipy import stats\n",
        "from sklearn import linear_model\n",
        "from sklearn import preprocessing\n",
        "from sklearn import model_selection\n",
        "from sklearn import tree\n",
        "from sklearn import ensemble\n",
        "from sklearn import metrics\n",
        "from sklearn import cluster\n",
        "from sklearn import feature_selection\n",
        "\n",
        "import warnings\n",
        "warnings.filterwarnings(\"ignore\")\n",
        "\n",
        "from google.colab import drive\n",
        "drive.mount('/content/drive')"
      ]
    },
    {
      "cell_type": "code",
      "source": [
        "# delete\n",
        "def start():\n",
        "    import numpy as np\n",
        "    import pandas as pd\n",
        "    import matplotlib.pyplot as plt\n",
        "    import seaborn as sns\n",
        "    import plotly.express as px\n",
        "\n",
        "    from scipy import stats\n",
        "    from sklearn import linear_model\n",
        "    from sklearn import preprocessing\n",
        "    from sklearn import model_selection\n",
        "    from sklearn import tree\n",
        "    from sklearn import ensemble\n",
        "    from sklearn import metrics\n",
        "    from sklearn import cluster\n",
        "    from sklearn import feature_selection\n",
        "\n",
        "    import warnings\n",
        "    warnings.filterwarnings(\"ignore\")\n",
        "\n",
        "    from google.colab import drive\n",
        "    drive.mount('/content/drive')"
      ],
      "metadata": {
        "id": "mHFOPWboFSLc"
      },
      "execution_count": null,
      "outputs": []
    },
    {
      "cell_type": "markdown",
      "metadata": {
        "id": "kk5-kjqikBLf"
      },
      "source": [
        "Прочитаем наш файл с исходными данными:"
      ]
    },
    {
      "cell_type": "code",
      "execution_count": null,
      "metadata": {
        "_cell_guid": "79c7e3d0-c299-4dcb-8224-4455121ee9b0",
        "_uuid": "d629ff2d2480ee46fbb7e2d37f6b5fab8052498a",
        "id": "hMQnRJwdkBLg",
        "tags": [],
        "colab": {
          "base_uri": "https://localhost:8080/",
          "height": 374
        },
        "outputId": "7f9875d2-5d5a-4b25-c09a-2b86477c9338"
      },
      "outputs": [
        {
          "output_type": "stream",
          "name": "stdout",
          "text": [
            "Train data shape: (1458644, 11)\n"
          ]
        },
        {
          "output_type": "execute_result",
          "data": {
            "text/plain": [
              "          id  vendor_id      pickup_datetime     dropoff_datetime  \\\n",
              "0  id2875421          2  2016-03-14 17:24:55  2016-03-14 17:32:30   \n",
              "1  id2377394          1  2016-06-12 00:43:35  2016-06-12 00:54:38   \n",
              "2  id3858529          2  2016-01-19 11:35:24  2016-01-19 12:10:48   \n",
              "3  id3504673          2  2016-04-06 19:32:31  2016-04-06 19:39:40   \n",
              "4  id2181028          2  2016-03-26 13:30:55  2016-03-26 13:38:10   \n",
              "\n",
              "   passenger_count  pickup_longitude  pickup_latitude  dropoff_longitude  \\\n",
              "0                1        -73.982155        40.767937         -73.964630   \n",
              "1                1        -73.980415        40.738564         -73.999481   \n",
              "2                1        -73.979027        40.763939         -74.005333   \n",
              "3                1        -74.010040        40.719971         -74.012268   \n",
              "4                1        -73.973053        40.793209         -73.972923   \n",
              "\n",
              "   dropoff_latitude store_and_fwd_flag  trip_duration  \n",
              "0         40.765602                  N            455  \n",
              "1         40.731152                  N            663  \n",
              "2         40.710087                  N           2124  \n",
              "3         40.706718                  N            429  \n",
              "4         40.782520                  N            435  "
            ],
            "text/html": [
              "\n",
              "  <div id=\"df-8f7bcad2-d4d1-4427-a300-8dca68444728\">\n",
              "    <div class=\"colab-df-container\">\n",
              "      <div>\n",
              "<style scoped>\n",
              "    .dataframe tbody tr th:only-of-type {\n",
              "        vertical-align: middle;\n",
              "    }\n",
              "\n",
              "    .dataframe tbody tr th {\n",
              "        vertical-align: top;\n",
              "    }\n",
              "\n",
              "    .dataframe thead th {\n",
              "        text-align: right;\n",
              "    }\n",
              "</style>\n",
              "<table border=\"1\" class=\"dataframe\">\n",
              "  <thead>\n",
              "    <tr style=\"text-align: right;\">\n",
              "      <th></th>\n",
              "      <th>id</th>\n",
              "      <th>vendor_id</th>\n",
              "      <th>pickup_datetime</th>\n",
              "      <th>dropoff_datetime</th>\n",
              "      <th>passenger_count</th>\n",
              "      <th>pickup_longitude</th>\n",
              "      <th>pickup_latitude</th>\n",
              "      <th>dropoff_longitude</th>\n",
              "      <th>dropoff_latitude</th>\n",
              "      <th>store_and_fwd_flag</th>\n",
              "      <th>trip_duration</th>\n",
              "    </tr>\n",
              "  </thead>\n",
              "  <tbody>\n",
              "    <tr>\n",
              "      <th>0</th>\n",
              "      <td>id2875421</td>\n",
              "      <td>2</td>\n",
              "      <td>2016-03-14 17:24:55</td>\n",
              "      <td>2016-03-14 17:32:30</td>\n",
              "      <td>1</td>\n",
              "      <td>-73.982155</td>\n",
              "      <td>40.767937</td>\n",
              "      <td>-73.964630</td>\n",
              "      <td>40.765602</td>\n",
              "      <td>N</td>\n",
              "      <td>455</td>\n",
              "    </tr>\n",
              "    <tr>\n",
              "      <th>1</th>\n",
              "      <td>id2377394</td>\n",
              "      <td>1</td>\n",
              "      <td>2016-06-12 00:43:35</td>\n",
              "      <td>2016-06-12 00:54:38</td>\n",
              "      <td>1</td>\n",
              "      <td>-73.980415</td>\n",
              "      <td>40.738564</td>\n",
              "      <td>-73.999481</td>\n",
              "      <td>40.731152</td>\n",
              "      <td>N</td>\n",
              "      <td>663</td>\n",
              "    </tr>\n",
              "    <tr>\n",
              "      <th>2</th>\n",
              "      <td>id3858529</td>\n",
              "      <td>2</td>\n",
              "      <td>2016-01-19 11:35:24</td>\n",
              "      <td>2016-01-19 12:10:48</td>\n",
              "      <td>1</td>\n",
              "      <td>-73.979027</td>\n",
              "      <td>40.763939</td>\n",
              "      <td>-74.005333</td>\n",
              "      <td>40.710087</td>\n",
              "      <td>N</td>\n",
              "      <td>2124</td>\n",
              "    </tr>\n",
              "    <tr>\n",
              "      <th>3</th>\n",
              "      <td>id3504673</td>\n",
              "      <td>2</td>\n",
              "      <td>2016-04-06 19:32:31</td>\n",
              "      <td>2016-04-06 19:39:40</td>\n",
              "      <td>1</td>\n",
              "      <td>-74.010040</td>\n",
              "      <td>40.719971</td>\n",
              "      <td>-74.012268</td>\n",
              "      <td>40.706718</td>\n",
              "      <td>N</td>\n",
              "      <td>429</td>\n",
              "    </tr>\n",
              "    <tr>\n",
              "      <th>4</th>\n",
              "      <td>id2181028</td>\n",
              "      <td>2</td>\n",
              "      <td>2016-03-26 13:30:55</td>\n",
              "      <td>2016-03-26 13:38:10</td>\n",
              "      <td>1</td>\n",
              "      <td>-73.973053</td>\n",
              "      <td>40.793209</td>\n",
              "      <td>-73.972923</td>\n",
              "      <td>40.782520</td>\n",
              "      <td>N</td>\n",
              "      <td>435</td>\n",
              "    </tr>\n",
              "  </tbody>\n",
              "</table>\n",
              "</div>\n",
              "      <button class=\"colab-df-convert\" onclick=\"convertToInteractive('df-8f7bcad2-d4d1-4427-a300-8dca68444728')\"\n",
              "              title=\"Convert this dataframe to an interactive table.\"\n",
              "              style=\"display:none;\">\n",
              "        \n",
              "  <svg xmlns=\"http://www.w3.org/2000/svg\" height=\"24px\"viewBox=\"0 0 24 24\"\n",
              "       width=\"24px\">\n",
              "    <path d=\"M0 0h24v24H0V0z\" fill=\"none\"/>\n",
              "    <path d=\"M18.56 5.44l.94 2.06.94-2.06 2.06-.94-2.06-.94-.94-2.06-.94 2.06-2.06.94zm-11 1L8.5 8.5l.94-2.06 2.06-.94-2.06-.94L8.5 2.5l-.94 2.06-2.06.94zm10 10l.94 2.06.94-2.06 2.06-.94-2.06-.94-.94-2.06-.94 2.06-2.06.94z\"/><path d=\"M17.41 7.96l-1.37-1.37c-.4-.4-.92-.59-1.43-.59-.52 0-1.04.2-1.43.59L10.3 9.45l-7.72 7.72c-.78.78-.78 2.05 0 2.83L4 21.41c.39.39.9.59 1.41.59.51 0 1.02-.2 1.41-.59l7.78-7.78 2.81-2.81c.8-.78.8-2.07 0-2.86zM5.41 20L4 18.59l7.72-7.72 1.47 1.35L5.41 20z\"/>\n",
              "  </svg>\n",
              "      </button>\n",
              "      \n",
              "  <style>\n",
              "    .colab-df-container {\n",
              "      display:flex;\n",
              "      flex-wrap:wrap;\n",
              "      gap: 12px;\n",
              "    }\n",
              "\n",
              "    .colab-df-convert {\n",
              "      background-color: #E8F0FE;\n",
              "      border: none;\n",
              "      border-radius: 50%;\n",
              "      cursor: pointer;\n",
              "      display: none;\n",
              "      fill: #1967D2;\n",
              "      height: 32px;\n",
              "      padding: 0 0 0 0;\n",
              "      width: 32px;\n",
              "    }\n",
              "\n",
              "    .colab-df-convert:hover {\n",
              "      background-color: #E2EBFA;\n",
              "      box-shadow: 0px 1px 2px rgba(60, 64, 67, 0.3), 0px 1px 3px 1px rgba(60, 64, 67, 0.15);\n",
              "      fill: #174EA6;\n",
              "    }\n",
              "\n",
              "    [theme=dark] .colab-df-convert {\n",
              "      background-color: #3B4455;\n",
              "      fill: #D2E3FC;\n",
              "    }\n",
              "\n",
              "    [theme=dark] .colab-df-convert:hover {\n",
              "      background-color: #434B5C;\n",
              "      box-shadow: 0px 1px 3px 1px rgba(0, 0, 0, 0.15);\n",
              "      filter: drop-shadow(0px 1px 2px rgba(0, 0, 0, 0.3));\n",
              "      fill: #FFFFFF;\n",
              "    }\n",
              "  </style>\n",
              "\n",
              "      <script>\n",
              "        const buttonEl =\n",
              "          document.querySelector('#df-8f7bcad2-d4d1-4427-a300-8dca68444728 button.colab-df-convert');\n",
              "        buttonEl.style.display =\n",
              "          google.colab.kernel.accessAllowed ? 'block' : 'none';\n",
              "\n",
              "        async function convertToInteractive(key) {\n",
              "          const element = document.querySelector('#df-8f7bcad2-d4d1-4427-a300-8dca68444728');\n",
              "          const dataTable =\n",
              "            await google.colab.kernel.invokeFunction('convertToInteractive',\n",
              "                                                     [key], {});\n",
              "          if (!dataTable) return;\n",
              "\n",
              "          const docLinkHtml = 'Like what you see? Visit the ' +\n",
              "            '<a target=\"_blank\" href=https://colab.research.google.com/notebooks/data_table.ipynb>data table notebook</a>'\n",
              "            + ' to learn more about interactive tables.';\n",
              "          element.innerHTML = '';\n",
              "          dataTable['output_type'] = 'display_data';\n",
              "          await google.colab.output.renderOutput(dataTable, element);\n",
              "          const docLink = document.createElement('div');\n",
              "          docLink.innerHTML = docLinkHtml;\n",
              "          element.appendChild(docLink);\n",
              "        }\n",
              "      </script>\n",
              "    </div>\n",
              "  </div>\n",
              "  "
            ]
          },
          "metadata": {},
          "execution_count": 2
        }
      ],
      "source": [
        "# path = \"/content/\"\n",
        "path = '/content/drive/MyDrive/SkillFactory/datasets/Project 5_new_NY_taxi_arrival_time_prediction/'\n",
        "# filename = 'NY_taxi_train_data.zip'\n",
        "filename = 'NY_taxi_train_data.csv'\n",
        "# path = \"/content/drive/MyDrive/SkillFactory/datasets/Project\" +\\\n",
        "#  \" 5_new_NY_taxi_arrival_time_prediction/\"\n",
        "taxi_data = pd.read_csv(path + filename)\n",
        "print('Train data shape: {}'.format(taxi_data.shape))\n",
        "taxi_data.head()"
      ]
    },
    {
      "cell_type": "markdown",
      "metadata": {
        "id": "xhaxNt0XkBLh"
      },
      "source": [
        "Итак, у нас с вами есть данные о почти 1.5 миллионах поездок и 11 характеристиках, которые описывают каждую из поездок."
      ]
    },
    {
      "cell_type": "markdown",
      "metadata": {
        "id": "tXufvADjkBLi"
      },
      "source": [
        "Мы условно разделили признаки нескольких групп. Каждой из групп мы в дальнейшем уделим отдельное внимание.\n",
        "\n",
        "**Данные о клиенте и таксопарке:**\n",
        "* id - уникальный идентификатор поездки\n",
        "* vendor_id - уникальный идентификатор поставщика (таксопарка), связанного с записью поездки\n",
        "\n",
        "**Временные характеристики:**\n",
        "* pickup_datetime - дата и время, когда был включен счетчик поездки\n",
        "* dropoff_datetime - дата и время, когда счетчик был отключен\n",
        "\n",
        "**Географическая информация:**\n",
        "* pickup_longitude -  долгота, на которой был включен счетчик\n",
        "* pickup_latitude - широта, на которой был включен счетчик\n",
        "* dropoff_longitude - долгота, на которой счетчик был отключен\n",
        "* dropoff_latitude - широта, на которой счетчик был отключен\n",
        "\n",
        "**Прочие признаки:**\n",
        "* passenger_count - количество пассажиров в транспортном средстве (введенное водителем значение)\n",
        "* store_and_fwd_flag - флаг, который указывает, сохранилась ли запись о поездке в памяти транспортного средства перед отправкой поставщику. Y - хранить и пересылать, N - не хранить и не пересылать поездку.\n",
        "\n",
        "**Целевой признак:**\n",
        "* trip_duration - продолжительность поездки в секундах\n"
      ]
    },
    {
      "cell_type": "markdown",
      "metadata": {
        "id": "VvrcGynTkBLi"
      },
      "source": [
        "Для начала мы проведем базовый анализ того, насколько данные готовы к дальнейшей предобработке и анализу."
      ]
    },
    {
      "cell_type": "markdown",
      "metadata": {
        "id": "33rsP7rTkBLj"
      },
      "source": [
        "### Задание 2.1\n",
        "Для начала посмотрим на временные рамки, в которых мы работаем с данными.\n",
        "\n",
        "Переведите признак pickup_datetime в тип данных datetime с форматом год-месяц-день час:минута:секунда (в функции pd.to_datetime() параметр format='%Y-%m-%d %H:%M:%S').\n",
        "\n",
        "Определите временные рамки (без учета времени), за которые представлены данные."
      ]
    },
    {
      "cell_type": "code",
      "execution_count": null,
      "metadata": {
        "id": "cIVxwqW1kBLj",
        "colab": {
          "base_uri": "https://localhost:8080/"
        },
        "outputId": "304a95c3-75b0-4ea1-dbde-285e77ad330c"
      },
      "outputs": [
        {
          "output_type": "stream",
          "name": "stdout",
          "text": [
            "Данные предоставлены за период c 01-01-2016 по 30-06-2016\n"
          ]
        }
      ],
      "source": [
        "taxi_data.loc[:, ['pickup_datetime']] = \\\n",
        "    taxi_data.loc[:, ['pickup_datetime']].apply(\n",
        "        lambda str_: pd.to_datetime(str_, format='%Y-%m-%d %H:%M:%S'))\n",
        "pickup_dt = taxi_data.loc[:, 'pickup_datetime']\n",
        "\n",
        "print ('Данные предоставлены за период c',\n",
        " pickup_dt.dt.date.min().strftime('%d-%m-%Y'),\n",
        "       'по', pickup_dt.dt.date.max().strftime('%d-%m-%Y'))"
      ]
    },
    {
      "cell_type": "markdown",
      "metadata": {
        "id": "prw5RhKnkBLj"
      },
      "source": [
        "### Задание 2.2\n",
        "Посмотрим на пропуски.\n",
        "Сколько пропущенных значений присутствует в данных (суммарно по всем столбцам таблицы)?"
      ]
    },
    {
      "cell_type": "code",
      "execution_count": null,
      "metadata": {
        "id": "ug16JoZDkBLk",
        "colab": {
          "base_uri": "https://localhost:8080/"
        },
        "outputId": "ed8eb09f-fad9-42c7-a2e8-f90573f613e9"
      },
      "outputs": [
        {
          "output_type": "stream",
          "name": "stdout",
          "text": [
            "Пропуски:\n"
          ]
        },
        {
          "output_type": "execute_result",
          "data": {
            "text/plain": [
              "id                    0\n",
              "vendor_id             0\n",
              "pickup_datetime       0\n",
              "dropoff_datetime      0\n",
              "passenger_count       0\n",
              "pickup_longitude      0\n",
              "pickup_latitude       0\n",
              "dropoff_longitude     0\n",
              "dropoff_latitude      0\n",
              "store_and_fwd_flag    0\n",
              "trip_duration         0\n",
              "dtype: int64"
            ]
          },
          "metadata": {},
          "execution_count": 4
        }
      ],
      "source": [
        "print('Пропуски:')\n",
        "taxi_data.isnull().sum(axis=0)"
      ]
    },
    {
      "cell_type": "markdown",
      "metadata": {
        "id": "ZMMIyT1skBLk"
      },
      "source": [
        "### Задание 2.3\n",
        "Посмотрим на статистические характеристики некоторых признаков.\n",
        "\n",
        "а) Сколько уникальных таксопарков присутствует в данных?\n",
        "\n",
        "б) Каково максимальное количество пассажиров?\n",
        "\n",
        "в) Чему равна средняя и медианная длительность поездки? Ответ приведите в секундах и округлите до целого.\n",
        "\n",
        "г) Чему равно минимальное и максимальное время поездки (в секундах)?\n"
      ]
    },
    {
      "cell_type": "code",
      "execution_count": null,
      "metadata": {
        "id": "UeJfdmIskBLk",
        "colab": {
          "base_uri": "https://localhost:8080/"
        },
        "outputId": "a1a179d0-9305-41dc-a3c7-29e704adf7f7"
      },
      "outputs": [
        {
          "output_type": "stream",
          "name": "stdout",
          "text": [
            "Уникальных автопарков: 2\n",
            "Максимальное кол-во пассажиров: 9\n",
            "Средняя продолжительность поездки: 959.0\n",
            "Медианная продолжительность поездки: 662.0\n",
            "Минимальное время поездки: 1 ;\n",
            " максимальное время поездки: 3526282\n"
          ]
        }
      ],
      "source": [
        "print(f\"Уникальных автопарков: {taxi_data['vendor_id'].nunique()}\")\n",
        "\n",
        "print('Максимальное кол-во пассажиров:',\n",
        "      taxi_data['passenger_count'].max())\n",
        "\n",
        "print(\"Средняя продолжительность поездки:\",\n",
        "      np.round(taxi_data['trip_duration'].mean()))\n",
        "print(\"Медианная продолжительность поездки:\",\n",
        "      np.round(taxi_data['trip_duration'].median()))\n",
        "\n",
        "print(\"Минимальное время поездки:\", taxi_data['trip_duration'].min(), ';\\n',\n",
        "      \"максимальное время поездки:\", taxi_data['trip_duration'].max())"
      ]
    },
    {
      "cell_type": "markdown",
      "metadata": {
        "id": "JhUgalQSkBLk"
      },
      "source": [
        "Займемся расширением исходного набора данных как с помощью внешних источников, так и с помощью манипуляций над имеющимися в данных признаками.\n"
      ]
    },
    {
      "cell_type": "markdown",
      "metadata": {
        "id": "riVyyTGRkBLk"
      },
      "source": [
        "### Задание 2.4\n",
        "Реализуйте функцию add_datetime_features(), которая принимает на вход таблицу с данными о поездках (DataFrame) и возвращает ту же таблицу с добавленными в нее 3 столбцами:\n",
        "* pickup_date - дата включения счетчика - начала поездки (без времени);\n",
        "* pickup_hour - час дня включения счетчика;\n",
        "* pickup_day_of_week - наименование дня недели, в который был включен счетчик.\n",
        "\n",
        "а) Сколько поездок было совершено в субботу?\n",
        "\n",
        "б) Сколько поездок в среднем совершается в день? Ответ округлите до целого"
      ]
    },
    {
      "cell_type": "code",
      "execution_count": null,
      "metadata": {
        "id": "2987aTUAkBLl",
        "colab": {
          "base_uri": "https://localhost:8080/"
        },
        "outputId": "71540799-87a9-4e0c-9ef6-934abd8fdf20"
      },
      "outputs": [
        {
          "output_type": "stream",
          "name": "stdout",
          "text": [
            "В субботу было совершено поездок:\n",
            " 220868\n",
            "\n",
            "В среднем в день совершается поездок:\n",
            " 8015.0\n"
          ]
        }
      ],
      "source": [
        "def add_datetime_features(df):\n",
        "    df['pickup_date'] = df['pickup_datetime'].dt.date\n",
        "    df['pickup_hour'] = df['pickup_datetime'].dt.hour\n",
        "    df['pickup_day_of_week'] = df['pickup_datetime'].dt.dayofweek\n",
        "    return df\n",
        "\n",
        "taxi_data = add_datetime_features(taxi_data)\n",
        "\n",
        "# а)\n",
        "print(\"В субботу было совершено поездок:\\n\",\n",
        "      taxi_data.loc[taxi_data['pickup_day_of_week'] == 5, 'id'].nunique())\n",
        "\n",
        "# б)\n",
        "print(\"\\nВ среднем в день совершается поездок:\\n\",\n",
        "      np.round(taxi_data.groupby(by='pickup_date')['id'].nunique().mean()))"
      ]
    },
    {
      "cell_type": "markdown",
      "metadata": {
        "id": "5rCk6lyTkBLl"
      },
      "source": [
        "### Задание 2.5\n",
        "Реализуйте функцию add_holiday_features(), которая принимает на вход две таблицы:\n",
        "* таблицу с данными о поездках;\n",
        "* таблицу с данными о праздничных днях;\n",
        "\n",
        "и возвращает обновленную таблицу с данными о поездках с добавленным в нее столбцом pickup_holiday - бинарным признаком того, начата ли поездка в праздничный день или нет (1 - да, 0 - нет).\n",
        "\n",
        "Чему равна медианная длительность поездки на такси в праздничные дни? Ответ приведите в секундах, округлив до целого.\n"
      ]
    },
    {
      "cell_type": "code",
      "execution_count": null,
      "metadata": {
        "id": "ZnPWsSMukBLl",
        "colab": {
          "base_uri": "https://localhost:8080/"
        },
        "outputId": "1bc1b046-2590-43d2-b270-2085435bd16d"
      },
      "outputs": [
        {
          "output_type": "stream",
          "name": "stdout",
          "text": [
            "Медианная длительность поездки на такси в праздничные дни: 585.0 c\n"
          ]
        }
      ],
      "source": [
        "# path = '/content/'\n",
        "path = '/content/drive/MyDrive/SkillFactory/datasets/Project 5_new_NY_taxi_arrival_time_prediction/'\n",
        "filename = 'holiday_data.csv'\n",
        "holiday_data = pd.read_csv(path + filename, sep=';')\n",
        "\n",
        "def add_holiday_features(df_trips, df_hdays):\n",
        "\n",
        "    df_hdays['date'] = pd.to_datetime(\n",
        "        df_hdays['date'], format=\"%Y-%m-%d\").dt.date\n",
        "\n",
        "    holidays = df_hdays['date'].values\n",
        "    df_trips['pickup_holiday'] = df_trips['pickup_date'].apply(\n",
        "        lambda date: 1 if date in holidays else 0)\n",
        "\n",
        "    return df_trips\n",
        "\n",
        "taxi_data = add_holiday_features(taxi_data, holiday_data)\n",
        "print('Медианная длительность поездки на такси в праздничные дни:',\n",
        "      taxi_data[taxi_data['pickup_holiday']==1]['trip_duration'].median(), 'c')"
      ]
    },
    {
      "cell_type": "markdown",
      "metadata": {
        "id": "YPxMlVMAkBLl"
      },
      "source": [
        "### Задание 2.6\n",
        "Реализуйте функцию add_osrm_features(), которая принимает на вход две таблицы:\n",
        "* таблицу с данными о поездках;\n",
        "* таблицу с данными из OSRM;\n",
        "\n",
        "и возвращает обновленную таблицу с данными о поездках с добавленными в нее 3 столбцами:\n",
        "* total_distance;\n",
        "* total_travel_time;\n",
        "* number_of_steps.\n",
        "\n",
        "а) Чему равна разница (в секундах) между медианной длительностью поездки в данных и медианной длительностью поездки, полученной из OSRM?\n",
        "\n",
        "В результате объединения таблиц у вас должны были получиться пропуски в столбцах с информацией из OSRM API. Это связано с тем, что для некоторых поездок не удалось выгрузить данные из веб источника.\n",
        "\n",
        "б) Сколько пропусков содержится в столбцах с информацией из OSRM API после объединения таблиц?"
      ]
    },
    {
      "cell_type": "code",
      "execution_count": null,
      "metadata": {
        "id": "uey_zFbwkBLm",
        "colab": {
          "base_uri": "https://localhost:8080/"
        },
        "outputId": "a4569e11-6208-4439-cfc6-aa21e238cade"
      },
      "outputs": [
        {
          "output_type": "stream",
          "name": "stdout",
          "text": [
            "Разница между медианной длительностью поездки в данных \n",
            " и медианной длительностью поездки, полученной из OSRM: 372.0\n",
            "Кол-во пропусков: 1\n"
          ]
        }
      ],
      "source": [
        "# path = '/content/'\n",
        "path = '/content/drive/MyDrive/SkillFactory/datasets/Project 5_new_NY_taxi_arrival_time_prediction/'\n",
        "filename = 'osrm_data_train.zip'\n",
        "# filename = 'osrm_data_train.csv'\n",
        "\n",
        "osrm_data = pd.read_csv(path + filename)\n",
        "\n",
        "def add_osrm_features(df_trips, df_osrm):\n",
        "    features = ['id', 'total_distance', 'total_travel_time', 'number_of_steps']\n",
        "    return df_trips.merge(df_osrm[features], on=['id'], how='left')\n",
        "\n",
        "taxi_data = add_osrm_features(df_trips=taxi_data, df_osrm=osrm_data)\n",
        "\n",
        "print('Разница между медианной длительностью поездки в данных \\n',\n",
        "      'и медианной длительностью поездки, полученной из OSRM:',\n",
        "        np.round(taxi_data['trip_duration'].median() -\n",
        "       osrm_data['total_travel_time'].median()))\n",
        "\n",
        "print('Кол-во пропусков:', taxi_data.isna().sum(axis=0).sum() // 3)"
      ]
    },
    {
      "cell_type": "code",
      "execution_count": null,
      "metadata": {
        "id": "ti1rljMGkBLm"
      },
      "outputs": [],
      "source": [
        "def get_haversine_distance(lat1, lng1, lat2, lng2):\n",
        "    # переводим углы в радианы\n",
        "    lat1, lng1, lat2, lng2 = map(np.radians, (lat1, lng1, lat2, lng2))\n",
        "    # радиус земли в километрах\n",
        "    EARTH_RADIUS = 6371\n",
        "    # считаем кратчайшее расстояние h по формуле Хаверсина\n",
        "    lat_delta = lat2 - lat1\n",
        "    lng_delta = lng2 - lng1\n",
        "    d = np.sin(lat_delta * 0.5) ** 2 + np.cos(lat1) * np.cos(lat2) * \\\n",
        "        np.sin(lng_delta * 0.5) ** 2\n",
        "    h = 2 * EARTH_RADIUS * np.arcsin(np.sqrt(d))\n",
        "    return h\n",
        "\n",
        "def get_angle_direction(lat1, lng1, lat2, lng2):\n",
        "    # переводим углы в радианы\n",
        "    lat1, lng1, lat2, lng2 = map(np.radians, (lat1, lng1, lat2, lng2))\n",
        "    # считаем угол направления движения alpha по формуле угла пеленга\n",
        "    lng_delta_rad = lng2 - lng1\n",
        "    y = np.sin(lng_delta_rad) * np.cos(lat2)\n",
        "    x = np.cos(lat1) * np.sin(lat2) - np.sin(lat1) * np.cos(lat2) * \\\n",
        "        np.cos(lng_delta_rad)\n",
        "    alpha = np.degrees(np.arctan2(y, x))\n",
        "    return alpha"
      ]
    },
    {
      "cell_type": "markdown",
      "metadata": {
        "id": "lGQpi4erkBLm",
        "tags": []
      },
      "source": [
        "### Задание 2.7.\n",
        "Реализуйте функцию add_geographical_features(), которая принимает на вход таблицу с данными о поездках и возвращает обновленную таблицу с добавленными в нее 2 столбцами:\n",
        "* haversine_distance - расстояние Хаверсина между точкой, в которой был включен счетчик, и точкой, в которой счетчик был выключен;\n",
        "* direction - направление движения из точки, в которой был включен счетчик, в точку, в которой счетчик был выключен.\n",
        "\n",
        "Чему равно медианное расстояние Хаверсина поездок (в километрах)? Ответ округлите до сотых.\n"
      ]
    },
    {
      "cell_type": "code",
      "execution_count": null,
      "metadata": {
        "id": "zqIZyeHmkBLm",
        "colab": {
          "base_uri": "https://localhost:8080/"
        },
        "outputId": "bf1aef42-f7a8-4e75-a2aa-b20f8be6196e"
      },
      "outputs": [
        {
          "output_type": "stream",
          "name": "stdout",
          "text": [
            "Медианное гаверсинус-расстояние поездок: 2.09\n"
          ]
        }
      ],
      "source": [
        "def add_geographical_features(df_trips):\n",
        "\n",
        "    col1 = get_haversine_distance(\n",
        "        df_trips.pickup_latitude, df_trips.pickup_longitude,\n",
        "        df_trips.dropoff_latitude, df_trips.dropoff_longitude\n",
        "    )\n",
        "\n",
        "    col2 = get_angle_direction(\n",
        "        df_trips.pickup_latitude, df_trips.pickup_longitude,\n",
        "        df_trips.dropoff_latitude, df_trips.dropoff_longitude\n",
        "    )\n",
        "\n",
        "    df = pd.DataFrame({'haversine_distance': col1, 'direction': col2})\n",
        "\n",
        "    return pd.concat([df_trips, df], axis=1)\n",
        "\n",
        "taxi_data = add_geographical_features (taxi_data)\n",
        "\n",
        "print('Медианное гаверсинус-расстояние поездок:',\n",
        "      np.round(taxi_data['haversine_distance'].median(), 2))"
      ]
    },
    {
      "cell_type": "markdown",
      "metadata": {
        "id": "_WWydgB2kBLm"
      },
      "source": [
        "### Задание 2.8.\n",
        "Реализуйте функцию add_cluster_features(), которая принимает на вход таблицу с данными о поездках и обученный алгоритм кластеризации. Функция должна возвращать обновленную таблицу с добавленными в нее столбцом geo_cluster - географический кластер, к которому относится поездка.\n",
        "\n",
        "Сколько поездок содержится в наименьшем по размеру географическом кластере?\n"
      ]
    },
    {
      "cell_type": "code",
      "execution_count": null,
      "metadata": {
        "id": "YxpWNYfakBLn",
        "outputId": "18fe01ad-06a1-4fa3-bdf2-b4d03379ae28",
        "colab": {
          "base_uri": "https://localhost:8080/"
        }
      },
      "outputs": [
        {
          "output_type": "stream",
          "name": "stdout",
          "text": [
            "В наименьшем по размеру географическом кластере содержится поездок: 2\n"
          ]
        }
      ],
      "source": [
        "# создаем обучающую выборку из географических координат всех точек\n",
        "coords = np.hstack((taxi_data[['pickup_latitude', 'pickup_longitude']],\n",
        "                    taxi_data[['dropoff_latitude', 'dropoff_longitude']]))\n",
        "# обучаем алгоритм кластеризации\n",
        "kmeans = cluster.KMeans(n_clusters=10, random_state=42)\n",
        "kmeans.fit(coords)\n",
        "\n",
        "def add_cluster_features(df_trips, cluster):\n",
        "    df = pd.DataFrame({'geo_cluster': cluster.labels_})\n",
        "    return pd.concat([df_trips, df], axis=1)\n",
        "\n",
        "taxi_data = add_cluster_features(taxi_data, kmeans)\n",
        "\n",
        "print('В наименьшем по размеру географическом кластере содержится поездок:',\n",
        "      taxi_data['geo_cluster'].value_counts().min())"
      ]
    },
    {
      "cell_type": "markdown",
      "metadata": {
        "id": "4FRtxWNDkBLn"
      },
      "source": [
        "### Задание 2.9.\n",
        "Реализуйте функцию add_weather_features(), которая принимает на вход две таблицы:\n",
        "* таблицу с данными о поездках;\n",
        "* таблицу с данными о погодных условиях на каждый час;\n",
        "\n",
        "и возвращает обновленную таблицу с данными о поездках с добавленными в нее 5 столбцами:\n",
        "* temperature - температура;\n",
        "* visibility - видимость;\n",
        "* wind speed - средняя скорость ветра;\n",
        "* precip - количество осадков;\n",
        "* events - погодные явления.\n",
        "\n",
        "а) Сколько поездок было совершено в снежную погоду?\n",
        "\n",
        "В результате объединения у вас должны получиться записи, для которых в столбцах temperature, visibility, wind speed, precip, и events будут пропуски. Это связано с тем, что в таблице с данными о погодных условиях отсутствуют измерения для некоторых моментов времени, в которых включался счетчик поездки.\n",
        "\n",
        "б) Сколько процентов от общего количества наблюдений в таблице с данными о поездках занимают пропуски в столбцах с погодными условиями? Ответ приведите с точностью до сотых процента.\n"
      ]
    },
    {
      "cell_type": "code",
      "execution_count": null,
      "metadata": {
        "id": "PdgHJwQgkBLn",
        "colab": {
          "base_uri": "https://localhost:8080/"
        },
        "outputId": "68f7b195-8641-4360-a5ac-b0a6599f96fb"
      },
      "outputs": [
        {
          "output_type": "stream",
          "name": "stdout",
          "text": [
            "Поездок совершено в снежную погоду: 13126\n",
            "Пропуски в столбцах с погодными условиями в таблице с данными о поездках занимают\n",
            " temperature    0.82\n",
            "visibility     0.82\n",
            "wind speed     0.82\n",
            "precip         0.82\n",
            "events         0.82\n",
            "dtype: float64\n"
          ]
        }
      ],
      "source": [
        "path = '/content/drive/MyDrive/SkillFactory/datasets/' + \\\n",
        "    'Project 5_new_NY_taxi_arrival_time_prediction/'\n",
        "filename = 'weather_data.zip'\n",
        "weather_data = pd.read_csv(path + filename)\n",
        "\n",
        "def add_weather_features(df_trips, df_weather):\n",
        "    features = ['temperature', 'visibility', 'wind speed', 'precip', 'events']\n",
        "    df = df_weather[features]\n",
        "    df['pickup_date'] = pd.to_datetime(df_weather['date'],\n",
        "                                       format=\"%Y-%m-%d\").dt.date\n",
        "    df['pickup_hour'] = pd.to_datetime(df_weather['time'],\n",
        "                                       format=\"%Y-%m-%d %H:%M:%S\").dt.hour\n",
        "\n",
        "    return df_trips.merge(df, on=['pickup_date', 'pickup_hour'],\n",
        "                                      how='left')\n",
        "\n",
        "taxi_data = add_weather_features(taxi_data, weather_data)\n",
        "\n",
        "# а)\n",
        "print(\"Поездок совершено в снежную погоду:\",\n",
        "      (taxi_data[\"events\"]==\"Snow\").sum())\n",
        "\n",
        "# б)\n",
        "print(\"Пропуски в столбцах с погодными условиями в таблице\",\n",
        "      \"с данными о поездках занимают\\n\",\n",
        "      np.round(taxi_data.iloc[:, -5:].isna().sum(axis=0) /\\\n",
        "               taxi_data.shape[0] * 100, 2))"
      ]
    },
    {
      "cell_type": "markdown",
      "metadata": {
        "id": "hwsluTQHkBLn"
      },
      "source": [
        "### Задание 2.10.\n",
        "Реализуйте функцию fill_null_weather_data(), которая принимает на вход которая принимает на вход таблицу с данными о поездках. Функция должна заполнять пропущенные значения в столбцах.\n",
        "\n",
        "Пропуски в столбцах с погодными условиями -  temperature, visibility, wind speed, precip заполните медианным значением температуры, влажности, скорости ветра и видимости в зависимости от даты начала поездки. Для этого сгруппируйте данные по столбцу pickup_date и рассчитайте медиану в каждой группе, после чего с помощью комбинации методов transform() и fillna() заполните пропуски.\n",
        "Пропуски в столбце events заполните строкой 'None' - символом отсутствия погодных явлений (снега/дождя/тумана).\n",
        "\n",
        "Пропуски в столбцах с информацией из OSRM API - total_distance, total_travel_time и number_of_steps заполните медианным значением по столбцам.\n",
        "\n",
        "Чему равна медиана в столбце temperature после заполнения пропусков? Ответ округлите до десятых.\n"
      ]
    },
    {
      "cell_type": "code",
      "execution_count": null,
      "metadata": {
        "id": "oHIYqxjKkBLn",
        "colab": {
          "base_uri": "https://localhost:8080/"
        },
        "outputId": "49e93d69-f243-493c-8ce6-4c771644d4a5"
      },
      "outputs": [
        {
          "output_type": "stream",
          "name": "stdout",
          "text": [
            "Медиана столбца temperature: 11.1\n"
          ]
        }
      ],
      "source": [
        "def fill_null_weather_data(df_trips):\n",
        "    grouped = df_trips.groupby(by='pickup_date')\n",
        "    weather_feat = ['temperature', 'visibility', 'wind speed', 'precip']\n",
        "    weather_na_fill = grouped[weather_feat].transform(lambda col: col.median())\n",
        "    weather_na_fill['events'] = 'None'\n",
        "\n",
        "    df_trips.fillna(weather_na_fill, inplace=True)\n",
        "\n",
        "    osrm_feat = ['total_distance', 'total_travel_time', 'number_of_steps']\n",
        "    osrm_na_fill = df_trips[osrm_feat].median(axis=0)\n",
        "    df_trips.fillna(osrm_na_fill, inplace=True)\n",
        "\n",
        "    return df_trips\n",
        "\n",
        "fill_null_weather_data(taxi_data)\n",
        "\n",
        "print (\"Медиана столбца temperature:\",\n",
        "       np.round(taxi_data['temperature'].median(axis=0), 1))"
      ]
    },
    {
      "cell_type": "markdown",
      "metadata": {
        "id": "MahzwVDxkBLn"
      },
      "source": [
        "\n",
        "В завершение первой части найдем очевидные выбросы в целевой переменной - длительности поездки.\n",
        "\n",
        "Проще всего найти слишком продолжительные поездки. Давайте условимся, что выбросами будут считаться поездки, длительность которых превышает 24 часа.\n",
        "\n",
        "Чуть сложнее с анализом поездок, длительность которых слишком мала. Потому что к ним относятся действительно реальные поездки на короткие расстояния, поездки, которые были отменены через секунду после того как включился счетчик, а также “телепортации” - перемещение на большие расстояния за считанные секунды.\n",
        "Условимся, что мы будем считать выбросами только последнюю группу. Как же нам их обнаружить наиболее простым способом?\n",
        "\n",
        "Можно воспользоваться информацией о кратчайшем расстоянии, которое проезжает такси. Вычислить среднюю скорость автомобиля на кратчайшем пути следующим образом:\n",
        "$$avg\\_speed= \\frac{total\\_distance}{1000*trip\\_duration}*3600$$\n",
        "Если мы построим диаграмму рассеяния средней скорости движения автомобилей, мы увидим следующую картину:\n"
      ]
    },
    {
      "cell_type": "code",
      "execution_count": null,
      "metadata": {
        "id": "Nnp1KatIkBLo"
      },
      "outputs": [],
      "source": [
        "avg_speed = taxi_data['total_distance'] / taxi_data['trip_duration'] * 3.6\n",
        "fig, ax = plt.subplots(figsize=(10, 5))\n",
        "sns.scatterplot(x=avg_speed.index, y=avg_speed, ax=ax)\n",
        "ax.set_xlabel('Index')\n",
        "ax.set_ylabel('Average speed');"
      ]
    },
    {
      "cell_type": "markdown",
      "metadata": {
        "id": "BGxXxv7LkBLo"
      },
      "source": [
        "Как раз отсюда мы видим, что у нас есть “поездки-телепортации”, для которых средняя скорость более 1000 км/ч. Даже есть такая, средняя скорость которой составляла более 12000 км/ч!\n",
        "\n",
        "Давайте условимся, что предельная средняя скорость, которую могут развивать таксисты будет 300 км/ч.\n"
      ]
    },
    {
      "cell_type": "markdown",
      "metadata": {
        "id": "sSWHdHNWkBLo",
        "tags": []
      },
      "source": [
        "### Задание 2.11.\n",
        "Найдите поездки, длительность которых превышает 24 часа. И удалите их из набора данных.\n",
        "\n",
        "а) Сколько выбросов по признаку длительности поездки вам удалось найти?\n",
        "\n",
        "Найдите поездки, средняя скорость которых по кратчайшему пути превышает 300 км/ч и удалите их из данных.\n",
        "\n",
        "б) Сколько выбросов по признаку скорости вам удалось найти?"
      ]
    },
    {
      "cell_type": "code",
      "execution_count": null,
      "metadata": {
        "id": "3KVmlq8SkBLo",
        "colab": {
          "base_uri": "https://localhost:8080/"
        },
        "outputId": "db85c759-b350-493b-d5f2-a1ee0cb56f24"
      },
      "outputs": [
        {
          "output_type": "stream",
          "name": "stdout",
          "text": [
            "Выбросов по признаку длительности поездки найдено: 4\n",
            "Выбросов по признаку скорости найдено: 407\n"
          ]
        }
      ],
      "source": [
        "# а)\n",
        "too_long_ind = taxi_data[taxi_data['trip_duration'] > 24 * 3600].index\n",
        "taxi_data.drop(too_long_ind, axis=0, inplace=True)\n",
        "\n",
        "print('Выбросов по признаку длительности поездки найдено:', len(too_long_ind))\n",
        "\n",
        "# б)\n",
        "too_fast_ind = taxi_data[taxi_data['total_distance'] /\\\n",
        "                         taxi_data['trip_duration'] * 3.6 > 300].index\n",
        "taxi_data.drop(too_fast_ind, axis=0, inplace=True)\n",
        "\n",
        "print('Выбросов по признаку скорости найдено:', len(too_fast_ind))"
      ]
    },
    {
      "cell_type": "code",
      "source": [
        "# delete\n",
        "# path = \"/content/drive/MyDrive/SkillFactory/datasets/\" + \\\n",
        "#     \"Project 5_new_NY_taxi_arrival_time_prediction/taxi_data_v2.11.csv\"\n",
        "# taxi_data.to_csv(path)\n"
      ],
      "metadata": {
        "id": "kk8bI_duZpqG"
      },
      "execution_count": null,
      "outputs": []
    },
    {
      "cell_type": "markdown",
      "metadata": {
        "id": "pEEXbpTfkBLo",
        "tags": []
      },
      "source": [
        "## 3. Разведывательный анализ данных (EDA)"
      ]
    },
    {
      "cell_type": "markdown",
      "metadata": {
        "id": "59de6wa-kBLo"
      },
      "source": [
        "В этой части нашего проекта мы с вами:\n",
        "* Исследуем сформированный набор данных;\n",
        "* Попробуем найти закономерности, позволяющие сформулировать предварительные гипотезы относительно того, какие факторы являются решающими в определении длительности поездки;\n",
        "* Дополним наш анализ визуализациями, иллюстрирующими; исследование. Постарайтесь оформлять диаграммы с душой, а не «для галочки»: навыки визуализации полученных выводов обязательно пригодятся вам в будущем.\n"
      ]
    },
    {
      "cell_type": "markdown",
      "metadata": {
        "id": "d-8PQtqRkBLo"
      },
      "source": [
        "Начинаем с целевого признака. Забегая вперед, скажем, что основной метрикой качества решения поставленной задачи будет RMSLE - Root Mean Squared Log Error, которая вычисляется на основе целевой переменной в логарифмическом масштабе. В таком случае целесообразно сразу логарифмировать признак длительности поездки и рассматривать при анализе логарифм в качестве целевого признака:\n",
        "$$trip\\_duration\\_log = log(trip\\_duration+1),$$\n",
        "где под символом log подразумевается натуральный логарифм.\n"
      ]
    },
    {
      "cell_type": "code",
      "source": [
        "# delete\n",
        "path = \"/content/drive/MyDrive/SkillFactory/datasets/\" + \\\n",
        "    \"Project 5_new_NY_taxi_arrival_time_prediction/taxi_data_v2.11.csv\"\n",
        "taxi_data = pd.read_csv(path).drop(\"Unnamed: 0\", axis=1)\n",
        "# =============================================================================="
      ],
      "metadata": {
        "id": "ONGZL3oDGxve"
      },
      "execution_count": 2,
      "outputs": []
    },
    {
      "cell_type": "code",
      "execution_count": 3,
      "metadata": {
        "id": "y59BwN3MkBLp"
      },
      "outputs": [],
      "source": [
        "taxi_data['trip_duration_log'] = np.log(taxi_data['trip_duration'] + 1)"
      ]
    },
    {
      "cell_type": "markdown",
      "metadata": {
        "id": "OoqAWXLLkBLp"
      },
      "source": [
        "### Задание 3.1.\n",
        "Постройте гистограмму и коробчатую диаграмму длительности поездок в логарифмическом масштабе (trip_duration_log).\n",
        "Исходя из визуализации, сделайте предположение, является ли полученное распределение нормальным?\n",
        "Проверьте свою гипотезу с помощью теста Д’Агостино при уровне значимости $\\alpha=0.05$.\n",
        "\n",
        "а) Чему равен вычисленный p-value? Ответ округлите до сотых.\n",
        "\n",
        "б) Является ли распределение длительности поездок в логарифмическом масштабе нормальным?"
      ]
    },
    {
      "cell_type": "code",
      "source": [
        "import numpy as np\n",
        "from scipy import stats\n",
        "rng = np.random.default_rng()\n",
        "pts = 1000\n",
        "a = rng.normal(0, 1, size=pts)\n",
        "b = rng.normal(2, 1, size=pts)\n",
        "x = np.concatenate((a, b))\n",
        "k2, p = stats.normaltest(x)\n",
        "alpha = 1e-3\n",
        "print(\"p = {:g}\".format(p))\n",
        "# p = 8.4713e-19\n",
        "if p < alpha:  # null hypothesis: x comes from a normal distribution\n",
        "    print(\"The null hypothesis can be rejected\")\n",
        "else:\n",
        "    print(\"The null hypothesis cannot be rejected\")"
      ],
      "metadata": {
        "colab": {
          "base_uri": "https://localhost:8080/"
        },
        "id": "uYIZeha0vtkw",
        "outputId": "d00001bb-a3c0-4abb-baa3-393db459ba06"
      },
      "execution_count": 41,
      "outputs": [
        {
          "output_type": "stream",
          "name": "stdout",
          "text": [
            "p = 1.02395e-07\n",
            "The null hypothesis can be rejected\n"
          ]
        }
      ]
    },
    {
      "cell_type": "code",
      "execution_count": 49,
      "metadata": {
        "_uuid": "4cea6d1f4372850e6c5692d7be7ca1cee3bdb42e",
        "id": "hSPVCtNckBLp",
        "tags": [],
        "colab": {
          "base_uri": "https://localhost:8080/",
          "height": 876
        },
        "outputId": "b3222e16-9bf4-447e-d22e-728fc30595ee"
      },
      "outputs": [
        {
          "output_type": "display_data",
          "data": {
            "text/plain": [
              "<Figure size 700x500 with 2 Axes>"
            ],
            "image/png": "[encoded data removed]"
          },
          "metadata": {}
        },
        {
          "output_type": "stream",
          "name": "stdout",
          "text": [
            "Mean p: 2.9592709372494953e-08\n"
          ]
        },
        {
          "output_type": "display_data",
          "data": {
            "text/plain": [
              "<Figure size 640x480 with 1 Axes>"
            ],
            "image/png": "[encoded data removed]"
          },
          "metadata": {}
        }
      ],
      "source": [
        "target = taxi_data['trip_duration_log'].values\n",
        "# rnd_ind = np.random.randint(0, target.size, size=100 )\n",
        "# target = target[rnd_ind]\n",
        "\n",
        "fig, axs = plt.subplots(2, 1, figsize=(7, 5), sharex=True)\n",
        "\n",
        "axs[0].hist(target, bins=200);\n",
        "axs[1].boxplot(target, notch=True, vert=False);\n",
        "plt.show();\n",
        "\n",
        "ps = []\n",
        "for i in range(1000):\n",
        "    rnd_ind = np.random.randint(0, target.size, size=100)\n",
        "    k2, p = stats.normaltest(target[rnd_ind])\n",
        "    ps += [p]\n",
        "print ('Mean p:', np.mean(p))\n",
        "plt.hist(ps, bins=10);\n",
        "# print(\"p = {:g}\".format(p))"
      ]
    },
    {
      "cell_type": "code",
      "source": [
        "ps"
      ],
      "metadata": {
        "id": "ZGToj0DzbqYt",
        "outputId": "e7fa5559-e958-4ab9-a261-7b5aa7068ccd",
        "colab": {
          "base_uri": "https://localhost:8080/"
        }
      },
      "execution_count": 48,
      "outputs": [
        {
          "output_type": "execute_result",
          "data": {
            "text/plain": [
              "[1.2919300734170389e-14,\n",
              " 0.0690540894107403,\n",
              " 3.526046294064991e-05,\n",
              " 3.050526781519367e-16,\n",
              " 3.959540251798638e-10,\n",
              " 2.131587138801948e-05,\n",
              " 0.05705871707097322,\n",
              " 0.7729876748497871,\n",
              " 5.450363475576302e-10,\n",
              " 0.004177677117143915,\n",
              " 0.10081752790588333,\n",
              " 3.569115534817727e-05,\n",
              " 0.8684794780648417,\n",
              " 6.926560897202368e-13,\n",
              " 0.33731499892990624,\n",
              " 0.38326921806752656,\n",
              " 5.522267232995126e-11,\n",
              " 0.14034770466658567,\n",
              " 0.1762942160163016,\n",
              " 1.3396072953708318e-12,\n",
              " 3.848295116253089e-07,\n",
              " 0.001255817088764986,\n",
              " 1.616666049139268e-08,\n",
              " 0.14388881104211754,\n",
              " 0.15120317803031674,\n",
              " 0.18543572161640637,\n",
              " 0.7682705243024626,\n",
              " 0.27920644447516485,\n",
              " 0.23743024469708965,\n",
              " 0.01742901910835579,\n",
              " 0.02510783970014414,\n",
              " 0.00035849165234050253,\n",
              " 0.92256833722919,\n",
              " 9.970344655584742e-09,\n",
              " 1.3262791866998749e-10,\n",
              " 0.8511731965160965,\n",
              " 0.8673224354577176,\n",
              " 2.0792849069584e-06,\n",
              " 0.2034852241130604,\n",
              " 2.573596708631146e-13,\n",
              " 7.457136886361963e-07,\n",
              " 0.6006144515836767,\n",
              " 0.9842158522839698,\n",
              " 4.185542844899117e-09,\n",
              " 5.101289963511826e-06,\n",
              " 2.402425045818577e-10,\n",
              " 3.1556005198829872e-15,\n",
              " 0.28507474561162977,\n",
              " 0.12821535431314743,\n",
              " 0.22607666376337912,\n",
              " 1.7191987178327074e-07,\n",
              " 1.6904946684125733e-06,\n",
              " 0.6262652057510678,\n",
              " 0.0182638995151744,\n",
              " 1.7534248886793753e-19,\n",
              " 0.6819194520996552,\n",
              " 0.9441606815559695,\n",
              " 3.3062432137943845e-10,\n",
              " 2.0791715665329964e-08,\n",
              " 0.4675964029888029,\n",
              " 0.5442271448450873,\n",
              " 0.1416836669669219,\n",
              " 0.7409461362654692,\n",
              " 0.11175582150912153,\n",
              " 0.8223573888983144,\n",
              " 5.365545766893125e-11,\n",
              " 0.02089295634062325,\n",
              " 3.881322102918309e-13,\n",
              " 5.929118991497121e-09,\n",
              " 0.0006245756623775446,\n",
              " 0.6926818785614729,\n",
              " 0.7617866382830474,\n",
              " 7.344773451642857e-13,\n",
              " 0.43557380997738904,\n",
              " 6.067916387488518e-13,\n",
              " 0.9530209259447805,\n",
              " 7.340232729752695e-11,\n",
              " 0.0006153077420082751,\n",
              " 2.631155472601091e-07,\n",
              " 0.19534281652170127,\n",
              " 0.16905916327495754,\n",
              " 2.5600922341005583e-19,\n",
              " 0.00420392877297291,\n",
              " 6.957076193180031e-07,\n",
              " 3.7757693641761686e-07,\n",
              " 0.616953405136601,\n",
              " 0.8155369674131034,\n",
              " 0.3308421099874766,\n",
              " 0.6306233066585233,\n",
              " 2.2245690139588503e-09,\n",
              " 0.00012590118491518168,\n",
              " 0.07227856673221542,\n",
              " 0.23944647830210125,\n",
              " 0.049317626678021594,\n",
              " 0.1416063634431182,\n",
              " 5.00952750506128e-07,\n",
              " 1.1966044728834435e-12,\n",
              " 1.3252176031217943e-09,\n",
              " 0.4771701324323733,\n",
              " 0.48489512577101157,\n",
              " 3.6483429841341145e-11,\n",
              " 0.8575061875627075,\n",
              " 0.38525695806989046,\n",
              " 0.6824007333477589,\n",
              " 1.2527819586124425e-17,\n",
              " 0.3982797744801242,\n",
              " 0.35404675000674746,\n",
              " 0.9806760760867498,\n",
              " 2.775854428212571e-08,\n",
              " 0.002084838160106671,\n",
              " 0.722962474806774,\n",
              " 0.49846585857095127,\n",
              " 0.010522576095872987,\n",
              " 7.801607685658518e-09,\n",
              " 0.9219563523937773,\n",
              " 0.8871835193902248,\n",
              " 0.6337581239297189,\n",
              " 0.06483187340764092,\n",
              " 0.0030757870380017176,\n",
              " 4.8919456547083714e-08,\n",
              " 0.8950142119676484,\n",
              " 0.37740261167474365,\n",
              " 0.00161695386971543,\n",
              " 4.973098679798032e-11,\n",
              " 1.2728436003716364e-13,\n",
              " 0.000708198057498264,\n",
              " 0.755922276015117,\n",
              " 0.35297505253840905,\n",
              " 0.6037315098276201,\n",
              " 0.8694429629381104,\n",
              " 4.0902078091863436e-05,\n",
              " 0.30522298605865267,\n",
              " 0.4724879604183151,\n",
              " 1.9942125196051652e-10,\n",
              " 2.1258798955599564e-12,\n",
              " 0.41752396443301587,\n",
              " 0.3313377959147971,\n",
              " 0.8069752021289007,\n",
              " 0.17758367076762713,\n",
              " 1.7155250654351094e-10,\n",
              " 0.9644304696402893,\n",
              " 0.7465412333355109,\n",
              " 0.12059759290859091,\n",
              " 2.347192429677657e-08,\n",
              " 0.6260904469839049,\n",
              " 0.6851887681576347,\n",
              " 0.9365185455743625,\n",
              " 0.33652751221456184,\n",
              " 0.47234053546241017,\n",
              " 0.6814087711886235,\n",
              " 0.06225549935340513,\n",
              " 0.0030211078498106406,\n",
              " 0.9691851299131803,\n",
              " 3.142188622455584e-07,\n",
              " 0.9658728533438379,\n",
              " 0.0003811386004885084,\n",
              " 0.619926912652611,\n",
              " 0.0057156608130063775,\n",
              " 0.04814083548798943,\n",
              " 0.5223740528376373,\n",
              " 0.0026839958332619688,\n",
              " 0.7278999152753868,\n",
              " 0.23132429415204586,\n",
              " 0.14894787668651424,\n",
              " 1.465520177669862e-11,\n",
              " 0.1876917658410346,\n",
              " 0.5909952131090654,\n",
              " 2.937774864683263e-07,\n",
              " 0.17493793851952463,\n",
              " 0.0001109637609138763,\n",
              " 9.909270212433425e-05,\n",
              " 0.2840475796644304,\n",
              " 1.589050471147209e-07,\n",
              " 0.49421055054654994,\n",
              " 1.4117791339238487e-06,\n",
              " 7.478337385989216e-12,\n",
              " 0.037678534193205354,\n",
              " 2.703611261049312e-11,\n",
              " 0.00027251420281048603,\n",
              " 0.029011813913299794,\n",
              " 0.43762644319197974,\n",
              " 0.218786165879095,\n",
              " 2.821756248750156e-10,\n",
              " 7.476990867323424e-08,\n",
              " 0.5856837614124191,\n",
              " 0.18169703001945706,\n",
              " 0.046191641647568636,\n",
              " 0.8020797194759779,\n",
              " 4.3348502171470015e-05,\n",
              " 0.24313224229810823,\n",
              " 0.004977961455453588,\n",
              " 0.9653217640093661,\n",
              " 0.6312001711296462,\n",
              " 0.3821822145776848,\n",
              " 9.272717588862791e-08,\n",
              " 0.3790938552522974,\n",
              " 6.000685076398942e-09,\n",
              " 6.163556054014424e-16,\n",
              " 8.541867832758447e-12,\n",
              " 0.5213436936735798,\n",
              " 1.9979700986990545e-09,\n",
              " 0.935084941919532,\n",
              " 1.5068753613292588e-07,\n",
              " 0.8443150026860383,\n",
              " 0.6822534695715097,\n",
              " 0.34229323849294574,\n",
              " 0.14827857591556867,\n",
              " 2.262763282915911e-19,\n",
              " 0.13839641794243593,\n",
              " 0.6813944129863145,\n",
              " 1.347711365082429e-19,\n",
              " 2.0113958968902336e-06,\n",
              " 0.1813562608254914,\n",
              " 1.4430107439293558e-05,\n",
              " 1.8770514589045672e-10,\n",
              " 0.6927153381528413,\n",
              " 0.7663296664354408,\n",
              " 2.5145972298582056e-12,\n",
              " 7.218647852640337e-06,\n",
              " 0.5084372880461417,\n",
              " 7.257005617274806e-11,\n",
              " 2.4166434328671966e-11,\n",
              " 2.2607550914605707e-11,\n",
              " 0.4566526455696427,\n",
              " 0.2558931525303557,\n",
              " 5.295666429564035e-14,\n",
              " 4.159750962919193e-06,\n",
              " 1.5704185055087735e-07,\n",
              " 5.4431662114832653e-11,\n",
              " 9.414196932089842e-09,\n",
              " 1.8788703429893438e-10,\n",
              " 0.8305574772207203,\n",
              " 0.2468654501214008,\n",
              " 2.0277537370487236e-11,\n",
              " 0.0008158747948508394,\n",
              " 0.36022316390880754,\n",
              " 1.2742178521872804e-12,\n",
              " 4.486969818156945e-09,\n",
              " 5.717878268739835e-11,\n",
              " 0.03365211761221622,\n",
              " 0.44372404605868865,\n",
              " 3.1480981562435205e-09,\n",
              " 0.0014711994278634219,\n",
              " 1.8443389227919346e-14,\n",
              " 0.6525562840963703,\n",
              " 0.16138289989980895,\n",
              " 0.0073079167777832235,\n",
              " 0.47845173350417036,\n",
              " 0.39407929708800576,\n",
              " 0.06218251690351088,\n",
              " 0.0005097746382298056,\n",
              " 0.542349897763743,\n",
              " 9.642945258787495e-14,\n",
              " 0.00017109384904096022,\n",
              " 5.30036025673873e-06,\n",
              " 1.4028846364407202e-16,\n",
              " 0.48756879594351,\n",
              " 0.0007771375812338859,\n",
              " 0.6426336052731433,\n",
              " 0.026290743836456396,\n",
              " 0.3051292159644316,\n",
              " 0.002969408654843449,\n",
              " 6.942460549794247e-07,\n",
              " 1.8380746642948565e-09,\n",
              " 1.585179517766338e-15,\n",
              " 0.5208056705593731,\n",
              " 0.08810887142335795,\n",
              " 7.41915903428547e-07,\n",
              " 0.42852611683878616,\n",
              " 0.6240252035084606,\n",
              " 2.0881915824027212e-08,\n",
              " 3.176917591922832e-11,\n",
              " 0.8914550659941571,\n",
              " 8.826295908553636e-09,\n",
              " 0.3332968882876125,\n",
              " 3.0873736917809583e-06,\n",
              " 0.736271373213603,\n",
              " 0.948031133032145,\n",
              " 0.5878729342026257,\n",
              " 0.8855079398953632,\n",
              " 3.408578575073042e-08,\n",
              " 2.610408776036852e-06,\n",
              " 0.9013087516045635,\n",
              " 0.24996783617305612,\n",
              " 0.023146133918112155,\n",
              " 0.0063054900426877695,\n",
              " 0.0893725251213684,\n",
              " 4.414638088259603e-07,\n",
              " 0.5324687135354141,\n",
              " 0.11261960348894152,\n",
              " 2.8784345765605803e-06,\n",
              " 0.6503940091151785,\n",
              " 0.18296188001533698,\n",
              " 3.1886657801148305e-08,\n",
              " 0.22150270139421557,\n",
              " 0.5156319869513453,\n",
              " 0.37875409769648577,\n",
              " 1.5715132071977344e-08,\n",
              " 9.332356413869212e-11,\n",
              " 0.2983548968395212,\n",
              " 6.201952420708504e-08,\n",
              " 0.0860207313903115,\n",
              " 0.3659589981043932,\n",
              " 0.82441576635057,\n",
              " 1.74860283479717e-06,\n",
              " 1.2675326118863124e-14,\n",
              " 0.5920632377287975,\n",
              " 6.596633602818901e-11,\n",
              " 4.4248905117279217e-08,\n",
              " 0.6430310287387402,\n",
              " 4.206207308397093e-09,\n",
              " 0.20391246060580873,\n",
              " 0.05905305615575976,\n",
              " 6.758232619410481e-05,\n",
              " 0.4537143015682966,\n",
              " 9.718252095047844e-09,\n",
              " 0.029464498478481635,\n",
              " 0.0001279427790710385,\n",
              " 0.4847354620947666,\n",
              " 0.35102293166204257,\n",
              " 0.19229350304827728,\n",
              " 0.5536813220439698,\n",
              " 3.780100062726389e-12,\n",
              " 0.21759795625618578,\n",
              " 0.4618216645513128,\n",
              " 9.167922767029126e-17,\n",
              " 0.5895997156565966,\n",
              " 0.5426373253107797,\n",
              " 0.9244663321205513,\n",
              " 0.0769268124315441,\n",
              " 2.257211571433011e-07,\n",
              " 1.1734068342229811e-09,\n",
              " 5.883858006273342e-10,\n",
              " 0.38839299228428653,\n",
              " 0.02925655908785425,\n",
              " 0.6321375623473331,\n",
              " 0.002018204539804122,\n",
              " 1.0906519917930522e-12,\n",
              " 0.42407402761832935,\n",
              " 0.5391960029734264,\n",
              " 0.012504884934179878,\n",
              " 0.022252268964726884,\n",
              " 0.028657865389694438,\n",
              " 5.741628382276486e-09,\n",
              " 0.7481761670871985,\n",
              " 0.12949183852830695,\n",
              " 0.08923419784085598,\n",
              " 0.08441647744020608,\n",
              " 5.988517636011695e-12,\n",
              " 2.632379968052299e-10,\n",
              " 0.014499145819940964,\n",
              " 0.6416335325941,\n",
              " 0.5949087906203034,\n",
              " 0.7630576788472168,\n",
              " 0.5822739102653989,\n",
              " 2.1747303944907877e-14,\n",
              " 3.9616237287320965e-06,\n",
              " 0.41480930025034324,\n",
              " 4.804573772938495e-06,\n",
              " 0.05951268157402363,\n",
              " 0.46028552431756153,\n",
              " 1.0356299956135225e-09,\n",
              " 0.7227756060307319,\n",
              " 0.00509302057969306,\n",
              " 0.7089368846548734,\n",
              " 1.4077763225237706e-06,\n",
              " 2.7072841699903763e-05,\n",
              " 1.6032856122799313e-07,\n",
              " 3.641514119882389e-13,\n",
              " 1.6692798361340334e-16,\n",
              " 3.245161719155075e-05,\n",
              " 0.002699519391586281,\n",
              " 0.011512755981347659,\n",
              " 1.872413591777878e-15,\n",
              " 0.7154501774726569,\n",
              " 3.536763590032303e-15,\n",
              " 1.901192117705714e-05,\n",
              " 0.23507936289837486,\n",
              " 0.8769810498405287,\n",
              " 0.9369618188982413,\n",
              " 0.6794633685657532,\n",
              " 0.056417276024775934,\n",
              " 0.62938280370452,\n",
              " 0.34269866875305344,\n",
              " 2.449621009587387e-07,\n",
              " 0.4805073664501619,\n",
              " 3.1123235687148875e-09,\n",
              " 5.724005076336149e-09,\n",
              " 0.6322119139313238,\n",
              " 1.2969195353696614e-07,\n",
              " 0.2046504531855204,\n",
              " 0.016837587498260823,\n",
              " 1.8457451304994203e-08,\n",
              " 0.6699939218485014,\n",
              " 2.8824121538440873e-14,\n",
              " 0.07390563401736604,\n",
              " 2.3808397222723865e-11,\n",
              " 0.5188401607722297,\n",
              " 0.0004021083081122105,\n",
              " 3.20954950394067e-08,\n",
              " 0.0013561776789366776,\n",
              " 3.64056810289525e-08,\n",
              " 0.0011479113054503733,\n",
              " 5.818719277329324e-06,\n",
              " 0.006399014835758023,\n",
              " 2.482199670447081e-07,\n",
              " 0.0005457834999407602,\n",
              " 0.6336705917371311,\n",
              " 8.91143163482019e-10,\n",
              " 0.1697950728306979,\n",
              " 0.8155082377018179,\n",
              " 0.6696035061638519,\n",
              " 0.28170614033228514,\n",
              " 0.6132274056781908,\n",
              " 0.6954784011016193,\n",
              " 0.2884313804657069,\n",
              " 0.004932069617229178,\n",
              " 0.4444316936938615,\n",
              " 3.330913276441284e-09,\n",
              " 6.311461086254279e-05,\n",
              " 8.980474858786957e-12,\n",
              " 0.002044183329127015,\n",
              " 0.25026883832336366,\n",
              " 0.5552882020474808,\n",
              " 5.839721023995363e-06,\n",
              " 0.03883200337711017,\n",
              " 0.37324964630661717,\n",
              " 5.294394856038906e-10,\n",
              " 0.7340326461580697,\n",
              " 0.15897651678092414,\n",
              " 1.457864594722042e-14,\n",
              " 2.5336011677538786e-13,\n",
              " 6.409904709247345e-05,\n",
              " 2.5824035793469676e-06,\n",
              " 0.6196841693251638,\n",
              " 0.07452873481035585,\n",
              " 0.02217994796510548,\n",
              " 0.90405847692454,\n",
              " 0.2722312920074283,\n",
              " 4.7945151017359115e-09,\n",
              " 0.0018345107710731735,\n",
              " 0.8776359188983294,\n",
              " 0.16945106573132435,\n",
              " 1.7930419874932461e-09,\n",
              " 0.19603923528050549,\n",
              " 0.7262388967136906,\n",
              " 8.984937040394514e-18,\n",
              " 0.7761562437642782,\n",
              " 0.8713291011165771,\n",
              " 0.1993013010278676,\n",
              " 0.00013401980662872123,\n",
              " 0.828439840278606,\n",
              " 0.5880814465530328,\n",
              " 1.1423599398316175e-05,\n",
              " 0.17908819449782676,\n",
              " 9.786779455046947e-09,\n",
              " 0.0002309193833069418,\n",
              " 3.649537162832748e-10,\n",
              " 0.6351855528625163,\n",
              " 0.910361520313456,\n",
              " 0.07569083254257837,\n",
              " 4.546100884671972e-14,\n",
              " 0.020113985376793375,\n",
              " 0.0011374285126380449,\n",
              " 0.013732085276974818,\n",
              " 0.17835245006624761,\n",
              " 6.5163368902806494e-09,\n",
              " 1.4012074949867577e-05,\n",
              " 0.7827035035271277,\n",
              " 0.5355775735161024,\n",
              " 7.63685986342702e-14,\n",
              " 0.584746808844407,\n",
              " 6.989779242002023e-06,\n",
              " 0.9843974185029764,\n",
              " 0.005304331803831932,\n",
              " 0.6992819049264546,\n",
              " 3.275285369970932e-12,\n",
              " 1.3291701164633825e-12,\n",
              " 0.027811029537730333,\n",
              " 0.20323354795941817,\n",
              " 0.33129087446006145,\n",
              " 7.039504329261279e-11,\n",
              " 0.021674788675774305,\n",
              " 1.3971022862080623e-08,\n",
              " 0.9847930661375451,\n",
              " 0.31439534815812925,\n",
              " 1.8481794024022776e-05,\n",
              " 0.693350190886912,\n",
              " 0.622164414515755,\n",
              " 1.7047848384022506e-09,\n",
              " 9.586160725999593e-19,\n",
              " 0.006504188328733745,\n",
              " 9.080640191715269e-08,\n",
              " 1.502250148275563e-13,\n",
              " 1.87511570448461e-09,\n",
              " 0.6737254874331001,\n",
              " 0.14461435304731368,\n",
              " 0.0008508952696518275,\n",
              " 0.45383815851237896,\n",
              " 0.18804642639103913,\n",
              " 0.4245989148741909,\n",
              " 0.3866253188006091,\n",
              " 1.3468451335415702e-11,\n",
              " 0.5874198408219637,\n",
              " 0.44869168335986565,\n",
              " 3.9929892823812716e-10,\n",
              " 0.14189954164070892,\n",
              " 0.729874051868332,\n",
              " 0.0004742735167332424,\n",
              " 1.2617031594791524e-13,\n",
              " 0.5553896861347196,\n",
              " 7.038528819508614e-10,\n",
              " 2.1778927274453945e-13,\n",
              " 0.5435620695373333,\n",
              " 0.9326894573739607,\n",
              " 0.5966245314857168,\n",
              " 0.798499302402703,\n",
              " 2.458683100963099e-10,\n",
              " 0.7743843185161113,\n",
              " 0.39659474147254525,\n",
              " 0.07204809404521434,\n",
              " 0.09548905799501707,\n",
              " 1.4554133805707916e-10,\n",
              " 0.00014810369233399492,\n",
              " 1.2472416502698014e-12,\n",
              " 0.03191718771765505,\n",
              " 7.708985182152557e-08,\n",
              " 0.5720544493650033,\n",
              " 0.4638406113219692,\n",
              " 0.2931650505990765,\n",
              " 0.0012886167558987308,\n",
              " 0.23156000476817568,\n",
              " 0.011311944318193457,\n",
              " 1.267331875321e-15,\n",
              " 0.6811016206124549,\n",
              " 0.00013036560115308832,\n",
              " 0.026525107590448904,\n",
              " 4.419200658944289e-11,\n",
              " 0.45498421405740064,\n",
              " 0.07360899359837994,\n",
              " 0.7536621536855481,\n",
              " 0.029507410197264262,\n",
              " 0.3802682987864017,\n",
              " 0.3596245455541091,\n",
              " 0.7082846708333292,\n",
              " 0.04772292919597597,\n",
              " 4.158683102863156e-05,\n",
              " 5.045832654623579e-05,\n",
              " 0.7319466815226549,\n",
              " 2.847592409456149e-17,\n",
              " 0.04414262834035166,\n",
              " 0.0017477658752000308,\n",
              " 6.969891668305484e-15,\n",
              " 1.4701003757837108e-11,\n",
              " 0.9284031289893182,\n",
              " 0.8394008983711451,\n",
              " 0.6889106976018483,\n",
              " 5.205427372597465e-10,\n",
              " 8.027580592117825e-15,\n",
              " 1.4402314808821391e-06,\n",
              " 0.7611167336737946,\n",
              " 0.012142536025802148,\n",
              " 0.011400271686132953,\n",
              " 0.5419163813866634,\n",
              " 0.6639330253205473,\n",
              " 1.7062162263131898e-12,\n",
              " 0.010567001415053725,\n",
              " 0.26024276565461785,\n",
              " 0.7796463514771981,\n",
              " 0.5119595060765322,\n",
              " 0.20138531789214392,\n",
              " 0.005257061701768876,\n",
              " 0.45003095032301976,\n",
              " 0.9791767891747137,\n",
              " 0.25897302328676625,\n",
              " 6.923813715903659e-09,\n",
              " 1.1192688727230732e-10,\n",
              " 0.0043429901705078645,\n",
              " 0.11732949074840542,\n",
              " 0.878153165643818,\n",
              " 0.11997948420195612,\n",
              " 0.7247013134362539,\n",
              " 1.2892899554876038e-09,\n",
              " 0.7773253378112704,\n",
              " 0.813999833323226,\n",
              " 0.008779846782536183,\n",
              " 0.009643064733632797,\n",
              " 3.438879457951649e-11,\n",
              " 8.458671666578733e-08,\n",
              " 9.419346859670295e-07,\n",
              " 0.09677644116280423,\n",
              " 0.648807168892177,\n",
              " 0.3510307249333963,\n",
              " 0.09559835925191276,\n",
              " 0.7882554264981732,\n",
              " 0.018004110821744038,\n",
              " 0.6896730512162221,\n",
              " 0.30176203263653884,\n",
              " 0.4658489401072555,\n",
              " 5.830790344318614e-15,\n",
              " 0.4672657135968754,\n",
              " 1.412818138865295e-11,\n",
              " 1.3317130733524738e-07,\n",
              " 0.9604042983757011,\n",
              " 0.2653249573746195,\n",
              " 0.005862965016500636,\n",
              " 1.1249768875464765e-11,\n",
              " 3.5210035968035747e-13,\n",
              " 0.7494691046926336,\n",
              " 3.584454665799656e-07,\n",
              " 0.2613982533164453,\n",
              " 0.9393297094952477,\n",
              " 0.009478606663099673,\n",
              " 0.24640752615200004,\n",
              " 0.31616698895526507,\n",
              " 0.537197694801758,\n",
              " 0.02292322261095026,\n",
              " 0.05321208861178778,\n",
              " 0.5682831934638022,\n",
              " 0.011975276551458337,\n",
              " 6.626655739060055e-05,\n",
              " 0.9066468240198953,\n",
              " 0.16751639235738278,\n",
              " 6.104548700269983e-07,\n",
              " 1.8000309079395923e-09,\n",
              " 0.929802319849387,\n",
              " 4.660325303458431e-09,\n",
              " 0.8503428819183689,\n",
              " 0.7812645110252512,\n",
              " 0.49016050040240966,\n",
              " 0.00022893439540451818,\n",
              " 2.6485710177272753e-07,\n",
              " 0.8606474538452109,\n",
              " 0.541058872723687,\n",
              " 0.5959030422372824,\n",
              " 0.5401836846096422,\n",
              " 0.4282121322613507,\n",
              " 0.00016856950115135873,\n",
              " 0.5026942296570469,\n",
              " 0.11628939318369592,\n",
              " 0.8668490318722268,\n",
              " 3.2600097338388184e-12,\n",
              " 0.08307768603540187,\n",
              " 0.7839345298913158,\n",
              " 0.9361945976365056,\n",
              " 0.6525114626133053,\n",
              " 0.19064853869036652,\n",
              " 0.5355222357219367,\n",
              " 0.2500528472789112,\n",
              " 0.498175427160537,\n",
              " 2.8151147452487386e-05,\n",
              " 0.0006474424101897719,\n",
              " 0.7812510110562462,\n",
              " 0.21779947903905003,\n",
              " 1.6539848411582793e-10,\n",
              " 0.09221177520370323,\n",
              " 0.45797846744174964,\n",
              " 0.21284392945083286,\n",
              " 0.41793751461898787,\n",
              " 0.22379012901622364,\n",
              " 0.21203982200391772,\n",
              " 5.904261294319697e-10,\n",
              " 0.8336477196777964,\n",
              " 0.5893601788545051,\n",
              " 0.5635259383438869,\n",
              " 0.002069003938938402,\n",
              " 3.0776471821747876e-12,\n",
              " 0.07087050711407024,\n",
              " 0.8736888110141983,\n",
              " 0.7822380407830825,\n",
              " 0.8283037384257306,\n",
              " 9.276565890552564e-05,\n",
              " 0.32514077245352985,\n",
              " 0.6460815050883626,\n",
              " 0.5007337683362219,\n",
              " 0.2558976030182525,\n",
              " 0.010272895032129655,\n",
              " 1.98774154795421e-08,\n",
              " 0.2470991706800393,\n",
              " 4.525462679676584e-05,\n",
              " 0.001407197860439835,\n",
              " 0.0314017012274184,\n",
              " 0.000499978385361672,\n",
              " 6.47685204584746e-08,\n",
              " 0.016592981293985315,\n",
              " 0.05120412400430669,\n",
              " 0.6540252284115555,\n",
              " 0.7505033433538205,\n",
              " 0.6258448091903273,\n",
              " 0.18802626578147805,\n",
              " 1.968988128204187e-09,\n",
              " 0.7611436314724438,\n",
              " 0.00020488423907072013,\n",
              " 0.8429312444144533,\n",
              " 0.2753615147467634,\n",
              " 0.7476368000255893,\n",
              " 0.45411777231081396,\n",
              " 4.417394287119162e-12,\n",
              " 3.1346740024817134e-12,\n",
              " 0.5509234973531301,\n",
              " 0.06421703469737451,\n",
              " 3.0076448653512414e-12,\n",
              " 4.372153534940077e-10,\n",
              " 1.693729372821887e-09,\n",
              " 3.893411593235385e-06,\n",
              " 0.10647533550498257,\n",
              " 0.08569254920869258,\n",
              " 6.488557914095711e-10,\n",
              " 0.8979965350743043,\n",
              " 2.744950330843032e-07,\n",
              " 0.0023797046287226935,\n",
              " 0.565333680328191,\n",
              " 0.39867744638444175,\n",
              " 0.3140911293123829,\n",
              " 0.716757975344275,\n",
              " 0.20866325821006776,\n",
              " 0.3970346318875692,\n",
              " 7.213494960093925e-05,\n",
              " 0.5928779919449585,\n",
              " 0.1532396766911452,\n",
              " 1.913646359833956e-10,\n",
              " 2.032004519848713e-12,\n",
              " 0.9647521243708488,\n",
              " 7.593401336829084e-05,\n",
              " 0.4063730118983513,\n",
              " 3.62312846806652e-06,\n",
              " 7.682713089502038e-13,\n",
              " 0.1290131678232707,\n",
              " 0.5199239786677774,\n",
              " 0.8372585418354448,\n",
              " 0.43336707006134956,\n",
              " 4.9560536837750563e-14,\n",
              " 2.727817551007017e-11,\n",
              " 0.6241655240260935,\n",
              " 3.8419045482645777e-13,\n",
              " 0.42465125031547424,\n",
              " 0.7077583840424906,\n",
              " 5.848803719943437e-13,\n",
              " 0.33065474477769724,\n",
              " 0.10019963814204794,\n",
              " 0.9870241688752794,\n",
              " 6.0053050161520915e-05,\n",
              " 0.012898385618854672,\n",
              " 5.229388506630985e-11,\n",
              " 0.4249543963890544,\n",
              " 0.909802937954926,\n",
              " 2.788013237032041e-15,\n",
              " 0.3839052941383,\n",
              " 4.5020396935260194e-09,\n",
              " 0.09870987154676443,\n",
              " 0.5492790948595516,\n",
              " 0.002664043780111866,\n",
              " 0.0019710261486182734,\n",
              " 1.8923318961070384e-11,\n",
              " 6.97457817362714e-07,\n",
              " 0.0024050145256660138,\n",
              " 0.01420342075903721,\n",
              " 0.6723359047960968,\n",
              " 0.704830561409477,\n",
              " 0.2940016190353594,\n",
              " 0.09349476064617615,\n",
              " 5.75277062409728e-06,\n",
              " 0.8301837864524221,\n",
              " 1.4342098798083205e-07,\n",
              " 3.6916317329736007e-06,\n",
              " 0.004120949017825447,\n",
              " 0.4836129787302563,\n",
              " 3.483283601142097e-09,\n",
              " 5.89684949341757e-05,\n",
              " 0.9305549630924238,\n",
              " 0.49999353966446447,\n",
              " 1.0960189921824998e-05,\n",
              " 0.7782613134485732,\n",
              " 0.5058898811479309,\n",
              " 0.025186286592296166,\n",
              " 9.920310132249123e-15,\n",
              " 0.18316078297446464,\n",
              " 0.6803452694955802,\n",
              " 0.30239628415492525,\n",
              " 0.0029708340400236163,\n",
              " 0.9692609146576214,\n",
              " 0.09504067639271978,\n",
              " 0.8841917784821844,\n",
              " 3.6709230072651345e-09,\n",
              " 0.5765666864191394,\n",
              " 4.84071561943141e-14,\n",
              " 0.7041085502830415,\n",
              " 0.02064452219783036,\n",
              " 1.7586333871693852e-05,\n",
              " 0.07286808724905991,\n",
              " 2.650125963450467e-05,\n",
              " 9.391418100643133e-11,\n",
              " 4.335172035103571e-06,\n",
              " 0.468354486608214,\n",
              " 0.47563865605996514,\n",
              " 1.521456855768461e-06,\n",
              " 0.18826980437226135,\n",
              " 0.17131876597925594,\n",
              " 0.10864127259087297,\n",
              " 0.00010280000358004715,\n",
              " 0.4087292479591925,\n",
              " 0.5701953562023595,\n",
              " 0.003624968111125502,\n",
              " 0.4822055258945739,\n",
              " 2.3444030608248524e-14,\n",
              " 0.13454496063983046,\n",
              " 0.3450020617992461,\n",
              " 2.291558497922291e-08,\n",
              " 2.035133923397851e-05,\n",
              " 0.00020732182170662625,\n",
              " 0.1642177499670566,\n",
              " 1.2136636060051388e-09,\n",
              " 2.679157977786665e-12,\n",
              " 0.3725159211275315,\n",
              " 0.09869984789042857,\n",
              " 0.2602560376846097,\n",
              " 3.3567282303513044e-07,\n",
              " 0.5317012031752745,\n",
              " 0.019624934108271947,\n",
              " 0.22491055686279715,\n",
              " 3.294838312300288e-05,\n",
              " 3.1371856036777776e-15,\n",
              " 0.13283201032231706,\n",
              " 0.15420058924535723,\n",
              " 0.0021910687000822205,\n",
              " 0.33055201772645926,\n",
              " 0.011560195226608056,\n",
              " 8.410958830957889e-05,\n",
              " 4.3415510127189814e-07,\n",
              " 6.424305162474879e-12,\n",
              " 0.562731970662113,\n",
              " 0.043634632787836816,\n",
              " 0.0006836552703818694,\n",
              " 0.974200616850061,\n",
              " 2.221980855385813e-07,\n",
              " 0.6610820944314806,\n",
              " 0.5469484872878253,\n",
              " 0.03945701898090707,\n",
              " 5.4392582295775364e-08,\n",
              " 0.4621328244128856,\n",
              " 1.6517343816028205e-09,\n",
              " 0.1105949746648707,\n",
              " 4.899267972997383e-06,\n",
              " 0.6987866647117558,\n",
              " 0.6388749530010099,\n",
              " 0.6001524862197273,\n",
              " 0.9357791259086512,\n",
              " 2.252310167641027e-12,\n",
              " 0.6539989554333672,\n",
              " 8.365680490045648e-08,\n",
              " 0.1953388672510968,\n",
              " 0.8826318066123542,\n",
              " 0.0013036319303732994,\n",
              " 9.457304528677337e-11,\n",
              " 1.861654306440205e-10,\n",
              " 0.07448800113044496,\n",
              " 0.0038367520161269593,\n",
              " 0.1595297036964894,\n",
              " 2.0204391397048758e-14,\n",
              " 0.6855204800074823,\n",
              " 0.78117790383184,\n",
              " 0.0012899615257934815,\n",
              " 0.4965360263299342,\n",
              " 0.002148570822101066,\n",
              " 0.022370563236211168,\n",
              " 1.8097752375430925e-11,\n",
              " 0.035495198371071776,\n",
              " 0.2494789287342724,\n",
              " 0.5734964652057115,\n",
              " 0.9244157453652321,\n",
              " 0.10832799869870151,\n",
              " 0.6889367800055499,\n",
              " 0.18180838923483472,\n",
              " 1.4347729192254732e-16,\n",
              " 0.06361925495522713,\n",
              " 0.4454669852417975,\n",
              " 0.315376053692487,\n",
              " 0.8877331806198971,\n",
              " 0.3125454150826602,\n",
              " 2.399062493127712e-07,\n",
              " 7.846457117011563e-06,\n",
              " 0.34196085831767153,\n",
              " 0.00892431750486397,\n",
              " 4.4246445299655967e-13,\n",
              " 7.552139847025557e-10,\n",
              " 0.05482150187051755,\n",
              " 0.6079761137811468,\n",
              " 0.007690963808030788,\n",
              " 0.0010093392667498522,\n",
              " 1.3600034708128146e-11,\n",
              " 8.630253205442827e-09,\n",
              " 5.348576926321047e-07,\n",
              " 0.2617056230933725,\n",
              " 0.4702403443804333,\n",
              " 2.0539100992374173e-05,\n",
              " 7.571333897047758e-07,\n",
              " 0.21426351426302326,\n",
              " 0.44334526816468467,\n",
              " 4.70294145796314e-07,\n",
              " 0.09990999660390391,\n",
              " 0.5686840497309912,\n",
              " 9.634775570673337e-13,\n",
              " 6.6643993222218614e-09,\n",
              " 0.22985438304219474,\n",
              " 0.4679886184521883,\n",
              " 4.0023075036991263e-07,\n",
              " 0.21486969793188587,\n",
              " 1.0939336005922804e-09,\n",
              " 0.011253006163354565,\n",
              " 1.2788368603378384e-05,\n",
              " 1.7991430536880519e-12,\n",
              " 0.5855177807813402,\n",
              " 0.08724476857250106,\n",
              " 9.620408842122934e-11,\n",
              " 0.006665304866211593,\n",
              " 1.723370726151319e-12,\n",
              " 2.7509976352985233e-14,\n",
              " 0.34631319176498554,\n",
              " 0.4952329957304368,\n",
              " 0.5315060887479087,\n",
              " 0.7121317481228167,\n",
              " 0.48354176310049257,\n",
              " 0.002894900520261719,\n",
              " 2.9848659144624293e-09,\n",
              " 0.07069728529246476,\n",
              " 0.7668805858686925,\n",
              " 0.7334223155610526,\n",
              " 0.4706166170496573,\n",
              " 0.7099505920880358,\n",
              " 0.7341047669241122,\n",
              " 0.29524694728676815,\n",
              " 2.8785975596678426e-09,\n",
              " 1.245899539363936e-11,\n",
              " 0.17418023551693312,\n",
              " 0.011824205842156432,\n",
              " 7.765759963744811e-07,\n",
              " 0.25588209510189064,\n",
              " 5.448486052623034e-07,\n",
              " 0.043981353527038865,\n",
              " 0.0014000630500278293,\n",
              " 2.643803956694305e-05,\n",
              " 0.0962592155060028,\n",
              " 1.918543658687486e-08,\n",
              " 0.8022232291004802,\n",
              " 3.7150581001499137e-13,\n",
              " 8.451825981442296e-06,\n",
              " 2.5337641871934065e-07,\n",
              " 0.002964342527130511,\n",
              " 2.3338117652319017e-13,\n",
              " 0.2667406460139549,\n",
              " 1.1487431131619209e-05,\n",
              " 0.16074937637823308,\n",
              " 2.868506884469211e-10,\n",
              " 0.32481243207625954,\n",
              " 0.5347468862154713,\n",
              " 0.31883420049873146,\n",
              " 0.0021366389768154286,\n",
              " 0.7816078644741459,\n",
              " 0.5695207173481687,\n",
              " 1.3754953025632874e-07,\n",
              " 0.051696481699957934,\n",
              " 2.813641784819468e-10,\n",
              " 1.2628754106932295e-06,\n",
              " 4.968421985217892e-09,\n",
              " 0.9019606053351317,\n",
              " 1.1115586790075067e-12,\n",
              " 0.009880134876842635,\n",
              " 1.9514186369570211e-07,\n",
              " 0.18535127160882567,\n",
              " 0.15135973716567142,\n",
              " 3.9314875923281433e-13,\n",
              " 3.0154869117497203e-13,\n",
              " 0.019585748133334947,\n",
              " 0.0005520385479620762,\n",
              " 1.936486793071843e-15,\n",
              " 0.07483757668219397,\n",
              " 0.14419510889203946,\n",
              " 7.568059793800776e-06,\n",
              " 0.7167658462966531,\n",
              " 8.540622418868253e-10,\n",
              " 0.5133517418962225,\n",
              " 0.008127870713908542,\n",
              " 0.857435572039808,\n",
              " 0.25833711137609044,\n",
              " 0.7996466879062769,\n",
              " 0.05838669814557601,\n",
              " 0.08705262109722804,\n",
              " 0.218708370498971,\n",
              " 0.18750306903809827,\n",
              " 0.7128743968222645,\n",
              " 2.763835265392465e-07,\n",
              " 0.008741561646981377,\n",
              " 3.1805655665495467e-10,\n",
              " 1.347210721806039e-06,\n",
              " 6.793680066301233e-13,\n",
              " 0.4511260768477854,\n",
              " 0.20885362733972743,\n",
              " 0.6110944121000466,\n",
              " 0.8225954960912284,\n",
              " 0.5505453253911381]"
            ]
          },
          "metadata": {},
          "execution_count": 48
        }
      ]
    },
    {
      "cell_type": "markdown",
      "metadata": {
        "id": "teZmcjlIkBLp"
      },
      "source": [
        "### Задание 3.2.\n",
        "Постройте визуализацию, которая позволит сравнить распределение длительности поездки в логарифмическом масштабе (trip_duration_log) в зависимости от таксопарка (vendor_id).\n",
        "\n",
        "Сравните два распределения между собой."
      ]
    },
    {
      "cell_type": "code",
      "execution_count": null,
      "metadata": {
        "id": "SfyhOuOYkBLp"
      },
      "outputs": [],
      "source": [
        "# ваш код здесь"
      ]
    },
    {
      "cell_type": "markdown",
      "metadata": {
        "id": "Gq7d2zjjkBLp"
      },
      "source": [
        "### Задание 3.3.\n",
        "Постройте визуализацию, которая позволит сравнить распределение длительности поездки в логарифмическом масштабе (trip_duration_log) в зависимости от признака отправки сообщения поставщику (store_and_fwd_flag).\n",
        "\n",
        "Сравните два распределения между собой."
      ]
    },
    {
      "cell_type": "code",
      "execution_count": null,
      "metadata": {
        "id": "3If4bSdEkBLp"
      },
      "outputs": [],
      "source": [
        "# ваш код здесь"
      ]
    },
    {
      "cell_type": "markdown",
      "metadata": {
        "id": "ThgfBISekBLp"
      },
      "source": [
        "### Задание 3.4.\n",
        "Постройте две визуализации:\n",
        "* Распределение количества поездок в зависимости от часа дня;\n",
        "* Зависимость медианной длительности поездки от часа дня.\n",
        "\n",
        "На основе построенных графиков ответьте на следующие вопросы:\n",
        "\n",
        "а) В какое время суток такси заказывают реже всего?\n",
        "\n",
        "б) В какое время суток наблюдается пик медианной длительности поездок?"
      ]
    },
    {
      "cell_type": "code",
      "execution_count": null,
      "metadata": {
        "id": "b7tRWY_BkBLq"
      },
      "outputs": [],
      "source": [
        "# ваш код здесь"
      ]
    },
    {
      "cell_type": "markdown",
      "metadata": {
        "id": "GmHyGkbzkBLq"
      },
      "source": [
        "### Задание 3.5.\n",
        "Постройте две визуализации:\n",
        "* Распределение количества поездок в зависимости от дня недели;\n",
        "*  Зависимость медианной длительности поездки от дня недели.\n",
        "\n",
        "На основе построенных графиков ответьте на следующие вопросы:\n",
        "а) В какой день недели совершается больше всего поездок?\n",
        "б) В какой день недели медианная длительность поездок наименьшая?\n"
      ]
    },
    {
      "cell_type": "code",
      "execution_count": null,
      "metadata": {
        "id": "b0mHfS17kBLq"
      },
      "outputs": [],
      "source": [
        "# ваш код здесь"
      ]
    },
    {
      "cell_type": "markdown",
      "metadata": {
        "id": "KSRSS4tekBLq"
      },
      "source": [
        "### Задание 3.6.\n",
        "Посмотрим на обе временные характеристики одновременно.\n",
        "\n",
        "Постройте сводную таблицу, по строкам которой отложены часы (pickup_hour), по столбцам - дни недели (pickup_day_of_week), а в ячейках - медианная длительность поездки (trip_duration).\n",
        "\n",
        "Визуализируйте полученную сводную таблицу с помощью тепловой карты (рекомендуемая палитра - coolwarm)."
      ]
    },
    {
      "cell_type": "code",
      "execution_count": null,
      "metadata": {
        "id": "zDUyBJTQkBLq"
      },
      "outputs": [],
      "source": [
        "# ваш код здесь"
      ]
    },
    {
      "cell_type": "markdown",
      "metadata": {
        "id": "E5P2WBT6kBLq",
        "tags": []
      },
      "source": [
        "### Задание 3.7.\n",
        "Постройте две диаграммы рассеяния (scatter-диаграммы):\n",
        "* первая должна иллюстрировать географическое расположение точек начала поездок (pickup_longitude, pickup_latitude)\n",
        "* вторая должна географическое расположение точек завершения поездок (dropoff_longitude, dropoff_latitude).\n",
        "\n",
        "Для этого на диаграммах по оси абсцисс отложите широту (longitude), а по оси ординат - долготу (latitude).\n",
        "Включите в визуализацию только те точки, которые находятся в пределах Нью-Йорка - добавьте следующие ограничения на границы осей абсцисс и ординат:\n",
        "\n",
        "city_long_border = (-74.03, -73.75)\n",
        "\n",
        "city_lat_border = (40.63, 40.85)\n",
        "\n",
        "Добавьте на диаграммы расцветку по десяти географическим кластерам (geo_cluster), которые мы сгенерировали ранее.\n",
        "\n",
        "**Рекомендация:** для наглядности уменьшите размер точек на диаграмме рассеяния.  \n"
      ]
    },
    {
      "cell_type": "code",
      "execution_count": null,
      "metadata": {
        "id": "T0Wd1q_PkBLq"
      },
      "outputs": [],
      "source": [
        "city_long_border = (-74.03, -73.75)\n",
        "city_lat_border = (40.63, 40.85)\n",
        "\n",
        "# ваш код здесь"
      ]
    },
    {
      "cell_type": "markdown",
      "metadata": {
        "id": "cSKZEkO4kBLq"
      },
      "source": [
        "## 4. Отбор и преобразование признаков"
      ]
    },
    {
      "cell_type": "markdown",
      "metadata": {
        "id": "Erg_Ejz1kBLr"
      },
      "source": [
        "Перед тем как перейти к построению модели, осталось сделать ещё несколько шагов.\n",
        "* Следует помнить, что многие алгоритмы машинного обучения не могут обрабатывать категориальные признаки в их обычном виде. Поэтому нам необходимо их закодировать;\n",
        "* Надо отобрать признаки, которые мы будем использовать для обучения модели;\n",
        "*  Необходимо масштабировать и трансформировать некоторые признаки для того, чтобы улучшить сходимость моделей, в основе которых лежат численные методы.\n"
      ]
    },
    {
      "cell_type": "code",
      "execution_count": null,
      "metadata": {
        "id": "N7MHv9HKkBLr"
      },
      "outputs": [],
      "source": [
        "print('Shape of data: {}'.format(taxi_data.shape))\n",
        "print('Columns: {}'.format(taxi_data.columns))"
      ]
    },
    {
      "cell_type": "markdown",
      "metadata": {
        "id": "j6sgAOFqkBLr"
      },
      "source": [
        "Для удобства работы сделаем копию исходной таблицы с поездками:"
      ]
    },
    {
      "cell_type": "code",
      "execution_count": null,
      "metadata": {
        "id": "7rxobyQFkBLr"
      },
      "outputs": [],
      "source": [
        "train_data = taxi_data.copy()\n",
        "train_data.head()"
      ]
    },
    {
      "cell_type": "markdown",
      "metadata": {
        "id": "U7i7DFBdkBLr"
      },
      "source": [
        "### Задание 4.1.\n",
        "Сразу позаботимся об очевидных неинформативных и избыточных признаках.\n",
        "\n",
        "а) Какой из признаков является уникальным для каждой поездки и не несет полезной информации в определении ее продолжительности?\n",
        "\n",
        "б) Утечка данных (data leak) - это…\n",
        "\n",
        "в) Подумайте, наличие какого из признаков в обучающем наборе данных создает утечку данных?\n",
        "\n",
        "г) Исключите выбранные в пунктах а) и в) признаки из исходной таблицы с данными. Сколько столбцов в таблице у вас осталось?\n"
      ]
    },
    {
      "cell_type": "code",
      "execution_count": null,
      "metadata": {
        "id": "-hg53Bv1kBLr"
      },
      "outputs": [],
      "source": [
        "# ваш код здесь"
      ]
    },
    {
      "cell_type": "markdown",
      "metadata": {
        "id": "NHyYd7XzkBLr"
      },
      "source": [
        "Ранее мы извлекли всю необходимую для нас информацию из даты начала поездки, теперь мы можем избавиться от этих признаков, так как они нам больше не понадобятся:\n"
      ]
    },
    {
      "cell_type": "code",
      "execution_count": null,
      "metadata": {
        "id": "nzO9ioMHkBLs"
      },
      "outputs": [],
      "source": [
        "drop_columns = ['pickup_datetime', 'pickup_date']\n",
        "train_data = train_data.drop(drop_columns, axis=1)\n",
        "print('Shape of data:  {}'.format(train_data.shape))"
      ]
    },
    {
      "cell_type": "markdown",
      "metadata": {
        "id": "cXHbkc3ykBLs"
      },
      "source": [
        "### Задание 4.2.\n",
        "\n",
        "Закодируйте признак vendor_id в таблице train_data таким образом, чтобы он был равен 0, если идентификатор таксопарка равен 1, и 1 — в противном случае.\n",
        "\n",
        "Закодируйте признак store_and_fwd_flag в таблице train_data таким образом, чтобы он был равен 0, если флаг выставлен в значение 'N', и 1 — в противном случае.\n",
        "\n",
        "а) Рассчитайте среднее по закодированному столбцу vendor_id. Ответ приведите с точностью до сотых.\n",
        "\n",
        "б) Рассчитайте среднее по закодированному столбцу store_and_fwd_flag. Ответ приведите с точностью до тысячных.\n",
        "\n"
      ]
    },
    {
      "cell_type": "code",
      "execution_count": null,
      "metadata": {
        "id": "_O1jJaZtkBLs"
      },
      "outputs": [],
      "source": [
        "# ваш код здесь"
      ]
    },
    {
      "cell_type": "markdown",
      "metadata": {
        "id": "XMUmtLu1kBLs"
      },
      "source": [
        "### Задание 4.3.\n",
        "Создайте таблицу data_onehot из закодированных однократным кодированием признаков pickup_day_of_week, geo_cluster и events в таблице train_data с помощью OneHotEncoder из библиотеки sklearn. Параметр drop выставите в значение 'first', чтобы удалять первый бинарный столбец, тем самым не создавая излишних признаков.\n",
        "\n",
        "В результате работы OneHotEncoder вы получите безымянный numpy-массив, который нам будет необходимо преобразовать обратно в DataFrame, для более удобной работы в дальнейшем. Чтобы получить имена закодированных столбцов у объекта типа OneHotEncoder есть специальный метод get_feature_names_out(). Он возвращает список новых закодированных имен столбцов в формате <оригинальное имя столбца>_<имя категории>.\n",
        "\n",
        "Пример использования:\n",
        "\n",
        "``` python\n",
        "# Получаем закодированные имена столбцов\n",
        "column_names = one_hot_encoder.get_feature_names_out()\n",
        "# Составляем DataFrame из закодированных признаков\n",
        "data_onehot = pd.DataFrame(data_onehot, columns=column_names)\n",
        "```\n",
        "\n",
        "В этом псевдокоде:\n",
        "* one_hot_encoder - объект класса OneHotEncoder\n",
        "* data_onehot - numpy-массив, полученный в результате трансформации кодировщиком\n",
        "\n",
        "В результате выполнения задания у вас должен быть образован DataFrame `data_onehot`, который содержит кодированные категориальные признаки pickup_day_of_week, geo_cluster и events.\n",
        "\n",
        "\n",
        "Сколько бинарных столбцов у вас получилось сгенерировать с помощью однократного кодирования?\n"
      ]
    },
    {
      "cell_type": "code",
      "execution_count": null,
      "metadata": {
        "id": "BonLFJbhkBLs"
      },
      "outputs": [],
      "source": [
        "# ваш код здесь"
      ]
    },
    {
      "cell_type": "markdown",
      "metadata": {
        "id": "AsGsYqHRkBLs"
      },
      "source": [
        "Добавим полученную таблицу с закодированными признаками:"
      ]
    },
    {
      "cell_type": "code",
      "execution_count": null,
      "metadata": {
        "id": "blXeWiS0kBLs"
      },
      "outputs": [],
      "source": [
        "train_data = pd.concat(\n",
        "    [train_data.reset_index(drop=True).drop(columns_to_change, axis=1), data_onehot],\n",
        "    axis=1\n",
        ")\n",
        "print('Shape of data: {}'.format(train_data.shape))"
      ]
    },
    {
      "cell_type": "markdown",
      "metadata": {
        "id": "XQhXAud5kBLt"
      },
      "source": [
        "Теперь, когда категориальные признаки предобработаны, сформируем матрицу наблюдений X, вектор целевой переменной y и его логарифм y_log. В матрицу наблюдений войдут все столбцы из таблицы с поездками за исключением целевого признака trip_duration и его логарифмированной версии trip_duration_log:\n"
      ]
    },
    {
      "cell_type": "code",
      "execution_count": null,
      "metadata": {
        "id": "Vz6YfcALkBLt"
      },
      "outputs": [],
      "source": [
        "X = train_data.drop(['trip_duration', 'trip_duration_log'], axis=1)\n",
        "y = train_data['trip_duration']\n",
        "y_log = train_data['trip_duration_log']"
      ]
    },
    {
      "cell_type": "markdown",
      "metadata": {
        "id": "orPjdejMkBLt"
      },
      "source": [
        "Все наши модели мы будем обучать на логарифмированной версии y_log."
      ]
    },
    {
      "cell_type": "markdown",
      "metadata": {
        "id": "L8CzG9CnkBLt"
      },
      "source": [
        "Выбранный тип валидации - hold-out. Разобьем выборку на обучающую и валидационную в соотношении 67/33:"
      ]
    },
    {
      "cell_type": "code",
      "execution_count": null,
      "metadata": {
        "id": "hPEJ89ZdkBLt"
      },
      "outputs": [],
      "source": [
        "X_train, X_valid, y_train_log, y_valid_log = model_selection.train_test_split(\n",
        "    X, y_log,\n",
        "    test_size=0.33,\n",
        "    random_state=42\n",
        ")"
      ]
    },
    {
      "cell_type": "markdown",
      "metadata": {
        "id": "yL9ZPlW3kBLt"
      },
      "source": [
        "На данный момент у нас достаточно много признаков: скорее всего, не все из них будут важны. Давайте оставим лишь те, которые сильнее всего связаны с целевой переменной и точно будут вносить вклад в повышение качества модели.\n"
      ]
    },
    {
      "cell_type": "markdown",
      "metadata": {
        "id": "AaqdJUp-kBLt"
      },
      "source": [
        "### Задание 4.4.\n",
        "С помощью SelectKBest отберите 25 признаков, наилучшим образом подходящих для предсказания целевой переменной в логарифмическом масштабе. Отбор реализуйте по обучающей выборке, используя параметр score_func = f_regression.\n",
        "\n",
        "Укажите признаки, которые вошли в список отобранных\n"
      ]
    },
    {
      "cell_type": "code",
      "execution_count": null,
      "metadata": {
        "id": "TEeqoG20kBLt"
      },
      "outputs": [],
      "source": [
        "# ваш код здесь"
      ]
    },
    {
      "cell_type": "markdown",
      "metadata": {
        "id": "JLOJ_kdlkBLt"
      },
      "source": [
        "Так как мы будем использовать различные модели, в том числе внутри которых заложены численные методы оптимизации, то давайте заранее позаботимся о масштабировании факторов.\n"
      ]
    },
    {
      "cell_type": "markdown",
      "metadata": {
        "id": "9WfHLiGKkBLu"
      },
      "source": [
        "### Задание 4.5.\n",
        "Нормализуйте предикторы в обучающей и валидационной выборках с помощью MinMaxScaler из библиотеки sklearn. Помните, что обучение нормализатора производится на обучающей выборке, а трансформация на обучающей и валидационной!\n",
        "\n",
        "Рассчитайте среднее арифметическое для первого предиктора (т. е. для первого столбца матрицы) из валидационной выборки. Ответ округлите до сотых.\n"
      ]
    },
    {
      "cell_type": "code",
      "execution_count": null,
      "metadata": {
        "id": "WSslyUgwkBLu"
      },
      "outputs": [],
      "source": [
        "# ваш код здесь"
      ]
    },
    {
      "cell_type": "markdown",
      "metadata": {
        "id": "gaEMuA6skBLu"
      },
      "source": [
        "## 5. Решение задачи регрессии: линейная регрессия и деревья решений"
      ]
    },
    {
      "cell_type": "markdown",
      "metadata": {
        "id": "y-pS_2XykBLu"
      },
      "source": [
        "Определим метрику, по которой мы будем измерять качество наших моделей. Мы будем следовать канонам исходного соревнования на Kaggle и в качестве метрики использовать RMSLE (Root Mean Squared Log Error), которая вычисляется как:\n",
        "$$RMSLE = \\sqrt{\\frac{1}{n}\\sum_{i=1}^n(log(y_i+1)-log(\\hat{y_i}+1))^2},$$\n",
        "где:\n",
        "* $y_i$ - истинная длительность i-ой поездки на такси (trip_duration)\n",
        "* $\\hat{y_i}$- предсказанная моделью длительность i-ой поездки на такси\n",
        "\n",
        "Заметим, что логарифмирование целевого признака мы уже провели заранее, поэтому нам будет достаточно вычислить метрику RMSE для модели, обученной прогнозировать длительность поездки такси в логарифмическом масштабе:\n",
        "$$z_i=log(y_i+1),$$\n",
        "$$RMSLE = \\sqrt{\\frac{1}{n}\\sum_{i=1}^n(z_i-\\hat{z_i})^2}=\\sqrt{MSE(z_i,\\hat{z_i})}$$\n",
        "\n"
      ]
    },
    {
      "cell_type": "markdown",
      "metadata": {
        "id": "6Qd3xY1-kBLu"
      },
      "source": [
        "### Задание 5.1.\n",
        "Постройте модель линейной регрессии на обучающей выборке (факторы должны быть нормализованы, целевую переменную используйте в логарифмическом масштабе). Все параметры оставьте по умолчанию.\n",
        "\n",
        "Для полученной модели рассчитайте метрику RMSLE на тренировочной и валидационной выборках. Ответ округлите до сотых.\n"
      ]
    },
    {
      "cell_type": "code",
      "execution_count": null,
      "metadata": {
        "id": "R1IB1yK5kBLu"
      },
      "outputs": [],
      "source": [
        "# ваш код здесь"
      ]
    },
    {
      "cell_type": "markdown",
      "metadata": {
        "id": "QSN6i928kBLu"
      },
      "source": [
        "### Задание 5.2.\n",
        "Сгенерируйте полиномиальные признаки 2-ой степени с помощью PolynomialFeatures из библиотеки sklearn. Параметр include_bias выставите в значение False.\n",
        "\n",
        "Постройте модель полиномиальной регрессии 2-ой степени на обучающей выборке (факторы должны быть нормализованы, целевую переменную используйте в логарифмическом масштабе). Все параметры оставьте по умолчанию.\n",
        "\n",
        "а) Для полученной модели рассчитайте метрику RMSLE на тренировочной и валидационной выборках. Ответ округлите до сотых.\n",
        "\n",
        "б) Наблюдаются ли у вашей модели признаки переобучения?\n"
      ]
    },
    {
      "cell_type": "code",
      "execution_count": null,
      "metadata": {
        "id": "gIIWA_arkBLu"
      },
      "outputs": [],
      "source": [
        "# ваш код здесь"
      ]
    },
    {
      "cell_type": "markdown",
      "metadata": {
        "id": "7ChD_MF6kBLv"
      },
      "source": [
        "### Задание 5.3.\n",
        "Постройте модель полиномиальной регрессии 2-ой степени с L2-регуляризацией (регуляризация по Тихонову) на обучающей выборке  (факторы должны быть нормализованы, целевую переменную используйте в логарифмическом масштабе). Коэффициент регуляризации $\\alpha$ установите равным 1, остальные параметры оставьте по умолчанию.\n",
        "\n",
        "Для полученной модели рассчитайте метрику RMSLE на тренировочной и валидационной выборках. Ответ округлите до сотых.\n"
      ]
    },
    {
      "cell_type": "code",
      "execution_count": null,
      "metadata": {
        "id": "pwcMCt3XkBLv"
      },
      "outputs": [],
      "source": [
        "# ваш код здесь"
      ]
    },
    {
      "cell_type": "markdown",
      "metadata": {
        "id": "aU5EJsIqkBLv"
      },
      "source": [
        "### Задание 5.4.\n",
        "Постройте модель дерева решений (DecisionTreeRegressor) на обучающей выборке (факторы должны быть нормализованы, целевую переменную используйте в логарифмическом масштабе). Все параметры оставьте по умолчанию.\n",
        "\n",
        "а) Для полученной модели рассчитайте метрику RMSLE на тренировочной и валидационной выборках. Ответ округлите до сотых.\n",
        "\n",
        "б) Наблюдаются ли у вашей модели признаки переобучения?\n"
      ]
    },
    {
      "cell_type": "code",
      "execution_count": null,
      "metadata": {
        "id": "SY1G4YcrkBLv"
      },
      "outputs": [],
      "source": [
        "# ваш код здесь"
      ]
    },
    {
      "cell_type": "markdown",
      "metadata": {
        "id": "1YJIlj4ykBLv"
      },
      "source": [
        "### Задание 5.5.\n",
        "Переберите все возможные варианты глубины дерева решений в диапазоне от 7 до 20:\n",
        "\n",
        "max_depths = range(7, 20)\n",
        "\n",
        "Постройте линейные графики изменения метрики RMSE на тренировочной и валидационной выборках в зависимости от значения параметра глубины дерева решений.\n",
        "\n",
        "а) Найдите оптимальное значение максимальной глубины дерева, для которой будет наблюдаться минимальное значение RMSLE на обучающей выборке, но при этом еще не будет наблюдаться переобучение (валидационная кривая еще не начинает возрастать).\n",
        "\n",
        "б) Чему равно значение метрик RMSLE на тренировочной и валидационной выборках для дерева решений с выбранной оптимальной глубиной? Ответ округлите до сотых.\n"
      ]
    },
    {
      "cell_type": "code",
      "execution_count": null,
      "metadata": {
        "id": "_MbTVYsWkBLv"
      },
      "outputs": [],
      "source": [
        "# ваш код здесь"
      ]
    },
    {
      "cell_type": "markdown",
      "metadata": {
        "id": "zUXrz7YDkBLv"
      },
      "source": [
        "## 6. Решение задачи регрессии: ансамблевые методы и построение прогноза"
      ]
    },
    {
      "cell_type": "markdown",
      "metadata": {
        "id": "297rnbaikBLv"
      },
      "source": [
        "Переходим к тяжелой артиллерии: ансамблевым алгоритмам."
      ]
    },
    {
      "cell_type": "markdown",
      "metadata": {
        "id": "ZIAGlVjqkBLw"
      },
      "source": [
        "### Задание 6.1.\n",
        "\n",
        "Постройте модель случайного леса на обучающей выборке (факторы должны быть нормализованы, целевую переменную используйте в логарифмическом масштабе). В качестве гиперпараметров укажите следующие:\n",
        "* n_estimators=200,\n",
        "* max_depth=12,\n",
        "* criterion='squared_error',\n",
        "* min_samples_split=20,\n",
        "* random_state=42\n",
        "\n",
        "Для полученной модели рассчитайте метрику RMSLE на тренировочной и валидационной выборках. Ответ округлите до сотых.\n"
      ]
    },
    {
      "cell_type": "code",
      "execution_count": null,
      "metadata": {
        "id": "QQQdFHWfkBLw"
      },
      "outputs": [],
      "source": [
        "# ваш код здесь"
      ]
    },
    {
      "cell_type": "markdown",
      "metadata": {
        "id": "JZz_qWKDkBLw"
      },
      "source": [
        "### Задание 6.2.\n",
        "Постройте модель градиентного бустинга над деревьями решений (GradientBoostingRegressor) на обучающей выборке (факторы должны быть нормализованы, целевую переменную используйте в логарифмическом масштабе). В качестве гиперпараметров укажите следующие:\n",
        "* learning_rate=0.5,\n",
        "* n_estimators=100,\n",
        "* max_depth=6,\n",
        "* min_samples_split=30,\n",
        "* random_state=42\n",
        "\n",
        "Для полученной модели рассчитайте метрику RMSLE на тренировочной и валидационной выборках. Ответ округлите до сотых.\n"
      ]
    },
    {
      "cell_type": "code",
      "execution_count": null,
      "metadata": {
        "id": "KnnmuhoSkBLw"
      },
      "outputs": [],
      "source": [
        "# ваш код здесь"
      ]
    },
    {
      "cell_type": "markdown",
      "metadata": {
        "id": "zC3NKXLhkBLw"
      },
      "source": [
        "### Задание 6.3.\n",
        "Какая из построенных вами моделей показала наилучший результат (наименьшее значение RMSLE на валидационной выборке)?\n",
        "* Линейная регрессия\n",
        "* Полиномиальная регрессия 2ой степени\n",
        "* Дерево решений\n",
        "* Случайный лес\n",
        "* Градиентный бустинг над деревьями решений\n"
      ]
    },
    {
      "cell_type": "markdown",
      "metadata": {
        "id": "eaBYTxnkkBLx"
      },
      "source": [
        "### Задание 6.4.\n",
        "Постройте столбчатую диаграмму коэффициентов значимости каждого из факторов.\n",
        "\n",
        "Укажите топ-3 наиболее значимых для предсказания целевого признака - длительности поездки в логарифмическом масштабе - факторов.\n"
      ]
    },
    {
      "cell_type": "code",
      "execution_count": null,
      "metadata": {
        "id": "KmYOePR8kBLx"
      },
      "outputs": [],
      "source": [
        "# ваш код здесь"
      ]
    },
    {
      "cell_type": "markdown",
      "metadata": {
        "id": "TQ4NzZaTkBLx"
      },
      "source": [
        "### Задание 6.5.\n",
        "Для лучшей из построенных моделей рассчитайте медианную абсолютную ошибку (MeAE - в sklearn функция median_absolute_error) предсказания длительности поездки такси на валидационной выборке:\n",
        "$$ MeAE = median(|y_i-\\hat{y_i}|)$$\n",
        "\n",
        "Значение метрики MeAE переведите в минуты и округлите до десятых.\n"
      ]
    },
    {
      "cell_type": "code",
      "execution_count": null,
      "metadata": {
        "id": "mOYteyJ-kBLx"
      },
      "outputs": [],
      "source": [
        "# ваш код здесь"
      ]
    },
    {
      "cell_type": "markdown",
      "metadata": {
        "id": "NZzsSUFfkBLx"
      },
      "source": [
        "Финальный шаг - сделать submit -  предсказание для отложенного тестового набора данных."
      ]
    },
    {
      "cell_type": "markdown",
      "metadata": {
        "id": "J12UJrZOkBLx"
      },
      "source": [
        "Прочитаем тестовые данные и заранее выделим столбец с идентификаторами поездок из тестового набора данных. Он нам еще пригодится:\n"
      ]
    },
    {
      "cell_type": "code",
      "execution_count": null,
      "metadata": {
        "id": "5KAzvZidkBLx"
      },
      "outputs": [],
      "source": [
        "test_data = pd.read_csv(\"data/test.csv\")\n",
        "osrm_data_test = pd.read_csv(\"data/osrm_data_test.csv\")\n",
        "test_id = test_data['id']"
      ]
    },
    {
      "cell_type": "markdown",
      "metadata": {
        "id": "sdrR42JrkBLy"
      },
      "source": [
        "Перед созданием прогноза для тестовой выборки необходимо произвести все манипуляции с данными, которые мы производили с тренировочной выборкой, а именно:\n",
        "* Перевести признак pickup_datetime в формат datetime;\n",
        "* Добавить новые признаки (временные, географические, погодные и другие факторы);\n",
        "* Произвести очистку данных от пропусков;\n",
        "* Произвести кодировку категориальных признаков:\n",
        "    * Закодировать бинарные признаки;\n",
        "    * Закодировать номинальные признаки с помощью обученного на тренировочной выборке OneHotEncoder’а;\n",
        "* Сформировать матрицу наблюдений, оставив в таблице только те признаки, которые были отобраны с помощью SelectKBest;\n",
        "* Нормализовать данные с помощью обученного на тренировочной выборке MinMaxScaler’а.\n"
      ]
    },
    {
      "cell_type": "code",
      "execution_count": null,
      "metadata": {
        "id": "nqWQbqhGkBLy"
      },
      "outputs": [],
      "source": [
        "test_data['pickup_datetime']=pd.to_datetime(test_data['pickup_datetime'],format='%Y-%m-%d %H:%M:%S')\n",
        "test_data = add_datetime_features(test_data)\n",
        "test_data = add_holiday_features(test_data, holiday_data)\n",
        "test_data = add_osrm_features(test_data, osrm_data_test)\n",
        "test_data = add_geographical_features(test_data)\n",
        "test_data = add_cluster_features(test_data, kmeans)\n",
        "test_data = add_weather_features(test_data, weather_data)\n",
        "test_data = fill_null_weather_data(test_data)\n",
        "\n",
        "test_data['vendor_id'] = test_data['vendor_id'].apply(lambda x: 0 if x == 1 else 1)\n",
        "test_data['store_and_fwd_flag'] = test_data['store_and_fwd_flag'].apply(lambda x: 0 if x == 'N' else 1)\n",
        "test_data_onehot = one_hot_encoder.fit_transform(test_data[columns_to_change]).toarray()\n",
        "column_names = one_hot_encoder.get_feature_names_out(columns_to_change)\n",
        "test_data_onehot = pd.DataFrame(test_data_onehot, columns=column_names)\n",
        "\n",
        "test_data = pd.concat(\n",
        "    [test_data.reset_index(drop=True).drop(columns_to_change, axis=1), test_data_onehot],\n",
        "    axis=1\n",
        ")\n",
        "X_test = test_data[best_features]\n",
        "X_test_scaled = scaler.transform(X_test)\n",
        "print('Shape of data: {}'.format(X_test.shape))"
      ]
    },
    {
      "cell_type": "markdown",
      "metadata": {
        "id": "24JJ64T4kBLy"
      },
      "source": [
        "Только после выполнения всех этих шагов можно сделать предсказание длительности поездки для тестовой выборки. Не забудьте перевести предсказания из логарифмического масштаба в истинный, используя формулу:\n",
        "$$y_i=exp(z_i)-1$$\n",
        "\n",
        "После того, как вы сформируете предсказание длительности поездок на тестовой выборке вам необходимо будет создать submission-файл в формате csv, отправить его на платформу Kaggle и посмотреть на результирующее значение метрики RMSLE на тестовой выборке.\n",
        "\n",
        "Код для создания submission-файла:\n"
      ]
    },
    {
      "cell_type": "code",
      "execution_count": null,
      "metadata": {
        "id": "JeMAzrHHkBLy"
      },
      "outputs": [],
      "source": [
        "# ваш код здесь\n",
        "submission = pd.DataFrame({'id': test_id, 'trip_duration': y_test_predict})\n",
        "submission.to_csv('data/submission_gb.csv', index=False)"
      ]
    },
    {
      "cell_type": "markdown",
      "metadata": {
        "id": "iU5BA_XDkBLy"
      },
      "source": [
        "### **В качестве бонуса**\n",
        "\n",
        "В завершение по ансамблевым мы предлагаем вам попробовать улучшить свое предсказание, воспользовавшись моделью экстремального градиентного бустинга (XGBoost) из библиотеки xgboost.\n",
        "\n",
        "**XGBoost** - современная модель машинного обучения, которая является продолжением идеи градиентного бустинга Фридмана. У нее есть несколько преимуществ по сравнению с классической моделью градиентного бустинга из библиотеки sklearn: повышенная производительность путем параллелизации процесса обучения, повышенное качество решения за счет усовершенствования алгоритма бустинга, меньшая склонность к переобучению и широкий функционал возможности управления параметрами модели.\n"
      ]
    },
    {
      "cell_type": "markdown",
      "metadata": {
        "id": "_FARWLbakBLy"
      },
      "source": [
        "Для ее использования необходимо для начала установить пакет xgboost:"
      ]
    },
    {
      "cell_type": "code",
      "execution_count": null,
      "metadata": {
        "id": "h8KXUhyGkBLy"
      },
      "outputs": [],
      "source": [
        "#!pip install xgboost"
      ]
    },
    {
      "cell_type": "markdown",
      "metadata": {
        "id": "urka0597kBLz"
      },
      "source": [
        "После чего модуль можно импортировать:"
      ]
    },
    {
      "cell_type": "code",
      "execution_count": null,
      "metadata": {
        "id": "kpLIalxfkBLz"
      },
      "outputs": [],
      "source": [
        "import xgboost as xgb"
      ]
    },
    {
      "cell_type": "markdown",
      "metadata": {
        "id": "CwJ80NU7kBLz"
      },
      "source": [
        "Перед обучением модели необходимо перевести наборы данных в тип данных xgboost.DMatrix:"
      ]
    },
    {
      "cell_type": "code",
      "execution_count": null,
      "metadata": {
        "id": "ehrdmZJekBLz"
      },
      "outputs": [],
      "source": [
        "# Создание матриц наблюдений в формате DMatrix\n",
        "dtrain = xgb.DMatrix(X_train_scaled, label=y_train_log, feature_names=best_features)\n",
        "dvalid = xgb.DMatrix(X_valid_scaled, label=y_valid_log, feature_names=best_features)\n",
        "dtest = xgb.DMatrix(X_test_scaled, feature_names=best_features)"
      ]
    },
    {
      "cell_type": "markdown",
      "metadata": {
        "id": "kW0LAucxkBLz"
      },
      "source": [
        "Обучение модели XGBoost происходит с помощью метода train, в который необходимо передать параметры модели, набор данных, количество базовых моделей в ансамбле, а также дополнительные параметры:\n"
      ]
    },
    {
      "cell_type": "code",
      "execution_count": null,
      "metadata": {
        "id": "u0uDs1YakBLz"
      },
      "outputs": [],
      "source": [
        "# Гиперпараметры модели\n",
        "xgb_pars = {'min_child_weight': 20, 'eta': 0.1, 'colsample_bytree': 0.9,\n",
        "            'max_depth': 6, 'subsample': 0.9, 'lambda': 1, 'nthread': -1,\n",
        "            'booster' : 'gbtree', 'eval_metric': 'rmse', 'objective': 'reg:squarederror'\n",
        "           }\n",
        "# Тренировочная и валидационная выборка\n",
        "watchlist = [(dtrain, 'train'), (dvalid, 'valid')]\n",
        "# Обучаем модель XGBoost\n",
        "model = xgb.train(\n",
        "    params=xgb_pars, #гиперпараметры модели\n",
        "    dtrain=dtrain, #обучающая выборка\n",
        "    num_boost_round=300, #количество моделей в ансамбле\n",
        "    evals=watchlist, #выборки, на которых считается матрица\n",
        "    early_stopping_rounds=20, #раняя остановка\n",
        "    maximize=False, #смена поиска максимума на минимум\n",
        "    verbose_eval=10 #шаг, через который происходит отображение метрик\n",
        ")"
      ]
    },
    {
      "cell_type": "markdown",
      "metadata": {
        "id": "nDiMljt5kBLz"
      },
      "source": [
        "Предсказать целевой признак на новых данных можно с помощью метода predict():"
      ]
    },
    {
      "cell_type": "code",
      "execution_count": null,
      "metadata": {
        "id": "XYBTeO7UkBLz"
      },
      "outputs": [],
      "source": [
        "#Делаем предсказание на тестовом наборе данных\n",
        "y_test_predict = np.exp(model.predict(dtest)) - 1\n",
        "print('Modeling RMSLE %.5f' % model.best_score)"
      ]
    },
    {
      "cell_type": "markdown",
      "metadata": {
        "id": "jgBn4xmikBLz"
      },
      "source": [
        "Также как и все модели, основанные на использовании деревьев решений в качестве базовых моделей, XGBoost имеет возможность определения коэффициентов важности факторов. Более того, в библиотеку встроена возможность визуализации важность факторов в виде столбчатой диаграммы. За эту возможность отвечает функция plot_importance():\n"
      ]
    },
    {
      "cell_type": "code",
      "execution_count": null,
      "metadata": {
        "id": "FEvlaqz4kBLz"
      },
      "outputs": [],
      "source": [
        "fig, ax = plt.subplots(figsize = (15,15))\n",
        "xgb.plot_importance(model, ax = ax, height=0.5)"
      ]
    }
  ],
  "metadata": {
    "colab": {
      "provenance": [],
      "toc_visible": true,
      "include_colab_link": true
    },
    "kernelspec": {
      "display_name": "Python 3 (ipykernel)",
      "language": "python",
      "name": "python3"
    },
    "language_info": {
      "codemirror_mode": {
        "name": "ipython",
        "version": 3
      },
      "file_extension": ".py",
      "mimetype": "text/x-python",
      "name": "python",
      "nbconvert_exporter": "python",
      "pygments_lexer": "ipython3",
      "version": "3.9.7"
    }
  },
  "nbformat": 4,
  "nbformat_minor": 0
}