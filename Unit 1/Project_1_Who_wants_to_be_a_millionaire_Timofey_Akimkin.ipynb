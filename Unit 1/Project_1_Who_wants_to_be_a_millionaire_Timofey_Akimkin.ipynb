{
  "nbformat": 4,
  "nbformat_minor": 0,
  "metadata": {
    "colab": {
      "name": "Project 1 Timofey Akimkin.ipynb",
      "provenance": [],
      "toc_visible": true,
      "include_colab_link": true
    },
    "kernelspec": {
      "display_name": "Python 3",
      "language": "python",
      "name": "python3"
    },
    "language_info": {
      "codemirror_mode": {
        "name": "ipython",
        "version": 3
      },
      "file_extension": ".py",
      "mimetype": "text/x-python",
      "name": "python",
      "nbconvert_exporter": "python",
      "pygments_lexer": "ipython3",
      "version": "3.7.4"
    }
  },
  "cells": [
    {
      "cell_type": "markdown",
      "metadata": {
        "id": "view-in-github",
        "colab_type": "text"
      },
      "source": [
        "<a href=\"https://colab.research.google.com/github/akitim/SkillFactory_projects/blob/main/Unit%201/Project_1_Who_wants_to_be_a_millionaire_Timofey_Akimkin.ipynb\" target=\"_parent\"><img src=\"https://colab.research.google.com/assets/colab-badge.svg\" alt=\"Open In Colab\"/></a>"
      ]
    },
    {
      "cell_type": "code",
      "metadata": {
        "_cell_guid": "b1076dfc-b9ad-4769-8c92-a6c4dae69d19",
        "_uuid": "8f2839f25d086af736a60e9eeb907d3b93b6e0e5",
        "id": "U2D2gTdJVp90",
        "colab": {
          "base_uri": "https://localhost:8080/"
        },
        "outputId": "df7ef31f-6cbd-4dbb-e6b0-e40a5dd3fd02"
      },
      "source": [
        "import numpy as np\n",
        "import pandas as pd\n",
        "import datetime as dt\n",
        "from itertools import combinations\n",
        "\n",
        "import sys\n",
        "from google.colab import drive\n",
        "drive.mount('/content/gdrive', force_remount=True)\n",
        "sys.path.clear\n",
        "sys.path.append('/content/gdrive/MyDrive/SkillFactory')"
      ],
      "execution_count": 3,
      "outputs": [
        {
          "output_type": "stream",
          "text": [
            "Mounted at /content/gdrive\n"
          ],
          "name": "stdout"
        }
      ]
    },
    {
      "cell_type": "markdown",
      "metadata": {
        "id": "xU3CaXKy9yvh"
      },
      "source": [
        "# Считывание датафрейма из файла"
      ]
    },
    {
      "cell_type": "code",
      "metadata": {
        "_cell_guid": "79c7e3d0-c299-4dcb-8224-4455121ee9b0",
        "_uuid": "d629ff2d2480ee46fbb7e2d37f6b5fab8052498a",
        "id": "oyGfxL3eVp9-",
        "colab": {
          "base_uri": "https://localhost:8080/",
          "height": 185
        },
        "outputId": "24ca0d59-3270-4fe1-ce19-69f49e8db14e"
      },
      "source": [
        "data = pd.read_csv('/content/gdrive/MyDrive/SkillFactory/movie_bd_v5.csv')\n",
        "data.sample(1)"
      ],
      "execution_count": 4,
      "outputs": [
        {
          "output_type": "execute_result",
          "data": {
            "text/html": [
              "<div>\n",
              "<style scoped>\n",
              "    .dataframe tbody tr th:only-of-type {\n",
              "        vertical-align: middle;\n",
              "    }\n",
              "\n",
              "    .dataframe tbody tr th {\n",
              "        vertical-align: top;\n",
              "    }\n",
              "\n",
              "    .dataframe thead th {\n",
              "        text-align: right;\n",
              "    }\n",
              "</style>\n",
              "<table border=\"1\" class=\"dataframe\">\n",
              "  <thead>\n",
              "    <tr style=\"text-align: right;\">\n",
              "      <th></th>\n",
              "      <th>imdb_id</th>\n",
              "      <th>budget</th>\n",
              "      <th>revenue</th>\n",
              "      <th>original_title</th>\n",
              "      <th>cast</th>\n",
              "      <th>director</th>\n",
              "      <th>tagline</th>\n",
              "      <th>overview</th>\n",
              "      <th>runtime</th>\n",
              "      <th>genres</th>\n",
              "      <th>production_companies</th>\n",
              "      <th>release_date</th>\n",
              "      <th>vote_average</th>\n",
              "      <th>release_year</th>\n",
              "    </tr>\n",
              "  </thead>\n",
              "  <tbody>\n",
              "    <tr>\n",
              "      <th>1210</th>\n",
              "      <td>tt1538403</td>\n",
              "      <td>60000000</td>\n",
              "      <td>90565421</td>\n",
              "      <td>The Mortal Instruments: City of Bones</td>\n",
              "      <td>Lily Collins|Jamie Campbell Bower|Kevin Zegers...</td>\n",
              "      <td>Harald Zwart</td>\n",
              "      <td>You have been chosen</td>\n",
              "      <td>In New York City, Clary Fray, a seemingly ordi...</td>\n",
              "      <td>130</td>\n",
              "      <td>Action|Adventure|Drama|Mystery|Romance</td>\n",
              "      <td>Constantin Film Produktion|Don Carmody Product...</td>\n",
              "      <td>8/21/2013</td>\n",
              "      <td>6.2</td>\n",
              "      <td>2013</td>\n",
              "    </tr>\n",
              "  </tbody>\n",
              "</table>\n",
              "</div>"
            ],
            "text/plain": [
              "        imdb_id    budget   revenue  ... release_date vote_average release_year\n",
              "1210  tt1538403  60000000  90565421  ...    8/21/2013          6.2         2013\n",
              "\n",
              "[1 rows x 14 columns]"
            ]
          },
          "metadata": {
            "tags": []
          },
          "execution_count": 4
        }
      ]
    },
    {
      "cell_type": "markdown",
      "metadata": {
        "id": "DTIt7ezGVp-G"
      },
      "source": [
        "# Предобработка"
      ]
    },
    {
      "cell_type": "code",
      "metadata": {
        "id": "jNb40DwKVp-H"
      },
      "source": [
        "answers = {}  # создадим словарь для ответов\n",
        "\n",
        "# здесь исправляется странное поведение Google Colab,\n",
        "# когда колонка release_date считывается то как timestamp,\n",
        "# то как string\n",
        "\n",
        "if type(data.release_date[0]) == str:\n",
        "    data.release_date = data.release_date.apply(\n",
        "        lambda x: dt.datetime.strptime(x, '%m/%d/%Y')) \n",
        "\n",
        "# добавляем колонку прибыли от проката 'profit'\n",
        "data['profit'] = data.revenue - data.budget\n",
        "\n",
        "# добавляем колонку месяца релиза фильма - 'month'\n",
        "data['month'] = data.release_date.apply(lambda x: x.month)\n",
        "\n",
        "# словарь для сопоставления номера месяца и его названия на русском\n",
        "# для 21-го вопроса\n",
        "months = {\n",
        "    1: 'январь',\n",
        "    2: 'февраль',\n",
        "    3: 'март',\n",
        "    4: 'апрель',\n",
        "    5: 'май',\n",
        "    6: 'июнь',\n",
        "    7: 'июль',\n",
        "    8: 'август',\n",
        "    9: 'сентябрь',\n",
        "   10: 'октябрь',\n",
        "   11: 'ноябрь',\n",
        "   12: 'декабрь'\n",
        "}\n",
        "\n",
        "# добавлям к датафейму столбец с кол-вом символов в названии фильма\n",
        "data['ot_length'] = data.original_title.apply(len)\n",
        "\n",
        "# функция принимает строку, возвращает количество слов\n",
        "# в строке разделенных пробелами\n",
        "def word_count(s):\n",
        "    return len(s.split(' '))\n",
        "\n",
        "# добавлям к датафейму столбец с количеством слов в описании фильма\n",
        "# для 25-го вопроса\n",
        "data['words_in_overview'] = data.overview.apply(word_count)\n",
        "\n",
        "# the time given in the dataset is in string format. - \"That my dear Balin, is not entirely true\"\n",
        "# So we need to change this in datetime format"
      ],
      "execution_count": 5,
      "outputs": []
    },
    {
      "cell_type": "markdown",
      "metadata": {
        "id": "YxZaH-nPVp-L"
      },
      "source": [
        "# 1. У какого фильма из списка самый большой бюджет?"
      ]
    },
    {
      "cell_type": "code",
      "metadata": {
        "id": "dZwb3m28Vp-S",
        "colab": {
          "base_uri": "https://localhost:8080/"
        },
        "outputId": "835d2972-7b6d-468e-bc69-ad51eb696e12"
      },
      "source": [
        "# тут пишем ваш код для решения данного вопроса:\n",
        "title1 = data[data.budget == data.budget.max()].original_title.iloc[0]\n",
        "id1 = data[data.budget == data.budget.max()].imdb_id.iloc[0]\n",
        "print(title1 + ' (' + id1 + ')')"
      ],
      "execution_count": 6,
      "outputs": [
        {
          "output_type": "stream",
          "text": [
            "Pirates of the Caribbean: On Stranger Tides (tt1298650)\n"
          ],
          "name": "stdout"
        }
      ]
    },
    {
      "cell_type": "code",
      "metadata": {
        "id": "uVnXAY5RVp-O"
      },
      "source": [
        "answers['01'] = 'Pirates of the Caribbean: On Stranger Tides (tt1298650)'"
      ],
      "execution_count": 7,
      "outputs": []
    },
    {
      "cell_type": "markdown",
      "metadata": {
        "id": "K7L3nbRXVp-X"
      },
      "source": [
        "ВАРИАНТ 2"
      ]
    },
    {
      "cell_type": "code",
      "metadata": {
        "id": "OGaoQI7rVp-X",
        "colab": {
          "base_uri": "https://localhost:8080/"
        },
        "outputId": "12e05ad6-267a-498a-f9ee-38d1706fe94f"
      },
      "source": [
        "title1 = data.query('budget == budget.max()').original_title.iloc[0]\n",
        "id1 = data.query('budget == budget.max()').imdb_id.iloc[0]\n",
        "print(title1 + ' (' + id1 + ')')"
      ],
      "execution_count": 8,
      "outputs": [
        {
          "output_type": "stream",
          "text": [
            "Pirates of the Caribbean: On Stranger Tides (tt1298650)\n"
          ],
          "name": "stdout"
        }
      ]
    },
    {
      "cell_type": "markdown",
      "metadata": {
        "id": "FNRbbI3vVp-c"
      },
      "source": [
        "# 2. Какой из фильмов самый длительный (в минутах)?"
      ]
    },
    {
      "cell_type": "code",
      "metadata": {
        "id": "ot-VX2XrVp-g",
        "colab": {
          "base_uri": "https://localhost:8080/"
        },
        "outputId": "8cfec7f0-a845-469e-ae54-4132014764ee"
      },
      "source": [
        "data_filtered2a = data[data.runtime == data.runtime.max()]\n",
        "\n",
        "title2a = data_filtered2a.original_title.iloc[0]\n",
        "id2a = data_filtered2a.imdb_id.iloc[0]\n",
        "\n",
        "print(title2a + ' (' + id2a + ')')"
      ],
      "execution_count": 9,
      "outputs": [
        {
          "output_type": "stream",
          "text": [
            "Gods and Generals (tt0279111)\n"
          ],
          "name": "stdout"
        }
      ]
    },
    {
      "cell_type": "markdown",
      "metadata": {
        "id": "gqr5viAhRQH3"
      },
      "source": [
        "ВАРИАНТ 2"
      ]
    },
    {
      "cell_type": "code",
      "metadata": {
        "colab": {
          "base_uri": "https://localhost:8080/"
        },
        "id": "0fDqcTEHOj3k",
        "outputId": "12b31d36-9713-4544-d956-e1c287a0e194"
      },
      "source": [
        "data_filtered2b = data.query('runtime == runtime.max()')\n",
        "\n",
        "title2b = data_filtered2b.original_title.iloc[0] \n",
        "id2b = data_filtered2b.imdb_id.iloc[0]\n",
        "\n",
        "print(title2b + ' (' + id2b + ')')"
      ],
      "execution_count": 10,
      "outputs": [
        {
          "output_type": "stream",
          "text": [
            "Gods and Generals (tt0279111)\n"
          ],
          "name": "stdout"
        }
      ]
    },
    {
      "cell_type": "code",
      "metadata": {
        "id": "vHAoEXNTVp-d"
      },
      "source": [
        "answers['02'] = 'Gods and Generals (tt0279111)'"
      ],
      "execution_count": 11,
      "outputs": []
    },
    {
      "cell_type": "markdown",
      "metadata": {
        "id": "bapLlpW8Vp-k"
      },
      "source": [
        "# 3. Какой из фильмов самый короткий (в минутах)?\n",
        "\n",
        "\n",
        "\n"
      ]
    },
    {
      "cell_type": "code",
      "metadata": {
        "id": "YBxaSHuAVp-l",
        "colab": {
          "base_uri": "https://localhost:8080/"
        },
        "outputId": "70084b0d-e559-48d7-c023-45d15ab20f1c"
      },
      "source": [
        "data_filtered3a = data[data.runtime == data.runtime.min()]\n",
        "\n",
        "title3a = data_filtered3a.original_title.iloc[0]\n",
        "id3a = data_filtered3a.imdb_id.iloc[0]\n",
        "\n",
        "print(title3a + ' (' + id3a + ')')\n"
      ],
      "execution_count": 12,
      "outputs": [
        {
          "output_type": "stream",
          "text": [
            "Winnie the Pooh (tt1449283)\n"
          ],
          "name": "stdout"
        }
      ]
    },
    {
      "cell_type": "markdown",
      "metadata": {
        "id": "dO1V3L48RSNJ"
      },
      "source": [
        "ВАРИАНТ 2"
      ]
    },
    {
      "cell_type": "code",
      "metadata": {
        "colab": {
          "base_uri": "https://localhost:8080/"
        },
        "id": "Fk_VUwDBRZ03",
        "outputId": "4832e045-ee53-4b02-a6ba-349a20533466"
      },
      "source": [
        "data_filtered3b = data.query('runtime == runtime.min()')\n",
        "\n",
        "title3b = data_filtered3b.original_title.iloc[0] \n",
        "id3b = data_filtered3b.imdb_id.iloc[0]\n",
        "\n",
        "print(title3b + ' (' + id3b + ')')"
      ],
      "execution_count": 13,
      "outputs": [
        {
          "output_type": "stream",
          "text": [
            "Winnie the Pooh (tt1449283)\n"
          ],
          "name": "stdout"
        }
      ]
    },
    {
      "cell_type": "code",
      "metadata": {
        "id": "YJuabOmVRig_"
      },
      "source": [
        "answers['03'] = 'Winnie the Pooh (tt1449283)'"
      ],
      "execution_count": 14,
      "outputs": []
    },
    {
      "cell_type": "markdown",
      "metadata": {
        "id": "TfQbxbfNVp-p"
      },
      "source": [
        "# 4. Какова средняя длительность фильмов?\n"
      ]
    },
    {
      "cell_type": "code",
      "metadata": {
        "colab": {
          "base_uri": "https://localhost:8080/"
        },
        "id": "9zKYSwpER5KS",
        "outputId": "d8c8649e-e017-4923-8da1-6b2ac58d299d"
      },
      "source": [
        "print (round(data.runtime.mean()))\n"
      ],
      "execution_count": 15,
      "outputs": [
        {
          "output_type": "stream",
          "text": [
            "110\n"
          ],
          "name": "stdout"
        }
      ]
    },
    {
      "cell_type": "code",
      "metadata": {
        "id": "qAzDdKo0ctaz"
      },
      "source": [
        "answers['04'] = '110'"
      ],
      "execution_count": 16,
      "outputs": []
    },
    {
      "cell_type": "markdown",
      "metadata": {
        "id": "r5TvbnT_Vp-u"
      },
      "source": [
        "# 5. Каково медианное значение длительности фильмов? "
      ]
    },
    {
      "cell_type": "code",
      "metadata": {
        "id": "iBROplKnVp-v",
        "colab": {
          "base_uri": "https://localhost:8080/"
        },
        "outputId": "ec73fa04-dc80-4992-fec6-5a64fb40843f"
      },
      "source": [
        "print (round(data.runtime.median()))\n"
      ],
      "execution_count": 17,
      "outputs": [
        {
          "output_type": "stream",
          "text": [
            "107\n"
          ],
          "name": "stdout"
        }
      ]
    },
    {
      "cell_type": "code",
      "metadata": {
        "id": "XJ_uHeDRcwcB"
      },
      "source": [
        "answers['05'] = '107'"
      ],
      "execution_count": 18,
      "outputs": []
    },
    {
      "cell_type": "markdown",
      "metadata": {
        "id": "39P-deDSVp-y"
      },
      "source": [
        "# 6. Какой самый прибыльный фильм?\n",
        "#### Внимание! Здесь и далее под «прибылью» или «убытками» понимается разность между сборами и бюджетом фильма. (прибыль = сборы - бюджет) в нашем датасете это будет (profit = revenue - budget) "
      ]
    },
    {
      "cell_type": "code",
      "metadata": {
        "id": "UYZh4T9WVp-y",
        "colab": {
          "base_uri": "https://localhost:8080/"
        },
        "outputId": "662c30ea-2d2b-4835-8b80-d27a1451f8fe"
      },
      "source": [
        "data_filtered6 = data.query(\"profit == profit.max()\")\n",
        "title6 = data_filtered6.original_title.iloc[0]\n",
        "id6 = data_filtered6.imdb_id.iloc[0]\n",
        "\n",
        "print(title6 + ' (' + id6 + ')')"
      ],
      "execution_count": 19,
      "outputs": [
        {
          "output_type": "stream",
          "text": [
            "Avatar (tt0499549)\n"
          ],
          "name": "stdout"
        }
      ]
    },
    {
      "cell_type": "code",
      "metadata": {
        "id": "wPwuub3Xc7TL"
      },
      "source": [
        "answers['06'] = 'Avatar (tt0499549)'"
      ],
      "execution_count": 20,
      "outputs": []
    },
    {
      "cell_type": "markdown",
      "metadata": {
        "id": "M99JmIX4Vp-2"
      },
      "source": [
        "# 7. Какой фильм самый убыточный? "
      ]
    },
    {
      "cell_type": "code",
      "metadata": {
        "id": "w-D2m4XPVp-3",
        "colab": {
          "base_uri": "https://localhost:8080/"
        },
        "outputId": "9e653b34-836f-4a3a-c17a-6f8161a7c7b0"
      },
      "source": [
        "data_filtered7 = data.query(\"profit == profit.min()\")\n",
        "title7 = data_filtered7.original_title.iloc[0]\n",
        "id7 = data_filtered7.imdb_id.iloc[0]\n",
        "\n",
        "print(title7 + ' (' + id7 + ')')\n"
      ],
      "execution_count": 21,
      "outputs": [
        {
          "output_type": "stream",
          "text": [
            "The Lone Ranger (tt1210819)\n"
          ],
          "name": "stdout"
        }
      ]
    },
    {
      "cell_type": "code",
      "metadata": {
        "id": "kbVJDLmadHlK"
      },
      "source": [
        "answers['07'] = 'The Lone Ranger (tt1210819)'"
      ],
      "execution_count": 22,
      "outputs": []
    },
    {
      "cell_type": "markdown",
      "metadata": {
        "id": "wEOM5ERVVp-6"
      },
      "source": [
        "# 8. У скольких фильмов из датасета объем сборов оказался выше бюджета?"
      ]
    },
    {
      "cell_type": "code",
      "metadata": {
        "id": "y00_7HD6Vp-7",
        "colab": {
          "base_uri": "https://localhost:8080/"
        },
        "outputId": "4e98a81a-0e07-468a-a29b-6807393d7168"
      },
      "source": [
        "data_filtered8 = data.query(\"profit > 0\")\n",
        "print(len(data_filtered8))\n"
      ],
      "execution_count": 23,
      "outputs": [
        {
          "output_type": "stream",
          "text": [
            "1478\n"
          ],
          "name": "stdout"
        }
      ]
    },
    {
      "cell_type": "code",
      "metadata": {
        "id": "uzW4YMoVbXKY"
      },
      "source": [
        "answers['08'] = 1478"
      ],
      "execution_count": 24,
      "outputs": []
    },
    {
      "cell_type": "markdown",
      "metadata": {
        "id": "xhpspA9KVp_A"
      },
      "source": [
        "# 9. Какой фильм оказался самым кассовым в 2008 году?"
      ]
    },
    {
      "cell_type": "code",
      "metadata": {
        "id": "MoUyQr9RVp_B",
        "colab": {
          "base_uri": "https://localhost:8080/"
        },
        "outputId": "921c9ca3-f64d-41ec-edb6-8d8328a312d5"
      },
      "source": [
        "data_2008 = data.query(\n",
        "    \"release_year == 2008\").query(\"revenue == revenue.max()\")\n",
        "\n",
        "print(data_2008.original_title.iloc[0] + ' (' +\n",
        "      data_2008.imdb_id.iloc[0] + ')'\n",
        ")\n"
      ],
      "execution_count": 25,
      "outputs": [
        {
          "output_type": "stream",
          "text": [
            "The Dark Knight (tt0468569)\n"
          ],
          "name": "stdout"
        }
      ]
    },
    {
      "cell_type": "code",
      "metadata": {
        "id": "x7x2T2aNeHNo"
      },
      "source": [
        "answers['09'] = 'The Dark Knight'"
      ],
      "execution_count": 26,
      "outputs": []
    },
    {
      "cell_type": "markdown",
      "metadata": {
        "id": "Zi4hDKidVp_F"
      },
      "source": [
        "# 10. Самый убыточный фильм за период с 2012 по 2014 г. (включительно)?\n"
      ]
    },
    {
      "cell_type": "code",
      "metadata": {
        "id": "XqyRmufJVp_F",
        "colab": {
          "base_uri": "https://localhost:8080/"
        },
        "outputId": "eeb395ff-0437-4fe8-ad3f-3752acac27f1"
      },
      "source": [
        "data_filtered10 = data.query(\n",
        "    \"(release_year >= 2012) & (release_year <= 2014)\"\n",
        "    ).query(\"profit == profit.min()\")\n",
        "\n",
        "print(\n",
        "    data_filtered10.original_title.iloc[0] + ' (' + \n",
        "    data_filtered10.imdb_id.iloc[0] + ')'\n",
        ")\n"
      ],
      "execution_count": 27,
      "outputs": [
        {
          "output_type": "stream",
          "text": [
            "The Lone Ranger (tt1210819)\n"
          ],
          "name": "stdout"
        }
      ]
    },
    {
      "cell_type": "code",
      "metadata": {
        "id": "4Dd1JeGldwJj"
      },
      "source": [
        "answers['10'] = 'The Lone Ranger (tt1210819)'"
      ],
      "execution_count": 28,
      "outputs": []
    },
    {
      "cell_type": "markdown",
      "metadata": {
        "id": "EA7Sa9dkVp_I"
      },
      "source": [
        "# 11. Какого жанра фильмов больше всего?"
      ]
    },
    {
      "cell_type": "code",
      "metadata": {
        "id": "otO3SbrSVp_N",
        "colab": {
          "base_uri": "https://localhost:8080/"
        },
        "outputId": "91f7f12f-15ae-475c-af20-dae7b3f8ae13"
      },
      "source": [
        "data11 = data.copy()\n",
        "\n",
        "data11.genres = data11.genres.str.split('|', expand=False)\n",
        "data11 = data11.explode('genres')\n",
        "\n",
        "genres_pvt11 = data11.pivot_table (values = ['imdb_id'],\n",
        "index=['genres'],\n",
        "aggfunc='count',\n",
        "fill_value=0,\n",
        "margins=True)\n",
        "\n",
        "print(genres_pvt11['imdb_id'].\n",
        "      sort_values(ascending = False).index[1])"
      ],
      "execution_count": 29,
      "outputs": [
        {
          "output_type": "stream",
          "text": [
            "Drama\n"
          ],
          "name": "stdout"
        }
      ]
    },
    {
      "cell_type": "code",
      "metadata": {
        "id": "-Jv_McqKd3Wy"
      },
      "source": [
        "answers['11'] = 'Drama'"
      ],
      "execution_count": 30,
      "outputs": []
    },
    {
      "cell_type": "markdown",
      "metadata": {
        "id": "T9_bPWpkVp_Q"
      },
      "source": [
        "# 12. Какого жанра среди прибыльных фильмов больше всего?"
      ]
    },
    {
      "cell_type": "code",
      "metadata": {
        "id": "Tmt8MaK1Vp_R",
        "colab": {
          "base_uri": "https://localhost:8080/"
        },
        "outputId": "bd9b057d-1986-4107-8a56-9ce556dbbcc8"
      },
      "source": [
        "# убираем из датафрейма неприбыльные фильмы\n",
        "data_profitable = data[ data.profit > 0 ].copy()\n",
        "\n",
        "# получаем датафрейм с разбивкой по отдельным жанрам\n",
        "data_profitable.genres = data_profitable.genres.str.split('|', expand=False)\n",
        "data_profitable = data_profitable.explode('genres')\n",
        "\n",
        "# вывод результата\n",
        "print(\n",
        "data_profitable.groupby( \n",
        "    by='genres'\n",
        "    ).count()['imdb_id'].sort_values(ascending=False).index[0]\n",
        ")\n"
      ],
      "execution_count": 31,
      "outputs": [
        {
          "output_type": "stream",
          "text": [
            "Drama\n"
          ],
          "name": "stdout"
        }
      ]
    },
    {
      "cell_type": "code",
      "metadata": {
        "id": "cbc0-ZXaeXiA"
      },
      "source": [
        "answers['12'] = 'Drama'"
      ],
      "execution_count": 32,
      "outputs": []
    },
    {
      "cell_type": "markdown",
      "metadata": {
        "id": "0F23bgsDVp_U"
      },
      "source": [
        "# 13. У какого режиссера самые большие суммарные кассовые сборы?"
      ]
    },
    {
      "cell_type": "code",
      "metadata": {
        "id": "K6Z3J8ygVp_X",
        "colab": {
          "base_uri": "https://localhost:8080/"
        },
        "outputId": "9ae11c1b-40b4-40a6-bdd9-03ad0caf7e20"
      },
      "source": [
        "data13 = data.copy()\n",
        "\n",
        "# разбиваем датафрейм по отдельным режиссерам\n",
        "# на случай, если у фильма более одного режиссера\n",
        "data13.director = data13.director.str.split('|', expand=False)\n",
        "data_expl13 = data.explode('director')\n",
        "\n",
        "gp13 = data_expl13.groupby(by='director').sum()['profit']\n",
        "\n",
        "# вывод результата\n",
        "print (gp13[gp13 == gp13.max()].index[0])"
      ],
      "execution_count": 33,
      "outputs": [
        {
          "output_type": "stream",
          "text": [
            "Peter Jackson\n"
          ],
          "name": "stdout"
        }
      ]
    },
    {
      "cell_type": "code",
      "metadata": {
        "id": "281TzrhHe3sb"
      },
      "source": [
        "answers['13'] = 'Peter Jackson'"
      ],
      "execution_count": 34,
      "outputs": []
    },
    {
      "cell_type": "markdown",
      "metadata": {
        "id": "PsYC9FgRVp_a"
      },
      "source": [
        "# 14. Какой режисер снял больше всего фильмов в стиле Action?"
      ]
    },
    {
      "cell_type": "code",
      "metadata": {
        "id": "wd2M-wHeVp_b",
        "colab": {
          "base_uri": "https://localhost:8080/"
        },
        "outputId": "1cc15a9d-559b-4a9f-edde-1eb3de8cb26d"
      },
      "source": [
        "data14 = data.copy()\n",
        "\n",
        "data14.director = data14.director.str.split('|', expand=False)\n",
        "data14 = data14.explode('director')\n",
        "\n",
        "data14.genres = data14.genres.str.split('|', expand=False)\n",
        "data14 = data14.explode('genres')\n",
        "\n",
        "pvt14 = data14.pivot_table (values = ['imdb_id'],\n",
        "index = ['genres'],\n",
        "columns = ['director'],\n",
        "aggfunc = 'count',\n",
        "fill_value = 0,\n",
        "margins = False\n",
        ")\n",
        "\n",
        "max_action = pvt14.loc[\"Action\"]\n",
        "print(max_action[max_action == max_action.max()].index[0][1])"
      ],
      "execution_count": 35,
      "outputs": [
        {
          "output_type": "stream",
          "text": [
            "Robert Rodriguez\n"
          ],
          "name": "stdout"
        }
      ]
    },
    {
      "cell_type": "code",
      "metadata": {
        "id": "zqk4t7crf3WQ"
      },
      "source": [
        "answers['14'] = 'Robert Rodriguez'"
      ],
      "execution_count": 36,
      "outputs": []
    },
    {
      "cell_type": "markdown",
      "metadata": {
        "id": "PQ0KciD7Vp_f"
      },
      "source": [
        "# 15. Фильмы с каким актером принесли самые высокие кассовые сборы в 2012 году?"
      ]
    },
    {
      "cell_type": "code",
      "metadata": {
        "id": "aga62oeKVp_g",
        "colab": {
          "base_uri": "https://localhost:8080/"
        },
        "outputId": "057aa55d-2f16-45a9-d61a-d53d778d2acc"
      },
      "source": [
        "data15 = data.copy()\n",
        "\n",
        "data15.cast = data15.cast.str.split('|', expand=False)\n",
        "data15 = data15.explode('cast')\n",
        "\n",
        "data15 = data15[data15.release_year == 2012].groupby(by='cast').sum()\n",
        "\n",
        "print(\n",
        "    data15[data15.revenue == data15.revenue.max()].index[0]\n",
        ")"
      ],
      "execution_count": 66,
      "outputs": [
        {
          "output_type": "stream",
          "text": [
            "Chris Hemsworth\n"
          ],
          "name": "stdout"
        }
      ]
    },
    {
      "cell_type": "code",
      "metadata": {
        "id": "rfDW57BABz7K"
      },
      "source": [
        "answers['15'] = 'Chris Hemsworth'"
      ],
      "execution_count": 38,
      "outputs": []
    },
    {
      "cell_type": "markdown",
      "metadata": {
        "id": "mWHyyL7QVp_j"
      },
      "source": [
        "# 16. Какой актер снялся в большем количестве высокобюджетных фильмов?"
      ]
    },
    {
      "cell_type": "code",
      "metadata": {
        "id": "qQtmHKTFVp_k",
        "colab": {
          "base_uri": "https://localhost:8080/"
        },
        "outputId": "7045d289-ff6d-4ad1-8b85-82444eb08c05"
      },
      "source": [
        "data_expl16 = data.copy()\n",
        "\n",
        "data_expl16.cast = data_expl16.cast.str.split('|', expand=False)\n",
        "data_expl16 = data_expl16.explode('cast')\n",
        "\n",
        "data_expl16 = data_expl16[data_expl16.budget > data_expl16.budget.mean()]\n",
        "print(data_expl16['cast'].value_counts().index[0])\n"
      ],
      "execution_count": 39,
      "outputs": [
        {
          "output_type": "stream",
          "text": [
            "Matt Damon\n"
          ],
          "name": "stdout"
        }
      ]
    },
    {
      "cell_type": "code",
      "metadata": {
        "id": "5dw41wlBUSgJ"
      },
      "source": [
        "answers['16'] = 'Matt Damon'"
      ],
      "execution_count": 40,
      "outputs": []
    },
    {
      "cell_type": "markdown",
      "metadata": {
        "id": "NIh6AaW5Vp_n"
      },
      "source": [
        "# 17. В фильмах какого жанра больше всего снимался Nicolas Cage?"
      ]
    },
    {
      "cell_type": "code",
      "metadata": {
        "id": "H74SJDIBVp_n",
        "colab": {
          "base_uri": "https://localhost:8080/"
        },
        "outputId": "0f227d9a-985f-4f11-832f-42d3d055d531"
      },
      "source": [
        "data_expl17 = data.copy()\n",
        "\n",
        "data_expl17.cast = data_expl17.cast.str.split('|', expand=False)\n",
        "data_expl17 = data_expl17.explode('cast')\n",
        "\n",
        "data_expl17.genres = data_expl17.genres.str.split('|', expand=False)\n",
        "data_expl17 = data_expl17.explode('genres')\n",
        "\n",
        "se17 = data_expl17[\n",
        "               data_expl17.cast == 'Nicolas Cage'\n",
        "                ].groupby(by='genres').count().imdb_id\n",
        "print(se17[se17==se17.max()].index[0])\n"
      ],
      "execution_count": 41,
      "outputs": [
        {
          "output_type": "stream",
          "text": [
            "Action\n"
          ],
          "name": "stdout"
        }
      ]
    },
    {
      "cell_type": "code",
      "metadata": {
        "id": "eus_42ECIX20"
      },
      "source": [
        "answers['17'] = 'Action'\n"
      ],
      "execution_count": 42,
      "outputs": []
    },
    {
      "cell_type": "markdown",
      "metadata": {
        "id": "RqOmPRfWVp_q"
      },
      "source": [
        "# 18. Самый убыточный фильм от Paramount Pictures"
      ]
    },
    {
      "cell_type": "code",
      "metadata": {
        "id": "9E_B0Y96Vp_r",
        "colab": {
          "base_uri": "https://localhost:8080/"
        },
        "outputId": "491e9b03-90f1-4c87-e18f-9e553445fb28"
      },
      "source": [
        "data_expl18 = data.copy()\n",
        "\n",
        "data_expl18.production_companies = data_expl18.production_companies.str.split(\n",
        "    '|', expand=False)\n",
        "data_expl18 = data_expl18.explode('production_companies')\n",
        " \n",
        "data_expl18 = data_expl18[data_expl18.production_companies == 'Paramount Pictures']\n",
        "df18 = data_expl18[data_expl18.profit == \n",
        "                             data_expl18.profit.min()]\n",
        "title18 = df18['original_title'].values[0]\n",
        "id18 = df18['imdb_id'].values[0]\n",
        " \n",
        "print( title18 + ' (' + id18 + ')')"
      ],
      "execution_count": 43,
      "outputs": [
        {
          "output_type": "stream",
          "text": [
            "K-19: The Widowmaker (tt0267626)\n"
          ],
          "name": "stdout"
        }
      ]
    },
    {
      "cell_type": "code",
      "metadata": {
        "id": "Mc-9stTsXKLi"
      },
      "source": [
        "answers['18'] = 'K-19: The Widowmaker (tt0267626)'"
      ],
      "execution_count": 44,
      "outputs": []
    },
    {
      "cell_type": "markdown",
      "metadata": {
        "id": "vS8Ur6ddVp_u"
      },
      "source": [
        "# 19. Какой год стал самым успешным по суммарным кассовым сборам?"
      ]
    },
    {
      "cell_type": "code",
      "metadata": {
        "id": "Dnbt4GdIVp_v",
        "colab": {
          "base_uri": "https://localhost:8080/"
        },
        "outputId": "d090cf52-a67f-4dbc-d0f7-6921a5a00422"
      },
      "source": [
        "se19 = data.groupby(by='release_year').sum().revenue\n",
        "se19[se19 == se19.max()].index[0]"
      ],
      "execution_count": 45,
      "outputs": [
        {
          "output_type": "execute_result",
          "data": {
            "text/plain": [
              "2015"
            ]
          },
          "metadata": {
            "tags": []
          },
          "execution_count": 45
        }
      ]
    },
    {
      "cell_type": "code",
      "metadata": {
        "id": "l0GzJUQaY980"
      },
      "source": [
        "answers['19'] = 2015"
      ],
      "execution_count": 46,
      "outputs": []
    },
    {
      "cell_type": "markdown",
      "metadata": {
        "id": "JAzJh4QAVp_z"
      },
      "source": [
        "# 20. Какой самый прибыльный год для студии Warner Bros?"
      ]
    },
    {
      "cell_type": "code",
      "metadata": {
        "id": "wgVu02DEVp_0",
        "colab": {
          "base_uri": "https://localhost:8080/"
        },
        "outputId": "1307488d-8a63-4307-cd39-e71f4330245d"
      },
      "source": [
        "data20 = data.copy()\n",
        "\n",
        "data20.production_companies = data20.production_companies.str.split(\n",
        "    '|', expand=False )\n",
        "\n",
        "data20 = data20.explode(\n",
        "    'production_companies')\n",
        "\n",
        "se20 = data20[\n",
        "              data20.production_companies.str.contains('Warner Bros')\n",
        "              ].groupby(by='release_year').sum().profit\n",
        "\n",
        "print (se20[se20 == se20.max()].index[0])"
      ],
      "execution_count": 47,
      "outputs": [
        {
          "output_type": "stream",
          "text": [
            "2014\n"
          ],
          "name": "stdout"
        }
      ]
    },
    {
      "cell_type": "code",
      "metadata": {
        "id": "9EcY4j5fa8xN"
      },
      "source": [
        "answers['20'] = 2015"
      ],
      "execution_count": 48,
      "outputs": []
    },
    {
      "cell_type": "markdown",
      "metadata": {
        "id": "8Im1S2HRVp_4"
      },
      "source": [
        "# 21. В каком месяце за все годы суммарно вышло больше всего фильмов?"
      ]
    },
    {
      "cell_type": "code",
      "metadata": {
        "id": "lev6TH7gVp_4",
        "colab": {
          "base_uri": "https://localhost:8080/"
        },
        "outputId": "63a5f620-48bf-4d16-e6fb-267200c14b60"
      },
      "source": [
        "data21 = data.copy()\n",
        "\n",
        "data21.groupby(by='month').count()\n",
        "\n",
        "print (months[data.month.value_counts().index[0]])\n"
      ],
      "execution_count": 49,
      "outputs": [
        {
          "output_type": "stream",
          "text": [
            "сентябрь\n"
          ],
          "name": "stdout"
        }
      ]
    },
    {
      "cell_type": "code",
      "metadata": {
        "id": "kx1CL67pdzPu"
      },
      "source": [
        "answers['21'] = 'сентябрь'"
      ],
      "execution_count": 50,
      "outputs": []
    },
    {
      "cell_type": "markdown",
      "metadata": {
        "id": "uAJsZ_NeVp_7"
      },
      "source": [
        "# 22. Сколько суммарно вышло фильмов летом? (за июнь, июль, август)"
      ]
    },
    {
      "cell_type": "code",
      "metadata": {
        "id": "Aa-hEREoVp_8",
        "colab": {
          "base_uri": "https://localhost:8080/"
        },
        "outputId": "1570c80e-373d-4d7c-c920-8fd7ffbfa256"
      },
      "source": [
        "data22 = data.copy()\n",
        "\n",
        "data22['month'] = data22.release_date.apply(lambda x: x.month)\n",
        "\n",
        "data22[(data22.month >= 6) & (data22.month <= 8)]['imdb_id'].nunique()"
      ],
      "execution_count": 51,
      "outputs": [
        {
          "output_type": "execute_result",
          "data": {
            "text/plain": [
              "450"
            ]
          },
          "metadata": {
            "tags": []
          },
          "execution_count": 51
        }
      ]
    },
    {
      "cell_type": "code",
      "metadata": {
        "id": "902dTOWD6VoC"
      },
      "source": [
        "answers['22'] = 450"
      ],
      "execution_count": 52,
      "outputs": []
    },
    {
      "cell_type": "markdown",
      "metadata": {
        "id": "G94ppOY1VqAA"
      },
      "source": [
        "# 23. Для какого режиссера зима – самое продуктивное время года? "
      ]
    },
    {
      "cell_type": "code",
      "metadata": {
        "id": "RhNTsamuVqAB",
        "colab": {
          "base_uri": "https://localhost:8080/"
        },
        "outputId": "6770c8a3-b496-41c1-8115-7426b05c5e95"
      },
      "source": [
        "data23 = data.copy()\n",
        "\n",
        "data23['month'] = data23.release_date.apply(lambda x: x.month)\n",
        "\n",
        "data23.director = data23.director.str.split('|', expand=False)\n",
        "data23 = data23.explode('director')\n",
        "\n",
        "print(\n",
        "    data23[(data23.month == 12) |\n",
        "              (data23.month <= 2)]['director'].value_counts().index[0]\n",
        ")"
      ],
      "execution_count": 53,
      "outputs": [
        {
          "output_type": "stream",
          "text": [
            "Peter Jackson\n"
          ],
          "name": "stdout"
        }
      ]
    },
    {
      "cell_type": "code",
      "metadata": {
        "id": "DrFx6ICT4a3M"
      },
      "source": [
        "answers['23'] = 'Peter Jackson'"
      ],
      "execution_count": 54,
      "outputs": []
    },
    {
      "cell_type": "markdown",
      "metadata": {
        "id": "RBo0JVjVVqAF"
      },
      "source": [
        "# 24. Какая студия дает самые длинные названия своим фильмам по количеству символов?"
      ]
    },
    {
      "cell_type": "code",
      "metadata": {
        "id": "QRGS8L0iVqAG",
        "colab": {
          "base_uri": "https://localhost:8080/"
        },
        "outputId": "9618a1a8-f4fd-4546-bc5e-628aa3389119"
      },
      "source": [
        "data24 = data.copy()\n",
        "\n",
        "data24.production_companies = data24.production_companies.str.split(\n",
        "    '|', expand=False)\n",
        "data24 = data24.explode('production_companies')\n",
        "\n",
        "print(data24.groupby(\n",
        "    'production_companies').mean().ot_length.sort_values(\n",
        "        ascending=False).index[0]\n",
        "      )"
      ],
      "execution_count": 55,
      "outputs": [
        {
          "output_type": "stream",
          "text": [
            "Four By Two Productions\n"
          ],
          "name": "stdout"
        }
      ]
    },
    {
      "cell_type": "code",
      "metadata": {
        "id": "e_f3FSbgOTjm"
      },
      "source": [
        "answers['24'] = 'Four By Two Productions'"
      ],
      "execution_count": 56,
      "outputs": []
    },
    {
      "cell_type": "markdown",
      "metadata": {
        "id": "9G0hbvR7VqAK"
      },
      "source": [
        "# 25. Описание фильмов какой студии\n",
        "# в среднем самые длинные по количеству слов?"
      ]
    },
    {
      "cell_type": "code",
      "metadata": {
        "id": "Ge2GsLNxVqAK",
        "colab": {
          "base_uri": "https://localhost:8080/"
        },
        "outputId": "67cc4318-d74e-4f1a-caa5-5ee25251bd07"
      },
      "source": [
        "data25 = data.copy()\n",
        "\n",
        "data25.production_companies = data25.production_companies.str.split(\n",
        "    '|', expand=False\n",
        "    )\n",
        "data25 = data25.explode('production_companies')\n",
        "\n",
        "print(data25.groupby(\n",
        "    'production_companies').mean().words_in_overview.sort_values(\n",
        "        ascending=False).index[0])"
      ],
      "execution_count": 57,
      "outputs": [
        {
          "output_type": "stream",
          "text": [
            "Midnight Picture Show\n"
          ],
          "name": "stdout"
        }
      ]
    },
    {
      "cell_type": "code",
      "metadata": {
        "id": "AK-_jBArAApV"
      },
      "source": [
        "answers['25'] = 'Midnight Picture Show'"
      ],
      "execution_count": 58,
      "outputs": []
    },
    {
      "cell_type": "markdown",
      "metadata": {
        "id": "FJ1AFt90VqAP"
      },
      "source": [
        "# 26. Какие фильмы входят в 1 процент лучших по рейтингу?\n",
        "по vote_average"
      ]
    },
    {
      "cell_type": "code",
      "metadata": {
        "id": "8qmJVq4CVqAQ",
        "colab": {
          "base_uri": "https://localhost:8080/"
        },
        "outputId": "3c9e4919-5965-4f10-91b4-6836682e9eab"
      },
      "source": [
        "# задаем порог в процентах лучших фильмов по рейтингу\n",
        "best_percentage = 1\n",
        "\n",
        "# вычисляем соотв. порогу квантиль\n",
        "best_percentage_quantile = data.vote_average.quantile(1 - best_percentage/100)\n",
        "\n",
        "print (\n",
        "    data[data.vote_average > best_percentage_quantile]['original_title'].values\n",
        ")\n"
      ],
      "execution_count": 59,
      "outputs": [
        {
          "output_type": "stream",
          "text": [
            "['Inside Out' 'Room' 'Interstellar' 'Guardians of the Galaxy'\n",
            " 'The Imitation Game' 'Gone Girl' 'The Grand Budapest Hotel' 'Inception'\n",
            " 'The Dark Knight' 'The Pianist'\n",
            " 'The Lord of the Rings: The Return of the King' 'The Wolf of Wall Street'\n",
            " '12 Years a Slave' 'Memento']\n"
          ],
          "name": "stdout"
        }
      ]
    },
    {
      "cell_type": "code",
      "metadata": {
        "id": "RcTnjIqpk3uT"
      },
      "source": [
        "answers['26'] = ['Inside Out', 'The Dark Knight', '12 Years a Slave']"
      ],
      "execution_count": 60,
      "outputs": []
    },
    {
      "cell_type": "markdown",
      "metadata": {
        "id": "MdXsUXbCVqAV"
      },
      "source": [
        "# 27. Какие актеры чаще всего снимаются в одном фильме вместе?\n"
      ]
    },
    {
      "cell_type": "code",
      "metadata": {
        "colab": {
          "base_uri": "https://localhost:8080/"
        },
        "id": "zElwMjCROz6e",
        "outputId": "21d5440e-aee4-4d3c-9986-59c9fac6c03d"
      },
      "source": [
        "data27 = data.copy()\n",
        "\n",
        "data27.cast = data27.cast.str.split('|', expand=False)\n",
        "\n",
        "# в столбце 'cast' строка с актерским составом меняется на список из\n",
        "# кортежей всевозможных пар актеров, игравших в данном фильме -\n",
        "# так мы получаем пары актеров, игравших хотя бы в одном фильме вместе\n",
        "data27.cast = data27.cast.apply(\n",
        "    lambda actor: list(combinations(actor, 2)))\n",
        "\n",
        "# разбиваем датафрейм по парам актеров\n",
        "data_valid_pairs = data27.explode('cast')\n",
        "\n",
        "# считаем, какая пара актеров встречается чаще всего\n",
        "data_valid_pairs.groupby(\n",
        "    by='cast'\n",
        "    ).count()[\n",
        "              'imdb_id'\n",
        "                      ].sort_values(ascending=False).index[1]\n"
      ],
      "execution_count": 61,
      "outputs": [
        {
          "output_type": "execute_result",
          "data": {
            "text/plain": [
              "('Daniel Radcliffe', 'Rupert Grint')"
            ]
          },
          "metadata": {
            "tags": []
          },
          "execution_count": 61
        }
      ]
    },
    {
      "cell_type": "code",
      "metadata": {
        "id": "ctX3ZnQQYr_s"
      },
      "source": [
        "answers['27'] = ('Daniel Radcliffe', 'Rupert Grint')"
      ],
      "execution_count": 62,
      "outputs": []
    },
    {
      "cell_type": "markdown",
      "metadata": {
        "id": "U0nONFnGVqAX"
      },
      "source": [
        "# Submission"
      ]
    },
    {
      "cell_type": "code",
      "metadata": {
        "id": "IfcaRO9-VqAX",
        "colab": {
          "base_uri": "https://localhost:8080/"
        },
        "outputId": "a523d93f-6201-4095-df60-701fbc2e03f8"
      },
      "source": [
        "answers"
      ],
      "execution_count": 65,
      "outputs": [
        {
          "output_type": "execute_result",
          "data": {
            "text/plain": [
              "{'01': 'Pirates of the Caribbean: On Stranger Tides (tt1298650)',\n",
              " '02': 'Gods and Generals (tt0279111)',\n",
              " '03': 'Winnie the Pooh (tt1449283)',\n",
              " '04': '110',\n",
              " '05': '107',\n",
              " '06': 'Avatar (tt0499549)',\n",
              " '07': 'The Lone Ranger (tt1210819)',\n",
              " '08': 1478,\n",
              " '09': 'The Dark Knight',\n",
              " '10': 'The Lone Ranger (tt1210819)',\n",
              " '11': 'Drama',\n",
              " '12': 'Drama',\n",
              " '13': 'Peter Jackson',\n",
              " '14': 'Robert Rodriguez',\n",
              " '15': 'Chris Hemsworth',\n",
              " '16': 'Matt Damon',\n",
              " '17': 'Action',\n",
              " '18': 'K-19: The Widowmaker (tt0267626)',\n",
              " '19': 2015,\n",
              " '20': 2015,\n",
              " '21': 'сентябрь',\n",
              " '22': 450,\n",
              " '23': 'Peter Jackson',\n",
              " '24': 'Four By Two Productions',\n",
              " '25': 'Midnight Picture Show',\n",
              " '26': ['Inside Out', 'The Dark Knight', '12 Years a Slave'],\n",
              " '27': ('Daniel Radcliffe', 'Rupert Grint')}"
            ]
          },
          "metadata": {
            "tags": []
          },
          "execution_count": 65
        }
      ]
    },
    {
      "cell_type": "code",
      "metadata": {
        "id": "SiRmHPl8VqAd",
        "colab": {
          "base_uri": "https://localhost:8080/"
        },
        "outputId": "a9c73fe2-8549-4047-b6c3-b31ef1a0e0f7"
      },
      "source": [
        "# и убедиться что ни чего не пропустил)\n",
        "len(answers)\n"
      ],
      "execution_count": 64,
      "outputs": [
        {
          "output_type": "execute_result",
          "data": {
            "text/plain": [
              "27"
            ]
          },
          "metadata": {
            "tags": []
          },
          "execution_count": 64
        }
      ]
    }
  ]
}